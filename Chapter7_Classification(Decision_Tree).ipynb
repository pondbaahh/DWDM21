{
  "nbformat": 4,
  "nbformat_minor": 0,
  "metadata": {
    "colab": {
      "name": "Chapter7 Classification(Decision Tree).ipynb",
      "provenance": [],
      "authorship_tag": "ABX9TyN3lr/a+PCpqZU5MY86eQ5c",
      "include_colab_link": true
    },
    "kernelspec": {
      "name": "python3",
      "display_name": "Python 3"
    },
    "language_info": {
      "name": "python"
    }
  },
  "cells": [
    {
      "cell_type": "markdown",
      "metadata": {
        "id": "view-in-github",
        "colab_type": "text"
      },
      "source": [
        "<a href=\"https://colab.research.google.com/github/pondbaahh/DWDM21/blob/main/Chapter7_Classification(Decision_Tree).ipynb\" target=\"_parent\"><img src=\"https://colab.research.google.com/assets/colab-badge.svg\" alt=\"Open In Colab\"/></a>"
      ]
    },
    {
      "cell_type": "markdown",
      "metadata": {
        "id": "upk4tGV6u3op"
      },
      "source": [
        "siki-learn คือ package ที่รวบรวมอัลกอริทึมที่เกี่ยวข้องกับ machine learning-data mining(sklearn)"
      ]
    },
    {
      "cell_type": "markdown",
      "metadata": {
        "id": "jH1DujnDjags"
      },
      "source": [
        "criterion = ให้เลือกเกณฑ์ entropy = plog gini = pกำลังสอง"
      ]
    },
    {
      "cell_type": "markdown",
      "metadata": {
        "id": "iYQduIU7jbM3"
      },
      "source": [
        "เลือกเกณฑ์ว่าตัวไหนเป็นฟีเจอร์ที่ดีที่สุด\n",
        "\n",
        "Gini คือเกณฑ์ที่โครงสร้างการตัดสินใจต้องพิจารณาในขณะที่แยกคุณลักษณะที่มีอยู่ในชุดข้อมูล (คุณภาพของการแยก) เพื่อทำการตัดสินใจ"
      ]
    },
    {
      "cell_type": "markdown",
      "metadata": {
        "id": "9z4BpPmSjWGK"
      },
      "source": [
        "splitter ถ้าเกิดฟีเจอร์นั้นเป็นตัวเลขเราจะแบ่ง node ยังไง\n",
        "\n",
        "Max_dept คือ จำนวนชั้นต้นไม้ที่เราจะให้มันหยุดโต/ความสูงต้นไม้ห้ามเกิน\n",
        "\n",
        "Min_samples_split คือ จำนวน Data ที่น้อยที่สุดที่จะทำให้เราแบ่ง node ต่อไป\n",
        "\n",
        "Min_samples_leaf คือ จำนวน sample ขั้นต่ำที่ leaf ต้องมี\n",
        "\n",
        "Max_leaf_nodes คือ จำนวน leaf node ห้ามเกิน\n",
        "\n",
        "random_state / random seed เป็นตัวตั้งต้นของการ random"
      ]
    },
    {
      "cell_type": "code",
      "metadata": {
        "id": "-dcLhImYu866"
      },
      "source": [
        ""
      ],
      "execution_count": null,
      "outputs": []
    },
    {
      "cell_type": "markdown",
      "metadata": {
        "id": "6Qovy_8DulaO"
      },
      "source": [
        "# Load Data"
      ]
    },
    {
      "cell_type": "code",
      "metadata": {
        "id": "J6Ly_cQKuxkT"
      },
      "source": [
        "from sklearn import datasets\n",
        "\n",
        "iris_data = datasets.load_iris()  # iris คือ ดอกไม้"
      ],
      "execution_count": 1,
      "outputs": []
    },
    {
      "cell_type": "code",
      "metadata": {
        "colab": {
          "base_uri": "https://localhost:8080/"
        },
        "id": "PDhMfrGcvvvB",
        "outputId": "1d6958b0-637e-49d1-df5c-947667a0e389"
      },
      "source": [
        "iris_data"
      ],
      "execution_count": 2,
      "outputs": [
        {
          "output_type": "execute_result",
          "data": {
            "text/plain": [
              "{'DESCR': '.. _iris_dataset:\\n\\nIris plants dataset\\n--------------------\\n\\n**Data Set Characteristics:**\\n\\n    :Number of Instances: 150 (50 in each of three classes)\\n    :Number of Attributes: 4 numeric, predictive attributes and the class\\n    :Attribute Information:\\n        - sepal length in cm\\n        - sepal width in cm\\n        - petal length in cm\\n        - petal width in cm\\n        - class:\\n                - Iris-Setosa\\n                - Iris-Versicolour\\n                - Iris-Virginica\\n                \\n    :Summary Statistics:\\n\\n    ============== ==== ==== ======= ===== ====================\\n                    Min  Max   Mean    SD   Class Correlation\\n    ============== ==== ==== ======= ===== ====================\\n    sepal length:   4.3  7.9   5.84   0.83    0.7826\\n    sepal width:    2.0  4.4   3.05   0.43   -0.4194\\n    petal length:   1.0  6.9   3.76   1.76    0.9490  (high!)\\n    petal width:    0.1  2.5   1.20   0.76    0.9565  (high!)\\n    ============== ==== ==== ======= ===== ====================\\n\\n    :Missing Attribute Values: None\\n    :Class Distribution: 33.3% for each of 3 classes.\\n    :Creator: R.A. Fisher\\n    :Donor: Michael Marshall (MARSHALL%PLU@io.arc.nasa.gov)\\n    :Date: July, 1988\\n\\nThe famous Iris database, first used by Sir R.A. Fisher. The dataset is taken\\nfrom Fisher\\'s paper. Note that it\\'s the same as in R, but not as in the UCI\\nMachine Learning Repository, which has two wrong data points.\\n\\nThis is perhaps the best known database to be found in the\\npattern recognition literature.  Fisher\\'s paper is a classic in the field and\\nis referenced frequently to this day.  (See Duda & Hart, for example.)  The\\ndata set contains 3 classes of 50 instances each, where each class refers to a\\ntype of iris plant.  One class is linearly separable from the other 2; the\\nlatter are NOT linearly separable from each other.\\n\\n.. topic:: References\\n\\n   - Fisher, R.A. \"The use of multiple measurements in taxonomic problems\"\\n     Annual Eugenics, 7, Part II, 179-188 (1936); also in \"Contributions to\\n     Mathematical Statistics\" (John Wiley, NY, 1950).\\n   - Duda, R.O., & Hart, P.E. (1973) Pattern Classification and Scene Analysis.\\n     (Q327.D83) John Wiley & Sons.  ISBN 0-471-22361-1.  See page 218.\\n   - Dasarathy, B.V. (1980) \"Nosing Around the Neighborhood: A New System\\n     Structure and Classification Rule for Recognition in Partially Exposed\\n     Environments\".  IEEE Transactions on Pattern Analysis and Machine\\n     Intelligence, Vol. PAMI-2, No. 1, 67-71.\\n   - Gates, G.W. (1972) \"The Reduced Nearest Neighbor Rule\".  IEEE Transactions\\n     on Information Theory, May 1972, 431-433.\\n   - See also: 1988 MLC Proceedings, 54-64.  Cheeseman et al\"s AUTOCLASS II\\n     conceptual clustering system finds 3 classes in the data.\\n   - Many, many more ...',\n",
              " 'data': array([[5.1, 3.5, 1.4, 0.2],\n",
              "        [4.9, 3. , 1.4, 0.2],\n",
              "        [4.7, 3.2, 1.3, 0.2],\n",
              "        [4.6, 3.1, 1.5, 0.2],\n",
              "        [5. , 3.6, 1.4, 0.2],\n",
              "        [5.4, 3.9, 1.7, 0.4],\n",
              "        [4.6, 3.4, 1.4, 0.3],\n",
              "        [5. , 3.4, 1.5, 0.2],\n",
              "        [4.4, 2.9, 1.4, 0.2],\n",
              "        [4.9, 3.1, 1.5, 0.1],\n",
              "        [5.4, 3.7, 1.5, 0.2],\n",
              "        [4.8, 3.4, 1.6, 0.2],\n",
              "        [4.8, 3. , 1.4, 0.1],\n",
              "        [4.3, 3. , 1.1, 0.1],\n",
              "        [5.8, 4. , 1.2, 0.2],\n",
              "        [5.7, 4.4, 1.5, 0.4],\n",
              "        [5.4, 3.9, 1.3, 0.4],\n",
              "        [5.1, 3.5, 1.4, 0.3],\n",
              "        [5.7, 3.8, 1.7, 0.3],\n",
              "        [5.1, 3.8, 1.5, 0.3],\n",
              "        [5.4, 3.4, 1.7, 0.2],\n",
              "        [5.1, 3.7, 1.5, 0.4],\n",
              "        [4.6, 3.6, 1. , 0.2],\n",
              "        [5.1, 3.3, 1.7, 0.5],\n",
              "        [4.8, 3.4, 1.9, 0.2],\n",
              "        [5. , 3. , 1.6, 0.2],\n",
              "        [5. , 3.4, 1.6, 0.4],\n",
              "        [5.2, 3.5, 1.5, 0.2],\n",
              "        [5.2, 3.4, 1.4, 0.2],\n",
              "        [4.7, 3.2, 1.6, 0.2],\n",
              "        [4.8, 3.1, 1.6, 0.2],\n",
              "        [5.4, 3.4, 1.5, 0.4],\n",
              "        [5.2, 4.1, 1.5, 0.1],\n",
              "        [5.5, 4.2, 1.4, 0.2],\n",
              "        [4.9, 3.1, 1.5, 0.2],\n",
              "        [5. , 3.2, 1.2, 0.2],\n",
              "        [5.5, 3.5, 1.3, 0.2],\n",
              "        [4.9, 3.6, 1.4, 0.1],\n",
              "        [4.4, 3. , 1.3, 0.2],\n",
              "        [5.1, 3.4, 1.5, 0.2],\n",
              "        [5. , 3.5, 1.3, 0.3],\n",
              "        [4.5, 2.3, 1.3, 0.3],\n",
              "        [4.4, 3.2, 1.3, 0.2],\n",
              "        [5. , 3.5, 1.6, 0.6],\n",
              "        [5.1, 3.8, 1.9, 0.4],\n",
              "        [4.8, 3. , 1.4, 0.3],\n",
              "        [5.1, 3.8, 1.6, 0.2],\n",
              "        [4.6, 3.2, 1.4, 0.2],\n",
              "        [5.3, 3.7, 1.5, 0.2],\n",
              "        [5. , 3.3, 1.4, 0.2],\n",
              "        [7. , 3.2, 4.7, 1.4],\n",
              "        [6.4, 3.2, 4.5, 1.5],\n",
              "        [6.9, 3.1, 4.9, 1.5],\n",
              "        [5.5, 2.3, 4. , 1.3],\n",
              "        [6.5, 2.8, 4.6, 1.5],\n",
              "        [5.7, 2.8, 4.5, 1.3],\n",
              "        [6.3, 3.3, 4.7, 1.6],\n",
              "        [4.9, 2.4, 3.3, 1. ],\n",
              "        [6.6, 2.9, 4.6, 1.3],\n",
              "        [5.2, 2.7, 3.9, 1.4],\n",
              "        [5. , 2. , 3.5, 1. ],\n",
              "        [5.9, 3. , 4.2, 1.5],\n",
              "        [6. , 2.2, 4. , 1. ],\n",
              "        [6.1, 2.9, 4.7, 1.4],\n",
              "        [5.6, 2.9, 3.6, 1.3],\n",
              "        [6.7, 3.1, 4.4, 1.4],\n",
              "        [5.6, 3. , 4.5, 1.5],\n",
              "        [5.8, 2.7, 4.1, 1. ],\n",
              "        [6.2, 2.2, 4.5, 1.5],\n",
              "        [5.6, 2.5, 3.9, 1.1],\n",
              "        [5.9, 3.2, 4.8, 1.8],\n",
              "        [6.1, 2.8, 4. , 1.3],\n",
              "        [6.3, 2.5, 4.9, 1.5],\n",
              "        [6.1, 2.8, 4.7, 1.2],\n",
              "        [6.4, 2.9, 4.3, 1.3],\n",
              "        [6.6, 3. , 4.4, 1.4],\n",
              "        [6.8, 2.8, 4.8, 1.4],\n",
              "        [6.7, 3. , 5. , 1.7],\n",
              "        [6. , 2.9, 4.5, 1.5],\n",
              "        [5.7, 2.6, 3.5, 1. ],\n",
              "        [5.5, 2.4, 3.8, 1.1],\n",
              "        [5.5, 2.4, 3.7, 1. ],\n",
              "        [5.8, 2.7, 3.9, 1.2],\n",
              "        [6. , 2.7, 5.1, 1.6],\n",
              "        [5.4, 3. , 4.5, 1.5],\n",
              "        [6. , 3.4, 4.5, 1.6],\n",
              "        [6.7, 3.1, 4.7, 1.5],\n",
              "        [6.3, 2.3, 4.4, 1.3],\n",
              "        [5.6, 3. , 4.1, 1.3],\n",
              "        [5.5, 2.5, 4. , 1.3],\n",
              "        [5.5, 2.6, 4.4, 1.2],\n",
              "        [6.1, 3. , 4.6, 1.4],\n",
              "        [5.8, 2.6, 4. , 1.2],\n",
              "        [5. , 2.3, 3.3, 1. ],\n",
              "        [5.6, 2.7, 4.2, 1.3],\n",
              "        [5.7, 3. , 4.2, 1.2],\n",
              "        [5.7, 2.9, 4.2, 1.3],\n",
              "        [6.2, 2.9, 4.3, 1.3],\n",
              "        [5.1, 2.5, 3. , 1.1],\n",
              "        [5.7, 2.8, 4.1, 1.3],\n",
              "        [6.3, 3.3, 6. , 2.5],\n",
              "        [5.8, 2.7, 5.1, 1.9],\n",
              "        [7.1, 3. , 5.9, 2.1],\n",
              "        [6.3, 2.9, 5.6, 1.8],\n",
              "        [6.5, 3. , 5.8, 2.2],\n",
              "        [7.6, 3. , 6.6, 2.1],\n",
              "        [4.9, 2.5, 4.5, 1.7],\n",
              "        [7.3, 2.9, 6.3, 1.8],\n",
              "        [6.7, 2.5, 5.8, 1.8],\n",
              "        [7.2, 3.6, 6.1, 2.5],\n",
              "        [6.5, 3.2, 5.1, 2. ],\n",
              "        [6.4, 2.7, 5.3, 1.9],\n",
              "        [6.8, 3. , 5.5, 2.1],\n",
              "        [5.7, 2.5, 5. , 2. ],\n",
              "        [5.8, 2.8, 5.1, 2.4],\n",
              "        [6.4, 3.2, 5.3, 2.3],\n",
              "        [6.5, 3. , 5.5, 1.8],\n",
              "        [7.7, 3.8, 6.7, 2.2],\n",
              "        [7.7, 2.6, 6.9, 2.3],\n",
              "        [6. , 2.2, 5. , 1.5],\n",
              "        [6.9, 3.2, 5.7, 2.3],\n",
              "        [5.6, 2.8, 4.9, 2. ],\n",
              "        [7.7, 2.8, 6.7, 2. ],\n",
              "        [6.3, 2.7, 4.9, 1.8],\n",
              "        [6.7, 3.3, 5.7, 2.1],\n",
              "        [7.2, 3.2, 6. , 1.8],\n",
              "        [6.2, 2.8, 4.8, 1.8],\n",
              "        [6.1, 3. , 4.9, 1.8],\n",
              "        [6.4, 2.8, 5.6, 2.1],\n",
              "        [7.2, 3. , 5.8, 1.6],\n",
              "        [7.4, 2.8, 6.1, 1.9],\n",
              "        [7.9, 3.8, 6.4, 2. ],\n",
              "        [6.4, 2.8, 5.6, 2.2],\n",
              "        [6.3, 2.8, 5.1, 1.5],\n",
              "        [6.1, 2.6, 5.6, 1.4],\n",
              "        [7.7, 3. , 6.1, 2.3],\n",
              "        [6.3, 3.4, 5.6, 2.4],\n",
              "        [6.4, 3.1, 5.5, 1.8],\n",
              "        [6. , 3. , 4.8, 1.8],\n",
              "        [6.9, 3.1, 5.4, 2.1],\n",
              "        [6.7, 3.1, 5.6, 2.4],\n",
              "        [6.9, 3.1, 5.1, 2.3],\n",
              "        [5.8, 2.7, 5.1, 1.9],\n",
              "        [6.8, 3.2, 5.9, 2.3],\n",
              "        [6.7, 3.3, 5.7, 2.5],\n",
              "        [6.7, 3. , 5.2, 2.3],\n",
              "        [6.3, 2.5, 5. , 1.9],\n",
              "        [6.5, 3. , 5.2, 2. ],\n",
              "        [6.2, 3.4, 5.4, 2.3],\n",
              "        [5.9, 3. , 5.1, 1.8]]),\n",
              " 'feature_names': ['sepal length (cm)',\n",
              "  'sepal width (cm)',\n",
              "  'petal length (cm)',\n",
              "  'petal width (cm)'],\n",
              " 'filename': '/usr/local/lib/python3.7/dist-packages/sklearn/datasets/data/iris.csv',\n",
              " 'target': array([0, 0, 0, 0, 0, 0, 0, 0, 0, 0, 0, 0, 0, 0, 0, 0, 0, 0, 0, 0, 0, 0,\n",
              "        0, 0, 0, 0, 0, 0, 0, 0, 0, 0, 0, 0, 0, 0, 0, 0, 0, 0, 0, 0, 0, 0,\n",
              "        0, 0, 0, 0, 0, 0, 1, 1, 1, 1, 1, 1, 1, 1, 1, 1, 1, 1, 1, 1, 1, 1,\n",
              "        1, 1, 1, 1, 1, 1, 1, 1, 1, 1, 1, 1, 1, 1, 1, 1, 1, 1, 1, 1, 1, 1,\n",
              "        1, 1, 1, 1, 1, 1, 1, 1, 1, 1, 1, 1, 2, 2, 2, 2, 2, 2, 2, 2, 2, 2,\n",
              "        2, 2, 2, 2, 2, 2, 2, 2, 2, 2, 2, 2, 2, 2, 2, 2, 2, 2, 2, 2, 2, 2,\n",
              "        2, 2, 2, 2, 2, 2, 2, 2, 2, 2, 2, 2, 2, 2, 2, 2, 2, 2]),\n",
              " 'target_names': array(['setosa', 'versicolor', 'virginica'], dtype='<U10')}"
            ]
          },
          "metadata": {},
          "execution_count": 2
        }
      ]
    },
    {
      "cell_type": "markdown",
      "metadata": {
        "id": "FP-7sBZbwZGb"
      },
      "source": [
        "target คือ label คำตอบ"
      ]
    },
    {
      "cell_type": "code",
      "metadata": {
        "id": "Cb3qP_-WwYyg"
      },
      "source": [
        "X = iris_data['data']\n",
        "Y = iris_data['target']"
      ],
      "execution_count": 3,
      "outputs": []
    },
    {
      "cell_type": "code",
      "metadata": {
        "id": "Bqnfy8sgwxXU"
      },
      "source": [
        ""
      ],
      "execution_count": 3,
      "outputs": []
    },
    {
      "cell_type": "markdown",
      "metadata": {
        "id": "SvB7FG0rupd2"
      },
      "source": [
        "# Train Model"
      ]
    },
    {
      "cell_type": "markdown",
      "metadata": {
        "id": "GdoqNeU1w1HW"
      },
      "source": [
        "### import (เรียกใช้ algorithm ที่เราต้องการ)"
      ]
    },
    {
      "cell_type": "code",
      "metadata": {
        "id": "SFJ0H6oixh4h"
      },
      "source": [
        "from sklearn.tree import DecisionTreeClassifier"
      ],
      "execution_count": 4,
      "outputs": []
    },
    {
      "cell_type": "markdown",
      "metadata": {
        "id": "LO9vxc9gxCBr"
      },
      "source": [
        "## define (กำหนด parameters ให้กับ model)"
      ]
    },
    {
      "cell_type": "code",
      "metadata": {
        "id": "eG8JPkKsx9lA"
      },
      "source": [
        "mytree = DecisionTreeClassifier(max_depth=2) #กำหนดเอาแค่ต้นไม้ 2 ชั้น"
      ],
      "execution_count": 5,
      "outputs": []
    },
    {
      "cell_type": "markdown",
      "metadata": {
        "id": "5Wc6xoaXxOdR"
      },
      "source": [
        "## train (ฝึกสอนตัวแบบ)"
      ]
    },
    {
      "cell_type": "code",
      "metadata": {
        "colab": {
          "base_uri": "https://localhost:8080/"
        },
        "id": "3NfPXpjdyECQ",
        "outputId": "f00d1318-78d7-473e-cd62-57090f07129e"
      },
      "source": [
        "mytree.fit(X,Y)"
      ],
      "execution_count": 6,
      "outputs": [
        {
          "output_type": "execute_result",
          "data": {
            "text/plain": [
              "DecisionTreeClassifier(ccp_alpha=0.0, class_weight=None, criterion='gini',\n",
              "                       max_depth=2, max_features=None, max_leaf_nodes=None,\n",
              "                       min_impurity_decrease=0.0, min_impurity_split=None,\n",
              "                       min_samples_leaf=1, min_samples_split=2,\n",
              "                       min_weight_fraction_leaf=0.0, presort='deprecated',\n",
              "                       random_state=None, splitter='best')"
            ]
          },
          "metadata": {},
          "execution_count": 6
        }
      ]
    },
    {
      "cell_type": "code",
      "metadata": {
        "id": "x19CwG_ByIzM"
      },
      "source": [
        ""
      ],
      "execution_count": 6,
      "outputs": []
    },
    {
      "cell_type": "markdown",
      "metadata": {
        "id": "k46ADaigyJe3"
      },
      "source": [
        "# plot tree"
      ]
    },
    {
      "cell_type": "code",
      "metadata": {
        "id": "MCgKm0WsyO-m"
      },
      "source": [
        "from sklearn.tree import  plot_tree"
      ],
      "execution_count": 7,
      "outputs": []
    },
    {
      "cell_type": "code",
      "metadata": {
        "colab": {
          "base_uri": "https://localhost:8080/",
          "height": 335
        },
        "id": "x86Ns-CLyUwQ",
        "outputId": "5fb5f048-3688-4fbe-d851-45ad6cbc0750"
      },
      "source": [
        "plot_tree(mytree)\n",
        "\n",
        "#ข้อมูลที่เข้ามา 150 ตัว เเยกเป็น 50,50,50"
      ],
      "execution_count": 8,
      "outputs": [
        {
          "output_type": "execute_result",
          "data": {
            "text/plain": [
              "[Text(133.92000000000002, 181.2, 'X[3] <= 0.8\\ngini = 0.667\\nsamples = 150\\nvalue = [50, 50, 50]'),\n",
              " Text(66.96000000000001, 108.72, 'gini = 0.0\\nsamples = 50\\nvalue = [50, 0, 0]'),\n",
              " Text(200.88000000000002, 108.72, 'X[3] <= 1.75\\ngini = 0.5\\nsamples = 100\\nvalue = [0, 50, 50]'),\n",
              " Text(133.92000000000002, 36.23999999999998, 'gini = 0.168\\nsamples = 54\\nvalue = [0, 49, 5]'),\n",
              " Text(267.84000000000003, 36.23999999999998, 'gini = 0.043\\nsamples = 46\\nvalue = [0, 1, 45]')]"
            ]
          },
          "metadata": {},
          "execution_count": 8
        },
        {
          "output_type": "display_data",
          "data": {
            "image/png": "[encoded data removed]",
            "text/plain": [
              "<Figure size 432x288 with 1 Axes>"
            ]
          },
          "metadata": {
            "needs_background": "light"
          }
        }
      ]
    },
    {
      "cell_type": "code",
      "metadata": {
        "id": "7iiTXmCf0UoL"
      },
      "source": [
        ""
      ],
      "execution_count": 8,
      "outputs": []
    },
    {
      "cell_type": "markdown",
      "metadata": {
        "id": "k8LrHMEzusr-"
      },
      "source": [
        "# Evaluation"
      ]
    },
    {
      "cell_type": "code",
      "metadata": {
        "colab": {
          "base_uri": "https://localhost:8080/"
        },
        "id": "XRCVdILhuSS7",
        "outputId": "b07e9434-03e1-4872-888a-5925e7f3b5b8"
      },
      "source": [
        "mytree.predict([[6.3, 2.5, 5. , 1.9]])"
      ],
      "execution_count": 9,
      "outputs": [
        {
          "output_type": "execute_result",
          "data": {
            "text/plain": [
              "array([2])"
            ]
          },
          "metadata": {},
          "execution_count": 9
        }
      ]
    },
    {
      "cell_type": "markdown",
      "metadata": {
        "id": "cTRZplaotTtE"
      },
      "source": [
        "# Random"
      ]
    },
    {
      "cell_type": "code",
      "metadata": {
        "id": "JhxY8sTDtVmk"
      },
      "source": [
        "import numpy as np"
      ],
      "execution_count": 10,
      "outputs": []
    },
    {
      "cell_type": "code",
      "metadata": {
        "id": "2JdQ3jS5tolg"
      },
      "source": [
        "np.random.seed(6)"
      ],
      "execution_count": 11,
      "outputs": []
    },
    {
      "cell_type": "code",
      "metadata": {
        "id": "SUX9RR8-t8t1",
        "colab": {
          "base_uri": "https://localhost:8080/",
          "height": 35
        },
        "outputId": "d1049994-073c-432d-ae05-0fcef5eb8d96"
      },
      "source": [
        "np.random.choice(['a','b','c','d'])"
      ],
      "execution_count": 12,
      "outputs": [
        {
          "output_type": "execute_result",
          "data": {
            "application/vnd.google.colaboratory.intrinsic+json": {
              "type": "string"
            },
            "text/plain": [
              "'c'"
            ]
          },
          "metadata": {},
          "execution_count": 12
        }
      ]
    },
    {
      "cell_type": "markdown",
      "metadata": {
        "id": "cMru-o8Jjo4k"
      },
      "source": [
        "# Advanced Tree"
      ]
    },
    {
      "cell_type": "markdown",
      "metadata": {
        "id": "erd7Y67TttGE"
      },
      "source": [
        "### Import"
      ]
    },
    {
      "cell_type": "code",
      "metadata": {
        "id": "BX3DpB3WuH-y"
      },
      "source": [
        "from sklearn.tree import  DecisionTreeClassifier"
      ],
      "execution_count": 13,
      "outputs": []
    },
    {
      "cell_type": "markdown",
      "metadata": {
        "id": "X6PDA4Fgtvpp"
      },
      "source": [
        "### Define"
      ]
    },
    {
      "cell_type": "markdown",
      "metadata": {
        "id": "-S_sHvjrukLI"
      },
      "source": [
        "ต้นไม้ที่มีใบ 5 ใบ และใช้ entropy เป็นเกณฑ์"
      ]
    },
    {
      "cell_type": "code",
      "metadata": {
        "id": "iVgLfTHjutoY"
      },
      "source": [
        "mytree = DecisionTreeClassifier(max_leaf_nodes=5,criterion='entropy')"
      ],
      "execution_count": 14,
      "outputs": []
    },
    {
      "cell_type": "markdown",
      "metadata": {
        "id": "BnLPXZvntzLt"
      },
      "source": [
        "### Train"
      ]
    },
    {
      "cell_type": "code",
      "metadata": {
        "id": "EI8C3qmBjux4",
        "colab": {
          "base_uri": "https://localhost:8080/"
        },
        "outputId": "5efa5a6d-e5ef-4970-c794-3e350421bb1a"
      },
      "source": [
        "mytree.fit(X,Y)"
      ],
      "execution_count": 15,
      "outputs": [
        {
          "output_type": "execute_result",
          "data": {
            "text/plain": [
              "DecisionTreeClassifier(ccp_alpha=0.0, class_weight=None, criterion='entropy',\n",
              "                       max_depth=None, max_features=None, max_leaf_nodes=5,\n",
              "                       min_impurity_decrease=0.0, min_impurity_split=None,\n",
              "                       min_samples_leaf=1, min_samples_split=2,\n",
              "                       min_weight_fraction_leaf=0.0, presort='deprecated',\n",
              "                       random_state=None, splitter='best')"
            ]
          },
          "metadata": {},
          "execution_count": 15
        }
      ]
    },
    {
      "cell_type": "code",
      "metadata": {
        "id": "3Gmu8hdeu9G3",
        "colab": {
          "base_uri": "https://localhost:8080/",
          "height": 404
        },
        "outputId": "a0a69baf-c218-4aa7-a6e3-a7d31a6cfa12"
      },
      "source": [
        "plot_tree(mytree)"
      ],
      "execution_count": 16,
      "outputs": [
        {
          "output_type": "execute_result",
          "data": {
            "text/plain": [
              "[Text(167.4, 195.696, 'X[3] <= 0.8\\nentropy = 1.585\\nsamples = 150\\nvalue = [50, 50, 50]'),\n",
              " Text(111.60000000000001, 152.208, 'entropy = 0.0\\nsamples = 50\\nvalue = [50, 0, 0]'),\n",
              " Text(223.20000000000002, 152.208, 'X[3] <= 1.75\\nentropy = 1.0\\nsamples = 100\\nvalue = [0, 50, 50]'),\n",
              " Text(167.4, 108.72, 'X[2] <= 4.95\\nentropy = 0.445\\nsamples = 54\\nvalue = [0, 49, 5]'),\n",
              " Text(111.60000000000001, 65.232, 'X[3] <= 1.65\\nentropy = 0.146\\nsamples = 48\\nvalue = [0, 47, 1]'),\n",
              " Text(55.800000000000004, 21.744, 'entropy = 0.0\\nsamples = 47\\nvalue = [0, 47, 0]'),\n",
              " Text(167.4, 21.744, 'entropy = 0.0\\nsamples = 1\\nvalue = [0, 0, 1]'),\n",
              " Text(223.20000000000002, 65.232, 'entropy = 0.918\\nsamples = 6\\nvalue = [0, 2, 4]'),\n",
              " Text(279.0, 108.72, 'entropy = 0.151\\nsamples = 46\\nvalue = [0, 1, 45]')]"
            ]
          },
          "metadata": {},
          "execution_count": 16
        },
        {
          "output_type": "display_data",
          "data": {
            "image/png": "[encoded data removed]",
            "text/plain": [
              "<Figure size 432x288 with 1 Axes>"
            ]
          },
          "metadata": {
            "needs_background": "light"
          }
        }
      ]
    },
    {
      "cell_type": "markdown",
      "metadata": {
        "id": "MksxGqxqyWdf"
      },
      "source": [
        "# Test"
      ]
    },
    {
      "cell_type": "code",
      "metadata": {
        "id": "ZZXfpRS8vFhc"
      },
      "source": [
        "from sklearn import datasets\n",
        "\n",
        "digit_data = datasets.load_digits()"
      ],
      "execution_count": 17,
      "outputs": []
    },
    {
      "cell_type": "code",
      "metadata": {
        "id": "X6UPqC4fy-ww",
        "colab": {
          "base_uri": "https://localhost:8080/"
        },
        "outputId": "6af6aca2-dc5f-4e47-d480-425b80e8b0b1"
      },
      "source": [
        "X = digit_data['data']\n",
        "X.shape"
      ],
      "execution_count": 18,
      "outputs": [
        {
          "output_type": "execute_result",
          "data": {
            "text/plain": [
              "(1797, 64)"
            ]
          },
          "metadata": {},
          "execution_count": 18
        }
      ]
    },
    {
      "cell_type": "code",
      "metadata": {
        "id": "BsILPtChzMX-",
        "colab": {
          "base_uri": "https://localhost:8080/"
        },
        "outputId": "fe7398ba-2804-4d87-9166-ce2ef113d071"
      },
      "source": [
        "X[0,:] #X คือ ด้านฟีเจอร์ Y คือ คำตอบ"
      ],
      "execution_count": 19,
      "outputs": [
        {
          "output_type": "execute_result",
          "data": {
            "text/plain": [
              "array([ 0.,  0.,  5., 13.,  9.,  1.,  0.,  0.,  0.,  0., 13., 15., 10.,\n",
              "       15.,  5.,  0.,  0.,  3., 15.,  2.,  0., 11.,  8.,  0.,  0.,  4.,\n",
              "       12.,  0.,  0.,  8.,  8.,  0.,  0.,  5.,  8.,  0.,  0.,  9.,  8.,\n",
              "        0.,  0.,  4., 11.,  0.,  1., 12.,  7.,  0.,  0.,  2., 14.,  5.,\n",
              "       10., 12.,  0.,  0.,  0.,  0.,  6., 13., 10.,  0.,  0.,  0.])"
            ]
          },
          "metadata": {},
          "execution_count": 19
        }
      ]
    },
    {
      "cell_type": "code",
      "metadata": {
        "id": "izyBVN8gzPET"
      },
      "source": [
        "from matplotlib import pyplot as plt"
      ],
      "execution_count": 20,
      "outputs": []
    },
    {
      "cell_type": "code",
      "metadata": {
        "id": "_Leaa9g-zXxS",
        "colab": {
          "base_uri": "https://localhost:8080/",
          "height": 283
        },
        "outputId": "8af6efc8-77b5-4221-9a96-b0fcf0f9c4ab"
      },
      "source": [
        "plt.imshow(np.reshape(X[0,:],(8,8)))"
      ],
      "execution_count": 21,
      "outputs": [
        {
          "output_type": "execute_result",
          "data": {
            "text/plain": [
              "<matplotlib.image.AxesImage at 0x7f88731bfbd0>"
            ]
          },
          "metadata": {},
          "execution_count": 21
        },
        {
          "output_type": "display_data",
          "data": {
            "image/png": "[encoded data removed]",
            "text/plain": [
              "<Figure size 432x288 with 1 Axes>"
            ]
          },
          "metadata": {
            "needs_background": "light"
          }
        }
      ]
    },
    {
      "cell_type": "code",
      "metadata": {
        "id": "JCg1n8-j4lML",
        "colab": {
          "base_uri": "https://localhost:8080/",
          "height": 283
        },
        "outputId": "976b687b-b594-4b11-d04c-5f134ac648d0"
      },
      "source": [
        "plt.imshow(np.reshape(X[1,:],(8,8)))"
      ],
      "execution_count": 22,
      "outputs": [
        {
          "output_type": "execute_result",
          "data": {
            "text/plain": [
              "<matplotlib.image.AxesImage at 0x7f8873440810>"
            ]
          },
          "metadata": {},
          "execution_count": 22
        },
        {
          "output_type": "display_data",
          "data": {
            "image/png": "[encoded data removed]",
            "text/plain": [
              "<Figure size 432x288 with 1 Axes>"
            ]
          },
          "metadata": {
            "needs_background": "light"
          }
        }
      ]
    },
    {
      "cell_type": "code",
      "metadata": {
        "id": "9SqcxcDzz3cv"
      },
      "source": [
        "y = digit_data['target']"
      ],
      "execution_count": 23,
      "outputs": []
    },
    {
      "cell_type": "code",
      "metadata": {
        "id": "SJhtC7QD0HMm",
        "colab": {
          "base_uri": "https://localhost:8080/"
        },
        "outputId": "ad937e72-8d9a-4e2a-c222-ad5b1e05fa48"
      },
      "source": [
        "y"
      ],
      "execution_count": 24,
      "outputs": [
        {
          "output_type": "execute_result",
          "data": {
            "text/plain": [
              "array([0, 1, 2, ..., 8, 9, 8])"
            ]
          },
          "metadata": {},
          "execution_count": 24
        }
      ]
    },
    {
      "cell_type": "markdown",
      "metadata": {
        "id": "iDPWFeMJ0Si6"
      },
      "source": [
        "### Start here"
      ]
    },
    {
      "cell_type": "code",
      "metadata": {
        "id": "rWQwkbYJ0KkP"
      },
      "source": [
        "from sklearn.model_selection import train_test_split"
      ],
      "execution_count": 25,
      "outputs": []
    },
    {
      "cell_type": "markdown",
      "metadata": {
        "id": "YYiLO_tO0jRv"
      },
      "source": [
        "Train-Test"
      ]
    },
    {
      "cell_type": "code",
      "metadata": {
        "id": "qKd2v5PU0mp_"
      },
      "source": [
        "X_train, X_test, y_train, y_test = train_test_split(X, y, test_size=0.5, random_state=6)"
      ],
      "execution_count": 26,
      "outputs": []
    },
    {
      "cell_type": "code",
      "metadata": {
        "id": "Fwle1dEx1E2j",
        "colab": {
          "base_uri": "https://localhost:8080/"
        },
        "outputId": "6514617b-4ea1-4cf9-a3a1-4218e4e46fa7"
      },
      "source": [
        "X_train.shape"
      ],
      "execution_count": 27,
      "outputs": [
        {
          "output_type": "execute_result",
          "data": {
            "text/plain": [
              "(898, 64)"
            ]
          },
          "metadata": {},
          "execution_count": 27
        }
      ]
    },
    {
      "cell_type": "markdown",
      "metadata": {
        "id": "BgnHOUiB1Itq"
      },
      "source": [
        "Train-Validation"
      ]
    },
    {
      "cell_type": "code",
      "metadata": {
        "id": "atgrHu291Nuv"
      },
      "source": [
        "X_train2, X_val, y_train2, y_val = train_test_split(X_train, y_train, test_size=0.3, random_state=6)"
      ],
      "execution_count": 28,
      "outputs": []
    },
    {
      "cell_type": "code",
      "metadata": {
        "id": "sOZUQXu41WOn",
        "colab": {
          "base_uri": "https://localhost:8080/"
        },
        "outputId": "a34d217c-4335-47d8-8d8f-2767e581af74"
      },
      "source": [
        "X_train2.shape"
      ],
      "execution_count": 29,
      "outputs": [
        {
          "output_type": "execute_result",
          "data": {
            "text/plain": [
              "(628, 64)"
            ]
          },
          "metadata": {},
          "execution_count": 29
        }
      ]
    },
    {
      "cell_type": "markdown",
      "metadata": {
        "id": "6Uo26esS2A_f"
      },
      "source": [
        "### Import"
      ]
    },
    {
      "cell_type": "code",
      "metadata": {
        "id": "AAuLJ5g038GH"
      },
      "source": [
        "from sklearn.tree import DecisionTreeClassifier"
      ],
      "execution_count": 30,
      "outputs": []
    },
    {
      "cell_type": "markdown",
      "metadata": {
        "id": "iVm5dNLu3-Mj"
      },
      "source": [
        "### Define"
      ]
    },
    {
      "cell_type": "code",
      "metadata": {
        "id": "CyDE__vN398J"
      },
      "source": [
        "mytree1 = DecisionTreeClassifier()"
      ],
      "execution_count": 31,
      "outputs": []
    },
    {
      "cell_type": "markdown",
      "metadata": {
        "id": "IjEmP16-4DcX"
      },
      "source": [
        "### Train"
      ]
    },
    {
      "cell_type": "code",
      "metadata": {
        "id": "Rw-9_jPU4DG2",
        "colab": {
          "base_uri": "https://localhost:8080/"
        },
        "outputId": "9c6c9a38-71ab-4bf4-f379-57afbd461b19"
      },
      "source": [
        "mytree1.fit(X_train2,y_train2)"
      ],
      "execution_count": 32,
      "outputs": [
        {
          "output_type": "execute_result",
          "data": {
            "text/plain": [
              "DecisionTreeClassifier(ccp_alpha=0.0, class_weight=None, criterion='gini',\n",
              "                       max_depth=None, max_features=None, max_leaf_nodes=None,\n",
              "                       min_impurity_decrease=0.0, min_impurity_split=None,\n",
              "                       min_samples_leaf=1, min_samples_split=2,\n",
              "                       min_weight_fraction_leaf=0.0, presort='deprecated',\n",
              "                       random_state=None, splitter='best')"
            ]
          },
          "metadata": {},
          "execution_count": 32
        }
      ]
    },
    {
      "cell_type": "markdown",
      "metadata": {
        "id": "xFqartJS4MhS"
      },
      "source": [
        "### Evaluate"
      ]
    },
    {
      "cell_type": "code",
      "metadata": {
        "id": "sdfrejpY4K43"
      },
      "source": [
        "from sklearn.metrics import accuracy_score"
      ],
      "execution_count": 36,
      "outputs": []
    },
    {
      "cell_type": "markdown",
      "metadata": {
        "id": "zmgtnl0V4UTD"
      },
      "source": [
        "Test"
      ]
    },
    {
      "cell_type": "code",
      "metadata": {
        "id": "_pQZfIOP4TCN"
      },
      "source": [
        "tree1_result = mytree1.predict(X_val)"
      ],
      "execution_count": 37,
      "outputs": []
    },
    {
      "cell_type": "code",
      "metadata": {
        "id": "eToloOiq4V72",
        "colab": {
          "base_uri": "https://localhost:8080/"
        },
        "outputId": "cf0874b5-6fdb-4f3c-e0aa-c27db810fa08"
      },
      "source": [
        "accuracy_score(y_val, tree1_result )"
      ],
      "execution_count": 38,
      "outputs": [
        {
          "output_type": "execute_result",
          "data": {
            "text/plain": [
              "0.762962962962963"
            ]
          },
          "metadata": {},
          "execution_count": 38
        }
      ]
    },
    {
      "cell_type": "markdown",
      "metadata": {
        "id": "WRlpRunZ4ZkD"
      },
      "source": [
        "###HW\n",
        "1. ต้นไม้ที่ใช้เกณฑ์ Entropy มีความสูงไม่เกิน 4 ชั้น\n",
        "2. ต้นไม้ที่ใช้เกณฑ์ Gini มีใบไม่เกิน 25 ใบ\n",
        "3. ต้นไม้ที่ใช้เกณฑ์ Entropy และใช้การ split แบบ random\n",
        "4. ต้นไม้ที่เราคิดเอง"
      ]
    },
    {
      "cell_type": "markdown",
      "metadata": {
        "id": "KqriIdwceiUC"
      },
      "source": [
        "1. ต้นไม้ที่ใช้เกณฑ์ Entropy มีความสูงไม่เกิน 4 ชั้น"
      ]
    },
    {
      "cell_type": "markdown",
      "metadata": {
        "id": "SSet0q4We4Wn"
      },
      "source": [
        "#### import"
      ]
    },
    {
      "cell_type": "code",
      "metadata": {
        "id": "WoUwioqQ4hVS"
      },
      "source": [
        "from sklearn.tree import DecisionTreeClassifier"
      ],
      "execution_count": 39,
      "outputs": []
    },
    {
      "cell_type": "markdown",
      "metadata": {
        "id": "A1kpNE5de-X8"
      },
      "source": [
        "####Define"
      ]
    },
    {
      "cell_type": "code",
      "metadata": {
        "id": "zNFm7h6Ce_wC"
      },
      "source": [
        "tree2 = DecisionTreeClassifier(max_leaf_nodes=4,criterion='entropy')"
      ],
      "execution_count": 148,
      "outputs": []
    },
    {
      "cell_type": "markdown",
      "metadata": {
        "id": "KqwI4DJwfFC4"
      },
      "source": [
        "####Train"
      ]
    },
    {
      "cell_type": "code",
      "metadata": {
        "id": "SLWzJOdufCxU",
        "outputId": "e6b3d7a1-ebe1-48de-ce1e-1175d075db85",
        "colab": {
          "base_uri": "https://localhost:8080/"
        }
      },
      "source": [
        "tree2.fit(X_train2,y_train2)"
      ],
      "execution_count": 149,
      "outputs": [
        {
          "output_type": "execute_result",
          "data": {
            "text/plain": [
              "DecisionTreeClassifier(ccp_alpha=0.0, class_weight=None, criterion='entropy',\n",
              "                       max_depth=None, max_features=None, max_leaf_nodes=4,\n",
              "                       min_impurity_decrease=0.0, min_impurity_split=None,\n",
              "                       min_samples_leaf=1, min_samples_split=2,\n",
              "                       min_weight_fraction_leaf=0.0, presort='deprecated',\n",
              "                       random_state=None, splitter='best')"
            ]
          },
          "metadata": {},
          "execution_count": 149
        }
      ]
    },
    {
      "cell_type": "markdown",
      "metadata": {
        "id": "UTgwKcGtfQRD"
      },
      "source": [
        "####Evaluate"
      ]
    },
    {
      "cell_type": "code",
      "metadata": {
        "id": "0HkuED9EfR-N"
      },
      "source": [
        "from sklearn.metrics import accuracy_score"
      ],
      "execution_count": 150,
      "outputs": []
    },
    {
      "cell_type": "code",
      "metadata": {
        "id": "BMmAnpkYfUyx"
      },
      "source": [
        "tree2_result = tree2.predict(X_val)"
      ],
      "execution_count": 151,
      "outputs": []
    },
    {
      "cell_type": "code",
      "metadata": {
        "id": "wBSbC32RfWub",
        "outputId": "c6b53390-f3b3-4930-a443-7eaea7e1a915",
        "colab": {
          "base_uri": "https://localhost:8080/"
        }
      },
      "source": [
        "accuracy_score(y_val,tree2_result)"
      ],
      "execution_count": 152,
      "outputs": [
        {
          "output_type": "execute_result",
          "data": {
            "text/plain": [
              "0.35185185185185186"
            ]
          },
          "metadata": {},
          "execution_count": 152
        }
      ]
    },
    {
      "cell_type": "code",
      "metadata": {
        "id": "U0tJyZsSmg-y",
        "outputId": "ea53712a-f5c0-4509-947f-bcdd95f48c27",
        "colab": {
          "base_uri": "https://localhost:8080/",
          "height": 248
        }
      },
      "source": [
        "plot_tree(tree2);"
      ],
      "execution_count": 153,
      "outputs": [
        {
          "output_type": "display_data",
          "data": {
            "image/png": "[encoded data removed]",
            "text/plain": [
              "<Figure size 432x288 with 1 Axes>"
            ]
          },
          "metadata": {
            "needs_background": "light"
          }
        }
      ]
    },
    {
      "cell_type": "markdown",
      "metadata": {
        "id": "TIv-Atw2fizM"
      },
      "source": [
        "2.ต้นไม้ที่ใช้เกณฑ์ Gini มีใบไม่เกิน 25 ใบ"
      ]
    },
    {
      "cell_type": "markdown",
      "metadata": {
        "id": "_g0Tp1NDfmxb"
      },
      "source": [
        "####import"
      ]
    },
    {
      "cell_type": "code",
      "metadata": {
        "id": "saeK3WCdfkkX"
      },
      "source": [
        "from sklearn.tree import DecisionTreeClassifier"
      ],
      "execution_count": 45,
      "outputs": []
    },
    {
      "cell_type": "markdown",
      "metadata": {
        "id": "rYj1kWNOfqDS"
      },
      "source": [
        "####Define"
      ]
    },
    {
      "cell_type": "code",
      "metadata": {
        "id": "el76y7hSfpwt"
      },
      "source": [
        "tree3 = DecisionTreeClassifier(max_leaf_nodes=25,criterion='gini')"
      ],
      "execution_count": 154,
      "outputs": []
    },
    {
      "cell_type": "markdown",
      "metadata": {
        "id": "Lww9PN8sfw47"
      },
      "source": [
        "####Train"
      ]
    },
    {
      "cell_type": "code",
      "metadata": {
        "id": "sz17mk9DfvKL",
        "outputId": "809bcf82-87e9-4fb2-f4e9-2b2ab16dbd80",
        "colab": {
          "base_uri": "https://localhost:8080/"
        }
      },
      "source": [
        "tree3.fit(X_train2,y_train2)"
      ],
      "execution_count": 155,
      "outputs": [
        {
          "output_type": "execute_result",
          "data": {
            "text/plain": [
              "DecisionTreeClassifier(ccp_alpha=0.0, class_weight=None, criterion='gini',\n",
              "                       max_depth=None, max_features=None, max_leaf_nodes=25,\n",
              "                       min_impurity_decrease=0.0, min_impurity_split=None,\n",
              "                       min_samples_leaf=1, min_samples_split=2,\n",
              "                       min_weight_fraction_leaf=0.0, presort='deprecated',\n",
              "                       random_state=None, splitter='best')"
            ]
          },
          "metadata": {},
          "execution_count": 155
        }
      ]
    },
    {
      "cell_type": "markdown",
      "metadata": {
        "id": "O2NLWc4Nf3M7"
      },
      "source": [
        "####Evaluate"
      ]
    },
    {
      "cell_type": "code",
      "metadata": {
        "id": "wG-xzgvef0Z_"
      },
      "source": [
        "from sklearn.metrics import accuracy_score"
      ],
      "execution_count": 138,
      "outputs": []
    },
    {
      "cell_type": "code",
      "metadata": {
        "id": "AOL3C0eqf-BL"
      },
      "source": [
        "tree3_result = tree3.predict(X_val)"
      ],
      "execution_count": 156,
      "outputs": []
    },
    {
      "cell_type": "code",
      "metadata": {
        "id": "TK2ee0N6gAMA",
        "outputId": "c5163a45-4686-48a5-bbf2-cdd8d9eb1c4d",
        "colab": {
          "base_uri": "https://localhost:8080/"
        }
      },
      "source": [
        "accuracy_score(y_val,tree3_result)"
      ],
      "execution_count": 158,
      "outputs": [
        {
          "output_type": "execute_result",
          "data": {
            "text/plain": [
              "0.7666666666666667"
            ]
          },
          "metadata": {},
          "execution_count": 158
        }
      ]
    },
    {
      "cell_type": "code",
      "metadata": {
        "id": "rsyctn5umau6",
        "outputId": "efb258af-21db-4d76-ff00-393d2f730737",
        "colab": {
          "base_uri": "https://localhost:8080/",
          "height": 248
        }
      },
      "source": [
        "plot_tree(tree3);"
      ],
      "execution_count": 159,
      "outputs": [
        {
          "output_type": "display_data",
          "data": {
            "image/png": "[encoded data removed]",
            "text/plain": [
              "<Figure size 432x288 with 1 Axes>"
            ]
          },
          "metadata": {
            "needs_background": "light"
          }
        }
      ]
    },
    {
      "cell_type": "markdown",
      "metadata": {
        "id": "aAN_4CYLgBtz"
      },
      "source": [
        "3. ต้นไม้ที่ใช้เกณฑ์ Entropy และใช้การ split เเบบ random"
      ]
    },
    {
      "cell_type": "markdown",
      "metadata": {
        "id": "CXOz86IigIrk"
      },
      "source": [
        "####import"
      ]
    },
    {
      "cell_type": "code",
      "metadata": {
        "id": "dhjIIEZdgG_M"
      },
      "source": [
        "from sklearn.tree import DecisionTreeClassifier"
      ],
      "execution_count": 51,
      "outputs": []
    },
    {
      "cell_type": "markdown",
      "metadata": {
        "id": "-n7lZfFKgNvl"
      },
      "source": [
        "####Define"
      ]
    },
    {
      "cell_type": "code",
      "metadata": {
        "id": "FyyNZoh3gPLv"
      },
      "source": [
        "tree4 = DecisionTreeClassifier(criterion='entropy', splitter = 'random')"
      ],
      "execution_count": 160,
      "outputs": []
    },
    {
      "cell_type": "markdown",
      "metadata": {
        "id": "D_aJADSYgTNP"
      },
      "source": [
        "####Train"
      ]
    },
    {
      "cell_type": "code",
      "metadata": {
        "id": "22RRovrogRcA",
        "outputId": "ea19eef1-46bf-4124-a604-a6108eea0ae7",
        "colab": {
          "base_uri": "https://localhost:8080/"
        }
      },
      "source": [
        "tree4.fit(X_train2,y_train2)"
      ],
      "execution_count": 161,
      "outputs": [
        {
          "output_type": "execute_result",
          "data": {
            "text/plain": [
              "DecisionTreeClassifier(ccp_alpha=0.0, class_weight=None, criterion='entropy',\n",
              "                       max_depth=None, max_features=None, max_leaf_nodes=None,\n",
              "                       min_impurity_decrease=0.0, min_impurity_split=None,\n",
              "                       min_samples_leaf=1, min_samples_split=2,\n",
              "                       min_weight_fraction_leaf=0.0, presort='deprecated',\n",
              "                       random_state=None, splitter='random')"
            ]
          },
          "metadata": {},
          "execution_count": 161
        }
      ]
    },
    {
      "cell_type": "markdown",
      "metadata": {
        "id": "6CmHky7agX5G"
      },
      "source": [
        "####Evaluate"
      ]
    },
    {
      "cell_type": "code",
      "metadata": {
        "id": "0BtlNu-Qgbr4"
      },
      "source": [
        "from sklearn.metrics import accuracy_score"
      ],
      "execution_count": 132,
      "outputs": []
    },
    {
      "cell_type": "code",
      "metadata": {
        "id": "_f0l5L6_gfWX"
      },
      "source": [
        "tree4_result = tree4.predict(X_val)"
      ],
      "execution_count": 162,
      "outputs": []
    },
    {
      "cell_type": "code",
      "metadata": {
        "id": "scoWZUUNghaw",
        "outputId": "8db329b7-1ba1-4cb9-cdc2-0ee08fc58cb4",
        "colab": {
          "base_uri": "https://localhost:8080/"
        }
      },
      "source": [
        "accuracy_score(y_val,tree4_result)"
      ],
      "execution_count": 163,
      "outputs": [
        {
          "output_type": "execute_result",
          "data": {
            "text/plain": [
              "0.8296296296296296"
            ]
          },
          "metadata": {},
          "execution_count": 163
        }
      ]
    },
    {
      "cell_type": "code",
      "metadata": {
        "id": "NaaQj3lNlqwV",
        "outputId": "318833c5-5099-47fa-f28e-c9a942ed8f6b",
        "colab": {
          "base_uri": "https://localhost:8080/",
          "height": 248
        }
      },
      "source": [
        "plot_tree(tree4);"
      ],
      "execution_count": 164,
      "outputs": [
        {
          "output_type": "display_data",
          "data": {
            "image/png": "[encoded data removed]",
            "text/plain": [
              "<Figure size 432x288 with 1 Axes>"
            ]
          },
          "metadata": {
            "needs_background": "light"
          }
        }
      ]
    },
    {
      "cell_type": "markdown",
      "metadata": {
        "id": "M4DdLtGcgidv"
      },
      "source": [
        "4. ต้นไม้ที่เราคิดเอง"
      ]
    },
    {
      "cell_type": "markdown",
      "metadata": {
        "id": "mxqRdc_8gqWg"
      },
      "source": [
        "####import"
      ]
    },
    {
      "cell_type": "code",
      "metadata": {
        "id": "P96cbv9MglaB"
      },
      "source": [
        "from sklearn.tree import DecisionTreeClassifier"
      ],
      "execution_count": 79,
      "outputs": []
    },
    {
      "cell_type": "markdown",
      "metadata": {
        "id": "jGrFweHjgwcd"
      },
      "source": [
        "####Define"
      ]
    },
    {
      "cell_type": "code",
      "metadata": {
        "id": "hPaexknvgxzq"
      },
      "source": [
        "tree_5 = DecisionTreeClassifier(criterion='entropy', splitter = 'random')\n"
      ],
      "execution_count": 111,
      "outputs": []
    },
    {
      "cell_type": "markdown",
      "metadata": {
        "id": "jneP53Bgg3Mn"
      },
      "source": [
        "####Train"
      ]
    },
    {
      "cell_type": "code",
      "metadata": {
        "id": "uDdQDCrtg67m",
        "outputId": "6686b530-89f9-48aa-c8a2-c790afaa125a",
        "colab": {
          "base_uri": "https://localhost:8080/"
        }
      },
      "source": [
        "tree_5.fit(X_train2,y_train2)"
      ],
      "execution_count": 113,
      "outputs": [
        {
          "output_type": "execute_result",
          "data": {
            "text/plain": [
              "DecisionTreeClassifier(ccp_alpha=0.0, class_weight=None, criterion='entropy',\n",
              "                       max_depth=None, max_features=None, max_leaf_nodes=None,\n",
              "                       min_impurity_decrease=0.0, min_impurity_split=None,\n",
              "                       min_samples_leaf=1, min_samples_split=2,\n",
              "                       min_weight_fraction_leaf=0.0, presort='deprecated',\n",
              "                       random_state=None, splitter='random')"
            ]
          },
          "metadata": {},
          "execution_count": 113
        }
      ]
    },
    {
      "cell_type": "markdown",
      "metadata": {
        "id": "0QUjNAONg9y2"
      },
      "source": [
        "#### Evaluate"
      ]
    },
    {
      "cell_type": "code",
      "metadata": {
        "id": "yk6nxnJ-hBKb"
      },
      "source": [
        "from sklearn.metrics import accuracy_score"
      ],
      "execution_count": 114,
      "outputs": []
    },
    {
      "cell_type": "code",
      "metadata": {
        "id": "DJoIjkeIiYOg"
      },
      "source": [
        "tree_5_result = tree_5.predict(X_val)"
      ],
      "execution_count": 115,
      "outputs": []
    },
    {
      "cell_type": "code",
      "metadata": {
        "id": "gfGEF5TmiacY",
        "outputId": "954aec76-7d45-4201-e20d-35bf1b37aec0",
        "colab": {
          "base_uri": "https://localhost:8080/"
        }
      },
      "source": [
        "accuracy_score(y_val,tree_5_result)"
      ],
      "execution_count": 116,
      "outputs": [
        {
          "output_type": "execute_result",
          "data": {
            "text/plain": [
              "0.7814814814814814"
            ]
          },
          "metadata": {},
          "execution_count": 116
        }
      ]
    },
    {
      "cell_type": "code",
      "metadata": {
        "id": "BzspEuLqkePj",
        "outputId": "1379812e-72a3-467a-ef48-0f830770cbf6",
        "colab": {
          "base_uri": "https://localhost:8080/",
          "height": 248
        }
      },
      "source": [
        "plot_tree(tree_5);"
      ],
      "execution_count": 122,
      "outputs": [
        {
          "output_type": "display_data",
          "data": {
            "image/png": "[encoded data removed]",
            "text/plain": [
              "<Figure size 432x288 with 1 Axes>"
            ]
          },
          "metadata": {
            "needs_background": "light"
          }
        }
      ]
    },
    {
      "cell_type": "code",
      "metadata": {
        "id": "8aUhfL_lkeC_"
      },
      "source": [
        ""
      ],
      "execution_count": null,
      "outputs": []
    }
  ]
}