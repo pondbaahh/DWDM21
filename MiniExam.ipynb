{
  "nbformat": 4,
  "nbformat_minor": 0,
  "metadata": {
    "colab": {
      "name": "MiniExam.ipynb",
      "provenance": [],
      "include_colab_link": true
    },
    "kernelspec": {
      "name": "python3",
      "display_name": "Python 3"
    },
    "language_info": {
      "name": "python"
    }
  },
  "cells": [
    {
      "cell_type": "markdown",
      "metadata": {
        "id": "view-in-github",
        "colab_type": "text"
      },
      "source": [
        "<a href=\"https://colab.research.google.com/github/pondbaahh/DWDM21/blob/main/MiniExam.ipynb\" target=\"_parent\"><img src=\"https://colab.research.google.com/assets/colab-badge.svg\" alt=\"Open In Colab\"/></a>"
      ]
    },
    {
      "cell_type": "markdown",
      "metadata": {
        "id": "iPx-P2JWSAwz"
      },
      "source": [
        "### ข้อสอบ\n",
        "\n",
        "จาก data ```flights.csv``` และ ```airports.csv``` ใน https://drive.google.com/drive/folders/1EFo1_uQgWkRiXjezL0T4YwteYrsqU5MV?usp=sharing\n",
        "0. หารัฐที่มีจำนวนเครื่องบินขาเข้ามากที่สุดและน้อยที่สุด\n",
        "1. หารัฐที่มีจำนวนเครื่องบินขาออกมากที่สุดและน้อยที่สุด\n",
        "2. วาด Histogram แสดงจำนวนเครื่องบินขาออกของแต่ละวันในสัปดาห์\n",
        "3. สายการบินไหนมีเที่ยวบินมากที่สุดและน้อยที่สุด\n",
        "4. สายการบินอะไรมีความล่าช้ามากที่สุดและน้อยที่สุด\n",
        "5. ช่วงเช้าหรือช่วงบ่ายมีเครื่องบินขาเข้ามากกว่ากัน\n",
        "\n",
        "ให้นักศึกษาทำข้อสอบ 2 ข้อจากที่แสดงข้างบนโดยกรอกรหัสนักศึกษาลงใน function ```gen_exams()``` แล้ว run เพื่อให้ได้ข้อสอบที่นักศึกษาต้องทำ 2 ข้อ (ข้อละ 3 คะแนน)\n",
        "และให้นักศึกษาคิดโจทย์เองอีก 1 ข้อ (4 คะแนน)\n"
      ]
    },
    {
      "cell_type": "code",
      "metadata": {
        "id": "ZfBK6J_JOObY"
      },
      "source": [
        "import pandas as pd"
      ],
      "execution_count": 1,
      "outputs": []
    },
    {
      "cell_type": "code",
      "metadata": {
        "colab": {
          "base_uri": "https://localhost:8080/"
        },
        "id": "FtfT3pF0PL2x",
        "outputId": "6e28c009-a6c0-4976-8a2a-964e2b6ae4a2"
      },
      "source": [
        "from google.colab import drive \n",
        "drive.mount('/content/drive')"
      ],
      "execution_count": 2,
      "outputs": [
        {
          "output_type": "stream",
          "name": "stdout",
          "text": [
            "Mounted at /content/drive\n"
          ]
        }
      ]
    },
    {
      "cell_type": "code",
      "metadata": {
        "id": "XhB2n7PAPPfr"
      },
      "source": [
        "import os"
      ],
      "execution_count": 3,
      "outputs": []
    },
    {
      "cell_type": "code",
      "metadata": {
        "colab": {
          "base_uri": "https://localhost:8080/",
          "height": 423
        },
        "id": "rDBac0rqPpVY",
        "outputId": "95d5234f-a59e-4fed-dca6-4c3ae07d50ef"
      },
      "source": [
        "flights = pd.read_csv('/content/drive/MyDrive/DWDM2021_DATA/Mini Exam/flights.csv')\n",
        "flights"
      ],
      "execution_count": 4,
      "outputs": [
        {
          "output_type": "execute_result",
          "data": {
            "text/html": [
              "<div>\n",
              "<style scoped>\n",
              "    .dataframe tbody tr th:only-of-type {\n",
              "        vertical-align: middle;\n",
              "    }\n",
              "\n",
              "    .dataframe tbody tr th {\n",
              "        vertical-align: top;\n",
              "    }\n",
              "\n",
              "    .dataframe thead th {\n",
              "        text-align: right;\n",
              "    }\n",
              "</style>\n",
              "<table border=\"1\" class=\"dataframe\">\n",
              "  <thead>\n",
              "    <tr style=\"text-align: right;\">\n",
              "      <th></th>\n",
              "      <th>วันในเดือน</th>\n",
              "      <th>วันในสัปดาห์</th>\n",
              "      <th>สายการบิน</th>\n",
              "      <th>รหัสสนามบินต้นทาง</th>\n",
              "      <th>รหัสสนามบินปลายทาง</th>\n",
              "      <th>ความล่าช้าขาออก</th>\n",
              "      <th>ความล่าช้าขาเข้า</th>\n",
              "    </tr>\n",
              "  </thead>\n",
              "  <tbody>\n",
              "    <tr>\n",
              "      <th>0</th>\n",
              "      <td>19</td>\n",
              "      <td>5</td>\n",
              "      <td>DL</td>\n",
              "      <td>11433</td>\n",
              "      <td>13303</td>\n",
              "      <td>-3</td>\n",
              "      <td>1</td>\n",
              "    </tr>\n",
              "    <tr>\n",
              "      <th>1</th>\n",
              "      <td>19</td>\n",
              "      <td>5</td>\n",
              "      <td>DL</td>\n",
              "      <td>14869</td>\n",
              "      <td>12478</td>\n",
              "      <td>0</td>\n",
              "      <td>-8</td>\n",
              "    </tr>\n",
              "    <tr>\n",
              "      <th>2</th>\n",
              "      <td>19</td>\n",
              "      <td>5</td>\n",
              "      <td>DL</td>\n",
              "      <td>14057</td>\n",
              "      <td>14869</td>\n",
              "      <td>-4</td>\n",
              "      <td>-15</td>\n",
              "    </tr>\n",
              "    <tr>\n",
              "      <th>3</th>\n",
              "      <td>19</td>\n",
              "      <td>5</td>\n",
              "      <td>DL</td>\n",
              "      <td>15016</td>\n",
              "      <td>11433</td>\n",
              "      <td>28</td>\n",
              "      <td>24</td>\n",
              "    </tr>\n",
              "    <tr>\n",
              "      <th>4</th>\n",
              "      <td>19</td>\n",
              "      <td>5</td>\n",
              "      <td>DL</td>\n",
              "      <td>11193</td>\n",
              "      <td>12892</td>\n",
              "      <td>-6</td>\n",
              "      <td>-11</td>\n",
              "    </tr>\n",
              "    <tr>\n",
              "      <th>...</th>\n",
              "      <td>...</td>\n",
              "      <td>...</td>\n",
              "      <td>...</td>\n",
              "      <td>...</td>\n",
              "      <td>...</td>\n",
              "      <td>...</td>\n",
              "      <td>...</td>\n",
              "    </tr>\n",
              "    <tr>\n",
              "      <th>2702213</th>\n",
              "      <td>19</td>\n",
              "      <td>6</td>\n",
              "      <td>DL</td>\n",
              "      <td>13204</td>\n",
              "      <td>14869</td>\n",
              "      <td>1</td>\n",
              "      <td>-3</td>\n",
              "    </tr>\n",
              "    <tr>\n",
              "      <th>2702214</th>\n",
              "      <td>19</td>\n",
              "      <td>6</td>\n",
              "      <td>DL</td>\n",
              "      <td>10397</td>\n",
              "      <td>13495</td>\n",
              "      <td>-2</td>\n",
              "      <td>-3</td>\n",
              "    </tr>\n",
              "    <tr>\n",
              "      <th>2702215</th>\n",
              "      <td>19</td>\n",
              "      <td>6</td>\n",
              "      <td>DL</td>\n",
              "      <td>10140</td>\n",
              "      <td>10397</td>\n",
              "      <td>18</td>\n",
              "      <td>9</td>\n",
              "    </tr>\n",
              "    <tr>\n",
              "      <th>2702216</th>\n",
              "      <td>19</td>\n",
              "      <td>6</td>\n",
              "      <td>DL</td>\n",
              "      <td>10397</td>\n",
              "      <td>13244</td>\n",
              "      <td>10</td>\n",
              "      <td>7</td>\n",
              "    </tr>\n",
              "    <tr>\n",
              "      <th>2702217</th>\n",
              "      <td>19</td>\n",
              "      <td>6</td>\n",
              "      <td>DL</td>\n",
              "      <td>10397</td>\n",
              "      <td>13487</td>\n",
              "      <td>0</td>\n",
              "      <td>-13</td>\n",
              "    </tr>\n",
              "  </tbody>\n",
              "</table>\n",
              "<p>2702218 rows × 7 columns</p>\n",
              "</div>"
            ],
            "text/plain": [
              "         วันในเดือน  วันในสัปดาห์  ... ความล่าช้าขาออก  ความล่าช้าขาเข้า\n",
              "0                19             5  ...              -3                 1\n",
              "1                19             5  ...               0                -8\n",
              "2                19             5  ...              -4               -15\n",
              "3                19             5  ...              28                24\n",
              "4                19             5  ...              -6               -11\n",
              "...             ...           ...  ...             ...               ...\n",
              "2702213          19             6  ...               1                -3\n",
              "2702214          19             6  ...              -2                -3\n",
              "2702215          19             6  ...              18                 9\n",
              "2702216          19             6  ...              10                 7\n",
              "2702217          19             6  ...               0               -13\n",
              "\n",
              "[2702218 rows x 7 columns]"
            ]
          },
          "metadata": {},
          "execution_count": 4
        }
      ]
    },
    {
      "cell_type": "code",
      "metadata": {
        "colab": {
          "base_uri": "https://localhost:8080/",
          "height": 423
        },
        "id": "jmidVX90P1lF",
        "outputId": "a756c99b-86de-42ed-f256-0cbf0886d1d1"
      },
      "source": [
        "airports = pd.read_csv('/content/drive/MyDrive/DWDM2021_DATA/Mini Exam/airports.csv')\n",
        "airports"
      ],
      "execution_count": 5,
      "outputs": [
        {
          "output_type": "execute_result",
          "data": {
            "text/html": [
              "<div>\n",
              "<style scoped>\n",
              "    .dataframe tbody tr th:only-of-type {\n",
              "        vertical-align: middle;\n",
              "    }\n",
              "\n",
              "    .dataframe tbody tr th {\n",
              "        vertical-align: top;\n",
              "    }\n",
              "\n",
              "    .dataframe thead th {\n",
              "        text-align: right;\n",
              "    }\n",
              "</style>\n",
              "<table border=\"1\" class=\"dataframe\">\n",
              "  <thead>\n",
              "    <tr style=\"text-align: right;\">\n",
              "      <th></th>\n",
              "      <th>รหัสสนามบิน</th>\n",
              "      <th>เมือง</th>\n",
              "      <th>รัฐ</th>\n",
              "      <th>ชื่อสนามบิน</th>\n",
              "    </tr>\n",
              "  </thead>\n",
              "  <tbody>\n",
              "    <tr>\n",
              "      <th>0</th>\n",
              "      <td>10165</td>\n",
              "      <td>Adak Island</td>\n",
              "      <td>AK</td>\n",
              "      <td>Adak</td>\n",
              "    </tr>\n",
              "    <tr>\n",
              "      <th>1</th>\n",
              "      <td>10299</td>\n",
              "      <td>Anchorage</td>\n",
              "      <td>AK</td>\n",
              "      <td>Ted Stevens Anchorage International</td>\n",
              "    </tr>\n",
              "    <tr>\n",
              "      <th>2</th>\n",
              "      <td>10304</td>\n",
              "      <td>Aniak</td>\n",
              "      <td>AK</td>\n",
              "      <td>Aniak Airport</td>\n",
              "    </tr>\n",
              "    <tr>\n",
              "      <th>3</th>\n",
              "      <td>10754</td>\n",
              "      <td>Barrow</td>\n",
              "      <td>AK</td>\n",
              "      <td>Wiley Post/Will Rogers Memorial</td>\n",
              "    </tr>\n",
              "    <tr>\n",
              "      <th>4</th>\n",
              "      <td>10551</td>\n",
              "      <td>Bethel</td>\n",
              "      <td>AK</td>\n",
              "      <td>Bethel Airport</td>\n",
              "    </tr>\n",
              "    <tr>\n",
              "      <th>...</th>\n",
              "      <td>...</td>\n",
              "      <td>...</td>\n",
              "      <td>...</td>\n",
              "      <td>...</td>\n",
              "    </tr>\n",
              "    <tr>\n",
              "      <th>360</th>\n",
              "      <td>11233</td>\n",
              "      <td>Cheyenne</td>\n",
              "      <td>WY</td>\n",
              "      <td>Cheyenne Regional/Jerry Olson Field</td>\n",
              "    </tr>\n",
              "    <tr>\n",
              "      <th>361</th>\n",
              "      <td>11097</td>\n",
              "      <td>Cody</td>\n",
              "      <td>WY</td>\n",
              "      <td>Yellowstone Regional</td>\n",
              "    </tr>\n",
              "    <tr>\n",
              "      <th>362</th>\n",
              "      <td>11865</td>\n",
              "      <td>Gillette</td>\n",
              "      <td>WY</td>\n",
              "      <td>Gillette Campbell County</td>\n",
              "    </tr>\n",
              "    <tr>\n",
              "      <th>363</th>\n",
              "      <td>12441</td>\n",
              "      <td>Jackson</td>\n",
              "      <td>WY</td>\n",
              "      <td>Jackson Hole</td>\n",
              "    </tr>\n",
              "    <tr>\n",
              "      <th>364</th>\n",
              "      <td>14543</td>\n",
              "      <td>Rock Springs</td>\n",
              "      <td>WY</td>\n",
              "      <td>Rock Springs Sweetwater County</td>\n",
              "    </tr>\n",
              "  </tbody>\n",
              "</table>\n",
              "<p>365 rows × 4 columns</p>\n",
              "</div>"
            ],
            "text/plain": [
              "     รหัสสนามบิน         เมือง รัฐ                          ชื่อสนามบิน\n",
              "0          10165   Adak Island  AK                                 Adak\n",
              "1          10299     Anchorage  AK  Ted Stevens Anchorage International\n",
              "2          10304         Aniak  AK                        Aniak Airport\n",
              "3          10754        Barrow  AK      Wiley Post/Will Rogers Memorial\n",
              "4          10551        Bethel  AK                       Bethel Airport\n",
              "..           ...           ...  ..                                  ...\n",
              "360        11233      Cheyenne  WY  Cheyenne Regional/Jerry Olson Field\n",
              "361        11097          Cody  WY                 Yellowstone Regional\n",
              "362        11865      Gillette  WY             Gillette Campbell County\n",
              "363        12441       Jackson  WY                         Jackson Hole\n",
              "364        14543  Rock Springs  WY       Rock Springs Sweetwater County\n",
              "\n",
              "[365 rows x 4 columns]"
            ]
          },
          "metadata": {},
          "execution_count": 5
        }
      ]
    },
    {
      "cell_type": "code",
      "metadata": {
        "id": "9vzby99vRVDH"
      },
      "source": [
        "def gen_exams(ID):\n",
        "    import math\n",
        "    a = int(ID[-1])%6\n",
        "    b = int(ID[-1])%3\n",
        "    print(f'รหัสนักศึกษา {ID} ทำข้อ {a} และ {b if a != b else 5-b}')"
      ],
      "execution_count": 6,
      "outputs": []
    },
    {
      "cell_type": "markdown",
      "metadata": {
        "id": "SRkSOtmhbv5G"
      },
      "source": [
        "ตัวอย่างการ run"
      ]
    },
    {
      "cell_type": "code",
      "metadata": {
        "colab": {
          "base_uri": "https://localhost:8080/"
        },
        "id": "zQQAtm8fZPYE",
        "outputId": "6f08e9c5-47ee-47c0-ed28-891e473330fd"
      },
      "source": [
        "gen_exams('62123456-9')"
      ],
      "execution_count": 7,
      "outputs": [
        {
          "output_type": "stream",
          "name": "stdout",
          "text": [
            "รหัสนักศึกษา 62123456-9 ทำข้อ 3 และ 0\n"
          ]
        }
      ]
    },
    {
      "cell_type": "code",
      "metadata": {
        "id": "P7jNlxWHZTCp",
        "outputId": "ad0065dd-0efa-46b3-c95c-84576ab5be36",
        "colab": {
          "base_uri": "https://localhost:8080/"
        }
      },
      "source": [
        "gen_exams('623020535-7')"
      ],
      "execution_count": 8,
      "outputs": [
        {
          "output_type": "stream",
          "name": "stdout",
          "text": [
            "รหัสนักศึกษา 623020535-7 ทำข้อ 1 และ 4\n"
          ]
        }
      ]
    },
    {
      "cell_type": "markdown",
      "metadata": {
        "id": "dnbT09GnOijd"
      },
      "source": [
        "#หา Missing value"
      ]
    },
    {
      "cell_type": "code",
      "metadata": {
        "id": "fl9YJ8xqOTJ8",
        "outputId": "b68695eb-68de-4c7d-f7e9-4e93888ccbed",
        "colab": {
          "base_uri": "https://localhost:8080/"
        }
      },
      "source": [
        "flights.isnull().any()"
      ],
      "execution_count": 9,
      "outputs": [
        {
          "output_type": "execute_result",
          "data": {
            "text/plain": [
              "วันในเดือน            False\n",
              "วันในสัปดาห์          False\n",
              "สายการบิน             False\n",
              "รหัสสนามบินต้นทาง     False\n",
              "รหัสสนามบินปลายทาง    False\n",
              "ความล่าช้าขาออก       False\n",
              "ความล่าช้าขาเข้า      False\n",
              "dtype: bool"
            ]
          },
          "metadata": {},
          "execution_count": 9
        }
      ]
    },
    {
      "cell_type": "code",
      "metadata": {
        "id": "CbOJgIjqO665",
        "outputId": "dfc0eb3a-428e-4c9e-f411-74d4725a5819",
        "colab": {
          "base_uri": "https://localhost:8080/"
        }
      },
      "source": [
        "airports.isnull().any()"
      ],
      "execution_count": 10,
      "outputs": [
        {
          "output_type": "execute_result",
          "data": {
            "text/plain": [
              "รหัสสนามบิน    False\n",
              "เมือง          False\n",
              "รัฐ            False\n",
              "ชื่อสนามบิน    False\n",
              "dtype: bool"
            ]
          },
          "metadata": {},
          "execution_count": 10
        }
      ]
    },
    {
      "cell_type": "markdown",
      "metadata": {
        "id": "nPnbTvBIO_zM"
      },
      "source": [
        "ตารางทั้งสองไม่มีค่า Missing value"
      ]
    },
    {
      "cell_type": "markdown",
      "metadata": {
        "id": "AJKyQhx7PbrA"
      },
      "source": [
        "# รวมสองตาราง"
      ]
    },
    {
      "cell_type": "code",
      "metadata": {
        "id": "zr3BU92lPFru",
        "outputId": "5acc8728-2d3a-4016-c4a6-9a946a1314ea",
        "colab": {
          "base_uri": "https://localhost:8080/",
          "height": 527
        }
      },
      "source": [
        "merged_table = flights.merge(airports,how='left',left_on='รหัสสนามบินต้นทาง',right_on='รหัสสนามบิน')\n",
        "merged_table"
      ],
      "execution_count": 78,
      "outputs": [
        {
          "output_type": "execute_result",
          "data": {
            "text/html": [
              "<div>\n",
              "<style scoped>\n",
              "    .dataframe tbody tr th:only-of-type {\n",
              "        vertical-align: middle;\n",
              "    }\n",
              "\n",
              "    .dataframe tbody tr th {\n",
              "        vertical-align: top;\n",
              "    }\n",
              "\n",
              "    .dataframe thead th {\n",
              "        text-align: right;\n",
              "    }\n",
              "</style>\n",
              "<table border=\"1\" class=\"dataframe\">\n",
              "  <thead>\n",
              "    <tr style=\"text-align: right;\">\n",
              "      <th></th>\n",
              "      <th>วันในเดือน</th>\n",
              "      <th>วันในสัปดาห์</th>\n",
              "      <th>สายการบิน</th>\n",
              "      <th>รหัสสนามบินต้นทาง</th>\n",
              "      <th>รหัสสนามบินปลายทาง</th>\n",
              "      <th>ความล่าช้าขาออก</th>\n",
              "      <th>ความล่าช้าขาเข้า</th>\n",
              "      <th>รหัสสนามบิน</th>\n",
              "      <th>เมือง</th>\n",
              "      <th>รัฐ</th>\n",
              "      <th>ชื่อสนามบิน</th>\n",
              "    </tr>\n",
              "  </thead>\n",
              "  <tbody>\n",
              "    <tr>\n",
              "      <th>0</th>\n",
              "      <td>19</td>\n",
              "      <td>5</td>\n",
              "      <td>DL</td>\n",
              "      <td>11433</td>\n",
              "      <td>13303</td>\n",
              "      <td>-3</td>\n",
              "      <td>1</td>\n",
              "      <td>11433</td>\n",
              "      <td>Detroit</td>\n",
              "      <td>MI</td>\n",
              "      <td>Detroit Metro Wayne County</td>\n",
              "    </tr>\n",
              "    <tr>\n",
              "      <th>1</th>\n",
              "      <td>19</td>\n",
              "      <td>5</td>\n",
              "      <td>DL</td>\n",
              "      <td>14869</td>\n",
              "      <td>12478</td>\n",
              "      <td>0</td>\n",
              "      <td>-8</td>\n",
              "      <td>14869</td>\n",
              "      <td>Salt Lake City</td>\n",
              "      <td>UT</td>\n",
              "      <td>Salt Lake City International</td>\n",
              "    </tr>\n",
              "    <tr>\n",
              "      <th>2</th>\n",
              "      <td>19</td>\n",
              "      <td>5</td>\n",
              "      <td>DL</td>\n",
              "      <td>14057</td>\n",
              "      <td>14869</td>\n",
              "      <td>-4</td>\n",
              "      <td>-15</td>\n",
              "      <td>14057</td>\n",
              "      <td>Portland</td>\n",
              "      <td>OR</td>\n",
              "      <td>Portland International</td>\n",
              "    </tr>\n",
              "    <tr>\n",
              "      <th>3</th>\n",
              "      <td>19</td>\n",
              "      <td>5</td>\n",
              "      <td>DL</td>\n",
              "      <td>15016</td>\n",
              "      <td>11433</td>\n",
              "      <td>28</td>\n",
              "      <td>24</td>\n",
              "      <td>15016</td>\n",
              "      <td>St. Louis</td>\n",
              "      <td>MO</td>\n",
              "      <td>Lambert-St. Louis International</td>\n",
              "    </tr>\n",
              "    <tr>\n",
              "      <th>4</th>\n",
              "      <td>19</td>\n",
              "      <td>5</td>\n",
              "      <td>DL</td>\n",
              "      <td>11193</td>\n",
              "      <td>12892</td>\n",
              "      <td>-6</td>\n",
              "      <td>-11</td>\n",
              "      <td>11193</td>\n",
              "      <td>Cincinnati</td>\n",
              "      <td>OH</td>\n",
              "      <td>Cincinnati/Northern Kentucky International</td>\n",
              "    </tr>\n",
              "    <tr>\n",
              "      <th>...</th>\n",
              "      <td>...</td>\n",
              "      <td>...</td>\n",
              "      <td>...</td>\n",
              "      <td>...</td>\n",
              "      <td>...</td>\n",
              "      <td>...</td>\n",
              "      <td>...</td>\n",
              "      <td>...</td>\n",
              "      <td>...</td>\n",
              "      <td>...</td>\n",
              "      <td>...</td>\n",
              "    </tr>\n",
              "    <tr>\n",
              "      <th>2702213</th>\n",
              "      <td>19</td>\n",
              "      <td>6</td>\n",
              "      <td>DL</td>\n",
              "      <td>13204</td>\n",
              "      <td>14869</td>\n",
              "      <td>1</td>\n",
              "      <td>-3</td>\n",
              "      <td>13204</td>\n",
              "      <td>Orlando</td>\n",
              "      <td>FL</td>\n",
              "      <td>Orlando International</td>\n",
              "    </tr>\n",
              "    <tr>\n",
              "      <th>2702214</th>\n",
              "      <td>19</td>\n",
              "      <td>6</td>\n",
              "      <td>DL</td>\n",
              "      <td>10397</td>\n",
              "      <td>13495</td>\n",
              "      <td>-2</td>\n",
              "      <td>-3</td>\n",
              "      <td>10397</td>\n",
              "      <td>Atlanta</td>\n",
              "      <td>GA</td>\n",
              "      <td>Hartsfield-Jackson Atlanta International</td>\n",
              "    </tr>\n",
              "    <tr>\n",
              "      <th>2702215</th>\n",
              "      <td>19</td>\n",
              "      <td>6</td>\n",
              "      <td>DL</td>\n",
              "      <td>10140</td>\n",
              "      <td>10397</td>\n",
              "      <td>18</td>\n",
              "      <td>9</td>\n",
              "      <td>10140</td>\n",
              "      <td>Albuquerque</td>\n",
              "      <td>NM</td>\n",
              "      <td>Albuquerque International Sunport</td>\n",
              "    </tr>\n",
              "    <tr>\n",
              "      <th>2702216</th>\n",
              "      <td>19</td>\n",
              "      <td>6</td>\n",
              "      <td>DL</td>\n",
              "      <td>10397</td>\n",
              "      <td>13244</td>\n",
              "      <td>10</td>\n",
              "      <td>7</td>\n",
              "      <td>10397</td>\n",
              "      <td>Atlanta</td>\n",
              "      <td>GA</td>\n",
              "      <td>Hartsfield-Jackson Atlanta International</td>\n",
              "    </tr>\n",
              "    <tr>\n",
              "      <th>2702217</th>\n",
              "      <td>19</td>\n",
              "      <td>6</td>\n",
              "      <td>DL</td>\n",
              "      <td>10397</td>\n",
              "      <td>13487</td>\n",
              "      <td>0</td>\n",
              "      <td>-13</td>\n",
              "      <td>10397</td>\n",
              "      <td>Atlanta</td>\n",
              "      <td>GA</td>\n",
              "      <td>Hartsfield-Jackson Atlanta International</td>\n",
              "    </tr>\n",
              "  </tbody>\n",
              "</table>\n",
              "<p>2702218 rows × 11 columns</p>\n",
              "</div>"
            ],
            "text/plain": [
              "         วันในเดือน  ...                                 ชื่อสนามบิน\n",
              "0                19  ...                  Detroit Metro Wayne County\n",
              "1                19  ...                Salt Lake City International\n",
              "2                19  ...                      Portland International\n",
              "3                19  ...             Lambert-St. Louis International\n",
              "4                19  ...  Cincinnati/Northern Kentucky International\n",
              "...             ...  ...                                         ...\n",
              "2702213          19  ...                       Orlando International\n",
              "2702214          19  ...    Hartsfield-Jackson Atlanta International\n",
              "2702215          19  ...           Albuquerque International Sunport\n",
              "2702216          19  ...    Hartsfield-Jackson Atlanta International\n",
              "2702217          19  ...    Hartsfield-Jackson Atlanta International\n",
              "\n",
              "[2702218 rows x 11 columns]"
            ]
          },
          "metadata": {},
          "execution_count": 78
        }
      ]
    },
    {
      "cell_type": "markdown",
      "metadata": {
        "id": "u3f0kixBTrgA"
      },
      "source": [
        "#1. หารัฐที่มีจำนวนเครื่องบินขาออกมากที่สุดและน้อยที่สุด"
      ]
    },
    {
      "cell_type": "code",
      "metadata": {
        "id": "hp3islOqTjsv",
        "outputId": "9ed2dc4a-c745-4ef1-f6ee-d85cb96acef0",
        "colab": {
          "base_uri": "https://localhost:8080/",
          "height": 81
        }
      },
      "source": [
        "Max= merged_table.sort_values(by=['รัฐ'],ascending=False)\n",
        "Max.iloc[:1,[3,9]]"
      ],
      "execution_count": 44,
      "outputs": [
        {
          "output_type": "execute_result",
          "data": {
            "text/html": [
              "<div>\n",
              "<style scoped>\n",
              "    .dataframe tbody tr th:only-of-type {\n",
              "        vertical-align: middle;\n",
              "    }\n",
              "\n",
              "    .dataframe tbody tr th {\n",
              "        vertical-align: top;\n",
              "    }\n",
              "\n",
              "    .dataframe thead th {\n",
              "        text-align: right;\n",
              "    }\n",
              "</style>\n",
              "<table border=\"1\" class=\"dataframe\">\n",
              "  <thead>\n",
              "    <tr style=\"text-align: right;\">\n",
              "      <th></th>\n",
              "      <th>รหัสสนามบินต้นทาง</th>\n",
              "      <th>รัฐ</th>\n",
              "    </tr>\n",
              "  </thead>\n",
              "  <tbody>\n",
              "    <tr>\n",
              "      <th>300811</th>\n",
              "      <td>13487</td>\n",
              "      <td>WI</td>\n",
              "    </tr>\n",
              "  </tbody>\n",
              "</table>\n",
              "</div>"
            ],
            "text/plain": [
              "        รหัสสนามบินต้นทาง รัฐ\n",
              "300811              13487  WI"
            ]
          },
          "metadata": {},
          "execution_count": 44
        }
      ]
    },
    {
      "cell_type": "code",
      "metadata": {
        "id": "3Cmq-M8EU9sC",
        "outputId": "b1f4ec04-a94e-4976-e3c5-97ade06130f8",
        "colab": {
          "base_uri": "https://localhost:8080/",
          "height": 81
        }
      },
      "source": [
        "Min= merged_table.sort_values(by=['รัฐ'],ascending=True)\n",
        "Min.iloc[:1,[3,9]]"
      ],
      "execution_count": 43,
      "outputs": [
        {
          "output_type": "execute_result",
          "data": {
            "text/html": [
              "<div>\n",
              "<style scoped>\n",
              "    .dataframe tbody tr th:only-of-type {\n",
              "        vertical-align: middle;\n",
              "    }\n",
              "\n",
              "    .dataframe tbody tr th {\n",
              "        vertical-align: top;\n",
              "    }\n",
              "\n",
              "    .dataframe thead th {\n",
              "        text-align: right;\n",
              "    }\n",
              "</style>\n",
              "<table border=\"1\" class=\"dataframe\">\n",
              "  <thead>\n",
              "    <tr style=\"text-align: right;\">\n",
              "      <th></th>\n",
              "      <th>รหัสสนามบินต้นทาง</th>\n",
              "      <th>รัฐ</th>\n",
              "    </tr>\n",
              "  </thead>\n",
              "  <tbody>\n",
              "    <tr>\n",
              "      <th>507270</th>\n",
              "      <td>14057</td>\n",
              "      <td>AK</td>\n",
              "    </tr>\n",
              "  </tbody>\n",
              "</table>\n",
              "</div>"
            ],
            "text/plain": [
              "        รหัสสนามบินต้นทาง รัฐ\n",
              "507270              14057  AK"
            ]
          },
          "metadata": {},
          "execution_count": 43
        }
      ]
    },
    {
      "cell_type": "markdown",
      "metadata": {
        "id": "7riVQRkDZT3B"
      },
      "source": [
        "รัฐ WI มีจำนวนเครื่องบินขาออกมากที่สุดและรัฐ AK มีจำนวนเครื่องบินขาออกน้อยที่สุด"
      ]
    },
    {
      "cell_type": "code",
      "metadata": {
        "id": "g0htoI4LVKMR"
      },
      "source": [
        ""
      ],
      "execution_count": null,
      "outputs": []
    },
    {
      "cell_type": "markdown",
      "metadata": {
        "id": "6eZ_XksKVb-C"
      },
      "source": [
        "#4. สายการบินอะไรมีความล่าช้ามากที่สุดและน้อยที่สุด"
      ]
    },
    {
      "cell_type": "code",
      "metadata": {
        "id": "hj3_z0z1VhCI",
        "outputId": "5163003d-1a6f-49c9-8e23-fb514417b618",
        "colab": {
          "base_uri": "https://localhost:8080/",
          "height": 81
        }
      },
      "source": [
        "Max1 =merged_table.sort_values(by=['ความล่าช้าขาออก'],ascending=False)\n",
        "Max1.iloc[:1,[2,5]]"
      ],
      "execution_count": 28,
      "outputs": [
        {
          "output_type": "execute_result",
          "data": {
            "text/html": [
              "<div>\n",
              "<style scoped>\n",
              "    .dataframe tbody tr th:only-of-type {\n",
              "        vertical-align: middle;\n",
              "    }\n",
              "\n",
              "    .dataframe tbody tr th {\n",
              "        vertical-align: top;\n",
              "    }\n",
              "\n",
              "    .dataframe thead th {\n",
              "        text-align: right;\n",
              "    }\n",
              "</style>\n",
              "<table border=\"1\" class=\"dataframe\">\n",
              "  <thead>\n",
              "    <tr style=\"text-align: right;\">\n",
              "      <th></th>\n",
              "      <th>สายการบิน</th>\n",
              "      <th>ความล่าช้าขาออก</th>\n",
              "    </tr>\n",
              "  </thead>\n",
              "  <tbody>\n",
              "    <tr>\n",
              "      <th>2632902</th>\n",
              "      <td>AA</td>\n",
              "      <td>1863</td>\n",
              "    </tr>\n",
              "  </tbody>\n",
              "</table>\n",
              "</div>"
            ],
            "text/plain": [
              "        สายการบิน  ความล่าช้าขาออก\n",
              "2632902        AA             1863"
            ]
          },
          "metadata": {},
          "execution_count": 28
        }
      ]
    },
    {
      "cell_type": "code",
      "metadata": {
        "id": "My9cs7dgWQh2",
        "outputId": "1f798e52-5b3d-4b1b-dd8c-6f2431c22aa1",
        "colab": {
          "base_uri": "https://localhost:8080/",
          "height": 81
        }
      },
      "source": [
        "Min1 =merged_table.sort_values(by=['ความล่าช้าขาออก'],ascending=True)\n",
        "Min1.iloc[:1,[2,5]]"
      ],
      "execution_count": 29,
      "outputs": [
        {
          "output_type": "execute_result",
          "data": {
            "text/html": [
              "<div>\n",
              "<style scoped>\n",
              "    .dataframe tbody tr th:only-of-type {\n",
              "        vertical-align: middle;\n",
              "    }\n",
              "\n",
              "    .dataframe tbody tr th {\n",
              "        vertical-align: top;\n",
              "    }\n",
              "\n",
              "    .dataframe thead th {\n",
              "        text-align: right;\n",
              "    }\n",
              "</style>\n",
              "<table border=\"1\" class=\"dataframe\">\n",
              "  <thead>\n",
              "    <tr style=\"text-align: right;\">\n",
              "      <th></th>\n",
              "      <th>สายการบิน</th>\n",
              "      <th>ความล่าช้าขาออก</th>\n",
              "    </tr>\n",
              "  </thead>\n",
              "  <tbody>\n",
              "    <tr>\n",
              "      <th>2576772</th>\n",
              "      <td>F9</td>\n",
              "      <td>-63</td>\n",
              "    </tr>\n",
              "  </tbody>\n",
              "</table>\n",
              "</div>"
            ],
            "text/plain": [
              "        สายการบิน  ความล่าช้าขาออก\n",
              "2576772        F9              -63"
            ]
          },
          "metadata": {},
          "execution_count": 29
        }
      ]
    },
    {
      "cell_type": "code",
      "metadata": {
        "id": "1Dtwe2Thk2hq",
        "outputId": "549823cd-1c2e-47b7-c2aa-2b32d731235b",
        "colab": {
          "base_uri": "https://localhost:8080/",
          "height": 81
        }
      },
      "source": [
        "Max2 =merged_table.sort_values(by=['ความล่าช้าขาเข้า'],ascending=False)\n",
        "Max2.iloc[:1,[2,6]]"
      ],
      "execution_count": 58,
      "outputs": [
        {
          "output_type": "execute_result",
          "data": {
            "text/html": [
              "<div>\n",
              "<style scoped>\n",
              "    .dataframe tbody tr th:only-of-type {\n",
              "        vertical-align: middle;\n",
              "    }\n",
              "\n",
              "    .dataframe tbody tr th {\n",
              "        vertical-align: top;\n",
              "    }\n",
              "\n",
              "    .dataframe thead th {\n",
              "        text-align: right;\n",
              "    }\n",
              "</style>\n",
              "<table border=\"1\" class=\"dataframe\">\n",
              "  <thead>\n",
              "    <tr style=\"text-align: right;\">\n",
              "      <th></th>\n",
              "      <th>สายการบิน</th>\n",
              "      <th>ความล่าช้าขาเข้า</th>\n",
              "    </tr>\n",
              "  </thead>\n",
              "  <tbody>\n",
              "    <tr>\n",
              "      <th>1230689</th>\n",
              "      <td>HA</td>\n",
              "      <td>1845</td>\n",
              "    </tr>\n",
              "  </tbody>\n",
              "</table>\n",
              "</div>"
            ],
            "text/plain": [
              "        สายการบิน  ความล่าช้าขาเข้า\n",
              "1230689        HA              1845"
            ]
          },
          "metadata": {},
          "execution_count": 58
        }
      ]
    },
    {
      "cell_type": "code",
      "metadata": {
        "id": "TYCl96brlAcp",
        "outputId": "3ffdeaa5-1180-47b2-c6c7-e8f7e89b83be",
        "colab": {
          "base_uri": "https://localhost:8080/",
          "height": 81
        }
      },
      "source": [
        "Min2 =merged_table.sort_values(by=['ความล่าช้าขาเข้า'],ascending=True)\n",
        "Min2.iloc[:1,[2,6]]"
      ],
      "execution_count": 60,
      "outputs": [
        {
          "output_type": "execute_result",
          "data": {
            "text/html": [
              "<div>\n",
              "<style scoped>\n",
              "    .dataframe tbody tr th:only-of-type {\n",
              "        vertical-align: middle;\n",
              "    }\n",
              "\n",
              "    .dataframe tbody tr th {\n",
              "        vertical-align: top;\n",
              "    }\n",
              "\n",
              "    .dataframe thead th {\n",
              "        text-align: right;\n",
              "    }\n",
              "</style>\n",
              "<table border=\"1\" class=\"dataframe\">\n",
              "  <thead>\n",
              "    <tr style=\"text-align: right;\">\n",
              "      <th></th>\n",
              "      <th>สายการบิน</th>\n",
              "      <th>ความล่าช้าขาเข้า</th>\n",
              "    </tr>\n",
              "  </thead>\n",
              "  <tbody>\n",
              "    <tr>\n",
              "      <th>666915</th>\n",
              "      <td>YV</td>\n",
              "      <td>-94</td>\n",
              "    </tr>\n",
              "  </tbody>\n",
              "</table>\n",
              "</div>"
            ],
            "text/plain": [
              "       สายการบิน  ความล่าช้าขาเข้า\n",
              "666915        YV               -94"
            ]
          },
          "metadata": {},
          "execution_count": 60
        }
      ]
    },
    {
      "cell_type": "markdown",
      "metadata": {
        "id": "hM-et0YOZD_L"
      },
      "source": [
        "สายการบิน AA มีความล่าช้าขาออกมากที่สุด และสายการบิน F9 มีความล่าช้าขาออกน้อยสุด\n",
        "\n",
        "สายการบิน HA มีความล่าช้าขาเข้ามากที่สุด และสายการบิน YV มีความล่าช้าขาเข้าน้อยสุด"
      ]
    },
    {
      "cell_type": "code",
      "metadata": {
        "id": "-FFu9vDgZQcE"
      },
      "source": [
        ""
      ],
      "execution_count": null,
      "outputs": []
    },
    {
      "cell_type": "markdown",
      "metadata": {
        "id": "-hkPIa_jdtop"
      },
      "source": [
        "#โจทย์คิดเอง\n",
        "\n",
        "รัฐไหนที่มีค่าเฉลี่ยของ 'ความล่าช้าขาออกและความล่าช้าขาเข้า' สูงที่สุด 4 อันดับเเรก"
      ]
    },
    {
      "cell_type": "code",
      "metadata": {
        "id": "ckFlK8V5d2pj",
        "outputId": "3d0cdfe4-0c45-46a9-b603-634022f90df9",
        "colab": {
          "base_uri": "https://localhost:8080/",
          "height": 206
        }
      },
      "source": [
        "pp = merged_table.groupby('รัฐ').mean().sort_values(by=['ความล่าช้าขาออก'],ascending=False)\n",
        "pp.iloc[:4,[4]]"
      ],
      "execution_count": 90,
      "outputs": [
        {
          "output_type": "execute_result",
          "data": {
            "text/html": [
              "<div>\n",
              "<style scoped>\n",
              "    .dataframe tbody tr th:only-of-type {\n",
              "        vertical-align: middle;\n",
              "    }\n",
              "\n",
              "    .dataframe tbody tr th {\n",
              "        vertical-align: top;\n",
              "    }\n",
              "\n",
              "    .dataframe thead th {\n",
              "        text-align: right;\n",
              "    }\n",
              "</style>\n",
              "<table border=\"1\" class=\"dataframe\">\n",
              "  <thead>\n",
              "    <tr style=\"text-align: right;\">\n",
              "      <th></th>\n",
              "      <th>ความล่าช้าขาออก</th>\n",
              "    </tr>\n",
              "    <tr>\n",
              "      <th>รัฐ</th>\n",
              "      <th></th>\n",
              "    </tr>\n",
              "  </thead>\n",
              "  <tbody>\n",
              "    <tr>\n",
              "      <th>IL</th>\n",
              "      <td>15.806238</td>\n",
              "    </tr>\n",
              "    <tr>\n",
              "      <th>NJ</th>\n",
              "      <td>14.552501</td>\n",
              "    </tr>\n",
              "    <tr>\n",
              "      <th>CO</th>\n",
              "      <td>14.463063</td>\n",
              "    </tr>\n",
              "    <tr>\n",
              "      <th>MD</th>\n",
              "      <td>13.692181</td>\n",
              "    </tr>\n",
              "  </tbody>\n",
              "</table>\n",
              "</div>"
            ],
            "text/plain": [
              "     ความล่าช้าขาออก\n",
              "รัฐ                 \n",
              "IL         15.806238\n",
              "NJ         14.552501\n",
              "CO         14.463063\n",
              "MD         13.692181"
            ]
          },
          "metadata": {},
          "execution_count": 90
        }
      ]
    },
    {
      "cell_type": "markdown",
      "metadata": {
        "id": "QwkkVbY4ittj"
      },
      "source": [
        "รัฐที่มีค่าเฉลี่ยของ 'ความล่าช้าขาออก' สูงที่สุด 4 อันดับแรก\n",
        "\n",
        "1. รัฐIL เท่ากับ 15.806238\n",
        "2. รัฐNJ เท่ากับ 14.552501\n",
        "3. รัฐCO เท่ากับ 14.463063\n",
        "4. รัฐMD เท่ากับ 13.692181"
      ]
    },
    {
      "cell_type": "code",
      "metadata": {
        "id": "iavg8LAttCGZ",
        "outputId": "75126d2a-00a0-43d7-cc0b-f395e4d0569b",
        "colab": {
          "base_uri": "https://localhost:8080/",
          "height": 206
        }
      },
      "source": [
        "pp1 = merged_table.groupby('รัฐ').mean().sort_values(by=['ความล่าช้าขาเข้า'],ascending=False)\n",
        "pp1.iloc[:4,[5]]"
      ],
      "execution_count": 93,
      "outputs": [
        {
          "output_type": "execute_result",
          "data": {
            "text/html": [
              "<div>\n",
              "<style scoped>\n",
              "    .dataframe tbody tr th:only-of-type {\n",
              "        vertical-align: middle;\n",
              "    }\n",
              "\n",
              "    .dataframe tbody tr th {\n",
              "        vertical-align: top;\n",
              "    }\n",
              "\n",
              "    .dataframe thead th {\n",
              "        text-align: right;\n",
              "    }\n",
              "</style>\n",
              "<table border=\"1\" class=\"dataframe\">\n",
              "  <thead>\n",
              "    <tr style=\"text-align: right;\">\n",
              "      <th></th>\n",
              "      <th>ความล่าช้าขาเข้า</th>\n",
              "    </tr>\n",
              "    <tr>\n",
              "      <th>รัฐ</th>\n",
              "      <th></th>\n",
              "    </tr>\n",
              "  </thead>\n",
              "  <tbody>\n",
              "    <tr>\n",
              "      <th>IL</th>\n",
              "      <td>11.654502</td>\n",
              "    </tr>\n",
              "    <tr>\n",
              "      <th>CO</th>\n",
              "      <td>11.441419</td>\n",
              "    </tr>\n",
              "    <tr>\n",
              "      <th>MD</th>\n",
              "      <td>9.631479</td>\n",
              "    </tr>\n",
              "    <tr>\n",
              "      <th>PR</th>\n",
              "      <td>8.353468</td>\n",
              "    </tr>\n",
              "  </tbody>\n",
              "</table>\n",
              "</div>"
            ],
            "text/plain": [
              "     ความล่าช้าขาเข้า\n",
              "รัฐ                  \n",
              "IL          11.654502\n",
              "CO          11.441419\n",
              "MD           9.631479\n",
              "PR           8.353468"
            ]
          },
          "metadata": {},
          "execution_count": 93
        }
      ]
    },
    {
      "cell_type": "markdown",
      "metadata": {
        "id": "mYkhfqZRteK8"
      },
      "source": [
        "รัฐที่มีค่าเฉลี่ยของ 'ความล่าช้าขาเข้า' สูงที่สุด 4 อันดับแรก\n",
        "1. รัฐIL เท่ากับ 11.654502\n",
        "2. รัฐCO เท่ากับ 11.441419\n",
        "3. รัฐMD เท่ากับ 9.631479\n",
        "4. รัฐPR เท่ากับ 8.353468"
      ]
    }
  ]
}