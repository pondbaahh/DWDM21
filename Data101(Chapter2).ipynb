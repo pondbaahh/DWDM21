{
  "nbformat": 4,
  "nbformat_minor": 0,
  "metadata": {
    "colab": {
      "name": "Data101(Chapter2).ipynb",
      "provenance": [],
      "authorship_tag": "ABX9TyNOlmw2h5TUnxXcc5X3DdrD",
      "include_colab_link": true
    },
    "kernelspec": {
      "name": "python3",
      "display_name": "Python 3"
    },
    "language_info": {
      "name": "python"
    }
  },
  "cells": [
    {
      "cell_type": "markdown",
      "metadata": {
        "id": "view-in-github",
        "colab_type": "text"
      },
      "source": [
        "<a href=\"https://colab.research.google.com/github/pondbaahh/DWDM21/blob/main/Data101(Chapter2).ipynb\" target=\"_parent\"><img src=\"https://colab.research.google.com/assets/colab-badge.svg\" alt=\"Open In Colab\"/></a>"
      ]
    },
    {
      "cell_type": "markdown",
      "metadata": {
        "id": "bQtDlVMJz1gW"
      },
      "source": [
        "ข้อความที่อยู่ใน textbox จะเป็นภาษา Markdown"
      ]
    },
    {
      "cell_type": "markdown",
      "metadata": {
        "id": "mNsEZ-Fbtrve"
      },
      "source": [
        "ข้อดีหนึ่งของ Python คือมี package สำหรับทำงานต่างๆมากมาย \n",
        "\n",
        "ซึ่ง pandas เป็น package สำหรับการทำงนชานกับข้อมูลที่อยู่ในรูปแบบตาราง\n",
        "\n",
        "โดย pandas จะเรียกตารางนั้นว่า dataframe"
      ]
    },
    {
      "cell_type": "code",
      "metadata": {
        "id": "2N3mSVEzsPTE"
      },
      "source": [
        "import pandas  #วิธีเรียกใช้ package คือ import ตามด้วยชื่อ package"
      ],
      "execution_count": null,
      "outputs": []
    },
    {
      "cell_type": "code",
      "metadata": {
        "id": "rODx9-VmtFRE"
      },
      "source": [
        "import pandas as pd #เหมือนกับข้างบน แต่ว่า ตั้งชื่อให้ package ที่โหลดมาใหม่ว่า pd"
      ],
      "execution_count": null,
      "outputs": []
    },
    {
      "cell_type": "markdown",
      "metadata": {
        "id": "8xoUoLI9uvDM"
      },
      "source": [
        "ไฟล์ .csv (csv = comma separated values) เป็นไฟล์หลักที่ใช้กันในวิชานี้"
      ]
    },
    {
      "cell_type": "code",
      "metadata": {
        "id": "Sep5UuLyue-e"
      },
      "source": [
        "data_df = pd.read_csv('data.csv')"
      ],
      "execution_count": null,
      "outputs": []
    },
    {
      "cell_type": "code",
      "metadata": {
        "colab": {
          "base_uri": "https://localhost:8080/",
          "height": 143
        },
        "id": "uWDR0Fj9xS9J",
        "outputId": "4d4ef531-b9fd-401b-e1be-e521df483ac9"
      },
      "source": [
        "data_df"
      ],
      "execution_count": null,
      "outputs": [
        {
          "output_type": "execute_result",
          "data": {
            "text/html": [
              "<div>\n",
              "<style scoped>\n",
              "    .dataframe tbody tr th:only-of-type {\n",
              "        vertical-align: middle;\n",
              "    }\n",
              "\n",
              "    .dataframe tbody tr th {\n",
              "        vertical-align: top;\n",
              "    }\n",
              "\n",
              "    .dataframe thead th {\n",
              "        text-align: right;\n",
              "    }\n",
              "</style>\n",
              "<table border=\"1\" class=\"dataframe\">\n",
              "  <thead>\n",
              "    <tr style=\"text-align: right;\">\n",
              "      <th></th>\n",
              "      <th>name</th>\n",
              "      <th>age</th>\n",
              "      <th>city</th>\n",
              "    </tr>\n",
              "  </thead>\n",
              "  <tbody>\n",
              "    <tr>\n",
              "      <th>0</th>\n",
              "      <td>Tom</td>\n",
              "      <td>27</td>\n",
              "      <td>Khon Kaen</td>\n",
              "    </tr>\n",
              "    <tr>\n",
              "      <th>1</th>\n",
              "      <td>Paul</td>\n",
              "      <td>15</td>\n",
              "      <td>Bangkook</td>\n",
              "    </tr>\n",
              "    <tr>\n",
              "      <th>2</th>\n",
              "      <td>Sarah</td>\n",
              "      <td>49</td>\n",
              "      <td>London</td>\n",
              "    </tr>\n",
              "  </tbody>\n",
              "</table>\n",
              "</div>"
            ],
            "text/plain": [
              "    name  age       city\n",
              "0    Tom   27  Khon Kaen\n",
              "1   Paul   15   Bangkook\n",
              "2  Sarah   49     London"
            ]
          },
          "metadata": {
            "tags": []
          },
          "execution_count": 4
        }
      ]
    },
    {
      "cell_type": "code",
      "metadata": {
        "colab": {
          "base_uri": "https://localhost:8080/",
          "height": 143
        },
        "id": "WIEVNGEiyGcn",
        "outputId": "36d3d024-bcd2-497c-fd69-8c75bc5b41fe"
      },
      "source": [
        "data_df = pd.read_csv('data.csv')\n",
        "data_df"
      ],
      "execution_count": null,
      "outputs": [
        {
          "output_type": "execute_result",
          "data": {
            "text/html": [
              "<div>\n",
              "<style scoped>\n",
              "    .dataframe tbody tr th:only-of-type {\n",
              "        vertical-align: middle;\n",
              "    }\n",
              "\n",
              "    .dataframe tbody tr th {\n",
              "        vertical-align: top;\n",
              "    }\n",
              "\n",
              "    .dataframe thead th {\n",
              "        text-align: right;\n",
              "    }\n",
              "</style>\n",
              "<table border=\"1\" class=\"dataframe\">\n",
              "  <thead>\n",
              "    <tr style=\"text-align: right;\">\n",
              "      <th></th>\n",
              "      <th>name</th>\n",
              "      <th>age</th>\n",
              "      <th>city</th>\n",
              "    </tr>\n",
              "  </thead>\n",
              "  <tbody>\n",
              "    <tr>\n",
              "      <th>0</th>\n",
              "      <td>Tom</td>\n",
              "      <td>27</td>\n",
              "      <td>Khon Kaen</td>\n",
              "    </tr>\n",
              "    <tr>\n",
              "      <th>1</th>\n",
              "      <td>Paul</td>\n",
              "      <td>15</td>\n",
              "      <td>Bangkook</td>\n",
              "    </tr>\n",
              "    <tr>\n",
              "      <th>2</th>\n",
              "      <td>Sarah</td>\n",
              "      <td>49</td>\n",
              "      <td>London</td>\n",
              "    </tr>\n",
              "  </tbody>\n",
              "</table>\n",
              "</div>"
            ],
            "text/plain": [
              "    name  age       city\n",
              "0    Tom   27  Khon Kaen\n",
              "1   Paul   15   Bangkook\n",
              "2  Sarah   49     London"
            ]
          },
          "metadata": {
            "tags": []
          },
          "execution_count": 5
        }
      ]
    },
    {
      "cell_type": "markdown",
      "metadata": {
        "id": "Q03Elftxzj-V"
      },
      "source": [
        "# Basic Python\n",
        "## Variables"
      ]
    },
    {
      "cell_type": "markdown",
      "metadata": {
        "id": "orC-Cs5C1m8u"
      },
      "source": [
        "ข้อกำหนดในการตั้งชื่อ\n",
        "\n",
        "1. ชื่อห้ามมีเว้นวรรค\n",
        "2. ใช้พยายามภาษาอังกฤษ\n",
        "3. ตัวเล็กกับตัวใหญ่เเตกต่างกัน(case sensitive)\n",
        "4. ห้ามใช้ตัวเลขเป็นตัวหน้า\n"
      ]
    },
    {
      "cell_type": "code",
      "metadata": {
        "id": "M4udQwpoyb-C"
      },
      "source": [
        "variable_a = 12 \n",
        "variable_b = 'abcde' # ' ตัวนี้เรียกว่า quote\n",
        "variable_c = variable_a "
      ],
      "execution_count": null,
      "outputs": []
    },
    {
      "cell_type": "code",
      "metadata": {
        "colab": {
          "base_uri": "https://localhost:8080/"
        },
        "id": "lDvryD8N1OWz",
        "outputId": "10311379-7198-4b00-bf12-9131050ac674"
      },
      "source": [
        "variable_a"
      ],
      "execution_count": null,
      "outputs": [
        {
          "output_type": "execute_result",
          "data": {
            "text/plain": [
              "12"
            ]
          },
          "metadata": {
            "tags": []
          },
          "execution_count": 7
        }
      ]
    },
    {
      "cell_type": "code",
      "metadata": {
        "colab": {
          "base_uri": "https://localhost:8080/",
          "height": 35
        },
        "id": "zumlp2Jv1SBC",
        "outputId": "d694401d-c3b7-4689-a6e3-336fb01ed8ee"
      },
      "source": [
        "variable_b"
      ],
      "execution_count": null,
      "outputs": [
        {
          "output_type": "execute_result",
          "data": {
            "application/vnd.google.colaboratory.intrinsic+json": {
              "type": "string"
            },
            "text/plain": [
              "'abcde'"
            ]
          },
          "metadata": {
            "tags": []
          },
          "execution_count": 8
        }
      ]
    },
    {
      "cell_type": "code",
      "metadata": {
        "colab": {
          "base_uri": "https://localhost:8080/"
        },
        "id": "VRUrdfJJ1UCz",
        "outputId": "b9e2627b-ab42-4918-888b-58906c744e92"
      },
      "source": [
        "variable_c"
      ],
      "execution_count": null,
      "outputs": [
        {
          "output_type": "execute_result",
          "data": {
            "text/plain": [
              "12"
            ]
          },
          "metadata": {
            "tags": []
          },
          "execution_count": 9
        }
      ]
    },
    {
      "cell_type": "code",
      "metadata": {
        "colab": {
          "base_uri": "https://localhost:8080/",
          "height": 131
        },
        "id": "CjFPSeS_2FXZ",
        "outputId": "c7828a30-d15c-4d7a-b12a-65350c5c367f"
      },
      "source": [
        "variable a = 6  #ชื่อห้ามวรรค"
      ],
      "execution_count": null,
      "outputs": [
        {
          "output_type": "error",
          "ename": "SyntaxError",
          "evalue": "ignored",
          "traceback": [
            "\u001b[0;36m  File \u001b[0;32m\"<ipython-input-12-d127d37c2a6a>\"\u001b[0;36m, line \u001b[0;32m1\u001b[0m\n\u001b[0;31m    variable a = 6  #ชื่อห้ามวรรค\u001b[0m\n\u001b[0m             ^\u001b[0m\n\u001b[0;31mSyntaxError\u001b[0m\u001b[0;31m:\u001b[0m invalid syntax\n"
          ]
        }
      ]
    },
    {
      "cell_type": "code",
      "metadata": {
        "colab": {
          "base_uri": "https://localhost:8080/"
        },
        "id": "BRY4rAAu2MMX",
        "outputId": "15cf236a-ba69-48df-f657-0590635736d4"
      },
      "source": [
        "#พยายามใช้ภาษาอังกฤษ \n",
        "# colab ใช้ชื่อภาษาไทยเป็นตัวแปรได้ แต่ไม่ควรใช้\n",
        "ตัวแปร = 3  \n",
        "ตัวแปร"
      ],
      "execution_count": null,
      "outputs": [
        {
          "output_type": "execute_result",
          "data": {
            "text/plain": [
              "3"
            ]
          },
          "metadata": {
            "tags": []
          },
          "execution_count": 11
        }
      ]
    },
    {
      "cell_type": "code",
      "metadata": {
        "colab": {
          "base_uri": "https://localhost:8080/"
        },
        "id": "z7KiPjsu2yc0",
        "outputId": "2dc088e4-e262-4abb-aeaf-cb275f86fecf"
      },
      "source": [
        "#ตัวเล็กกับตัวใหญ่เเตกต่างกัน(case sensitive)\n",
        "v_a = 1\n",
        "V_a = 2\n",
        "print(v_a)\n",
        "print(V_a)"
      ],
      "execution_count": null,
      "outputs": [
        {
          "output_type": "stream",
          "text": [
            "1\n",
            "2\n"
          ],
          "name": "stdout"
        }
      ]
    },
    {
      "cell_type": "code",
      "metadata": {
        "colab": {
          "base_uri": "https://localhost:8080/",
          "height": 131
        },
        "id": "I9EMkXuW3oah",
        "outputId": "311f68ce-4134-4622-a3b8-178ada45640b"
      },
      "source": [
        "#ห้ามใช้ตัวเลขเป็นตัวหน้า\n",
        "2 = 1\n"
      ],
      "execution_count": null,
      "outputs": [
        {
          "output_type": "error",
          "ename": "SyntaxError",
          "evalue": "ignored",
          "traceback": [
            "\u001b[0;36m  File \u001b[0;32m\"<ipython-input-14-2d4ad990ef8c>\"\u001b[0;36m, line \u001b[0;32m2\u001b[0m\n\u001b[0;31m    2 = 1\u001b[0m\n\u001b[0m         ^\u001b[0m\n\u001b[0;31mSyntaxError\u001b[0m\u001b[0;31m:\u001b[0m can't assign to literal\n"
          ]
        }
      ]
    },
    {
      "cell_type": "code",
      "metadata": {
        "id": "XnsMGELp37ZI"
      },
      "source": [
        "variable_a = 12 \n",
        "variable_b = 'abcde' # ' ตัวนี้เรียกว่า quote\n",
        "variable_c = variable_a \n",
        "variable_d = -41.2\n",
        "variable_4 = \"KKU\" # \" เรียกว่า double quote\n",
        " "
      ],
      "execution_count": null,
      "outputs": []
    },
    {
      "cell_type": "code",
      "metadata": {
        "colab": {
          "base_uri": "https://localhost:8080/"
        },
        "id": "2KMB2e3b4gN4",
        "outputId": "5996cfc1-2ca3-4d45-b3b4-c54eb37e907c"
      },
      "source": [
        "variable_x = variable_c + variable_d\n",
        "print(variable_x)"
      ],
      "execution_count": null,
      "outputs": [
        {
          "output_type": "stream",
          "text": [
            "-29.200000000000003\n"
          ],
          "name": "stdout"
        }
      ]
    },
    {
      "cell_type": "code",
      "metadata": {
        "colab": {
          "base_uri": "https://localhost:8080/",
          "height": 166
        },
        "id": "IQSoqkHn6UqG",
        "outputId": "f3fb04fe-1ba2-4718-a51a-d691cb64f06e"
      },
      "source": [
        "variable_a + variable_b"
      ],
      "execution_count": null,
      "outputs": [
        {
          "output_type": "error",
          "ename": "TypeError",
          "evalue": "ignored",
          "traceback": [
            "\u001b[0;31m---------------------------------------------------------------------------\u001b[0m",
            "\u001b[0;31mTypeError\u001b[0m                                 Traceback (most recent call last)",
            "\u001b[0;32m<ipython-input-17-ca279e5cd267>\u001b[0m in \u001b[0;36m<module>\u001b[0;34m()\u001b[0m\n\u001b[0;32m----> 1\u001b[0;31m \u001b[0mvariable_a\u001b[0m \u001b[0;34m+\u001b[0m \u001b[0mvariable_b\u001b[0m\u001b[0;34m\u001b[0m\u001b[0;34m\u001b[0m\u001b[0m\n\u001b[0m",
            "\u001b[0;31mTypeError\u001b[0m: unsupported operand type(s) for +: 'int' and 'str'"
          ]
        }
      ]
    },
    {
      "cell_type": "code",
      "metadata": {
        "colab": {
          "base_uri": "https://localhost:8080/"
        },
        "id": "aD3ROi6z6Z7Q",
        "outputId": "2612bd43-5103-4659-c380-2335677b2a22"
      },
      "source": [
        "print(variable_b + variable_4)"
      ],
      "execution_count": null,
      "outputs": [
        {
          "output_type": "stream",
          "text": [
            "abcdeKKU\n"
          ],
          "name": "stdout"
        }
      ]
    },
    {
      "cell_type": "markdown",
      "metadata": {
        "id": "0YGrHzZR7IGN"
      },
      "source": [
        "## Casting int() float() str()\n"
      ]
    },
    {
      "cell_type": "code",
      "metadata": {
        "colab": {
          "base_uri": "https://localhost:8080/"
        },
        "id": "JNVQMbaM6xHG",
        "outputId": "c12b1387-d014-4fa6-9daf-db0c16133170"
      },
      "source": [
        "print(variable_x)\n",
        "print(int(variable_x))"
      ],
      "execution_count": null,
      "outputs": [
        {
          "output_type": "stream",
          "text": [
            "-29.200000000000003\n",
            "-29\n"
          ],
          "name": "stdout"
        }
      ]
    },
    {
      "cell_type": "code",
      "metadata": {
        "colab": {
          "base_uri": "https://localhost:8080/"
        },
        "id": "Ua88K3qM7d06",
        "outputId": "48f41e5d-12ed-4a3d-c49e-f0bc9570ac8e"
      },
      "source": [
        "V_X = str(variable_x)\n",
        "print(V_X)"
      ],
      "execution_count": null,
      "outputs": [
        {
          "output_type": "stream",
          "text": [
            "-29.200000000000003\n"
          ],
          "name": "stdout"
        }
      ]
    },
    {
      "cell_type": "code",
      "metadata": {
        "colab": {
          "base_uri": "https://localhost:8080/",
          "height": 166
        },
        "id": "4nvGWgYc74OR",
        "outputId": "18084071-4c27-4adf-a98c-4ae311c0c966"
      },
      "source": [
        "V_X + variable_a #ตัวข้างหน้าเป็ฯ str ไม่สามารถเอาตัวเลขมาต่อได้"
      ],
      "execution_count": null,
      "outputs": [
        {
          "output_type": "error",
          "ename": "TypeError",
          "evalue": "ignored",
          "traceback": [
            "\u001b[0;31m---------------------------------------------------------------------------\u001b[0m",
            "\u001b[0;31mTypeError\u001b[0m                                 Traceback (most recent call last)",
            "\u001b[0;32m<ipython-input-21-99cbe6d9c5ab>\u001b[0m in \u001b[0;36m<module>\u001b[0;34m()\u001b[0m\n\u001b[0;32m----> 1\u001b[0;31m \u001b[0mV_X\u001b[0m \u001b[0;34m+\u001b[0m \u001b[0mvariable_a\u001b[0m \u001b[0;31m#ตัวข้างหน้าเป็ฯ str ไม่สามารถเอาตัวเลขมาต่อได้\u001b[0m\u001b[0;34m\u001b[0m\u001b[0;34m\u001b[0m\u001b[0m\n\u001b[0m",
            "\u001b[0;31mTypeError\u001b[0m: can only concatenate str (not \"int\") to str"
          ]
        }
      ]
    },
    {
      "cell_type": "code",
      "metadata": {
        "colab": {
          "base_uri": "https://localhost:8080/",
          "height": 166
        },
        "id": "Iq3ZnvCa8CrN",
        "outputId": "81d8878d-ea65-4d5e-e11f-c76aff469f4a"
      },
      "source": [
        " variable_a + V_X #ตัวเลขไม่สาารถเอา str มาต่อได้"
      ],
      "execution_count": null,
      "outputs": [
        {
          "output_type": "error",
          "ename": "TypeError",
          "evalue": "ignored",
          "traceback": [
            "\u001b[0;31m---------------------------------------------------------------------------\u001b[0m",
            "\u001b[0;31mTypeError\u001b[0m                                 Traceback (most recent call last)",
            "\u001b[0;32m<ipython-input-22-31aafb1034da>\u001b[0m in \u001b[0;36m<module>\u001b[0;34m()\u001b[0m\n\u001b[0;32m----> 1\u001b[0;31m \u001b[0mvariable_a\u001b[0m \u001b[0;34m+\u001b[0m \u001b[0mV_X\u001b[0m \u001b[0;31m#ตัวเลขไม่สาารถเอา str มาต่อได้\u001b[0m\u001b[0;34m\u001b[0m\u001b[0;34m\u001b[0m\u001b[0m\n\u001b[0m",
            "\u001b[0;31mTypeError\u001b[0m: unsupported operand type(s) for +: 'int' and 'str'"
          ]
        }
      ]
    },
    {
      "cell_type": "code",
      "metadata": {
        "colab": {
          "base_uri": "https://localhost:8080/",
          "height": 35
        },
        "id": "7dxG9Kd78NLb",
        "outputId": "d6d333cd-9d00-438b-b01e-d5603fc3e44f"
      },
      "source": [
        "V_X   #พิมพ์ชื่อตัวแปรธรรมดา"
      ],
      "execution_count": null,
      "outputs": [
        {
          "output_type": "execute_result",
          "data": {
            "application/vnd.google.colaboratory.intrinsic+json": {
              "type": "string"
            },
            "text/plain": [
              "'-29.200000000000003'"
            ]
          },
          "metadata": {
            "tags": []
          },
          "execution_count": 23
        }
      ]
    },
    {
      "cell_type": "code",
      "metadata": {
        "colab": {
          "base_uri": "https://localhost:8080/"
        },
        "id": "EFskLToO8ns6",
        "outputId": "2c539a74-ce18-4ec8-8941-67dffc578332"
      },
      "source": [
        "float(V_X)  #เปลี่ยนมาเป็นตัวเลข"
      ],
      "execution_count": null,
      "outputs": [
        {
          "output_type": "execute_result",
          "data": {
            "text/plain": [
              "-29.200000000000003"
            ]
          },
          "metadata": {
            "tags": []
          },
          "execution_count": 24
        }
      ]
    },
    {
      "cell_type": "markdown",
      "metadata": {
        "id": "__1gtWVE9AF6"
      },
      "source": [
        "## Data Structure\n",
        "### list()"
      ]
    },
    {
      "cell_type": "code",
      "metadata": {
        "id": "3T5IucET8txZ"
      },
      "source": [
        "list_a = [1,2,0.2,'abs']   # [] squara brackets\n",
        "list_b = [2,'xyz',list_a,[1,2,0.0]]"
      ],
      "execution_count": null,
      "outputs": []
    },
    {
      "cell_type": "code",
      "metadata": {
        "colab": {
          "base_uri": "https://localhost:8080/"
        },
        "id": "0lKPUz3T93oR",
        "outputId": "1c349568-6447-4ded-f56d-e4fc9bf95b98"
      },
      "source": [
        "list_a"
      ],
      "execution_count": null,
      "outputs": [
        {
          "output_type": "execute_result",
          "data": {
            "text/plain": [
              "[1, 2, 0.2, 'abs']"
            ]
          },
          "metadata": {
            "tags": []
          },
          "execution_count": 26
        }
      ]
    },
    {
      "cell_type": "code",
      "metadata": {
        "colab": {
          "base_uri": "https://localhost:8080/"
        },
        "id": "vYg8bjgT-DJv",
        "outputId": "6e89e8d2-23c2-4906-a9a6-5ef569650cb2"
      },
      "source": [
        "list_b"
      ],
      "execution_count": null,
      "outputs": [
        {
          "output_type": "execute_result",
          "data": {
            "text/plain": [
              "[2, 'xyz', [1, 2, 0.2, 'abs'], [1, 2, 0.0]]"
            ]
          },
          "metadata": {
            "tags": []
          },
          "execution_count": 27
        }
      ]
    },
    {
      "cell_type": "code",
      "metadata": {
        "colab": {
          "base_uri": "https://localhost:8080/"
        },
        "id": "PsEYQU4r-F20",
        "outputId": "14f0e47d-8601-4164-b5b9-d99834a6e331"
      },
      "source": [
        "len(list_b) #len เพื่อดูว่า list มีกี่ตัว"
      ],
      "execution_count": null,
      "outputs": [
        {
          "output_type": "execute_result",
          "data": {
            "text/plain": [
              "4"
            ]
          },
          "metadata": {
            "tags": []
          },
          "execution_count": 28
        }
      ]
    },
    {
      "cell_type": "code",
      "metadata": {
        "colab": {
          "base_uri": "https://localhost:8080/"
        },
        "id": "9JqWxoMI-aQB",
        "outputId": "ad77daf6-0513-4316-b9d0-21a5b7809417"
      },
      "source": [
        "list_b[3]"
      ],
      "execution_count": null,
      "outputs": [
        {
          "output_type": "execute_result",
          "data": {
            "text/plain": [
              "[1, 2, 0.0]"
            ]
          },
          "metadata": {
            "tags": []
          },
          "execution_count": 29
        }
      ]
    },
    {
      "cell_type": "code",
      "metadata": {
        "colab": {
          "base_uri": "https://localhost:8080/"
        },
        "id": "11mIJ7lJ-j9K",
        "outputId": "ee0dc00e-b36a-4e9c-fb30-d857d97cc8b9"
      },
      "source": [
        "list_b[3][1]"
      ],
      "execution_count": null,
      "outputs": [
        {
          "output_type": "execute_result",
          "data": {
            "text/plain": [
              "2"
            ]
          },
          "metadata": {
            "tags": []
          },
          "execution_count": 30
        }
      ]
    },
    {
      "cell_type": "markdown",
      "metadata": {
        "id": "Mt17K6BW-20-"
      },
      "source": [
        "string คือ list ของตัวหนังสือ"
      ]
    },
    {
      "cell_type": "code",
      "metadata": {
        "id": "j5xk55YS-8uF"
      },
      "source": [
        "a = 'Stat KKU'"
      ],
      "execution_count": null,
      "outputs": []
    },
    {
      "cell_type": "code",
      "metadata": {
        "colab": {
          "base_uri": "https://localhost:8080/",
          "height": 35
        },
        "id": "q5-0J2Yi_GJC",
        "outputId": "40a0ed01-6066-4b24-9aa7-e5927fb7fdb4"
      },
      "source": [
        "a[4]"
      ],
      "execution_count": null,
      "outputs": [
        {
          "output_type": "execute_result",
          "data": {
            "application/vnd.google.colaboratory.intrinsic+json": {
              "type": "string"
            },
            "text/plain": [
              "' '"
            ]
          },
          "metadata": {
            "tags": []
          },
          "execution_count": 32
        }
      ]
    },
    {
      "cell_type": "markdown",
      "metadata": {
        "id": "o17SwuFG_k-Q"
      },
      "source": [
        "## วิธีสร้าง list แบบที่ 2"
      ]
    },
    {
      "cell_type": "code",
      "metadata": {
        "id": "kwrVb_Hq_Mbv"
      },
      "source": [
        "list_c = list() #แบบที่1 \n",
        "list_d = [] #แบบที่ 2"
      ],
      "execution_count": null,
      "outputs": []
    },
    {
      "cell_type": "code",
      "metadata": {
        "id": "NV2H4li7_7vu"
      },
      "source": [
        "list_c"
      ],
      "execution_count": null,
      "outputs": []
    },
    {
      "cell_type": "code",
      "metadata": {
        "colab": {
          "base_uri": "https://localhost:8080/"
        },
        "id": "LjK-Iw1T_-im",
        "outputId": "2acf62ec-84f9-4723-cb52-afdcaea75641"
      },
      "source": [
        "list_d"
      ],
      "execution_count": null,
      "outputs": [
        {
          "output_type": "execute_result",
          "data": {
            "text/plain": [
              "[]"
            ]
          },
          "metadata": {
            "tags": []
          },
          "execution_count": 35
        }
      ]
    },
    {
      "cell_type": "markdown",
      "metadata": {
        "id": "pgr0BiSSAkm6"
      },
      "source": [
        "เติมค่าลงไปใน list(.append())"
      ]
    },
    {
      "cell_type": "code",
      "metadata": {
        "id": "KM0WFpMLAA-N"
      },
      "source": [
        "list_d.append('a')"
      ],
      "execution_count": null,
      "outputs": []
    },
    {
      "cell_type": "code",
      "metadata": {
        "id": "3rKXyRutAyJW",
        "colab": {
          "base_uri": "https://localhost:8080/"
        },
        "outputId": "2c9d8972-03bb-452a-f79a-d576e37f003e"
      },
      "source": [
        "list_d"
      ],
      "execution_count": null,
      "outputs": [
        {
          "output_type": "execute_result",
          "data": {
            "text/plain": [
              "['a']"
            ]
          },
          "metadata": {
            "tags": []
          },
          "execution_count": 37
        }
      ]
    },
    {
      "cell_type": "code",
      "metadata": {
        "id": "LDjDcHqMA1rR"
      },
      "source": [
        "list_d.append('56')"
      ],
      "execution_count": null,
      "outputs": []
    },
    {
      "cell_type": "code",
      "metadata": {
        "colab": {
          "base_uri": "https://localhost:8080/"
        },
        "id": "7CPuApzZA4q2",
        "outputId": "599d0f30-289d-4368-cc1d-49ed63e770b8"
      },
      "source": [
        "list_d"
      ],
      "execution_count": null,
      "outputs": [
        {
          "output_type": "execute_result",
          "data": {
            "text/plain": [
              "['a', '56']"
            ]
          },
          "metadata": {
            "tags": []
          },
          "execution_count": 39
        }
      ]
    },
    {
      "cell_type": "markdown",
      "metadata": {
        "id": "BTtHwyczBVtn"
      },
      "source": [
        "การชี้ค่าใน list(indexing)\n",
        "\n",
        "\n",
        "\n",
        "1.   ใช้ลำดับในการชี้\n",
        "2.   ลำดับเริ่มจาก 0\n",
        "3.   สามารถชี้จากข้างหลังได้โดยใช้ negative index\n",
        "\n",
        "\n",
        "\n",
        "\n"
      ]
    },
    {
      "cell_type": "code",
      "metadata": {
        "colab": {
          "base_uri": "https://localhost:8080/"
        },
        "id": "h0VHEJ4mBVZm",
        "outputId": "f0b59e5e-7997-4cc3-b840-16d5affd398e"
      },
      "source": [
        "list_b"
      ],
      "execution_count": null,
      "outputs": [
        {
          "output_type": "execute_result",
          "data": {
            "text/plain": [
              "[2, 'xyz', [1, 2, 0.2, 'abs'], [1, 2, 0.0]]"
            ]
          },
          "metadata": {
            "tags": []
          },
          "execution_count": 40
        }
      ]
    },
    {
      "cell_type": "code",
      "metadata": {
        "colab": {
          "base_uri": "https://localhost:8080/"
        },
        "id": "g8FUAeDcCB4s",
        "outputId": "ab4a6055-2b42-400a-e1a1-45bc9795c62b"
      },
      "source": [
        "list_b[-1]"
      ],
      "execution_count": null,
      "outputs": [
        {
          "output_type": "execute_result",
          "data": {
            "text/plain": [
              "[1, 2, 0.0]"
            ]
          },
          "metadata": {
            "tags": []
          },
          "execution_count": 41
        }
      ]
    },
    {
      "cell_type": "markdown",
      "metadata": {
        "id": "8S00OmFACQij"
      },
      "source": [
        "####list slicing\n",
        "\n",
        "สามารถเฉือนหรือเลือกบางส่วนของ list ออกมาได้"
      ]
    },
    {
      "cell_type": "code",
      "metadata": {
        "id": "xzxMi6s8CFI2"
      },
      "source": [
        "list_ex = [1,2,3,5,6,8,-1,20,50,0]"
      ],
      "execution_count": null,
      "outputs": []
    },
    {
      "cell_type": "markdown",
      "metadata": {
        "id": "DkpaRUnVC-lb"
      },
      "source": [
        "เราจะจัด list โดยเอาตั้งเเต่ [ตัวหน้า:ตัวก่อนตัวหลัง]  \n",
        "ถ้าเป็นสัญลักษณ์คณิตศาสตร์[ตัวหน้า,ตัวหลัง] -> [ตัวหน้า,ตัวหลัง]"
      ]
    },
    {
      "cell_type": "code",
      "metadata": {
        "colab": {
          "base_uri": "https://localhost:8080/"
        },
        "id": "t5iJOZmyCoaE",
        "outputId": "7a7605ac-92f9-4bcc-9af9-a32d6bd873c7"
      },
      "source": [
        "list_ex[1:6]  #ตัด list โดยเอาตั้งแต่ [ตัวหน้า:ตัวก่อนตัวหลัง]"
      ],
      "execution_count": null,
      "outputs": [
        {
          "output_type": "execute_result",
          "data": {
            "text/plain": [
              "[2, 3, 5, 6, 8]"
            ]
          },
          "metadata": {
            "tags": []
          },
          "execution_count": 45
        }
      ]
    },
    {
      "cell_type": "code",
      "metadata": {
        "colab": {
          "base_uri": "https://localhost:8080/"
        },
        "id": "tPm0TxSNC5ir",
        "outputId": "56b71753-de17-4f15-f37f-eaf767e8be0d"
      },
      "source": [
        "list_ex[4:]  #เอาตั้งแต่ตัวที่ 4 ไปถึงตัวสุดท้าย"
      ],
      "execution_count": null,
      "outputs": [
        {
          "output_type": "execute_result",
          "data": {
            "text/plain": [
              "[6, 8, -1, 20, 50, 0]"
            ]
          },
          "metadata": {
            "tags": []
          },
          "execution_count": 46
        }
      ]
    },
    {
      "cell_type": "code",
      "metadata": {
        "colab": {
          "base_uri": "https://localhost:8080/"
        },
        "id": "ClJDODKxDiut",
        "outputId": "908861f3-2096-4b47-999e-1a17f991ec04"
      },
      "source": [
        "list_ex[:6]  #เอาตั้งแต่ตัวแรกไปถึงก่อนตัววที่ 6"
      ],
      "execution_count": null,
      "outputs": [
        {
          "output_type": "execute_result",
          "data": {
            "text/plain": [
              "[1, 2, 3, 5, 6, 8]"
            ]
          },
          "metadata": {
            "tags": []
          },
          "execution_count": 47
        }
      ]
    },
    {
      "cell_type": "markdown",
      "metadata": {
        "id": "WRR94OtiEUQ1"
      },
      "source": [
        "[จุดเริ่มต้น:จุดสุดท้าย:step]"
      ]
    },
    {
      "cell_type": "code",
      "metadata": {
        "colab": {
          "base_uri": "https://localhost:8080/"
        },
        "id": "qUeC2W8CETIW",
        "outputId": "dbdb789d-ca38-474f-8b47-d40196243589"
      },
      "source": [
        "list_ex "
      ],
      "execution_count": null,
      "outputs": [
        {
          "output_type": "execute_result",
          "data": {
            "text/plain": [
              "[1, 2, 3, 5, 6, 8, -1, 20, 50, 0]"
            ]
          },
          "metadata": {
            "tags": []
          },
          "execution_count": 48
        }
      ]
    },
    {
      "cell_type": "code",
      "metadata": {
        "colab": {
          "base_uri": "https://localhost:8080/"
        },
        "id": "ON_uLpiwEgpO",
        "outputId": "5aa755ef-3250-41ba-9c4a-d684a07bb846"
      },
      "source": [
        "list_ex[::2]  #โดดไปทีละ 2"
      ],
      "execution_count": null,
      "outputs": [
        {
          "output_type": "execute_result",
          "data": {
            "text/plain": [
              "[1, 3, 6, -1, 50]"
            ]
          },
          "metadata": {
            "tags": []
          },
          "execution_count": 49
        }
      ]
    },
    {
      "cell_type": "code",
      "metadata": {
        "colab": {
          "base_uri": "https://localhost:8080/"
        },
        "id": "6rKV1LHDEk0R",
        "outputId": "1cbe0a1c-1431-4459-d4ae-f36a38884c6e"
      },
      "source": [
        "list_ex[::-1] #การกลับ list"
      ],
      "execution_count": null,
      "outputs": [
        {
          "output_type": "execute_result",
          "data": {
            "text/plain": [
              "[0, 50, 20, -1, 8, 6, 5, 3, 2, 1]"
            ]
          },
          "metadata": {
            "tags": []
          },
          "execution_count": 50
        }
      ]
    },
    {
      "cell_type": "code",
      "metadata": {
        "colab": {
          "base_uri": "https://localhost:8080/",
          "height": 35
        },
        "id": "fd0N1dZFE54S",
        "outputId": "54fb402b-35b4-408a-c83c-778827b50898"
      },
      "source": [
        "a"
      ],
      "execution_count": null,
      "outputs": [
        {
          "output_type": "execute_result",
          "data": {
            "application/vnd.google.colaboratory.intrinsic+json": {
              "type": "string"
            },
            "text/plain": [
              "'Stat KKU'"
            ]
          },
          "metadata": {
            "tags": []
          },
          "execution_count": 51
        }
      ]
    },
    {
      "cell_type": "code",
      "metadata": {
        "colab": {
          "base_uri": "https://localhost:8080/",
          "height": 35
        },
        "id": "5R-8f6x6Fcw4",
        "outputId": "994b5b89-830b-47c2-9324-eb3f8adfb9af"
      },
      "source": [
        "a[-3:]"
      ],
      "execution_count": null,
      "outputs": [
        {
          "output_type": "execute_result",
          "data": {
            "application/vnd.google.colaboratory.intrinsic+json": {
              "type": "string"
            },
            "text/plain": [
              "'KKU'"
            ]
          },
          "metadata": {
            "tags": []
          },
          "execution_count": 52
        }
      ]
    },
    {
      "cell_type": "code",
      "metadata": {
        "colab": {
          "base_uri": "https://localhost:8080/",
          "height": 35
        },
        "id": "wxDiR3aqF2UA",
        "outputId": "be656c69-d390-4d33-d21e-b901fa771768"
      },
      "source": [
        "a[5::]"
      ],
      "execution_count": null,
      "outputs": [
        {
          "output_type": "execute_result",
          "data": {
            "application/vnd.google.colaboratory.intrinsic+json": {
              "type": "string"
            },
            "text/plain": [
              "'KKU'"
            ]
          },
          "metadata": {
            "tags": []
          },
          "execution_count": 53
        }
      ]
    },
    {
      "cell_type": "markdown",
      "metadata": {
        "id": "VK9I7-y5Gq5q"
      },
      "source": [
        "### list + list"
      ]
    },
    {
      "cell_type": "code",
      "metadata": {
        "colab": {
          "base_uri": "https://localhost:8080/"
        },
        "id": "15Ar2WV0GvwI",
        "outputId": "b9d6c666-147a-4285-839a-b409230596de"
      },
      "source": [
        "print(list_a)\n",
        "print(list_b)"
      ],
      "execution_count": null,
      "outputs": [
        {
          "output_type": "stream",
          "text": [
            "[1, 2, 0.2, 'abs']\n",
            "[2, 'xyz', [1, 2, 0.2, 'abs'], [1, 2, 0.0]]\n"
          ],
          "name": "stdout"
        }
      ]
    },
    {
      "cell_type": "code",
      "metadata": {
        "colab": {
          "base_uri": "https://localhost:8080/"
        },
        "id": "BnBbuz0eHLXw",
        "outputId": "b898ee4c-4b3d-4c51-fb8b-227cdb2194db"
      },
      "source": [
        "list_a + list_b  #เอาstring มาเรียงต่อกัน"
      ],
      "execution_count": null,
      "outputs": [
        {
          "output_type": "execute_result",
          "data": {
            "text/plain": [
              "[1, 2, 0.2, 'abs', 2, 'xyz', [1, 2, 0.2, 'abs'], [1, 2, 0.0]]"
            ]
          },
          "metadata": {
            "tags": []
          },
          "execution_count": 56
        }
      ]
    },
    {
      "cell_type": "markdown",
      "metadata": {
        "id": "MPbpYaWWLN2x"
      },
      "source": [
        "format string"
      ]
    },
    {
      "cell_type": "markdown",
      "metadata": {
        "id": "SJsa65E3L1Bm"
      },
      "source": [
        "\n",
        "\n",
        "```python\n",
        "f'string{ตัวแปร}'\n",
        "```\n",
        "\n"
      ]
    },
    {
      "cell_type": "code",
      "metadata": {
        "colab": {
          "base_uri": "https://localhost:8080/",
          "height": 35
        },
        "id": "yjFSYa87LSya",
        "outputId": "8d865769-b1b5-4729-d8df-1d6a6f2a3c5b"
      },
      "source": [
        "f'ตัวแปร list_a มีค่าคือ {list_a}'"
      ],
      "execution_count": null,
      "outputs": [
        {
          "output_type": "execute_result",
          "data": {
            "application/vnd.google.colaboratory.intrinsic+json": {
              "type": "string"
            },
            "text/plain": [
              "\"ตัวแปร list_a มีค่าคือ [1, 2, 0.2, 'abs']\""
            ]
          },
          "metadata": {
            "tags": []
          },
          "execution_count": 57
        }
      ]
    },
    {
      "cell_type": "markdown",
      "metadata": {
        "id": "yr5mXdxJH3og"
      },
      "source": [
        "##Loop\n",
        "\n",
        "ทำงานซ้ำๆ หรือทำงานคล้ายๆกัน"
      ]
    },
    {
      "cell_type": "markdown",
      "metadata": {
        "id": "jvVmKdPDKWT1"
      },
      "source": [
        "\n",
        "```python\n",
        "for ตัวแปรที่จะรับค่าจากลิสต์ in ลิสต์ที่จะนำมาวนลูป:\n",
        "    do something #in loop\n",
        "    do another thing #in loop\n",
        "\n",
        "do other things #out side loop\n",
        "```\n",
        "\n",
        "\n"
      ]
    },
    {
      "cell_type": "code",
      "metadata": {
        "colab": {
          "base_uri": "https://localhost:8080/"
        },
        "id": "mrxBdSiHJlf-",
        "outputId": "9297d303-31a1-423b-804b-45cb85c33559"
      },
      "source": [
        "for  i in [1,2,3,4,5]:   \n",
        "    print(i+1)\n",
        "#i คือ1 เป็น 1+1ได้ 2 และวนไปที่ 2 เป็น 2+1 และวนไป 3 4 5 ไปเรื่อยๆ"
      ],
      "execution_count": 1,
      "outputs": [
        {
          "output_type": "stream",
          "text": [
            "2\n",
            "3\n",
            "4\n",
            "5\n",
            "6\n"
          ],
          "name": "stdout"
        }
      ]
    },
    {
      "cell_type": "code",
      "metadata": {
        "colab": {
          "base_uri": "https://localhost:8080/"
        },
        "id": "oPt8_t8QMbA2",
        "outputId": "c271cfdf-a5e9-44a9-e08e-8678f00cbf35"
      },
      "source": [
        "for x in [1,2,3,4,5]:\n",
        "  print(f'ค่าตัวแปร x คือ {x} และ x+2={x+2}')"
      ],
      "execution_count": 2,
      "outputs": [
        {
          "output_type": "stream",
          "text": [
            "ค่าตัวแปร x คือ 1 และ x+2=3\n",
            "ค่าตัวแปร x คือ 2 และ x+2=4\n",
            "ค่าตัวแปร x คือ 3 และ x+2=5\n",
            "ค่าตัวแปร x คือ 4 และ x+2=6\n",
            "ค่าตัวแปร x คือ 5 และ x+2=7\n"
          ],
          "name": "stdout"
        }
      ]
    },
    {
      "cell_type": "code",
      "metadata": {
        "colab": {
          "base_uri": "https://localhost:8080/"
        },
        "id": "Q4mWvisOMwIr",
        "outputId": "9f0390f8-ea84-4cda-9bea-d76efbfafc3e"
      },
      "source": [
        "list5=[1,2,3,4,5]\n",
        "for x in list5:\n",
        "  print(f'ค่าตัวแปร x คือ {x} และ x+2={x+2}')"
      ],
      "execution_count": 3,
      "outputs": [
        {
          "output_type": "stream",
          "text": [
            "ค่าตัวแปร x คือ 1 และ x+2=3\n",
            "ค่าตัวแปร x คือ 2 และ x+2=4\n",
            "ค่าตัวแปร x คือ 3 และ x+2=5\n",
            "ค่าตัวแปร x คือ 4 และ x+2=6\n",
            "ค่าตัวแปร x คือ 5 และ x+2=7\n"
          ],
          "name": "stdout"
        }
      ]
    },
    {
      "cell_type": "code",
      "metadata": {
        "colab": {
          "base_uri": "https://localhost:8080/"
        },
        "id": "isHByr6vNIAl",
        "outputId": "0cd30fe5-abdf-4332-a3a1-2053001b45ee"
      },
      "source": [
        "list(range(10)) #เอาเลขที่มาก่อนสิบ"
      ],
      "execution_count": 4,
      "outputs": [
        {
          "output_type": "execute_result",
          "data": {
            "text/plain": [
              "[0, 1, 2, 3, 4, 5, 6, 7, 8, 9]"
            ]
          },
          "metadata": {
            "tags": []
          },
          "execution_count": 4
        }
      ]
    },
    {
      "cell_type": "code",
      "metadata": {
        "colab": {
          "base_uri": "https://localhost:8080/"
        },
        "id": "ZxNOUiTdNTYP",
        "outputId": "c578e5bc-37ae-472f-b154-c67fec25028e"
      },
      "source": [
        "for i in range(2,7): #จุดเริ่มต้น,จุดสุดท้าย\n",
        "    print(i)"
      ],
      "execution_count": 5,
      "outputs": [
        {
          "output_type": "stream",
          "text": [
            "2\n",
            "3\n",
            "4\n",
            "5\n",
            "6\n"
          ],
          "name": "stdout"
        }
      ]
    },
    {
      "cell_type": "code",
      "metadata": {
        "colab": {
          "base_uri": "https://localhost:8080/"
        },
        "id": "Htvc1Eb8N2-G",
        "outputId": "37b9aba9-de10-40e8-a3d7-a85b884c6bc9"
      },
      "source": [
        "for i in range(2,7,2): #จุดเริ่มต้น,จุดสุดท้าย,stepโดดทีละ 2\n",
        "    print(i)"
      ],
      "execution_count": 6,
      "outputs": [
        {
          "output_type": "stream",
          "text": [
            "2\n",
            "4\n",
            "6\n"
          ],
          "name": "stdout"
        }
      ]
    },
    {
      "cell_type": "code",
      "metadata": {
        "colab": {
          "base_uri": "https://localhost:8080/"
        },
        "id": "dCMWCx0DOdfo",
        "outputId": "ef0027ee-b1ff-4e59-85f4-d2c4b4f8f843"
      },
      "source": [
        "for i in range(5):\n",
        "    print('hahaha') #วนลูปทำซ้ำ"
      ],
      "execution_count": 7,
      "outputs": [
        {
          "output_type": "stream",
          "text": [
            "hahaha\n",
            "hahaha\n",
            "hahaha\n",
            "hahaha\n",
            "hahaha\n"
          ],
          "name": "stdout"
        }
      ]
    },
    {
      "cell_type": "code",
      "metadata": {
        "colab": {
          "base_uri": "https://localhost:8080/"
        },
        "id": "FGMSq9lzOp-D",
        "outputId": "0ea6f2a0-7d3b-4eb3-c64f-c3f316f3d0d2"
      },
      "source": [
        "for i in range(5):\n",
        "    print('hahaha')\n",
        "    x = i + 3\n",
        "    print(f'i={i} x={x}')"
      ],
      "execution_count": 8,
      "outputs": [
        {
          "output_type": "stream",
          "text": [
            "hahaha\n",
            "i=0 x=3\n",
            "hahaha\n",
            "i=1 x=4\n",
            "hahaha\n",
            "i=2 x=5\n",
            "hahaha\n",
            "i=3 x=6\n",
            "hahaha\n",
            "i=4 x=7\n"
          ],
          "name": "stdout"
        }
      ]
    },
    {
      "cell_type": "markdown",
      "metadata": {
        "id": "6XYSmjhvPLwV"
      },
      "source": [
        "###Nested loop\n",
        "\n",
        "loop ซ้อน loop"
      ]
    },
    {
      "cell_type": "code",
      "metadata": {
        "colab": {
          "base_uri": "https://localhost:8080/"
        },
        "id": "zYJrJuyrPOps",
        "outputId": "8e7c09ae-e7f4-48ac-d251-e6fb30004ece"
      },
      "source": [
        "for i in range(3):\n",
        "  print(f'now i = {i}')\n",
        "  print('start j loop')\n",
        "  for j in range(4):\n",
        "    print(f'i = {i} j = {j} i+j = {i+j}')\n",
        "  print('end j loop')"
      ],
      "execution_count": 9,
      "outputs": [
        {
          "output_type": "stream",
          "text": [
            "now i = 0\n",
            "start j loop\n",
            "i = 0 j = 0 i+j = 0\n",
            "i = 0 j = 1 i+j = 1\n",
            "i = 0 j = 2 i+j = 2\n",
            "i = 0 j = 3 i+j = 3\n",
            "end j loop\n",
            "now i = 1\n",
            "start j loop\n",
            "i = 1 j = 0 i+j = 1\n",
            "i = 1 j = 1 i+j = 2\n",
            "i = 1 j = 2 i+j = 3\n",
            "i = 1 j = 3 i+j = 4\n",
            "end j loop\n",
            "now i = 2\n",
            "start j loop\n",
            "i = 2 j = 0 i+j = 2\n",
            "i = 2 j = 1 i+j = 3\n",
            "i = 2 j = 2 i+j = 4\n",
            "i = 2 j = 3 i+j = 5\n",
            "end j loop\n"
          ],
          "name": "stdout"
        }
      ]
    },
    {
      "cell_type": "markdown",
      "metadata": {
        "id": "FGqzNXZxH7Gw"
      },
      "source": [
        "###Condition (if statement)\n",
        "\n",
        "ประโยคเงื่อนไง\n"
      ]
    },
    {
      "cell_type": "markdown",
      "metadata": {
        "id": "DrOFdAHHFl2q"
      },
      "source": [
        "\n",
        "\n",
        "```python\n",
        "if เงื่อนไขที่จะตรวจสอบ (โดยใช้สัญลักษณ์ ==,!=,<,>,<=,>=):\n",
        "   ถ้าเงื่อนไขเป็นจริง ทำงาน 1 \n",
        "   ถ้าเงื่อนไขเป็นจริง ทำงาน 2\n",
        "```\n",
        "\n"
      ]
    },
    {
      "cell_type": "code",
      "metadata": {
        "id": "SGOQl3iXH6so",
        "colab": {
          "base_uri": "https://localhost:8080/"
        },
        "outputId": "cb5dbf29-091e-47e3-842d-26927dc55731"
      },
      "source": [
        "stringx = 'jfgosjghogogsogorgosdioghesogheosgnusg'\n",
        "\n",
        "if len(stringx) >30:\n",
        "   print(f'{stringx} is longer than 30 characters')"
      ],
      "execution_count": 10,
      "outputs": [
        {
          "output_type": "stream",
          "text": [
            "jfgosjghogogsogorgosdioghesogheosgnusg is longer than 30 characters\n"
          ],
          "name": "stdout"
        }
      ]
    },
    {
      "cell_type": "code",
      "metadata": {
        "id": "BceOeCG-HQsR"
      },
      "source": [
        "stringx = 'jfgosjghogogsogorgosdioghesogheosgnusg'\n",
        "\n",
        "if len(stringx) >100:\n",
        "   print(f'{stringx} is longer than 30 characters')\n",
        "\n",
        "   #ถ้าค่าไม่มากกว่าหรือน้อยกว่าค่ารันก็จะไม่ออกมา"
      ],
      "execution_count": 11,
      "outputs": []
    },
    {
      "cell_type": "markdown",
      "metadata": {
        "id": "GF4dDCU8Hcl3"
      },
      "source": [
        "```python\n",
        "if เงื่อนไขที่จะตรวจสอบ (โดยใช้สัญลักษณ์ ==,!=,<,>,<=,>=):\n",
        "   ถ้าเงื่อนไขเป็นจริง ทำงาน 1 \n",
        "   ถ้าเงื่อนไขเป็นจริง ทำงาน 2\n",
        "else: #ตรวจสอบเงื่อนไงข้างบนแล้วไม่เป็นจริง\n",
        "   ทำงานที่ X\n",
        "```\n"
      ]
    },
    {
      "cell_type": "code",
      "metadata": {
        "colab": {
          "base_uri": "https://localhost:8080/"
        },
        "id": "AeNhvoqTHcJd",
        "outputId": "8a3c85e6-c8d0-4e08-9674-123b8def2b4b"
      },
      "source": [
        "stringx = 'jfgosjghogogsogorgosdioghesogheosgnusg'\n",
        "\n",
        "if len(stringx) >100:\n",
        "   print(f'{stringx} is longer than 30 characters')\n",
        "else:\n",
        "   print(f'{stringx} in {len(stringx)}characters long')\n",
        "\n",
        "   #ค่านี้มีความยาวเท่ากับ 38"
      ],
      "execution_count": 12,
      "outputs": [
        {
          "output_type": "stream",
          "text": [
            "jfgosjghogogsogorgosdioghesogheosgnusg in 38characters long\n"
          ],
          "name": "stdout"
        }
      ]
    },
    {
      "cell_type": "markdown",
      "metadata": {
        "id": "DwZYZrVtJKFU"
      },
      "source": [
        "```python\n",
        "if เงื่อนไขที่จะตรวจสอบ (โดยใช้สัญลักษณ์ ==,!=,<,>,<=,>=):\n",
        "   ถ้าเงื่อนไขเป็นจริง ทำงาน 1 \n",
        "   ถ้าเงื่อนไขเป็นจริง ทำงาน 2\n",
        "elif เงื่อนไขที่จะตรวจสอบต่อไปถ้า เงื่อนไขข้างบนไม่เป็นจริง:\n",
        "   ถ้าเงื่อนไขเป็นจริง ทำงาน a1 \n",
        "   ถ้าเงื่อนไขเป็นจริง ทำงาน a2\n",
        "elif เงื่อนไขที่จะตรวจสอบต่อไปถ้า เงื่อนไขข้างบนไม่เป็นจริง:\n",
        "   ถ้าเงื่อนไขเป็นจริง ทำงาน b1 \n",
        "   ถ้าเงื่อนไขเป็นจริง ทำงาน b2\n",
        "else: #ตรวจสอบเงื่อนไงข้างบนแล้วไม่เป็นจริง\n",
        "   ทำงานที่ X\n",
        "```\n"
      ]
    },
    {
      "cell_type": "code",
      "metadata": {
        "colab": {
          "base_uri": "https://localhost:8080/"
        },
        "id": "ynbQ5SrgLH0t",
        "outputId": "10972020-bd5a-4ce8-ed7d-671589c48b09"
      },
      "source": [
        "password = '12345'\n",
        "\n",
        "input_pass = '123sf'\n",
        "if input_pass == password: #input ที่ใส่เข้ามาตรงกับ password ไหม?\n",
        "  print('welcom!') #พิมพ์ถูกเข้ามาได้จะ welcome\n",
        "elif len(input_pass) > len(password): #เช็คความยาวของรหัส\n",
        "  print('Too long, try again!')  #บอกใบ้ว่ารหัสที่ใส่มายาวไป\n",
        "elif len(input_pass) < len(password): \n",
        "  print('Too short, try again!') #บอกใบ้ว่ารหัสที่ใส่มาสั้นไปไป\n",
        "else:\n",
        "  print('Wrong password, try again!')\n"
      ],
      "execution_count": 13,
      "outputs": [
        {
          "output_type": "stream",
          "text": [
            "Wrong password, try again!\n"
          ],
          "name": "stdout"
        }
      ]
    },
    {
      "cell_type": "markdown",
      "metadata": {
        "id": "NrceJOgEK8gA"
      },
      "source": [
        "Quiz 1 หา min"
      ]
    },
    {
      "cell_type": "code",
      "metadata": {
        "id": "7d3G_Np5Ndkv"
      },
      "source": [
        "list_ex = [1,5,9,-19,-2,0] #หาค่าน้อยกว่าที่สุดใน list_ex โดยไม่ใช้ function min"
      ],
      "execution_count": 14,
      "outputs": []
    },
    {
      "cell_type": "code",
      "metadata": {
        "colab": {
          "base_uri": "https://localhost:8080/"
        },
        "id": "t8cNKv5kPZmz",
        "outputId": "1177b10c-4064-4b01-fdfd-df0734e57a3b"
      },
      "source": [
        "list_ex[-3]"
      ],
      "execution_count": 15,
      "outputs": [
        {
          "output_type": "execute_result",
          "data": {
            "text/plain": [
              "-19"
            ]
          },
          "metadata": {
            "tags": []
          },
          "execution_count": 15
        }
      ]
    },
    {
      "cell_type": "markdown",
      "metadata": {
        "id": "QFTdnqUGQ9f9"
      },
      "source": [
        "เฉลย quiz"
      ]
    },
    {
      "cell_type": "code",
      "metadata": {
        "id": "TsJM5jGvSEpG",
        "colab": {
          "base_uri": "https://localhost:8080/"
        },
        "outputId": "21795f68-ff43-4b65-c7a8-b6e7af4b3c10"
      },
      "source": [
        "min = 10000000000  #กำหนด min ขึ้นมา\n",
        "for i in list_ex:\n",
        "  if i < min:\n",
        "    min = i\n",
        "print(min)"
      ],
      "execution_count": 16,
      "outputs": [
        {
          "output_type": "stream",
          "text": [
            "-19\n"
          ],
          "name": "stdout"
        }
      ]
    },
    {
      "cell_type": "code",
      "metadata": {
        "id": "XIiW8HVxUKXB",
        "colab": {
          "base_uri": "https://localhost:8080/"
        },
        "outputId": "acc5dc63-5b45-4b2c-8e03-829a0153d9aa"
      },
      "source": [
        "min = 100000000\n",
        "print(list_ex)\n",
        "for i in list_ex:\n",
        "    print(f'now i = {i}, min = {min}')\n",
        "    print('start condition')\n",
        "    if i < min:\n",
        "        print(f'i < min, update min -> {i}')\n",
        "        min = i\n",
        "    else:\n",
        "        print('i >= min, not update')\n",
        "    print('end condition, go to next i')\n",
        "\n",
        "print(min)"
      ],
      "execution_count": 17,
      "outputs": [
        {
          "output_type": "stream",
          "text": [
            "[1, 5, 9, -19, -2, 0]\n",
            "now i = 1, min = 100000000\n",
            "start condition\n",
            "i < min, update min -> 1\n",
            "end condition, go to next i\n",
            "now i = 5, min = 1\n",
            "start condition\n",
            "i >= min, not update\n",
            "end condition, go to next i\n",
            "now i = 9, min = 1\n",
            "start condition\n",
            "i >= min, not update\n",
            "end condition, go to next i\n",
            "now i = -19, min = 1\n",
            "start condition\n",
            "i < min, update min -> -19\n",
            "end condition, go to next i\n",
            "now i = -2, min = -19\n",
            "start condition\n",
            "i >= min, not update\n",
            "end condition, go to next i\n",
            "now i = 0, min = -19\n",
            "start condition\n",
            "i >= min, not update\n",
            "end condition, go to next i\n",
            "-19\n"
          ],
          "name": "stdout"
        }
      ]
    },
    {
      "cell_type": "markdown",
      "metadata": {
        "id": "iN-NIfMqLCM1"
      },
      "source": [
        "HW3 ตัดเกรด"
      ]
    },
    {
      "cell_type": "code",
      "metadata": {
        "id": "i3zMBE_bJkbD"
      },
      "source": [
        "score = [49,65,70,95,82,55,89,20,77,77,81,59,10] #ตัดเกรด คะแนนใน list score (ใช้ if กับ for)"
      ],
      "execution_count": 18,
      "outputs": []
    },
    {
      "cell_type": "code",
      "metadata": {
        "colab": {
          "base_uri": "https://localhost:8080/"
        },
        "id": "4DzeXg5rSd9r",
        "outputId": "2c6d7ea9-a536-440b-97cc-39bd3595e4c5"
      },
      "source": [
        "for i in score:\n",
        "\n",
        "  if i >= 80:\n",
        "    print(f'{i} คะแนน = เกรด A')\n",
        "  elif i >= 75 and i < 80:\n",
        "    print(f'{i} คะแนน = เกรด B+')\n",
        "  elif i >= 70 and i < 75:\n",
        "    print(f'{i} คะแนน = เกรด B')\n",
        "  elif i >= 65 and i < 70:\n",
        "    print(f'{i} คะแนน = เกรด C+')\n",
        "  elif i >= 60 and i < 65:\n",
        "    print(f'{i} คะแนน = เกรด C')\n",
        "  elif i >= 55 and i < 60:\n",
        "    print(f'{i} คะแนน = เกรด D+')\n",
        "  elif i >= 50 and i < 55:\n",
        "    print(f'{i} คะแนน = เกรด D')\n",
        "  else:\n",
        "    print(f'{i} คะแนน = เกรด F')"
      ],
      "execution_count": 19,
      "outputs": [
        {
          "output_type": "stream",
          "text": [
            "49 คะแนน = เกรด F\n",
            "65 คะแนน = เกรด C+\n",
            "70 คะแนน = เกรด B\n",
            "95 คะแนน = เกรด A\n",
            "82 คะแนน = เกรด A\n",
            "55 คะแนน = เกรด D+\n",
            "89 คะแนน = เกรด A\n",
            "20 คะแนน = เกรด F\n",
            "77 คะแนน = เกรด B+\n",
            "77 คะแนน = เกรด B+\n",
            "81 คะแนน = เกรด A\n",
            "59 คะแนน = เกรด D+\n",
            "10 คะแนน = เกรด F\n"
          ],
          "name": "stdout"
        }
      ]
    },
    {
      "cell_type": "markdown",
      "metadata": {
        "id": "AQYV2DzSVleL"
      },
      "source": [
        "###Function\n",
        "\n",
        "\n",
        "\n",
        "```python\n",
        "def ชื่อฟังก์ชั่น(input1, input2,...):\n",
        "    งานxxx\n",
        "    งานyyy\n",
        "    return output\n",
        "```\n",
        "\n",
        "\n",
        "ส่วนประกอบสำคัญ\n",
        "* input\n",
        "* process (ไม่มีไม่ได้)\n",
        "* output\n",
        "\n",
        "![image.png](data:image/png;base64,iVBORw0KGgoAAAANSUhEUgAAAwoAAAEwCAYAAAAXRobDAAAgAElEQVR4AeydB5iURbb37/1u2Bs27+pGr+uqa06rou4aWcPqGte0hjXHNa8ZFVFRkqBiQsWsmFFMiGLAAEZUVFBEMQCCkqcndDzf86ue0740PTM9M90z3T3/ep6at+d9K5z616mqc6pOVf2LyQkBISAEhIAQEAJCQAgIASEgBPIQ+Je8//WvEBACQkAICAEhIASEgBAQAkLApCiICYSAEBACQkAICAEhIASEgBBYDgEpCstBohdCQAgIASEgBISAEBACQkAISFEQDwgBISAEhIAQEAJCQAgIASGwHAJSFJaDRC+EgBAQAkJACAgBISAEhIAQkKIgHhACQkAICAEhIASEgBAQAkJgOQSkKCwHiV4IASEgBISAEBACQkAICAEhIEVBPCAEhIAQEAJCQAgIASEgBITAcghIUVgOEr0QAkJACAgBISAEhIAQEAJCQIqCeEAICAEhIASEgBAQAkJACAiB5RCQorAcJHohBISAEBACQkAICAEhIASEgBQF8YAQEAJCQAgIASEgBISAEBACyyEgRWE5SPRCCAgBISAEhIAQEAJCQAgIASkK4gEhIASEgBAQAkJACAgBISAElkNAisJykOiFEBACQkAICAEhIASEgBAQAlIUxANCQAgIASEgBISAEBACQkAILIeAFIXlINELISAEhIAQEAJCQAgIASEgBKQoiAeEgBAQAkJACAgBISAEhIAQWA4BKQrLQaIXQkAICAEhIASEgBAQAkJACEhREA8IASEgBISAEBACQkAICAEhsBwCUhSWg0QvhEB5EchkMtaW7ygFLaXb0fQqJV6tlqtS8BUdQkAICAEhIAQKISBFoRAqeicESowAgq6cEBACQkAICAEhIASqCQEpCtVUW6K1KhHw2XAnPplMWmNjoy1ZssQWL168jK+rq7OmpiZLp9MevOhnKpUK6S5dujSX5sKFC43/E4lEWMUoOrEKCgjt4AJWixYtypWtvr6+gqgUKUJACAgBISAEag8BKQq1V6cqUQUhgJKA0I9HQWhoaLCvv/7aPv74Y3vzzTfttddes0mTJgXP7/fee89mzZoVwhWzCuFKCE+E6c8++8zefvtte/XVV4N/+eWX7f333w8CNgJ3NToUhGnTptkbb7xhEydOzJVt+vTpFo/HO6RUVSMOolkICAEhIASEQFcjIEWhqxFXfj0GgagQz+w3ysGTTz5pw4YNsyOOOML+8Ic/2GabbWa9evUKT34fcMABNnz4cEMIdsG+JYWB9yggrCTg33rrLbvwwgtt1113zaVH2qeffnpQFlhZqAbnuFE2fk+ZMsUuvvhi22233ZbB6uSTTw5KEYqEXM9BIMofUf5HEY96bxeEcV4irpwQEAJCQAgUj4AUheKxUkgh0G4EEPYxl3n++edt6NChdvDBB9vWW29tv/nNb+zf//3f7T/+4z+C/8///M/wXHvtte3EE08Mqw2YJ+FcMMrPnPcIQAhHrFLcfffd1rt3b1txxRXt//2//xfSJ70+ffqElQZWM6rFedl4ojRdf/31ts0229gPfvAD+9d//ddQvt///vc2YMCAsNoADnK1iYDzf77A7//zdKUg+ox+53c0Hf9dm4ipVEJACAiB0iEgRaF0WColIbAcAigJkydPttNOO83WW289+5d/+Zfg/+3f/s1QDv77v//bvvvd79r3vvc9+5//+R9ba621wmoDpkMu2Lck1LgghDLCasIFF1xgv/71r4MwTdr/+7//a8cff7yNHz9+Oboq/QVlduEOHL788ks79dRTbc0118wpWCussEJYYRg7dqxpv0Kl12jH6YMXUADgc57O9yjImJ7h2deDYh31vOObx/N2RDzS4X85ISAEhIAQaB0BKQqt46OvQqDDCCDQvPjii3bsscfauuuua9///veDkMtKAooCs/54fvu7VVZZJZgfvfLKK60qCi5II/RgUnT77bfbXnvtZf/1X/8VPErHz372s2DmhH2/C0kdLkw3RIRmFxBjsZjdcMMNtvPOO4fysRLzne98x37yk5/Y4MGDberUqd1AobIsJwJe/867/kQBmDdvnn344Ydh5Y19K88884w98cQTwbSPJ8ojCjIKN3t0Pv/8c4OHcJ5ONP1ylkNpCwEhIASqGQEpCtVce6K9YhFAwJ09e7ZdffXV9rvf/S6sGrg5EEoBqwi//OUvwwrChhtuaBtvvHHwCMLsKWCFoCXTIwQcn21H+GHvwxlnnGHrr79+Tun4+c9/bttuu62NGTPG5s+fv4xwVLGgFSAMHF1ZYGM25WQlAYUIPFk52X///e2BBx7QDHEB/Kr5lfM5yjD7UOBzNrSjBNxyyy126aWXhrbCqtlhhx0WzPow7cP//e9/t8MPP9xOOeWUsG+HfT8PP/xw2AyPUkmb8I3w3paqGSvRLgSEgBAoFwJSFMqFrNLtkQj4bCWzns8995wdeeSROVMjVg6wr2cmfNVVVw2bjtmQ269fP7vsssuC4HPFFVeEvQaffPJJMKcARE/TAUWwQXji/dy5c+3pp5+2nXbayX784x8HAZp8UBrYm8BGYASiQul4epX8pIyuKHDU65133mnsu8BUCyxRulZbbTU777zzOnysbCWXv6fS5vWOsvzNN98ExXnkyJF2zjnnBMWQgwBWXnnlnAIOLxTymN+hkNMe2OR/0kkn2ZVXXmkonbQdzJLcFKmnYq1yCwEhIARaQ0CKQmvo6JsQaCcCLtRzVCkznpxk5CZGCLWYH+2www5BORg3bpy9++67NmPGDPv0008N5YDjTefMmROOOkWAKeTIA2UBz3Gql19+edj/gALipkcoDqNHjw5p+Ywp8arRQT8CHQoPm8I5GWqllVYKuCIcsjrDO0xRquVkp2qsh66g2XmUup45c2ZYERs0aJAdcsghtsEGG9hvf/tbY7Xshz/8YdjTw4qS7/XB3C7qaQu0CfYBoViyEvV///d/YZ/LfvvtF8zy3nnnHUMB9Xbr+XdFWZWHEBACQqAaEJCiUA21JBqrBgEEDYRahP1DDz00zGaiKLhAy2ZcbOq5MwEBJWr+4MI/abhwn19wF2j4jtnRU089ZQcddJD96le/CmZHCEbMoLIvAiUCwbm19PLTr8T/KStKE0+Ugauuuso23XTTIASyORx8mWHGHAVFyzGqxLKIppYRoH7xOBTn++67L/D2H//4x7B6wL4U39tDvdOmfH9PVEl2ZRkFwlfxCM9v/5/2sv3224cDAFj549Qwz7tlCvVFCAgBIdDzEJCi0PPqXCUuEwIuoLKagMkPKwfMZvpJRwjwmD+w/wBHeARgny1HaeB/3rfkPA+EGpQRjg3FFIeVCrfZ5+4ElJEFCxaEtIlD+NbSbSm/SngP3ZgfUQaUK/Bj4zazyi4wMlPMLDEKGOGqubyVgHl30EAd+yoa5nQouwj70RU5/kcpwEdPDIP/OTrXPf+z0oTpEYqDb34nnisLxOeUsLPPPtteeumlXFvpjrIrTyEgBIRApSIgRaFSa0Z0VRUCUWH8iy++sAcffDAc3YmA4rOZnPvPhWhsykSQRUFwgTYq3LYm0PMNj0DFzc5nnXVWUBIwuSAvhCJWMtjEjOLhAnZVgVmAWMpMWdj7wewvtuacEOVKGKYlKEyPPfZY7lbr1nAskIVedTMC8LQrCmxOZ5M65nrwNZ4VBAR9hHs26h944IHGHh/24rDHBxM8/JAhQ6x///6hbRxzzDHhor511lnHfvSjH+XM1VAWvL2wf4FN8pyMxDG73sa6GQ5lLwSEgBCoCASkKFRENYiIakcA4cKFfsxjrr322twpRAg4zIT+6U9/CseYzpo1K6coFBJmC71zfFyI4W6BRx55JAhLvpLADClHol500UVh1t1pgq5acCgKeDa4IgxuscUWQXhEWUCg5KjUa665Zhnzo9awrAVMaqkMUUXh3nvvtb333jsI9qwcrb766rbVVlvZPvvsE+4kue6668IenBdeeMFef/31YGZHu8NzHDB7fyZNmmTsA7rjjjtCm+BkJEzUWHVA4aDd0DZZdSDt2267LewT8nYj3qkl7lJZhIAQ6CgCUhQ6ipziCYEIAggVCLE8MTtihpP9CC6MIMRjLoNJBae4dEQYccGFfDDB4fQWZlYRlMkHAYjZUQQeVjVwvlIRIbVqf1JuyoNAif36vvvuGxQEhD3Kz6oKM8wIj152x6xqC92DCI8qCqzIsWJAnbIawHGnN998czjelMv3MO/z1YfWIIJfUCxZhWLjMookK3ucEBbds8AGacwCuXuBdL0tt5a2vgkBISAEegICUhR6Qi2rjGVFwIV+BAwEEy5LO+GEE8IGTIRYPKYxnNzCTOeSJUuWURSI7741Ql3oxTwC86Ujjjgi5OE215hkoIw8++yzudN/iknX8/Sw/vT3pXx62v5sT9qu9CDEcZ4+ZlfMBrOagLKEKQkbVG+66aaQrIdvTx4K230IUK8u/GNCdu6554YVBPbhsPcEBYGbzhH8CQcP4Xh6XUefzmO8wwyPjf2sOKBk7rbbbkFZ8PaJQsI+F1YCfcXP47eFiIfzZ1vhO/Ld0/ZnR9JQHCEgBIRARxCQotAR1BRHCOQhwACOQMKTGW0/8QgBFmGE2f6jjz46nOYStYP2gd+fecku8y9hcGxSRhlBKGbDpm/4ZOYV4ZkVjej+h2USaeUfp8GfrQTt1CdP38tTbGIeD4GSM/CZHf7pT38ayu+rKlxud8EFF+SESepErjoQcCEfajmx68knnwwX6aEUszelJed84fG9HebzF/+jZMA7HLnKaUq+9wFlm/09XNDGHQvRtFrK1997/vn5+fdSPKN5lDOfUtCqNISAEKgtBKQo1FZ9qjRdjIAP4FHBgrP+MZXglCMXYFEUOMUFkyD2F0TDexrRZ6FiuIDAzOpDDz0UTCiYTcesieeWW25pXEpFHqSPsuBxCqXn7zxf4vhvf3qYzjw9rdaexaZPGj6bDAacq89ssCtkmJSgkH311Vc54ZI4ctWFALxYyPwnykPtKRHxvM0Rj1OO/vnPf4YVKczWnH9Yabj99ttz5kfQ0JKL0pL/u6U47X2fn66Xw9+3Nz2FFwJCQAi0FwEpCu1FTOGFQDMCCKzcZYApESYRzPTzfPzxx8OJLdg9uwDCcY2sMjDbjxBLOPeLFy8295hHsOLQkoCCgID5Epe5MXvOagVKAuljdjR27NjcmfAuULdVYZhlYPPt9Dst0IGygSPfjjiPBy0oSI6V58H/lJnvxTjScwGS8+8R7KI4s8LCJlhWXCgP4V0BKiZ9hakMBKg3553o785QF00HZRozIxRLVhVop/jNN988HC0M38Nn+e3QaYJf4Vv42NsxT96xauHxPHxH6SYtz8fbDPuTaK+trbJ0ND/FEwJCQAjkIyBFIR8R/S8EikAA4ZOblJnVRuDgFB7uLuB5/PHH28YbbxyEd1cUMGvglmaOchwwYEDuGEc/0tGfN954oz3xxBM2e/bsnPAcFTYQYBCQUTq4NIr0mRFlfwL5okQgWBDHBerWikM5OBaSi9ug3+kYOnRo2BQ9ceLEnOISpaO1NPlGWPcIVdOnT7e77747mAt5HjzZoMqeCjZ4F+Oi5Zo8eXI4A98VJrDADIsN3swKIwwSnvx5ygkB50mUYI5g5ZQweAbewXMAAXsjXFGIKrBR3mNzNHwL/0b5mf0UnEZGmyJ8R5VU8kWJRvEfPnz4MnnQx9BH0P94+uJv8bYQEALlQkCKQrmQVbo1h4ALGRSMgZwNlzvvvLOtsMIKYWbfN0a60NHS08MVev7mN78Jp70goDMDj/N8ebKCwWZMzIw4F548WFHgtCOORcX+mplGwroQUagiPE0EImyyuZcAZcbNMEgTAfzMM88MAkl0X0Wh9PLfkbfnz8w+R1RusMEGOeUJurEL33DDDcPdEmwyxUFXay5aLm7v5YQnbmkmLdIE0/XWW8/OP/98mzp1aqCBMkKLnBCAf1yBRghH2Ybvva2utNJKoS345Yf5ioLzEkewshcGnnbeIw36Ai5aZFXRVxba4ulorRAWj5LAPg3uksC00PsK30tx3HHHBUUF+rytRdPRbyEgBIRAqRCQolAqJJVOzSPggzgFZYBG0MDcB2GDc9kZ0HkiZCNwM7i7AMJv3mHmgGcW0z1xEFb4f4011ginGb366qsFFQUECFYdOKGFE388TTZmMvOIcgFtUVoLVYx/R8hgNp/jKPfcc88wwwr92P1zUtM222wT0p0xY0ZOwCJua47v0IBQhbBE2gcffHBQEigjNOMRyv7xj3/YRx99FEwpWksz+s3zRwFBoerdu3fA3LHmIjb2iHCDM+VD6JOiEEWw5/6Gd1ywZrO0t13nHdoVG5pbUhSISxqs2qEssO+I1TwX5OkDWKXgUAF4s72CvLcdVga5BA6ll/6CPoIn9O6xxx5hJXP+/PmhLMTBywkBISAEyoGAFIVyoKo0axKB6ICMAMDyP2ev/+IXvwhCvg/mrii48OFPhGO+4V1hiCoN/F5ttdWCkFtoRQEhhRUDTA9QElAuSIt8oePOO+8MggO0+axpaxVBeUiTsAg9XGIVvZCKtBFMWDUZPXp02FvhGLQkmHia0IDN9vvvvx8uyFp33XWDcsCMKMoCeyoOOOCAYP4BDe1xnjdKCBu7UXB8QzNYI6gxq8tKCWXzWeD25NGVYSl/V3vHsCvLWQl5UW48K2QosOxvgR+9jXKxG0I+PAMP46PO43u7ueuuu8JkgR/TC3/jUdwxMZwzZ05Q3r1+W8Ld0+XJShmHEmy00UZh1ZD06Bu4UBClmIkCTPlI0+NFadRvISAEhEApEZCiUEo0lVZNIxAdlBEgHn30Udtxxx2DsIGw7p5BHaUguqKAIOJCMoKJh81/rrrqqsHcACE33/QIoRcB4bzzzgtpkw55oTCwZwFTKJwLOW1VBuUhTQQOZkgx1WGGFGUF+kkbZYH0OSGGk2LaEk74Djaky7GW2HBz6y2rE6QFBvxm5eSee+4JG6+ho73O6wJl4fDDDw9ClAt73OTLHhEut2Nm2MvYkXzaS1d7w3sdUGfQ2hWe+vF6bC+91RzeeYYyoHBz3wbCN3zuvMNlbP379w9tCL7B5zvScfxmzpxp7EtgFctX+Gj3tBluYmcfA3l5u+BZyDkfUDco5QcddFBQYGiHtBnS5Pjj008/Pdw8jgliJfN1oTLqnRAQAtWJgBSF6qw3Ud0NCEQFDQZpLoHCTvlvf/ub7bLLLsEz+86mZY5GRQlwAQQhGVMbNtqiXBDOPXH/8pe/hPiHHXZY2FSM0J5/qgnCJAoEm5YRHBAgECQwd8CEB6EE54J6MRC5gIKAilkTGzERvJnxR9hxRWSLLbYIZ8/PmzcvtwciP33HB2EIsyBmbCkbWKDU4KHX9xBgXkG+xGuv87zA6Oyzzw6Kh2ONIrL22mvbvffem7sF28O3N5+uCO+0gVtXeM+vK8pWSXlQbvDlCe9dfPHFQWl1QZw2Sju85ZZbcm2okKJAmTwtViboBxDg11prrdAuXbhHeTjyyCPD4QMI9vA66RE36vgfT/vjVDT2H6y88spBsaadQxdKCO2SyQnS8smA/LSi6eq3EBACQqAUCEhRKAWKSqPHIYDAwQ2u3Jlw//33h826mP6waZcZ/6233jq32ZjBHtMYLkjjhCQEEcJFvcd9+OGHw9Ge7BvIF1IQitkkib0/aeIR5JkVJU/2NeCIlx+3tQpy4RQFg9NaMHtgszQbM0kfhYffmPhQVk5kcuHG0+V/0iENVkLAhVUIzLIoO8IOigKmTNxQPWHCBMPGGtcRYcfzR/ji1BlMplxRQKhiZeaGG24Is6/k4WV0ervz6eUFK4Q+ZqUREDnFqdz+nXfeCSs9HLWJsIlzeroTk67I23mA8iJwswqHMkw7QriHz1lRGz9+fGg/Hr4l2pwH/QQkTOkweyMt0kRh5RQlTJBcKaZdkq470uB/+PiDDz6wgQMH2iabbJJbfSMt2jf8jckRvOJpRNPx9PQUAkJACJQaASkKpUZU6fVIBFxooPCY6HDpF5scEV4Z7DGHYZMks4YIiDjitMchgGOuwwZqF4oRwhGKOc6U/QA4FySKTduFFejiN8Jkv379jH0FCE8oC5SB8qAscEdBdHbU45MvNKJI9O3bN5j/IDD5agJp7bTTTkHgYSbW8yuWzmg48sQj7HLyEXs0HBNWWFi9QYFgZQbXltAXTbucvx0rnmDAEa6sfCBMclJTuT31iqIKLvBilJ5ylrsS0oYHvG3QXnr16hVW5eAbFFkE+8suu6xd9v+eJrzMJACb/2kvrFKQJr9ZpUD5dp6HBpxjz/8ozazAcYoSlzO68kLbYQWO1Q+UDeIQnqecEBACQqArEJCi0BUoK4+aRAAhAQEBYRXBmRl/npgARW9mZtBn8Ed5YKMi+wEI5574UV9IEEAwQNDA5h+TJReKMRFCkMDemrRxHRGKXQAhb2ZIUQZYueAUGJQEBB+UEpQFhM3XX389CCvEw5MnTwRf7paARlYhUA4QdqCTvQ8IaBz7SD4epyPM4fmCPzbdzOY6JuRH3gjd0Inz/DqSVynjQLfXLxdnQR/mKShl4FNuz2bd/fbbL2zEZ6NtlJ5SlrPS0vJy0oYoN+Y9zP7TNvHwJ3sARo0aFRSoYnnT+ZDwrAqxIoCpHataKAkoC7Qh9hywyobpHmHhW+dJ0uBgBPoHjjwmntNFe6MveeONN4IyEY1TaRiLHiEgBGoTASkKtVmvKlUXIODCB4O+KwoI/JguIBhgdoPw6oIIAiFHgTKT68oFT+JHvQuS0SKQFwrGVVddFfY5uFCMYMHMKCsNzOTjEETw7XVeHhQeTJ9GjBgRZkOZofdZUoRwZk2vvPLKILhQbuKRH/Q988wzQeBhlQMlAdMO4nAnA+XH5IhwxMF31oEVitkxxxyTUxRQapgdPvHEE3P7NgiH725Hmalrnswis+eEFSK/IRicy+mpj+222y4oc5jORenpbmzKlT9l9PpHkeUeEjYag4W3I1agaLMvvvjiMgJ8sTSRB7clowywZ4n9Cb6iQD4oguylQQH3PQbQRBwuTuMiRhR+3y/Bk3bDzeNMDtBn0NaIQ15yQkAICIGuQkCKQlchrXxqGgGfJWQQR1hobUUheppRsaCQPseNXnLJJcGG2QWcn/70p2E/xJgxY4LgSXrQ0FFhgnzwCCQoNcyQIkShLLCygPCDAoAJEke4smmZvBB+CY/pBkdORvclMLuKaRDn1jOjSvhSCTyk8+abb4bNpI4JihlCFnshsEXHQR9hu9tFyw52bITFVp6L9sAJBee73/1u+M3/pfCk52nCL9QFJ2T1lBUF50+Ucnh23333DXgjjMMz8DWnHaEYc1IX4WkDPIt1HhZMWeFiPxI8SFshH/DnpK9rrrkm7DOAFviRPUHcIs7JYNAB7/JEuWDF44orrghHAHu75CknBISAEOhKBKQodCXayqtmEWAA95nicigKCBXMQHO6ChskXShGKP/zn/+cO1kFgBFaXHBpL+DE87Iw28nqyFFHHZWbIUWIwf/2t78NgjgmERxRCm2sMiAgIRzhfWacM+W5+4FjIgnbGfryywOt7M1gRtYx4UneKGsoULhKVBRYtWFFAaWLlSEEShQxPL/L4RFeWRHCHp47KKgLeKuj/JJfH5X2P/zh5eP272HDhoUThVDA3LyHlT/M7OAj37fRETyIA39/9dVXQaHniF6vTwR/lAXMvjBvYrKANuN3sbDJ3+nhSfs69dRTw34nwnoZOkJXpdWJ6BECQqC6EJCiUF31JWorFAEXrhnIy6UosHcAcxqECBeKsYdmhpgN1JgM4aChMwIFcRFMKBMznn7MKbPRCDHkzYoBdGAKhTkFAi9CEPS4cIRghH02JheYdJAevrP0RVmA9NiYy34ExwQaK1lRcAwQSqH90ksvtQMPPND++te/lt3vvffedu6554Y6Q1ClLpyeKK618Nv5GJMdlF4EdHgUZcln7+EVTLHgY8LA9x11ztc8MYdD0EcBoB3Aj+TJqsIJJ5wQ9jOMGzcunFZGm2HFDlrwfsIYZnwoHbVcRx3FWvGEgBDoOgSkKHQd1sqphhFA2Cr3ikJXKQpUE8IJ5UHIwuSJU1c4ttGFGZ4IP5xixCoHJkesdDALzuwpT4QkbKyfeuop4zhOT5e0S+XAnZlgjoeNKgqVanrkGPBEKGW2mJl9Zrs5HrPcnhu4P/vss7BPhPqN0hP+qZE/8Jgru+yJwSwOAZ37CZyH4VH45MwzzwybheGlzjjydN6G3zG1o32wYuF50Wa4cZkTkk4++eRwgzPffKWOJ0cTs+mf1Qlo6ixdnSmT4goBISAEpCiIB4RACRBgMO8uRYHjF0u5ouBwUCaELZQF7mhAIWB2lBUDhC0EHGY/Oaln/fXXDyc7IejwnRlSTFzc7tttsl2Q8jw6+4RGhOtCikIlmh5Fy+vCLAIhG1yZ0e4Kj3LivBqlp5Z+R4V2bjMfPHiwcWkgK2HwLfy74oorBlM5TuniBKpS8KbnC7+jnAwfPtw23XTTXHuhffjN4bQbNrG74oLSggkaq2Nvv/12aHueXi3VjcoiBIRAdSEgRaG66kvUVigC3akolNr0yCF2IYWysarwwAMPhNNi3AQJAYdZfIQfZkp9ZpQnqwtcuMZRqJjYuNJRCmHM6eNZzYpCtBz6XToEnG9JEdM5LjPEvMgvQ4NfURhQHJjZR6CPxuksJfAk6cH33EnCTepsVo+2D5QCV1i8HbHywAlYXKqIwljqttLZcim+EBACPRMBKQo9s95V6hIjgHDgs7Tl3KOA+US59yhEoUFYccGHmVlWCDghhlUDN/XxJwIYwg9CGPcaMFOLY1UCXw7BB9qqzfQoii+/waWrfT4NtfK/8yttkZUwlFuOK3UhHR5FMOckLwR4NpQz+19Kl8/n7PGBBj9mONp2oMUVbW5f5mZ2jq2VEwJCQAhUCgHP510AACAASURBVAJSFCqlJkRHVSNQq4oCleJCLOYxHB/JSgGXU7mC4MIOAg+mSJxyxJGP2MLjwAZfDke6+aZH0MUKRzWYHiHQcgkYs8+s2mDbjud3qXw0TX77Of7lqpNy1HMxabqSwJNNwOwRQGFlr4wrCCgMzOZzktfYsWPDAQDlwMHbDHRzTwJ3IdAuaB/QgrLgygvth/0/F154YbiwENMwOSEgBIRApSAgRaFSakJ0VDUCCBvlXlHglBqEdE5OcSG91MejtlQJLvhwstIdd9wRNik7Da4oIPysvfbaYZMmdxsQFlw8bktpd+Y96VfbigJ44BAIuSSPux6uu+66cGY+5+aX03OE7f333x8UPsxbcE5P+KdK/8AHzmsoWKzqcUIYbQXBHI9gjnkPt4bfe++9uROFylFkMHWaqGdOBjviiCPCaiC0oMjSXvhNOzr88MPDpn9WN2qhPsqBqdIUAkKgexCQotA9uCvXGkMAoaCcigLps+Gyb9++4dQUF9KZodx2222DXTPfcQgapRY2PE3MOZ577rllbkJ2RYGZ2q233jqYJ82cOTOYG5Vb8AGXKVOm2DnnnJNTnqCHk5cQvrD3xrn5U/inG/+Ao5thofj5zcxscKVOoR3v9VvqJ8Iyl3thDuM3Mzs93QhLp7J2TGl/lIWNwJzCxe3IbL6nzAjl/OZGZi6b81vMO5VxK5GhyfsE6EKZ5a4PVuJQDmgrUUWBI3LZT0Ecb2utJK9PQkAICIEuQ0CKQpdBrYxqGQEXChjky7FHgXQ55pFTVFAMXIDklJRevXrZPffckxN+oAVfKkfeOFYIELA4h3+DDTbICbYuiPHk3gTuA+CiNsxpiOvCT6noIR2nCcEQYZvZY8cEAQzBm9UX7m/AEQ7f3Q66oYMnNzNPmjQpmMdwlj7C43eaL6vjdzk8Nz/vuOOO9sgjj4S6jNLT3dh0JH/od/7CrIrN85yAtdlmm4VbrcGQ2XsURy4mpP1gllTqi//yafc2CH0cf3vXXXcZexA4CABFAR51RQHFcJdddgnmSaw+eHny09T/QkAICIHuQECKQnegrjxrDgEG93KuKCBwYMuOrTOmEy4Uf//73w9Hk44cOdI+/fTTgKsLKaUA2QUx0mTG008++sEPfpBTFFzw4cmNt2y2vuSSS+z1118PG0XBpdTCD3ThSZvbbQ899NAcJgiHHH3Zr18/wwQKh3AODd3toNkVBVYUJk6caPvuu2+gF4HWlQN+l8NTP9ye7Ztmo/R0NzbtzR/ana98daZ///5hLwDtAkEcDDntiP0B3MrMKUQeh/j4cjjShTdRSNgLwSEErP75HSMo1bQXPIoC9zvAw6+99lpQIMtFVznKqjSFgBCobQSkKNR2/ap0XYQAwkc5FQWKwWwjRz3uvvvuOaEYwQ877Kuvvjpc2kW4UgrFlAvzIVYTuCl2//33D7cvo6i4mQxPBB4XfhDQuDQKwQxzKOI6TaUSgEjHhTFWU1jFcOUJYezXv/61DRkyJGx0BhPKge9u5zTz5MQd7r/gUjoUr3IoBoXSxPQIhY+ZbuhwxaW7sWlv/t7m4E9WZtgMzDGkftcHqzP83nzzzY29GVxqR3mJxxNfDufpoiSwAse9COutt17OBIo6cQXB2w5P2jHKbVSZKQd9SlMICAEh0B4EpCi0By2FFQItIOBCC0JCOUyPyBaBm5NcOM3HhXSE8p/85CfB3IJL0XAIfvjOOsqERxAjbUyOOEEGQZz8UQz4zaVRCOYc/4gAhCDEjP4+++wT7MEx9SAdVxY6SxfxXdBjz8SNN94YzGlcUeB4VuzT2SBcjlWWztAP3S6YY5rFiU2svrCqgGkMq0V4fpfKR9Pkzo2zzjormGuhqEAPdcOzWpxjCN1+utExxxwT7P+pe1Zl3KwHhRV8OdoXvJ0Hy1Ve0nXPaUfXXHON9e7dOyiC0EWbgUbaC+2W37QZPKsgHAbA3Q6cGOb1Ui5aq6W+RacQEALdi4AUhe7FX7nXCAIM6uVeUXCB/aSTTsoJ6ggYCBuYNjz77LMBTejojKKAYEJ58KxisOl10KBBYROsKyiuEHCnwp577hmUF/YnoCQwk8vTT0DCvIb9FZ5mKQQfF8ZQnjA32XjjjXMrCtjhc+HbqFGj7Ouvv644YdjLD+3QN2HChHAKz2233RaOleVoWX6Xw2Mr//TTTwczMkzZcE5PpTdFr3PnI1ZE2GvBpvXf/e53QUGAL1153nDDDcMqA6s2tB3ahCtp5Sir08eTeh0zZoxxazpKATR521h11VWDmRErg9xo7koNSgSeOxdY8aF+yklvOTBQmkJACNQeAlIUaq9OVaJuQADhpdyKAkIDM6Ns1kRgZ4YS4YNZfYQlbPURUhCKoKWjzsvCc+7cucHkiNNiUEjIF2EMgQazjjPOOCOcoMNKB7ff8s4VBcxpMKe4/vrrbcaMGSUV2F0ow7zjH//4R1jp8BUFNjKjwIwbNy5cukU5PHxHMVG87kWA+qMe8bQDVpI4Vha+95l6F8bhUxRHFEj2qKDsEsf5oFwlcRp5YgrFSVzeHpxGVt8wNUOpx4zwuOOOC2FoT66Eo3AfffTRwTQMZaHcdJcLD6UrBIRAbSAgRaE26lGl6GYEGMzLpSggeODIA8F98ODBwcwHBQHhCMEc4YPZYsIgFOE9XnugIQ5xUTa4mAuB5sgjjwymPFFhhvsbOD2H40exw/7iiy/s4osvDvbgKBIIRtCHOQXmLjfddFMw/SBd8ugIbdFyEJ+0mLnFxIm9Gq4oYPaEYsNMspcFXCrRRfGmPF3hnU8rEY9CNIER9ccTj1kOqy6Ya7EngTYAb7pns/bll18e9iRwEhI84PELpV/Kd75KhJLCJWquNLtSjxkSe3doxxwhzP4av4jNFQVM+FB0aOccqxotfylpVVpCQAgIgWIQkKJQDEoKIwTaQABBxAWwUu9RcAGJJ4LPDTfcEMwZEI4RjlhVYIMqG5qZPYWOjgpGxEOwYsaWoyYHDhwYzHgw5/HVBAQZ7kvA/po9ANCFgES5Tz311HCpFbRBFx7TCy6bwgSJI0HJo6P0eTWQJ+ZMU6dOtZ122ink44oCwuNBBx0UZpPJB+GbZyU6ygHe1FlXefIj32pw0EndgQ08Rn3fcsstYUP/SiutlFMO4DNON+II0qFDh4a7FLycpFHu8pI++WGmx4lSKMe+QR1FhpUF6GWfD+3AFUL2qHDnw6abbhp4GCWbdsb+BdoYChGKOGl3ts1UQ32LRiEgBCoPASkKlVcnoqgKEXBhBoGhnIoCt+lyq+wWW2wR7gpAOEYQ4V4DNm0yw46QDx0dESyIg1CCycOtt94aViqYDfVZWxf8uaPATzQiLzxxMAdBcGdWn7AoFSgz2Iszy4qg54K7x2tvdRMPx6ws9vbbbLNNTlFAyFp33XWDQIYQRnnIz+O0Ny+F7z4EqDMUBOdH9iSgBGDi5gK1m8GhyCJYs7Hdzdy6SriGTvgM/ufeDvYYcNypr6zRdrgRGuUB80BW6igXcVDsOXaYVTvMkmgrXjbaNqZVTz31VGjTlAcvJwSEgBDoSgSkKHQl2sqrZhFg0GfwR2gotaLgoJE2SgCXmR188MG5Y0oRLrBrZkMzqwDMtBMWoYJnMc7DUw6UDQSeAw88MMyCujDGE3OiY489NggvUYGfeOTHHgpmfDGxQPBBWUDRQHHgEiw26GI6Uixd+bQTj7x4fvzxx2F1hf0IYIBgRV4IjNDgN922B4f8/PR/9yDg/EQ9z5s3L+yTOe2004KCzKVl1LevcMFjmCGh2GLOA//TFl3JoP7b653Hii09dPqN0LRFX+2jzdAOUJ7vu+++QF+ULn6jLLB5+YADDgj8S7nw8DNKL0o5R7t2xalNxZZX4YSAEOg5CEhR6Dl1rZKWEQEECwZ9BIZyKgrkg0DCfoDVV189CBTMWLKBF1t9Ztg59jJKT1vFhmYPz6wolz5xnvs666yTM4dA4OHCKI6bZEUDcwjiuSc+HiHto48+sj59+gQbbWhDeMdWm/0KXCr10EMP5U50aYu2/O/k54I/dKIcccGbC1eYeOy1115B0eESLi8bT7nqQMDrjNUzlEqEaE764iQreMgVBD/dar/99gv7c9wMDj50xcD5MvrOv7X09DjF8gwKM6trbNpHIYDnaS/O+5hD0V5RXGlfnr4/yYejVNnHg9LLbevOz5SRNjdixIjQrrwcxdJWHTUuKoWAEKhkBKQoVHLtiLaqQYABvCsUBQBh4/D9999vG220URBGfFMz+xSYVcVEA3p8xr8tEF1gQXAiLnsg2EyJjTUCj5seYe7EPghmbV2Yc4GFp8+U8mTVg5UHTI8QmFy4YxP08ccfH9JAaGqv83ygmY3UvXr1yplgkQezt0cddVRQZDgRCec0tjcvhe96BKgrb0sI/mzQZ6M+qwguPMOT/GYvCqcDseGXVTD4qRSeGX72Q9AeWnPOVygJ3EK+9957504Ggz6UY+g+88wzw76EqGLi6ZIG73myasClcZgRUkYvJ2mwOR+zJW/ThPf8PS09hYAQEALlQECKQjlQVZo9DgEXbhi8y7GiQLrkgWOmnBN9tt122yCYIMgjVHD7KzP5CE4I64RvS5jgu3vMmkaPHm2HHHJIEL4R8jHrQNBnNpejUKdNm2bM9OLy0yY/PIIP5iJ33313sCdH0IE+0kGpQbhnvwIrD/lphIRb+UN48sDOm+MlMfOATsw0yGO11VYLx8eiJDgGrSSnTxWCgPOgP1955ZXAI8zG//KXv1zGJAchnPpmdYFVL0x2MMXjIsKOenie1S6eHLfLBmM/cag1PoLet956K+wxYIXPTaKgj83Vu+yyS1hBo80i5LtSEIWdNHCsxrGvho3/mOq5ouAKB6sqnELmygLtQE4ICAEhUG4EpCiUG2Gl3yMQYNBGoGDQf+GFF4LAgoDjAiyz88x+MkvKjCXOBYRiACKsCwYIyQjZhx12WBCUfcYeoRlb7eeeey63T4F4LeUT/Yb985QpU+yUU04JdtEIPL6/wE2GuNwKZcLpKES300kYhB6OqWQlgjRIE48QhDkFqyJsSC7WOb2kzYbVAQMG5E6WQXiEXvZGsCKCQyhrjdZi81W48iPgdev8c8cdd9gee+wRZuXhbxeaqWdXFHjPXgD4iZUkzO866jH3IQ2eXIjGRWm0I/gnn+edVlBhT87w4cNDHGhx+txkiNvBaauk05rCQVqkC8+yj4f8Uaq93PQjKNiYBLKiRx9AmnjiyQkBISAEyoWAFIVyIat0exQCLggwaLui8Ktf/SoIDgz2rihgi9wRRQEwXSBA4GCGEiEccyOECAQUhCTMkRCyMCHCuTBRqDJIz79zGtGVV14ZlAQEMF+l4PIqBCdMQFglwBHPaclP19Pkyaw+dtkoH9ycC42kjWeWlBlSVl+KFXacVsrPBW/MvDqdYMzKAmZNzzzzTCDLw+fTqP8rDwHnJ+qMGfMrrrgi3C/gPIMS6EKzC+PwfTk8R5OiyHJhH/TkmyHxDoEePhw5cmRuXwJ0OY3w++mnnx72LhAO52VsC31MC1F2WZGAv728KNvcEcGqn5sXkjb0yAkBISAEyoWAFIVyIat0exQCDNYM2ggDzERyRCJHIroQjxDLCgAz4dhRE64jA7zHIw02BbORE0ECgQKhntlVzHreeeedgH9Ls+qkg+c7ggkbKTHz8I2ULvBgL923b1979913g8BUTKU6jeCBmRJ0YhLCRmMEPheoUEC4dwFMmCFty0ErHsFt0KBBucvdSA/lA9qZ3WXGFedlbCtdfe9+BKgrHG2CGXyU4M033zwnJDs/lkMxyE+TlQXaAseSQo8rCs7XvGNPBEouZk+0OXiQdOBDVhO4cZmDBYhLeC9fMUgzkcCN0uxtWHvttXPKEGlz7Cp9C/tzFi1alEu7PekXQ4PCCAEhIAQcASkKjoSeQqATCDBQI8TynDBhQpjtZlaRlQRm+pkdZLbbTY8IhwDRXkc8PLOubKBk1hLBxPcTYK7A2euPPfZYzia6UD6eP7P+rIBw9CQrIOwnQOCGZuhH4MFenA2b7XHkiQcTVlE4EQbhi8vXwMRx2XnnnYMJEqcoteagl7RQKFilYMMyabmQhxLCPgrMowjjOLWWpr5VDgLUFw6egbe5zG+HHXZYxpTI+aZcT3ietNkkzelF7AeAHhQXb9v8jwKMWR33lqDMROlBkMf8jRW4r776KsTvCC+yYki7ZHIBeqANjzkje5FQpKAhSlfl1KYoEQJCoJYQkKJQS7WpsnQbAi7I8nzjjTfChloEHS4a48hDTBkuuuiiYDLQmdN4XOhAYEG45hQiNvAiKDOryYw9AjmmG8w4InThiOfOfyNkcNMzdw6wiZPVA26IxW+yySZ24okn2pgxY3IrJfnpeHotPcnHBRnud2CDKJs7wcQ9AhmbpNk42lL6ng5lRvjCJGTHHXcMZXZFAQGK03FeffXVUFbCejlbok/vKwcBryueCOKjRo0KyjZthxO48M4z5XhiskdePLnQjf1EkyZNWk5RADFWCZgM4Bhe2lqUnj333DMoxexdoCzt5UPHgXgoKCgctE1oo02CA4oC5nzRU5AILycEhIAQKAcCUhTKgarS7JEI+CCPgI7N/8SJE4N5AjODnFLE8YeYFXRmUCcPF0CYOUdYwPwIMyfMMzBBYmWA1QtowPTHw+dXCu9RJJih5+QWTCkQgPDQjLkRgjnhOuqIi2ezNMITwhf5uAcjlAROfGnJgRfCI082XKNwcREVphiuKHCZG3bdUbOjltLT+8pGAH7BBn/y5MmBD+FFvPNMuZ6ex8svvxzuKmEVDVrgO57u+J8Zf+7x4GLCKD28gwe93UXjefxinp4vONA2HQOemDaieHMQAOHcF5OuwggBISAE2ouAFIX2IqbwQqAIBHygR6hwz7tSOE+b2Xr2InD6D8dEoiRgeoQZEjP3jz76aBAm2srfBQ0P509/XyqanW5P35+8b8l5HBQFZljZqMysre//QDliNWX//fcPig0KCa61NFvKS+8rBwHqz+ve+aQrn55/a4i0RF8xcVtLN/qtK/KI5qffQkAICIF8BKQo5COi/4VAJxFgcEeIR7hlxt69m+F0MvmgeJA2+cyZMyecAIS5BLbSKAkcQYoJBTbU3HvgYVsSYBDA8mmFZujlWylcS5iQr9NXKB/iOX0LFiwIR0dyXn3U1IpN0dwf4RtHC6Wjd9WFgNe5t52ufrbGkyAJXzrvRmnjXanaOfm0hAP5lKptVhdniFohIAS6GgEpCl2NuPLrEQi4UM5g7p53pXAuPJMuJg6YNGGzzKoCSgImOdjsc5Qip6MgYOOcpnwa/L3TydPf8SyV8zQL5dNSHh4WYYzVBC7DYlOnHxvJngxOgXnwwQcDzqWktyWa9L78CBTiFeeFcj8977ZK6eGi9Pi7tuIW+93T41nOfIqlR+GEgBDoeQhIUeh5da4S1wACLjggQGNLffPNN9vuu+8eTI8wP+IkpJVWWsmGDBmS2yhcbcWOlhGTIjZocxv1d77znbBpm9WTFVZYIRyVygkwckJACAgBISAEhEBpEZCiUFo8lZoQ6DIE3DQIZYHTfs4666xwDCsz7r5X4dBDDw1HpTIbWU0OJcHLx50RHCt77LHH2iqrrBJWE1ASOHKWk2BYNSnmHoZqKr9oFQJCQAgIASFQCQhIUaiEWhANQqADCPiMO/bKnIBy++23h9tsuQsBEyQ8qwqYJXGXAQJ3tTgUG8pFGTm9iXPje/XqFS6VYwMzZeOoSC5eYx8GSoWcEBACQkAICAEhUFoEpCiUFk+lJgS6FAGfeWdVgaMZL7jggnAq0DbbbGP4rbbays4999ywj6GaZt29XDw5PnXgwIG277772tZbbx3KxZNL4rh0rr2XwXVpBSkzISAEhIAQEAJVjIAUhSquPJEuBBCkmX3nyeVp2OpzIdno0aPDLcUPPPBAuBeB+xA4FaiaHGXCzZs3zzjbHhMjLxdPFCPKVMpTZqoJH9EqBISAEBACQqDcCEhRKDfCSl8IlBkBBGo8qwpcXIZgzbGpeG5v/uabb6r66FCUAS64QtnxcvFkJcGVpDJDrOSFgBAQAkJACPRIBKQo9MhqV6FrEQFXGAo9q728hcrEOzkhIASEgBAQAkKgfAhIUSgftkpZCHQpAgjOzLBjisNGYPfVbppDufLLRNmqvVxdyhzKTAgIASEgBIRABxCQotAB0BRFCFQqArU6816r5apUPhJdQkAICAEhIARAQIqC+EAIFI1As6lLJm2Z2ELLLP4qeEv6JmGZwhQNpQIKASEgBISAEBACFY+AFIWKryIRWDEIYBOfSZsl45aa+aYl3x9nyanjLVM338yav/GUEwJCQAgIASEgBIRADSAgRaEGKlFFKCcCCP4oAdlnpmGxpb6cYo0PnWeN9/zT4hNGWnrhl1IUylkFSlsICAEhIASEgBDoFgSkKHQL7Mq0uhDImKVTlqlbYKkZEy0+7kqLDf6T1V+xqzU9OcTSX3+SVSSalYmgWFRXAUWtEBACQkAICAEhIASWQ0CKwnKQ6IUQyEMABSDZZKlPXrOmR/tb7JLNre7M31ps0HbW9Nillp47PWuSRLRgniTzozwEs/8GRargF70UAkJACAgBISAEKhABKQoVWCkiqVIQyFgmGbf0/M8t+cHT1njfGVY/bGeru3BDW3rWqhYbuK01jT7fUrPeC/sWAtVSFCql8kSHEBACQkAICAEh0EkEpCh0EkBFr2EEON2obr4lPxhvTQ+dZ7HBva3ugvWz/uzVg6LQeN+ZlvrsLcvE67NASFEowBDNG73TyeaVF624FABJr4SAEBACQkAIVBwCUhQqrkpEUMUgkEoGs6L4+OEWG7CV1fXd0OrOX8/qLtjA6s5Zw2IDtrbGu0+x1IxJlmlcmiVbisLy1dd8UlTAKBk3y6Sym7+XD6k3QkAICAEhIASEQAUhIEWhgipDpFQYAuG+hPmWnP6SNY0dYvXX7mux/ltY3fnr2tIzV7G6Czey+hEHWvL9ZywTW5AlXopCXiVmzOL1lp79viVeu8/Ss6dZpmFp7hSpvMD6VwgIASEgBISAEKggBKQoVFBliJQKQwChP9lk6UWzLPnhBGu49eiwioCyUD9ke6sfvqc13HqUJd9/2jJLv84SL0VhWRxQthbPseRbD1vD7cdZ4pU7LTV7akRRkBlShXG9yBECQkAICAEhkENAikIOCv0QAnkIIPTjEo3hCNSGm48IikL9dftafOzlFn/2Wmt66nJLzXhFikIedOFiOkyO0ilLfznF4k8MDKZbYJh4/f7sXgW+O8b58fW/EBACQkAICAEh0O0ISFHo9ioQARWNQCZt6QVfWvLtMRYbskO4P6FpzEXhPgWORU3Pei/MmGNeIxdBIJ0KSoKlEpZ8b5w1jjrN6s5b22L9/xAuqktNf7nZXMsvs4vE1U8hIASEgBAQAkKgIhCQolAR1SAiKhaBVNJSM9+wpkcustilW1r9dfuHGXHMaYxTfJKN2aNREYzlmhHIXlDHagKrMYmJd1rDjQdb3dmrWd25a4YjZpsevcRSn0+2TFO9VhXEN0JACAgBISAEKhQBKQoVWjEiqzsRwOSoeaY70WTJyY9Y/ZW7huNRGx8411Kfv22Z2KLsjDnmM4SV+xaBsE8Ds6OkWcMSiz99pdUP28WWnv5/VtdnrWCCFLv0D5Z45Y5wR8W3EfVLCAgBISAEhIAQqCQEpChUUm2IlspCAPv6hbMs/sxV4VjU+it3s/iz11mmboFZoqlZUWhWKiqL8u6jBiUhnd17kGmqs/S86dY0+gKrH7Sd1Z31W6s7b52s77OW1Y84wOIv3pI1QUrFu49m5SwEuhqBoExrgqGrYVd+QkAItB8BKQrtx0wxegoCySZLffyKcala3dm/s8ZbjrLk5DFZBQGzmtxmXA34OZYIigIXq2Uss2SuJac+mz0t6qJNg9lRUBQu3Mhil/3R6q//W9gQnlnyVThdKpeGfgiBWkdAikKt17DKJwRqBgEpCjVTlSpIaRHIhEvUEi+OtIYRB1qs3ybW9MRAS818M5sNl4YFs6PS5lr1qYFJKhEUhfS8jy0x4aawJyFrcrSB1fVZ2+oH9bbGUadY/PkRlpr+kmXqF2bjVH3hVQAhUCQCKAoyWSwSLAUTAkKgOxGQotCd6CvvykUglQynGTXec1owm8HGPvn2o5ZZMi+7+Ta3mlC5RegWysKKQnbfRmbpN5aa8WpYhYk/d701PXiuxQZtZ/VX7W7xccMs9elrlqn7xgyzIyld3VJdyrSrEGDPU7NJXsMSS33xjqVnT7XMotnazN9VVaB8hIAQ6BACUhQ6BJsi1ToCmdhCS33yqtVfs4/FLtvSGm8/NmxitmSzUBtmBGsdhQ6Wz7GJN1hm8bywpyM9Z5ol3njA6q/Z2+qv3sviT18V7qboYA6KJgSqC4GgQDeb5C2eY4m3Rlt8wkhLvDoqe8QyN7vr5LTqqlNRKwR6CAJSFHpIRauY7UMg/dVHFn/+RqsfvH04sSc+doilv5mZnRXkNB8XhtuXbM8L3YwTKwfcndBw8+HGpnBOj0rP/kA49jyO6Jklph0Ek7y0ped/ZvEXbswqzZfvaPFH+2dX17iLRf1Kz+QPlVoIVDACUhQquHJEWvchkPpwQnYT7mVbW+Ntx1rqg/GWqZufHciDmYw2MBdVO0HwyVg4Aemrj6zx7pOtfuifw70KqU9f1yxqUSAqUNUjEBQFJhiyFzhyNDB3ssT6bWz1Q7a3hjuON8zz0p+/k73lHaVCexiqvtpVACFQCwhIUaiFWlQZSodAJh2E2sSr91hs4LZWP2AbaxpzsWUWfGEWb2hWFKQkFA04AhKKVbIpCECND/axGKs0g3tb6sMXtIm5aCAVsKoRyCkKGcssmmPJNx+0hhv/Ho5drjtnDau7aJOwwtD0aH9LvP2opeZ+iww2agAAIABJREFUlDsUoKrLLeKFgBCoegSkKFR9FaoApUGg+RSSVMLS82ZY/MnB2RN6hu0cTu4JeYTNiGzUlWsXAn5CVKLJmh67LGxorjt/HUtOedIyicZ2JaXAQqAqEUBRaDZZzCydZ8n3xlrjbUdbrN/vs5cQnre21Z27hi09feXsscEv3RpOXdO+haqsbREtBGoKASkKNVWdKkyHEQgz35mwapB46xFruP04q7twQ2u87wxLTh3ffFNz9tSSDufRUyOySZNL2JJNFh9/dbjluq7PmpaYdHe4a6GnwqJy9yAEgqLAkcqZcNJXctpz1njniRbjfpFzVjfaQ13fDSx2yRbh3pbku49bJh4zQ8mWEwJCQAh0IwJSFLoRfGVdQQg0D+ScdsR9CWy4jV36B4u/eLNxH0DWXlhnn3eoxlxRSMUt8cqd1jDioDCLitLApnE5IVDzCEQVhdhCS3480RrvPsViF/fKrij0WTv8bhi+Z9jonJ71fvYSwrAfqubRUQGFgBCoYASkKFRw5Yi0LkSAgTzZZOn5n1vDbcdY7JLNw6bbJBeCyTymcxXhJluphCXfeTzMpNadv541PXpxOIK2c4krthCoAgSiigL3KHz+zreKQr9Nre789S126ZbWeOtRlpoxsXkFU3uhqqBmRaIQqHkEpCjUfBWrgK0iwAAeBNmMpRd8YYnJDzcfW7iTNd57evYIz3C+uQbtVnFs7WMzvthbpz5+xZpG97W6C39vjaNOs+SUsa3F1DchUCMINPczxglgMUvPnW7x8cNDH9M0dkg4Ya3+8h3DBEW4Y2TOtOYTwdTv1AgDqBhCoGoRkKJQtVUnwkuCQGSmL/XZW9b0SL+w2bZhxAGWmHhXOKEkm48G7A7jHZSxrKDExWvxp6/ImlncdIglJo3qcLKKKASqCgHaAS7RaOnFcyz50YSwoT/1+WRLvHJ7OCK1rs9a1nDzEcapaxwpHDZA65jUqqpmESsEag0BKQq1VqMqTzsR+HZFIfneOGvgJua+G1rjXSdbau70MPunS5DaCWl+8JyikAlHpCIUsf+j/opdLT7+mvzQ+l8I1DYC6VS2XwkXsGWVh/TCLy0+8S6ru2Rzi/XfwhpHnWqZBbOaj2TmpDVNVNQ2U6h0QqByEZCiULl1I8rKjgBKAjemJi2zeE7YuBwbtJ3FBvU2zAEyjT6jV3ZCekAGzQpZvMGSbz1s9QO3tdhlW1rTo5dkTSx8trUHIKEi9nAE4PVwVCqnqKUD/2fi9Zb65LXsvoXBf7L6q3a3xISRlp778beXPKqN9HDGUfGFQPcgIEWhe3BXrpWAgG+yTTRZ8uNXrPGh86yu3ybWMPIwS7zxYCVQWDs0IOQ0C0XJ958OqwkcDdl435mWaVgSlLXaKaxKIgSKQeDbNkHb4CK2xJsPWcMNB1vssq2sYeThlnzvqWz7YJ+UFIViQFUYISAESoyAFIUSA6rkqgiB5mM72VwYnzDS6q/ZJ1yyFh87xNJfvFNFBakCUsMsalbYSX30YlYYuriXNd55gqW/mWnMqMoJgZ6DQPNqpgv/PFOJcMla02OXWmzANlbXb2OLPzXM0rOnmqWa7yLx8D0HKJVUCAiBbkZAikI3V4Cy7yYEGHCZ4U40WmbBl9b0cD+LcepI/y0s8eZoyyyZ102E1Wi2jrdljE3jjQ+cnd00fvPhhuKQqZvfXHDZYtcoB6hYbSFAf5RKGitujfecbnXnrmkNNx5siVfuyO5pCKsK2q/QFoz6LgSEQGkRkKJQWjyVWjUggNDKTcHhltT5lvp4ojXccpTFhmxv9SMOtNSnr2UvO6qGslQNjc2KmWUsnHz0zFVWP2wXa7j+AEu+do9lFs5qLokUhaqpUhFaFgTCMc0T77LYgK0sNrh3OEI19eV7lmlY3HyUs5SFsgCvRIWAECiIgBSFgrDoZU0j0Dxzh6IQzjN/8WarH7qz1V+1h8WfGmrp+TN1ykjJGSCiKMz/zJKv3Wv1V//V6rmJdtwVlv76k2yOMq0oOfJKsIoQaF55S896LygIMTb9D93J4s9dZ+m5H+UOXwiroVVULJEqBIRA9SIgRaF6606UdxSB5k21KArhpJH7zrRYv02t4aZDLfXhBMvEFjanrNntjkK8fLxmm2xUsKVfhzPk60ccZPWX72SN952VvdiOSFIUlodOb3oYAtljhFMfjA99EuaQDTcfbsl3H8+a6OU2Nqt/6mGMoeIKgW5BQIpCt8CuTLsPgeaZbc4yb1hiCY7qvHZfi128mTU+cI5xnjn7FrJOA3FJ66lZCWDzOHdUNNxypMUu29oabvx72LcQ8pKiUFLIlViVIpCMW6buG+NghfphO1vsks0s/sRA43I2bjgPCjUTHnJCQAgIgTIjIEWhzAAr+QpDIOxNYNNgwtJzpgZTo9ilW1r91XtZ/IUbvt00GMiWolCW2uMoyIYl1nDnCVZ30aYWG7xD2CeShVyYlwVzJVqVCCSnv2SN959tS0/9hTVcu68lJt5hloxrr0JV1qaIFgLViYAUheqsN1HdUQTCkaipsGqQnPKUNdzxj3C6COf5J6c913wRkoTVjsJbVDw2kcfrrfGhPhYbuE04Mz45ZaxZU6w5uvAvCkcFqnkE0gtnWeK1ey02ePtw2AI3NqdmvmGZ2IJmZUH3K9Q8E6iAQqCbEZCi0M0VoOy7EgFOO0plzyuPLQgrCPVX721L+6xl8eevt/S8j7uSmJ6ZF6ZF+GRT1qziil2t7pLNLfHqPZZZ/FUzJigKUhZ6JoOo1AEBN8FLNFnq83escXTfcHwzZkhhY/Mc7lZImGWkKIhjhIAQKC8CUhTKi69SrxgEvj11x+L1lp43wxpHn2+xoX8O5/knpoy1TP2iLLUuzFYM7TVEiGObjFvixVvDxWuYH8WfvTYcmxpK6mFqqNgqihBoNwJBWciE1QNujq+/4SCru2CDcLdCuLG5qS6rUKu9tBtaRRACQqB4BKQoFI+VQlYzAgymrCZYxjKL5lhyypPZTczDdg42wCluYl5mE7NmtMtT3c2rBamEJSePscY7T7S6C39vTWMustSMidksJfiUB3qlWl0INLeDTKLR0otmW5y7R67e0+r6bmBNj/XPHgDAqkLY3Jzt26qrgKJWCAiBakBAikI11JJo7DwCfiRqOhWO4ow/M9xil/4xnOWfeHVU9sKvZkVCZi+dh7vNFNJJS01/2ZoeOs/qLljfGu862ZLvPpmNRl0hJMkJgZ6MgCvMnNCWbApHCjc91Mfqzl3DGm440BIv3RKOGg4THOEEpGYlvCdjprILASFQcgSkKJQcUiVYcQj4gIs9bzJuqY9eNDYF1vXd0BpuPsJSn022TOPS5mV83XraJfWXSVv6qw8t/tTlVtdnbWsYcZAlJo3KKgh+MlWXEKJMhEAFIxCU5uwxqJkl8yzx5kMWG7JDmORouO2YcFxq1mQyYlpZwcURaUJACFQfAlIUqq/ORHF7EfDBNp20zKLZlnjpNqsftkvw8ScHWXrhbLNE07f2vu1NX+HbjwAnHy392uITbgqnTtUP3cXiz12fTUeKQvvxVIwaRaB58z+THYlGS305xZqeGBA2NscG/8maxl9r6VnvN29s1kpcjTKBiiUEuhUBKQrdCr8y7xIEwskg3J0Qt9Tnb1vTwxdaDHOXW4+25JsPhaM6ff+CTF66pEaymSQaLfH6fVZ3/voWG7itNT05OCvwBJtrXSbVhTWhrCoagebVgqBcf2PJac9bw61HWR2mkyMOtORbj4TL2cxN9mS2V9G1KeKEQLUhIEWh2mpM9LYfAR9AE42WfPcJa7z5cKs77dfW9Ei/cCZ5SNDDtD91xegEAuxLiF22lcUGbG1Nj1xkmfrFZkmOfWyeSe1E2ooqBGoDgWZFAQU60ZhdiXv++nBJ5NLTV872YxzGEBRstZvaqHOVQghUDgJSFCqnLkRJyRHwQTN7bn9m4WyLj7vCGq7Z22L9/2CJl2+39Dczs7m6eVLJaVCCrSGQ+nCCNYw4wOoH9bbGe08PR6RmGuuaFQWtKrSGnb71JASalYVUMtxBkvropaAgcFxq/XX7W/z5EdlL2DgFCadVhZ7EHCqrECgrAlIUygqvEu9eBJoHV8bN+kXhOMHG2461+qE7W8PIwyw17YXmuxOaw2lw7fLq4pbZxnvPsPrLd7RGNmdOe94ydfO1sbzLa0IZVjwCYZUtuw8hs3BWMJusv/qvFhvU28LG5pmvN9/Y7BMkFV8iESgEhEAVICBFoQoqSSR2FIFvFYX0wi8t8dZoi122pcUG9w4rC1y6ZumkBdvecBOwjuTsKNIdjZee/UH2hmaUt+sPsMRr9xorP2FG1E0pOpq44gmBmkKguT9jVSGVCKtvTU8MCooC5nvxZ64ORz+H25p1s3lN1bwKIwS6EwEpCt2JvvIuMwLNM2upRDhGsOnJQVbXfwurv35/S7w9xjJL5maVBARSDaxlrovCyae/+cwSk+62+it3tfordg2XSqW//iSrKCAQaZWnMHB620MRaL44MpO2TN0CS338SriDJDZgm9B+Em880LyqILO9HsogKrYQKDkCUhRKDqkSrAwEmi8fQtBsXGrJdx6zhpGHWmzQdtZ435mW+vLd7N0JfJei0G1VxhGpyQ9fsPrhexrCDhewpedMyypwUhS6rV6UcQUjEEyQ2HcVD0pB4oUbreHafayuz5rWNLqvpT55PXt6WAUXQaQJASFQPQhIUaieuhKl7UHAB1NuNV00x+Ljh1vdhRta/TV7h7P7Mw2LsmZHrCSwkVkrCu1Bt2RhM031lpo7PdRLrN/vreHWoy3FCS7UCRszqUc5ISAElkWA9tE8wcGqQtPDfa3ugvWyq3Ljhpk1xdR2lkVM/wkBIdBBBKQodBA4Rat0BJoFTG5i/vR1a7zvLKs7azVrvPMES055svm8/uj+hEovT23Sl0nGLb14jjXccoTFLtk87FNIzZgUZktz58LXZtFVKiHQcQTCRAgbm9PBhJIVUyZBYgO2yh7U8PErzYcCdDwLxRQCQkAIgIAUBfFB7SLAINqwONjAN9z4d6s7fz3jJubU55OzZWZGLszK1S4EFV8yVnzqF1rjfWeEI1Lrr9zNku+Ns0zDkizpvjJU8QURgUKgixGgbTT3Yem5H1nT4wOtfuifw+bm+OMDLfXFu+rfurhKlJ0QqEUEpCjUYq329DIxgOKSTZZe8Lk13n+W1Q/b2eqv2t0Skx+x9KI52e/p7Ixc9h/97RYEqIPGpRZ/YlB2n8Lg3pZ49R7jlKrgpCh0S7Uo02pA4FuzSS4qTM180xrvOsliF/ey2KV/tLCxOV4vs8pqqErRKAQqGAEpChVcOSKtowhkFYVwd8Knr2eX5Adua42jTgl3KWQYPMMFa4RrVio6mpXidQ4BFIF4gyVevNkabjwkXIQXf+46S8+Zmk031JNOcOkcyIpduwg0n+yWbAobm+MTbgoXsNVdsL41PnCOpT58wYxDAeSEgBAQAh1EQIpCB4FTtEpGIDt4pr/+1BIT77LYZVtbbOifLf7s1ZZe8EVWSQj3J0hJ6P5azJ7ewkpPw+3HW91564QbZ8M+BYjDtAJlQU4ICIHCCERW3VKfvGZNj/a3ugs3DiuoTU8Otszir8LqqiZFCsOnt0JACLSOgBSF1vHR12pFIJ2y1EcvZs8Y77+FNdx8hCU/GP/tGeNSFCqnZtNJS1JXo061pSetGE4+Sr77RJY+6kn7SCqnrkRJRSOQiTdYcupzFhu6s9X13dDqr93HUh9NMI4hDs7NMiu6FCJOCAiBSkJAikIl1YZoKRECmbDcnpr+Utif0HDjwRZ/aqhl5n9mlmjMHhsYZqm1olAiwDuXTCZtqa8+tPjTVwXTI+5SSE57PptmWFHgQjw5ISAEWkcgu7k5Pfdjiz893BpuODicgJR451FLL5yVjap+r3UI9VUICIHlEJCisBwkelETCKSTwc49Meku40Ki1LTnskoCm2dxmlmrnGrOZMJRjslpL1jTY/0t+eZD2UvXQj1pw3nlVJQoqWwEshMfnBiW+vxti79wo8WfvtKS01/OW1HQBEll16OoEwKVhYAUhcqqD1FTSgSYPWMjH5cPsZKAi9jzljIrpdVZBJgNbb5kTfsSOgum4vdoBLKnIWXqvrH0krnZiyU1MdKjOUKFFwKdQUCKQmfQU9zKRiAoBc03mGrJvbLrCuqoL1cSJNhUfn2JwspFgPbDSUhMkIRVVK0iVG5liTIhUNkISFGo7PoRdZ1BwBWFnNCpwbIzcJY9LvWEooBgk6uzsueqDIRA7SEQ2k/z0alMkqg91V4dq0RCoIsQkKLQRUArm25EgEFSA2U3VoCyFgJCoMsRUL/X5ZArQyFQiwhIUajFWlWZhIAQEAJCQAjoQknxgBAQAp1EQIpCJwFUdCEgBISAEBACQkAICAEhUIsISFGoxVpVmYSAEBACQkAICAEhIASEQCcRkKLQSQAVXQgIASEgBISAEBACQkAI1CICUhRqsVZVJiEgBISAEBACQkAICAEh0EkEpCh0EkBFFwJCQAgIASEgBISAEBACtYiAFIVurNVMJmPuu5EMZS0EikbA+TX/GU0g/5v/Hw3T2d+eJk85ISAEhIAQ6HkIqP/vmjqvGUUhnU5bMpm0RCIRPP8X62C2VCqVi9dVzEc+7luilXK4bymM3guBciPQ1NRkn332mT333HP29NNP21NPPbWMHzt2rOH9/bhx4wzP/88++6y99957FovFrLGx0T7//HMbP368ffzxx7ZkyZKiSPc2SVtoaGiwt99+2958802bM2dOSLOoRDoRiPy9HfIstSNNMAaTDz/80ObPn2/xeDyXDX0b78Bx5syZtnDhwvCtrf4jl4B+VCUC8IWPa/CDe8Y53rvnf//mT76Vkldb4zX/xlOuchGgfuAJfHfVVSnzbSstviPblbIdVG7tlo+ymlAUYAY6yrq6OluwYIEtXry4XcIDTFRfX2+LFi0K8WCsSnCUi04fAYJnW42iEmgWDbWDAPyGp33MnTvXbrrpJltvvfVslVVWsV//+tfB/+pXv7Jf/OIX9tOf/jT4FVdc0Xi30kor5cKsu+669s9//tOmT59us2bNCumsuuqqNnjwYJsyZUqbgDkNPFE0vvzySzv66KPt4IMPttGjRwdloc1EOhkADGiHePqaUjnKhCNdMAaTCy+80J5//nn7+uuvc9nQt02YMMFOOukku/766+3VV18N3+irKqW/yhGrHyVBAN6AL5YuXRrGNcY294xVKNnwBU8UR//mT74xbpTCQQt8D685z3q6/M97V0zyv3s4PbsXAfow6og+lLrk/1p2Xl5kO8orvux4bVelokCFe6WjFDDLdt1119mZZ55p//jHP+ziiy8OA22hTs2hgolIg4Yzb948e+CBB6xPnz5hxvSrr74KwTyMxynlk7SZGaUzh5H5H+c08T+DwYgRI2zAgAF22223GXR5uUtJi9ISAq0hAM/Bq8x0P/TQQ3bvvffaqFGjgr/77rtDu+nVq1dQIg444IDw/q677jL8PffcE+Ig2NJWZ8+ebVdddZWtsMIKoZ1Onjw58DT87p783Dtdzve0aVYmXnrppdDGWeWg/eQ7wnt6/sxPMz9O/v8enidlv/baa4Mg//DDD4e0o99biut58/TwHpb//T34okQdc8wx9re//S0oQGDljr4A7Lfddls766yzwuoN38ADj/P0W8vT0yvm6em1FtbD8Czk/HshmtqK43ELpcs7/95SOi3Fq4b3lImx6ZVXXrHhw4fbcccdZ8cee2zw8MiRRx5phx56qB100EF22GGH2VFHHRV4h2/uUexZeXP+6Gi5UTamTp0aeP+JJ54IK4LUJw4BDN58/PHH7dZbb7XXXnvNvvnmm1A3ztsdzVfxOo8AfOR1xerrM888Y+ecc47Rb7N66QK0h+l8ji2nQB4oKcg8PJ0vO9J+iYsSjZJM3+n0R8tLfwq/IhPef//9QeGOhmuZUn3JR6AqFQUqG0bBv/POO3b11Vfb/vvvb3vssYcdcsghoSFgHkFH2xITkgbfCIMAjlBz6qmnBnMJH6A9jING+ELevxf7JF0aC8IT5hnMFNLZ8h566Jh50rApz/bbb28nnniiffTRRznBIp+OYvLOj+P/FxO3rTCeVmvP1tJoLR7f2nJtxS/me1t58L21dIqJX2thaIO0tT333NP+9Kc/2cCBA0MRGYDg4aiDv+HpoUOH2k9+8hO75JJLgiADpnyLesc5Gr/Y3x43mp7/5lsxztPgSdyXX37Z/v73v9tf/vIXu/TSS3O0erhomv7O43rePHnnzr/zZLD74osvbN999w3tnYGc/90xS0wftdZaawVBkJUUHBg7zp5efn7RPD29Yp7EayuuhykULvotSpPj4N/zafH3/sz/7v/7d3/6+1p4Uibq9YUXXrBBgwaF1TOUAvyBBx5oO+64Y1DMv/e979nGG28cxj6UdL65Z1x84403luEPsHG8Cj0LYYdijgnhZpttZhdddFEw+XOeQ+BjvLzggguM/O+44w775JNPQh70DeTRkTwL0eHvonT7u0LPtsJFv+f/LpQe76LhWgrTnnCF0igmDw9TKL6/I4zLSbybNm1amOxYf/317fTTT7dJkyaFfocw1Ge0XXoahZ6ed0vPQnHIAz566623gvDOkwla8ozySaG40XeeJ/LSBx98ECZ4X3/99TAJRRm8LITj++WXX24///nPw2QWK7RezmhZCVuM87zzn8XErfYwVacoUEkwA4IIndSNN95of/zjH22vvfYKnRSzi7z3jqyYCiJNhHMGa2ek/HjO0HyPeme4/PCF/ncGg3ZmQjEjoMOng4Wp0ZCj9KPAMFtEGMIyqxnN238XQwNhCpWhmLiFyhJ9R7laSh8aqS++t+Q8vpcn+iQu3rErlIbH97DR+Px22ni2FoZ0WnPRfKJ5kCZptxW/tbSr6Rvl9LKCA4oC7Q+F1hUF2hN8jvPwYISiMGzYsLCiQNj333+/1aJ73FYDleFjfr4o9Zg7/fWvfw0zqy1l6bi09N3fe/oe3hWF/fbbL7R3VmzyFQWUB8y4mF1mVQPnfOjpePrd/SyWHsehu+mt1PypXx8XGBvcs6KGiRqK4xVXXGEzZszIrU57GOLRN0UdeHs/6LzDs7U+DNMnVtx/+MMf2vHHHx9W87xtw7eMZbSNLbbYwq688sqw+kA+pOv9YnvzjNKc/9vTguaW+MzLGaUhmo5/J41icfA4LaXp6ROOdB1Tf1/sM1q+QnE8fcc2P0yUTi8b75AfsLzYaKON7IwzzrCJEycG4Z2+Gl4hrNNM+ELO8/Z0o89CcQmPRyajP8Nq4w9/+IOde+65YbUMPvK8C+UXfRfFhXEDvl955ZWDWSsrXvA9ZcGTJzIVk1KYxpIvpp18g2byLaa85O9l8Dr1Mvv/fK91V3WKAsyCp7KYlcemFw0Z8xzMGErtnEn86fnz9HfF5unhiYvAhFbPDCWrBjRiGM+ZkDCuKPz5z3+20047LQwG0fyjNHja+bT4+/xnMXHz02rt/0LpO6353wqlQxgPH31G4xKP/wu5aLiW4hcbpqX0PX9Ph3z8d/RZKH4tvfOyUiZ4tpCiQEfswoSHB6+oosAS+JNPPhl4n7bLzBAzoLQFZn88nj8df9JlWZmBh6Vn2kzUMWCwj4HBhPRIFxMMZjrpMzw86RZynh/5ICQxE3fLLbfY7rvvbttss01Y3SNNaCZNhCVwiDry4du7774baGDj9aeffhpWDj0c+TgPkQY0t6UorLPOOssoCtHBilk28vAyM2uHWSaYg0mxDrooN6YJDK4txWXQZYM1m9PJw8vi+fA/9YMQy8ovmOEZwJmF9vCON/GoG2YeqV88v1uqL/IGM9ICPxxp1ZJzHgErcMBT55gkoSisueaaQfGG1+BX5weejq/j4dg43p529H//7XF4uqLwgx/8oKCiQP23pSh4utDk3t9F8yrmt8fj2ZorFM7fEc9/83Ssou/8dzQPf8ezNVdsuEJpROO2lE80TGtpeLkIE1UU6HvpkxDgCRPll5by9Hz47nUYfTpNhPPf/oRv6QtYRd56662D2Sn9lOdNuLYcYQjPkz6FSeLf/OY3QQmgH6A/cnpIi36GSSkUBdoKpq9eTg/n9LWWfzQMv/PjRsvbVhmq9XtVKgoMHgjRDMKYC6222mphJoPOk9kNBg46t9Yq3yuMMDAP4RFOGBR9YHIG4Dt58p1OkTzwDGQwHwxajIPBaJjYcNJImZ1BCcBsis2LCD6UCyGDTp/fhx9+eJhhxM7OT3khb04+8fDQRnhn6Cgtzth8p6EyoFMGPPTzDvoLxY2m09Jvx49yIahAM3Q5RvymvHwHR8JHHf9DG5vxPA5lw/M/6UGj10k+nR4fDBAcqHuP72WELr6DK3VIub0eeYIJ38kjnz6n1fOFP1gy9TLyxCwEQcXDeJxafUbLSZ22pCjk1xn8D9Z03mx+xkQCBR8hnH0LQ4YMCUvFN9xwQ1ieRlClzqIdM2nS5rA5ZYadzdDwBw66qAsEeL6xp4AZJdLlSRwGGOqasKTLM995+ahrBiBm9zH9Yx8Ggvouu+wS0sS0AxtY+NvbEGnCX/RFmGFgX+75s8+I057ga2ggrLeJ9igK2Kr7igJpQCfthD7k9ttvD/mRJzgzg+h9S345C/1P2aEJoQLax4wZEwbcfJz4nzwxnaScmKbQjr1M0ITwiukMtuvUL5M6eDZjQz/9N22JGUXikSb1TR1RV/fdd1/4zTu+eRinm1l16ubBBx8M7ZH3+WE8bLU+vdzUCTyG5zdlP//8822NNdYI9c1BAeBP+8ATJh8L0sLTXqg7+j7v/3wc8zBRvFxRYEWBcYi8yQsH35IG+yKYKaaemd0lHaeDJ/xOXRPW+3b6amjxtIhTjCMt2jn9OnjgnG5Pg/fQTZ48ocHDgQv4UGb6I9ojNNGqmb6yAAAgAElEQVSXEx7ezU+PuF4OlGfvl0KikT/EozyMZ3jn3UiQVn9CF3G8fPwfdaRP2RjrKL/TGg1D+RhvKQthaF/Ec0Vhww03DLPw9AuUnXL7mAlfgBdp5Lto3j7+Ed89calPj0t4PDRCCzzKSsKWW24ZzMN9v4tjnp9f/v9eLvDHbAqzIhQFZEBkI/oN0vK+NbqigGIE78FzXl7oJi3Km49zNG/KQN17uyEeeME74EtcL2s0Xi39rkpFgVkzmIxBB7Ocn/3sZ0HY7tu3ryFkMMAwkwZjUYGFnFcsYWiYhGewY3CDcXAehoaJ0IJAdPPNN4cNxmizbNRkppJGi2stP77DbDAXwgICEqYanCKz+eabW79+/cKAysDswgwND0UBDRzbZWyU2dBIGRlsEbAYcNm7kE9zlH7ogskRqrBtHjlyZDh5hk2pzPQVS38oZN4f7zwRqJghgH7ogj48whEdEuWmw4rSBb7QRofKMigbtz0eT8pJ+aCROnLn9cL/5E986od8KBNxEZDYzIfAyCwmnRQ4UYfUG98IR32CKfHpYFpzdAh0EPAeAhk8QPkYOCl/T3FR/MGkPYoCHTVLxigK8H7v3r2D2dJOO+0UfrPPYauttgobehkImM2n/VHP5ItgQvtnJY6NvQihdPx8Y4CmLjjMgDRIm/R4Yl99xBFHBMGWwYTwnma03njv7RhBgjZzyimn2CabbBJOcuJUJyYmSJN9GbRjBg4GQ+IxQMNzJ5xwQpgEIBx08mQ1gn0O8LULdj7IdFRRgHYUE9oJCkQ0P8pO/3jZZZcFXKLlzP/t5YYecHzkkUdCeTEpo79wTDwe/2OOxYZasD755JND3RCfdkQ7oX2x6ZZ+zuthu+22CzTRnxEH3kHRchzoJx577LGgjMETbJLlXaH6os8kPVZ6UEgI4+k4nbX0pGzwLI49M+wLYEWBdsKY4XXEs5ADH+oWBY1xgD4Qj1kRyjXCqTvC4nGMLcWaHkUVBfKCFtoG/Surh/S38AV9J2nSt9N/k5fT7zS09CQtys94w8QPjrjuSYuyICiSJ0/K4OUBR2iizCiZPu7Ql3PEM+3ZcSaOxyMN2i38Sb9EW/fvHgYayJvxDGGWcODg4Voqk7+HLuIw0cC45UJ+NH3G6xdffDFsHKcvdFo9DfpL+lnKjgBNf0eZSZfJExQFrBgYI5GV6EP5Tb0wfiMLkYbT7HlTDvJmTyVjPLi5pz6JC2/5OA89xAVP2jn9Pv326quvbrvuumtQFkiH8ZRygJ3H8Ty9TDwpJ4I9fQL7dphgZa8b/UT//v3DXlXKTB1BPyvKtA1O4UOOgj7qm3qmrNBOXcIfUZyj5XY6qBfGAvpF4oEX/Esd0d95OH9G6a6F31WhKETBh5lgRiqa5U7s7X70ox+FwQpbfwYfmIaBA8aKxo1WmHcqMD+aJrNne++9d2g4DHI44iKskxZLZuwTYBUAzykTPGE6GI2wNEZn9mhe/hvmpZMjDg2VBotGTGfP7OrZZ58d6KDzREghbwZawuGZ1cS2EIGAvLFVZoaHAQNBgfAwPHTgoQkBmzzpDFCkwIc4xOeJNg7Tc1oFygRx8MU6BnHO1kdpY7YAj5AEbZ4Hp1ExwwmOhMd5PtAJ3QxclM9p87jQi30hwr13YI4zTzpEOgCwAxuEOk8DnOARTLzOO++8gBO/vR4JhydfsAFDhBZ4wmnkCR8xmHkHRXjKiOc3NFJ+Oik6Mse+PTiGDKvkj9cd5FLW9igK1L8rCgh4bAwGN/dgDD9SjzvvvHNQyFwIom25EIqQvsMOO4TZbBQF6ogBmllWhFDqBZ4nXQYiOnWEAAZLFxpIr1Adeflor6TJgA/NDG4IxbR90uQEEVdiyZ+ykQffad+uhBKWcrEngwELwZkBknbpeTEQoWwWY3oEX/tmZuKBP3snUEJYYie/qEd5AsO2HHhQDuqUMpMeGHPKEv2RtwvSoa9g0GR/GKc0ofx4XGaUKSvx6b8oK/Q6TdQFAz14cmwugzdxwYK+gDpDQdltt90Cnrzjm7crLwe8w4os9U0ZC4XxsLXwpPzghEOQbElRAId8x7gAvzHBAY/Qd3nfR39Ie0MAQsBFAI62jY4qCtCLEks7oV2Sj48L8AXmtPAGgh00Uzbybc0Rjn6afpy+nbGHOI6N8wiCNPyxzz77hFUn+nXC+YQZZYUm+gkfB6APfoQ3mTxCwI0KgUwiMlkH39K3eJrQ5JjTRhAoGRPwtAvwc/o8XH4Z/T2COH0I5YM26ow27t9Jyw9WoB+gHPRRUdzoD6GfPpJVT4Rw6KLvu+aaa8KqKJMWTJxQXspNWnj4Ar5iwi3aP5E/POQrrNDnPORPykvcO++8M8hE5Ek8BHbwou6ZcEFwZ3WWumHMRpZDpvMyEMfLG8WJ/piyUAZWsOiLv//974fN/PQ10E9aKEfwMPICcgdHdVNe+I38oBP5Au/lhadI2/P2J/nTn7FySbshLnl7fHBgvEJhoJ6c/wrRHy1Ltf2uSkWBJTQ0YWaUmK3jqEUGFpieGT4aJ7MNXmn5lUIl8g3GhPlJj46Ss+FZrkfwxxGODhkhEyWCQZ48mbHkHQIsjYKGEE0zPz//n4aDUoJgy+ALo6+99tqB0RHYyZvZSOhBwGeAROhgDwYmDzAp+SPUQgONkniU3Y9MpKOhbDQqnsyiYxpAOnQMCPKkgUe4RsBASSE9whIPXIpldMrOBjZmLmn4zF56+qTpgxLCBAocs/7RPKCRDpdVFr6jkBGPJ57GzXn5DArMbDLwMPsKfaSDoEZ+KFIMPnT+Hhd8aMjMPCCc0VnQwKk74pAPT7CjU6UTQZmh4yV999DHAOq0wCukTT7EZ8M55aMjZIBiOdLj8qw152WjXNRfexUF+Jw2C44IEdSjCwk8GZAZ4DjNBSWTMJ4XAzcDOAI1AzYdODxBO+bJyWcIr8xsko47vtOmogJva3XjZeRJe0BwhgfpB1AKeefew7InAB7BNAm+o60zsFMm2j59EjyHuQhtGYHY02CQYYAvRlFgoEIQwMGbCFu//OUvg2COyY47px3hCDracoSHVp5gTN9Gu4a36ZOiaYAtAzarK7Q52gfxqB8EHRQM2hRtGuGC915W6KGdMbAj6IMVbQ4+QNFmZZc2S38Cb/GOtOE1nu4Q6Khv+gf66UJhPGwtPCk/9YMrRlEAD/fUJ7wBrowD9HWcYEQfRv8H3zEOIFwzUZYvnKLcFbOZ2VcUoJG8uWyRvhKlH771sYuxk74TAZJxh7CUDR5pzREOWqhzeA9BGb50bEgDT5tgbEMwZdxgoocwWAAg2MHTtGdMUhwHHwvAByEdvOBzpwkFgPHtxz/+caCd/sZ50sPQzyDIs9KFZ7wlb2iCv6G/kPP3tAN4nn6GVVAmGJiA8O/0EUw0MsHIzDy0IuCSNo5wTPox7rLRl7LR/sifNkybZQM85j+Ml9GyU376ZMYzTtdCuafP9DJ6+0ThRwD3cZYn/RryFzISvIRCivxCvigcTCrQF9AvcIcOqwAoaMz4I8vBA46hlyMfJ/pQV1TgKeQe6oJVVHCmLKTlKwQoCqSPooCsRd8MndDBk/DIA0wwozCANf2Ul5f86F/pB+EV+JcyOg+THhNC8BkTSchCyCaUI1qW/HJU4/9VoShEgaUCYD40RpYdqbTf/e53uZlH3tNYqezWnFcmzA8jIzQzs8/SHA3KHR0RJhIwBIMz6eNhCJiKZT0GPhyN1Bu0x48++Ua+MCAN3gVUGhdMDd3QQ/kIR0OjMcPkDJrMnlBmp4H86SSYEWB2FkGV2RnKTjp4Zuv4hkf4Ij7xSIP0YXCEAYQXluHo1Byb1sri5UJAQFmh0+JJp80g4zTyRHCg86FzYKaRxgcGjgf5eZ1G4/EbRQAaN91009C5YxONMoQDL5ZBacSYhNCg6byjaVBeOgsGKk6MQUmLYkg90hGjSLEsCh8wg+D8A23MUNCpIIAygIAxygD5IHjScdJhcwwbeREfR/mKwTAErqI/0XKBU0cVBZR6Bl/Sg1epTzy8AK+78EIbxFEX8C6CDAMpdcoMH4MHdYFgDo9hysdSOMJR1EXpjr4v9NvDkie8imCLcAKPMDB6W+UbnnCPPvpo6EPgR/oK3tEWXFCHRhRl2jJCNAoH6YBhRxUF+B3BB/NLeJCZsXznZcl/X+h/D+v0gDMDMe2GvPiOAw8EfBQUhDJvk/RrTNRwKZ8rEOBA/Xq7pLy0H4Q2lCqEB9oYfQ99Eu0JjBAEaO+8I1/4wvOHBvgHZZGBHuGMb6QdDVOojNX6jrKBAa5YRQHsiUffjlBEP8/qOW3F+2nGEAQ7JlMQIOFjVmrd0ad3RFEgPkIZ4xcKCgqg8wD9Lu0CnqJN44qtN4R3xml4j/EfIdN5gyfCLfnSFyD4ghU48I2yM95RVhdmHQf6clbeELLhSfgKZR7ehTb6dfY60c+TPnzp/Eb6OMIiqMO7eMKRLnn7mBcC5v3xshOG8RHBl7qgr2ECgu94n2xgUhNLCspBO6LMOOig70GmYLxi4tFpQ66hr2DSkfGYcCgmXic83TyJ9JFPwNbLT/6kBY3ROP7b47JiQF/E2Ay20Tgo95ghIgcwC09c0nca82BZ5l/yB2/CO8+idFBfTCbAR3wjDA6FgUkp+IQ+mckeH7edZvoNxnZWOFAeqH8vL2FRdIkLlii1lNHjEpbxh7hMWMCT9IOUxflimQJU8T9VqShQCVQWggCCnc8s0BC8QTqztFQ3VCYepkBRYOYSYReNO6ooMFuOZs7SFoNllAFgXAZ6Gk4xjvB4aGRARTtloEMJoROCFm84/5+9uwySJbfSBvxjw7G2xzBmZsYxMzMzw5iZmZmZmZkZ14xrZtg1M4V57Y31P33xyH7vaPLLrKxqutXdUkTerK4UHB0deM+Rsq5xGCIKzxgIAkSsARbG1A8jRFidFZbBYBQpp760pyhAtgwOkKJ/RtqdcQHEZdjtWlAURi4KuYzyUj6AAQhn3NCNNuOHVtuKMhCMr0wW/qIx42gzNRZlBSIYNkcMZHRyNEz/MvgifUAphg9fjO9urjIFAi4BpSwJZfYsvOYIGTDA1Bh4oD36tJcNAZg4DgAU31wMkzugykjIXsmSAmv6117JfRkZ2Q11zCdzsnYbDRQ4UfKnL/3kIgvWlV4A1JxzxiQ3Y4ECfnN65JweACeyhcCA3SrgwlqlpL/8PbznuTt6HG1hAwQKsq6RWc98JgsCVSACeOEEFXSRJTqhroQAPaP39AY49ty82DMyCMjYKWEjUsyN0+fkyXuOHgFbABhgDdBrT+c9pzccKD1RzGWZgk70okmmjf2RbczOqeecpsCJbaFf5qAI/OgSB+5uvurjQ2yWv/UNrFpjPE3mlM0SKNC3HigcebXIGT4qiwIF/M1aq0/uJVvICH7TV9+5yC0ZBHpkSIE4dpz8Gk9hH2XXV91R0JY+Oh4sUDAuGUhBJ/uaOeX7uTuZJy/ZRWb32XLFM+8eyFYLFAStwC4dEPzYyQP6+PWcp0cT+dUHfugbL/zca4IqvAA8BfferwLgJZh8HxthfP14dwdwdKm3SqAQ3ZDUYyNk9ul3Cl8EhB922GH1CA8azZ8PCj8lq/hadgLQTUmgoK35sWnmbA7otg74p40gBUDOrkLm2MpW+s2dnLDbjgzascHjAGf895nts7MPnPOz4X1kLX2N3dGgHjqtqQSShAQ7zyeQpdgYdRMo+NUjQQ8eea6P1CMTAmMJC0lA/MUDRX10kl34QcBGV/DMZV3JUJvwjayFT+jYC2XXBgocjeiOwHNKhJKTWlbwLKSLgggUANjTnva0Neuu3xRAgzISJMCGchmHEFGMZQQ8fREalzEJNqNl692WLyccQ+VOGThNAFkd82TM0exZFJtyyOoTcluKhB6ooJhAGCViGIAYQAS92rjUcQElwADHb+sOjcZYZm6MIkVhtG0HZn4ZQz/oTsYK8KBweKeuMUITQ0LRPDcnl0DE0RPGkeEExBkAbdFuPXwHoAHoAgsy4FnuDBL+MSrmysCji1MIz73UBwhylIyd7/GaYeBsODtOzzNjkz9z0Af6gVFGnXMgi56Hf+rvpWI+mZM5bjRQ4DQ49fSXPt2tqyDZmss+5Rm5GgsUPLfmQCa9AqitpTURkAvwZLgAZ2urfvocW5vhc8CMfKBHsNoWdWUBnY+V5bPD54xvZNhde3eZWfrCEdvFYkfMibzQT4HqXKBA3hMokGM643iFIEG/bBWQwF4JLmQc2YRF823nQ+4ju4I0W+t2JPGP3QEwBUN4wYEmKNIHfZXhk3QBTtGmL5d+w1drYDeWXgIV+CVwSKCQHQUgyXfamWs7h76jMP0yc/hEJ8g8PgPOSYThJftlLaMPdIQMWWs7EPlevY0ECmggA3yLIBbIJkOCRzsJxg6drfzNfSZLMuvkMll7NCpsu8QZcCfJIDlmBxn441fMT6CQ7DKZjJ/AK/SQWbp8nvOcp/o0ATe5RzdbRMcByKlAQd/AsouNWzZQMLbL2tBv9sEvSfGd1sL3dgQE1pmHhAh7xI6qg6/snwDeWktAhscJFPgyuAAPtcn83fEDFtG/xBj95wP1EbvAXrF3+mt9dewbfbbbazcHEEe3NvRbUpKNcmcT8TVzm1v3jK8/a0G2HMFi382TL7aGWUc4ITtAsAlsoK3LuOaLLrwzX76iDW7gQN+zydadHKUNe+0z3sBc2vrRGXMia2h1hfdzc1v357syULAAhAHAl5UTKIj8oxRxSouYn4UkMIsCBYogmyaIOOUpT1nBByDgnCCFIjAKgcg1NW6EBn0AgqM6FApAp3QEOILucwIFwMGYDFiEL3Mk6IAwAA4IMyoykZQGaJJZYUwc5WCYW1pDZ4B4HAk6KQEa5gqjaDfGjgTl1xZt2rvQS+EYXu+ToCdbpanrzplxInjN0MgKcy7Ans92jWTsASCBmjHwCnCX+XD0SGaFMUi/kRMGTCBlC1ImFO/VibHgZGRwOBdOrc20cAaMhK1YuwaCHkX7XP42J8AMSAOUBD3mn7r1wx75p523ddhooCDbhm/hkX5TbAkLkjlFgDByT97HAoX0Qe4BV2tml032ypFCO16APqNOr+ZKO0d1xwKF1HEnU5yMM7N2rmxHk1+yS+7R4W8OnCzZnkcPnaaXqwYKOWKEL3jCccuEkj1Az/sdjplIHjgCRKaXLfoMvx39ATzQLMjhGDl8tLMXfmTA31k76yagZos48ryomj5DA93leAEpNkHf7BY7IDigi3YVFgUKAJJgRaKlHz068q8eZT3Ild00OwlsqWyxAE1p5dffjtnwSRJjwDbAo85GAgXtrLlEEnmgF3yoTDd5EsDy13zMkI7IyNRdv/RGsMp/SigkEPa9UwZAOl9BNtl5sib4IS/0kU/CG30p7vGpwLYju+SbT+M7yStwyhYlUACCtclc9WOsjQQK2rb9AK92LvGMnLMv7AT9ZkcEDBIOAmqAnq+nm/QcuPV+A5vlu8wxgYKknsQov8h2mEM7DwCb7aR/ADZf1tJGRwVgntFT9OCpy7FPeAweEOjQaX3jC35pA4+wSWRDv8EJdSEW/GMeLm2sH8wnUDAXdsYYxtKfOgkU8h+ukfuMlX4EKQJBQackH3uknr5gP3iArZNohS2yTvpXyAX9gs8kZJ06SWIjPK0Vd/k/eyZQAPQIjxKBWrQ2qUMgpgIFwkBJAA8gkEGSpQBe3CmCgIHBU9TPNTZ2hIsAUXxZnjZQ8D3Bc40FCpQB3UroJ+gCBc7WESn0MI6MCjDBQVAmES+FYrTbiyGk7F6qZkByzINCbSZQ0DYKy0DZJmRIhoEC+oFFz2UnBX6MCYUFJF2MCmMkYsdzgYL54xPDyCEIFGRhZG9a/qiTQAE4wx+OwFpYezTilexLAoXsKFgPSm/tj3GMY9S1EpDhn+35XP4mGzIl+IjPHJP+lax7/WMP/NPKOB6tS6CAteQCaBDEc/Ay1QA85wmkAJXAUjKQ7VzapRl+z+nSpakdBXJChgAigT05IcPtRZYFwuSF8xfYkhMyCrTQW3Qus6OQQCF6Ro45YrrknSDvDQAS9EZ/CV4jk+1ch5/NHR/d0eQFVb8uwjYAQYIHATGQwnYClORAyRlqgb0jUHQ//aVPf9N7PHNuXlY4gYK1AyDoNJuVdyO0NVdtFffsKOAZO+A7dKROrbiH/jG32GTyyE5O/TxqeECunOeWfMkRWsHAmA2zngJZAaZf7GJL9bPRQAG9Alhrw4YL/PlNsgOUWXuJLTJknFyLlix1gDlBP5stMAasjUU+AVx6Tl6BO7KjPv9gd17QzpeSQf0p7pFPOkmHZJLpawIFwNMRWj/JuWhHgfyuuqPQ0uAzfACcSnBYLzvWgiDZc3ZM0IN3/ga8fQZYJeTwmE5Japlj9GYYKOCV5+Yd/cUHeAY41g98AAMp5ACfJcwEexKE1hUvcsE0/LRgkw6bh/7ZHUk3wV0CBbjFeOhTZ66ok3obDRTCi/Rj/gIFc7Vm1pusSDjhD3kxF/IKm9Cb6I47G5tfc5KUkTgRHJkXnmacubmt+/MeKCwIFCyyBefIZRMYGtunokfBggw3J+VXhbK9qP6UcHimEKBVAwWKGYOqD2O4CDqFY3SHgQJ6OVvn9223MqiMH4eQC/3mAsRzJgQdnRQqxmOREFOmdkchtGkfpWTgHN8ZBgrqAhmyI8lQykLKbOk3lx0PuwYcDGdjLbIuc4ECAyVQsGayogwqQKW9Z22gYP4yCG2gIHsis3PUox61Hj8S2OEdZ+TyGU/xVlt3mQ6ZHH0rWff6xx74x3wyJzKyToFCy178p5eO9AANHAEAC0STASU63rbzuZ2jv9tAAUBtiz4AEuBKwCpodBSI3EWGc6erHBOdIFtsi/YyexwMfZwLFDimNlCgZyn6Mm9gB8BxxMBRAxkzYyZASv2pe+ZPR4xlN5UOCRq8e8BmOFpgLFdoAEYEZo4eCYxk5fSFLlf6RQdnT4cAHzKEH4J2IE7fMqVsK6CrbewJmvWjf2vKNgR0kEfP9mIxt/B5I4GCXxoD4vAsNix+gA1jX2XRrQkQbi3wcqOBAlqtm/aSO7L0ZEcQTcZlnwGw7FS18jG1fllbARB/aKcYzY7MOmprVw2w873P/KNCH8yJ/cYDcppnnuvX+Ao5BMSBbcBR9pyeAuJAMn8KGPPhkbe0pS9toKAe24AX9CT014EG/3iW53gmoSHQd+xWIhRNZB3PJC+N43vBhADGjrzndB2ABfCN69JvAgX2gM/WHg/Qbh4pAgWnHIyTQEEd9klCz24D3uCFnQyy6GLvJD8kVKzvOgUK5kEGwousl3Vlj81VEqgNFMyHTtgpEECb8xA/0R8+nwzCWu0OKJ5mnPB2t957oDATKFhoSmbRCRUFlpGmELLbttncCRvDqn6Mx1AoYgQ834lAgWGkrAyDDCaH79dKGL5c/ga2OVoZE8qkoDX0DufR/g0AbSZQEL1TPgZcEMb4M7YxcO4MHlCgnkwRp4M269EePRrbUdAXhec45nYUxgIFWU/HWABAfQAueAaEuXx2ocM4nBX5iEFqebVXPreyQZbXNVDAb7Ry0ByZIwmCaUAWaFbo65gxb+eonqMtnCdn0gYK6kVWAR6A2q4ZkJLvx+74Ftui/2UDBaCgDRSm6Pd9MqyAOEdGx2XsFXQvKp6HPrwDHgUHHCcgwuYJjNr564+uyoQ6MiGw4DjVyZUx6ZWsLUDBSQsGgD/6ikZZVOPRPcBF+6FdtaPHSUsuAEHqhOaMs5fu5k+WFGuyyo6CRAw/gJ98F/sPiLrHhsUP2I2zjsZT+DyyvcrLzNaC3mU99MVeSwzxfYC9HWTHeASFQGvqZ9w6+OAf/Srq8Ld0kfzIVJuXJAAd4S8EouGXxA0gTXYFCuy09inozLgCArINHALcbDva+UZ026E3Hl+l/8idvtpAIcBzI4ECWiTE8IjdkQg0ph0UiQg0WiM6ZFdJJt9ugiM/6kv4mZ9+QuMqgQJ5wVdZc+MIKAT9ghZ+0g4lPzf01XYx7DIA1YKW9ujRwdxRmAsUsqMgsINJrDdMx26yeRIubDpdabGTv8mVwA1/2S48UchF5DVytlvveyJQkCXcjqNHjIerLf4mREC1l7+88CSStB2fbc4oZtvO5wgN5WUsOcP26JG+GUv964MzZRQI69yOQo4eyZhTTortGIBjMF7s5EwJM2M3vBgChpRhiZAPaZ/6uw0UGAjFPNAfPmRHwXlt2STHI2KkZW8oIqMKhJtzW/AMbRSd8ZHN4MgUfMqOgizPVKCAxrkdBdmRYaBgHsZmgDkfPOaM8I8xcYWXQBkjwRHifda6ncte+WxumR9ZJvucijPQAdHk2PorqY+fnIXsfrbvbWW3deofpdR1lZmiH4JcbfWToxRkgV4ApXTJWAANYy7zRgdsH6MPCOc46ZKjYcCENop+XWPFeBmXk6RLZBVANZZ1JoPuxuFY6LSMraBS4GjnIs/pFrrskJFJ71oomZdnMlR2ppzh9ncK2XJu3PY2B0wOFfLnlzdk9tBoPLQYi+NioxyJwy+Am3wuW9ClAESOVclu+k1yuwX0Me8F4JExXeZKJ5ORdDTCXOlHeG3ejoSZK+BmfdkDvIz9Q7fdQ3KVX4CyxtYUPXRdWzswQCb+KKG5/rHH/sHf6FQCBfJAnwC0yGrupo+nbCow7siNjKn1iQ2L/XKPHyDb5Ce8bAMFNlB766TQLcfTJKS8eJv/R0FbtKKlLf5GExDPZwPd5Nkusu8jR22bsc/6RwPgbmxBpQCanedncqZcf+rGbgC6zu9rh+4UdVwKeRJo8O12QOxwmYs+BL6OZhkHQESzkrbk2PeAJ5BvZ9F3WbvUq41G/vE860f/7U4L0mW18ZceOwprvawRWuk32+uYjF0jR2QEQp7ry9jKZgIFc5dokKhjlyVb+Eb9h160k0OyJoAnK4IJz9HC9gtu0eve7nkhD3QAACAASURBVAKqM1cylno5eiTxI1FpXGO0fIbRHH/0buIygQKa846CsYxhvr7Pz6a3+pLPbBvsxzaRyWXmMjfXdXu+6wMFjkj2Ki8zY3ArUFMMTx3CxRBQLkZLPwQk/TCyMtiAhWMM6rs4K46b0HNoDEgUh1EZMwj5ztj6BayBCplyY3CyFJLAGUMdwFhGkGFCZ9uHfrShcDIOspkChQAnoEGAYIuXoAMTwK0x9M/IcQIEXhsC79kqBQjAO0CaMipR1vCBgXL0iKNCp0DBuIqxKSNAwOEJAuKoKB0FZPSypQqk4b2C/mUDBcCNwZh7RwEYytEjvOYInZPObgbnxoADXMbHRzzjZB1xyfGJSuAe/ScyaHrWOjsK5JRjVayd9VfUz0WmGW8OjTMmC22d+se/Mvj0CgAQfJD1rIfsM+cpiKCDZNd41gDoJI/0wI4a2mTdyCYHR5+c9yVXocl9rPg+4xqT7GifXx3SN5CuL+Nbe1la2XaZPz9TCPALXtQVUAEw9F5fAgvFOHSeXC1z9AgwApQVbfQLPOCrfo0FeMmKctoAOceMPvZi2RK+sGuCEPw++tGPXoM8gTX7ok74FH0HwMwTUHJ8iEz41RwBkguNMnQAHeAqK6cP7SMzbJr5cNLWLvMSBPqFMkGbBA3HnmOfy85rt9aLXUW/QIEcAa3kbCpQwE/2FLBjw+iAnWV6yLaxYS7y5zvyxA+0cqL93K8ekXl+xjjtDpD+/E1H2Uz20kWfyKfAnU/YSKBAZsgJGcg7dmyQhICsL93FM3d8MEd1BeJwA5/N/8SOew7YoktAISkgSKXf4b3km6SWMSSQBL0JcvkBcyWr2sq6ZzcitMzJnjkZy13wS7fZhGMf+9j18lmQbUzFeNbU//XEpvrpVseQgkXacflheivooD98t3Vu66RPukX3+Ft2VT22mu3zLDsq1pQcufBJ8oBtFsSz7/CGubCPeM0+4z8bTe/Jgrbu6FhU9JM6MIBkQnZTginQ6VJXoABTeJl5LlAwV+uaHQV0kAX0smF4DGtEbyLH1lwAxOapb57Gdu2lsqsDBcBZpt3Z8xgoi0OYIlBTi5U6jISMN4fqaApgTflSgA3K4ddyOHZK46LAjI3tSVlEgIGhISBR9PQxdqdUsg1AsmwABaNUBDGAnQBSSg5VdI7OzCv0UwoKD0j7iVBGilFW1AFc0C+LwpgLFhhpYxgL3Yw0YGVOtjSVZYWdwzJ/Csv5KzGqjLN+ksnwngSQA3QkUODkbYcLmLzkhM/Z+mYoAxgEGbKUQDuDo1g7hti8GElZVnwNDeavDhplmxhR2WQKjS7KTrEZ3WRubEvLCOGrEvo5BfQxKPpgmKwPWjgLfGaE0SfQ1G4/FGtt7owpQwvcKfga0IcXucicYEsmyLqTPyXP6x+l1Gw8WeFwACFrqQ6nIiCjN7J2nKb1RAdZ4iTRwRnaafTrO8AUAMG5cfStE9XnopLn5MF6y6zL6gnK6ZStefRwGGgkU8bIDpUfCFDXfOmINmRdPwJgxRjam4ctf88Bs+ixOmg2V+9FSRqQM4WO0AFzE+RKmhjLmI6aAId0ik0LD2vDFf5Bn7UEjtgYfGUX8dwVHuXuO7YQEPB+D95LJKDLBVDSWUEUh986V31kPOCXrllr66mto54yq+wdHrFl5rUfCr5Gp4AWIM56C8TwMeubdQhP/M2/kFX6AJgLNNktwSO55kvZTyBZoBkbqQ+2WgbeC+18CftozRT6qB9BvV/aAswAtBS7xDK+sZl8J9/DDzkuYz3RxSfo0xzMc1GJjKiDdkEpPhxyyCE1YGAv0KCePvUX3ggOJI3oIp/vb32gi5+SeKAzfBWga8dT+/SDLwAq4CgZgC/Gwke+U0KMzybj5ox3Gdt9rqDZeO5sApr4fr7r3//93+uOPJ/IrylsBOxDJ455zGPWo0f0Snul5Se/xPYKqvDejie71tbRxnzsrgt2HL2yXvoT9LHvEgb8MXvErvCBkgboQotffaPf8AQ7EDrMB0/wjb/Au+AQftucQndtNPjHs/CQHxHwoiNHMdGHFjYRD+EI/sBpAzLmWTBJ+jEme22udmTYUWtpLLQ7/oVX7A+7S0fIO6yGdmvODsEHZMc8ws9FcxlMbe3/3LWBAodskQiARfSSzdy543Y1LKYr/Yg4ne9r+1Gf0XRcRnaMc2JkKa7PlEEEKmNJOPWlz2UEhIASQgBVlkB/DL8Xe4EnoIfAMsyy7RSW40zfoZ+iC2AELY4YUV5Kq6jrs+yK8//qoN0cXBQMGGMwZSSduWc00zZj1S8m/nGcCe+8QCZbo1BSChml5MQYCNlhNJgfcK5/fOAkZAkZcEGH4A+dFNPfsh+yM/llFAYnbQVJ6HccQrYxRyvQkPVFoz4ARkbUHLW3XmhkEHLUAUhjQNGVok8GEY3kjTzgnQsf0e07dDManO5+KfhIxsgOXSHTSuSz5YO6gAVHRE4BZXozVhhi4Eb2P++kqGddyQ6Zlp1mAyIP1lNdzt86WGsgQlZQVp+cAdwBOehZtpgPmeBszRMA4jRs/QMD5CjFGBw82tGhbujQBn14kLmjI3IIXOsfAI6T1a+xzdV/CEQ+c2zC95wmG0D+zdl4LvqCBnYjgXloXOaOrpZH9MwOKpvBuXqGL20d/eZ7a0jX8R4owAN0AamCGw63neOQJs/QTrbwUXvOGEDQPgHasN1e/ZvsuxRyx2YD53xIAia8H66H+tZCcCE4B9zZ19iw2Fp3/gy/yVT6oW94Lvhkv8lfdIj/AdDYapli/ovsp1hrQMtOXPwnm8l3Gt9OFxkF1OnAmDylr9zbOZIROiM5wL5LugGoAXvxA5kLW8Vu8CfsNf+KHnNnw1123wX67AUd1RZdLuOx7xJyfEp4qA996RPY5CvYwnZOoSHzmLqHB3hsfMGXHwKBcyQy8Tv2hq2RqJFEE4yj3zqn6Csyg250CYLsRtFh9qOto531s1bAPJ8eO0UO2Gyg2HqbK9+Hdy6+Gk6BYyQy+NnQae4+C7zIiECLTJBFvpfdRqd6i/iUZ2w+nywQQINA1VoI1IxBLj13FI5cCPrIWMYwZ8X8Jf0ERgIY+iGgUE8fcBh9EHxKhOIv3hgrMmPt7YyyUeqHn6E1a7Gb77syULAAhI4x4DgYIsYhANlCzS1S6qQfDpagt/1YWMpOkAm0jBphIlSEBPgGVEWWSvpcJBChy52QArGUn+HUp4jdmJRSdEopHb2Q8W+Nd8ZiTDhTWUOOHLiKYqvjMo4+OVpbfpQ086BgFMDuRo79oD90LpqLZ4IAvNMHRVEybpSSwWDMODZ0cvCU0BjqAnj64VQoNCVEn8yMNaHsgEGCmPRv7oJDtFNWho8BCQ36t74x7AyKfhhXxbMYBOBMtsVWI0MZR1gr/gugyt7YfeFkrBc5cOEh3lsnTss69dI5sNs5QH9cdBXQpGOOFQD9wIrieS87w4HYPaOxewJBYDVHSrNeU2sC5LKz/ABAB1yyX3Zs2DPfAVp8BcCTYv0FJupI+LCP7KbCdvN/bDC7KAiOH/ZcAMt/8tHsJLvuArhkn9lsAA7N5jdFe2hxb+eJDvSSTUECH80f8gPh17BPiR9gUlIQ2AWI0eS4EQAtKBKU8w8ZL/f0hf/8HZ4ZEx/5Kz5OYMxX4duwXf1i5p+M4c4P8Z12jdAGtFrH1OHb6aK5oEUigX9NUQ8fFDQJkgB5yRN80n9bRz3rB8zDIuYIiyjq4Yn1l/AQ5CWgiK8WtMJEwHZbQi+5EmzoG97Rnt8d7iynftvH8DO6rCOMBDOQYzKVQAFfJE+MYx7t7k76N38JC/QIyGAQ8kGuwhvjWG88g3OsNXmJ7xdYkn/zbuVuSO9u/nvXBQotsykARbGQDFYUoq2zzOdF/VAMCk85CRohchlTdpQwbXTcKJ5+9J0+jemZy9iEz31qnIBd7SPc7bwzDl4N52Fc3+lfP+quUrRJv+5jBd3oyjzGxkk/6pgHHrc8meKzdmjXJnwb0tDWmeIP+bEOxld/rJiHeuq0shA6fT9F51h/e+27yOwy81pWzqb6nPo+Y+f58J7nm723/S7qq63Xfp5qkzqLni96lva5T9Vd5XsAg8P1C0V2P1sQtEw/oWV4X6atOsN2/t7vJfaS7V7W9+Fb2y42zN0VPzC0o9r5Tp34iZb/7KLv2b8hLdrFPme81n96PuXX2jHaz+jRJm3tzgk8ADfBCjBqnp6PlcxnSFd4YA5TPiD9TfGx5YFxtqLEd1qfof8KL8xlThbiv9Tjq6fmqB5f6FJvOI/h3PHNFfyyyAeG9/pWP22m1moR/9JXu4761Vf4Yi2NMTaP9G0+i+arr3bOwYDBKNGb4dqk/71w39WBggWIQLhvpkz14/s8o0DDayvGHfbfziPP5sZZpl7qDOfgb8/mxmjpyue0Sx/5fnjP2Kk/9jx1pugbtsnfaec+VebqeJ46U334PnXGaJzjwaJ++7POgXXgAPlWOFcZR5lku4DJmtpF5ZinQMY6zGG/0BBblDVbZt7qpt2YDcvzYV9p4z5Wpp6nv7GxNmMv06/dW1ngvCBrdyXyuUhG036MLs/mymbbz/XfPjdW6Byjbfh8rE76S91FddTN2ozV8136CV3tfaxNxncftk1/bZ1lP6dtxh+OnbGG3w/7n2qfesNxUr+9z42RvnbjfVcHChECBmEzi7SonzwjEMZpL99tZlwCk/7Trz7bEkFcNE7bx1Q937f12vEyj6m2LT3Dz+kzfQyf5++5eu1zfYU+90V9p516Po+VVerMjdX2FRq1yTVFwxhd/bvOgXXiANmNHjnW6TieowTOIzsD7mido3tdxtdj1WKL3Jddk7Rhr2K/3GO/3Mf68l3qTT0fazs33lhfc9yVHXZ81NGSHAX1Mq8jLI7dZKcBPVNlEV2ezdE1135q3I183441RleeL1qfjJu67mN9pV7kYaxO+lCnlaFlxtd/2qftmNyEjrl7+gotw748N477oqLdsG1bX/uMFbpzn2vb9rNbP+/qQGG3Mr3T3TnQOdA5sG4c4Aizbe/crp0EP+LgpUMBgyMetvLnnO66zavTs3c4QPbsInih2ou53pvwKzx+LcxL0cDbfgBue2dF+0x2Awd6oLAbVqnT2DnQOdA5sM0cSMbM3ZljLy16Od8vTPm1J2dye5CwzYvQu5/lQH5Uwi8w2e3yArEfIclPupLRLqezbOwVOgeW5kAPFJZmVa/YOdA50DmwfzgAbLXZ2UVb8/uHK32mB5sDflHHr/s5CufXZvwcqJdRI589SDjYK9TH32sc6IHCXlvRPp/Ogc6BzoFNcgDYcgzJUSNXfsmkg7BNMrY33zQHBATk0S8MeXG5y+amWdo76BxYyIEeKCxkT3/YOdA50Dmw/zjQ7ibk3HcPEvafHKzjjCObAtm8uNxlcx1XqtO0VzjQA4W9spJ9Hp0Du4wDnHt38POLFj6tG69C1/wMeo3Oga3jALnLroJAQSC7brqxdbPtPXUOHHwO9EDh4K9Bp6BzYN9xgGPvTn5+2Vs+AUfrUtAFoOXYx7rQ1enoHOgc6BzoHNhaDvRAYWv52XvrHNj3HAAi22uKIXn5cOr5dn8fGrd7nM30j8bwyeedKnO8yfPQtlN09XHWgwORy/22/pm3ey+dA/uFAz1Q2C8r3efZObBDHAiIzH04rJ0EP7/pd/n97KbPvtvJEtrW2eGjzX8s9Y1vfKPyye/HK6F9O/k1N8af//zn8uMf/7h8+ctfLr///e/r7sJ20tP7Xi8OkA9BQi5/74eSee+X+e6HNe1znOdADxTmedRrdA50DmwBB+Jc/R7/N7/5zXKXu9yl3Pe+962ffdfLkTngaM9nP/vZcvjhh5f73Oc+5c1vfnOtEHB25No7+9fnPve58pSnPKX+j81+w97PUyrWOOu8sxT10ToHOgc6BzoHtoMD+yJQ4LjiXLsT+6cYxaHjSz5vh4CtW5+RhS4HW7cyLU8Bfv9R18te9rLymte85sCOATnLS4d//OMfy+c///lylatcpdzgBjcoQKfMeeSwvc9R2dYdfm7b5pnv/NznV77ylfL4xz++vOMd76j0ts/bdst81nauLFNn2Aee/fSnP60Bwvvf//4aUKkzRmu+a+/D/hb93drHb33rW+Wtb31refKTn1z59Pe///3/G/NDH/pQude97lXOcIYzlDe96U0lddp+VplzS3c+L6K3Pzs4HLD7Rz78/wWPetSjyiMe8Yj6P3jTefq910ori7/97W/Lxz72sfLQhz60/gdvbB1576VzYK9zYM8GCowW5/XDH/6wfPGLX6z/w6j/9p3j9QLesk5Mvdb5jQmE/wBGhpQBZUzWueALGr/97W+XT37yk5UvaHd8AF92a7FO5matxtbW97Ke5u0oBznwG9zqjtXfrXw4GHSH9+5k66Mf/Wi54Q1vWG51q1uVD3/4w4V+4L/jRer84Q9/qP9h0sUvfvFy1atetWbNBQ+eDa+5+Qzrt3+3bfO978iB7Pw5z3nOcv/737985CMfOTBu22bZz/qeK8vUGfahzT/+8Y+CN476+N34qZL5tfepumPf0x2X9u9973trEHCBC1ygvOUtb6ljp9+0Fbjc8Y53LCc84QnL6173uslAQbtlSvof3pdp2+tsPwesC/39+te/Xl70ohdV/b7mNa9Zd7se97jHla9+9asH9DtruBVUpS/3zZT0M9UHHfv+979fvvCFL5Rf//rXB3Qhvl+7n//85+Vtb3tbufGNb1ze8IY3VL30XJmib27cKXrS52baL+p7+KwdRwAkecNX/u53v5sNANu2w37n/k5b91VL2q7artdfnQN7NlAABr73ve/V/979Sle6UjnjGc9YLnGJS5TnPve5VcEDWqLoU6xTD6B0+awMhfo973lPNZi3ve1tqyFp+xrWbZ/t5Oco1d/+9reaRb3DHe5QznKWs5Qzn/nMBd2ODwSszfFkJ+leZixzA3KsuXUK4PF95gJw/eQnPyl3v/vdy61vfevyvOc9rxp+z1cJHJehZ7/VCf/dORaBwtWvfvUKJmSeBQqeuRRyJmi/3OUuV65znevUQB4Q3s7Sjm+93/jGN5ZTnepUVR7QuK4F3WTUFf5tB60JFPT9rne9q9zpTneqtkFAJYs8LB/84AfL3e52t3LKU56yBhP0rpe9x4HoDd9HDp7xjGcUAcK1rnWtqkO/+MUvqs6zvamb+xQ38tx9qqROZD/3fL+obdtn6i9q75mdgoc85CHlUpe6VA18BeV0Iu30yW4A0eb8l7/8ZRRAZ7zc0z5/t7QNP6dO7mmbu++3qmSM3Nsx7LZe5CIXKbe73e3Ku9/97gNJgOH4Y23z3RydqZdxcx+OMdbPsG3+Hqvbv9saDqx1oBABiBDlnu+HLMj36hH2pz71qeX6179+ufOd71ye//zn1y1yGRFOTR1Fm2Fp+5FhePrTn16e/exn18yndoxm2mtrmx4wMtZrX/va2qfnrhib9Dkca/i3emmb+7Jth335u+0PYPvUpz5VbnnLW5ab3vSm5ZGPfGR54QtfWLO+bYbduItK+nQfK6E39TKP3KfaDftKP2nnnu/aOwdm6/uxj31sDQS9ICsgSjv9WgdG/hOf+EQBDO0qaKef9Kte22/a5+7ZojLXNs8X9bEbn+EPJ4qfeO8oyhWucIUKKGTe7LTZsfKc7ggUZKwECvSGk/ZiLPn0wq6rrT/GE+tpx9AORtrkrq31T2CvPd47chRHzx6c4hSnKLe5zW1qdlBbOx36XLYIPs1JkJNgcygjaAA6zFn94fO5sbQ3Brq0Hxa8Z8/MObxwB2R8v+x4eGMc/bzyla+siQ/Hil7wghdU3cKfrB8aEijg4ate9aq6Bu36oUF9/c6VALDMIfSPzXeur/58azlAflzWkX7c+973Lpe97GXLM5/5zLqL7nvrRw5XKel3UZvUae9tfd+PleH3bfvhM+19Z+fT3A477LDy6le/utqOtl3qsTvm6z7sa+zvYR9j9I5917bL57F6G/lujk7HQs90pjPVY6ESBWypNtZ4rm3oWURz+kid9q59nqevsXvbZpn6Y33075bnwNoHCoRz7IqgtFP1XeoCK0CI7IfzlISdcitzgjXsx1lqGRQGRB+ct3FSbM87QnHd6163BgqhQV1X/h6jOX3k3o6ddu7LtE0f7b3tz6/M2FG54AUvWIMnf7fAKGO4Lyrpc6pe+mnpbz/n+aIxPMs4Y23ThzsQ9pnPfKZmQa53veuVT3/60/W78G1unPZ5+m3HzOc8a+u3n/M89Yf3PG/b7IXPZBwYFhDQuwc+8IHlfOc7X7noRS9aPwtGP/CBD9StbOAxgQLAYZcPaKdD3hd4/etfX4G7z44E/eAHP6jgHp9a/slgCg4dBbA7oF3b9uMf/3htCzCnHaDzpS99qY7lReoTn/jExW4jegU0wO93v/vdhUuSvtx/+ctf1oCHM9XO3Nrn+IJGgdA73/nO8rOf/exIwcvCgf41X8cg7PaRabxI0TcgLbvpaOXb3/72ynvzsAZ2deyoqoemsRJaPUO7oxfve9/7ygMe8IAaxAkC7nrXu5YXv/jFlbeOKOKnItjGw+Mf//jl4Q9/eLGras2MjQbraf0cXxgGbS0tgiw80l/moA9r4ReVBCjJVrft+ued4QAZSSAqCXCTm9yk2llrTb7Ig/UNeM6urr/Hiv74T3262Mi2eB7Z5psE9mTElbEEJ63stu199kzRD3raPsh5xlUPnfqln+T5bGc7W02esVHGZNfQq6DV2OgKDfXBv/4JTcYd0p5xQ1vubXv9o8eY6mfe7mmv782W0Gle1s78MxZesZ2nO93pCl9KF9XRBn2h22d8bOnUj3kHH6VuS2/GTvusTdbW/Ntx2rY+p107rj6yTmNjDvvof6/OgbUMFCJMc4u+SKCe85zn1DPIsuYi5Lm+plgHiDgecaMb3ag6wLF6nGKOWnCSi0rmNqwz9X1bb5k6bf3hZ2DDr8xc4xrXqAEDhd4oX4Z9r/r33Fzm6PI86884ATGXvvSly81vfvPyta99rRqwVWiaoyd9Zdz8vZH7smNtpO+dbGMeCuPOsQoIOJdTn/rU5dBDDy3HO97xyulPf/py1rOetWanXvGKV9TjXm2goK7dhyte8YrFOwvnOMc5albvQhe6UAXxz3rWs+ruoLE4yay57LXdu4td7GLl3Oc+d22nrevCF75wDey1BaLjuIBW56mN58jMIYccUk5wghOU05zmNNVWeLH65S9/+UIWoiF0cKiOsgHLXowWKCmhFUh5whOeUMcTOAHTZNXzzGPRYMYBoC95yUvWc9EveclLDvSvbyBa8uL2t799Oe95z1v5Zv7evWCvJEg4c/2MFTS4FAGJndFrX/vaFSxZu6Mf/eiVT9ZPv47reedLEYh4R+Hf/u3fKnBkU6zfec5znkrH+c9//nLlK1+5BhESEpy5EpnJZ0fQnvjEJ1YeSWCc61znquspiLQTLAiz2xl+ad/2UTvt/2wbB/D6V7/6VfWh1sK6OLLqRXdH1Oy40ys6TbYd7xS85scJhoTRRaBU0OwaAm6yCvSRbQGkYNEvf7kylp0n/cwVOoIe/iB98BPoM64+0K1fR6qcCACQH/zgB1ewTDZ/9KMfVdklfwJzYwuY2B/th7Lob3wQdId2/djB9o7DIrr1jx465uQD3IJuu6/+lpjAmxRjDcfPs7F7Wx8dwLkEBxsZ/njXBIZhl/EDtmkDhfSLVvSweejTXj94A8Rnni19+eyO//jh5Af+WAN2wvw9myrGJTf40dKchNLYuFN99e+X58BaBgohn4BSasJIoFwUzncUhlFphZ8zcoSBEPlFjhwtAFAorbYcImFqhTbj5TsGxvY3A8ggctSOSTjaEhoYz/STo0ecpSNKaGCQ1DUu+tGs3zGnnXEpCCMqU8O4aY8GY1GQ1lmG5ql7+ozxocAyg4AccOUlTsqJPoaJYaek+EMRAYz00Y6BfvUYUBla9VLU95yh0I954Hn44DPeMFBR6LQd3s1VPSDBeuoDT2KkjasPtDJUABOwJEPsKIQjRgwPvod37njpO7QDuAq6M1fjxljjjcu4DConoY/Uz10f5o0mDgRv2vVHO154pl7Gyn049932N56RbXPmWATnQJ/dAr+KIoCQqbYeZAN/rdllLnOZcvazn70CQnrjV5JcAgAgHwi/xS1uUXWQw+eAjYWH9J8sAC9epk1bd335OVHZz4c97GF1/ciSNefMZEPvec97lpOc5CQ1wHc22ZihcRH/rRkaXOTIMR32wVE++oUuculdDTsJkgzAlYCBLrcZs7n1N0+ZdeeFOW18VLTDDzR7v8hL444IsXPhn2d0ILI/Nif9hIaAG8EMfgD53uGQWDBH/dJffFTsFniP4ahHPWqdO57LPloLYwMbeOyYox0bOznsW8Zjq9lFuxdeDs0xSO1d/tZWAEm36XnoTR9jc+rfbT0HrPWjH/3ocrOb3awG/l5gt4NON/kRO4J0n52md3wmuR0DfHRQkGl9/WoSe5x6dEpwQD+f9KQnVcBOhsiZyzsxZMmuuAA6foQ8aOtOZ9gitNhpNIYjRYJOffjFInoKnNJfMn2/+92v2gHHjgT9Ek6CYGOTafacTvNFEofkkt1hx4yrGBde4VPpIbsHgxjT2MbAF3MzRzRGjpNowWd6hDf4aIdDW/PWHv4QnPHX2mifPuZWPfW0swZ24CUeBEXsLDq9t4hm6ypRwObANgkUzBEfBEHeXbBG6Aqd97jHPaq9ZafwF3+0aelkH/GTn5AgMF7mSJae9rSnVflgP42Vgs+CAfPHB+2skQuvHA/nq42pRB7Svt83x4G1DBQIs4wCp06gGCIRP2GQ1aKsHA8jQ/CiBBTZr3GoL8N/nOMcp76cRJC1ZSAAFEoaBU/bVpgpEnAnu8goJKMGDKDDrz6IZtMPeq52tavVjBqlY6A47pZmCmc+BLlVAMsXUBw/rgAAIABJREFUI0MRGFHjAkpoNhdb8pQAUG2d7dTSt3PhkAEqjpvB8UsmXux2JIvhQiPlUwdPGQCgAG9bHqVP/MZD88MD65QCKAuwGAkGkcG0s2MeLgbe8RCZWNkE/BsrQAtg4H0KvEwf7kCL9oASAxbjao1Pe9rT1oykz4yJgEEfgi8yhX/oYvzR7nvzijEDYhlhawCceMeF4bIWZMcREAFD+gtP8InMcE7kD//MFW+1N3drynlyEtYkY+pjtxdziGHGY04IQLa745e1fOd56tABMgRAA9kcFvkjW6ln/em+I3/0DognW8aiP+lrjHcAAJ3RVvBOVgWooVN7fdvtAIStd/pbZj3Sjzt5yP8nwNHKyHFydJ3j83KklwKtO/lq247R3n5HRgAifQDTZDDFOBwz/nG05C+ASx28opvmusycwnd18VrfdhEcyYida/tBl3HZWLs0gkB9oDm8xGO7HXZ86D0aFf1YD+suIJG8oI8BB2hmQwQsgjk2lZ7PrXt40+9bywF2D/A9/PDD68/hnuhEJ6r+TuAAsLHLkinO+dsRsitF58bsO91kC+n+5S9/+ZpAUY9MkB3yZr3JhUCfTnmPyCUopkuA7IMe9KAqM5Iv5C2yQccE5Ggie/y3H6/QVh/kmrzyh3SXzfadwAftAgX6pj4/Qm75BP0LKrQl88C8jHrsuKCFzvOpxkQ3WkO3/tADkPNL7F18ObvHPghqzJvdbGnWl/Z2PNkrgTj9TvtWL6dWXh18ooN0yQ5oS5vx0O0762dHeBgo8O/8Nt8ISwx5i04XOREEsKvWI/bAXZDB/6onwYEn5ubSH5stueOoKj+rDR7zmdrhH38QHqFbX+STr8EXJWNO8aN/vxoH1i5QINCAhIhdpEiBZYlzPCG/vU65gW9KnALcU1QC7mUcW+eOFchuake4ZKsoNeFTomRRJN8BKQAlpbGV7niC88y29PXDQAKDhJcBYdwEJsay5c7AASiUXkbM5W+O1XaidsbLJevH0YrEtTXntGNMtRU5UzyGca7oNwaM86VADLqjASc72cmqMbR9jKfGYqA4fi+oMUb4xVED14q+orAUkbGUbXzMYx5TA5jQA5hwFuYpEEF31s5dMOU7ik7pgQUlfEg/jKbf4Wdo8TV81B5gkoXEc4YaiMczfD/ucY9bgYVgSLaaAXH8Ilu2eMwI2h0yZ7JjbgyudeTsgD5Gy7gyS5E7NKBbFgUQZsRCOz4BvrJVjnyoa77WsG1P/owr+9aCL/PfzQX9+OcCBABNa0WWZKjxH4+T3U6gYB2sB51IAK1O6trl4hjpM8dMLtqxIuND3vmeg2ILrAc6ZPrQp3/6z1nTV2AAvdbQc3K+TEGHcTh5u2ccFpnLsQVyZ/ueMwSYw59l+0eD/umlnRk/NytBkULe2CEyKsuK/rbv6Gvqz93Rpw8Xu8qBS5Cwc2yINWn5Lej1/oJdW8F8gjz8zW4fvggG2E7AATDDN7SxL9bFRee0EfhbG2unPwkB9lYgIeDOGOain162nwP4bG3oIt1ma/kHwUN2hyV21HG0layyc4IB3w2LBBSgyz9IJkiOJVAge3RWEMF+0BvA1tjsLf8iCODL6BrbwHaQp8g/mvTB/rok8dgN7V18O5wgOSazrR2ZYwPgDbsKZDb10UY3FPJLDgVKfB/5phPGN4bEAH9NXvkI/Eo/ntMlu/l4SJfNS1t1+Gjt8jK1eaatO99lXuyleniNN7FDU/rg+1x0k49jk/goOi4Bia/GQA/+8M38O7trDeilAnt45ntHQwWD+gud6BEs6Zfvg5+sL9thnuRB4MVuWT94x9hsv4uN5mPZNEEDfuM/vRdY8ec5AilRgl4XPvPl/ExozZwr4f2fTXNg7QIFgiOa5EBEpoCZ6B8wdFFwmVrAmcBz+ASYwnNojICsrmeyUZSScsuUM24UluCOKVa+46gYEZE3x2/rX+aOYTJ+2w8FEFQAwIIKysFx+k5dNDNWQKQ6gCIjkkJ5KScazYmSMbLaJfste0KxBUcMGsMVWtNPe2+VhKJRIJl1zprjBaqNZQx8oaCOxti9wHdnvKcCBTwWKDjjzVjidwplZjySAZV5ADqMk7HMkyMxTw4Dr2OIGV2OROaUoQFEBALhI1r9xnt2JdRl6PDEThMjy8nIJlkDRz8YWI4MH9DnhXPG3Fa6NcYrBky2yA4CYC8QYcRkpYfrgG7rgGeMkvb6zvld/JPdyJzd9SPwsU2L/7aXGVht42jCw914b+dhTeifQAsvrBedtsZxGAkUrJUMEtDrO7qkXnhiXfDSmpFX2T9jqeei8+THERZBND7nIneyTwnWOGL19S1QJ5t2oMgYetOn/pctoZcOk2WOjJMTKAs2ASoBAznbSP9oFSgI8IeBAjsGYBuPPJN5vMYjwfwYSFs0L3x3oZO9IucCBfOyI4QWvAl/hoECHdMWj10+A2B09aQnPWnVKXZPe3KA53YaZCbpte+1w8vICaDAXgImbC9gZl7q6j+0LJpXf7Y5DoTX2eWVqJGIsX78SuTGmvExZHUuUACY+UK63wYK+uLv2WB90Gly147B5gLy9IHss6+h0TM0sDvo5KcASDaCbOmH/ACXTh8kYed7Pl0AIhnI/7LpaYMGhTzyEXYd+I8ECvqJnqKbztNBfeCLCw18jHbkmX3QH76ixzFB37MZ+tLeuPQBHerYdYMv+Fd6KSgyd/Xow1jxfXTFerGLSaIB/cB9dC7jocVuK3r4NXxFA3rpIXvM1vH96PIsvGLHtbfr48cs2BJA3hhwDnvO7tNrGAOP9O/OT8A8eGht0WoHA+8EILCcBDCboq8UYwsm9GEte9l6DqxdoEAgCJNtQE6cMBKkVuBFk0AvQQTaZBXUicFQlxP1YpK+gLq2/TJsTF8EnWLITBLQYT/qqcPwMXCy8hxrnJ36FFBmVbQMKMomEGhtKSrjJkvAwAHGFMtzfVAAQFkULmABzrWhHMuUzAMdDC8QYxfB0ZgYGHUYOwbSOBQZzzJG5qy+oIwxd3zJGgC8KT478gOw2z6m+AxEeGAc6ytoMhfAmfFSR6HosohotHZ4CehnfO3RJKixhcko4RFjKwPDAAouZezNRztt0rc21gCIdWY8OxraOyblGUPteFOMcMa2DkAowKoO4M8J6Z/sWVM/JylAjfPyTHtryamoIwhjRBlpxTN83c3FPM3B3TyBSDzmzAEKwSU+WDt12kBBZrHNjnmewqmTd5lHcpmgVB2ywtmTF8CBA5YRzOVcMl3Db06H7JMVba0XsCJQAFTRu5ES2TB3gIfu0gsA25ixX9ZY3XZuy4yn3wCQNlDQDz1kNwAHWUpztTvC7nHuAmhgY9lxjeVSOGtAwDzYPOs1LAkUTn7yk9ddWs4cXeGJ+vgsYLfrgM/AmDrWFQhw1l1Aog4QMrwkaoA9wZ4MI71v7fyq/BzOof89zwE8JheCPusDPHoxn8+jf3SaXrHh5JFPZkfZR+s8LBIJdI99oPtsMl3OOOSXLJM//ZEnY7jokXp8Kblhb/WVwt+QffYZLpBwRIO26HOPPujHlf4lm+iPd6Ykqsizebm0UzdZfTvXgG4CBf6azyDndvfwSRuX8QNgExDgD19lfny5jLxEhuDGjoyAOj5eWzS4G897E+Yn2YQedMW+hA/t3fyi1/yiJKtEoaNH/FdLZ/qBp9gxa81P0Tk+El1wDlsMPyRIMEc0pj2aHB+CA2AEyQv8hCkESIJJ9ph9si58Nf+qH7zwK2rmiEZYz/iwhRMG1ofvdnJBAkYfaDPPXraPA2sTKBAuhdMIyLCTEGUlUASJQPiOMtqGI8yyyYnAU5+A2j4DHICJfB9js4ilaKFc2qABsJb9YAxCR4yHfmzPoRnQd7RJW8/VdaGZQQRoKKldCoqjnswgAMnZAzecIWXxnCKaMzDNOMrkAJkUzvNlSvhlLkAbh+vIh8w+BdM/nnAEjLuo3e4JY2EOij5c6AX6KCqQFUUOHQyCIEIQYI4MQPhlLP0xduhgCNCSjD+emy9HARQJzoAd7dHurj060Buj5DtrL4vBSZEH641O7TzXN0OLt/rmiACQBAqAEMdkDdFt50E7F/64Gxd9nIiXpgEf89C3tZBFko1iyAEi9bVDgwu9gI9siYBSZkpRx7PdXKIv7hsJFGTKrIH2+Oau4L0AgO5xruRBIYfWjj4CG/SOLHH0LgDdnTOmb+Td7pJ10DfHsxWBAlqyztZRRp+OyjgakzMDXto51Qks+Y95jgUK+iMzdIJMAS3AtLnampept5sCjKuj/lwxlktZJVAAjgQTeKoYK+P5LoGCNRFc4D+atDnKUY5SdUYgmLWTJHD5O4G7YIRuJgEwlJM6cP9nWziA1y72m/2kawIFyRB+yTNyQ7faQIE9pL/DMhco5NiQAJhNz/i5ky3+lh0dBgp8rJ1gO/veb7FTGf+GxrYP+hM59T3ZZNPpDz/IX/heu9jnqUDB995Ds8vOr5hjfIb2ufAQuAWWJTAEMnwXv2KufBMfJmgQKKAvdKIHsJeown87iDAQGlNnyGt/h371AH0Ano2S1DB26DSWOi58GwYKkp+CKTYVYKfXcIr2Lu30YTyfBSRsoMDJzoH5sCuCIf7XO4YZM/f0YW7a8snsm/nxDzAL3GDd2X1JJAErDMWmaK/kPsaP/t3GOLB2gQJFJ8gcCycZ4SMsLoLoO1tSsgoMl/PLonoCEqVkcBIoULx8r+1cicBqI6JOoOC4gu8ohntKAgUgVaDQtkezv/MrJYyYbAcjy7gC/XY9gHPAm3P1vYuRMw4jIWNOeew8oElGcZlivqGXMUygwLDFiKqTQCFZjY0GCgI0RtBxKX3GkGQujKijBvjA2CdQME+Gyy6DIIHRBtjxTx9Z+/AWzfmMF22g4DPDpE+Xem2g4BiXnQ9GW99kh5GWLZEpsa2pf1c7LmNkra2DnYustUBBEMjJWNsEChk/d/JsZ8qODflUMrdl1nJd6+Bv+AwYkzO8xFPOZW5HgSMZCxTwuw0UvGxvLDwD9DkS55A5JePQcxfAIljkFAUZyWBppz2HnUCBneGwN1L0RUbMncxIWNgJ48isMbDiuAEZiryuMo5+xwIF30cu8dtOi90ux/4EuvjOnnDonD5dmCv6dCkcOkBiR4GMW5thscZ4J1CQTMFTJXrjM1vGVqnTBgpsgTZHO9rRanDD5jj2IVGSHSFHHOgSwGge7BU9pccK3vey/RwIn9tAQUA6DBTIIyAq4TW3o8CPCvyAvfboEfkbBgrDGaJnKlAAGOmghI3jo+wKG9LKtv6it5mb79hsu+AJFMio59qamzIVKMh2893wBv9HJ6Pz0Xt98el0iZw7PiTRpG4CBVimDRS0ST/knr+SANhooMAm0iv/VwTQzS7r3zjoTBnbUeCb2QVJQIEOgC4RqH3bB37pyw69nQfYTH98tOCCPbYrAOTztbkEBy5/SxzkP3yTfNFnsBJbz77lfUef2QyBKYwEc5hPrsyp3zfHgbULFAgwIaHojiQQkiy6e4AVwOnlIUZJ3fbMGpbI2FJciqEfJf0swzJ1FUaJUNq9cC5QaZ2hv2XuGD4gXp209SxjChQ43WT7GEjGCLDhEBlY8+H0XbKn7QXMADyAkW1HgcYyBa1RZKDD0Rhnmh3rCXDSD6V39MiOgu3PjQYKdhtE/TIJMg7GRoOx3AV4+GVbchgoWFOGEK8BHhmi1hCFn+G/u8L4Aod4yNj6bGy8T52pQCHfA7Yclyx1MmUZL2uIFsbdGMANfnmGd3YaGGABjrXyfVvSlhGUlbFzokSe27q77bO5Rk8TKNCHBAqcjOeRN+vFiQPTeL5soODYmvXk/DkHOzPkWXvraAyXOvhNFz334p2tbt+htQ0U2vUartmidVDXOOZk25wTBYaBFPIhICSPADGeqLtK/8Y2l7lAIXRwpPiMRzKiHLqA3XtHMpFzJbxTL4ECeWazBBrGyaXOZgIF65ejR4J2toIu0T3vnAGSLsGcnQdBYI4gWENlVV7WRv2flTkQPi8KFKwJ+RGUOnIHIEqc0MlhYVvbQGF49KgNFPjGsUJ2JGqcoycjKXY8yDuwz5faqaQXrWynbuaVv7cqUOD/6LsxjUHvo/tsBb8Ek/AB/MRUoMBGao+32sMKMITdto0GChJoEnH5fzCMHZtojJRlAwUJMvNMH+186bHTDxI9kqGCEraEX5A4EDCQExjA5XP+xhv2S+AmuAn/yCB50bckjHbwELzCj/DBdlnQlDaZU79vjgNrFyg4ujIF8AkixadwhNxZNkCAozmYgUJ2FAQKlKEtaFayowAgA8MJFIBaYCVnmwk+AOQC6HMJEvwsG+fPmALcyxQKE0VeFChQeo5a4DV39Ej2xNEjRrF9R8HRozZQEN3H0AUkchSyEfjAMLQ7CgKFHAECBBmFlv52vvga3jKqgsGNBAqyno40CAYZG0YIHSntOL5juGQ4OSpZE8+HgQIQNSyMl+/JyF4OFHK0jEMAljlD31n/yADguZlAgdO0M2YLm3OgW/oG2F1sBLkDmMmzQIGTjPOw5sCKXz3ijKyL9nHuw7Ub/m3N9aW+vozPDgFJsoWAreyYIzN2Pe2gKdq4li36HwsUhv209Jg7h2pHgM0wv1ZHp8Y2lksBxNANcAHqjh3gT0v7ZgIFfQm4BVX0Peegs37Du/XWxjx72VkOhOdTgQKZsD70TWJLwgWAk9m3jm3Rl12hBArq2gVQzzN98P98oJ2kjQQKTiQ4Guo9OIB3uKNgHBdZd08ZBgqCnNRDlzK1o+D74dEjbaKnxvI5QJetcGpi0Y7CVKAAO5ifZOEyR4+MG70WyAHuMITMPF8cvVZPcWeb7Yq27yiwAeiV3MnRo/j36GbGwjeJWjgiAVt2FCQB7Sg4ReH4U7uTQGbsKFhDdkegx3foNxe+khdJEXznX9gqeIL/9o6K51nfdo3rBPs/G+LA2gUKMt22vEXdQLSFbi+CQggIOacss7tTgUKyFxHacDyBQo4e5Xv3COpUoMAYcuYEHfCxVUeJBEHt5RiFbAADoQ0lXaagFc/QsShQYMQAGkrHkFBSRlbJfPFdZkAwIFBwHjMvmKq3KFAIDdbNMYmpQMHZZMbELpFgqqW/nW9kwnebCRQ4ORlXGQ6OS2YTjSntOObgXRH0kbseKPyTS3gUwywIIDuy6i6GGz/xLk5bHU7LES58X7SjYIsavwWVjh6RB/3YcXIkUMDmHCsZ4LBcAjeywz4IAAUV5FRbz605umTWAFUZdM+y1u6LSlvP8Tggge7KoAkkBfGOYdhhMD69dWxAUKFtxlo0hmd4Smc5XEGXoEgxB44SMKNzkiShGW/oqJ1BARK7YUt+rhjLpeCnQF3GVvJAf+GddVQEChIczmXPHT1SR11tMn/Bi+NGnDs+WVtr2BbrCAzgMRmKjLV1+uft5UDkaipQsCaAGblwzI4+klXJJMmnyHrudEMAHxtqXcms5/razI4CneCL+S8yxZ9lpxF9ocGccoV7keccPdIuNEXmpwIFcxD8+Dlkuk62s5MRm2Ru7B59pptsn+QWmc/RIzuwOXrkezSGbjYLhthMoJD3IWXrvdckQRabbJzwRIDlVId1lDRgt6w/u25HHP1wGhq1M0fzwy9/4x377PSEgME4dlK8s6Wto2uShWwynuYS+PhsZ8hcBScJ2NDWFuOgS8KYz+ZrBF8CD/xET+bTtuufN8aBtQsUnDWTCZMRyxGOLHjuhAS445hlaJ03p6xKBIqARnE3c/QIoABIGLY2UMg4xlwmUPALEY5C+DUnc8uWK5AEFDuuw7ihlUL6PnefKS9Q4CXOHOlZZsmjvOhdFCgwRMZ2DErGglIz9EqMgDvFFCA4i+2YmJ+mTEmgAKAI3pJxaGmwTlOBAkPv3QYBly1WACHGuuW3z7mMzWBt9OiROclayDwLFMyJkUrJOO4MExkgn2TPmUvf9x2FI8AvhwKkC/RlFmWw/GpXAC1QkUAhR4/IeRyj9cZThRPLOwocTN5RoP/AKT1y1peusxX0xEV27ewZH3ABsOmftdan9vlfk2X3gBPtyDJZyPiRgfaOvtDIkcmG2yES8MjSBTQB1447ed+G/XAUg85zqmnf9jv2Gb0yneSNI5RpU8yBM2VPHLUAUjJ38+KEOXQ2Cx+Gu61jY2VengksZPs4dLbVOWH9sz1kXQGsBPV2TWT/6IbS9uM7OqKOugkU1GNHZCjpkWBBsCUIzzzYO3P33oX5OHqEd4vWphLQ/9lSDoTfbaDQvsxMRoG5+GTyQlcFhkAfeYlMkAfgMP/fjGxzfJl+1NtIoIBGbdHIh8EEEjkSWmTWuOkfrcYkf+qnCI4lFhy3Yy/SJkDfGOaDPjv7gLadZ/3yk2wOkE+eBdf6N1baqwMw850CAll5wBgN6JH8245AIbxxZ5PosuN+/Cvd9B3fj05zYYfZa0kCuzrmFZvGH0sgsGnaCwzj47XVB5vInvt/ZfBDEobP14f5+rEPiQ9+VOBibLQp7ukjbfQbHsMH7DO++i5zY/sFUJKP/Lc5tM+zxv2+cQ6sXaBAsDhFv+IhUkyJUPibcsmm2aJkEDhKAspYREDaQEF2T9GHa5mSeoCAbCHHyzErxslzf4u6HbVYtKPQBgqymJSEwAMnnKRoGEi2RUepgAGXzEQuSsQgG3/Zoq426F0UKBhLJoTxllUBxCirdtrjqzsQbddDxgFvGMSUzQQKxmF0gCEGkzGxxssUwJOhZZjIjvVmfJWsE14DV/q2ngw2J6Koy4DJ/jI4DFqK9i7zZ6RkLGRKrJXjLJ5xAoBg3lEAiIZFe9/vxaNH5tryifw6fsOpCDoZcOCBYyJTdDUvPnJanPtUoCAjbr3wzfn7jGUtjCErTe+cU3WURSDuCBp9JcuRUQ4puuDuCARbY7dBkK6dwCI6Ply//E0Hog/G5xAPOeSQCn7IKz5kHHxwlIItwwMJBdmu1HFfVMgMMA2wC0RszSvGJ8uSKuQdj9FvDLIpUOfk7XgBAnR7rmT93NlXgB1wcpyKXONtAi59mTs75heeOH3ASkGzS/GdQEUdO5Xmkjmbg+eACHApWKC/5mEsc7aOgkkviNqBSr+18/7PjnAg60UmyBxdawMFsp7sOftNB9hQR2f5NeA6BdAkw+QUUBYARi+trb4Acfqy7NEjvl87/ZAp/kmQCxtIIgDt7Ts69J7tEdzywZmfJISkhCM3Av7gCbrDd6jXBgp8YAIF40sCOAFAXtkrcg3YaucyFt/mRzxk6u2q8DvaJlCgy7L9fFnsoTllfua26o6CsbXHX/jBHPg6NEqOsb38p+d4KNHAbgvuvQeAd9ZXP3jiJXZ0moe1Eix4plj/BDySJ+xDfjAEDfjIZkmcmKddCethjoq7eQP+sJ+xyZ3LOJK21huW0pc+0aZP681e4GueZe618/7PpjiwNoFCZiHqpqgEiTEhNEABISYUHC0lJMSUUnZCG045CkFAvCzqpRlCTxkU30eoM97cXVbLW/4EUfYODYwHetyNCQAQfpH2EGhkPEruGSfIaSZQEBjIPDLAgh7KI3igdMaiPLIyFA4twDiFT79z9KNPH+prL+OBb3jc9sNQABUUzVxkhBhydJgnpw5YM8KytIAYMIHvKQINW86CHrsk2hq7pYFh0C8+MFQMF0OgGAcYtBsBnDh2Yu0YUrwwlsDEy1H4wMCZg/Z4Zo3QpX/1tPHM3BiPODr1gBM8xRf9aiNDDWQ53mUuvte/QECWXDBAFrw3AoCai/bG8MxRFrtCU4ECWUYfBwZAKvrHo71S8AO/BQSchp/+JTMcM2NPlq2F50Ak3cFH3ynap+jH+qvDQbVBKVnRh+yVQB2IlU0CTmShBSUAAb0jB2RQ37lbW8cggFdttRMcy1wvKtqnD8AHXWwNIMvJKcbJpT/0A0hktJ1nO9exMT0no5yjXbjQZnx2kN0zd3aJPpsDXpu/pACZJV/qr1JiC/DWOzv6xVt6RxcVdJFzumIHwjhK5u0zvgu61VE3+pZ66AKmgEv6BEiZh7G08bfx0QGUzfGrEtD/2VIOhOdsHPsJJLaBguex8dabXLKl/DOgaIdawO4SePqbjQT6+BNyE5khD6sECna1EyiwB+Q2mXtn3e1iuYzLH6EBmCdf7EMbQMAYsu18m11GYFowYJcLMDVHci5oPfTQQ+uOgjbGVPg6+iFBad5wh2NIxuTP/G3u/Cqa2Q78UrYzUNA//uKty/oIBvBZ0CHRYvc3a2Rt+EHfwQv4mTnisd1J9OOPXQW8NT/8dZkn3KZ/uzRwQ7u+bKDgDR/wI+tifJ/hufAej8gdW4331lTf2oVmPOaTXWwfGxl5zLiVyf2fTXFg7QIFSgOAyu4xSoSQEyF0BJziAnmicgrJKBEkShCFwBEKO/VS9CocA244Lxk9WWQ0ACAyCJSAEgECstGynsBPW9CkMDaeyZhRREYXaGAoOUH0MlAyr8AVoyWAkLUGZmTtKJH5UljzXaaoR3HQkR0F5yMFJDHS+vFcPVv+MivocM5Q5tCctUW/DKxsD0cOaGV++siOQn71aCxQAO6AnmRw20ABrYAkwGaHhgzI/OMFGsgAYAbYkQN94QW6gUgGRvBhW1g9c0n/eC04I1Oy2NlRMGYMIGAiiGJAGR3gxplz/GfcfG/++AIAha/kT4C1yo4CQ6pYA/3sxcIR0mfBMBBtDehLZC1OIHwc44G1wd+0bevox/rRQ0Ej0OmS+SJHy/BVv5yndmg01qLSyrtkAUdKzq3jWDHfjKE+elcp5hA+BVho3/IQ3Zm7YN/fbd1Vxktd/aPd3Kyf/vHGdwq6zAufWzuS9rl7hkfqTq2H760hutFvLHdrqn8ykHHTb7/vDAci72SXvff+HLAmgKdnnpNpV+ryZ0nmscey1y4gnG2WMJEcGLbTXkIBCJRI4U/GCp8YDADMakeGQgNZYev5ZUASDfwzGiTpBL7oJ2Mp2gPUtCKyAAAgAElEQVTBfBwQa4eLD7QrJ+D2XGAj2acf35NPYypoIOvwguAWmLV7LenGl0nQ4R1fYpxWnsm+dp4D3+ZN7vWpnjt9FpgIcoBiOACmaOtkLmN39RT00kU7KPwoLAK34A+ME5APg9F7JW3zmRzgO5wAsziya56SnQIN/Uq0kZm0zd08yAdcYQ3JBP7gKZ7z+d7ZtHNvfvqg/+SFbFgb42iDZmP7zpgwFV6GzoxZv+j/bIoDaxcoEGSLLTIkLAIC29CytWc+85lrNoMweea8I+dCINoLRwA9bWQ2CL2SOqtwLBkKIN12qhetgUmgkgNHryMMlM0Ll4KatkRYGQfPvGjFiMhmRJEYGECX8jEWlAaQ9ktILkcLZMEpJeO3yDG3Y/uMPkYOHQIPhoGSyXC2/YQ35iQIEgjY4UAHvtsBcAxBBgIITza/HU+GU8CjnsxNwFpLAyPhJTN8YPBkDQLO0KAuoCAYs6Ngl8ZxCmvpHpAPwLfZDrz0noJ1Ii/WieGThWDYjMF5MEyy+oC6bDNDzHjhhTViyMmMNXBO01a0o1jOicueyOAKUIynoNlngZxxOTlOcljMy/dxnAI1xbjWZy+WrKe5u/zdFn8Pv2uf+5w6i+p5pn9r6cp4w77G/m7bjtE41ibfhba5dhnDfSMl44y1T9/DuY/V3cjY4aX+h31m7OH37TjL1FE/9YbzmONtO1b/vH0csD7sFH8LQLJ51mqs+B4YVZe9B/hcPvMbnk215fvVkWCYCna1T3Af3zGkA618GVrZ69AAbGs7DD7ND036E0DwBfyGuujwnK3mc/TR+p6MnTrmoA/gNuMumjsZN4ax0Is237Ul/E/ixdw26jf0ZTxz4GvNE53mDIcYY4yG0JP1RS9eaKe9fvRn/i22SDt3Y2tPfshHuzb6wTO8S5JR/bTRL/6okzHd1TeXqTHb8fvnjXFg7QIF0yBIQKZssOyDKF7G1lk0214AtWcEekpZROiyA7LK7ZGFVdmkf0LrSIxMODoAflG/Z4TYljo6s90/NgYhl5kANGUz9Gmeij4IOaUT6RtHVsJxFpc5yyAAmvoYGpGx8fKdvlOfggHYMvS2APN96rr7jhGy1WdOMun4LoNi3gA8g4B2fbeFgZdJEDjZhmWM9NfSoG8AHR/sEjA2wzXUjhERCKIVL/DdHR+sBcPbGgb0MCKeyTw444gOAScjYgzygoeCgXyPtsyFAyIrZEbb8N/cc5SFQcy8MnftBSG20x2TwOdhMY7vyYjdkGTL8GdsHYbt+9/zHBjK43yLI2pspu0RvezdTzvJn50ca++u2PbMzNrEps+NoB67y067fJ6zdW3/U3Lg+7beFB2psyoN7Hlojm/IGOnTfap4pt2q4y7b97L8n6Iv34/ROZxv6o7d0z68Ml/tly1D+YiMTNEQ/rR81Waq/rJ09HrzHFjLQGGe7F6jc6BzYLdwgIHfibKZcTbTdifmtswY5rBd89iufsfmtZNjjY3fv+sc6BzoHOgcOIIDax8oxPm19yPIX/xpKx1OO/5Yv3m+mKJ/7h4sUyf9De9zbeeet/0tqtvWG/u8TNutqjMcf1G/ni2q3z6b6qet036eqp/v1Z0rq/Q311d/3jnQOdA50DnQOdA50DmwnRxY+0BhOyff++4c6BzoHOgc6BzoHOgc6BzoHOgcGOdADxTG+dK/7RzoHOgc6BzoHOgc6BzoHOgc2Ncc6IHCvl7+PvnOgc6BzoHOgc6BzoHOgc6BzoFxDvRAYZwv/dvOgc6BzoHOgc6BzoHOgc6BzoF9zYEeKOzr5e+T7xzoHPCC+Vb95GDnZufAKhzYD7KXH3CIjvm7l86Bg82BLofLr0APFJbnVa/ZOdA5sMc4wFn4HW7/N0b/Pe49trhrPp1W9vw2/F4ELuYkQPB793Ss/+79mgvlQSCPfCSI3KnhI5c7Pe5OzW+rx+mBwlZztPfXOdA5sKs4EMC2V51GnGIPhNZPLDcje2nrvkqJPOyEvBsr45G/yOCqNK8yv52ui4+Z106PvRfGi4zstExk3CEPrWeu4bP9+ncPFPbryvd5dw50DtQMp//R2/9U/tvf/rb437n3WgmQkc31uZf14ABw+Ze//KV8//vfr/+r/D/+8Y8jERYgMwWgrKWdCPepOkfq8F9/RB52Atwa629/+1v54Q9/WL797W/X/8H+97//fRnOdYzOdfku6zBFDz7u1R2hqTlv1ffk4//+7//K3//+92p7h3I8x/uN0KFP60Uu2Xt2MeO6W08X2nr5Jwd6oNAloXOgc2BfcSDOx/2Pf/xjecc73lGuf/3rl9e97nXlRz/60Z7lRZzhnp3gLphYZA+p//M//1M++9nPlnve855VBn/xi18cACfq7QXA4rjRN77xjfLgBz+43PjGNy53uMMdyrvf/e5irgowts5yib6swzrTuQtE/0gkZt0FCT/5yU/Kd7/73fKDH/ygHk9rK6q31UGY9fzrX/9ak0PG5AN8p/Q1brl/xOceKBzBi/6pc6BzYB9xgFMA1v7zP/+zPP7xjy8f//jHy29+85s9xwEZ6w984APlBS94Qc3smncc9Z6b7JpPKMATmV/5ylfKM5/5zHLFK16xvOY1r6my1wIVn3Op334GdP7rv/6rvO1tbytf+9rXKtjJc/e2DP9W/13velcF7D/72c9qv4DSsF7bxyqfQ4c2AqGnPvWp5Ra3uEUNiJ7znOeUz3/+88WugtLWXWWMnaob+nJvx/WdbPQHP/jB8qpXvar8/Oc/P7Aj6Vkv4xzAm+yEkYO3vvWt1Ta94Q1vqAC+baXuVtsqu1kChGc/+9nljW98Y/nOd75zYIfLDt8nPvGJqh8f+9jH6k5HS89+/dwDhf268n3enQOdAzWD9etf/7p88YtfrFlOW+B7rQAy97///cuFL3zh8tGPfnTLgeFe49d2zgcgB5IUO1i3ve1ty1WucpXy9re/vR5DCsCUaf3lL39Zwefvfve7umYAk0vxTGb+Nre5TXnta19bd8ICqNJHrTiSJf2P//iP8vSnP70GKY4Dqb+Vx9L0l3k+61nPqrt197jHPep8v/71r9eAKEf8hrSG5oN5R1Po+sMf/lAz3rLekgptwW+g80UvelF5wAMeUAFn6qR9W79//icH8Ia8kRGB6mMf+9i60/SIRzziQACppnq/+tWvakAs6293aqNFX1kTNv5LX/pSueUtb1ke9ahHlU996lPlf//3f2vXjqEK2p/xjGeUV77yleXPf/7zgSHT/sAX++hDDxT20WL3qXYOdA4cmQOMP4fF4W/1FveRRzo4f5mfrNmNbnSjcqxjHasecfFdQOXBoWp/jhq+B+wDRle/+tXLk570pPLNb37zQBCgHmAKgAL0Mq4BVgkyfvzjH5dXv/rV5TKXuUwBxh3dIMfauhYV4EuAIJMaILRMu0V95ln6Qa/s7F3vetdy+ctfvnzoQx+qgfhu+HWxBDnm9P73v7885jGPqTuOX/7ylzPNA3xW93vf+17xDC/Nu5fFHCAjkQNy/pCHPKTc7GY3q8kMQbESGX7Zy15Wg2nB7WZ2eyOX+vZuwuc+97lyvetdrzzoQQ8q2TlQR8DgfRq6MXYUavHM9u7THijs3bXtM+sc6BxYkgOtI5lqog6Q5wIQNgK29aHtRttP0Tb2fcaypS9QOPTQQ+tRFWAToAlgHWvbv9taDkR23IERx1Rk2YEVx4DsEKSQDUD+YQ97WD2u8/znP78eaRHMJqsKYAkULne5y9UjFICNNbW2rkWyKZvv6JLs9xSwjYyvKqfm5zKG9xBudatb1UDBTgIgvWp/4cnUPXzVb/qeqjv8fqqtfvDFHY9vfetb14y33biMEf7qA/D805/+VNv4e6y0Y6XtWL32u7ZNxp3qv223zOepvtN/ng/lYJm+5+roexgo3PzmN6+7MjL6npuvS5B28YtfvLz+9a8vguNFfAjNY3U8cykJFG5wgxvUd2ccObXLYK7W3XP64e67sdKOZbz0PVY337VtlpWBtD3Y9x4oHOwV6ON3DnQOHDQOcFgyrM5NA2/t0SMOAKjzXNbQ2e4vfOEL9Z0GZ699lgn+6U9/WkGX+mMFcON0ODp9eCdCe2N+9atfrdvvsq9D5xFAqZ5sWkDicAwADB3eRUhGTl1HqrR93OMeV6585SuX4x73uDV7bXzfA3LG6GX7OQAkBFA4lw10erHX0SMykMw+Ssia4w9e/r3mNa9ZAwpgxvE4WU79CBQcOfJ+wyMf+cgabFhTcuVytEJm1JGNIYjx615kRV8AUYpABG3efdA+fZFZMu441CLgZByXMf2KmONUjlVd6EIXKm9+85tr5tZcyaj5kun8nX7TB5py7McPDNCPzAMdnpmfAIQehlY8EmTpW720yRzdzRMP7MKory3e0SE6A/QDrAnWLnvZy5YrXelK9aiWTDR+mIN1QDe9Nl+8pOspntN7vPNCt7bGQq+/zQsfMnfttNcPWyT4sw5p566dtddvO1bGXHQ3jgDOHMkY3ps3e6Bv78z4Xv9kwPOMrY7njgoJMPFVf+6xofjApuBvy3efrYW26rCnkSW8ERB7h+WBD3xg5TsbrB+7NI4Hne50pysPfehDy1ve8pbKO7IbfdE3Xqhv/WKfzcua+D5jhSb1PZc8sZuRQMFz/EEn3UDbMJDWV2QjsmNNyYS5DdeFDLCxEgHoie3X1vrqS5/rXnqgsO4r1OnrHOgc2FIOcAi5OHzb2+c85zkrEGC8UzhsDtMRkLvc5S7lqle9arngBS9YznGOc5SznvWsFQDJSjljy4kGdKfv9MOpcbqOmgBOhx12WDnb2c5Wznve85YrXOEK5SlPeUp1IBxuQIM+ABlHT4zlZclsvauTeu7O2F7rWtcqd7/73cub3vSmOqx5ycKh99SnPnXdTTjKUY5STnGKU5RznetcNUtnXpyu0vYZuvt96zhgPYEOfAYovNQrSHD0IS/BquM58HKGM5yhHP/4xy/HO97xyklPetJylrOcpYLVJz/5yVXO9CHbfYlLXKJm7AHZi170onVtra/v9ePIzzDAtMPkl5buc5/7VGCVcYEq7z3c7na3q+3Jnesa17hGMS4ABUgp2rQFIHIpgJd3Ysi4XaxjHOMY5fSnP33t6zrXuU55z3veUz7zmc/UYOhSl7pUPRoXcAn8Bpw59vPoRz+6zgMY871x8et973tfud/97lflnowbi15e7GIXKze5yU1q33iEpszP3QWoej/k9re/fX1vR9vzn//8FTiyBcCxQA4f2AVzsBanOc1pqs7ih19Ko+94K1AzLyA1ABYfgEaBzBOf+MRy3etet64NfnpXSH3rQ3fxNLSxOUCkl9xl2a3juc997nL2s5+93gWOztUDxYInhcxoP1bSr2cAqeDqFa94Rbnb3e5W5ekCF7hAnSOZcYzNUTFZfLwhU8bGH+M7QkYO2DLrZO74K/B48YtfXPmAbvzNGhpXHcGHl9rx6qUvfekBPiVQMFcyw24B6d4PMB7ZP9rRjlZOdrKTVZ2wvt4HIQ/mZhz0PO95z6s8FpRaM+sp0EYPuSVfKQkUbnjDG9Y1SKDgOUDPHt/rXvcqT3jCEyqQTzt39PoBAfRe5CIXqTJtTfkG9h0tWRf1BT3//d//XewKkku0qW+XxPtFgml9rnvpgcK6r1Cnr3Ogc2BLORDn6c7JcSYAGVAiM5TCgAPbzs/6+VS/jKQup+QXhNxlwxwf4Vw//OEPVwfKcadwGh/5yEfKne9855oZ5kxe+MIX1vb64vQBEj8fCZxwlAragAz1j33sY9excjxF/xnDHRgEPm5605uWl7/85bU9ByUj6u873vGONajxjsKd7nSn8pKXvKQGHpya7G/GM2Yv28MB65RAUGZRUEeuBJnAZUC2NQBcyIWgEngDeJ773OdWcBvATDYFj4ID8icbC+QCbH7NhaySK2AagM06m531P/zww2u2FlA1pvEFEACkAIY8k3GXoMYzY7bBcMspfZiju3rOlAOVwBSQaZ7mICssOJUt9veZznSmSjcQq20bKABk9773vavuOEeeQEGQAXzTSfOOPgp8jem4k2NdeGHnAN/1rQDYvpdNFiwBhUAcWvQDxHr53xiOhEV3ADu0eC4YB/70i25jeY6X+IwPgKl1BDbRIyMeOo2HfuuDzwIn4FU7wZp5ZB2sJXvh8r3gTn92CQU0xgnf2/XIZ/PO3NkiGW2yJxAAuNGiX+OQObImeWG3C6j3PRl42tOeVm0dcOvzpz/96UqzvtHsO3zQh0CuDRSsqTVnK9Vh9+zaKGTF9+QRPTLseMj2CeYERgI0MmnOAgh20phk0Xoa284DHkusRGb1x+4az85M5GdRoCCo0E92OJKcsdYCILwSJOAheoyFh+QQbwQ7ZB9t1oWNpT+eWTv0qR9Z4zPwa91LDxTWfYU6fZ0DnQNbyoE4T3fG3y9cyBpyjAx7CqAN4MhSARaCCEczOBxOwBa8nx2VmQLqBBq+4xgV/QMUMmm2z4F+zt1z7TlLOxHAO4cow2iMODTOkhM95jGPWZ3NVKDAMcmqylgBi21Bg5dhOeITnvCEFfyEtrZe/7y9HLDeQB1ADrTYiQLKAIc225m1sZNFHgBGIDZtE1AAWHYUAFTZz/e+970H5AYQAsx8L/udl50zQ4GCIIVMfPKTn6yyqH/ASgYbUCKXZEcxlp02QWyOSeRZ+szd9y5ZcgAIqHXszTGbtFXXbhm67JwA31OBgjkA68Bh9OKd73xnBWrmRrbNF1+MK3MNOAqagV36BCB7Zg0EV3TZcSJ8oFPa6gONggSA3xEc48m+4xWgh4a2aAcQWiMBG146EoWX7IogxE6CLL1kgTmiwVjsDHuATgELuj23bnaZAF+6D6jG3hhPBho/vARv/ROYhO8tfT5n3j6zXeZnNwNoxUcJBXXYLfYGIBfYAbyCM9+jWTCLL2TGZW4JPoF2Ng4f2NCpQCHyTOaHgUKAuUChnYv+2DYJG3KYObmr63ttyYKESfhlZ8auD5rIX3Yxstbs8NiOgkABnYIB+pBAQX9+NpVMWWsJGDsfaNUnXuHZpS996RoEkiXBhWCX/KBBkEE+1MdPO178g+/WvfRAYd1XqNPXOdA5sKUciCNyT6BwnOMcp2bD2h0FmV8ZP1ldGSROk9Nm6HPnWDgDwIPT5yRzPIODBeAABdv3MoeeacuJJCMJ7Oj/kpe8ZHXenAjaOO6HP/zh9deKgMVFgYJgpt1RCMP043w4x3eCE5yg9o8uwYpnvewMB/A8YF+gIBsORMsUk4O2qCtIBRjJjoyktuTGpQCWeUcB4FY/AWjk03PAxlgtyAWayAOABdxqB0wDVQIFgEag4nvFHY36nZMZz10ANBoBXkdYAOAcsdGn/tF9xjOeceGOgkBBIN0GCo5H3fe+9630y8iiK7ylo/QWyAbu6Ry9wVNAHEB2fEUAIBgwN/R6jrfodunPdwkUrBWwn/mZg3HVpbv6tIMAjAN+gnc7Bnhvd8J3+jOeC0B3DMj60HvzA3x9J1CzFhIY1gXvQ4/n1lWggH/AKrpbuuqi/eufzM2faAOmBUoy/4Av+tGjf5cgC6i1wwlMo9k8XYA6mhKEBUQnUMCHRTsK5qWOPuYCBeOiXTDlGJF3dgDrdp5srfGsDVCPDmvsQq/AVjAk8LGzJjg1R4GadxQWBQqCIbsEmaOdZ3Sj3zzIdnQRb8l2Ai0yxuay4+iWBBIw2iExtrlFFvSB1nUvPVBY9xXq9HUOdA5sKQfibNwFCramvejL6YwFCoIAWT9OlVFn5Bl4dw7EeWmZXZk6DkQ9RV0ZTKDMWV9Aw3ccfxyEPmQXZc6cwwUcOTy0tYGCrerNBAqyWgIFxyn0jQ73XnaGA9YZSMH3BAqALFC+SqCQugkUgHCyITOpb+O4rK1jPsZw/lwmOkWgAAglUNAO0JEVlpm1M+XokgAYWAQQAZxl5EUdFx0YCxRCg0DBsZa5o0cJFNqjR2QY8BOEANjmiy/mAYALAOiTXysCFAFK9PgeqBT4532CzCl0uwfM+yxQoL8JFEK/u/H0OwwUAFTBP/4C1fiAPv1ljYyB50ClDLX1ofcJFPTJLslksxVkR3tr4eiTQAFwzc6HZ/gwLO33baBg91OQiAa0GENdsmGnS4ICj3wXmoFmR3+yq4BeY7qTHTTPBQqOHq0SKFjHNlBo54cXgml8Bt7xPbxK8CMgON/5zlePIDkuZb3mAgV96VOg4OiaQobsNJA5MsmWOz5n5y0Xubza1a5Wrn3ta1f9QY9Alu+w0yAoxF+7Oo5MeR65aOe1jp97oLCOq9Jp6hzoHNg2DnB+uZYNFDg4DoYD4hw5JHfgnYNwFtsLxW2goC4QJ5vEWQE1nC6nn37QgQbZQS992tLPlraghcOee0dB9nJqRwETZbd6oLBt4rRUx2RlGCgAn1M7Co76yOoOdxTGAgU7DrKlZIs8GctdoGDdT37yk9dsZghNoAD05B0F8ijbbEwvkQp6ARsZXRlswQ35N8aiYlwFAF0lUFBfW3QEtE69o0Df7CgMAwXzFijgBb0RKKgL5MnoA3ey6YKhFrxnPsZ3GT8ADjBOoEB/24IXY4ECcOn/LgGo0QgQhi/u2mWtgE+7ON4BQVMbKADUCRRCj6y64zYCBYGEnZrwy/yHxXj5fipQQEv6yM/BAvwJFGKrzAOd5kSu7KZqOxYoRE7Roz06AfBVAgVt20ABf9ribzsJ+IyP+G4semZ8tAHk+EuWHRMlwxsJFIwF8NsdyDtpjlC1l/kJ+uzIoBs95m1XwVFDQYQgTKBhbe2MWU8yu+6lBwrrvkKdvs6BzoEt5QDnmWuVQIFB53w4Xo7VXXsGfxgo6F8dWVPORaAgK6p9AgV1FGCD8wfoOP9VAgX9JVDgvGVAh6UHCkOO7PzfZCWBgl+1AcQBUEfKWlCFMnUTKPi1LTKkLXlKXcAFgLejoA8ZerIQudZP3k3xq1cAXkoCBYGKQCHy7NiOfuyCydgDo45tOFYD3ADg6iiR3fSZe76fCxT0tejoEZoECjLuOXpk7vqfCxTMQYDT7ijY+aNjAgU7JrLReBp6Q797G6y0gYJAoy34vUygADCaj2I87Yzh86JAod1RyNytu7UU7GxHoGDtBQKA7liggIfDQEEg5iVyx6XsVAggIqfmTG7tfADSdh2WeUch/EKHX2bK0aOW/8NAQSDTBgo++zlZu73e65DJ30yggHbHxOzQCaa9l+bXjlyCAPrisyDWDpFjY+aOLrZfcGCHz+4Cf+ClcbpoNzCy0c5vnT73QGGdVqPT0jnQObDtHOCgc213oAAMJVCY2lGQNeSgT3ziE1cnKguFPtlF/2uvHQVgUObO95xoHCnQwQEKVMZeZsZMmWWgtB892nbRmhzAegFP7naKgHTHUgAsAWjWUwc+J1AATqw9QOrsNXCrJFDw/yhsNlAgUwANWUILufPrSuQGqCM7ka0EsWjUbljy3VygAByhWyAiuFUfsDNHn/Uv0JHF9cs1zv97rmwkUHD+3/tC5iEjLFDIeug3Fx743mUuCRQAvBwdzNzVnQoUHA/CN9lugYK66Tu81r+MON0VzAPY7Y7CdgcKgkS8Rhea0LORQMGuKlrtFtiJ8Dc5DU/dvdxrl8d6qrvMOwrWWn9eZna+Xx9oRacrgUKOHjkaRX7IcMZ3fFN7v/Jk/TYaKJAXAYD3GgSgfjTCmtGRXAJbskl37BSQIQVvyZ93ZxxFEmzZubPLQEYkmhRzWtfSA4V1XZlOV+dA58C2cCCOxv1gBAqcGSfC6QEdaACa/EQrYAYsKJyLn9/zs6ayUZyP+nHA6PfZjgKwwemM7SgkUPCrR85sG1e7dXZM27LwB7FT6wYwuMt4yyQDkTLf1tmzFHUSKNhREGwCOAkUrBuQBDw55rAoUACixnYUfN/uKABWkcvQQUYd2RHMADWAoHcWjB/Alrq5R6YSKBgDjQIM36Wgn6wCceiXlUaDOoCesf2yjBeC7SoAX/iiAFZ2PPTdvqPgubaCEJno/9feff3IclR/AH9ESCDeuCI9ABLYImcw2ZicbTK2ycEYG5ODyBkTHAg2ILIxOUcbMGCwhbBMBhEkRBC88Afw2D99Sv7eX7npnp3dvXN3Zu8pqbdnuqpOnfpWzfb3nDrVjdwn9MhKiL1ArtHHY0LzxCDY94e2fdeXGAraQvL8btJ3Z4YCXHitbQ6GlxAf+5a0ZQWDYci7rK4+kq2fVjl44XmphcUgujEUyDTu49AjuAlr4nyQv5PQI+EvHtIwZSgsE3oEC/9rjBkMeMyRX4+PzcpT9NZXGAkB0idjCVN4SAi4jedWKew38FuAe8Y6hoLVM9iQJ0+ZGAp+R4g3PGMoGENt8OTz3jO4zV26JPTI2FjlMG7mjcRYcy36MPIk/6M5baxM2LtgPhvLPtFL+47MH+d8T5+cYc9ItHdN6KCU304vc10+l6GwLiNRehQChcBhQcA/5ByrNhR4z9zULZ+7aSELblTxetHD8rgbopc62dPgBiy5wbhBMhQ8sxt5lEKoyHLTEVuOcLmJ8cJK6Z8zYsF7bcWCoZCbl5t8pcODgHHIePG4IvniphErZM+cSFLWWCMkwsnMDXMhY2rMESwhKEIePJc9m5lThizhD7yfHkGaF/G5joAje4isDZ7mAw+vFStkK4SGLHMkoUrIE1KV687jlGuIMB09blNIBpKnD0meCGMlTKgGEseYVUd98xvZRv6Qek/i4Y1N8iQj2JDtN0VfxNA5hoIQGF5kZfVLP2CMjDKqkTShNZI2pw55iLMx4ElG5tM/eWQinsZQOEkej0oHxqC29M/GcMZC34b/O7zS5Do8tUo9ODEeyUQgQ7j1T32YGkuha/IR1pDSjFvr1FV/1Ml1mDJ29Mf/E2NvTPQjMvy/yfsdhMipn3mLxGsb7uaPeUw2DPSX8Sachgze//RXOePLmDJucNfX9CdGHYI+NhTkIdaV9kYAACAASURBVPrmYFZa0z9YwJjhw0hhaKW/zvbVeI+F/43O/q/qp3lAB/8TrXIYN/pIysDfbyP7HlxndPg/yyghz+qBfvXJvOXMoRes4cZwdM33fv4znOxH89QvZ4nO65rKUFjXkSm9CoFCYCUI+IecAzHimROWw8tmqTop71EQj+pG5Gbipurm6Ibj7IYvpMFN0KZlXi43TvLd3MWXI0reyIkYueZQ342FTKsGbnY2wnn2NxIludFYLfD2WoRPWEDqy6MLAoVIeSutdz64uUt0c0jIkpu7d0Ugj+ql/jrfnJry++QPnOHujPyZZ1YLkDZEBUGSMh5ICAMPaTM3GJC+84qaO8iH+WCjptUmhkXkR4byVgLMbYQ3yXxznUdVSI85xSvsMy8/Asr4sNFau0J/ECfXEELyza20E7nR33W/AWSR59nvR4w6QyBltEmWuQsHB/lehqZN5MneBISZcUK/JHOYcQEX5I0u5Ok/EggLBBIR9HtC/ugkn6HMq83oYYB56lQOZBTJRTARPHKRaaTak2wQYe9eQBIRdG3qk1UBLzyEn3p+W4ilthFjv12EN+2QYcz0z7P3YY5Iksfgc40RCQNy8r9CH4w7HWEqX3n58vJ7D07BOtfNMW+79tAFpJyRRX/6RgbjBa6MNKsu5Mong3fdXgH5HvvKAHNdvjltPuqrsYRZ+ssTL2zHeNDdWGrXeOiP/jKW/I+Vp02HxBi2+sXoY/yZx+aD3wfvP1Jvn44nWVmZgqU5BGN5Hgagr8KO/K+lr9UlK1QcOMbUqlQMBSQ/+ph77g+SsdGmuSl8zbhaacvvxNlhDsEVNjA1Ppw3HEbuM35Typl7flcwMZ+l9Ll9WbM/ZSis2YCUOoVAIbBaBHIjcs6KwtSbmZFwxkMejzpnKCDic4aCmxev701ucpN2k7B6wJtENrKI+FkJcPN28+F5dIOR3NSUc9NF6ty4kBj1XHe4GSMcxx13XPP28aqlrvoS75mb5fWud71GAtVD0tz4Q95awfqzUgSMhzlnfBFAJAVZQbB6DywlEF7kGslCzJATBFeIBwMTSeKlFW+PFPG2Rn4IhxAdc+M2t7lNI7fpHLLnOkKHDCJBiKp5jFwxIhA37fqM7CNp5l2M2LQRmTm77jCv6GjOqo8QxqOaMsilR0t6S7EyDoaTvmrbnEWy6JbfhHZ49kMC+83Y+s9AgQWZjAnGud+4pF06Ict+a8inNrXnQEgRS7gqh8iqqz1YKcOjzNOMaBoHByOAk8CjOBN7rz2k0xiIy2eYIIVphwFoDIwn5wKyrT0rCn7vDB2kEqmVZ4yiP2JJlt++eQObYNo62v1xPf8HGDGMGU4DRoaxH68oMC5hYN7lpXv0IsM4MJLk+58VD742JPODzoyFzFn9pStSjCD730MW3MhlxFlxkW+OaUOKzPyP8/8PxjBjCDAG1UW4OVKOPvro1i6DVnvGiR4MHnOkNzT9H/d/VFlYe8+FeSMh+NGH7L6efP+f9VEYlbnj96Gvfi/aNC85jswb40J/+lqB6X9T6phTDBv/i6X0uX1Zsz9lKKzZgJQ6hUAhsFoE/EPO4cbAM3SNa1yj3VTcQJLc+NywLX27uSJv8a65Cbjhqe/m6fGkSJ8bvRsR+W6GbuYMBe9p4PlygxBOYZWBl9LNA4mgAyMCEYtuztpEBuS7AaqXJ2wwLhxu3MiftqdIA/IiVlu7DArhEG5qIUT6qy+OSqtFADnKHPLseUSDt9VKUI+/z/Ewi3fnyUQqkVH1EUhebUTYE4QYHv280QsE1GqFcBFzKImX03UHsqct80Z53lpeUe05GCHaQGaQ/17HyJs609HcRdJ4/RkF+i5FT9/9RhB7ZbSLTPrNIKx+D/qlnDpJSDy86I+QyaOXs3b9huxHsBqgbLzF6SeZ2tQvRE0/raJYafGdYZ39C+Qhrwx6OiF9jBf15ZGpvDGCpf6kjzAlRz+sLiCYHAf66X+GPvBY5zdLFt08n197VjTlue6QjLuxFEIkH67ygmkr1P3przMKeMV5vBFe+gbbyDenjBn8+lUuctTXtnzzJORac+rL1x/GiJUDmDqE2Rkr8uBDVto1Rxgk8v3vJaNP8eT7/2W1Q9hcxp0hxpj0f9eRucNzb5wQdk6ZGFvalWDKAIADrOFgLCX6uBZ9ekeK+vTnYGFcWO0wnlmBs9qhHr3ST/97GQvmjN9SMDGXGJsw0cd1T2UorPsIlX6FQCFwSBHwDz8HUmHp2bK3GwsvVZKbqmvCI/xj9w89N+Xc6NRHBGxCdiNAKpQj31nokbjdAwcONA8Sws+b6QZntUI9NxE3Szf9kIbooB03KzdRN1weMHG1NgDyeLlR8QS7gbvJpV+p70wmIwLRFKurPo+hm13vwVO30moRMJ6ZOzzVVhWEDzH0kIaMQcbRmCLDSCESl9AMxEYekpN5M9YcQSbTnFY2CXFy3RFipj3lyWNIaM/BQED+MrciY6szeXTUBpnjeZ36fbva0ibDxwqEfgWHlHdGUBFwskPklJP8PrWFoMlXNiQwsvKb0i+rNtpE5pz1HcYhemSSpz060c1vrTfMeOqNESxDuNXTnrbhzWDhBdeOfiKT/nekneiWtsjURv7fpH8Zd2RVvvLJawAs+JN+65+26Zt2I8M4ww1+dOuT+slXxvekyPE/T57/N/rq8Lkvn7Lq6k/GCsa9zMimB4eMscl8NK4w9L/UqoXwL0Y0jBkHxkkdc4jM9I9MmJIJB20Hh2X1obP/m+ZB5o52GY/Gxe8o8wAexomudA8m5lLC1NLPdT6XobDOo1O6FQKFwEoR8E/fP2z/xN3MQpw06mbimn/yyE7++cvLjSc3bv/4ETI37tzc5QkrEWbAm8+zy5PHI2fZn+fKDcZNOzfI/ibadzw3J0YJDyaPozMvsBtRn6Jbf41eymlPvXjSQgbm2u1l1OfdI2BuZH4YOwaCVR5eZmQycyzjMT6PNZga675M6vfXFn1O+bnzoro7yUs76uZzzpHn+07SVL3IXnQetxU5fZ25MnPX+7r5rGz/eVx30Xf19jLNtZ/r6Vd/3o2+U3L8fuwnsCIr5CdGdH5ffR2fx2nq2rjMou9j+Yvkbafsojb3Kq8Mhb1CvtotBAqBPUfAP3Aknedn7HlKHpKNqE8lZdyYUsb3JJ+tSvAiWcrnhULMeUEdjBLt9je21O3P5Djop756OXrDpK/Tf0597WgvdfVJXqW9QcDY8UAy+hijPJHj8fDduBn7zBPaZkzH1/ue9HV7ubney4vMtEVujnG5vo2tPqvrWJSiT9rLea7dlD8U+WmrP4/l9u2lnGtJyo/rJG+qLhmL6izKI6+X2euRNrc6R9epulvJ7vPn2on+wSr9nWqPjJSfy0+bkRf9YyjYK2AvAmdO/r9t1WZkRlbfl2X1US46pb0peWlrmbK9Huv0uQyFdRqN0qUQKAT2BAH/zB3jlOtTeSm7qAxijwBasg8x78v3nyNv6tyXm/o8VWd8bVxvnF/fDz8CjAUrPQxHRGKcxmPme1Kfl2v9uc9fpt64/Ph7L3vZz5GxqHzKTJ2n6vXlpvJd26pMnz/1eSx3UZk+b1xvrEtf1uep1JfZSf5Unf5a5PfX8jl5c7oplzKpMz4nf+o8LtvLm2szcsYEnqHgMbcMhTzK1O/J/9wQ9jmZfbtjndLeXN0+f+rzInnLlB/XX4fvZSiswyiUDoVAIbBnCPjnPXdj6f+xzym4TBl1005ueDmn/pz81J2qv0zdyE3Zvt3k1bkQKAQKgXVHwP+wJHtM7NHy1Ckb0e03YGzHIZNydd49AmUo7B7DklAIFAKFwCQCIef9DW6yYF08YhGouXHEDn11fBcIMAjsL7M3od8IXb+nXYA6U7UMhRlg6nIhUAgUAoVAIVAIFALriEAR4v8Pg1onLOjSH+s4d7arUxkK20WsyhcChUAhUAgUAnuEQEjIHjU/2ew6EbVJBffZxcyB/Yb7uvWnx3n8eW5KKbffwjvLUJgb7bpeCBQChUAhUAisCQIhKnnCiu/rkEKKnCsVAvsFgRD+7HsQ6uTwfdnfYH6zm45JGQqbPoKlfyFQCBQChcC+QCDkZI50h3jkvA6dji7Om5rSBwRw3fthbniyj8NTftZd302fE70hnM+ZLzn3ffQUM4/FzsvX5G36GJWh0I9wfS4ECoFCoBAoBPYIAUQk3sqxCsiG58R706/HqSKJe5VCfHhYPfrXSwPplet7pddO26U37PXHeR0Tvehp7L3t2JuBkVHzZZNT5gzsbU52mEt7PQ5w9QZoT1OCs/c0OLyE0xuf/RbpniNj4OWd3/jGN4Zvf/vb7W3qGbf0M+U26VyGwiaNVulaCBQChUAhcMQg0JMQxARh8WbtP/7xj+0Ffsk/nCREWyE/vKfe8n3JJZcMV1xxRSPamzw4hxPH7eBErxgxvNUf+MAHhg9/+MPDD37wg2Y4bEfWOpXVrxjGnlz0ta99bfjmN785XHnlle3FkHulq/nNAEb6v/Od7wwf+9jHGt7eoH7hhRcOl19+eTMa6KcPOXz/8pe/PDztaU8bHvvYxw6f/exn28qPPvZl9qpfO223DIWdIlf1CoFCoBAoBAqBQ4AAYuLFfP/85z+HP/3pT4OXSTEMrBogiEgGUu4tzl4u9fGPf7wRdGVyhEgqO5e0g7QomyNEbVG9Xp5yIT4eTfmtb32r6fP1r3+9kaKUVU57c21GRsqPz2knejov0jXtLZIbfZyVTx2kEPaMnX/9618HcV8kq9c3ciK3z8tnZcb6p17fx/Szb5tc4+ya+XHKKacML37xi4dPfepTjdCO21BuLvUYjMtEH/V7nXxXbypN1Ul5eYuSfHNc+b/+9a/DS17ykja/P/OZzzRP/jI60GtRe9qQ71ikj7z0kUHOGHj/+9/f9DnttNOG008/fTj11FOH5z//+cOrX/3qZjz87Gc/a6sO0YEMhvxb3/rW4YEPfODwzne+s/UrL4GL/EWYrGNeGQrrOCqlUyFQCBQChcARgwASg3T/+Mc/HpAk5FvYQx+HLuThK1/5ynD/+99/eNWrXjVcfPHFzZv83//+t3lfEUnEChmZIkQhQsrEuHAOUZuqMzUAyoV0/ec//xkuuuii5mXleSUvKeW0pw1H2vV5WV1TLzK0PdXHtKfcHCFzXbuR4bvPQkpg/+Y3v3n4yU9+8j94pk9zZ233cqfKTZXpdQ42GZMeH3qaC3T9zW9+MzzqUY9qbyRGZIXBJKUNdX0ep7QXXft8ecFDfnCnT8qPZabOuLy6dB2X79vzOf1S//e///3w8Ic/fHjCE54wnHvuue330GMypQP52pnKS1vKRL9F+qTvyjDGPv/5zw+vfOUrhzPOOKMZZa94xSuGF73oRc1Ie8pTnjI861nPagbBP/7xj4Njo67fxPe+973hkY985PDSl760rfowRHv50W1TzmUobMpIlZ6FQCFQCBQC+w4B5MLx97//vXnmERMeSQZA8nRa7La4ZyEN73rXuwbeTAQoZfrzmKQhKY6+TP+Z/JTZDsDasRJitQMZInOc+nbGn5XNtdTzfZGuKZ8yqZez/EUp+emv78jeJz7xieEWt7hFG4O0kbKL5CVvmbKRmzrOuTZ1Tj6cYyj87ne/Gx7/+McPz3jGM4YPfvCDVzMUUn4rXdJW9PC9xzP543Nfpm9rXC7fI3/uTB5jQP+E+ejXc57znOGTn/xkm1OR05/HOkSPuTaST8aiJJ9syeqS1Tshdb/97W9byB9D3kqD/SHCoxgKD3jAA4bvf//7zThQ18FIYvQ8+clPHp761Ke2t0b77fbyF+mxjnllKKzjqJROhUAhUAgUAvsagZ78CFfgReWpvM997tO8keedd14LLUFWkHFEhaHwmMc8ZnjhC184nH322S0GWhjSRz/60eHTn/50Mx54x8eGgrYYHvJ++MMfNrnirZFjqxfCPkL0o9cc+CE8zjad8nAL0/j1r3/dDBf1ECbtIeA///nPh69+9auN/Imrd3zhC18YLrvsskawEOBepvq+I2X2P/Ds6qNDPddgoY8hZ+ooTwf9E8efRJZD0k/hRYicmHibsH3/0Ic+1LA/cOBAO9NRe8iitrTTy4lsZ3oggvqj/X//+98H8U+76lsRsgrEwGMUMvLobOwR42ATfH7605+2fDhqA07qxFB4+tOffjVDAeGmK/mXXnrp1QzN6G8eIb7aNG7qJNHVHLBJGhEW1mSOwAGmdFY+stTz2YrGr371q0Ho2Uc+8pFWJ+MLF8R5LmkzhoJ9N8j1CSec0MJ8jIm9AWTSxe+AbpkvMEl/6Ke+8SQzOipjjhpjK1/GYCt96AoHY+P34jN5ZGUczK+3vOUtw8Me9rDhggsuaMaDdrOSInRQaNiJJ57YVv/8DtRVxrFpqQyFTRux0rcQKAQKgUJg4xFAPhwSkn/SSScNd77znYejjjpquO1tb9tWDp75zGc2AwKpRVoQOGEnyBSjQry085Oe9KTmYT7zzDMbIVK+J0SelINkIXOvf/3rm6fziU98YmtTXDgihuQifSFZc4TGdYRVOZ5XRNIKCEKH1ErInFh/hs273/3u4QUveEFrU1iJ47nPfe7wtre9rYVokBGCRbbPCKaNumeddVYL9YCNQ71zzjmn5SkTEq3NX/ziF02Hl73sZY20N0WuIrNImoQskonc/fnPf26k/nOf+9zwvOc9r2F/3eted7jrXe/aPNu8wQypv/zlLwf7m/GKbGf6ClWBPeOO3tEr7Qojs0EXDgxCBgiMkFu6IP3BJvjAFH7GzfhFJkPhcY97XNswe/755x9cUUBojSE9XvOa1zRDCJ50yHiZQ4wSsfOMy4QtKUNH9c1FJFf/6WJuve51rxu+9KUvNV36JxKZZww3fdI3c0od8/K9731vwwWZn0v0i6EAQ2N873vfe7jvfe/bSDairX1z/A1veEMzFOGhr3DXvg3DQvHMYasSxij9hZtrxlzYELxdWzbRjzz4aI/cfLaaw2g35sZE2RhzjMX3vOc9w8knnzz4DTNM89tQzrFJqQyFTRqt0rUQKAQKgUJgXyAQEuLMG428IYD3uMc9mqcS0eBV/e53v9uIEW8oQ+EhD3lIC3lAnjz9xoEI8XAiaUJShEPwiCYhS4jN/e53v5b/xje+sZG7t7/97c17axXDNSsDyNCihDghTc7Inc3V9H75y1/e9FQXgePlRdrlie9+xzve0cgjAsk4QQKFUSGgHkGpXVjQ+4tf/GLTS38YNowN4VZixmMg8c7z7NJDYgQguHe/+91b/fQhRNl33nr1bUa10pEN4lZn6HKDG9ygEVPfkXCeeeSaDLo5xkkeoogc6xNCSy6MkGB1GEP2ntANqY2hwJiyJ8I4wyUHvOjJIOTVtxKCaOrrnKEAQ0aK8B37WJBV5eEaMo5kwxChFz/P2JKQeSsMsLZPAOk3n8wr84IuxtEYMsiSzDO68qzrvznLaDCvnBlH5sJcgk10M5e0Y/4fd9xxzTjRfua2jcRIt++//OUv25gwGGD24Ac/uOWZA2TC3rj4zcQIf/SjHz384Q9/aGR+Tp9cJwN2OXzPNfrCDVZ0ZSAzOuWnL/IZoMKo4GaMjY9EprKblMpQ2KTRKl0LgUKgECgE9gUCIR/OyCiSh3zwoHrCCk8tT6SQD8THJkmGAiLHGAhhEkoi9EM4CU8yLyay6hpSgrwI/RGuhFAhVsJTEENt8MgK+UBqGB1IjvakKUITmc5zhgKyb+M1mcifjc7CP7Tp8J1hRB/kUx49tafPSCdSCA9kHTl1+GwlQv+V8T06Mqh4jacMBaRRYijAh3HDUNAmXYW1aOtmN7tZ29DMs46QI9s87WmjCRn9gQNDAGE0duQLPeG5jtH1ox/9aHjta1/bDDwGCAOHTgi6NvQ52DibC8bpQQ96UJsLDCekmB7LGAqI9laGAmPNnJLo8773va/h6tGeHlNqPplD5op5YSwZLuYLXfQbngi4PKsvCDz91YUvXJZdUUjo0SMe8Yi2gdiYkJe5bSWEMUoHq1jmKeOJoWmu+F0oY8XD/KUfw8g8iSFLn8yF0TD+z1dY5+gzrcIw7O1ROOaYY9qqGByVjYGijDGPocyAieFOL2U3KZWhsEmjVboWAoVAIVAI7CsEQkb+9re/Ne8xI2FuM7P9BIiZUBBPVkFM1Ec+JIRSGA2CiTgjqogTDzljAJFG4vrEEEFeEVx1ETZEUJoiNNpCsJ15Uhkl6jJSQgqRVITy2c9+djNQECkELX1FpKw48OIjrMhePOZWNXhqEbw8cjX16IRAImC3vOUtGzmNUQMP3m0kmWGURM+QQzHvdGIUMJKSeOwR/Vvd6laNhKrTt5ly43PwgReDjdf7oQ99aHuCEm82OcZAmA/8s9qzlWwhLIwnnn+hZrBFjNXTDtwQ+j70SHw+TI0FDz/jM+0bLxjop7kjrMjKBpkSTzsjx4qIVYF4v9NfbQr5ustd7tIMNQQc7ow9oUJwt7qQlRRtOUKcI2d81p/ols3MDEuGCR16nGwihuMd7nCHtiJknqrLmGA021hs5UkfXXfAkH76a99EQq3Geiz73Vj6vfg9MViOP/74ZizrZ+aZc8K4rMZYFfMCNsaYJF+/NimVobBJo1W6FgKFQCFQCOwrBJAG5AER4kXmnUUwkA3ExCEhdQwFBEVYiMd5hhA5k+OakJIb3vCGLeTCdSTdYz/FwdsYzCCRQliQe3H4CDSSi4jbFBu9xqRGPXKdGQpIN4LJSx9DAUnVFsNDOBBvqjohkLztPM7apK/wENcQLp7YO93pTs17LGRDvR4HRgjP8Y1udKMWjqR/dBGKxIA49thj22pG6+RojwKiyfuMLCORwQFRhr2nHvGS0yW6kj2Xgg0dGQZwRuwRVp51eiPPrsPWaghiO4dt2pFvTIRIkcd7zRtOHtIuNn5sKCDWDAVjITxtakUBic6qkxCkGAp0uuc979kMHas9GcfowwixyqEPjE17J5QRMiXMSV3jr4yxZujoQ/CJnPFZfuYFQ4HnX7+EyekP7B3KIflWkBhBdDc3/EbMNUScbsafDnQzh61q3frWt26GjLmqrZ2k9MNYmp/ekcCwoicMo6c547P5Y5XI71Q5Bq/xk9KfneixV3XKUNgr5KvdQqAQKAQKgSMeASTEwUsrrht55qXvySqQYijwYiIgCAti7UCAyECeeOivc53rNM94CKyQDWTOZlH55OdAmhEv5Jz3lWf4UBsKyFx0pKe+WdlgFDEUvO3WNWUYKne84x0b6YuhgIAhyeoirVYgGEOIN0Isn6FAlo2w3o6bhJjJl6YMBTKROtgzFJBfuoT8OW+VlLEiYmOyVQMrAVZ0kFsrFzC3dwBx9QQcSbtWIpB3oSkMFP1hJL7pTW9qhNyeEuNmE3dewhdDgZe8X1FArGFn5WK7hoKwrrvd7W7tiVsMSsYEPXL4zlixiqN/8KW7sCR7R7Spz/L01fsdEHb7E4zbXIKBMTc+WVHoDQX5OZB/7VlNsRqir64ZKxgj5HQ0frBg/FgdYTgKq3It82BOn6nraV9dhjjjzeqFVT/zxrj3ZXymU28oCOUqQ2EK3bpWCBQChUAhUAgUAgsRQCwkhLFfUUgoTohqbyjwUPMeI2E5yOBxtRfhWte6Vnu0JBLG4+7azW9+8+ZdDSFkFNjEjFgjpOKtkU+kC6mStB392oWrrpErb25FAXnPigIPNEOBQZPEE2xDL+8+cm+jr/7yRMdQcD2rJkiagy68ugi3FQVkLfH+yPaUoZC62p4yFFy3ohBDAWHvyV/wj+5zZ7oxbOxFEKJj1cPqjXh6b1IWlmR/gVAwZR3IpNUUhpwQFd554+EwHje+8Y1bqI0wLPMDPofKUBAulBUFhoL2zBFP3LrXve7V5kbmh7NrQsJC0o2hvugTz7rVI/oz8hBpK0mMwcylKdxg0BsK/YoCg7BPMRTghKybJ3SQYKM9Bgv9zD/kHOZCscwX809720kZJ8TfXDff7KvRV6Fuyc/ZXDNf6MpQsdpWoUfbQbzKFgKFQCFQCBQChcDVEAh5QXaQVd5jHmVktSe5MRSEHm1lKFz72tc+uKJgdQCxshJBPgMDMRYag+T5LN4bEeL1RIq0O5cQoUNhKPAO8wDPGQrCSBg+yHFvDDEUeLQ9oQhx8+Qg+sZQ6EOP6NrXZSjweiPzCT3SzxgKPOYxFNTNMYeF6yGJPlsVsqmXESbOPis82jRmxpA+9IUhj7f9JFZWGBYIe8YEEWUgIKbqMzqQ3TlDIXsUkGUyE3qkDgy1aY7pO/LcGwqeTuTRvLzynrJkAzEPP0PG4bON68LjGH2IcLAhmzFgpYQcRp99BjAwPvo0l2DXGwpWC6xoGAP96bFlFDA8hF0xBqyoxVAQ7qSO1QjGrvls3wIcrJZ5J0V+Z3O6jK+nvPHy22DwCjnyO2KkMMAlOERPGPtujho/Bjp9rXbVZuYxwvW9ECgECoFCoBAoBLZEIIQEybRhNDH0/YqCMkhmXriW0KOQYGcJsUZoEnqEJCItQlp4a4WQWDEIeUTSfI4cRCf6zCmOCI0NBSFNjBEEUkIms6LA0zu1osBQEGbFIFi0ooCIhpSSjbTCibed4YOkyrcJGi42MyPdroe4OTsQc2RUuAxDKYmhQObRRx/dNjXDI+RvKzxSjqyerCOJ2TjMGBKWBB/l9QnR9BhS721gwCDkiG/GBDG30uApQHCKQcSQMJYINU9+NuiSLc/8sSLBoy08CDb6o/8INOODoQCrePsZH9phZAjTMdfMixyZH87kpc/BVd9dp7/NvkKPyKIjA24ukRNDgW7Cl+iWUKG0oz7DR8iZFTFzTV/hqIyVDXteGAX2dNiY7qEAPsOdgbPdpD90I9e8IcuY0gHph40UHZ2DD/xs5rei4bdhrvsdSsGvfdmQP7VHYUMGqtQsBAqBQqAQ2H8IIBgSj7H4at5YZN9KAAKEfCFkiKXNzDyaVhwWSQFELAAAC8tJREFUhR4xFDzhB3FhcCBO5HpiEm88WQimA7n1HfkJQURm5lIIlDMyy0OdkI8YCkid58gLuVkm9MgeBXoifry1QneQLE8vohMcEC2f6Y+w8VhrI2SR11eYj8dkeuQqcoYI66N6YvwRb4RPuA/vepJ+WAGwRwFJhYc26QTDrVLIorIIr5ATWNORYYJo5t0JypKL+OujPQjItPHXR+0aEwRViAuPNL3ppO7cigLiqoxNxUKAvICM8RGZ5pM5IxTGqpX5ESMDFsi3cWS8aCMY0AeO6jP41NGWvtLTWNvI7XPmk1Af425fhhCguaQ/ZJnfDOUzzjijzVNzCo72OJDpbHXGCsXtb3/79rQl+qlrHjrrp9A9KzAMDvgzsKwcyZO0t0xK3zwm10qQUCoreeZp+gkXB2Ms8yT6wInhacXMGOuLMhJ9l9VjGV0PR5kyFA4HytVGIVAIFAKFQCEwgUBIAyJmA6yn1jAGPH1GyARvt3Ag+Z6eIpwCqbPpGKFxICgSks1jfM1rXrMZHSEu2djJG8vDz4MvdMMKBJKKOLtmAyoiRKYU3dqXq/70hgLvvhAW+pKLNElIMJlCQZBdZDI6ymdQ6Btietppp7UVAH1EppBZBNtTbHiI7VNAsunGMNA/RBAp5FWmo4NBxTgQxgND5FodBBNZRTLVk48II3lJ9jnwACPtiLLPVig8eQhJDbmbwoMM15VxMLh4nT2dR3iUM3nkIMTKOMODASGchU6MROMHF2OvfzYlI/VIP8KsHeQVNgi/FRXXo4Nxs5JjVQFRtnJCJgysshgrMj3WlBwec8m4CTeSb34xdMihi8O8o4NDeBHirY5QIOTZWFvtynyySsRgs7FZ23NJf4IJfDy9CLGGGWyMm/nAYBRuxGiCVR79m/nvTI75od/Xv/71254KBjUjiDEpzY1f8oyNxDAy74Ri2beR92swgIKJs/cpmHNWLGCS3xujlNFjHjJ6/B7I1n6O1tCG/ClDYUMGqtQsBAqBQqAQ2L8IIMq8yjzaPPFCJ3iHkTDEmlcc6eOl5K1EnnuiBBnEDTnySEikSb6EhCE0Z555ZiNcvL288siMw2fhIsiRtpCuuYTohBAhYR4FSleykXWJUYP00d+Tc3ico4t8fUU4EUohMAghMhdDQeiMzbOIIfKqHJ0dviPRiC6jJsSLzjy52oUBA4Xxoo4+MgCsNCC9iGCvT4iyEC2GCDLKGCNL7D3Z2gmRHGOTPGey6KbNGB5wDWYhjGQYL7gLTaJn9HXWZ6FiCDuDDGbq8k4zHpQRVqO9PlkdMfbkGRdjm8+IOwKOvMMg/YIFg4PRyKDK3FDPZ9jB3VOWjJtxNlZWPVxTJm35DHtGHoMn7w/odew/Z/yMP6wZHvpGBiOyl21cGSTCm4K5PtDfd8SdgXjgwIGDL2Cz8pB+9u2OP8NWOcm8pgeDzG/pdre7XQuJog9McsCTAQNvxoI+xIAydxlsVrlgHX2dNy2VobBpI1b6FgKFQCFQCOxbBMTO21AqthlhRcQQMx5wnnCeZwRMqA1y0xMcHnAvXUO0eMTlJZHBELHZFvniLeWVtvkT8bGigJAitIvIjLwQLwaBt0UjQwh4PLdIJ0LJk8677ntIGH14spExRhAvbb9vwkqHFQXhHlYAbOSFhdh1hBU5tsoSPXsCpg39ZFAxCvQtj81kBDCu5E/1D8GDPS+8esg4AoiUpr89nsE1ZzId9GKYIZo88/poXKInGWkfDsYE9gwT7eqzkJlsWGf8KI8Mq2t1xvzg3Uf4E9ISPeiqDuPLHgnYkQm78847r41xVlPIzaG+cbKywJjg2Tc/HAgvo0XYF0JMF+2Yg+ab+SS0Ddb6AGtef+2kr9Fv7pxyvPHmEsPEHgerTtpnHDMEMn4pD5MYCvSxb+Ooo45qvx0G2rj8XPvk6JNkvLygjQHHaDce9Age8HS4Rke/SWFe5j/9jbknRTEk/A7pEPnRe06PdbxehsI6jkrpVAgUAoVAIXBEIYBAIBM8xzyQnkDEG4t0uu5ACn1HwBI2AqSQD9eQPWQSOUmSjwTJ54WXz3vr0I7vQicQnchK3alzyiBodKFvTwq1pR9k0ofuqUOez9FFvrKuqSd8xTsdkKzE7tMxetIfDsr2MiNXW1ZFrGKoo49w9D2EbaoeeeTyQKsnXCThJOPyU5jkWvqhLkOKvnO4KsuwUFbI0lhf/ZDf4wdzeJMbEpy2g4E6cNV+ZBpjc4cuc9j1GOh/5gj86EemcQsePtOd7LTjDGvzYaqdXtfxZ/0kU13GjnYzflbU4BGjIHV9D0YMBXsvPO6XscKoib7ROfUWndMvOsAhegSP/iwvuGqDgcS4EOZntc0YRD/928RUhsImjlrpXAgUAoVAIbDvEEA0kAkECwFy7smF/FybIj6pPyZTrufo5SvXtzMlcxHIaY/MXk91+rwpGclPf5TxmZfcZmYhHTzIjAhEy5Gy2lLfMZXGfVTPsahO8pTbDSbRJzpE11wfn7Wbsv14pK/RK/VSXh3HOKX8nMzkO49TZAevOX1Sry+fsrvBLrpF94xFL1NedO/b9xlJt5pmFcUqDSOGjMiN3lude7l9v+Y+9zpZzbIvgR7CpBhmySd3E1MZCps4aqVzIVAIFAKFwL5EAKlASHg1Q451NOQlpGmKdKiLGKnr8zhFNrnKpI20M1VnLKP/ToeQOeek6Opafz35zsqEeKWM71lRQLRsRuZFRrZ4+5fRs9ep7yPZ+id/KkVn5bSTtubKT8nINXUiR98WyZgbE/Wn6kZ2+pM2+7My6urDbjAY1x3rM9WOOnO69zrOfe5l9vpHZuopB7ussgllE27mqVZCrhJ6p5xjO6nXIRgsOtMtbdhgL5zOuxOEIUnJ244O61S2DIV1Go3SpRAoBAqBQuCIRwCx6I8ekK1IR+r1dfrPyZ869+WW/dzLGddJ3vh6vstH9hwSwsU4uOlNb9rCN7y0KqEyIanqLJPSdn/eSb1l6kyV2U67fdn+85Rc11JmLr8vk7I5L6qTvJQdn5Pfn8dl8r0vs93PkTE+R47rmTcMBMTcJnRP38q7G4RDpZzzdtO47a2+Rz7DRYiWPS+Mi520HVnrci5DYV1GovQoBAqBQqAQKASOMARCwHQb+bNh29NlvGnX5uJ4a/cD4TrChnZl3TVPYjjy2tu4beOxpyLZhGwDupA16XDPG+3RjY6Hu+1VAV6GwqqQLbmFQCFQCBQChUAhsCUCIVTONoYKP/IUGRtYES4pZbYUVgX2PQLmQuaFzcJequYJWx4BbP4g6nuV6JUwqei4V7ocqnbLUDhUSJacQqAQKAQKgUKgENgVAkhe9iXsJeHbVSeq8mFDACnPE7Y8BWodvPkMmf1k2JahcNimczVUCBQChUAhUAgUAosQiLd4v5GtRX2uvJ0jkHnCe+/I951LrJpjBMpQGCNS3wuBQqAQKAQKgUJgTxBA9NbBK7wnna9Gt42A+dKH+/he6dAiUIbCocWzpBUChUAhUAgUAoXALhAosrcL8I7QquZMzZvVDH4ZCqvBtaQWAoVAIVAIFAKFQCFQCBQCG41AGQobPXylfCFQCBQChUAhUAgUAoVAIbAaBMpQWA2uJbUQKAQKgUKgECgECoFCoBDYaATKUNjo4SvlC4FCoBAoBAqBQqAQKAQKgdUgUIbCanAtqYVAIVAIFAKFQCFQCBQChcBGI1CGwkYPXylfCBQChUAhUAgUAoVAIVAIrAaBMhRWg2tJLQQKgUKgECgECoFCoBAoBDYagTIUNnr4SvlCoBAoBAqBQqAQKAQKgUJgNQiUobAaXEtqIVAIFAKFQCFQCBQChUAhsNEIlKGw0cNXyhcChUAhUAgUAoVAIVAIFAKrQaAMhdXgWlILgUKgECgECoFCoBAoBAqBjUagDIWNHr5SvhAoBAqBQqAQKAQKgUKgEFgNAmUorAbXkloIFAKFQCFQCBQChUAhUAhsNAJlKGz08JXyhUAhUAgUAoVAIVAIFAKFwGoQKENhNbiW1EKgECgECoFCoBAoBAqBQmCjEfg/GrlQNv2DzqIAAAAASUVORK5CYII=)"
      ]
    },
    {
      "cell_type": "markdown",
      "metadata": {
        "id": "kPSYtcw3yzRc"
      },
      "source": [
        "####Example"
      ]
    },
    {
      "cell_type": "code",
      "metadata": {
        "id": "uXg3eJdWVlAN"
      },
      "source": [
        "def grading(score):\n",
        "    if score >= 80:\n",
        "       grade = 'A'\n",
        "    elif i >= 75:\n",
        "       grade = 'B+'\n",
        "    elif i >= 70:\n",
        "       grade = 'B'\n",
        "    elif i >= 65:\n",
        "       grade = 'C+'\n",
        "    elif i >= 60:\n",
        "       grade = 'C'\n",
        "    elif i >= 55:\n",
        "       grade = 'D+'\n",
        "    elif i >= 50:\n",
        "       grade = 'D'\n",
        "    else:\n",
        "       grade = 'F'\n",
        "\n",
        "    return grade"
      ],
      "execution_count": 23,
      "outputs": []
    },
    {
      "cell_type": "code",
      "metadata": {
        "colab": {
          "base_uri": "https://localhost:8080/"
        },
        "id": "B2TW4wpM0iZ-",
        "outputId": "2c0868eb-f367-461a-8327-00ee3493852d"
      },
      "source": [
        "score = [49,65,70,95,82,55,89,20,77,77,81,59,10]\n",
        "for i in score:\n",
        "      print(f'คะแนน{i} ได้เกรด {grading(i)}')"
      ],
      "execution_count": 25,
      "outputs": [
        {
          "output_type": "stream",
          "text": [
            "คะแนน49 ได้เกรด F\n",
            "คะแนน65 ได้เกรด C+\n",
            "คะแนน70 ได้เกรด B\n",
            "คะแนน95 ได้เกรด A\n",
            "คะแนน82 ได้เกรด A\n",
            "คะแนน55 ได้เกรด D+\n",
            "คะแนน89 ได้เกรด A\n",
            "คะแนน20 ได้เกรด F\n",
            "คะแนน77 ได้เกรด B+\n",
            "คะแนน77 ได้เกรด B+\n",
            "คะแนน81 ได้เกรด A\n",
            "คะแนน59 ได้เกรด D+\n",
            "คะแนน10 ได้เกรด F\n"
          ],
          "name": "stdout"
        }
      ]
    },
    {
      "cell_type": "code",
      "metadata": {
        "id": "5Ssf7Anu2x2Z"
      },
      "source": [
        "def grading_list(list_score):\n",
        "    grade_list = [] \n",
        "    for score in list_score:\n",
        "        if score >= 80:\n",
        "             grade = 'A'\n",
        "        elif score >= 75:\n",
        "                grade = 'B+'\n",
        "        elif score >= 70:\n",
        "             grade = 'B'\n",
        "        elif score >= 65:\n",
        "              grade = 'C+'\n",
        "        elif score >= 60:\n",
        "             grade = 'C'\n",
        "        elif score >= 55:\n",
        "             grade = 'D+'\n",
        "        elif score >= 50:\n",
        "            grade = 'D'\n",
        "        else:\n",
        "            grade = 'F'\n",
        "        grade_list.append([score,grade])\n",
        "    return grade_list"
      ],
      "execution_count": 37,
      "outputs": []
    },
    {
      "cell_type": "code",
      "metadata": {
        "colab": {
          "base_uri": "https://localhost:8080/"
        },
        "id": "aEuTFe403PQx",
        "outputId": "f18df775-5646-45f4-d0f9-0f423a8cc987"
      },
      "source": [
        "g = grading_list(score)\n",
        "g"
      ],
      "execution_count": 38,
      "outputs": [
        {
          "output_type": "execute_result",
          "data": {
            "text/plain": [
              "[[49, 'F'],\n",
              " [65, 'C+'],\n",
              " [70, 'B'],\n",
              " [95, 'A'],\n",
              " [82, 'A'],\n",
              " [55, 'D+'],\n",
              " [89, 'A'],\n",
              " [20, 'F'],\n",
              " [77, 'B+'],\n",
              " [77, 'B+'],\n",
              " [81, 'A'],\n",
              " [59, 'D+'],\n",
              " [10, 'F']]"
            ]
          },
          "metadata": {
            "tags": []
          },
          "execution_count": 38
        }
      ]
    },
    {
      "cell_type": "code",
      "metadata": {
        "colab": {
          "base_uri": "https://localhost:8080/"
        },
        "id": "WFouRixDAbun",
        "outputId": "175bd8b2-1b2d-48f6-fd50-32e3bf602628"
      },
      "source": [
        "for i in g:\n",
        "    print(f'คะแนน {i[0]} ได้เกรด {i[1]}')"
      ],
      "execution_count": 47,
      "outputs": [
        {
          "output_type": "stream",
          "text": [
            "คะแนน 49 ได้เกรด F\n",
            "คะแนน 65 ได้เกรด C+\n",
            "คะแนน 70 ได้เกรด B\n",
            "คะแนน 95 ได้เกรด A\n",
            "คะแนน 82 ได้เกรด A\n",
            "คะแนน 55 ได้เกรด D+\n",
            "คะแนน 89 ได้เกรด A\n",
            "คะแนน 20 ได้เกรด F\n",
            "คะแนน 77 ได้เกรด B+\n",
            "คะแนน 77 ได้เกรด B+\n",
            "คะแนน 81 ได้เกรด A\n",
            "คะแนน 59 ได้เกรด D+\n",
            "คะแนน 10 ได้เกรด F\n"
          ],
          "name": "stdout"
        }
      ]
    },
    {
      "cell_type": "code",
      "metadata": {
        "id": "kXATjL3U7U7_"
      },
      "source": [
        "def grading2(score):\n",
        "    if score >= 80:\n",
        "       return  'A'\n",
        "    elif i >= 75:\n",
        "       return  'B+'\n",
        "    elif i >= 70:\n",
        "       return  'B'\n",
        "    elif i >= 65:\n",
        "       return  'C+'\n",
        "    elif i >= 60:\n",
        "       return  'C'\n",
        "    elif i >= 55:\n",
        "       return  'D+'\n",
        "    elif i >= 50:\n",
        "       return  'D'\n",
        "    else:\n",
        "       return  'F'\n",
        "\n"
      ],
      "execution_count": 41,
      "outputs": []
    },
    {
      "cell_type": "code",
      "metadata": {
        "colab": {
          "base_uri": "https://localhost:8080/"
        },
        "id": "MMAsKtdS78TS",
        "outputId": "d72aa7fd-35e6-4a99-ad7d-89e216ff1c0d"
      },
      "source": [
        "score = [49,65,70,95,82,55,89,20,77,77,81,59,10]\n",
        "for i in score:\n",
        "      print(f'คะแนน{i} ได้เกรด {grading2(i)}')"
      ],
      "execution_count": 42,
      "outputs": [
        {
          "output_type": "stream",
          "text": [
            "คะแนน49 ได้เกรด F\n",
            "คะแนน65 ได้เกรด C+\n",
            "คะแนน70 ได้เกรด B\n",
            "คะแนน95 ได้เกรด A\n",
            "คะแนน82 ได้เกรด A\n",
            "คะแนน55 ได้เกรด D+\n",
            "คะแนน89 ได้เกรด A\n",
            "คะแนน20 ได้เกรด F\n",
            "คะแนน77 ได้เกรด B+\n",
            "คะแนน77 ได้เกรด B+\n",
            "คะแนน81 ได้เกรด A\n",
            "คะแนน59 ได้เกรด D+\n",
            "คะแนน10 ได้เกรด F\n"
          ],
          "name": "stdout"
        }
      ]
    },
    {
      "cell_type": "markdown",
      "metadata": {
        "id": "NcPGgeoQ8_U4"
      },
      "source": [
        "Example 2 (ไม่มี input)"
      ]
    },
    {
      "cell_type": "code",
      "metadata": {
        "id": "4_Q4aIXM9F7P"
      },
      "source": [
        "def mypi():\n",
        "    return 3.14"
      ],
      "execution_count": 43,
      "outputs": []
    },
    {
      "cell_type": "code",
      "metadata": {
        "colab": {
          "base_uri": "https://localhost:8080/"
        },
        "id": "_KNgQ9EX9OP3",
        "outputId": "6491350d-e6d9-483c-fd0e-a9176025e208"
      },
      "source": [
        "r=10\n",
        "print(f'รัศมี={r} จะมีเส้นรอบวง={2*mypi()*r}')"
      ],
      "execution_count": 45,
      "outputs": [
        {
          "output_type": "stream",
          "text": [
            "รัศมี=10 จะมีเส้นรอบวง=62.800000000000004\n"
          ],
          "name": "stdout"
        }
      ]
    },
    {
      "cell_type": "code",
      "metadata": {
        "colab": {
          "base_uri": "https://localhost:8080/"
        },
        "id": "c7JpXtdI9oq5",
        "outputId": "d49027c7-ff48-44df-f70a-7fc4890ddfa3"
      },
      "source": [
        "import math\n",
        "math.pi"
      ],
      "execution_count": 46,
      "outputs": [
        {
          "output_type": "execute_result",
          "data": {
            "text/plain": [
              "3.141592653589793"
            ]
          },
          "metadata": {
            "tags": []
          },
          "execution_count": 46
        }
      ]
    },
    {
      "cell_type": "markdown",
      "metadata": {
        "id": "UzW6Oe_o90an"
      },
      "source": [
        "Example 3 (ไม่มี output)"
      ]
    },
    {
      "cell_type": "code",
      "metadata": {
        "id": "SNQH9Nwa952C"
      },
      "source": [
        ""
      ],
      "execution_count": null,
      "outputs": []
    },
    {
      "cell_type": "markdown",
      "metadata": {
        "id": "GTkbzMTQBJ17"
      },
      "source": [
        "#### ลักษณะของ input(paremeter)\n",
        "\n",
        "\n",
        "* จำเป็นต้องใส่ (non-default argument)\n",
        "* ไม่จำเป็นต้องใส่ (default argument)\n",
        "\n",
        "\n",
        "  "
      ]
    },
    {
      "cell_type": "code",
      "metadata": {
        "id": "fe-NVs9nBZqU"
      },
      "source": [
        "def A (input1, input2 = 3):  #input1ที่จำเป็นคือไม่ใส่ค่ามาให้ input2 คือ 3\n",
        "    return input1+input2\n",
        "\n",
        "    #inputไม่มีค่าคือจำเป็นต้องใส่"
      ],
      "execution_count": 51,
      "outputs": []
    },
    {
      "cell_type": "code",
      "metadata": {
        "colab": {
          "base_uri": "https://localhost:8080/"
        },
        "id": "695t0SFPBy3U",
        "outputId": "bdc44171-ae88-4250-e5c0-0146946f82e6"
      },
      "source": [
        "A(1)"
      ],
      "execution_count": 52,
      "outputs": [
        {
          "output_type": "execute_result",
          "data": {
            "text/plain": [
              "4"
            ]
          },
          "metadata": {
            "tags": []
          },
          "execution_count": 52
        }
      ]
    },
    {
      "cell_type": "code",
      "metadata": {
        "colab": {
          "base_uri": "https://localhost:8080/"
        },
        "id": "s4YEbf6lB72K",
        "outputId": "66a402a0-f8e9-4255-a23e-325f29aaa24a"
      },
      "source": [
        "A(1,6) #input1 =1 , input2 = 6 แล้วเอามาบวกกัน"
      ],
      "execution_count": 54,
      "outputs": [
        {
          "output_type": "execute_result",
          "data": {
            "text/plain": [
              "7"
            ]
          },
          "metadata": {
            "tags": []
          },
          "execution_count": 54
        }
      ]
    },
    {
      "cell_type": "code",
      "metadata": {
        "colab": {
          "base_uri": "https://localhost:8080/",
          "height": 166
        },
        "id": "xpCX3Sf6C5xG",
        "outputId": "9fd9cb4c-0d09-4bff-95d3-2f7654aff02a"
      },
      "source": [
        "A()"
      ],
      "execution_count": 55,
      "outputs": [
        {
          "output_type": "error",
          "ename": "TypeError",
          "evalue": "ignored",
          "traceback": [
            "\u001b[0;31m---------------------------------------------------------------------------\u001b[0m",
            "\u001b[0;31mTypeError\u001b[0m                                 Traceback (most recent call last)",
            "\u001b[0;32m<ipython-input-55-6234893e030b>\u001b[0m in \u001b[0;36m<module>\u001b[0;34m()\u001b[0m\n\u001b[0;32m----> 1\u001b[0;31m \u001b[0mA\u001b[0m\u001b[0;34m(\u001b[0m\u001b[0;34m)\u001b[0m\u001b[0;34m\u001b[0m\u001b[0;34m\u001b[0m\u001b[0m\n\u001b[0m",
            "\u001b[0;31mTypeError\u001b[0m: A() missing 1 required positional argument: 'input1'"
          ]
        }
      ]
    },
    {
      "cell_type": "code",
      "metadata": {
        "id": "xBXySz-wC8Jt"
      },
      "source": [
        "def printlove(input1, input2 = 'Stat', input3 = 'KKU'):\n",
        "    print(f'{input1} love {input2} {input3}')"
      ],
      "execution_count": 63,
      "outputs": []
    },
    {
      "cell_type": "code",
      "metadata": {
        "colab": {
          "base_uri": "https://localhost:8080/"
        },
        "id": "u7w3nyZlDUUz",
        "outputId": "d074856b-c345-442c-eef0-bdb2e69da452"
      },
      "source": [
        "printlove('Watcharaporn')"
      ],
      "execution_count": 68,
      "outputs": [
        {
          "output_type": "stream",
          "text": [
            "Watcharaporn love Stat KKU\n"
          ],
          "name": "stdout"
        }
      ]
    },
    {
      "cell_type": "code",
      "metadata": {
        "colab": {
          "base_uri": "https://localhost:8080/"
        },
        "id": "Yr2E5uWUDfLY",
        "outputId": "93205fb6-dad4-4e68-ad46-759216142310"
      },
      "source": [
        "printlove('Watcharaporn','SI','Stat')"
      ],
      "execution_count": 69,
      "outputs": [
        {
          "output_type": "stream",
          "text": [
            "Watcharaporn love SI Stat\n"
          ],
          "name": "stdout"
        }
      ]
    },
    {
      "cell_type": "code",
      "metadata": {
        "colab": {
          "base_uri": "https://localhost:8080/"
        },
        "id": "AKbZDEvKD9Ga",
        "outputId": "642db46b-7fab-4871-de04-051bab0858f9"
      },
      "source": [
        "printlove(input3 = 'Watcharaporn',input2 = 'SI',input1 = 'Stat')"
      ],
      "execution_count": 70,
      "outputs": [
        {
          "output_type": "stream",
          "text": [
            "Stat love SI Watcharaporn\n"
          ],
          "name": "stdout"
        }
      ]
    },
    {
      "cell_type": "code",
      "metadata": {
        "colab": {
          "base_uri": "https://localhost:8080/",
          "height": 131
        },
        "id": "y_gAoQwSEc2s",
        "outputId": "062d439d-9816-430a-9309-57381b1d1dea"
      },
      "source": [
        "def printlove(input2 = 'Stat', input1, input3 = 'KKU'):\n",
        "    print(f'{input1} love {input2} {input3}')"
      ],
      "execution_count": 67,
      "outputs": [
        {
          "output_type": "error",
          "ename": "SyntaxError",
          "evalue": "ignored",
          "traceback": [
            "\u001b[0;36m  File \u001b[0;32m\"<ipython-input-67-c61932165c07>\"\u001b[0;36m, line \u001b[0;32m1\u001b[0m\n\u001b[0;31m    def printlove(input2 = 'Stat', input1, input3 = 'KKU'):\u001b[0m\n\u001b[0m                 ^\u001b[0m\n\u001b[0;31mSyntaxError\u001b[0m\u001b[0;31m:\u001b[0m non-default argument follows default argument\n"
          ]
        }
      ]
    },
    {
      "cell_type": "markdown",
      "metadata": {
        "id": "-cDb4UbCFEGN"
      },
      "source": [
        "##### Quiz2\n",
        "สร้างฟังก์ชั่น\n",
        "\n",
        "\n",
        "\n",
        "*   วาดรูปบ้าน\n",
        "*   วาดต้นไม้\n",
        "\n"
      ]
    },
    {
      "cell_type": "code",
      "metadata": {
        "id": "mM4ApKVkFD2F"
      },
      "source": [
        "def draw_house():\n",
        "    print('     / \\      ')\n",
        "    print('    /   \\     ')\n",
        "    print('   /     \\    ')\n",
        "    print('  /       \\   ')\n",
        "    print('____________')\n",
        "    print('|           |')\n",
        "    print('|           |')\n",
        "    print('-------------')"
      ],
      "execution_count": 79,
      "outputs": []
    },
    {
      "cell_type": "code",
      "metadata": {
        "colab": {
          "base_uri": "https://localhost:8080/"
        },
        "id": "Nz2W0NoPIL_x",
        "outputId": "88380a8f-71e7-4e30-d57b-7ecc47e3cbc5"
      },
      "source": [
        "draw_house()"
      ],
      "execution_count": 80,
      "outputs": [
        {
          "output_type": "stream",
          "text": [
            "     / \\      \n",
            "    /   \\     \n",
            "   /     \\    \n",
            "  /       \\   \n",
            "____________\n",
            "|           |\n",
            "|           |\n",
            "-------------\n"
          ],
          "name": "stdout"
        }
      ]
    },
    {
      "cell_type": "code",
      "metadata": {
        "id": "QyE9p07aJ-72"
      },
      "source": [
        ""
      ],
      "execution_count": null,
      "outputs": []
    }
  ]
}