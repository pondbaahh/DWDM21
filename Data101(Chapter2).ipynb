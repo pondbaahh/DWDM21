{
  "nbformat": 4,
  "nbformat_minor": 0,
  "metadata": {
    "colab": {
      "name": "Data101(Chapter2).ipynb",
      "provenance": [],
      "authorship_tag": "ABX9TyPCeU+vghTQGXLMo/KpPkUq",
      "include_colab_link": true
    },
    "kernelspec": {
      "name": "python3",
      "display_name": "Python 3"
    },
    "language_info": {
      "name": "python"
    }
  },
  "cells": [
    {
      "cell_type": "markdown",
      "metadata": {
        "id": "view-in-github",
        "colab_type": "text"
      },
      "source": [
        "<a href=\"https://colab.research.google.com/github/pondbaahh/DWDM21/blob/main/Data101(Chapter2).ipynb\" target=\"_parent\"><img src=\"https://colab.research.google.com/assets/colab-badge.svg\" alt=\"Open In Colab\"/></a>"
      ]
    },
    {
      "cell_type": "markdown",
      "metadata": {
        "id": "bQtDlVMJz1gW"
      },
      "source": [
        "ข้อความที่อยู่ใน textbox จะเป็นภาษา Markdown"
      ]
    },
    {
      "cell_type": "markdown",
      "metadata": {
        "id": "mNsEZ-Fbtrve"
      },
      "source": [
        "ข้อดีหนึ่งของ Python คือมี package สำหรับทำงานต่างๆมากมาย \n",
        "\n",
        "ซึ่ง pandas เป็น package สำหรับการทำงนชานกับข้อมูลที่อยู่ในรูปแบบตาราง\n",
        "\n",
        "โดย pandas จะเรียกตารางนั้นว่า dataframe"
      ]
    },
    {
      "cell_type": "code",
      "metadata": {
        "id": "2N3mSVEzsPTE"
      },
      "source": [
        "import pandas  #วิธีเรียกใช้ package คือ import ตามด้วยชื่อ package"
      ],
      "execution_count": 1,
      "outputs": []
    },
    {
      "cell_type": "code",
      "metadata": {
        "id": "rODx9-VmtFRE"
      },
      "source": [
        "import pandas as pd #เหมือนกับข้างบน แต่ว่า ตั้งชื่อให้ package ที่โหลดมาใหม่ว่า pd"
      ],
      "execution_count": 2,
      "outputs": []
    },
    {
      "cell_type": "markdown",
      "metadata": {
        "id": "8xoUoLI9uvDM"
      },
      "source": [
        "ไฟล์ .csv (csv = comma separated values) เป็นไฟล์หลักที่ใช้กันในวิชานี้"
      ]
    },
    {
      "cell_type": "code",
      "metadata": {
        "id": "Sep5UuLyue-e"
      },
      "source": [
        "data_df = pd.read_csv('data.csv')"
      ],
      "execution_count": 3,
      "outputs": []
    },
    {
      "cell_type": "code",
      "metadata": {
        "colab": {
          "base_uri": "https://localhost:8080/",
          "height": 143
        },
        "id": "uWDR0Fj9xS9J",
        "outputId": "4d4ef531-b9fd-401b-e1be-e521df483ac9"
      },
      "source": [
        "data_df"
      ],
      "execution_count": 4,
      "outputs": [
        {
          "output_type": "execute_result",
          "data": {
            "text/html": [
              "<div>\n",
              "<style scoped>\n",
              "    .dataframe tbody tr th:only-of-type {\n",
              "        vertical-align: middle;\n",
              "    }\n",
              "\n",
              "    .dataframe tbody tr th {\n",
              "        vertical-align: top;\n",
              "    }\n",
              "\n",
              "    .dataframe thead th {\n",
              "        text-align: right;\n",
              "    }\n",
              "</style>\n",
              "<table border=\"1\" class=\"dataframe\">\n",
              "  <thead>\n",
              "    <tr style=\"text-align: right;\">\n",
              "      <th></th>\n",
              "      <th>name</th>\n",
              "      <th>age</th>\n",
              "      <th>city</th>\n",
              "    </tr>\n",
              "  </thead>\n",
              "  <tbody>\n",
              "    <tr>\n",
              "      <th>0</th>\n",
              "      <td>Tom</td>\n",
              "      <td>27</td>\n",
              "      <td>Khon Kaen</td>\n",
              "    </tr>\n",
              "    <tr>\n",
              "      <th>1</th>\n",
              "      <td>Paul</td>\n",
              "      <td>15</td>\n",
              "      <td>Bangkook</td>\n",
              "    </tr>\n",
              "    <tr>\n",
              "      <th>2</th>\n",
              "      <td>Sarah</td>\n",
              "      <td>49</td>\n",
              "      <td>London</td>\n",
              "    </tr>\n",
              "  </tbody>\n",
              "</table>\n",
              "</div>"
            ],
            "text/plain": [
              "    name  age       city\n",
              "0    Tom   27  Khon Kaen\n",
              "1   Paul   15   Bangkook\n",
              "2  Sarah   49     London"
            ]
          },
          "metadata": {
            "tags": []
          },
          "execution_count": 4
        }
      ]
    },
    {
      "cell_type": "code",
      "metadata": {
        "colab": {
          "base_uri": "https://localhost:8080/",
          "height": 143
        },
        "id": "WIEVNGEiyGcn",
        "outputId": "36d3d024-bcd2-497c-fd69-8c75bc5b41fe"
      },
      "source": [
        "data_df = pd.read_csv('data.csv')\n",
        "data_df"
      ],
      "execution_count": 5,
      "outputs": [
        {
          "output_type": "execute_result",
          "data": {
            "text/html": [
              "<div>\n",
              "<style scoped>\n",
              "    .dataframe tbody tr th:only-of-type {\n",
              "        vertical-align: middle;\n",
              "    }\n",
              "\n",
              "    .dataframe tbody tr th {\n",
              "        vertical-align: top;\n",
              "    }\n",
              "\n",
              "    .dataframe thead th {\n",
              "        text-align: right;\n",
              "    }\n",
              "</style>\n",
              "<table border=\"1\" class=\"dataframe\">\n",
              "  <thead>\n",
              "    <tr style=\"text-align: right;\">\n",
              "      <th></th>\n",
              "      <th>name</th>\n",
              "      <th>age</th>\n",
              "      <th>city</th>\n",
              "    </tr>\n",
              "  </thead>\n",
              "  <tbody>\n",
              "    <tr>\n",
              "      <th>0</th>\n",
              "      <td>Tom</td>\n",
              "      <td>27</td>\n",
              "      <td>Khon Kaen</td>\n",
              "    </tr>\n",
              "    <tr>\n",
              "      <th>1</th>\n",
              "      <td>Paul</td>\n",
              "      <td>15</td>\n",
              "      <td>Bangkook</td>\n",
              "    </tr>\n",
              "    <tr>\n",
              "      <th>2</th>\n",
              "      <td>Sarah</td>\n",
              "      <td>49</td>\n",
              "      <td>London</td>\n",
              "    </tr>\n",
              "  </tbody>\n",
              "</table>\n",
              "</div>"
            ],
            "text/plain": [
              "    name  age       city\n",
              "0    Tom   27  Khon Kaen\n",
              "1   Paul   15   Bangkook\n",
              "2  Sarah   49     London"
            ]
          },
          "metadata": {
            "tags": []
          },
          "execution_count": 5
        }
      ]
    },
    {
      "cell_type": "markdown",
      "metadata": {
        "id": "Q03Elftxzj-V"
      },
      "source": [
        "# Basic Python\n",
        "## Variables"
      ]
    },
    {
      "cell_type": "markdown",
      "metadata": {
        "id": "orC-Cs5C1m8u"
      },
      "source": [
        "ข้อกำหนดในการตั้งชื่อ\n",
        "\n",
        "1. ชื่อห้ามมีเว้นวรรค\n",
        "2. ใช้พยายามภาษาอังกฤษ\n",
        "3. ตัวเล็กกับตัวใหญ่เเตกต่างกัน(case sensitive)\n",
        "4. ห้ามใช้ตัวเลขเป็นตัวหน้า\n"
      ]
    },
    {
      "cell_type": "code",
      "metadata": {
        "id": "M4udQwpoyb-C"
      },
      "source": [
        "variable_a = 12 \n",
        "variable_b = 'abcde' # ' ตัวนี้เรียกว่า quote\n",
        "variable_c = variable_a "
      ],
      "execution_count": 6,
      "outputs": []
    },
    {
      "cell_type": "code",
      "metadata": {
        "colab": {
          "base_uri": "https://localhost:8080/"
        },
        "id": "lDvryD8N1OWz",
        "outputId": "10311379-7198-4b00-bf12-9131050ac674"
      },
      "source": [
        "variable_a"
      ],
      "execution_count": 7,
      "outputs": [
        {
          "output_type": "execute_result",
          "data": {
            "text/plain": [
              "12"
            ]
          },
          "metadata": {
            "tags": []
          },
          "execution_count": 7
        }
      ]
    },
    {
      "cell_type": "code",
      "metadata": {
        "colab": {
          "base_uri": "https://localhost:8080/",
          "height": 35
        },
        "id": "zumlp2Jv1SBC",
        "outputId": "d694401d-c3b7-4689-a6e3-336fb01ed8ee"
      },
      "source": [
        "variable_b"
      ],
      "execution_count": 8,
      "outputs": [
        {
          "output_type": "execute_result",
          "data": {
            "application/vnd.google.colaboratory.intrinsic+json": {
              "type": "string"
            },
            "text/plain": [
              "'abcde'"
            ]
          },
          "metadata": {
            "tags": []
          },
          "execution_count": 8
        }
      ]
    },
    {
      "cell_type": "code",
      "metadata": {
        "colab": {
          "base_uri": "https://localhost:8080/"
        },
        "id": "VRUrdfJJ1UCz",
        "outputId": "b9e2627b-ab42-4918-888b-58906c744e92"
      },
      "source": [
        "variable_c"
      ],
      "execution_count": 9,
      "outputs": [
        {
          "output_type": "execute_result",
          "data": {
            "text/plain": [
              "12"
            ]
          },
          "metadata": {
            "tags": []
          },
          "execution_count": 9
        }
      ]
    },
    {
      "cell_type": "code",
      "metadata": {
        "colab": {
          "base_uri": "https://localhost:8080/",
          "height": 131
        },
        "id": "CjFPSeS_2FXZ",
        "outputId": "c7828a30-d15c-4d7a-b12a-65350c5c367f"
      },
      "source": [
        "variable a = 6  #ชื่อห้ามวรรค"
      ],
      "execution_count": 12,
      "outputs": [
        {
          "output_type": "error",
          "ename": "SyntaxError",
          "evalue": "ignored",
          "traceback": [
            "\u001b[0;36m  File \u001b[0;32m\"<ipython-input-12-d127d37c2a6a>\"\u001b[0;36m, line \u001b[0;32m1\u001b[0m\n\u001b[0;31m    variable a = 6  #ชื่อห้ามวรรค\u001b[0m\n\u001b[0m             ^\u001b[0m\n\u001b[0;31mSyntaxError\u001b[0m\u001b[0;31m:\u001b[0m invalid syntax\n"
          ]
        }
      ]
    },
    {
      "cell_type": "code",
      "metadata": {
        "colab": {
          "base_uri": "https://localhost:8080/"
        },
        "id": "BRY4rAAu2MMX",
        "outputId": "15cf236a-ba69-48df-f657-0590635736d4"
      },
      "source": [
        "#พยายามใช้ภาษาอังกฤษ \n",
        "# colab ใช้ชื่อภาษาไทยเป็นตัวแปรได้ แต่ไม่ควรใช้\n",
        "ตัวแปร = 3  \n",
        "ตัวแปร"
      ],
      "execution_count": 11,
      "outputs": [
        {
          "output_type": "execute_result",
          "data": {
            "text/plain": [
              "3"
            ]
          },
          "metadata": {
            "tags": []
          },
          "execution_count": 11
        }
      ]
    },
    {
      "cell_type": "code",
      "metadata": {
        "colab": {
          "base_uri": "https://localhost:8080/"
        },
        "id": "z7KiPjsu2yc0",
        "outputId": "2dc088e4-e262-4abb-aeaf-cb275f86fecf"
      },
      "source": [
        "#ตัวเล็กกับตัวใหญ่เเตกต่างกัน(case sensitive)\n",
        "v_a = 1\n",
        "V_a = 2\n",
        "print(v_a)\n",
        "print(V_a)"
      ],
      "execution_count": 13,
      "outputs": [
        {
          "output_type": "stream",
          "text": [
            "1\n",
            "2\n"
          ],
          "name": "stdout"
        }
      ]
    },
    {
      "cell_type": "code",
      "metadata": {
        "colab": {
          "base_uri": "https://localhost:8080/",
          "height": 131
        },
        "id": "I9EMkXuW3oah",
        "outputId": "311f68ce-4134-4622-a3b8-178ada45640b"
      },
      "source": [
        "#ห้ามใช้ตัวเลขเป็นตัวหน้า\n",
        "2 = 1\n"
      ],
      "execution_count": 14,
      "outputs": [
        {
          "output_type": "error",
          "ename": "SyntaxError",
          "evalue": "ignored",
          "traceback": [
            "\u001b[0;36m  File \u001b[0;32m\"<ipython-input-14-2d4ad990ef8c>\"\u001b[0;36m, line \u001b[0;32m2\u001b[0m\n\u001b[0;31m    2 = 1\u001b[0m\n\u001b[0m         ^\u001b[0m\n\u001b[0;31mSyntaxError\u001b[0m\u001b[0;31m:\u001b[0m can't assign to literal\n"
          ]
        }
      ]
    },
    {
      "cell_type": "code",
      "metadata": {
        "id": "XnsMGELp37ZI"
      },
      "source": [
        "variable_a = 12 \n",
        "variable_b = 'abcde' # ' ตัวนี้เรียกว่า quote\n",
        "variable_c = variable_a \n",
        "variable_d = -41.2\n",
        "variable_4 = \"KKU\" # \" เรียกว่า double quote\n",
        " "
      ],
      "execution_count": 15,
      "outputs": []
    },
    {
      "cell_type": "code",
      "metadata": {
        "colab": {
          "base_uri": "https://localhost:8080/"
        },
        "id": "2KMB2e3b4gN4",
        "outputId": "5996cfc1-2ca3-4d45-b3b4-c54eb37e907c"
      },
      "source": [
        "variable_x = variable_c + variable_d\n",
        "print(variable_x)"
      ],
      "execution_count": 16,
      "outputs": [
        {
          "output_type": "stream",
          "text": [
            "-29.200000000000003\n"
          ],
          "name": "stdout"
        }
      ]
    },
    {
      "cell_type": "code",
      "metadata": {
        "colab": {
          "base_uri": "https://localhost:8080/",
          "height": 166
        },
        "id": "IQSoqkHn6UqG",
        "outputId": "f3fb04fe-1ba2-4718-a51a-d691cb64f06e"
      },
      "source": [
        "variable_a + variable_b"
      ],
      "execution_count": 17,
      "outputs": [
        {
          "output_type": "error",
          "ename": "TypeError",
          "evalue": "ignored",
          "traceback": [
            "\u001b[0;31m---------------------------------------------------------------------------\u001b[0m",
            "\u001b[0;31mTypeError\u001b[0m                                 Traceback (most recent call last)",
            "\u001b[0;32m<ipython-input-17-ca279e5cd267>\u001b[0m in \u001b[0;36m<module>\u001b[0;34m()\u001b[0m\n\u001b[0;32m----> 1\u001b[0;31m \u001b[0mvariable_a\u001b[0m \u001b[0;34m+\u001b[0m \u001b[0mvariable_b\u001b[0m\u001b[0;34m\u001b[0m\u001b[0;34m\u001b[0m\u001b[0m\n\u001b[0m",
            "\u001b[0;31mTypeError\u001b[0m: unsupported operand type(s) for +: 'int' and 'str'"
          ]
        }
      ]
    },
    {
      "cell_type": "code",
      "metadata": {
        "colab": {
          "base_uri": "https://localhost:8080/"
        },
        "id": "aD3ROi6z6Z7Q",
        "outputId": "2612bd43-5103-4659-c380-2335677b2a22"
      },
      "source": [
        "print(variable_b + variable_4)"
      ],
      "execution_count": 18,
      "outputs": [
        {
          "output_type": "stream",
          "text": [
            "abcdeKKU\n"
          ],
          "name": "stdout"
        }
      ]
    },
    {
      "cell_type": "markdown",
      "metadata": {
        "id": "0YGrHzZR7IGN"
      },
      "source": [
        "## Casting int() float() str()\n"
      ]
    },
    {
      "cell_type": "code",
      "metadata": {
        "colab": {
          "base_uri": "https://localhost:8080/"
        },
        "id": "JNVQMbaM6xHG",
        "outputId": "c12b1387-d014-4fa6-9daf-db0c16133170"
      },
      "source": [
        "print(variable_x)\n",
        "print(int(variable_x))"
      ],
      "execution_count": 19,
      "outputs": [
        {
          "output_type": "stream",
          "text": [
            "-29.200000000000003\n",
            "-29\n"
          ],
          "name": "stdout"
        }
      ]
    },
    {
      "cell_type": "code",
      "metadata": {
        "colab": {
          "base_uri": "https://localhost:8080/"
        },
        "id": "Ua88K3qM7d06",
        "outputId": "48f41e5d-12ed-4a3d-c49e-f0bc9570ac8e"
      },
      "source": [
        "V_X = str(variable_x)\n",
        "print(V_X)"
      ],
      "execution_count": 20,
      "outputs": [
        {
          "output_type": "stream",
          "text": [
            "-29.200000000000003\n"
          ],
          "name": "stdout"
        }
      ]
    },
    {
      "cell_type": "code",
      "metadata": {
        "colab": {
          "base_uri": "https://localhost:8080/",
          "height": 166
        },
        "id": "4nvGWgYc74OR",
        "outputId": "18084071-4c27-4adf-a98c-4ae311c0c966"
      },
      "source": [
        "V_X + variable_a #ตัวข้างหน้าเป็ฯ str ไม่สามารถเอาตัวเลขมาต่อได้"
      ],
      "execution_count": 21,
      "outputs": [
        {
          "output_type": "error",
          "ename": "TypeError",
          "evalue": "ignored",
          "traceback": [
            "\u001b[0;31m---------------------------------------------------------------------------\u001b[0m",
            "\u001b[0;31mTypeError\u001b[0m                                 Traceback (most recent call last)",
            "\u001b[0;32m<ipython-input-21-99cbe6d9c5ab>\u001b[0m in \u001b[0;36m<module>\u001b[0;34m()\u001b[0m\n\u001b[0;32m----> 1\u001b[0;31m \u001b[0mV_X\u001b[0m \u001b[0;34m+\u001b[0m \u001b[0mvariable_a\u001b[0m \u001b[0;31m#ตัวข้างหน้าเป็ฯ str ไม่สามารถเอาตัวเลขมาต่อได้\u001b[0m\u001b[0;34m\u001b[0m\u001b[0;34m\u001b[0m\u001b[0m\n\u001b[0m",
            "\u001b[0;31mTypeError\u001b[0m: can only concatenate str (not \"int\") to str"
          ]
        }
      ]
    },
    {
      "cell_type": "code",
      "metadata": {
        "colab": {
          "base_uri": "https://localhost:8080/",
          "height": 166
        },
        "id": "Iq3ZnvCa8CrN",
        "outputId": "81d8878d-ea65-4d5e-e11f-c76aff469f4a"
      },
      "source": [
        " variable_a + V_X #ตัวเลขไม่สาารถเอา str มาต่อได้"
      ],
      "execution_count": 22,
      "outputs": [
        {
          "output_type": "error",
          "ename": "TypeError",
          "evalue": "ignored",
          "traceback": [
            "\u001b[0;31m---------------------------------------------------------------------------\u001b[0m",
            "\u001b[0;31mTypeError\u001b[0m                                 Traceback (most recent call last)",
            "\u001b[0;32m<ipython-input-22-31aafb1034da>\u001b[0m in \u001b[0;36m<module>\u001b[0;34m()\u001b[0m\n\u001b[0;32m----> 1\u001b[0;31m \u001b[0mvariable_a\u001b[0m \u001b[0;34m+\u001b[0m \u001b[0mV_X\u001b[0m \u001b[0;31m#ตัวเลขไม่สาารถเอา str มาต่อได้\u001b[0m\u001b[0;34m\u001b[0m\u001b[0;34m\u001b[0m\u001b[0m\n\u001b[0m",
            "\u001b[0;31mTypeError\u001b[0m: unsupported operand type(s) for +: 'int' and 'str'"
          ]
        }
      ]
    },
    {
      "cell_type": "code",
      "metadata": {
        "colab": {
          "base_uri": "https://localhost:8080/",
          "height": 35
        },
        "id": "7dxG9Kd78NLb",
        "outputId": "d6d333cd-9d00-438b-b01e-d5603fc3e44f"
      },
      "source": [
        "V_X   #พิมพ์ชื่อตัวแปรธรรมดา"
      ],
      "execution_count": 23,
      "outputs": [
        {
          "output_type": "execute_result",
          "data": {
            "application/vnd.google.colaboratory.intrinsic+json": {
              "type": "string"
            },
            "text/plain": [
              "'-29.200000000000003'"
            ]
          },
          "metadata": {
            "tags": []
          },
          "execution_count": 23
        }
      ]
    },
    {
      "cell_type": "code",
      "metadata": {
        "colab": {
          "base_uri": "https://localhost:8080/"
        },
        "id": "EFskLToO8ns6",
        "outputId": "2c539a74-ce18-4ec8-8941-67dffc578332"
      },
      "source": [
        "float(V_X)  #เปลี่ยนมาเป็นตัวเลข"
      ],
      "execution_count": 24,
      "outputs": [
        {
          "output_type": "execute_result",
          "data": {
            "text/plain": [
              "-29.200000000000003"
            ]
          },
          "metadata": {
            "tags": []
          },
          "execution_count": 24
        }
      ]
    },
    {
      "cell_type": "markdown",
      "metadata": {
        "id": "__1gtWVE9AF6"
      },
      "source": [
        "## Data Structure\n",
        "### list()"
      ]
    },
    {
      "cell_type": "code",
      "metadata": {
        "id": "3T5IucET8txZ"
      },
      "source": [
        "list_a = [1,2,0.2,'abs']   # [] squara brackets\n",
        "list_b = [2,'xyz',list_a,[1,2,0.0]]"
      ],
      "execution_count": 25,
      "outputs": []
    },
    {
      "cell_type": "code",
      "metadata": {
        "colab": {
          "base_uri": "https://localhost:8080/"
        },
        "id": "0lKPUz3T93oR",
        "outputId": "1c349568-6447-4ded-f56d-e4fc9bf95b98"
      },
      "source": [
        "list_a"
      ],
      "execution_count": 26,
      "outputs": [
        {
          "output_type": "execute_result",
          "data": {
            "text/plain": [
              "[1, 2, 0.2, 'abs']"
            ]
          },
          "metadata": {
            "tags": []
          },
          "execution_count": 26
        }
      ]
    },
    {
      "cell_type": "code",
      "metadata": {
        "colab": {
          "base_uri": "https://localhost:8080/"
        },
        "id": "vYg8bjgT-DJv",
        "outputId": "6e89e8d2-23c2-4906-a9a6-5ef569650cb2"
      },
      "source": [
        "list_b"
      ],
      "execution_count": 27,
      "outputs": [
        {
          "output_type": "execute_result",
          "data": {
            "text/plain": [
              "[2, 'xyz', [1, 2, 0.2, 'abs'], [1, 2, 0.0]]"
            ]
          },
          "metadata": {
            "tags": []
          },
          "execution_count": 27
        }
      ]
    },
    {
      "cell_type": "code",
      "metadata": {
        "colab": {
          "base_uri": "https://localhost:8080/"
        },
        "id": "PsEYQU4r-F20",
        "outputId": "14f0e47d-8601-4164-b5b9-d99834a6e331"
      },
      "source": [
        "len(list_b) #len เพื่อดูว่า list มีกี่ตัว"
      ],
      "execution_count": 28,
      "outputs": [
        {
          "output_type": "execute_result",
          "data": {
            "text/plain": [
              "4"
            ]
          },
          "metadata": {
            "tags": []
          },
          "execution_count": 28
        }
      ]
    },
    {
      "cell_type": "code",
      "metadata": {
        "colab": {
          "base_uri": "https://localhost:8080/"
        },
        "id": "9JqWxoMI-aQB",
        "outputId": "ad77daf6-0513-4316-b9d0-21a5b7809417"
      },
      "source": [
        "list_b[3]"
      ],
      "execution_count": 29,
      "outputs": [
        {
          "output_type": "execute_result",
          "data": {
            "text/plain": [
              "[1, 2, 0.0]"
            ]
          },
          "metadata": {
            "tags": []
          },
          "execution_count": 29
        }
      ]
    },
    {
      "cell_type": "code",
      "metadata": {
        "colab": {
          "base_uri": "https://localhost:8080/"
        },
        "id": "11mIJ7lJ-j9K",
        "outputId": "ee0dc00e-b36a-4e9c-fb30-d857d97cc8b9"
      },
      "source": [
        "list_b[3][1]"
      ],
      "execution_count": 30,
      "outputs": [
        {
          "output_type": "execute_result",
          "data": {
            "text/plain": [
              "2"
            ]
          },
          "metadata": {
            "tags": []
          },
          "execution_count": 30
        }
      ]
    },
    {
      "cell_type": "markdown",
      "metadata": {
        "id": "Mt17K6BW-20-"
      },
      "source": [
        "string คือ list ของตัวหนังสือ"
      ]
    },
    {
      "cell_type": "code",
      "metadata": {
        "id": "j5xk55YS-8uF"
      },
      "source": [
        "a = 'Stat KKU'"
      ],
      "execution_count": 31,
      "outputs": []
    },
    {
      "cell_type": "code",
      "metadata": {
        "colab": {
          "base_uri": "https://localhost:8080/",
          "height": 35
        },
        "id": "q5-0J2Yi_GJC",
        "outputId": "40a0ed01-6066-4b24-9aa7-e5927fb7fdb4"
      },
      "source": [
        "a[4]"
      ],
      "execution_count": 32,
      "outputs": [
        {
          "output_type": "execute_result",
          "data": {
            "application/vnd.google.colaboratory.intrinsic+json": {
              "type": "string"
            },
            "text/plain": [
              "' '"
            ]
          },
          "metadata": {
            "tags": []
          },
          "execution_count": 32
        }
      ]
    },
    {
      "cell_type": "markdown",
      "metadata": {
        "id": "o17SwuFG_k-Q"
      },
      "source": [
        "## วิธีสร้าง list แบบที่ 2"
      ]
    },
    {
      "cell_type": "code",
      "metadata": {
        "id": "kwrVb_Hq_Mbv"
      },
      "source": [
        "list_c = list() #แบบที่1 \n",
        "list_d = [] #แบบที่ 2"
      ],
      "execution_count": 33,
      "outputs": []
    },
    {
      "cell_type": "code",
      "metadata": {
        "id": "NV2H4li7_7vu"
      },
      "source": [
        "list_c"
      ],
      "execution_count": null,
      "outputs": []
    },
    {
      "cell_type": "code",
      "metadata": {
        "colab": {
          "base_uri": "https://localhost:8080/"
        },
        "id": "LjK-Iw1T_-im",
        "outputId": "2acf62ec-84f9-4723-cb52-afdcaea75641"
      },
      "source": [
        "list_d"
      ],
      "execution_count": 35,
      "outputs": [
        {
          "output_type": "execute_result",
          "data": {
            "text/plain": [
              "[]"
            ]
          },
          "metadata": {
            "tags": []
          },
          "execution_count": 35
        }
      ]
    },
    {
      "cell_type": "markdown",
      "metadata": {
        "id": "pgr0BiSSAkm6"
      },
      "source": [
        "เติมค่าลงไปใน list(.append())"
      ]
    },
    {
      "cell_type": "code",
      "metadata": {
        "id": "KM0WFpMLAA-N"
      },
      "source": [
        "list_d.append('a')"
      ],
      "execution_count": 36,
      "outputs": []
    },
    {
      "cell_type": "code",
      "metadata": {
        "id": "3rKXyRutAyJW",
        "colab": {
          "base_uri": "https://localhost:8080/"
        },
        "outputId": "2c9d8972-03bb-452a-f79a-d576e37f003e"
      },
      "source": [
        "list_d"
      ],
      "execution_count": 37,
      "outputs": [
        {
          "output_type": "execute_result",
          "data": {
            "text/plain": [
              "['a']"
            ]
          },
          "metadata": {
            "tags": []
          },
          "execution_count": 37
        }
      ]
    },
    {
      "cell_type": "code",
      "metadata": {
        "id": "LDjDcHqMA1rR"
      },
      "source": [
        "list_d.append('56')"
      ],
      "execution_count": 38,
      "outputs": []
    },
    {
      "cell_type": "code",
      "metadata": {
        "colab": {
          "base_uri": "https://localhost:8080/"
        },
        "id": "7CPuApzZA4q2",
        "outputId": "599d0f30-289d-4368-cc1d-49ed63e770b8"
      },
      "source": [
        "list_d"
      ],
      "execution_count": 39,
      "outputs": [
        {
          "output_type": "execute_result",
          "data": {
            "text/plain": [
              "['a', '56']"
            ]
          },
          "metadata": {
            "tags": []
          },
          "execution_count": 39
        }
      ]
    },
    {
      "cell_type": "markdown",
      "metadata": {
        "id": "BTtHwyczBVtn"
      },
      "source": [
        "การชี้ค่าใน list(indexing)\n",
        "\n",
        "\n",
        "\n",
        "1.   ใช้ลำดับในการชี้\n",
        "2.   ลำดับเริ่มจาก 0\n",
        "3.   สามารถชี้จากข้างหลังได้โดยใช้ negative index\n",
        "\n",
        "\n",
        "\n",
        "\n"
      ]
    },
    {
      "cell_type": "code",
      "metadata": {
        "colab": {
          "base_uri": "https://localhost:8080/"
        },
        "id": "h0VHEJ4mBVZm",
        "outputId": "f0b59e5e-7997-4cc3-b840-16d5affd398e"
      },
      "source": [
        "list_b"
      ],
      "execution_count": 40,
      "outputs": [
        {
          "output_type": "execute_result",
          "data": {
            "text/plain": [
              "[2, 'xyz', [1, 2, 0.2, 'abs'], [1, 2, 0.0]]"
            ]
          },
          "metadata": {
            "tags": []
          },
          "execution_count": 40
        }
      ]
    },
    {
      "cell_type": "code",
      "metadata": {
        "colab": {
          "base_uri": "https://localhost:8080/"
        },
        "id": "g8FUAeDcCB4s",
        "outputId": "ab4a6055-2b42-400a-e1a1-45bc9795c62b"
      },
      "source": [
        "list_b[-1]"
      ],
      "execution_count": 41,
      "outputs": [
        {
          "output_type": "execute_result",
          "data": {
            "text/plain": [
              "[1, 2, 0.0]"
            ]
          },
          "metadata": {
            "tags": []
          },
          "execution_count": 41
        }
      ]
    },
    {
      "cell_type": "markdown",
      "metadata": {
        "id": "8S00OmFACQij"
      },
      "source": [
        "####list slicing\n",
        "\n",
        "สามารถเฉือนหรือเลือกบางส่วนของ list ออกมาได้"
      ]
    },
    {
      "cell_type": "code",
      "metadata": {
        "id": "xzxMi6s8CFI2"
      },
      "source": [
        "list_ex = [1,2,3,5,6,8,-1,20,50,0]"
      ],
      "execution_count": 44,
      "outputs": []
    },
    {
      "cell_type": "markdown",
      "metadata": {
        "id": "DkpaRUnVC-lb"
      },
      "source": [
        "เราจะจัด list โดยเอาตั้งเเต่ [ตัวหน้า:ตัวก่อนตัวหลัง]  \n",
        "ถ้าเป็นสัญลักษณ์คณิตศาสตร์[ตัวหน้า,ตัวหลัง] -> [ตัวหน้า,ตัวหลัง]"
      ]
    },
    {
      "cell_type": "code",
      "metadata": {
        "colab": {
          "base_uri": "https://localhost:8080/"
        },
        "id": "t5iJOZmyCoaE",
        "outputId": "7a7605ac-92f9-4bcc-9af9-a32d6bd873c7"
      },
      "source": [
        "list_ex[1:6]  #ตัด list โดยเอาตั้งแต่ [ตัวหน้า:ตัวก่อนตัวหลัง]"
      ],
      "execution_count": 45,
      "outputs": [
        {
          "output_type": "execute_result",
          "data": {
            "text/plain": [
              "[2, 3, 5, 6, 8]"
            ]
          },
          "metadata": {
            "tags": []
          },
          "execution_count": 45
        }
      ]
    },
    {
      "cell_type": "code",
      "metadata": {
        "colab": {
          "base_uri": "https://localhost:8080/"
        },
        "id": "tPm0TxSNC5ir",
        "outputId": "56b71753-de17-4f15-f37f-eaf767e8be0d"
      },
      "source": [
        "list_ex[4:]  #เอาตั้งแต่ตัวที่ 4 ไปถึงตัวสุดท้าย"
      ],
      "execution_count": 46,
      "outputs": [
        {
          "output_type": "execute_result",
          "data": {
            "text/plain": [
              "[6, 8, -1, 20, 50, 0]"
            ]
          },
          "metadata": {
            "tags": []
          },
          "execution_count": 46
        }
      ]
    },
    {
      "cell_type": "code",
      "metadata": {
        "colab": {
          "base_uri": "https://localhost:8080/"
        },
        "id": "ClJDODKxDiut",
        "outputId": "908861f3-2096-4b47-999e-1a17f991ec04"
      },
      "source": [
        "list_ex[:6]  #เอาตั้งแต่ตัวแรกไปถึงก่อนตัววที่ 6"
      ],
      "execution_count": 47,
      "outputs": [
        {
          "output_type": "execute_result",
          "data": {
            "text/plain": [
              "[1, 2, 3, 5, 6, 8]"
            ]
          },
          "metadata": {
            "tags": []
          },
          "execution_count": 47
        }
      ]
    },
    {
      "cell_type": "markdown",
      "metadata": {
        "id": "WRR94OtiEUQ1"
      },
      "source": [
        "[จุดเริ่มต้น:จุดสุดท้าย:step]"
      ]
    },
    {
      "cell_type": "code",
      "metadata": {
        "colab": {
          "base_uri": "https://localhost:8080/"
        },
        "id": "qUeC2W8CETIW",
        "outputId": "dbdb789d-ca38-474f-8b47-d40196243589"
      },
      "source": [
        "list_ex "
      ],
      "execution_count": 48,
      "outputs": [
        {
          "output_type": "execute_result",
          "data": {
            "text/plain": [
              "[1, 2, 3, 5, 6, 8, -1, 20, 50, 0]"
            ]
          },
          "metadata": {
            "tags": []
          },
          "execution_count": 48
        }
      ]
    },
    {
      "cell_type": "code",
      "metadata": {
        "colab": {
          "base_uri": "https://localhost:8080/"
        },
        "id": "ON_uLpiwEgpO",
        "outputId": "5aa755ef-3250-41ba-9c4a-d684a07bb846"
      },
      "source": [
        "list_ex[::2]  #โดดไปทีละ 2"
      ],
      "execution_count": 49,
      "outputs": [
        {
          "output_type": "execute_result",
          "data": {
            "text/plain": [
              "[1, 3, 6, -1, 50]"
            ]
          },
          "metadata": {
            "tags": []
          },
          "execution_count": 49
        }
      ]
    },
    {
      "cell_type": "code",
      "metadata": {
        "colab": {
          "base_uri": "https://localhost:8080/"
        },
        "id": "6rKV1LHDEk0R",
        "outputId": "1cbe0a1c-1431-4459-d4ae-f36a38884c6e"
      },
      "source": [
        "list_ex[::-1] #การกลับ list"
      ],
      "execution_count": 50,
      "outputs": [
        {
          "output_type": "execute_result",
          "data": {
            "text/plain": [
              "[0, 50, 20, -1, 8, 6, 5, 3, 2, 1]"
            ]
          },
          "metadata": {
            "tags": []
          },
          "execution_count": 50
        }
      ]
    },
    {
      "cell_type": "code",
      "metadata": {
        "colab": {
          "base_uri": "https://localhost:8080/",
          "height": 35
        },
        "id": "fd0N1dZFE54S",
        "outputId": "54fb402b-35b4-408a-c83c-778827b50898"
      },
      "source": [
        "a"
      ],
      "execution_count": 51,
      "outputs": [
        {
          "output_type": "execute_result",
          "data": {
            "application/vnd.google.colaboratory.intrinsic+json": {
              "type": "string"
            },
            "text/plain": [
              "'Stat KKU'"
            ]
          },
          "metadata": {
            "tags": []
          },
          "execution_count": 51
        }
      ]
    },
    {
      "cell_type": "code",
      "metadata": {
        "colab": {
          "base_uri": "https://localhost:8080/",
          "height": 35
        },
        "id": "5R-8f6x6Fcw4",
        "outputId": "994b5b89-830b-47c2-9324-eb3f8adfb9af"
      },
      "source": [
        "a[-3:]"
      ],
      "execution_count": 52,
      "outputs": [
        {
          "output_type": "execute_result",
          "data": {
            "application/vnd.google.colaboratory.intrinsic+json": {
              "type": "string"
            },
            "text/plain": [
              "'KKU'"
            ]
          },
          "metadata": {
            "tags": []
          },
          "execution_count": 52
        }
      ]
    },
    {
      "cell_type": "code",
      "metadata": {
        "colab": {
          "base_uri": "https://localhost:8080/",
          "height": 35
        },
        "id": "wxDiR3aqF2UA",
        "outputId": "be656c69-d390-4d33-d21e-b901fa771768"
      },
      "source": [
        "a[5::]"
      ],
      "execution_count": 53,
      "outputs": [
        {
          "output_type": "execute_result",
          "data": {
            "application/vnd.google.colaboratory.intrinsic+json": {
              "type": "string"
            },
            "text/plain": [
              "'KKU'"
            ]
          },
          "metadata": {
            "tags": []
          },
          "execution_count": 53
        }
      ]
    },
    {
      "cell_type": "markdown",
      "metadata": {
        "id": "VK9I7-y5Gq5q"
      },
      "source": [
        "### list + list"
      ]
    },
    {
      "cell_type": "code",
      "metadata": {
        "colab": {
          "base_uri": "https://localhost:8080/"
        },
        "id": "15Ar2WV0GvwI",
        "outputId": "b9d6c666-147a-4285-839a-b409230596de"
      },
      "source": [
        "print(list_a)\n",
        "print(list_b)"
      ],
      "execution_count": 42,
      "outputs": [
        {
          "output_type": "stream",
          "text": [
            "[1, 2, 0.2, 'abs']\n",
            "[2, 'xyz', [1, 2, 0.2, 'abs'], [1, 2, 0.0]]\n"
          ],
          "name": "stdout"
        }
      ]
    },
    {
      "cell_type": "code",
      "metadata": {
        "colab": {
          "base_uri": "https://localhost:8080/"
        },
        "id": "BnBbuz0eHLXw",
        "outputId": "b898ee4c-4b3d-4c51-fb8b-227cdb2194db"
      },
      "source": [
        "list_a + list_b  #เอาstring มาเรียงต่อกัน"
      ],
      "execution_count": 56,
      "outputs": [
        {
          "output_type": "execute_result",
          "data": {
            "text/plain": [
              "[1, 2, 0.2, 'abs', 2, 'xyz', [1, 2, 0.2, 'abs'], [1, 2, 0.0]]"
            ]
          },
          "metadata": {
            "tags": []
          },
          "execution_count": 56
        }
      ]
    },
    {
      "cell_type": "markdown",
      "metadata": {
        "id": "MPbpYaWWLN2x"
      },
      "source": [
        "format string"
      ]
    },
    {
      "cell_type": "markdown",
      "metadata": {
        "id": "SJsa65E3L1Bm"
      },
      "source": [
        "\n",
        "\n",
        "```python\n",
        "f'string{ตัวแปร}'\n",
        "```\n",
        "\n"
      ]
    },
    {
      "cell_type": "code",
      "metadata": {
        "colab": {
          "base_uri": "https://localhost:8080/",
          "height": 35
        },
        "id": "yjFSYa87LSya",
        "outputId": "8d865769-b1b5-4729-d8df-1d6a6f2a3c5b"
      },
      "source": [
        "f'ตัวแปร list_a มีค่าคือ {list_a}'"
      ],
      "execution_count": 57,
      "outputs": [
        {
          "output_type": "execute_result",
          "data": {
            "application/vnd.google.colaboratory.intrinsic+json": {
              "type": "string"
            },
            "text/plain": [
              "\"ตัวแปร list_a มีค่าคือ [1, 2, 0.2, 'abs']\""
            ]
          },
          "metadata": {
            "tags": []
          },
          "execution_count": 57
        }
      ]
    },
    {
      "cell_type": "markdown",
      "metadata": {
        "id": "yr5mXdxJH3og"
      },
      "source": [
        "##Loop\n",
        "\n",
        "ทำงานซ้ำๆ หรือทำงานคล้ายๆกัน"
      ]
    },
    {
      "cell_type": "markdown",
      "metadata": {
        "id": "jvVmKdPDKWT1"
      },
      "source": [
        "\n",
        "```python\n",
        "for ตัวแปรที่จะรับค่าจากลิสต์ in ลิสต์ที่จะนำมาวนลูป:\n",
        "    do something #in loop\n",
        "    do another thing #in loop\n",
        "\n",
        "do other things #out side loop\n",
        "```\n",
        "\n",
        "\n"
      ]
    },
    {
      "cell_type": "code",
      "metadata": {
        "colab": {
          "base_uri": "https://localhost:8080/"
        },
        "id": "mrxBdSiHJlf-",
        "outputId": "48bf9389-5974-4723-961f-e3302ad00ef1"
      },
      "source": [
        "for  i in [1,2,3,4,5]:   \n",
        "    print(i+1)\n",
        "#i คือ1 เป็น 1+1ได้ 2 และวนไปที่ 2 เป็น 2+1 และวนไป 3 4 5 ไปเรื่อยๆ"
      ],
      "execution_count": 58,
      "outputs": [
        {
          "output_type": "stream",
          "text": [
            "2\n",
            "3\n",
            "4\n",
            "5\n",
            "6\n"
          ],
          "name": "stdout"
        }
      ]
    },
    {
      "cell_type": "code",
      "metadata": {
        "colab": {
          "base_uri": "https://localhost:8080/"
        },
        "id": "oPt8_t8QMbA2",
        "outputId": "a2b4cf79-7ea5-42fd-ffc1-817e97bf7e80"
      },
      "source": [
        "for x in [1,2,3,4,5]:\n",
        "  print(f'ค่าตัวแปร x คือ {x} และ x+2={x+2}')"
      ],
      "execution_count": 59,
      "outputs": [
        {
          "output_type": "stream",
          "text": [
            "ค่าตัวแปร x คือ 1 และ x+2=3\n",
            "ค่าตัวแปร x คือ 2 และ x+2=4\n",
            "ค่าตัวแปร x คือ 3 และ x+2=5\n",
            "ค่าตัวแปร x คือ 4 และ x+2=6\n",
            "ค่าตัวแปร x คือ 5 และ x+2=7\n"
          ],
          "name": "stdout"
        }
      ]
    },
    {
      "cell_type": "code",
      "metadata": {
        "colab": {
          "base_uri": "https://localhost:8080/"
        },
        "id": "Q4mWvisOMwIr",
        "outputId": "e27b28e7-9ebc-401f-bc43-cc582e13c18e"
      },
      "source": [
        "list5=[1,2,3,4,5]\n",
        "for x in list5:\n",
        "  print(f'ค่าตัวแปร x คือ {x} และ x+2={x+2}')"
      ],
      "execution_count": 60,
      "outputs": [
        {
          "output_type": "stream",
          "text": [
            "ค่าตัวแปร x คือ 1 และ x+2=3\n",
            "ค่าตัวแปร x คือ 2 และ x+2=4\n",
            "ค่าตัวแปร x คือ 3 และ x+2=5\n",
            "ค่าตัวแปร x คือ 4 และ x+2=6\n",
            "ค่าตัวแปร x คือ 5 และ x+2=7\n"
          ],
          "name": "stdout"
        }
      ]
    },
    {
      "cell_type": "code",
      "metadata": {
        "colab": {
          "base_uri": "https://localhost:8080/"
        },
        "id": "isHByr6vNIAl",
        "outputId": "69bf16dd-56f2-403b-a72c-170abe8463f1"
      },
      "source": [
        "list(range(10)) #เอาเลขที่มาก่อนสิบ"
      ],
      "execution_count": 61,
      "outputs": [
        {
          "output_type": "execute_result",
          "data": {
            "text/plain": [
              "[0, 1, 2, 3, 4, 5, 6, 7, 8, 9]"
            ]
          },
          "metadata": {
            "tags": []
          },
          "execution_count": 61
        }
      ]
    },
    {
      "cell_type": "code",
      "metadata": {
        "colab": {
          "base_uri": "https://localhost:8080/"
        },
        "id": "ZxNOUiTdNTYP",
        "outputId": "89bffa77-e9ae-4137-c35f-022aadf87ca9"
      },
      "source": [
        "for i in range(2,7): #จุดเริ่มต้น,จุดสุดท้าย\n",
        "    print(i)"
      ],
      "execution_count": 62,
      "outputs": [
        {
          "output_type": "stream",
          "text": [
            "2\n",
            "3\n",
            "4\n",
            "5\n",
            "6\n"
          ],
          "name": "stdout"
        }
      ]
    },
    {
      "cell_type": "code",
      "metadata": {
        "colab": {
          "base_uri": "https://localhost:8080/"
        },
        "id": "Htvc1Eb8N2-G",
        "outputId": "bc4be15a-5c8f-4048-c9e6-85be8d6a7892"
      },
      "source": [
        "for i in range(2,7,2): #จุดเริ่มต้น,จุดสุดท้าย,stepโดดทีละ 2\n",
        "    print(i)"
      ],
      "execution_count": 63,
      "outputs": [
        {
          "output_type": "stream",
          "text": [
            "2\n",
            "4\n",
            "6\n"
          ],
          "name": "stdout"
        }
      ]
    },
    {
      "cell_type": "code",
      "metadata": {
        "colab": {
          "base_uri": "https://localhost:8080/"
        },
        "id": "dCMWCx0DOdfo",
        "outputId": "66d45d3a-0b7f-47ed-e6e4-572edf6b6764"
      },
      "source": [
        "for i in range(5):\n",
        "    print('hahaha') #วนลูปทำซ้ำ"
      ],
      "execution_count": 64,
      "outputs": [
        {
          "output_type": "stream",
          "text": [
            "hahaha\n",
            "hahaha\n",
            "hahaha\n",
            "hahaha\n",
            "hahaha\n"
          ],
          "name": "stdout"
        }
      ]
    },
    {
      "cell_type": "code",
      "metadata": {
        "colab": {
          "base_uri": "https://localhost:8080/"
        },
        "id": "FGMSq9lzOp-D",
        "outputId": "db3d2b51-3c46-4de6-9540-8f393955abae"
      },
      "source": [
        "for i in range(5):\n",
        "    print('hahaha')\n",
        "    x = i + 3\n",
        "    print(f'i={i} x={x}')"
      ],
      "execution_count": 65,
      "outputs": [
        {
          "output_type": "stream",
          "text": [
            "hahaha\n",
            "i=0 x=3\n",
            "hahaha\n",
            "i=1 x=4\n",
            "hahaha\n",
            "i=2 x=5\n",
            "hahaha\n",
            "i=3 x=6\n",
            "hahaha\n",
            "i=4 x=7\n"
          ],
          "name": "stdout"
        }
      ]
    },
    {
      "cell_type": "markdown",
      "metadata": {
        "id": "6XYSmjhvPLwV"
      },
      "source": [
        "###Nested loop\n",
        "\n",
        "loop ซ้อน loop"
      ]
    },
    {
      "cell_type": "code",
      "metadata": {
        "colab": {
          "base_uri": "https://localhost:8080/"
        },
        "id": "zYJrJuyrPOps",
        "outputId": "b39c502f-4ed1-40d3-e563-fb62fe49b0a4"
      },
      "source": [
        "for i in range(3):\n",
        "  print(f'now i = {i}')\n",
        "  print('start j loop')\n",
        "  for j in range(4):\n",
        "    print(f'i = {i} j = {j} i+j = {i+j}')\n",
        "  print('end j loop')"
      ],
      "execution_count": 66,
      "outputs": [
        {
          "output_type": "stream",
          "text": [
            "now i = 0\n",
            "start j loop\n",
            "i = 0 j = 0 i+j = 0\n",
            "i = 0 j = 1 i+j = 1\n",
            "i = 0 j = 2 i+j = 2\n",
            "i = 0 j = 3 i+j = 3\n",
            "end j loop\n",
            "now i = 1\n",
            "start j loop\n",
            "i = 1 j = 0 i+j = 1\n",
            "i = 1 j = 1 i+j = 2\n",
            "i = 1 j = 2 i+j = 3\n",
            "i = 1 j = 3 i+j = 4\n",
            "end j loop\n",
            "now i = 2\n",
            "start j loop\n",
            "i = 2 j = 0 i+j = 2\n",
            "i = 2 j = 1 i+j = 3\n",
            "i = 2 j = 2 i+j = 4\n",
            "i = 2 j = 3 i+j = 5\n",
            "end j loop\n"
          ],
          "name": "stdout"
        }
      ]
    },
    {
      "cell_type": "markdown",
      "metadata": {
        "id": "FGqzNXZxH7Gw"
      },
      "source": [
        "###Condition (if statement)\n",
        "\n",
        "ประโยคเงื่อนไง\n"
      ]
    },
    {
      "cell_type": "markdown",
      "metadata": {
        "id": "DrOFdAHHFl2q"
      },
      "source": [
        "\n",
        "\n",
        "```python\n",
        "if เงื่อนไขที่จะตรวจสอบ (โดยใช้สัญลักษณ์ ==,!=,<,>,<=,>=):\n",
        "   ถ้าเงื่อนไขเป็นจริง ทำงาน 1 \n",
        "   ถ้าเงื่อนไขเป็นจริง ทำงาน 2\n",
        "```\n",
        "\n"
      ]
    },
    {
      "cell_type": "code",
      "metadata": {
        "id": "SGOQl3iXH6so",
        "colab": {
          "base_uri": "https://localhost:8080/"
        },
        "outputId": "69079d76-d73c-4db3-935a-f988054bf22b"
      },
      "source": [
        "stringx = 'jfgosjghogogsogorgosdioghesogheosgnusg'\n",
        "\n",
        "if len(stringx) >30:\n",
        "   print(f'{stringx} is longer than 30 characters')"
      ],
      "execution_count": 67,
      "outputs": [
        {
          "output_type": "stream",
          "text": [
            "jfgosjghogogsogorgosdioghesogheosgnusg is longer than 30 characters\n"
          ],
          "name": "stdout"
        }
      ]
    },
    {
      "cell_type": "code",
      "metadata": {
        "id": "BceOeCG-HQsR"
      },
      "source": [
        "stringx = 'jfgosjghogogsogorgosdioghesogheosgnusg'\n",
        "\n",
        "if len(stringx) >100:\n",
        "   print(f'{stringx} is longer than 30 characters')\n",
        "\n",
        "   #ถ้าค่าไม่มากกว่าหรือน้อยกว่าค่ารันก็จะไม่ออกมา"
      ],
      "execution_count": 68,
      "outputs": []
    },
    {
      "cell_type": "markdown",
      "metadata": {
        "id": "GF4dDCU8Hcl3"
      },
      "source": [
        "```python\n",
        "if เงื่อนไขที่จะตรวจสอบ (โดยใช้สัญลักษณ์ ==,!=,<,>,<=,>=):\n",
        "   ถ้าเงื่อนไขเป็นจริง ทำงาน 1 \n",
        "   ถ้าเงื่อนไขเป็นจริง ทำงาน 2\n",
        "else: #ตรวจสอบเงื่อนไงข้างบนแล้วไม่เป็นจริง\n",
        "   ทำงานที่ X\n",
        "```\n"
      ]
    },
    {
      "cell_type": "code",
      "metadata": {
        "colab": {
          "base_uri": "https://localhost:8080/"
        },
        "id": "AeNhvoqTHcJd",
        "outputId": "4b6a4dfe-aa04-463f-c0e8-7cde0f55b681"
      },
      "source": [
        "stringx = 'jfgosjghogogsogorgosdioghesogheosgnusg'\n",
        "\n",
        "if len(stringx) >100:\n",
        "   print(f'{stringx} is longer than 30 characters')\n",
        "else:\n",
        "   print(f'{stringx} in {len(stringx)}characters long')\n",
        "\n",
        "   #ค่านี้มีความยาวเท่ากับ 38"
      ],
      "execution_count": 69,
      "outputs": [
        {
          "output_type": "stream",
          "text": [
            "jfgosjghogogsogorgosdioghesogheosgnusg in 38characters long\n"
          ],
          "name": "stdout"
        }
      ]
    },
    {
      "cell_type": "markdown",
      "metadata": {
        "id": "DwZYZrVtJKFU"
      },
      "source": [
        "```python\n",
        "if เงื่อนไขที่จะตรวจสอบ (โดยใช้สัญลักษณ์ ==,!=,<,>,<=,>=):\n",
        "   ถ้าเงื่อนไขเป็นจริง ทำงาน 1 \n",
        "   ถ้าเงื่อนไขเป็นจริง ทำงาน 2\n",
        "elif เงื่อนไขที่จะตรวจสอบต่อไปถ้า เงื่อนไขข้างบนไม่เป็นจริง:\n",
        "   ถ้าเงื่อนไขเป็นจริง ทำงาน a1 \n",
        "   ถ้าเงื่อนไขเป็นจริง ทำงาน a2\n",
        "elif เงื่อนไขที่จะตรวจสอบต่อไปถ้า เงื่อนไขข้างบนไม่เป็นจริง:\n",
        "   ถ้าเงื่อนไขเป็นจริง ทำงาน b1 \n",
        "   ถ้าเงื่อนไขเป็นจริง ทำงาน b2\n",
        "else: #ตรวจสอบเงื่อนไงข้างบนแล้วไม่เป็นจริง\n",
        "   ทำงานที่ X\n",
        "```\n"
      ]
    },
    {
      "cell_type": "code",
      "metadata": {
        "colab": {
          "base_uri": "https://localhost:8080/"
        },
        "id": "ynbQ5SrgLH0t",
        "outputId": "731cbfbf-1ec0-4941-812f-a2be7874d037"
      },
      "source": [
        "password = '12345'\n",
        "\n",
        "input_pass = '123sf'\n",
        "if input_pass == password: #input ที่ใส่เข้ามาตรงกับ password ไหม?\n",
        "  print('welcom!') #พิมพ์ถูกเข้ามาได้จะ welcome\n",
        "elif len(input_pass) > len(password): #เช็คความยาวของรหัส\n",
        "  print('Too long, try again!')  #บอกใบ้ว่ารหัสที่ใส่มายาวไป\n",
        "elif len(input_pass) < len(password): \n",
        "  print('Too short, try again!') #บอกใบ้ว่ารหัสที่ใส่มาสั้นไปไป\n",
        "else:\n",
        "  print('Wrong password, try again!')\n"
      ],
      "execution_count": 70,
      "outputs": [
        {
          "output_type": "stream",
          "text": [
            "Wrong password, try again!\n"
          ],
          "name": "stdout"
        }
      ]
    },
    {
      "cell_type": "markdown",
      "metadata": {
        "id": "NrceJOgEK8gA"
      },
      "source": [
        "Quiz 1 หา min"
      ]
    },
    {
      "cell_type": "code",
      "metadata": {
        "id": "7d3G_Np5Ndkv"
      },
      "source": [
        "list_ex = [1,5,9,-19,-2,0] #หาค่าน้อยกว่าที่สุดใน list_ex โดยไม่ใช้ function min"
      ],
      "execution_count": 71,
      "outputs": []
    },
    {
      "cell_type": "code",
      "metadata": {
        "colab": {
          "base_uri": "https://localhost:8080/"
        },
        "id": "t8cNKv5kPZmz",
        "outputId": "fc310b1a-5018-4cd0-e2c9-85ba1f820c47"
      },
      "source": [
        "list_ex[-3]"
      ],
      "execution_count": 72,
      "outputs": [
        {
          "output_type": "execute_result",
          "data": {
            "text/plain": [
              "-19"
            ]
          },
          "metadata": {
            "tags": []
          },
          "execution_count": 72
        }
      ]
    },
    {
      "cell_type": "markdown",
      "metadata": {
        "id": "QFTdnqUGQ9f9"
      },
      "source": [
        "เฉลย quiz"
      ]
    },
    {
      "cell_type": "code",
      "metadata": {
        "id": "TsJM5jGvSEpG",
        "colab": {
          "base_uri": "https://localhost:8080/"
        },
        "outputId": "b8ae74b0-f6ef-47bc-f4a1-1bda6634d1f4"
      },
      "source": [
        "min = 10000000000  #กำหนด min ขึ้นมา\n",
        "for i in list_ex:\n",
        "  if i < min:\n",
        "    min = i\n",
        "print(min)"
      ],
      "execution_count": 73,
      "outputs": [
        {
          "output_type": "stream",
          "text": [
            "-19\n"
          ],
          "name": "stdout"
        }
      ]
    },
    {
      "cell_type": "code",
      "metadata": {
        "id": "XIiW8HVxUKXB",
        "colab": {
          "base_uri": "https://localhost:8080/"
        },
        "outputId": "57cadb8b-fde5-43e6-e7d8-6a2229559ec8"
      },
      "source": [
        "min = 100000000\n",
        "print(list_ex)\n",
        "for i in list_ex:\n",
        "    print(f'now i = {i}, min = {min}')\n",
        "    print('start condition')\n",
        "    if i < min:\n",
        "        print(f'i < min, update min -> {i}')\n",
        "        min = i\n",
        "    else:\n",
        "        print('i >= min, not update')\n",
        "    print('end condition, go to next i')\n",
        "\n",
        "print(min)"
      ],
      "execution_count": 74,
      "outputs": [
        {
          "output_type": "stream",
          "text": [
            "[1, 5, 9, -19, -2, 0]\n",
            "now i = 1, min = 100000000\n",
            "start condition\n",
            "i < min, update min -> 1\n",
            "end condition, go to next i\n",
            "now i = 5, min = 1\n",
            "start condition\n",
            "i >= min, not update\n",
            "end condition, go to next i\n",
            "now i = 9, min = 1\n",
            "start condition\n",
            "i >= min, not update\n",
            "end condition, go to next i\n",
            "now i = -19, min = 1\n",
            "start condition\n",
            "i < min, update min -> -19\n",
            "end condition, go to next i\n",
            "now i = -2, min = -19\n",
            "start condition\n",
            "i >= min, not update\n",
            "end condition, go to next i\n",
            "now i = 0, min = -19\n",
            "start condition\n",
            "i >= min, not update\n",
            "end condition, go to next i\n",
            "-19\n"
          ],
          "name": "stdout"
        }
      ]
    },
    {
      "cell_type": "markdown",
      "metadata": {
        "id": "iN-NIfMqLCM1"
      },
      "source": [
        "HW3 ตัดเกรด"
      ]
    },
    {
      "cell_type": "code",
      "metadata": {
        "id": "i3zMBE_bJkbD"
      },
      "source": [
        "score = [49,65,70,95,82,55,89,20,77,77,81,59,10] #ตัดเกรด คะแนนใน list score (ใช้ if กับ for)"
      ],
      "execution_count": 82,
      "outputs": []
    },
    {
      "cell_type": "code",
      "metadata": {
        "colab": {
          "base_uri": "https://localhost:8080/"
        },
        "id": "4DzeXg5rSd9r",
        "outputId": "d81cad28-70fd-4734-8a96-311bf7ac64fd"
      },
      "source": [
        "for i in score:\n",
        "\n",
        "  if i >= 80:\n",
        "    print(f'{i} คะแนน = เกรด A')\n",
        "  elif i >= 75 and i < 80:\n",
        "    print(f'{i} คะแนน = เกรด B+')\n",
        "  elif i >= 70 and i < 75:\n",
        "    print(f'{i} คะแนน = เกรด B')\n",
        "  elif i >= 65 and i < 70:\n",
        "    print(f'{i} คะแนน = เกรด C+')\n",
        "  elif i >= 60 and i < 65:\n",
        "    print(f'{i} คะแนน = เกรด C')\n",
        "  elif i >= 55 and i < 60:\n",
        "    print(f'{i} คะแนน = เกรด D+')\n",
        "  elif i >= 50 and i < 55:\n",
        "    print(f'{i} คะแนน = เกรด D')\n",
        "  else:\n",
        "    print(f'{i} คะแนน = เกรด F')"
      ],
      "execution_count": 85,
      "outputs": [
        {
          "output_type": "stream",
          "text": [
            "49 คะแนน = เกรด F\n",
            "65 คะแนน = เกรด C+\n",
            "70 คะแนน = เกรด B\n",
            "95 คะแนน = เกรด A\n",
            "82 คะแนน = เกรด A\n",
            "55 คะแนน = เกรด D+\n",
            "89 คะแนน = เกรด A\n",
            "20 คะแนน = เกรด F\n",
            "77 คะแนน = เกรด B+\n",
            "77 คะแนน = เกรด B+\n",
            "81 คะแนน = เกรด A\n",
            "59 คะแนน = เกรด D+\n",
            "10 คะแนน = เกรด F\n"
          ],
          "name": "stdout"
        }
      ]
    },
    {
      "cell_type": "markdown",
      "metadata": {
        "id": "AQYV2DzSVleL"
      },
      "source": [
        "###Function"
      ]
    },
    {
      "cell_type": "code",
      "metadata": {
        "id": "uXg3eJdWVlAN"
      },
      "source": [
        ""
      ],
      "execution_count": null,
      "outputs": []
    }
  ]
}