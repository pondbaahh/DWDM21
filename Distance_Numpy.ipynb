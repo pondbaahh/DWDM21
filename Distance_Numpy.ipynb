{
  "nbformat": 4,
  "nbformat_minor": 0,
  "metadata": {
    "colab": {
      "name": "Distance Numpy.ipynb",
      "provenance": [],
      "authorship_tag": "ABX9TyPwpt9Ss01GCDl+yav7GSQF",
      "include_colab_link": true
    },
    "kernelspec": {
      "name": "python3",
      "display_name": "Python 3"
    },
    "language_info": {
      "name": "python"
    }
  },
  "cells": [
    {
      "cell_type": "markdown",
      "metadata": {
        "id": "view-in-github",
        "colab_type": "text"
      },
      "source": [
        "<a href=\"https://colab.research.google.com/github/pondbaahh/DWDM21/blob/main/Distance_Numpy.ipynb\" target=\"_parent\"><img src=\"https://colab.research.google.com/assets/colab-badge.svg\" alt=\"Open In Colab\"/></a>"
      ]
    },
    {
      "cell_type": "code",
      "metadata": {
        "id": "opPx8qYjcwCQ"
      },
      "source": [
        "import numpy as np # package สำหรับทำงานกับ ข้อมูลที่เป็นตัวเลข (อยู่ในรูปแบบ Matrix)"
      ],
      "execution_count": 1,
      "outputs": []
    },
    {
      "cell_type": "markdown",
      "metadata": {
        "id": "Zq1j7XcLdmTu"
      },
      "source": [
        "### Numpy Array"
      ]
    },
    {
      "cell_type": "markdown",
      "metadata": {
        "id": "p_uoARJ9fMDT"
      },
      "source": [
        "### สร้าง numpy array (matrix) จาก list"
      ]
    },
    {
      "cell_type": "code",
      "metadata": {
        "id": "XJf6PNtqdlta"
      },
      "source": [
        "np_a = np.array([[1,2,3],[4,5,6]]) #สร้าง numpy array ที่มี2 แถว 3 หลัก"
      ],
      "execution_count": 2,
      "outputs": []
    },
    {
      "cell_type": "code",
      "metadata": {
        "colab": {
          "base_uri": "https://localhost:8080/"
        },
        "id": "PjcLJyIyd8AE",
        "outputId": "1d5367b1-4dd4-4047-f398-e165fb9cea37"
      },
      "source": [
        "np_a"
      ],
      "execution_count": 3,
      "outputs": [
        {
          "output_type": "execute_result",
          "data": {
            "text/plain": [
              "array([[1, 2, 3],\n",
              "       [4, 5, 6]])"
            ]
          },
          "metadata": {},
          "execution_count": 3
        }
      ]
    },
    {
      "cell_type": "code",
      "metadata": {
        "colab": {
          "base_uri": "https://localhost:8080/"
        },
        "id": "6rr2RSxueSE1",
        "outputId": "53ede215-d0ef-490f-c4b2-eb1fcd6fc137"
      },
      "source": [
        "np_a.shape"
      ],
      "execution_count": 4,
      "outputs": [
        {
          "output_type": "execute_result",
          "data": {
            "text/plain": [
              "(2, 3)"
            ]
          },
          "metadata": {},
          "execution_count": 4
        }
      ]
    },
    {
      "cell_type": "code",
      "metadata": {
        "colab": {
          "base_uri": "https://localhost:8080/"
        },
        "id": "q6IUNlrXeViV",
        "outputId": "d16ff4a7-6483-4580-b95c-58f3e102fa88"
      },
      "source": [
        "np_b = np.array([[1,4],[2,5],[3,6]])\n",
        "np_b"
      ],
      "execution_count": 5,
      "outputs": [
        {
          "output_type": "execute_result",
          "data": {
            "text/plain": [
              "array([[1, 4],\n",
              "       [2, 5],\n",
              "       [3, 6]])"
            ]
          },
          "metadata": {},
          "execution_count": 5
        }
      ]
    },
    {
      "cell_type": "markdown",
      "metadata": {
        "id": "j0W8_jBOfDZx"
      },
      "source": [
        "##matrix transpose"
      ]
    },
    {
      "cell_type": "code",
      "metadata": {
        "colab": {
          "base_uri": "https://localhost:8080/"
        },
        "id": "uuX9pf0ifHAY",
        "outputId": "b6ccf47a-b4af-4641-cbaf-ac3d44e61c43"
      },
      "source": [
        "np_a.T"
      ],
      "execution_count": 6,
      "outputs": [
        {
          "output_type": "execute_result",
          "data": {
            "text/plain": [
              "array([[1, 4],\n",
              "       [2, 5],\n",
              "       [3, 6]])"
            ]
          },
          "metadata": {},
          "execution_count": 6
        }
      ]
    },
    {
      "cell_type": "markdown",
      "metadata": {
        "id": "DFr0Pp-bfWgK"
      },
      "source": [
        "##สร้าง matrix เริ่มต้น (zeros,ones)"
      ]
    },
    {
      "cell_type": "code",
      "metadata": {
        "colab": {
          "base_uri": "https://localhost:8080/"
        },
        "id": "VoUJdi2zffKC",
        "outputId": "c7c1f271-0cf2-441b-e3b2-c410f26dd37c"
      },
      "source": [
        "np_z = np.zeros((4,5))\n",
        "np_z"
      ],
      "execution_count": 7,
      "outputs": [
        {
          "output_type": "execute_result",
          "data": {
            "text/plain": [
              "array([[0., 0., 0., 0., 0.],\n",
              "       [0., 0., 0., 0., 0.],\n",
              "       [0., 0., 0., 0., 0.],\n",
              "       [0., 0., 0., 0., 0.]])"
            ]
          },
          "metadata": {},
          "execution_count": 7
        }
      ]
    },
    {
      "cell_type": "code",
      "metadata": {
        "colab": {
          "base_uri": "https://localhost:8080/"
        },
        "id": "5Sqtxynsfl9v",
        "outputId": "a9db6886-42f9-41f1-be99-c503179322bb"
      },
      "source": [
        "np_o = np.ones((5,6))\n",
        "np_o"
      ],
      "execution_count": 8,
      "outputs": [
        {
          "output_type": "execute_result",
          "data": {
            "text/plain": [
              "array([[1., 1., 1., 1., 1., 1.],\n",
              "       [1., 1., 1., 1., 1., 1.],\n",
              "       [1., 1., 1., 1., 1., 1.],\n",
              "       [1., 1., 1., 1., 1., 1.],\n",
              "       [1., 1., 1., 1., 1., 1.]])"
            ]
          },
          "metadata": {},
          "execution_count": 8
        }
      ]
    },
    {
      "cell_type": "code",
      "metadata": {
        "colab": {
          "base_uri": "https://localhost:8080/"
        },
        "id": "mM50TLBTgE8_",
        "outputId": "e38f726a-052a-4a34-dc00-e817fd5b4c2f"
      },
      "source": [
        "np_200 = 200*np.ones((4,7))\n",
        "np_200  # เอา 200 มาคูณ"
      ],
      "execution_count": 9,
      "outputs": [
        {
          "output_type": "execute_result",
          "data": {
            "text/plain": [
              "array([[200., 200., 200., 200., 200., 200., 200.],\n",
              "       [200., 200., 200., 200., 200., 200., 200.],\n",
              "       [200., 200., 200., 200., 200., 200., 200.],\n",
              "       [200., 200., 200., 200., 200., 200., 200.]])"
            ]
          },
          "metadata": {},
          "execution_count": 9
        }
      ]
    },
    {
      "cell_type": "markdown",
      "metadata": {
        "id": "UmFacYCrgZXL"
      },
      "source": [
        "## สร้าง Matrix random "
      ]
    },
    {
      "cell_type": "code",
      "metadata": {
        "colab": {
          "base_uri": "https://localhost:8080/"
        },
        "id": "F4bNa-wggOOK",
        "outputId": "ac3f763a-d26b-4fcb-eeb8-958ac4ea60b9"
      },
      "source": [
        "np.random.randn(5,5)  #random เลขมาจาก normal distribution ที่มี mu=0 std=1"
      ],
      "execution_count": 10,
      "outputs": [
        {
          "output_type": "execute_result",
          "data": {
            "text/plain": [
              "array([[-1.24449516, -0.7467314 ,  0.36707432, -0.80513192, -1.02323647],\n",
              "       [-0.73269508, -1.59229037,  0.83049772,  2.08614807, -1.05993171],\n",
              "       [ 0.62645823,  0.9860992 , -0.30484104, -1.1764121 , -0.09801622],\n",
              "       [-1.04390366,  1.83454327, -0.81604095, -1.43385775,  0.87531533],\n",
              "       [ 0.94831203, -0.34092034,  0.4085002 ,  2.0560036 , -0.55122528]])"
            ]
          },
          "metadata": {},
          "execution_count": 10
        }
      ]
    },
    {
      "cell_type": "code",
      "metadata": {
        "colab": {
          "base_uri": "https://localhost:8080/"
        },
        "id": "hhCTvLgTgy9a",
        "outputId": "94a6031d-262a-4b87-f567-e90a4d803348"
      },
      "source": [
        "2+(5*np.random.randn(3,3)) #random เลขมาจาก normal distribution ที่มี mu=2 std=5"
      ],
      "execution_count": 11,
      "outputs": [
        {
          "output_type": "execute_result",
          "data": {
            "text/plain": [
              "array([[-2.16084086, -2.92140489, -0.56076208],\n",
              "       [ 2.31071412, -3.89032237, 10.90067498],\n",
              "       [ 0.02466228,  4.68135603,  2.7230577 ]])"
            ]
          },
          "metadata": {},
          "execution_count": 11
        }
      ]
    },
    {
      "cell_type": "code",
      "metadata": {
        "colab": {
          "base_uri": "https://localhost:8080/"
        },
        "id": "3Mkxd6VvhVbw",
        "outputId": "9f785b32-730f-439b-bbae-3cd9bdeb0042"
      },
      "source": [
        "np.random.randint(5,11,(4,5)) #random เลขจำนวนเต็ม ระหว่าง[5,11] ขนาด (4x5)"
      ],
      "execution_count": 12,
      "outputs": [
        {
          "output_type": "execute_result",
          "data": {
            "text/plain": [
              "array([[ 8,  8,  5, 10,  7],\n",
              "       [ 9,  5,  6,  9,  9],\n",
              "       [ 8,  8,  5,  9, 10],\n",
              "       [ 6,  5,  5, 10, 10]])"
            ]
          },
          "metadata": {},
          "execution_count": 12
        }
      ]
    },
    {
      "cell_type": "markdown",
      "metadata": {
        "id": "UtCgA9jVOn2p"
      },
      "source": [
        "## matrix poroperties"
      ]
    },
    {
      "cell_type": "code",
      "metadata": {
        "id": "mWQdWIXkh8zI",
        "colab": {
          "base_uri": "https://localhost:8080/"
        },
        "outputId": "dfc92eb0-91b0-4f65-f24b-ddfff55e6056"
      },
      "source": [
        "np_a"
      ],
      "execution_count": 13,
      "outputs": [
        {
          "output_type": "execute_result",
          "data": {
            "text/plain": [
              "array([[1, 2, 3],\n",
              "       [4, 5, 6]])"
            ]
          },
          "metadata": {},
          "execution_count": 13
        }
      ]
    },
    {
      "cell_type": "code",
      "metadata": {
        "id": "yixBmgxeOxt-",
        "colab": {
          "base_uri": "https://localhost:8080/"
        },
        "outputId": "0a32077a-07eb-499f-f016-18b4c790c8e6"
      },
      "source": [
        "np_a.T #ทำการ transpose"
      ],
      "execution_count": 14,
      "outputs": [
        {
          "output_type": "execute_result",
          "data": {
            "text/plain": [
              "array([[1, 4],\n",
              "       [2, 5],\n",
              "       [3, 6]])"
            ]
          },
          "metadata": {},
          "execution_count": 14
        }
      ]
    },
    {
      "cell_type": "code",
      "metadata": {
        "id": "7qERTz_tO4oh",
        "colab": {
          "base_uri": "https://localhost:8080/"
        },
        "outputId": "f12e3535-d4ca-4cf8-cb48-62bd9d72cb1c"
      },
      "source": [
        "1 + np_a #เอาตัวเลขมาบวกกับ matrix"
      ],
      "execution_count": 15,
      "outputs": [
        {
          "output_type": "execute_result",
          "data": {
            "text/plain": [
              "array([[2, 3, 4],\n",
              "       [5, 6, 7]])"
            ]
          },
          "metadata": {},
          "execution_count": 15
        }
      ]
    },
    {
      "cell_type": "code",
      "metadata": {
        "id": "VWH9b4X_PEiN",
        "colab": {
          "base_uri": "https://localhost:8080/"
        },
        "outputId": "b3f21e35-e07a-4219-f001-68d98603755c"
      },
      "source": [
        "2 * np_a #เอาตัวเลขมาคูณกับ matrix"
      ],
      "execution_count": 16,
      "outputs": [
        {
          "output_type": "execute_result",
          "data": {
            "text/plain": [
              "array([[ 2,  4,  6],\n",
              "       [ 8, 10, 12]])"
            ]
          },
          "metadata": {},
          "execution_count": 16
        }
      ]
    },
    {
      "cell_type": "code",
      "metadata": {
        "id": "h-1u8cgFPLpQ",
        "colab": {
          "base_uri": "https://localhost:8080/"
        },
        "outputId": "a96bc3d3-71b0-478b-e0b9-db12fd0dcc89"
      },
      "source": [
        "np_c = np.array([[6,5,4],[3,2,1]])\n",
        "np_c"
      ],
      "execution_count": 17,
      "outputs": [
        {
          "output_type": "execute_result",
          "data": {
            "text/plain": [
              "array([[6, 5, 4],\n",
              "       [3, 2, 1]])"
            ]
          },
          "metadata": {},
          "execution_count": 17
        }
      ]
    },
    {
      "cell_type": "code",
      "metadata": {
        "id": "QIN609hmPbFR",
        "colab": {
          "base_uri": "https://localhost:8080/"
        },
        "outputId": "7806f9c1-7975-4aff-9afe-430ec4a1d662"
      },
      "source": [
        "np_a + np_c #เอา matrix มาบวกกับ matrix"
      ],
      "execution_count": 18,
      "outputs": [
        {
          "output_type": "execute_result",
          "data": {
            "text/plain": [
              "array([[7, 7, 7],\n",
              "       [7, 7, 7]])"
            ]
          },
          "metadata": {},
          "execution_count": 18
        }
      ]
    },
    {
      "cell_type": "code",
      "metadata": {
        "id": "Z91rSmMhPmtx",
        "colab": {
          "base_uri": "https://localhost:8080/"
        },
        "outputId": "49fa48a4-9b61-4527-9bec-c09071ad09b8"
      },
      "source": [
        "np_a.shape #ดูขนาดได้ 2*3"
      ],
      "execution_count": 19,
      "outputs": [
        {
          "output_type": "execute_result",
          "data": {
            "text/plain": [
              "(2, 3)"
            ]
          },
          "metadata": {},
          "execution_count": 19
        }
      ]
    },
    {
      "cell_type": "code",
      "metadata": {
        "id": "PQ_9KREiQPPt",
        "colab": {
          "base_uri": "https://localhost:8080/"
        },
        "outputId": "779f5241-e795-4857-814c-9674a8f47784"
      },
      "source": [
        "np_c.shape #ดูขนาดได้ 2*3"
      ],
      "execution_count": 20,
      "outputs": [
        {
          "output_type": "execute_result",
          "data": {
            "text/plain": [
              "(2, 3)"
            ]
          },
          "metadata": {},
          "execution_count": 20
        }
      ]
    },
    {
      "cell_type": "code",
      "metadata": {
        "id": "GEGzyfubQWQF"
      },
      "source": [
        "#np.dot(np_a,np_c) #การคูณ matrix (a,b) x (b,c) = (a,c)\n",
        "#หลักของตัวหน้า เท่า แถวของตัวหลัง ถึงคูณกันได้"
      ],
      "execution_count": 23,
      "outputs": []
    },
    {
      "cell_type": "code",
      "metadata": {
        "id": "n0c81dLUQxh7",
        "colab": {
          "base_uri": "https://localhost:8080/"
        },
        "outputId": "4eeff780-631f-4e67-f3c9-5c2c3164246f"
      },
      "source": [
        "np_c.T"
      ],
      "execution_count": 24,
      "outputs": [
        {
          "output_type": "execute_result",
          "data": {
            "text/plain": [
              "array([[6, 3],\n",
              "       [5, 2],\n",
              "       [4, 1]])"
            ]
          },
          "metadata": {},
          "execution_count": 24
        }
      ]
    },
    {
      "cell_type": "code",
      "metadata": {
        "id": "JR94mzUjRNVp",
        "colab": {
          "base_uri": "https://localhost:8080/"
        },
        "outputId": "063ee9de-f38b-4aeb-df19-debc4326c897"
      },
      "source": [
        "np.dot(np_a,np_c.T)  #การคูณ matrix (a,b) x (b,c) = (a,c)"
      ],
      "execution_count": 25,
      "outputs": [
        {
          "output_type": "execute_result",
          "data": {
            "text/plain": [
              "array([[28, 10],\n",
              "       [73, 28]])"
            ]
          },
          "metadata": {},
          "execution_count": 25
        }
      ]
    },
    {
      "cell_type": "markdown",
      "metadata": {
        "id": "nUzXrH88RXLJ"
      },
      "source": [
        "## Indexing & Slicing"
      ]
    },
    {
      "cell_type": "code",
      "metadata": {
        "id": "iXlwTaKnRdcp",
        "colab": {
          "base_uri": "https://localhost:8080/"
        },
        "outputId": "881f7f47-289f-4054-9f74-9a070f66309e"
      },
      "source": [
        "np_a # เริ่มจากแถว 0 ,1 หลัก 0,1,2"
      ],
      "execution_count": 26,
      "outputs": [
        {
          "output_type": "execute_result",
          "data": {
            "text/plain": [
              "array([[1, 2, 3],\n",
              "       [4, 5, 6]])"
            ]
          },
          "metadata": {},
          "execution_count": 26
        }
      ]
    },
    {
      "cell_type": "code",
      "metadata": {
        "id": "v-JA4m4lRiOG",
        "colab": {
          "base_uri": "https://localhost:8080/"
        },
        "outputId": "7c5fbe40-feb0-4e07-f84a-0bb6b38548f6"
      },
      "source": [
        "np_a[1,1]"
      ],
      "execution_count": 27,
      "outputs": [
        {
          "output_type": "execute_result",
          "data": {
            "text/plain": [
              "5"
            ]
          },
          "metadata": {},
          "execution_count": 27
        }
      ]
    },
    {
      "cell_type": "code",
      "metadata": {
        "id": "fF-fOJbNSFxs",
        "colab": {
          "base_uri": "https://localhost:8080/"
        },
        "outputId": "2d9e8cb0-cdc3-42cf-9c69-674add6023ae"
      },
      "source": [
        "np_a[:2,:2]"
      ],
      "execution_count": 28,
      "outputs": [
        {
          "output_type": "execute_result",
          "data": {
            "text/plain": [
              "array([[1, 2],\n",
              "       [4, 5]])"
            ]
          },
          "metadata": {},
          "execution_count": 28
        }
      ]
    },
    {
      "cell_type": "code",
      "metadata": {
        "id": "kHLvhU3JSV69",
        "colab": {
          "base_uri": "https://localhost:8080/"
        },
        "outputId": "a10262de-841d-44a6-e1f4-5f0e4d40aff4"
      },
      "source": [
        "np_a[0,:]"
      ],
      "execution_count": 29,
      "outputs": [
        {
          "output_type": "execute_result",
          "data": {
            "text/plain": [
              "array([1, 2, 3])"
            ]
          },
          "metadata": {},
          "execution_count": 29
        }
      ]
    },
    {
      "cell_type": "markdown",
      "metadata": {
        "id": "GkPvv96iSoPq"
      },
      "source": [
        "## Useful Functions"
      ]
    },
    {
      "cell_type": "code",
      "metadata": {
        "id": "Fh38GM4PS7xK",
        "colab": {
          "base_uri": "https://localhost:8080/"
        },
        "outputId": "f436f409-2340-4162-a91c-f7fe02bcd420"
      },
      "source": [
        "np_a"
      ],
      "execution_count": 30,
      "outputs": [
        {
          "output_type": "execute_result",
          "data": {
            "text/plain": [
              "array([[1, 2, 3],\n",
              "       [4, 5, 6]])"
            ]
          },
          "metadata": {},
          "execution_count": 30
        }
      ]
    },
    {
      "cell_type": "code",
      "metadata": {
        "id": "YeWJlRdgSa-W",
        "colab": {
          "base_uri": "https://localhost:8080/"
        },
        "outputId": "847d75d8-c76e-4950-c74e-1ab61e4ed67d"
      },
      "source": [
        "np.sum(np_a) #การวมเลขของ np_a"
      ],
      "execution_count": 31,
      "outputs": [
        {
          "output_type": "execute_result",
          "data": {
            "text/plain": [
              "21"
            ]
          },
          "metadata": {},
          "execution_count": 31
        }
      ]
    },
    {
      "cell_type": "code",
      "metadata": {
        "id": "UhQkrO9AS9td",
        "colab": {
          "base_uri": "https://localhost:8080/"
        },
        "outputId": "a3d1df50-2c33-4963-b162-39968ba38560"
      },
      "source": [
        "np.sum(np_a,axis=0) #axis คือการเอาค่าในแกนตั้งมารวมกัน"
      ],
      "execution_count": 32,
      "outputs": [
        {
          "output_type": "execute_result",
          "data": {
            "text/plain": [
              "array([5, 7, 9])"
            ]
          },
          "metadata": {},
          "execution_count": 32
        }
      ]
    },
    {
      "cell_type": "code",
      "metadata": {
        "id": "f37Q0xgaTWYU",
        "colab": {
          "base_uri": "https://localhost:8080/"
        },
        "outputId": "792449f8-f246-4e19-adbe-13f1add95974"
      },
      "source": [
        "np.sum(np_a,axis=1)#axis คือการเอาค่าในแกนนอนมารวมกัน"
      ],
      "execution_count": 33,
      "outputs": [
        {
          "output_type": "execute_result",
          "data": {
            "text/plain": [
              "array([ 6, 15])"
            ]
          },
          "metadata": {},
          "execution_count": 33
        }
      ]
    },
    {
      "cell_type": "code",
      "metadata": {
        "id": "FGgyJKcqTdRN",
        "colab": {
          "base_uri": "https://localhost:8080/"
        },
        "outputId": "151d97a9-f470-4add-eb0f-e97c2176141e"
      },
      "source": [
        "np.mean(np_a) #หาค่าmean"
      ],
      "execution_count": 34,
      "outputs": [
        {
          "output_type": "execute_result",
          "data": {
            "text/plain": [
              "3.5"
            ]
          },
          "metadata": {},
          "execution_count": 34
        }
      ]
    },
    {
      "cell_type": "code",
      "metadata": {
        "id": "4zXMcr2CTqEF",
        "colab": {
          "base_uri": "https://localhost:8080/"
        },
        "outputId": "48fffce3-cc3f-487c-fa95-1b707d3d8949"
      },
      "source": [
        "np.mean(np_a,axis=0) #หา mean ของ column"
      ],
      "execution_count": 35,
      "outputs": [
        {
          "output_type": "execute_result",
          "data": {
            "text/plain": [
              "array([2.5, 3.5, 4.5])"
            ]
          },
          "metadata": {},
          "execution_count": 35
        }
      ]
    },
    {
      "cell_type": "markdown",
      "metadata": {
        "id": "TiK7hY-dVCx2"
      },
      "source": [
        "### วนลูปเอง"
      ]
    },
    {
      "cell_type": "markdown",
      "metadata": {
        "id": "w9ABiYdFVM79"
      },
      "source": [
        "summation"
      ]
    },
    {
      "cell_type": "code",
      "metadata": {
        "id": "fH9v7UvrWz8r",
        "colab": {
          "base_uri": "https://localhost:8080/"
        },
        "outputId": "5e2fd7ce-bfc3-43a9-fbe8-f292b703ff5f"
      },
      "source": [
        "np_a.shape"
      ],
      "execution_count": 36,
      "outputs": [
        {
          "output_type": "execute_result",
          "data": {
            "text/plain": [
              "(2, 3)"
            ]
          },
          "metadata": {},
          "execution_count": 36
        }
      ]
    },
    {
      "cell_type": "code",
      "metadata": {
        "id": "DNzQyLyfUNqy",
        "colab": {
          "base_uri": "https://localhost:8080/"
        },
        "outputId": "af0e2100-2f39-41e4-eb18-c1c755add7bd"
      },
      "source": [
        "sum_all = 0\n",
        "\n",
        "for row in range(np_a.shape[0]):\n",
        "    for col in range(np_a.shape[1]):\n",
        "        sum_all = sum_all + np_a[row,col]\n",
        "        print(f'we are at row={row},col={col} np_a[{row},{col}]={np_a[row,col]} sum_all={sum_all}')\n",
        "print(sum_all)        "
      ],
      "execution_count": 37,
      "outputs": [
        {
          "output_type": "stream",
          "name": "stdout",
          "text": [
            "we are at row=0,col=0 np_a[0,0]=1 sum_all=1\n",
            "we are at row=0,col=1 np_a[0,1]=2 sum_all=3\n",
            "we are at row=0,col=2 np_a[0,2]=3 sum_all=6\n",
            "we are at row=1,col=0 np_a[1,0]=4 sum_all=10\n",
            "we are at row=1,col=1 np_a[1,1]=5 sum_all=15\n",
            "we are at row=1,col=2 np_a[1,2]=6 sum_all=21\n",
            "21\n"
          ]
        }
      ]
    },
    {
      "cell_type": "markdown",
      "metadata": {
        "id": "EFuPTm8JW-bC"
      },
      "source": [
        "np.sum(np_a,axis=0)"
      ]
    },
    {
      "cell_type": "code",
      "metadata": {
        "id": "I3jvfH6RW9Gl",
        "colab": {
          "base_uri": "https://localhost:8080/"
        },
        "outputId": "4058a8bf-780f-4f3b-8859-3bedb6238928"
      },
      "source": [
        "sum_all = np.zeros(np_a.shape[1])\n",
        "\n",
        "for row in range(np_a.shape[0]):\n",
        "    for col in range(np_a.shape[1]):\n",
        "        sum_all[col] = sum_all[col] + np_a[row,col]     \n",
        "print(sum_all) "
      ],
      "execution_count": 38,
      "outputs": [
        {
          "output_type": "stream",
          "name": "stdout",
          "text": [
            "[5. 7. 9.]\n"
          ]
        }
      ]
    },
    {
      "cell_type": "markdown",
      "metadata": {
        "id": "qspZHG2WYkdp"
      },
      "source": [
        "Quiz กลุ่ม\n",
        "\n",
        "วนลูปหาค่า\n",
        "\n",
        "\n",
        "* np.sum(np_a,axis=1) sukuna \n",
        "* np.mean(np_a) i love อ.ต้น \n",
        "* np.mean(np_a,axis=0) natashar \n",
        "* np.mean(np_a,axis=1) teletubby\n",
        "* np.max(np_a) numba one \n",
        "* np.max(np_a,axis=0) เอกาไร้สติ \n",
        "* np.max(np_a,axis=1) sandbox \n",
        "* np.min(np_a) ลูกหมี \n",
        "* np.min(np_a,axis=0) wakame \n",
        "* np.min(np_a,axis=1) แมวส้ม \n",
        "\n"
      ]
    },
    {
      "cell_type": "code",
      "metadata": {
        "id": "g4WywoBsX5-x",
        "colab": {
          "base_uri": "https://localhost:8080/"
        },
        "outputId": "e0a15327-6eb3-422d-efe4-9cefe72fcd2c"
      },
      "source": [
        "sum_all = np.zeros(np_a.shape[0])\n",
        "\n",
        "for row in range(np_a.shape[0]):\n",
        "    for col in range(np_a.shape[1]):\n",
        "        sum_all[row] = sum_all[row] + np_a[row,col]     \n",
        "print(sum_all) "
      ],
      "execution_count": 39,
      "outputs": [
        {
          "output_type": "stream",
          "name": "stdout",
          "text": [
            "[ 6. 15.]\n"
          ]
        }
      ]
    },
    {
      "cell_type": "code",
      "metadata": {
        "id": "C0gUiExgnMAT",
        "colab": {
          "base_uri": "https://localhost:8080/"
        },
        "outputId": "5ff16507-f05f-40cf-d0c6-73cd9727be1b"
      },
      "source": [
        "#np.mean(np_a,axis=0)\n",
        "mean_all = np.zeros(np_a.shape[1])\n",
        "for row in range(np_a.shape[0]):\n",
        "     for col in range(np_a.shape[1]):\n",
        "          mean_all[col] = mean_all[col] + np_a[row,col]/np_a.shape[0]\n",
        "print(mean_all)"
      ],
      "execution_count": 40,
      "outputs": [
        {
          "output_type": "stream",
          "name": "stdout",
          "text": [
            "[2.5 3.5 4.5]\n"
          ]
        }
      ]
    },
    {
      "cell_type": "code",
      "metadata": {
        "id": "AHG8ouDunRw-",
        "colab": {
          "base_uri": "https://localhost:8080/"
        },
        "outputId": "393a6d7b-fca1-45d9-d3f5-7d3b59f4e13d"
      },
      "source": [
        "#np.mean(np_a,axis=1)\n",
        "sum_all = np.zeros(np_a.shape[0])\n",
        "for row in range(np_a.shape[0]):\n",
        "    for col in range(np_a.shape[1]): \n",
        "        sum_all[row] = sum_all[row] + np_a[row,col]\n",
        "sum_all = sum_all/np_a.shape[1]\n",
        "print(sum_all)"
      ],
      "execution_count": 41,
      "outputs": [
        {
          "output_type": "stream",
          "name": "stdout",
          "text": [
            "[2. 5.]\n"
          ]
        }
      ]
    },
    {
      "cell_type": "code",
      "metadata": {
        "id": "IoWMA3WLnV0M",
        "colab": {
          "base_uri": "https://localhost:8080/"
        },
        "outputId": "84822a7a-868d-4fdb-c06b-a6f8bd9ee4bd"
      },
      "source": [
        "#np.max(np_a)\n",
        "max_a = -100000000\n",
        "for row in range(np_a.shape[0]):\n",
        "    for col in range(np_a.shape[1]):\n",
        "        if np_a[row,col] > max_a :\n",
        "            max_a = np_a[row,col]\n",
        "print(max_a)\n"
      ],
      "execution_count": 42,
      "outputs": [
        {
          "output_type": "stream",
          "name": "stdout",
          "text": [
            "6\n"
          ]
        }
      ]
    },
    {
      "cell_type": "code",
      "metadata": {
        "id": "nUEOughZnYZV",
        "colab": {
          "base_uri": "https://localhost:8080/"
        },
        "outputId": "654fe0ac-dfb6-4ecc-a01a-bda5ceeec96e"
      },
      "source": [
        "### 10. np.min(np_a,axis=1)\n",
        "min_row = np.zeros(np_a.shape[0])\n",
        "for row in range(np_a.shape[0]):\n",
        "   min_row[row] = min(np_a[row,:])\n",
        "print(min_row)"
      ],
      "execution_count": 43,
      "outputs": [
        {
          "output_type": "stream",
          "name": "stdout",
          "text": [
            "[1. 4.]\n"
          ]
        }
      ]
    },
    {
      "cell_type": "code",
      "metadata": {
        "id": "ouFCnqxNncEg",
        "colab": {
          "base_uri": "https://localhost:8080/"
        },
        "outputId": "72638b48-120d-409a-a213-5953092338c8"
      },
      "source": [
        "# np.min(np_a,axis=0)\n",
        "min_all = np.zeros(np_a.shape[1])\n",
        "\n",
        "for col in range(np_a.shape[1]):\n",
        "    min_all[col] = min(np_a[:,col])\n",
        "print(min_all)"
      ],
      "execution_count": 44,
      "outputs": [
        {
          "output_type": "stream",
          "name": "stdout",
          "text": [
            "[1. 2. 3.]\n"
          ]
        }
      ]
    },
    {
      "cell_type": "code",
      "metadata": {
        "id": "64ZzlLxGnet9",
        "colab": {
          "base_uri": "https://localhost:8080/"
        },
        "outputId": "71e9709b-2f69-4658-f06e-6e98ec908799"
      },
      "source": [
        "# np.min(np_a) \n",
        "minV = 100000\n",
        "for row in range(np_a.shape[0]):\n",
        "    for col in range(np_a.shape[1]):\n",
        "        if np_a[row,col] < minV:\n",
        "            minV = np_a[row,col]\n",
        "print(minV)"
      ],
      "execution_count": 45,
      "outputs": [
        {
          "output_type": "stream",
          "name": "stdout",
          "text": [
            "1\n"
          ]
        }
      ]
    },
    {
      "cell_type": "code",
      "metadata": {
        "id": "1ZC5QwLong6b",
        "colab": {
          "base_uri": "https://localhost:8080/"
        },
        "outputId": "5919e84b-eb59-4638-9ab8-31ab329f0e39"
      },
      "source": [
        "# np.max(np_a,axis=0)\n",
        "max_all = -100000 * np.ones(np_a.shape[1])\n",
        "for col in range(np_a.shape[1]):\n",
        "    for row in range(np_a.shape[0]):\n",
        "        if np_a[row,col] > max_all[col]: \n",
        "            max_all[col] = np_a[row,col]\n",
        "print(max_all)"
      ],
      "execution_count": 46,
      "outputs": [
        {
          "output_type": "stream",
          "name": "stdout",
          "text": [
            "[4. 5. 6.]\n"
          ]
        }
      ]
    },
    {
      "cell_type": "code",
      "metadata": {
        "id": "IJ-5O1yKnlR8",
        "colab": {
          "base_uri": "https://localhost:8080/"
        },
        "outputId": "dbbbe047-6205-414b-8dbd-19c68a34d244"
      },
      "source": [
        "#np.mean(np_a)\n",
        "mean_all = 0\n",
        "for row in range(np_a.shape[0]):\n",
        "    for col in range(np_a.shape[1]):\n",
        "        mean_all = mean_all + np_a[row,col]\n",
        "mean_all = mean_all/(np_a.shape[0]*np_a.shape[1])\n",
        "print(mean_all)"
      ],
      "execution_count": 47,
      "outputs": [
        {
          "output_type": "stream",
          "name": "stdout",
          "text": [
            "3.5\n"
          ]
        }
      ]
    },
    {
      "cell_type": "code",
      "metadata": {
        "id": "Y0wHERUTnqEt",
        "colab": {
          "base_uri": "https://localhost:8080/"
        },
        "outputId": "6fc9af95-053d-4df8-f2d0-5c6d19c42f72"
      },
      "source": [
        "# np.max(np_a,axis=1)\n",
        "max_all = np.zeros(np_a.shape[0])\n",
        "for row in range(np_a.shape[0]):\n",
        "    max_all[row] = max(np_a[row,:])\n",
        "print(max_all)"
      ],
      "execution_count": 48,
      "outputs": [
        {
          "output_type": "stream",
          "name": "stdout",
          "text": [
            "[3. 6.]\n"
          ]
        }
      ]
    },
    {
      "cell_type": "markdown",
      "metadata": {
        "id": "AGaLQLbcYmb7"
      },
      "source": [
        "### Distance Matrix"
      ]
    },
    {
      "cell_type": "code",
      "metadata": {
        "id": "pUfEcoG9oPPg",
        "colab": {
          "base_uri": "https://localhost:8080/"
        },
        "outputId": "bfda111d-c674-4e75-f6f7-6b86edb74830"
      },
      "source": [
        "data1 = np.array([[1,2],[3,5],[2,0],[4,5]]) #สร้างจาก matrix จาก list\n",
        "data1  #4 แถว 2 column"
      ],
      "execution_count": 49,
      "outputs": [
        {
          "output_type": "execute_result",
          "data": {
            "text/plain": [
              "array([[1, 2],\n",
              "       [3, 5],\n",
              "       [2, 0],\n",
              "       [4, 5]])"
            ]
          },
          "metadata": {},
          "execution_count": 49
        }
      ]
    },
    {
      "cell_type": "code",
      "metadata": {
        "colab": {
          "base_uri": "https://localhost:8080/",
          "height": 283
        },
        "id": "v7y8l6wwZLnG",
        "outputId": "4ed52797-9933-4121-cd20-36d8ed29e57c"
      },
      "source": [
        "from matplotlib import pyplot as plt \n",
        "plt.scatter(data1[:,0],data1[:,1])  "
      ],
      "execution_count": 50,
      "outputs": [
        {
          "output_type": "execute_result",
          "data": {
            "text/plain": [
              "<matplotlib.collections.PathCollection at 0x7fd9d44a3e90>"
            ]
          },
          "metadata": {},
          "execution_count": 50
        },
        {
          "output_type": "display_data",
          "data": {
            "image/png": "[encoded data removed]",
            "text/plain": [
              "<Figure size 432x288 with 1 Axes>"
            ]
          },
          "metadata": {
            "needs_background": "light"
          }
        }
      ]
    },
    {
      "cell_type": "markdown",
      "metadata": {
        "id": "-qzNvCTGaf7Y"
      },
      "source": [
        "## Euclidean Distance (L2-norm)\n",
        "$\\sqrt{(x_1-x_2)^2+(y_1-y_2)^2}$"
      ]
    },
    {
      "cell_type": "markdown",
      "metadata": {
        "id": "qFhfoBmteDVW"
      },
      "source": [
        "dist(P1,P2) หาระยะห่าง P1 กับ P1"
      ]
    },
    {
      "cell_type": "code",
      "metadata": {
        "colab": {
          "base_uri": "https://localhost:8080/"
        },
        "id": "UJNWCZuGZ_jF",
        "outputId": "30eff646-7790-4f91-f967-e0ec70c6c2d1"
      },
      "source": [
        "dist_p1_p2 = np.sqrt(np.power(data1[0,0]-data1[1,0],2)+np.power(data1[0,1]-data1[1,1],2)) #np.power คือ ยกกำลัง\n",
        "dist_p1_p2"
      ],
      "execution_count": 51,
      "outputs": [
        {
          "output_type": "execute_result",
          "data": {
            "text/plain": [
              "3.605551275463989"
            ]
          },
          "metadata": {},
          "execution_count": 51
        }
      ]
    },
    {
      "cell_type": "code",
      "metadata": {
        "colab": {
          "base_uri": "https://localhost:8080/"
        },
        "id": "_Ujj4s9OdU_m",
        "outputId": "81713187-96f1-4506-9496-919e63bde036"
      },
      "source": [
        "dist_p1_p2 = np.power(np.power(data1[0,0]-data1[1,0],2)+np.power(data1[0,1]-data1[1,1],2),0.5) #np.power คือ ยกกำลัง\n",
        "dist_p1_p2"
      ],
      "execution_count": 52,
      "outputs": [
        {
          "output_type": "execute_result",
          "data": {
            "text/plain": [
              "3.605551275463989"
            ]
          },
          "metadata": {},
          "execution_count": 52
        }
      ]
    },
    {
      "cell_type": "markdown",
      "metadata": {
        "id": "CQonyhKKewRz"
      },
      "source": [
        "dist(P2,P4)"
      ]
    },
    {
      "cell_type": "code",
      "metadata": {
        "colab": {
          "base_uri": "https://localhost:8080/"
        },
        "id": "uOiJxXIMeAhv",
        "outputId": "efc38607-2be2-4a59-8650-09a8c96fe110"
      },
      "source": [
        "dist_p1_p2 = np.sqrt(np.power(data1[1,0]-data1[3,0],2)+np.power(data1[1,1]-data1[3,1],2)) #np.power คือ ยกกำลัง\n",
        "dist_p1_p2"
      ],
      "execution_count": 53,
      "outputs": [
        {
          "output_type": "execute_result",
          "data": {
            "text/plain": [
              "1.0"
            ]
          },
          "metadata": {},
          "execution_count": 53
        }
      ]
    },
    {
      "cell_type": "markdown",
      "metadata": {
        "id": "XSMKiP7vf-yq"
      },
      "source": [
        "Distance Function"
      ]
    },
    {
      "cell_type": "markdown",
      "metadata": {
        "id": "hcmBl85WgxU9"
      },
      "source": [
        "p1 = [x,y]\n"
      ]
    },
    {
      "cell_type": "code",
      "metadata": {
        "id": "1GbDxf7VezL6"
      },
      "source": [
        "def dist_l2_2(p1,p2):\n",
        "    return np.sqrt(np.power(p1[0]-p2[0],2)+np.power(p1[1]-p2[1],2)) "
      ],
      "execution_count": 54,
      "outputs": []
    },
    {
      "cell_type": "code",
      "metadata": {
        "colab": {
          "base_uri": "https://localhost:8080/"
        },
        "id": "V-2xEdaNg1UX",
        "outputId": "a98407bf-0952-43ea-b15c-666c2266d7a6"
      },
      "source": [
        "#P1 กับ P2\n",
        "dist_l2_2(data1[0,:],data1[1,:]) # data1[แถว1,ทุกๆหลัก],data1[แถว2,ทุกๆหลัก]"
      ],
      "execution_count": 55,
      "outputs": [
        {
          "output_type": "execute_result",
          "data": {
            "text/plain": [
              "3.605551275463989"
            ]
          },
          "metadata": {},
          "execution_count": 55
        }
      ]
    },
    {
      "cell_type": "code",
      "metadata": {
        "colab": {
          "base_uri": "https://localhost:8080/"
        },
        "id": "V9CNpBgMhEIZ",
        "outputId": "e53eb3e4-13cc-4ea8-a4ac-1f4e7625b44d"
      },
      "source": [
        "dist_l2_2(data1[1,:],data1[3,:])  #จุดที่ 2 คือ 1 , จุดที่ 2 คือ 3"
      ],
      "execution_count": 56,
      "outputs": [
        {
          "output_type": "execute_result",
          "data": {
            "text/plain": [
              "1.0"
            ]
          },
          "metadata": {},
          "execution_count": 56
        }
      ]
    },
    {
      "cell_type": "markdown",
      "metadata": {
        "id": "P3O5LQrfh75_"
      },
      "source": [
        "dim = n "
      ]
    },
    {
      "cell_type": "code",
      "metadata": {
        "id": "yJvYMHSWhW0v"
      },
      "source": [
        "def dist_l2_n(p1,p2):\n",
        "    sum = 0\n",
        "    for i in range(len(p1)):\n",
        "        sum = sum + np.power(p1[i]-p2[i],2)\n",
        "    return np.sqrt(sum)"
      ],
      "execution_count": 57,
      "outputs": []
    },
    {
      "cell_type": "code",
      "metadata": {
        "colab": {
          "base_uri": "https://localhost:8080/"
        },
        "id": "2lYerfnvj0tP",
        "outputId": "92d2e035-1846-4e74-e58c-e0778c786600"
      },
      "source": [
        "dist_l2_n(data1[0,:],data1[1,:])"
      ],
      "execution_count": 58,
      "outputs": [
        {
          "output_type": "execute_result",
          "data": {
            "text/plain": [
              "3.605551275463989"
            ]
          },
          "metadata": {},
          "execution_count": 58
        }
      ]
    },
    {
      "cell_type": "markdown",
      "metadata": {
        "id": "18DSbPJikKZq"
      },
      "source": [
        "## Manhattan Distance (L1-norm)\n",
        "$|x_1-x_2|+|y_1-y_2|$"
      ]
    },
    {
      "cell_type": "markdown",
      "metadata": {
        "id": "9Fzs1DXFkg_N"
      },
      "source": [
        "Quiz6 เขียน function คำนวณ manhattan distance ของ ข้อมูล 2 dimensions"
      ]
    },
    {
      "cell_type": "code",
      "metadata": {
        "id": "RL4SE5tKlB-u"
      },
      "source": [
        "def dist_l1(p1,p2):\n",
        "   return (np.abs(p1[0] - p2[0]) + np.abs(p1[1] - p2[1]))"
      ],
      "execution_count": 59,
      "outputs": []
    },
    {
      "cell_type": "code",
      "metadata": {
        "colab": {
          "base_uri": "https://localhost:8080/"
        },
        "id": "98Lz_M8Zl5l-",
        "outputId": "35d680e5-3916-4aff-c321-05b65336dda7"
      },
      "source": [
        "dist_l1(data1[0,:],data1[1,:])"
      ],
      "execution_count": 60,
      "outputs": [
        {
          "output_type": "execute_result",
          "data": {
            "text/plain": [
              "5"
            ]
          },
          "metadata": {},
          "execution_count": 60
        }
      ]
    },
    {
      "cell_type": "markdown",
      "metadata": {
        "id": "J-BiXfwjoybP"
      },
      "source": [
        "## HW11\n",
        "* Function คำนวณ manhattan distance ของ ข้อมูล N dimensions\n",
        "* Function คำนวณ L-$\\infty$ ของ ข้อมูล N dimensions\n",
        "* Function คำนวณ Distance Matrix ด้วย Euclidean Distance (bonus)"
      ]
    },
    {
      "cell_type": "markdown",
      "metadata": {
        "id": "A3DHHTNUZ7QA"
      },
      "source": [
        "\n",
        "**1. Function คำนวณ manhattan distance ของ ข้อมูล N**"
      ]
    },
    {
      "cell_type": "code",
      "metadata": {
        "id": "oSUMmuYWoW1d"
      },
      "source": [
        "def dist_l1_n(p1,p2):\n",
        "    sum = 0\n",
        "    for i in range(len(p1)):\n",
        "        sum = sum + np.abs(p1[i]-p2[i])\n",
        "    return sum"
      ],
      "execution_count": 63,
      "outputs": []
    },
    {
      "cell_type": "code",
      "metadata": {
        "id": "SVbFsSIRanK9",
        "outputId": "ab06f2b5-15f0-4c5d-c47f-bd8169a83e78",
        "colab": {
          "base_uri": "https://localhost:8080/"
        }
      },
      "source": [
        "dist_l1_n(data1[0,:],data1[1,:])"
      ],
      "execution_count": 64,
      "outputs": [
        {
          "output_type": "execute_result",
          "data": {
            "text/plain": [
              "5"
            ]
          },
          "metadata": {},
          "execution_count": 64
        }
      ]
    },
    {
      "cell_type": "code",
      "metadata": {
        "id": "6IPpTCvEayzO",
        "outputId": "13e1d1b2-bb19-406f-867d-c05b4e1932db",
        "colab": {
          "base_uri": "https://localhost:8080/"
        }
      },
      "source": [
        "dist_l1_n(data1[0,:],data1[3,:])"
      ],
      "execution_count": 67,
      "outputs": [
        {
          "output_type": "execute_result",
          "data": {
            "text/plain": [
              "6"
            ]
          },
          "metadata": {},
          "execution_count": 67
        }
      ]
    },
    {
      "cell_type": "markdown",
      "metadata": {
        "id": "uiWkY2STcMwT"
      },
      "source": [
        "**2. Function คำนวณ L- ∞ ของ ข้อมูล N dimensions**\n",
        "\n",
        "หาแกนที่มีค่ามากสุด\n",
        "\n"
      ]
    },
    {
      "cell_type": "markdown",
      "metadata": {
        "id": "gOrjC2OhkQ4F"
      },
      "source": [
        "$d = max|x_1-x_2|$"
      ]
    },
    {
      "cell_type": "code",
      "metadata": {
        "id": "mb1dZipscMW3"
      },
      "source": [
        "def dist_linfinity_n(p1,p2):\n",
        "    for i in range(len(p1)):\n",
        "        max = np.abs(p1[i] - p2[i])\n",
        "    return max"
      ],
      "execution_count": 70,
      "outputs": []
    },
    {
      "cell_type": "markdown",
      "metadata": {
        "id": "hTEQnS55ckYW"
      },
      "source": [
        "X1 กับ X2"
      ]
    },
    {
      "cell_type": "code",
      "metadata": {
        "id": "xwdwQJ4ScZSP",
        "outputId": "31e44a40-c317-4c19-af3c-79ef95ebab56",
        "colab": {
          "base_uri": "https://localhost:8080/"
        }
      },
      "source": [
        "dist_linfinity_n(data1[0,:],data1[1,:])"
      ],
      "execution_count": 72,
      "outputs": [
        {
          "output_type": "execute_result",
          "data": {
            "text/plain": [
              "3"
            ]
          },
          "metadata": {},
          "execution_count": 72
        }
      ]
    },
    {
      "cell_type": "markdown",
      "metadata": {
        "id": "MHqKonqBcvaV"
      },
      "source": [
        "X4 กับ X3"
      ]
    },
    {
      "cell_type": "code",
      "metadata": {
        "id": "uCts6aMzco3b",
        "outputId": "4d07b825-4413-4587-b1a0-98c234962908",
        "colab": {
          "base_uri": "https://localhost:8080/"
        }
      },
      "source": [
        "dist_linfinity_n(data1[3,:],data1[2,:])"
      ],
      "execution_count": 73,
      "outputs": [
        {
          "output_type": "execute_result",
          "data": {
            "text/plain": [
              "5"
            ]
          },
          "metadata": {},
          "execution_count": 73
        }
      ]
    },
    {
      "cell_type": "markdown",
      "metadata": {
        "id": "GEdEG0NJdKUG"
      },
      "source": [
        "**3. Function คำนวณ Distance Matrix ด้วย Euclidean Distance (bonus)**"
      ]
    },
    {
      "cell_type": "code",
      "metadata": {
        "id": "hey7NnHgpZGf",
        "outputId": "8a09c7a3-d053-4983-9bf2-2705e0fd8bc6",
        "colab": {
          "base_uri": "https://localhost:8080/"
        }
      },
      "source": [
        "from scipy.spatial import distance\n",
        "data1 = np.array([[1,2],[3,5],[2,0],[4,5]])\n",
        "d = distance.euclidean(p1, p2)\n",
        "print(d)"
      ],
      "execution_count": 93,
      "outputs": [
        {
          "output_type": "stream",
          "name": "stdout",
          "text": [
            "3.1622776601683795\n"
          ]
        }
      ]
    },
    {
      "cell_type": "code",
      "metadata": {
        "id": "W2oJRugrq58I"
      },
      "source": [
        ""
      ],
      "execution_count": null,
      "outputs": []
    }
  ]
}