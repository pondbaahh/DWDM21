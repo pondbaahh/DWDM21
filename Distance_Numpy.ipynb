{
  "nbformat": 4,
  "nbformat_minor": 0,
  "metadata": {
    "colab": {
      "name": "Distance Numpy.ipynb",
      "provenance": [],
      "authorship_tag": "ABX9TyPw5zZcc+KZKccalyG4IZIQ",
      "include_colab_link": true
    },
    "kernelspec": {
      "name": "python3",
      "display_name": "Python 3"
    },
    "language_info": {
      "name": "python"
    }
  },
  "cells": [
    {
      "cell_type": "markdown",
      "metadata": {
        "id": "view-in-github",
        "colab_type": "text"
      },
      "source": [
        "<a href=\"https://colab.research.google.com/github/pondbaahh/DWDM21/blob/main/Distance_Numpy.ipynb\" target=\"_parent\"><img src=\"https://colab.research.google.com/assets/colab-badge.svg\" alt=\"Open In Colab\"/></a>"
      ]
    },
    {
      "cell_type": "code",
      "metadata": {
        "id": "opPx8qYjcwCQ"
      },
      "source": [
        "import numpy as np # package สำหรับทำงานกับ ข้อมูลที่เป็นตัวเลข (อยู่ในรูปแบบ Matrix)"
      ],
      "execution_count": 3,
      "outputs": []
    },
    {
      "cell_type": "markdown",
      "metadata": {
        "id": "Zq1j7XcLdmTu"
      },
      "source": [
        "### Numpy Array"
      ]
    },
    {
      "cell_type": "markdown",
      "metadata": {
        "id": "p_uoARJ9fMDT"
      },
      "source": [
        "### สร้าง numpy array (matrix) จาก list"
      ]
    },
    {
      "cell_type": "code",
      "metadata": {
        "id": "XJf6PNtqdlta"
      },
      "source": [
        "np_a = np.array([[1,2,3],[4,5,6]]) #สร้าง numpy array ที่มี2 แถว 3 หลัก"
      ],
      "execution_count": 4,
      "outputs": []
    },
    {
      "cell_type": "code",
      "metadata": {
        "colab": {
          "base_uri": "https://localhost:8080/"
        },
        "id": "PjcLJyIyd8AE",
        "outputId": "f189818e-f176-4e88-cba2-dbd1050e37b1"
      },
      "source": [
        "np_a"
      ],
      "execution_count": 5,
      "outputs": [
        {
          "output_type": "execute_result",
          "data": {
            "text/plain": [
              "array([[1, 2, 3],\n",
              "       [4, 5, 6]])"
            ]
          },
          "metadata": {},
          "execution_count": 5
        }
      ]
    },
    {
      "cell_type": "code",
      "metadata": {
        "colab": {
          "base_uri": "https://localhost:8080/"
        },
        "id": "6rr2RSxueSE1",
        "outputId": "69cd86d0-7454-4ac5-e727-c21ba0d390c7"
      },
      "source": [
        "np_a.shape"
      ],
      "execution_count": 6,
      "outputs": [
        {
          "output_type": "execute_result",
          "data": {
            "text/plain": [
              "(2, 3)"
            ]
          },
          "metadata": {},
          "execution_count": 6
        }
      ]
    },
    {
      "cell_type": "code",
      "metadata": {
        "colab": {
          "base_uri": "https://localhost:8080/"
        },
        "id": "q6IUNlrXeViV",
        "outputId": "858cf642-5e1e-4d8c-900a-ade9848bea20"
      },
      "source": [
        "np_b = np.array([[1,4],[2,5],[3,6]])\n",
        "np_b"
      ],
      "execution_count": 7,
      "outputs": [
        {
          "output_type": "execute_result",
          "data": {
            "text/plain": [
              "array([[1, 4],\n",
              "       [2, 5],\n",
              "       [3, 6]])"
            ]
          },
          "metadata": {},
          "execution_count": 7
        }
      ]
    },
    {
      "cell_type": "markdown",
      "metadata": {
        "id": "j0W8_jBOfDZx"
      },
      "source": [
        "##matrix transpose"
      ]
    },
    {
      "cell_type": "code",
      "metadata": {
        "colab": {
          "base_uri": "https://localhost:8080/"
        },
        "id": "uuX9pf0ifHAY",
        "outputId": "5371430f-43f3-4eed-da67-913a8b21e450"
      },
      "source": [
        "np_a.T"
      ],
      "execution_count": 8,
      "outputs": [
        {
          "output_type": "execute_result",
          "data": {
            "text/plain": [
              "array([[1, 4],\n",
              "       [2, 5],\n",
              "       [3, 6]])"
            ]
          },
          "metadata": {},
          "execution_count": 8
        }
      ]
    },
    {
      "cell_type": "markdown",
      "metadata": {
        "id": "DFr0Pp-bfWgK"
      },
      "source": [
        "##สร้าง matrix เริ่มต้น (zeros,ones)"
      ]
    },
    {
      "cell_type": "code",
      "metadata": {
        "colab": {
          "base_uri": "https://localhost:8080/"
        },
        "id": "VoUJdi2zffKC",
        "outputId": "f979956e-1926-4660-9d35-e710b7c352d8"
      },
      "source": [
        "np_z = np.zeros((4,5))\n",
        "np_z"
      ],
      "execution_count": 9,
      "outputs": [
        {
          "output_type": "execute_result",
          "data": {
            "text/plain": [
              "array([[0., 0., 0., 0., 0.],\n",
              "       [0., 0., 0., 0., 0.],\n",
              "       [0., 0., 0., 0., 0.],\n",
              "       [0., 0., 0., 0., 0.]])"
            ]
          },
          "metadata": {},
          "execution_count": 9
        }
      ]
    },
    {
      "cell_type": "code",
      "metadata": {
        "colab": {
          "base_uri": "https://localhost:8080/"
        },
        "id": "5Sqtxynsfl9v",
        "outputId": "853faa6d-9b9d-4b2b-bbfe-0f4388e2ad1a"
      },
      "source": [
        "np_o = np.ones((5,6))\n",
        "np_o"
      ],
      "execution_count": 10,
      "outputs": [
        {
          "output_type": "execute_result",
          "data": {
            "text/plain": [
              "array([[1., 1., 1., 1., 1., 1.],\n",
              "       [1., 1., 1., 1., 1., 1.],\n",
              "       [1., 1., 1., 1., 1., 1.],\n",
              "       [1., 1., 1., 1., 1., 1.],\n",
              "       [1., 1., 1., 1., 1., 1.]])"
            ]
          },
          "metadata": {},
          "execution_count": 10
        }
      ]
    },
    {
      "cell_type": "code",
      "metadata": {
        "colab": {
          "base_uri": "https://localhost:8080/"
        },
        "id": "mM50TLBTgE8_",
        "outputId": "0409952e-f9a7-4873-8e23-553469063163"
      },
      "source": [
        "np_200 = 200*np.ones((4,7))\n",
        "np_200  # เอา 200 มาคูณ"
      ],
      "execution_count": 11,
      "outputs": [
        {
          "output_type": "execute_result",
          "data": {
            "text/plain": [
              "array([[200., 200., 200., 200., 200., 200., 200.],\n",
              "       [200., 200., 200., 200., 200., 200., 200.],\n",
              "       [200., 200., 200., 200., 200., 200., 200.],\n",
              "       [200., 200., 200., 200., 200., 200., 200.]])"
            ]
          },
          "metadata": {},
          "execution_count": 11
        }
      ]
    },
    {
      "cell_type": "markdown",
      "metadata": {
        "id": "UmFacYCrgZXL"
      },
      "source": [
        "## สร้าง Matrix random "
      ]
    },
    {
      "cell_type": "code",
      "metadata": {
        "colab": {
          "base_uri": "https://localhost:8080/"
        },
        "id": "F4bNa-wggOOK",
        "outputId": "e2d65405-c390-4021-87a5-d3ffd0b96de0"
      },
      "source": [
        "np.random.randn(5,5)  #random เลขมาจาก normal distribution ที่มี mu=0 std=1"
      ],
      "execution_count": 12,
      "outputs": [
        {
          "output_type": "execute_result",
          "data": {
            "text/plain": [
              "array([[-1.23186356, -0.85667396,  1.37974479,  0.53061583,  0.056096  ],\n",
              "       [ 1.98403694, -1.12766386,  0.48748359,  0.73574938, -0.95492415],\n",
              "       [ 1.06972471,  0.91265944,  0.24797593, -0.15358647, -0.47252412],\n",
              "       [ 0.89671251,  0.80164155,  0.12815356, -0.65268793, -1.58452363],\n",
              "       [-1.1624451 ,  1.5633624 , -1.23007643,  0.13550417,  0.56067354]])"
            ]
          },
          "metadata": {},
          "execution_count": 12
        }
      ]
    },
    {
      "cell_type": "code",
      "metadata": {
        "colab": {
          "base_uri": "https://localhost:8080/"
        },
        "id": "hhCTvLgTgy9a",
        "outputId": "de9851b5-5f22-4f9a-9c58-e3d0efebb1a2"
      },
      "source": [
        "2+(5*np.random.randn(3,3)) #random เลขมาจาก normal distribution ที่มี mu=2 std=5"
      ],
      "execution_count": 13,
      "outputs": [
        {
          "output_type": "execute_result",
          "data": {
            "text/plain": [
              "array([[ 1.19174994, 12.05577941, -2.02079098],\n",
              "       [12.98471603, -1.04279007, -1.56883298],\n",
              "       [ 1.05065502,  8.48371054,  1.26701604]])"
            ]
          },
          "metadata": {},
          "execution_count": 13
        }
      ]
    },
    {
      "cell_type": "code",
      "metadata": {
        "colab": {
          "base_uri": "https://localhost:8080/"
        },
        "id": "3Mkxd6VvhVbw",
        "outputId": "4cc36c77-2d3f-40df-dacb-f5e19717b1fc"
      },
      "source": [
        "np.random.randint(5,11,(4,5)) #random เลขจำนวนเต็ม ระหว่าง[5,11] ขนาด (4x5)"
      ],
      "execution_count": 14,
      "outputs": [
        {
          "output_type": "execute_result",
          "data": {
            "text/plain": [
              "array([[10,  9,  7,  8, 10],\n",
              "       [10,  8,  7,  8,  5],\n",
              "       [ 9,  6,  5,  9,  6],\n",
              "       [10,  5,  5,  6, 10]])"
            ]
          },
          "metadata": {},
          "execution_count": 14
        }
      ]
    },
    {
      "cell_type": "markdown",
      "metadata": {
        "id": "UtCgA9jVOn2p"
      },
      "source": [
        "## matrix poroperties"
      ]
    },
    {
      "cell_type": "code",
      "metadata": {
        "id": "mWQdWIXkh8zI",
        "colab": {
          "base_uri": "https://localhost:8080/"
        },
        "outputId": "1c9c1ef2-c381-46cd-cd0e-08b88ad72588"
      },
      "source": [
        "np_a"
      ],
      "execution_count": 15,
      "outputs": [
        {
          "output_type": "execute_result",
          "data": {
            "text/plain": [
              "array([[1, 2, 3],\n",
              "       [4, 5, 6]])"
            ]
          },
          "metadata": {},
          "execution_count": 15
        }
      ]
    },
    {
      "cell_type": "code",
      "metadata": {
        "id": "yixBmgxeOxt-",
        "colab": {
          "base_uri": "https://localhost:8080/"
        },
        "outputId": "67cc92b5-cd65-464b-f4c7-fc6eac7c7f3e"
      },
      "source": [
        "np_a.T #ทำการ transpose"
      ],
      "execution_count": 16,
      "outputs": [
        {
          "output_type": "execute_result",
          "data": {
            "text/plain": [
              "array([[1, 4],\n",
              "       [2, 5],\n",
              "       [3, 6]])"
            ]
          },
          "metadata": {},
          "execution_count": 16
        }
      ]
    },
    {
      "cell_type": "code",
      "metadata": {
        "id": "7qERTz_tO4oh",
        "colab": {
          "base_uri": "https://localhost:8080/"
        },
        "outputId": "8ed2348b-97c8-49bf-a56f-abc1a741b45b"
      },
      "source": [
        "1 + np_a #เอาตัวเลขมาบวกกับ matrix"
      ],
      "execution_count": 17,
      "outputs": [
        {
          "output_type": "execute_result",
          "data": {
            "text/plain": [
              "array([[2, 3, 4],\n",
              "       [5, 6, 7]])"
            ]
          },
          "metadata": {},
          "execution_count": 17
        }
      ]
    },
    {
      "cell_type": "code",
      "metadata": {
        "id": "VWH9b4X_PEiN",
        "colab": {
          "base_uri": "https://localhost:8080/"
        },
        "outputId": "e017abd1-768a-4ae0-a4df-ba549c8422a9"
      },
      "source": [
        "2 * np_a #เอาตัวเลขมาคูณกับ matrix"
      ],
      "execution_count": 18,
      "outputs": [
        {
          "output_type": "execute_result",
          "data": {
            "text/plain": [
              "array([[ 2,  4,  6],\n",
              "       [ 8, 10, 12]])"
            ]
          },
          "metadata": {},
          "execution_count": 18
        }
      ]
    },
    {
      "cell_type": "code",
      "metadata": {
        "id": "h-1u8cgFPLpQ",
        "colab": {
          "base_uri": "https://localhost:8080/"
        },
        "outputId": "cccfa65b-d454-448e-d9ac-98227cd4ddb6"
      },
      "source": [
        "np_c = np.array([[6,5,4],[3,2,1]])\n",
        "np_c"
      ],
      "execution_count": 19,
      "outputs": [
        {
          "output_type": "execute_result",
          "data": {
            "text/plain": [
              "array([[6, 5, 4],\n",
              "       [3, 2, 1]])"
            ]
          },
          "metadata": {},
          "execution_count": 19
        }
      ]
    },
    {
      "cell_type": "code",
      "metadata": {
        "id": "QIN609hmPbFR",
        "colab": {
          "base_uri": "https://localhost:8080/"
        },
        "outputId": "c34f7b48-29a3-495a-c195-3bd20f90c35a"
      },
      "source": [
        "np_a + np_c #เอา matrix มาบวกกับ matrix"
      ],
      "execution_count": 20,
      "outputs": [
        {
          "output_type": "execute_result",
          "data": {
            "text/plain": [
              "array([[7, 7, 7],\n",
              "       [7, 7, 7]])"
            ]
          },
          "metadata": {},
          "execution_count": 20
        }
      ]
    },
    {
      "cell_type": "code",
      "metadata": {
        "id": "Z91rSmMhPmtx",
        "colab": {
          "base_uri": "https://localhost:8080/"
        },
        "outputId": "01dd7feb-0f04-4164-b85c-65c9424ab4ff"
      },
      "source": [
        "np_a.shape #ดูขนาดได้ 2*3"
      ],
      "execution_count": 21,
      "outputs": [
        {
          "output_type": "execute_result",
          "data": {
            "text/plain": [
              "(2, 3)"
            ]
          },
          "metadata": {},
          "execution_count": 21
        }
      ]
    },
    {
      "cell_type": "code",
      "metadata": {
        "id": "PQ_9KREiQPPt",
        "colab": {
          "base_uri": "https://localhost:8080/"
        },
        "outputId": "cbd1290c-f921-4660-ea60-a5416c8e7aa1"
      },
      "source": [
        "np_c.shape #ดูขนาดได้ 2*3"
      ],
      "execution_count": 22,
      "outputs": [
        {
          "output_type": "execute_result",
          "data": {
            "text/plain": [
              "(2, 3)"
            ]
          },
          "metadata": {},
          "execution_count": 22
        }
      ]
    },
    {
      "cell_type": "code",
      "metadata": {
        "id": "GEGzyfubQWQF"
      },
      "source": [
        "#np.dot(np_a,np_c) #การคูณ matrix (a,b) x (b,c) = (a,c)\n",
        "#หลักของตัวหน้า เท่า แถวของตัวหลัง ถึงคูณกันได้"
      ],
      "execution_count": 23,
      "outputs": []
    },
    {
      "cell_type": "code",
      "metadata": {
        "id": "n0c81dLUQxh7",
        "colab": {
          "base_uri": "https://localhost:8080/"
        },
        "outputId": "3720a255-a8ca-4ee7-ea92-0c23987e17f2"
      },
      "source": [
        "np_c.T"
      ],
      "execution_count": 24,
      "outputs": [
        {
          "output_type": "execute_result",
          "data": {
            "text/plain": [
              "array([[6, 3],\n",
              "       [5, 2],\n",
              "       [4, 1]])"
            ]
          },
          "metadata": {},
          "execution_count": 24
        }
      ]
    },
    {
      "cell_type": "code",
      "metadata": {
        "id": "JR94mzUjRNVp",
        "colab": {
          "base_uri": "https://localhost:8080/"
        },
        "outputId": "6433e1f3-739f-447d-cd4f-d01d5aa82531"
      },
      "source": [
        "np.dot(np_a,np_c.T)  #การคูณ matrix (a,b) x (b,c) = (a,c)"
      ],
      "execution_count": 25,
      "outputs": [
        {
          "output_type": "execute_result",
          "data": {
            "text/plain": [
              "array([[28, 10],\n",
              "       [73, 28]])"
            ]
          },
          "metadata": {},
          "execution_count": 25
        }
      ]
    },
    {
      "cell_type": "markdown",
      "metadata": {
        "id": "nUzXrH88RXLJ"
      },
      "source": [
        "## Indexing & Slicing"
      ]
    },
    {
      "cell_type": "code",
      "metadata": {
        "id": "iXlwTaKnRdcp",
        "colab": {
          "base_uri": "https://localhost:8080/"
        },
        "outputId": "a5a08de9-cc74-4026-f46e-084a7e40e527"
      },
      "source": [
        "np_a # เริ่มจากแถว 0 ,1 หลัก 0,1,2"
      ],
      "execution_count": 26,
      "outputs": [
        {
          "output_type": "execute_result",
          "data": {
            "text/plain": [
              "array([[1, 2, 3],\n",
              "       [4, 5, 6]])"
            ]
          },
          "metadata": {},
          "execution_count": 26
        }
      ]
    },
    {
      "cell_type": "code",
      "metadata": {
        "id": "v-JA4m4lRiOG",
        "colab": {
          "base_uri": "https://localhost:8080/"
        },
        "outputId": "a24f5bb7-b2ab-4224-c7c3-f8875dc052b9"
      },
      "source": [
        "np_a[1,1]"
      ],
      "execution_count": 27,
      "outputs": [
        {
          "output_type": "execute_result",
          "data": {
            "text/plain": [
              "5"
            ]
          },
          "metadata": {},
          "execution_count": 27
        }
      ]
    },
    {
      "cell_type": "code",
      "metadata": {
        "id": "fF-fOJbNSFxs",
        "colab": {
          "base_uri": "https://localhost:8080/"
        },
        "outputId": "5f452273-f735-480f-a658-2b7d57112094"
      },
      "source": [
        "np_a[:2,:2]"
      ],
      "execution_count": 28,
      "outputs": [
        {
          "output_type": "execute_result",
          "data": {
            "text/plain": [
              "array([[1, 2],\n",
              "       [4, 5]])"
            ]
          },
          "metadata": {},
          "execution_count": 28
        }
      ]
    },
    {
      "cell_type": "code",
      "metadata": {
        "id": "kHLvhU3JSV69",
        "colab": {
          "base_uri": "https://localhost:8080/"
        },
        "outputId": "b3be366b-9585-4e58-dba1-8fcd6365bdee"
      },
      "source": [
        "np_a[0,:]"
      ],
      "execution_count": 29,
      "outputs": [
        {
          "output_type": "execute_result",
          "data": {
            "text/plain": [
              "array([1, 2, 3])"
            ]
          },
          "metadata": {},
          "execution_count": 29
        }
      ]
    },
    {
      "cell_type": "markdown",
      "metadata": {
        "id": "GkPvv96iSoPq"
      },
      "source": [
        "## Useful Functions"
      ]
    },
    {
      "cell_type": "code",
      "metadata": {
        "id": "Fh38GM4PS7xK",
        "colab": {
          "base_uri": "https://localhost:8080/"
        },
        "outputId": "482d68a8-39c5-4b7e-f0db-82ed4e7ef02d"
      },
      "source": [
        "np_a"
      ],
      "execution_count": 30,
      "outputs": [
        {
          "output_type": "execute_result",
          "data": {
            "text/plain": [
              "array([[1, 2, 3],\n",
              "       [4, 5, 6]])"
            ]
          },
          "metadata": {},
          "execution_count": 30
        }
      ]
    },
    {
      "cell_type": "code",
      "metadata": {
        "id": "YeWJlRdgSa-W",
        "colab": {
          "base_uri": "https://localhost:8080/"
        },
        "outputId": "00e1499f-7851-4070-99ee-c9b107b10b09"
      },
      "source": [
        "np.sum(np_a) #การวมเลขของ np_a"
      ],
      "execution_count": 31,
      "outputs": [
        {
          "output_type": "execute_result",
          "data": {
            "text/plain": [
              "21"
            ]
          },
          "metadata": {},
          "execution_count": 31
        }
      ]
    },
    {
      "cell_type": "code",
      "metadata": {
        "id": "UhQkrO9AS9td",
        "colab": {
          "base_uri": "https://localhost:8080/"
        },
        "outputId": "834d0cda-110c-4be7-96c1-76e3f170dc74"
      },
      "source": [
        "np.sum(np_a,axis=0) #axis คือการเอาค่าในแกนตั้งมารวมกัน"
      ],
      "execution_count": 32,
      "outputs": [
        {
          "output_type": "execute_result",
          "data": {
            "text/plain": [
              "array([5, 7, 9])"
            ]
          },
          "metadata": {},
          "execution_count": 32
        }
      ]
    },
    {
      "cell_type": "code",
      "metadata": {
        "id": "f37Q0xgaTWYU",
        "colab": {
          "base_uri": "https://localhost:8080/"
        },
        "outputId": "95bc0dc0-e286-41ad-8b6f-3cbee099fa59"
      },
      "source": [
        "np.sum(np_a,axis=1)#axis คือการเอาค่าในแกนนอนมารวมกัน"
      ],
      "execution_count": 33,
      "outputs": [
        {
          "output_type": "execute_result",
          "data": {
            "text/plain": [
              "array([ 6, 15])"
            ]
          },
          "metadata": {},
          "execution_count": 33
        }
      ]
    },
    {
      "cell_type": "code",
      "metadata": {
        "id": "FGgyJKcqTdRN",
        "colab": {
          "base_uri": "https://localhost:8080/"
        },
        "outputId": "07e10225-56a6-472b-c8c9-acd6b695193e"
      },
      "source": [
        "np.mean(np_a) #หาค่าmean"
      ],
      "execution_count": 34,
      "outputs": [
        {
          "output_type": "execute_result",
          "data": {
            "text/plain": [
              "3.5"
            ]
          },
          "metadata": {},
          "execution_count": 34
        }
      ]
    },
    {
      "cell_type": "code",
      "metadata": {
        "id": "4zXMcr2CTqEF",
        "colab": {
          "base_uri": "https://localhost:8080/"
        },
        "outputId": "f4098cec-8890-4998-c4d8-db387b5108a2"
      },
      "source": [
        "np.mean(np_a,axis=0) #หา mean ของ column"
      ],
      "execution_count": 35,
      "outputs": [
        {
          "output_type": "execute_result",
          "data": {
            "text/plain": [
              "array([2.5, 3.5, 4.5])"
            ]
          },
          "metadata": {},
          "execution_count": 35
        }
      ]
    },
    {
      "cell_type": "markdown",
      "metadata": {
        "id": "TiK7hY-dVCx2"
      },
      "source": [
        "### วนลูปเอง"
      ]
    },
    {
      "cell_type": "markdown",
      "metadata": {
        "id": "w9ABiYdFVM79"
      },
      "source": [
        "summation"
      ]
    },
    {
      "cell_type": "code",
      "metadata": {
        "id": "fH9v7UvrWz8r",
        "colab": {
          "base_uri": "https://localhost:8080/"
        },
        "outputId": "c453ef43-d4bf-41f4-a134-84af43daf0c5"
      },
      "source": [
        "np_a.shape"
      ],
      "execution_count": 36,
      "outputs": [
        {
          "output_type": "execute_result",
          "data": {
            "text/plain": [
              "(2, 3)"
            ]
          },
          "metadata": {},
          "execution_count": 36
        }
      ]
    },
    {
      "cell_type": "code",
      "metadata": {
        "id": "DNzQyLyfUNqy",
        "colab": {
          "base_uri": "https://localhost:8080/"
        },
        "outputId": "ee6892d4-2da8-4e17-81c7-fd0ab4339656"
      },
      "source": [
        "sum_all = 0\n",
        "\n",
        "for row in range(np_a.shape[0]):\n",
        "    for col in range(np_a.shape[1]):\n",
        "        sum_all = sum_all + np_a[row,col]\n",
        "        print(f'we are at row={row},col={col} np_a[{row},{col}]={np_a[row,col]} sum_all={sum_all}')\n",
        "print(sum_all)        "
      ],
      "execution_count": 37,
      "outputs": [
        {
          "output_type": "stream",
          "name": "stdout",
          "text": [
            "we are at row=0,col=0 np_a[0,0]=1 sum_all=1\n",
            "we are at row=0,col=1 np_a[0,1]=2 sum_all=3\n",
            "we are at row=0,col=2 np_a[0,2]=3 sum_all=6\n",
            "we are at row=1,col=0 np_a[1,0]=4 sum_all=10\n",
            "we are at row=1,col=1 np_a[1,1]=5 sum_all=15\n",
            "we are at row=1,col=2 np_a[1,2]=6 sum_all=21\n",
            "21\n"
          ]
        }
      ]
    },
    {
      "cell_type": "markdown",
      "metadata": {
        "id": "EFuPTm8JW-bC"
      },
      "source": [
        "np.sum(np_a,axis=0)"
      ]
    },
    {
      "cell_type": "code",
      "metadata": {
        "id": "I3jvfH6RW9Gl",
        "colab": {
          "base_uri": "https://localhost:8080/"
        },
        "outputId": "010173d6-084f-4be7-fa37-d179e7ee7631"
      },
      "source": [
        "sum_all = np.zeros(np_a.shape[1])\n",
        "\n",
        "for row in range(np_a.shape[0]):\n",
        "    for col in range(np_a.shape[1]):\n",
        "        sum_all[col] = sum_all[col] + np_a[row,col]     \n",
        "print(sum_all) "
      ],
      "execution_count": 38,
      "outputs": [
        {
          "output_type": "stream",
          "name": "stdout",
          "text": [
            "[5. 7. 9.]\n"
          ]
        }
      ]
    },
    {
      "cell_type": "markdown",
      "metadata": {
        "id": "qspZHG2WYkdp"
      },
      "source": [
        "Quiz กลุ่ม\n",
        "\n",
        "วนลูปหาค่า\n",
        "\n",
        "\n",
        "* np.sum(np_a,axis=1) sukuna \n",
        "* np.mean(np_a) i love อ.ต้น \n",
        "* np.mean(np_a,axis=0) natashar \n",
        "* np.mean(np_a,axis=1) teletubby\n",
        "* np.max(np_a) numba one \n",
        "* np.max(np_a,axis=0) เอกาไร้สติ \n",
        "* np.max(np_a,axis=1) sandbox \n",
        "* np.min(np_a) ลูกหมี \n",
        "* np.min(np_a,axis=0) wakame \n",
        "* np.min(np_a,axis=1) แมวส้ม \n",
        "\n"
      ]
    },
    {
      "cell_type": "code",
      "metadata": {
        "id": "g4WywoBsX5-x",
        "colab": {
          "base_uri": "https://localhost:8080/"
        },
        "outputId": "678d039f-8bb3-450d-b982-cf4aef5772d1"
      },
      "source": [
        "sum_all = np.zeros(np_a.shape[0])\n",
        "\n",
        "for row in range(np_a.shape[0]):\n",
        "    for col in range(np_a.shape[1]):\n",
        "        sum_all[row] = sum_all[row] + np_a[row,col]     \n",
        "print(sum_all) "
      ],
      "execution_count": 39,
      "outputs": [
        {
          "output_type": "stream",
          "name": "stdout",
          "text": [
            "[ 6. 15.]\n"
          ]
        }
      ]
    },
    {
      "cell_type": "code",
      "metadata": {
        "id": "C0gUiExgnMAT",
        "colab": {
          "base_uri": "https://localhost:8080/"
        },
        "outputId": "8f8356bf-be03-4969-d517-b526519c56ef"
      },
      "source": [
        "#np.mean(np_a,axis=0)\n",
        "mean_all = np.zeros(np_a.shape[1])\n",
        "for row in range(np_a.shape[0]):\n",
        "     for col in range(np_a.shape[1]):\n",
        "          mean_all[col] = mean_all[col] + np_a[row,col]/np_a.shape[0]\n",
        "print(mean_all)"
      ],
      "execution_count": 40,
      "outputs": [
        {
          "output_type": "stream",
          "name": "stdout",
          "text": [
            "[2.5 3.5 4.5]\n"
          ]
        }
      ]
    },
    {
      "cell_type": "code",
      "metadata": {
        "id": "AHG8ouDunRw-",
        "colab": {
          "base_uri": "https://localhost:8080/"
        },
        "outputId": "a38c52a0-797c-4c95-a4e7-e15261d49c9f"
      },
      "source": [
        "#np.mean(np_a,axis=1)\n",
        "sum_all = np.zeros(np_a.shape[0])\n",
        "for row in range(np_a.shape[0]):\n",
        "    for col in range(np_a.shape[1]): \n",
        "        sum_all[row] = sum_all[row] + np_a[row,col]\n",
        "sum_all = sum_all/np_a.shape[1]\n",
        "print(sum_all)"
      ],
      "execution_count": 41,
      "outputs": [
        {
          "output_type": "stream",
          "name": "stdout",
          "text": [
            "[2. 5.]\n"
          ]
        }
      ]
    },
    {
      "cell_type": "code",
      "metadata": {
        "id": "IoWMA3WLnV0M",
        "colab": {
          "base_uri": "https://localhost:8080/"
        },
        "outputId": "225e107f-1704-429d-84cb-e501dda8e852"
      },
      "source": [
        "#np.max(np_a)\n",
        "max_a = -100000000\n",
        "for row in range(np_a.shape[0]):\n",
        "    for col in range(np_a.shape[1]):\n",
        "        if np_a[row,col] > max_a :\n",
        "            max_a = np_a[row,col]\n",
        "print(max_a)\n"
      ],
      "execution_count": 42,
      "outputs": [
        {
          "output_type": "stream",
          "name": "stdout",
          "text": [
            "6\n"
          ]
        }
      ]
    },
    {
      "cell_type": "code",
      "metadata": {
        "id": "nUEOughZnYZV",
        "colab": {
          "base_uri": "https://localhost:8080/"
        },
        "outputId": "fc3927d1-51a7-48bd-acbd-b0bae6166ae8"
      },
      "source": [
        "### 10. np.min(np_a,axis=1)\n",
        "min_row = np.zeros(np_a.shape[0])\n",
        "for row in range(np_a.shape[0]):\n",
        "   min_row[row] = min(np_a[row,:])\n",
        "print(min_row)"
      ],
      "execution_count": 43,
      "outputs": [
        {
          "output_type": "stream",
          "name": "stdout",
          "text": [
            "[1. 4.]\n"
          ]
        }
      ]
    },
    {
      "cell_type": "code",
      "metadata": {
        "id": "ouFCnqxNncEg",
        "colab": {
          "base_uri": "https://localhost:8080/"
        },
        "outputId": "a80b26f8-af79-4f2c-f60a-daf42d183fda"
      },
      "source": [
        "# np.min(np_a,axis=0)\n",
        "min_all = np.zeros(np_a.shape[1])\n",
        "\n",
        "for col in range(np_a.shape[1]):\n",
        "    min_all[col] = min(np_a[:,col])\n",
        "print(min_all)"
      ],
      "execution_count": 44,
      "outputs": [
        {
          "output_type": "stream",
          "name": "stdout",
          "text": [
            "[1. 2. 3.]\n"
          ]
        }
      ]
    },
    {
      "cell_type": "code",
      "metadata": {
        "id": "64ZzlLxGnet9",
        "colab": {
          "base_uri": "https://localhost:8080/"
        },
        "outputId": "29ae44ea-e266-4c50-a176-4509b9f0e00b"
      },
      "source": [
        "# np.min(np_a) \n",
        "minV = 100000\n",
        "for row in range(np_a.shape[0]):\n",
        "    for col in range(np_a.shape[1]):\n",
        "        if np_a[row,col] < minV:\n",
        "            minV = np_a[row,col]\n",
        "print(minV)"
      ],
      "execution_count": 45,
      "outputs": [
        {
          "output_type": "stream",
          "name": "stdout",
          "text": [
            "1\n"
          ]
        }
      ]
    },
    {
      "cell_type": "code",
      "metadata": {
        "id": "1ZC5QwLong6b",
        "colab": {
          "base_uri": "https://localhost:8080/"
        },
        "outputId": "7a679e04-bba1-4cdd-a4a8-ecb012dac517"
      },
      "source": [
        "# np.max(np_a,axis=0)\n",
        "max_all = -100000 * np.ones(np_a.shape[1])\n",
        "for col in range(np_a.shape[1]):\n",
        "    for row in range(np_a.shape[0]):\n",
        "        if np_a[row,col] > max_all[col]: \n",
        "            max_all[col] = np_a[row,col]\n",
        "print(max_all)"
      ],
      "execution_count": 46,
      "outputs": [
        {
          "output_type": "stream",
          "name": "stdout",
          "text": [
            "[4. 5. 6.]\n"
          ]
        }
      ]
    },
    {
      "cell_type": "code",
      "metadata": {
        "id": "IJ-5O1yKnlR8",
        "colab": {
          "base_uri": "https://localhost:8080/"
        },
        "outputId": "1315d7a0-075f-401a-d48e-c43f193c2aee"
      },
      "source": [
        "#np.mean(np_a)\n",
        "mean_all = 0\n",
        "for row in range(np_a.shape[0]):\n",
        "    for col in range(np_a.shape[1]):\n",
        "        mean_all = mean_all + np_a[row,col]\n",
        "mean_all = mean_all/(np_a.shape[0]*np_a.shape[1])\n",
        "print(mean_all)"
      ],
      "execution_count": 47,
      "outputs": [
        {
          "output_type": "stream",
          "name": "stdout",
          "text": [
            "3.5\n"
          ]
        }
      ]
    },
    {
      "cell_type": "code",
      "metadata": {
        "id": "Y0wHERUTnqEt",
        "colab": {
          "base_uri": "https://localhost:8080/"
        },
        "outputId": "2175f03d-0ebf-4c00-8b7f-04407bad0022"
      },
      "source": [
        "# np.max(np_a,axis=1)\n",
        "max_all = np.zeros(np_a.shape[0])\n",
        "for row in range(np_a.shape[0]):\n",
        "    max_all[row] = max(np_a[row,:])\n",
        "print(max_all)"
      ],
      "execution_count": 48,
      "outputs": [
        {
          "output_type": "stream",
          "name": "stdout",
          "text": [
            "[3. 6.]\n"
          ]
        }
      ]
    },
    {
      "cell_type": "markdown",
      "metadata": {
        "id": "AGaLQLbcYmb7"
      },
      "source": [
        "### Distance Matrix"
      ]
    },
    {
      "cell_type": "code",
      "metadata": {
        "id": "pUfEcoG9oPPg",
        "colab": {
          "base_uri": "https://localhost:8080/"
        },
        "outputId": "017411fc-fd9c-4fd7-bcd4-015baae86980"
      },
      "source": [
        "data1 = np.array([[1,2],[3,5],[2,0],[4,5]]) #สร้างจาก matrix จาก list\n",
        "data1  #4 แถว 2 column"
      ],
      "execution_count": 49,
      "outputs": [
        {
          "output_type": "execute_result",
          "data": {
            "text/plain": [
              "array([[1, 2],\n",
              "       [3, 5],\n",
              "       [2, 0],\n",
              "       [4, 5]])"
            ]
          },
          "metadata": {},
          "execution_count": 49
        }
      ]
    },
    {
      "cell_type": "code",
      "metadata": {
        "colab": {
          "base_uri": "https://localhost:8080/",
          "height": 0
        },
        "id": "v7y8l6wwZLnG",
        "outputId": "e38828b0-24bb-4549-8e41-531277aafd73"
      },
      "source": [
        "from matplotlib import pyplot as plt \n",
        "plt.scatter(data1[:,0],data1[:,1])  "
      ],
      "execution_count": 50,
      "outputs": [
        {
          "output_type": "execute_result",
          "data": {
            "text/plain": [
              "<matplotlib.collections.PathCollection at 0x7f9fb16a4d90>"
            ]
          },
          "metadata": {},
          "execution_count": 50
        },
        {
          "output_type": "display_data",
          "data": {
            "image/png": "[encoded data removed]",
            "text/plain": [
              "<Figure size 432x288 with 1 Axes>"
            ]
          },
          "metadata": {
            "needs_background": "light"
          }
        }
      ]
    },
    {
      "cell_type": "markdown",
      "metadata": {
        "id": "-qzNvCTGaf7Y"
      },
      "source": [
        "## Euclidean Distance (L2-norm)\n",
        "$\\sqrt{(x_1-x_2)^2+(y_1-y_2)^2}$"
      ]
    },
    {
      "cell_type": "markdown",
      "metadata": {
        "id": "qFhfoBmteDVW"
      },
      "source": [
        "dist(P1,P2) หาระยะห่าง P1 กับ P1"
      ]
    },
    {
      "cell_type": "code",
      "metadata": {
        "colab": {
          "base_uri": "https://localhost:8080/"
        },
        "id": "UJNWCZuGZ_jF",
        "outputId": "c9318395-1da5-4080-fede-6c2fdeb1fcf5"
      },
      "source": [
        "dist_p1_p2 = np.sqrt(np.power(data1[0,0]-data1[1,0],2)+np.power(data1[0,1]-data1[1,1],2)) #np.power คือ ยกกำลัง\n",
        "dist_p1_p2"
      ],
      "execution_count": 51,
      "outputs": [
        {
          "output_type": "execute_result",
          "data": {
            "text/plain": [
              "3.605551275463989"
            ]
          },
          "metadata": {},
          "execution_count": 51
        }
      ]
    },
    {
      "cell_type": "code",
      "metadata": {
        "colab": {
          "base_uri": "https://localhost:8080/"
        },
        "id": "_Ujj4s9OdU_m",
        "outputId": "247e0c08-94ee-47a1-dffc-d5664f1b2a19"
      },
      "source": [
        "dist_p1_p2 = np.power(np.power(data1[0,0]-data1[1,0],2)+np.power(data1[0,1]-data1[1,1],2),0.5) #np.power คือ ยกกำลัง\n",
        "dist_p1_p2"
      ],
      "execution_count": 52,
      "outputs": [
        {
          "output_type": "execute_result",
          "data": {
            "text/plain": [
              "3.605551275463989"
            ]
          },
          "metadata": {},
          "execution_count": 52
        }
      ]
    },
    {
      "cell_type": "markdown",
      "metadata": {
        "id": "CQonyhKKewRz"
      },
      "source": [
        "dist(P2,P4)"
      ]
    },
    {
      "cell_type": "code",
      "metadata": {
        "colab": {
          "base_uri": "https://localhost:8080/"
        },
        "id": "uOiJxXIMeAhv",
        "outputId": "cd79556e-f4d2-4629-b3d8-673e302df479"
      },
      "source": [
        "dist_p1_p2 = np.sqrt(np.power(data1[1,0]-data1[3,0],2)+np.power(data1[1,1]-data1[3,1],2)) #np.power คือ ยกกำลัง\n",
        "dist_p1_p2"
      ],
      "execution_count": 53,
      "outputs": [
        {
          "output_type": "execute_result",
          "data": {
            "text/plain": [
              "1.0"
            ]
          },
          "metadata": {},
          "execution_count": 53
        }
      ]
    },
    {
      "cell_type": "markdown",
      "metadata": {
        "id": "XSMKiP7vf-yq"
      },
      "source": [
        "Distance Function"
      ]
    },
    {
      "cell_type": "markdown",
      "metadata": {
        "id": "hcmBl85WgxU9"
      },
      "source": [
        "p1 = [x,y]\n"
      ]
    },
    {
      "cell_type": "code",
      "metadata": {
        "id": "1GbDxf7VezL6"
      },
      "source": [
        "def dist_l2_2(p1,p2):\n",
        "    return np.sqrt(np.power(p1[0]-p2[0],2)+np.power(p1[1]-p2[1],2)) "
      ],
      "execution_count": 54,
      "outputs": []
    },
    {
      "cell_type": "code",
      "metadata": {
        "colab": {
          "base_uri": "https://localhost:8080/"
        },
        "id": "V-2xEdaNg1UX",
        "outputId": "5d97e7f6-2930-4538-c4d0-14f91f1ac4c4"
      },
      "source": [
        "#P1 กับ P2\n",
        "dist_l2_2(data1[0,:],data1[1,:]) # data1[แถว1,ทุกๆหลัก],data1[แถว2,ทุกๆหลัก]"
      ],
      "execution_count": 55,
      "outputs": [
        {
          "output_type": "execute_result",
          "data": {
            "text/plain": [
              "3.605551275463989"
            ]
          },
          "metadata": {},
          "execution_count": 55
        }
      ]
    },
    {
      "cell_type": "code",
      "metadata": {
        "colab": {
          "base_uri": "https://localhost:8080/"
        },
        "id": "V9CNpBgMhEIZ",
        "outputId": "f48aade3-6f9d-4b0e-f36f-051aa917bee3"
      },
      "source": [
        "dist_l2_2(data1[1,:],data1[3,:])  #จุดที่ 2 คือ 1 , จุดที่ 2 คือ 3"
      ],
      "execution_count": 56,
      "outputs": [
        {
          "output_type": "execute_result",
          "data": {
            "text/plain": [
              "1.0"
            ]
          },
          "metadata": {},
          "execution_count": 56
        }
      ]
    },
    {
      "cell_type": "markdown",
      "metadata": {
        "id": "P3O5LQrfh75_"
      },
      "source": [
        "dim = n "
      ]
    },
    {
      "cell_type": "code",
      "metadata": {
        "id": "yJvYMHSWhW0v"
      },
      "source": [
        "def dist_l2_n(p1,p2):\n",
        "    sum = 0\n",
        "    for i in range(len(p1)):\n",
        "        sum = sum + np.power(p1[i]-p2[i],2)\n",
        "    return np.sqrt(sum)"
      ],
      "execution_count": 57,
      "outputs": []
    },
    {
      "cell_type": "code",
      "metadata": {
        "colab": {
          "base_uri": "https://localhost:8080/"
        },
        "id": "2lYerfnvj0tP",
        "outputId": "0f56fe5e-1f97-4324-c564-c8623193d56e"
      },
      "source": [
        "dist_l2_n(data1[0,:],data1[1,:])"
      ],
      "execution_count": 58,
      "outputs": [
        {
          "output_type": "execute_result",
          "data": {
            "text/plain": [
              "3.605551275463989"
            ]
          },
          "metadata": {},
          "execution_count": 58
        }
      ]
    },
    {
      "cell_type": "markdown",
      "metadata": {
        "id": "18DSbPJikKZq"
      },
      "source": [
        "## Manhattan Distance (L1-norm)\n",
        "$|x_1-x_2|+|y_1-y_2|$"
      ]
    },
    {
      "cell_type": "markdown",
      "metadata": {
        "id": "9Fzs1DXFkg_N"
      },
      "source": [
        "Quiz6 เขียน function คำนวณ manhattan distance ของ ข้อมูล 2 dimensions"
      ]
    },
    {
      "cell_type": "code",
      "metadata": {
        "id": "RL4SE5tKlB-u"
      },
      "source": [
        "def dist_l1(p1,p2):\n",
        "   return (np.abs(p1[0] - p2[0]) + np.abs(p1[1] - p2[1]))"
      ],
      "execution_count": 59,
      "outputs": []
    },
    {
      "cell_type": "code",
      "metadata": {
        "colab": {
          "base_uri": "https://localhost:8080/"
        },
        "id": "98Lz_M8Zl5l-",
        "outputId": "8b8d022b-27b1-4841-d05a-592040476c87"
      },
      "source": [
        "dist_l1(data1[0,:],data1[1,:])"
      ],
      "execution_count": 60,
      "outputs": [
        {
          "output_type": "execute_result",
          "data": {
            "text/plain": [
              "5"
            ]
          },
          "metadata": {},
          "execution_count": 60
        }
      ]
    },
    {
      "cell_type": "markdown",
      "metadata": {
        "id": "J-BiXfwjoybP"
      },
      "source": [
        "## HW11\n",
        "* Function คำนวณ manhattan distance ของ ข้อมูล N dimensions\n",
        "* Function คำนวณ L-$\\infty$ ของ ข้อมูล N dimensions\n",
        "* Function คำนวณ Distance Matrix ด้วย Euclidean Distance (bonus)"
      ]
    },
    {
      "cell_type": "markdown",
      "metadata": {
        "id": "A3DHHTNUZ7QA"
      },
      "source": [
        "\n",
        "**1. Function คำนวณ manhattan distance ของ ข้อมูล N**"
      ]
    },
    {
      "cell_type": "code",
      "metadata": {
        "id": "oSUMmuYWoW1d"
      },
      "source": [
        "def dist_l1_n(p1,p2):\n",
        "    sum = 0\n",
        "    for i in range(len(p1)):\n",
        "        sum = sum + np.abs(p1[i]-p2[i])\n",
        "    return sum"
      ],
      "execution_count": 61,
      "outputs": []
    },
    {
      "cell_type": "code",
      "metadata": {
        "id": "SVbFsSIRanK9",
        "colab": {
          "base_uri": "https://localhost:8080/"
        },
        "outputId": "a672f4a6-00c4-45da-fe02-d5e200465fb6"
      },
      "source": [
        "dist_l1_n(data1[0,:],data1[1,:])"
      ],
      "execution_count": 62,
      "outputs": [
        {
          "output_type": "execute_result",
          "data": {
            "text/plain": [
              "5"
            ]
          },
          "metadata": {},
          "execution_count": 62
        }
      ]
    },
    {
      "cell_type": "code",
      "metadata": {
        "id": "6IPpTCvEayzO",
        "colab": {
          "base_uri": "https://localhost:8080/"
        },
        "outputId": "688baf21-a443-4593-bfaf-4d526545405e"
      },
      "source": [
        "dist_l1_n(data1[0,:],data1[3,:])"
      ],
      "execution_count": 63,
      "outputs": [
        {
          "output_type": "execute_result",
          "data": {
            "text/plain": [
              "6"
            ]
          },
          "metadata": {},
          "execution_count": 63
        }
      ]
    },
    {
      "cell_type": "markdown",
      "metadata": {
        "id": "uiWkY2STcMwT"
      },
      "source": [
        "**2. Function คำนวณ L- ∞ ของ ข้อมูล N dimensions**\n",
        "\n",
        "หาแกนที่มีค่ามากสุด\n",
        "\n"
      ]
    },
    {
      "cell_type": "markdown",
      "metadata": {
        "id": "gOrjC2OhkQ4F"
      },
      "source": [
        "$d = max|x_1-x_2|$"
      ]
    },
    {
      "cell_type": "code",
      "metadata": {
        "id": "mb1dZipscMW3"
      },
      "source": [
        "def dist_linfinity_n(p1,p2):\n",
        "    for i in range(len(p1)):\n",
        "        max = np.abs(p1[i] - p2[i])\n",
        "    return max"
      ],
      "execution_count": 64,
      "outputs": []
    },
    {
      "cell_type": "markdown",
      "metadata": {
        "id": "hTEQnS55ckYW"
      },
      "source": [
        "X1 กับ X2"
      ]
    },
    {
      "cell_type": "code",
      "metadata": {
        "id": "xwdwQJ4ScZSP",
        "colab": {
          "base_uri": "https://localhost:8080/"
        },
        "outputId": "6aaf9f45-c8ba-4333-9270-86c33ed618d0"
      },
      "source": [
        "dist_linfinity_n(data1[0,:],data1[1,:])"
      ],
      "execution_count": 65,
      "outputs": [
        {
          "output_type": "execute_result",
          "data": {
            "text/plain": [
              "3"
            ]
          },
          "metadata": {},
          "execution_count": 65
        }
      ]
    },
    {
      "cell_type": "markdown",
      "metadata": {
        "id": "MHqKonqBcvaV"
      },
      "source": [
        "X4 กับ X3"
      ]
    },
    {
      "cell_type": "code",
      "metadata": {
        "id": "uCts6aMzco3b",
        "colab": {
          "base_uri": "https://localhost:8080/"
        },
        "outputId": "ff6288f3-0ae4-468c-85a9-f02fcd76277a"
      },
      "source": [
        "dist_linfinity_n(data1[3,:],data1[2,:])"
      ],
      "execution_count": 66,
      "outputs": [
        {
          "output_type": "execute_result",
          "data": {
            "text/plain": [
              "5"
            ]
          },
          "metadata": {},
          "execution_count": 66
        }
      ]
    },
    {
      "cell_type": "markdown",
      "metadata": {
        "id": "GEdEG0NJdKUG"
      },
      "source": [
        "**3. Function คำนวณ Distance Matrix ด้วย Euclidean Distance (bonus)**"
      ]
    },
    {
      "cell_type": "code",
      "metadata": {
        "id": "hey7NnHgpZGf",
        "colab": {
          "base_uri": "https://localhost:8080/"
        },
        "outputId": "6f6ace0e-58b5-47e3-ef55-d8c895a7868d"
      },
      "source": [
        "from scipy.spatial import distance\n",
        "data1 = np.array([[1,2],[3,5],[2,0],[4,5]])\n",
        "d = distance.euclidean([1,3,2,4], [2,5,0,5])\n",
        "print(d)"
      ],
      "execution_count": 67,
      "outputs": [
        {
          "output_type": "stream",
          "name": "stdout",
          "text": [
            "3.1622776601683795\n"
          ]
        }
      ]
    },
    {
      "cell_type": "code",
      "metadata": {
        "id": "W2oJRugrq58I"
      },
      "source": [
        ""
      ],
      "execution_count": 67,
      "outputs": []
    },
    {
      "cell_type": "markdown",
      "metadata": {
        "id": "xIbppJultIeG"
      },
      "source": [
        "เฉลย"
      ]
    },
    {
      "cell_type": "markdown",
      "metadata": {
        "id": "ELdkv42ZtX6C"
      },
      "source": [
        "Function คำนวณ L-$\\infty$ ของ ข้อมูล N dimensions"
      ]
    },
    {
      "cell_type": "code",
      "metadata": {
        "id": "kAcG3ypttJ3V"
      },
      "source": [
        "def dist_linf_n(p1,p2):\n",
        "    maxv = -10000\n",
        "    for i in range(len(p1)):\n",
        "        this_dist = np.abs(p1[i]-p2[i])\n",
        "        if this_dist > maxv:\n",
        "            maxv = this_dist\n",
        "    return maxv"
      ],
      "execution_count": 69,
      "outputs": []
    },
    {
      "cell_type": "code",
      "metadata": {
        "id": "khK2hAKktOZE",
        "outputId": "c6a9ce18-d46d-4b62-c1dc-32c4d124706a",
        "colab": {
          "base_uri": "https://localhost:8080/"
        }
      },
      "source": [
        "dist_linf_n(data1[0,:],data1[2,:])"
      ],
      "execution_count": 70,
      "outputs": [
        {
          "output_type": "execute_result",
          "data": {
            "text/plain": [
              "2"
            ]
          },
          "metadata": {},
          "execution_count": 70
        }
      ]
    },
    {
      "cell_type": "code",
      "metadata": {
        "id": "G61GWeE8tRxI",
        "outputId": "567c2dc5-9e36-4298-a1b1-3c9292e3a6d5",
        "colab": {
          "base_uri": "https://localhost:8080/"
        }
      },
      "source": [
        "dist_linf_n([-20,2,7],[0,5,9])"
      ],
      "execution_count": 71,
      "outputs": [
        {
          "output_type": "execute_result",
          "data": {
            "text/plain": [
              "20"
            ]
          },
          "metadata": {},
          "execution_count": 71
        }
      ]
    },
    {
      "cell_type": "markdown",
      "metadata": {
        "id": "KHlPu7vWtVT7"
      },
      "source": [
        "\n",
        "Function คำนวณ Distance Matrix ด้วย Euclidean Distance"
      ]
    },
    {
      "cell_type": "code",
      "metadata": {
        "id": "ufQwVt22tV_g"
      },
      "source": [
        "def dist_mat_eud(data):\n",
        "    d_mat = np.zeros((data.shape[0],data.shape[0]))\n",
        "    for i in range(data.shape[0]):\n",
        "        for j in range(data.shape[0]):\n",
        "            d_mat[i,j] = dist_l2_n(data[i,:],data[j,:])\n",
        "    return d_mat"
      ],
      "execution_count": 72,
      "outputs": []
    },
    {
      "cell_type": "code",
      "metadata": {
        "id": "9pITl0pEtcMX",
        "outputId": "56e570a8-7c4e-4fdd-895e-2778bf692ac3",
        "colab": {
          "base_uri": "https://localhost:8080/"
        }
      },
      "source": [
        "dist_mat_eud(data1)"
      ],
      "execution_count": 73,
      "outputs": [
        {
          "output_type": "execute_result",
          "data": {
            "text/plain": [
              "array([[0.        , 3.60555128, 2.23606798, 4.24264069],\n",
              "       [3.60555128, 0.        , 5.09901951, 1.        ],\n",
              "       [2.23606798, 5.09901951, 0.        , 5.38516481],\n",
              "       [4.24264069, 1.        , 5.38516481, 0.        ]])"
            ]
          },
          "metadata": {},
          "execution_count": 73
        }
      ]
    },
    {
      "cell_type": "markdown",
      "metadata": {
        "id": "KcfRJNs6kScA"
      },
      "source": [
        "### Distance of Binary Value\n",
        "Create Table"
      ]
    },
    {
      "cell_type": "markdown",
      "metadata": {
        "id": "IsgAyaz7tpsC"
      },
      "source": [
        "![image.png](data:image/png;base64,iVBORw0KGgoAAAANSUhEUgAABhYAAAEKCAYAAAD+Ym8sAAAgAElEQVR4AeydB5idVbX3Kem9TTJpk0mbTMqk9957770y6ZV0khAICSkkEFoaCUnoHaQJihoUUa4oqAgCwhXRK6io96pX75X7re/5reOe7PPO6W3OnNl5nvO8Z07est+911p7rfVf5Qpx/9wMuBlwM+BmwM2AmwE3A24G3Ay4GXAz4GbAzYCbATcDbgbcDLgZcDPgZsDNgJsBNwMRzsAVEZ7nTnMz4GbAzYCbATcDbgbcDLgZcDPgZsDNgJsBNwNuBtwMuBlwM+BmwM2AmwE3A24G3AyIAxYcEbgZcDPgZsDNgJsBNwNuBtwMuBlwM+BmwM2AmwE3A24G3Ay4GXAz4GbAzYCbATcDEc/AFZ9//rm899578uMf/9h93BxkFA2888478pOf/ER+9KMf6REaf/vttzPqHR3fOrmVbBqAh376058q7zj+cfSWbHqL9v7vvvuuynTkPPTpaNTRaLQ0lCnnI6d/9rOfyVtvvaUfxwuOFzKFtmN5D0P/Tn9xfBAL/WTaNcYWRqc3vJFp7+jex/F6OBowNi1HdCXHC45mwtGM+/8fqx/1/fffF3CDf/zjH0GBhitefPFF2bNnj6xevVpWrVqln9WrV4n7uDko7TSwdesWWbdunSxcuFDWr1+vtL1ixQpH246/HQ1ESAPsCewN8M/y5cvF8Y/bF9JpX1i7do3s2LFDZfvixYtl+fJCpVEf3bq1Sqe1cmNJPj1u3LhRtm3bJsuWLZNly5aqzHa8kPx5d7SdnnPs01dWy4YNG3RvWLlypdP9ItT9HE2nJ03Hsi5r1qxRPX7JkiVqE69du1YKCwudv8fxQhmUh6uVB/ANYdsWFl4jbl/IHFkXi3x010S2/hs2rJd9+/YJuAHgQrB/V5w6dUrGjx8vXbp0kc6dO0vPnt2lf//eMmhQH/dxc1CqaWD48EHStWsnady4kfTq1V169+4uffv2KNXv5PjSyaVU0kCXLh0lL6+1tG7dSvju+MfRXyrpL/yz+srQoYOkTZs8yc3NkZ49u0i/fj1k4ECnw4SfO0fLmTdH/aRv397SqFEjyc/Pk969uzlecHp8mdV5O3Rop7pLu3b50q1bJ+nXr2eZnYvMk3Vu/4p8TftKnz7dJTc3V/Lz86Vz5wLVlQYOdHMY+Ry6ucqEuYLmu3XrInl5edKyZQvp3r2T9O/fy+0LTk9yNBCGBoYM6S9Tp06SgwcPygcffBAMV5ArDhw4IAUFBVKzZk3JzW0qs2aNl2PHVsvFi1vcx81BqaaB/ftXyMiRfaVevVqyZctsufPOtXLvvdeW6ndyfOnkUippYPz4PpKVVVfatMmV/fsXy/nzjn9SOf/uWaH5/fTpjbJs2XRp1SpXevTIk7NnNyqNXriw2cl5p7+UORq4/volMnhwX6lSpbIsWTJCzp3bVObmwMnM0DKzLM1Pnz7tJSurjvTpUyDHj6+U8+fdvlCW1t+9q08WnD+/RXbvnidVq1aRvLxcWbp0jOpKbn6crCxrNIAPaPDg7tKoUbZ0795GzpxZ7/YFZys4PTkCGjh9epPceusWOXr0SGhggTJIOTk5csUVV0hubmPZu3edfPTRBRF51n3cHJRqGvje905IYeEUadasgbzwws3yhz88Uqrfx/Gkk0mppoGNGydLdnaWDBzYRX7+81OOf9yekFY08Kc/PSrHjm2WLl3ayaxZ/dNqbKnmVfc8tz9cunRMpk0bK9WqVZXz5zc4fnDyukzTwNSpfSU7u57Mnj1C/vCHh8r0XLj9oezuD19++RV59dVDUrlyBenVq4OcO3et4wW3N5RJGvjf/31a5s4dIc2bN5Xp0wfKl18+Uybnwe0HZXc/iHXt//jHx+XNNy/ImTMn5eOPPw6eseCABUdcsRJZul9ngIXc3Aby8suH5Y9/fNRtIE6ZcjQQBQ1s2jRFmjTJlhEjesn77592cxfF3KW7fMyE8TlgwekvmUDHiXoHByw4fkgULWXCfQAW0F8WLRonX3zhgIVMWFP3DtHLOBtYGDCgq9x333anyztdvkzSAMDCvHmjpHXr5jJ79lAHLDg+KJN8EMs+6oAFxyxlnlkcsBC9AhqLsHHXZO48O2Ahc9c2E/jWAQuOPjOBjhP1Dg5YcPyQKFrKhPs4YMHxQybQcbzv4IAFxwfx0lCmXO+ABccLmULLqX4PByw4YMEBC/8qheQyFtxGkmoBnCnPc8CC4510pmUHLDj6TGf6TPXYHLDg+CHVNJfOz3PAguOHdKbPVI3NAQuOD1JFa+n+HAcsOF5IdxpN1/E5YMEBCw5YcMBCmaeBdBXQpWVcDlhwSlg606oDFhx9pjN9pnpsDlhw/JBqmkvn5zlgwfFDOtNnqsbmgAXHB6mitXR/jgMWHC+kO42m6/gcsOCAhTLvVHalkNwGkq4CurSMywELjofSmVYdsODoM53pM9Vjc8CC44dU01w6P88BC44f0pk+UzU2Byw4PkgVraX7cxyw4Hgh3Wk0XcfngAUHLDhgwWUslHkaSFcBXVrG5YAFp4SlM606YMHRZzrTZ6rH5oAFxw+pprl0fp4DFhw/pDN9pmpsDlhwfJAqWkv35zhgwfFCutNouo7PAQsOWCjzTmWXseA2kHQV0KVlXA5YcDyUzrTqgAVHn+lMn6kemwMWHD+kmubS+XkOWHD8kM70maqxOWDB8UGqaC3dn+OABccL6U6j6To+Byw4YMEBCy5joczTQLoK6NIyLgcsOCUsnWnVAQuOPtOZPlM9NgcsOH5INc2l8/McsOD4IZ3pM1Vjc8CC44NU0Vq6P8cBC44X0p1G03V8DlhwwEKZdyq7jAW3gaSrgC4t43LAguOhdKZVByw4+kxn+kz12Byw4Pgh1TSXzs9zwILjh3Smz1SNzQELjg9SRWvp/hwHLDheSHcaTdfxOWDBAQsOWEijjIV//vNp+ctfHpXPPrsoH398Rj766LT86lfn5A9/eFD+/vcn5csvnwm6Xn/608Py299elN/97n75f//vK0HPS1dhlE7j+tvfHpOf//yEPP74Vtm3b7Zs3jxR7rlnta5FOo0zXcbigAWnhKULLQYaRzoBC8jmv/3tcfn88/vkl788Kx9/fI/8/vf3y3//9+Pyf/8XXG5zHed89NEZ+eMfHxL2ikDv6n5LHi8y53/+88Pyve8dkdOnV8m2bZNl9epR8tprB4X9t7TMvQMWkkcjpYUGkjHOf/zjSfnTnx5SPfR///epUsMPDlhw/JAIfvi//3tG6R8bDD4IZa8l4nmJvocDFhwfJIqm0GXxWcAL6Ld//etjpcov4YAFxwuJ4oVg94HG/vM/H5Hf/Oa8fPrpvWoTwieh7MBg90qn31MCLCBc3n77uFy6dEC+/vUbQ35effWA/OQnt6sQimeifv3r8/KDHxwN+SzvWL7znYPy/vsn1XiP59nu2tIlkEoiYwGFE4GC8/ob37hJHnzwWjl1apUcP36NHDy4UK6/frZs2zZVtm6dIjt3Tpd9++bJkSNL5J571sjTT++U7373sIIO3MMIoZde2itnz/r+3zmdoqNBBDzOup/85A55/vndcuedhbJp00QZN66btGvXWPLysqWwcLj+v+Pv4nMbL7CAU+7dd+9SXvDK5WT+DWiHM8StafE1zaQ5KSlg4b//+wlBF8ERjdy+9951cscdhXLkyGLZu3e27NgxTeX8jTfO0d/uvnuFPPDAJvnWt/arLgJfGJD4D394QNCPdu2aIa+8cpN88cWDjm6THBjC3P/P/zwpn356Ttfw4Ye3yIEDC2TZsuEyYEBbadasnjRsWFPX7Le/vVBq1iNRwMInn5yTf/u36PTsRMrzn/3sLgXpDI9kkswqLe/C/vkf/3FBvvvdQ3L+/Ho5eHCB3HLLIgUXSss7JAJYwCHw7rt3y7e/fXNUdmci+YG95n/+p/QAOqWFPgKNE7sLoB+b4YUX9sjFixt0bz9wYL7ccMMc2b9/vtx++zVy4cJ6ee65XSon0x1sSCSw8Nln98lbb91WYrzwgx8ck7/85bFSB+4EorXS8Bs+DWzoN988Jk88sU39GbfcskR5Af328OFFcvLkSkGH+va3D8onn5wt0m3T8f0SBSz8+c+PyDvv3Kk6fSJlfaT3wu9KEFNpAvrTkR4SPSb45ac/vVP55PrrZ6ldd+rUavnRj24r9T6JlAALCJuTJ1fIpk3jZdGiQTJrVh+ZOrWnTJnSo9hnwYKBsmfPTN2s2bRjXUxAgltuWSjLlw+XpUuHyOzZfYs9y/f8njJ//gBZtmyo7NgxWR5+eLMyYazPddeVPgdVKoEFjDDQ+/feOyFf//o+OXx4ocyY0Ucd19WrV5RKlcpJlSoVpGbNKlKnTjX98J3fypW7Sho0qCF9+rSWwsIRqsS+/PIN8tOf3iHvvXe3Or4HDGgjK1eOlL///YmYeaes0TDOP6KGn3tuj8qeYcM6SL16VeWKK64o+tSrV0Nmz+4vb7113M1rAGdevMDCL35xWu6/f4OsXTtGliwZInPm9JOpU3vJlCnsE8n7PPfcbuegDbCemSYDUgksoDAS1Y7T9fvfPyIXLmyQVatGSd++eZKdXUPKlbtSKlUqL9WqVVI5X7t2ValevbJUrlxBatSoJC1bZsns2f3kllsWy1e/ulfBZ4ywr33tBuWPqlUryo03zhV4JtPWKd3eB0fQD394qwJCK1aMlM6dc+XKK68s2hfYI1i3c+fWatRRuo0/2HgSBSw8++wu2bp1clJldCj5f8cd1yhwZ4Irgr2v+z2xejmR2WTWAijAH4Ch2FCtWmVLxYpXS/PmdeTHP7691MinRAALBCmcOLFcliwZWmL88PLLN6pzz9F7YundO58mYAAwbc+eGTJiRIHk5NRRG83YDVdeeYXu9U2b1pEhQ9rJ+vXjhOAvMtHhHe890+HvRAILr712SLO9Q8nvZP7fzp3T1K4jsDUd5jaTx4C/4d///R55/vk9smnTBOnWrbnUrFnJT0+66qorpWrVCtK+fRNZuHCw6lT//u9nNDCA/STd5idRwALBysePL5V58waWyL4wf/5ADUQlCDXd5rgsj4fqIsePL5OWLesX7Rt9++bLffdtlP/6r/TcHyJdr5QAC2yiX/nKdbJv3xyZNauvFBQ0UYMag8z7qVKlotSpU13YFEBuIn0R73lkSFy8uF43fcCFjh1zVKh5n1e9eiUZNaqTGuxHjiyUxx7bqqlb3vu5v5OrqJXk/KYSWAAAuP32ZTJ0aAdp2LB2ER+UK3e1OiyIfuzZs4VuQBgoixcPUUCM37KyqirwUKFCOcG5VKtWVWnQoKY0a1ZX8vLqS82alRV4AESLB5QrybUoiWcDFgBm1q1bXWrUqCwVK5YXlCBjIHB0wEJo/o8XWCAN8IUXdsuBA3Nl0aLB0r17C3WyeuV1ov8mQ4hnlwTduWeGpqlEzk+qgAUip4lQevzxbbJkyWA1omrXriZVq1YS5PbVV18lyPrWrbNl0KC2GmCxYMEAGTOms3TunCPZ2dVVyTTgcuPGdaRHjxYyb94AGTGio9SuXUVlE/oRUVCJnCN3r+L0CPDYqVOOZGXV0DUsX/5qv32hrAMLt922RPr2bVNMj0+0nA52v6VLhwtZC4B5jn6L028y5gQZ91//9YhGYO7YMUX69WujATDopMi2ChWuKpPAAvIYW7NZs6wS4weynn/9a6fPJIPu7Xu+/fbtcsMNs6RFC+yuKmozsLfbNoP5zu/YFAQPNG1aW0vnkaWejllWiQQWHn10i4wb17XEeGHw4A4aPZ+uII5NT6X9O1k7mzdPkoYNawk+NXRdrw0NPxCUgQ6Fnw8QGr2WjMd0dKQmClgguGjhwoHqqwmmxyTzd/xMjzyyRctrl3Y6y6TxU10EPyABw2avcMDC3nXy0UeRpX5TloUaUiheoNjPPHOdHDmySEaN6iz16lUvmlQzuQikvLxGsnv3zJijXog0A0ElmhvBRSbCokVDhCgC85w2bRoLKVovvni9vPnmrRr17UpjpMY4SScBkWxgATSeOoNPPLFdMIQ7dcpVUAA6v/rqK6V164ayZMkwTRUkTZAUN0odkVJIOiff+e3pp3fIuXPrtDRS//75UqNGFaVn7oExx/0qVy4vI0d21CiAdJrjdB4LUXdf+9qNsm/fXLnttmtk/vxBkpNTt0hOIC8csBBaLsQLLACEsQ44iXxlY67TqOzmzbOkYsVyfmvBehQUNJP9++dpVPfRo0vE+yHam5JirOmWLZNlzpwB0qFDU40SN/KfI2Ub6GOSzvTpxhaa9iKZn1QACxhHlMHYvn2qDBzYXpo0qavyGLmclVVdhg0rkM2bJ8vZs2uFSO9vfnO/vP76YdVPuI7sMwAJ0mHJSOvYsZlG/1arVlEaNaqtwCf3gm43bpyg+0Mk7+7OiZ1+KG1CIMDttxeqrjhxYs9isgijsKxmLNx00xwpKMgpmhN0ERwGkyf3VJ1m5cpRsmbNGFm7dqx+Vq0aLTh8bBnMd4yrli0b6HXmXI7wwcyZ/WTw4Paa1UnwhH0tcp2I+Uwv/YiTg6jQ//f/YqfleOQATlBKKTDXlLMgOwF5hu5KMIa9JmUVWCCYbebM3gpCMh/YmuXLXyW9e7dWGoaWof81a3y8wHHFilHSsmW23/xxba1aVaRr1+aydOmwIt7hfIKNJk7sIT17tpImTeoU041uu22Z2r3xrHVpuJYo9JIq7UF5HwKR8vMbq5PU9inYfBDoO9mKublZMm/eIC2flG59eRIJLFACasCA/CLaRnfJzq6pYMOCBYNl+fKRsnr15b2B79Om9VantHfuoHUCK+y9Ad7BVhs5spPq9vXqVSt6Ftf36pWn+hjZo6WBpmMZI2XPSjIjg/Jv+NhWrhyt+77RT5n/ChWulqpVy/v53Ox1BWxr2rSuggvf/OZNabeHJwpYQLefOLG7Aou8P+BKlSrlZeDAtloFgX1h9erRRbSNvkR2LEFF9nzxneDHXr1aC3qV4QX4ZvHioVq2uVu3FtKoUS0F+M21BKBSgjXTAWd0FDLJWLdYeClV15A5QqnbqVN7F/N/O2AhCmDBu2AYATjw779/o6YHYTQHigTr1q2l3HTTXK3FFm9pFyJs7r9/kzIdz8IBi4L24YcnXdmYMlAKw0uD9t/JBBZo0onBgTE2aVJPadCglm4W0CB0P3JkZ7nhhtnqZKI+ajg6ZyPH+UojYcCILl2a+xl2bOxEECK80jEixp73dPlODW3qldMU9fPP71cQkkgbszFzdMBCaIdGvMCClxYoGfaTn9wp06b1UmPEXgu+jxvXXT788JSWwaC2ufcDkM0eA2gA/331q9fL0aOLdTPPza1ftLYAy/Q58T7f/R16vUvb/CQTWMDBQdbLo49ulWuuGaFRjEafwekGQIDyTw1msqN8zbkCR1gTeY2ugjECODZtWh8BXMN5bfMARjVBGqVtHUrbeFkr5AiBAZSeomY2zm07OrUsAwvXXTdV2rRppPo74Bn6zPXXz5SnntqhxhM0ClD8xhu36Oc73/EBbzYt853SYFOm9FKAxpzLET6g59GFC+vk4MH5Qlp/u3ZNi8pRTZ/eV8G5TAYW0OW+851D8uCDm+UPf3iwRBwwBMfAC2fOrNIyhQMGtJGBA9upM4kIVXs9yyqwQHDa2LGdi7I34Iu5cwfIXXctVxqGlgGSiWCFtuGLS5f2y5AhBX7zx1wCzq1fP1bBZsMPXAcYTYDSiRMrNBt/1Kgufg6oQ4cWygcfnMzYfYG9ll5Djz66TS5dulkzs1MFtvFs9gF6KOCbMDSPA7B791bCWqCXjh3bTYYOLZDOnZsLQQG2s9Vc06hRHfV9UEqJ/T5d9sVEAgunT6/SzGMcqZR7xC4lIIKqEATKUa7a3hvYK06fXq2ZgWaezBFgmb4thhc4cj7BGA8+uEmOHVuszlbWgexQruM7/08p7nSZ30SP47XXDsuTT+4skV4SOHDpi7d9+2QFy3Bgt23bWIYN6ygzZvTToIB16wBDh8mYMV3/pSdc5Qc0oEehNxw4ME/LViV6fuK5X6KABUATyitDl+yVHTrkKBCAD4eg5sv7gk9HYo/A8dylS4siGWP4gGu3bZus1xhegIfIgIKv6A25ffsUlT/169fU68mowv/0y1+ezVg+wF+AzX/ffZvk+98/GtaPFg9dxHMtOhTBwtdcM1xBNbOu5uiAhTiABbMwEAPNCHEesfGYybWP+flN5MyZ1RqFEa/xwLNGjOigzE3JmXXrxmQso5k5dsfwDrJkAAsouxhjoPm7d0+XFi2y5KqrfClPpIuTMjhnTn+tuRlLRAWgAY4OnKW9e7f6V+SML5q1e/fW6iD/5z8DO68cTYSmCWoD7949w08BcsBC6DlLNLAAjWLE0YOE7AR7T+A7DqVQDtpANA4/orCh6JKWjsFDI9x33rnD7QMZDi4nC1gACKBJIaBBnz5t/NJaKQ3So0crIar7V7+6N+pyLT5wjWiwkepoMmAF9E+N2lde2efoNsV0+/LLe6Vdu4bqCDcyqSwDCxs3jlfgi35QEyZ0VQA3VBQugRMnT64qJs/pN8KeG64uP+VROQ+juXz5cjJ5ci91tqZ7lFqg/SjS3wDGARJxKlCChWCVSK9N1HkG8Lz55vmybNkwOXRogQZg0BOJTEDDCxzLKrCAowfABeAxP7+RbN48UZ05wYKFDFgDeGzPH9+JtmZPCcVLrAlNgXHikb3MdQRKEHiUqHVPt/vgJMaJ1rVrS1m9eqxmuaYqgIpn46hmT8chiqOwadN6snDhIAV6AH2ggddfP6RAErZZv370VaqppZC8a8y+gW6QTuuVSGCB/jcdOjRRnYiyj2T1EbgVjKaIvgdsMLRszxc6O7p7sGv5/Ze/vEfuvnu5dOyYq4EYOGaffnqnAlGhrivN/7d9+zTNjqU6RzA5k6z3wz6jHjzR9wTQ9OuXr74OgrjoI8I+Re8jxvXaawfVId6qVf2AQcREb1MuPVljjeW+iQIWkBn4aChv2qlTM9m7d6YGxEHvgcaFXKd816BBxTM7AW0AELANAl3Lb9jFZD4DcFarVln5iUy2TO7JRnNqeJ3sv927Z6lNFmx+Sup31pVS6FTrgRZs+Wa+O2AhAcACCgHC6YUX9mhKrZlc+0ittuzs2goufPrpuaDMFAmxEPFB42iQVWoc79o1Pa77RfJMd05oh2Q6zE8ygIUvv3xaG3iuXTtamjev57eZktZJk3I6wrOBYGDEMg9E0PzmNxfkwQevlZyc2tp/Ad5Bofrgg1MpVzRieYd0vIaILwxnO8XZAQuh+TgZwAJZJERaYETaewLfYwEWoDVKLtFgjPIa7C00Ho2nl0860q8bU3FaTRaw8Pvf368GEQEQOApsmUGKPsY0dBxLUAT6EUYZTaCJ/Gre/HKmzfTpfdSp5Na6+Fonc05wbvTvn6eRqEYmlWVgYeXKEZoFTHnHH/zgqFCCNJQ+Az3HAyxgUOOII8sTI5IIYaL+0IWSue4lee9bb12qzkwyNUqyHjVOIpyrGPEcKf3GeK69dqLf/lxWgQUiTbt2baaygbJFOHJwTgVzfMcLLECTOJGwnykJgzyi9w5AVEnSazKfjWNm6dKhmu0N2PbJJ2fVeZnMZ5p704R18eLB+mxKOI8d21VBDiKBCQ5Dt0S+8WFdyC6i/DMZXF265PrxCGtFgFmfPq3VUWieUdLHRAILZBjQmJR6+g89tFlrvONcC/aO8QIL8Br+JDKECPJgT3rooWv1t2DPLO2/Ayz0799O3n//RMr7KgIgzJzZVzNy4AUqkKAPQ/u23EP+UaIGsIGqIQT1XnXV5ZLk8ALlfYi2T6f1SBSwgHzu2LGJBqNQ3h0QCHsg2L4QL7DAPo1fCXABwIYgOkr+IjvTaX4TORb0EAJ1CXDZuXN6WpZ9QmeiiTf+wEBZbPCBAxYSACxAWKT5vv76EcEwZ2IDfYgsJY0ONJpO2sEYMhyhUrN+yZIhSnzt2zfVMkvhrnH/n1rDvSTmO9HAAvRJ+QTSMzt3pk725RrxtWpVVgF46dIBRfRjpWUzT2xQlPAhOoSanzi2iNgg3SodGyKZcafzkfI51OxH7hh55ICF0HIgGcACGzGOWSLEzDqYY6zAAnSHMYpzi4hyUrNRStKZHt3YQtNeJPOTDGABA+qZZ3YWNSg0tElmQU5OPS1lhBERyfiCncP+gIzHaQW4QB1hlFJKtRG5FOw693v8NBNoDklbHzasvWa9mvUuy8ACARL5+Q1VpwFUCOU4Yj7jBRa4B0YzYDBG2OjRXTRSLVj0X6A1LC2/IV9oiklEOxndAAtERKeTXgfIgK5keIFjWQUWkA2tW9eXdu0ayx13FIaMKoUGEwEscB9KQKDPoPvTQBXdv7TQeDTjxPZ/4IFNCrBXqlRBli8fpVHqONKiuU8s57IH0+uOElXs7QA5AJpklASTeezdAKFkYd1442x1qNpZh9gXdepUlePHr0kbYDSRwML+/XOlTZts6dGjpdIkcxhq7uMFFrg3a4EDdeHCIdr7B/sBugn13NL4f8gOSsGSydG/f1v5+c/vTmkmG8+nhwal3+inRBlQfB6h/BmsL+Dc8uUjtMG9vWeQ9UY2XDqtRaKABWyEvLwG0r59YwVWwukq8QILZg6xcwEUABZoNE8gq/m/TDrSO+Luu1doaSGCBXfsmKaladPlHY0Nd/78Ou0HQ7YCdly/fm0EP7TNBw5YSBCwQH1BaoSFAhaYeJrC0byH9FAcTuE2qUBEhTGCUKMBCnWPqdka6Dz3W3KM8nSd10QDCygyjz22TetLehvbEaFCnVoi7BJVG5QeATS+RdmlRAAG6Cuv3KiRsuk65+k8LiIrSB10wELkciBZwALKa8+erf02X/aDeIAFjL0f/vA27bFz6tQqVXbTmR7d2CKnw2BzlQxgAUcDTdR8Deoug5DUNKXpJnpNKEMr2FgD/c5+8cwz18nIkR21rMKQIbpyy+sAACAASURBVO1VFwp0rvstfnoJNoeUahg1qqNfX6OyDCxs2jReZs7sI7feuiQi51gigAUcicjwZcuGy6JFQ7QRejhjPdh6puvvpjcXEegtWjTQ/S8dgQXAD5rN28ZxWQUW3njjqAwZ0k4bW7/00t6wtmWigAVs4W9/+6AGFpHJQ4PtdKXrWMaFnYQDn1IXs2f3L9LLUwkskHX4yCNbde8dM6aLlgFDlkViw1GSll4Kc+b002oJNq8ABhHFzP1jmZtEX5NIYOHOO6+RiRO7ydatkyKq754IYIH54D44VImix19EqcpEz1NJ3g97HzCRPZdI/5ICFijFSVYK/ZTIFIlkTsjsoScGGSU2H9ArkkDMSO6RqnMSBSx87Ws3yIgRBbJixQgt9RVu/IkCFtgXnnlml3Tt2lzL76RTybVwcxDJ/7N/4gumYgf9cg09pRuwQPA8tiA9xOgnUr9+De0VtnPnVG24bcbN0QELSQIWQJxIZ+FoO/aY9IoVr5ZevVoJ0d6kGUYbqWADC9Q6c8BC8gzwSARDupyTSGCBTeGrX90rs2b182vwiAJZrtxVmqocro5wrPMCIjp0aAdp06axPPHENk09jfVeZfk6anXSpNOWPy5jIbSsSAawQAQshkGigQVom6hXSuMByGVyGY2yzMf2uycSWAAsgGZoktaixeXyROgo1F4mqpGSOSiU9hji/U5pjdtvXya1a1eT3r1by6lTKxN6/3jHVxaup2EkUXp2wEBZBhYeeWSL3HffBs36wtALRwOJABbMM3gupfJw2sUSaGTuk25H3uXnPz+hGU+VK5cvKq+WjsACTrxz59YXGfXIwLIKLBCQgqONCFW+h6OrRAELPIes5T17ZqjDm6jgcM8uLf/PXguIiNylETYBhtAYn1QCC0SHE2yUlVVT+ykQnR3NHNJwmtIxBiQ078Bx/frxadNwO5HAwje+sU9o4EzviUh0oUQBC6zLSy/dIMeOLdEehjgfo1mrdD4X/8Kvf31ey9zQx4WSQiUBLMQ6R3/722Pqvxs+vFMRH8MDgECPPLI5rdYpUcDCO+/cJbfdtlT7rnz66b1h3zFRwAJrRMbjvn2z5YkntmsJpljXLd2uM+WekC3jxnXzKy2UTsACNMQa0JeqUaM62lth4MC2mnFLeThKVdl7gQMWkgQsdOrUXPspdOvWXJvC2JOOo4/GWH36tNI62dGmBDtgIbRzMFnCI1FRm8kaXyKBBZB7msfQx8OmXYCyZs3qypNPbk9ayiLGBUoqji1SQCPZxCKd03Rfw0jfw3teoPdKBbAQ6LnesZWmv0sbsIBRT1QoTpx41yLe69N5nTPl3RIJLFBL+Wc/u1OboyHXbTnfuHEdmTdvoPZFwEBI5NrilP3+9w9LQUFj6dmzhRoriby/u1d4/QgH17hxXYSsFLPuZRlYIJIYx02kDYUTCSzwXAKMiJqPR07Fc20yeIYSBvv2zZHcXP9avOkILLB/XriwoYgX4ImyCizgGEX/x4nK93C0kUhggeeRKQ0/4ogP9+xA/59ufMAY//IXyoHdLlOm9BT6GhiZyzGVwAJr+tZbx7V+P8BNtMEorM/775+Stm2Ll3zevHmy6guB1iTVvyUSWCB4B/nMGkaiCzFH8TRvtucK3xC8yDGSZ9vXmu/pyA+ffXZRSxC1adNQAJ3hg9IELFChhAwH+kIYXsavt2vXDAVHzdynwzFRwAI6D70nkCGRyI1EAgs8m4wdMkUi2ZMCzXs68gHvQ0PwYcM6aJlIQ0sc0wlYoCzb4cMLhcBUyuABqD388GYNbCQD3QELe/ZITk6OCoPc3MayN0nAwsCB7XUDP3lyhZY+qlDh6iIBBNEQsVC1agWNCH/66R3asCZSwo8HWOAZbJQ0xsI5fOLECjl0aL7s2DFF63Rv2DBeSG25665C/X9qIuOgjJaZMZJoxPPcc7vkyJGFsmXLZLnnnrUaAWM2SIQFjayff363RgTceOMc4fnbtk3WFEAI96c/vUONPe/ccA/SLmm09+yzuzTqkfprXA8D0OwI4xklNVoFFUOPdCtqT9LIh4iB666bLmvXjpPrrpum0TyUNnnhhd1a5zza+wcSeon4LVHAAnNNpMSUKf4oJHTboEFNWbt2jCrJ3jVJxDtwDxokfeMbN2m0PXXjEb7R3hsHAXXByQp69NEt2tdk795ZSuM0uj1wYK7SHMqBj8Yei+gZKHhE4UHXhw8vULo+cWKl0pmJNkQBRRCDrkM78BNAyaFDCzXdjchEFKtoeYo54BlEwJMtQmoi9El0GTVpN22aoNFe9Kkg3frll2/QaEGyTMyGFWvGAjxBAzd4gghL0j3hBcMTR48uVkWRBk/wdCQ8AQ9zX1Le4Vfqt27YMEHBVnib/0eZ4D1Jl92yZaLs3j1dAVvKt+AYjSS6NBraSWdggehBsoiIiCFDIZr3Mucyp8hE+AoaueeeNXLzzfO0+fOmTRNl796ZQuo3shf5iRJp6NrcgyPPh46JtPjmN28K++Fc6qci8+378J39iH4goe7DPkSEU6Dr7ftBN9TghA6hU+iSMhw2nV68uF7pGMAyGjp9881blX8NncILl+n0ovKbTaf33LNaewokkk4TCSwgg5AVHTr49CEjIzh27dpCjh9fprLGnt9EfGffoJ4ovExaNesU6X1N+jx1wHEEHj26SGkW/cXszdyPtYHGoRlKOAS6P7TEHhGK7vi/V189oHuQd7+DNz744FRIHsBoAChHHwo0hmC/ERFHdOlXvrJLyOBD3u7ahQ6CfjRFqPt84sRyjfgjkog9Idi9Av0OP9LfIhywgHMYJwnyGT1u69Ypwj567twaIZITmRTtuwUaT6y/Xbp0TKZNGyvVqlWV8+cjp6NYn2eug3biad5s7hPL0Sfj7ggq46AVZByRxfBZJDLOjAOHCbYBZR6IToTm0CvQydEz7r13nTZ5hye+8pXrVKdB/0GXgT/YK+A5/g9dnMajdnQ2sqVpU/q2LNSIeJv3qKnPeM1YUnlEj7h4cWORnsQ4yyqwEO28JxJYiObZ6A3ISEqZoK+wl+3ZM1N1bbLwyORnDybzAn2cfTjS+3Muchsdnp6I2JbwwebNE1VfIoKd/yOjD10DO3rnzhkaBGV0UsoLwXvo6pSqnDmzn2Rn0/D1crYCdDZqVGe59961+h6GH9jfuC4W2yfUO8Kf7FvI7UhBVPt+8Di6H02cy5Xzf489e2YpIGSfX1LfEwksRPsOyMJEAQvRPPv3v39AZfdzz+2W8+fX6369Y4fP9kTXuu22JWovwi/0lInEOWyeDx0in43tx32vvXaC2ra33uqz/Xgu/IBdcdNN8+S++zbpM4zehO0B7WHbX3/9LBk4sJ1WPzD2KWDV3XcXqj/I8AFH7ENsFjOWdDjiYD9wYJ6Y2vIEZQwbVqBlPqORM6l4l0QBC9GOlfVGRg8a1MFvX0XmDRvWUXurRaObRPp8aAwfDf4P9BgaDe/ePUNtQOgW/yABq/gNyZ4OZ1Paz0XX5d5kuGIn09De7Av4Udlv8Cm9+urNAj/Qd+bAgQXq5zCVaeAH3ht+wsaaNKmn1K5dpdi+MG1ab9XjbF5AruCvSpXOzR7msxMLpVu3llr9gl6Rx44tVT2Pd2IeHbCQImBh6NCOWo+PVEOc9JQ+8ioUMFjdutVk4cLBKpBxqBohbBOz93uswALGJ9EK1PLCOJ0wobt07ZorrVs3kBYt6kmjRrWUwGvWrCSUWOL/16wZo85RmCCU8YrC8sc/PqipkBjTpMdQJ3P69D7SsmV9TZ2B+HAQwVSffHJOvv71fdowbcaMPtoYieeXL3+lVKtWQZo3z9IGIdRtZCOEuJkH5odNjs0G5z5NS2HA7t1bSHZ2DTVieN7w4R1l1arRGpmBghaOEbkvAoYoDvoKIIiog0lJng4dGkv9+r4ok9q1K0teXrYMGNBWZs7sq44rNkqMKQSpd61S+XcigAXmAecNyHugqJS8vEYqMNlYk/lurBfPYGMK5NgM9mzWAIchtIUjn/rF1BIlc6hp09ragBpALyenjtLcxIndFTRiM8BIQdm2642yKRu6RqjDO3v3GrrOUroeM6abAlFsaDhIEbQoTqS2EZFBdhLGNeVGhg8vKKJLHPXRKPfMBU4k6B5nKb0o6NfSpUszycmpK/XqVZXsbPqu5OhmBe9yDnLGfKIBFgxPmI30uutmKBBKXXQaOGVlVdONhk0RniA1jtJZOFdxOFM/02ymrJePtnwRaWyOX/vajXL27Fq59tpJ+h4NG9ZURRMD5d1379K55P95h7ZtG0mVKuWkbt0qKksBKgEVo832CkY35vd0Bhaod7x27WhZsGCAGp1mzJEcMXZxSL355jEtuwHQRbOyvn3zpFWr+lKjRiUB/G7QAPppqrJ31apRSmvIWq5l/cyzmHtSUwsLR8iSJUNDflavHiUHD85TgAgeMfcwR4wGwCMAOM4l3dK+Z2HhcAXMKPlEJKO5zhwZF8o8dPrww1uUn6HDQHRKEz7odPbsfuo4wxCCTu13s+kUfoNOAcWhU/YV6JRSQexv0CnKKQANEf6kdfvotKrWjWWfZe+Ed8144zkmClhApsKDOJeRCUY+mOPo0V0F5wY6STzjDXYtcg/HPw5IjsHOM78zXkAAjAVKOUB3GKZt2zaUnJzaKvfq1auiuszgwe1178axSTM06nYDYHr3EfQI1h/nKaDlihUj/ejO0CD9J9gbjMPIjAmnO9E627dPlpUrR8rSpcX5gDFgaOOMMdcFOyIr0Y141rPP7lbjHJ2JaKbBg9tqk7SCgmb6zrw3zh1S79kLAFm+/vUb5VvfOqBgOoC6+aBz4SSznxsKWEA3o+TF979/i4L7zAv7TKtWDbRRfIMGNVRu0Bfg0KEF6iiAr21Zbz8rmd/LCrDA3EYi4+rUqaKNRgcNQsb1t2TcBT8Z510T6A4aefLJHbJ9+1R1ktC8l+zUZs3qaNPGrl1zZNCgdjJ1ai+55poRWmuXkijoP/Az/AHQdu7cOjU0s7KKyxXkC00YuQ8y2vAYR8Ay+NE7tlT8zfxevLjJTw46YCF85hNrw7qjr9Oc2+wf5tirV56WgQy0b8eyruzNyPFf/vKsOvT375+n/UlGjeqkenDjxj4dsnr1ipopQ6k9sgTYq3H0sIeEcyRhy2E/3HzzAhk/vpvet0WLLLUfWrXKkk6dmki/fnmq39ODCMCA+t/Z2bXlRz86XrTPME5kL8/u1y+/qBSYmRtzzM3NkrFju+h7GH5Ad8dvgG4Ryzwl6xrsK/YHH7Bwla43kdpkYdx+e6FgLyXr2dHct6wAC8gtbCBsSYBR9E18Lui4+fkNhf0AXbVu3apqQ6ET429CLyJwiMAtW/f1zjFyHZmOXo2vBd0Kmxb7OTe3ruTnZ0u3bs1U1+a58AOO0iZN6mrjadunhQ4EyHfNNcO1GoGhf3PEF4Z9TKkwwwccCeBD9/eOraT+hq/xE02d2lMDLdnPcLoCHkZSOi7V4y4LwILZF5CX6NvIXOwx6Al7Ft8g/ld8m/gHaTiM35BG29jVyLRQQBt7HOe88ML1em/AYO7bvHk95YXWretL585NZcCAfO2TgH0CPwA8dejQTH71q3uL/IPwFLo5IEf37jjrL/tnDC9wzMtrKBMmdPPjBewJSsdisyabjnhndM7HHtsqY8Z01bL+2dm1NLAIP7J5vgMWRK7Yk0JgAUJEYYcIzp5dIzilqU9vEw/fMdRwrkeKnkULLBimYyPBWYQDEmWADQektVGj2jJ6dGcl4m7dWki1apX0/wzBV69eSaPUUZK8xjnExf1xAuNMvOmmOTJ0aHupU8e/hA7viZGMswK0/PTp1TJ0aIEyFQzPWAIBLxUrlhecv2Q14PBGKcQoJtKxQYNqOpdcx4d3sueWv+lnQTo20bKGEbxHxg+z/+IXp9RZRpRVuXJXqxHNxty4cS1p0qS2GkSVKpXXsZrnlC9/lTrh7rtvowIeJQkuJAJYYBMi8mHQoPbFIs14Z0p8YYDGEm3vnfdE/s0aMvbf/e4+japDUYcmoO9atSrrxtK8eV1NN+M31tesIZE3OMZxkhDZZG8wKF4AR9A1zh1vGjP3wAlHlB8KGFF9PXu20nvDP+ZjnsWR3wDQeN4HH4SvI8u7Md88g8iTOnUqqRypWLGcKjaAg/BI794tpWHDGlKlSkW56qricoZnRwos8EyMRbKOiGIvKMjRFLiqVSspbzdpUksaN64t1apVFi9PYJAD5gDCoPQanoB/ccY9/vg2Wb9+rBps3hIsjBFQCzCRSLEmTeoUrZM9h82b11dHNIZiIukoXYEF5hCFolevljJyZIE6qyN9b4wPQGEcj8uWDVUwG7mKQlyvXjV1HNGIibW1ewLBP8hP9gxk+9//frk0AeuDcx4wuEqVCn4y0ayTj86vVt4qLByma0pErHfcZLg8/vhWmTWrrzrFAP7MPUi7ZH+k0SxOZWSTfb2hU/iW2sxE33ONP53WUjrlndlnzL2hUxyzRGND64ZOfcD3WVWoyM7q3Nl3T3OdORIdSXP5O+8s1LqT5nf7iOONSHocIfa4Y/2eKGABoIPsF7vGvhk3++aCBUPUGW/mJNbxJuI65LHJrujdO0/lum+NK2oEKEo9ZZWgE3QXW6ZA35T8wWFJSQFbfwFswIG/cOFApS9KttjXmvmAT8iQ8s4FoBIyisaOGCvVqiF3/XUQnE1kuAB6hZsLdBsMUxo2YqhyL94TI3727L4aaUXPnKVLhyh4bI8VcBewoUePFiojkBPmg9ONaF77+YGAhUqVKihABuBExiJ7Cvsd9MBY4GczJ+aIPjtjRl8FeUtCJygLwIKRcdAb+z/GajQyDvCQiO6//vXxYjQMTWBAYqOQXck+z5qiIyEbCIiiqfW8eQOkW7dc1TdsuoMObGCBSFmcuchfPshcL0/wN7SGnmLO4zhyZKcSa+TugIXIQARbhpjvqQIWfHrwk7oXIHdxkrKfQ0e1alVRwB8gjO/FdfyrpHPnXJWD7MXYCmb85sj92WvQW0eN8tkPPj2pkrRr10QdiYsWDZaBA/NVJkPDts3pBRbQKdAf2rRpVETn8K19DfyDLcJ4bV7AMbt48WANBDHjS4cj70TmJgFmZg/gnQjAw2mcDmNkDGUBWDCgAsFCZA+gayKb0YEAEgikIwiGv31y2ABBvmwsAiNxwuL8517etUPfIcjhppvm6r3NvkCWIw5U9HU+nTo1VT3Buy8sXDhE7w1fcW+CHgiSqF+/ptI6NA//Gr0Cm9XHB/77AnoIgX/e8ZXE38wTNsjzz+9R25RgrM6dm6uDGr+WedeSGFuwZ2Y6sMCcozujw+B/Qf+AVtkX0IsbNaqp8rpGjSqqd9g2IP47QIYzZ1YryGbbB2Y+WXPsJYLHCCgmSBSfB3ZB587NZNq0XrJkyRDp06e1+kTgNSMbOXqBBca5YMEg5SlkPuNkD/DuC8hV775AefCVK0dEZE+Y8cd6BFTAP4XtDVAP306f3lveeus2P3nhgIUSAhZQVgANcAzl5xevTQgBoUhAnG+8cTRo6r4hkGiBBZiCa6ZP76uGAUwHwZOVQImf118/Iu+9d0JRWLp+M8527S7XvoMRKYEDWga4YMZhjrwfzsf+/fP1PTBIzDNsBiOCmxT61atHS5cuzdVwQTBj0Ldr10gFtZe5MEJq166qaDnI4rPPXicjR3ZWIvcpaVeo059NFAey2aTMc7lfQUETjaLG8LWj0c34icbF2TlsWHtp1ixLHRRsnHfeuVyRReaOeSGaiywIO5Kf57HR9unTRsGSaJthmTEk4pgIYAFny7e+dZOuj3cuEai9erXWepPptoGi8JKZgpOoffsmuoa5uXXUqUc5CaKuQVlffHGvIq5sEJdp5ArdKEjRhx+IMDbrgSHP5gF/spHYgIS5fsCAduqcnDGjt6LMbBbMXeXK5aRGjYqagWPONUf+n6gfeC3QZmaezzwTDUrZMiKjaJzDZlitWnmZO7e/ZgYRrcIGwJHoalD43Fz/ZqzmuZECC9QUpeTO0KHtJCennkayDx7cTiNdSPODJ5Abjz++XSN9MZ7MMwxPUDOTjAMiwHgfojxw8sE/DRr4HNJefuce8+cP1nR2eNGrrJpnAFzCr0SUm7lKxDEdgQVogLVF9jRsWEtGjOjgR6Oh3hva+s1vLihg2rNnS5XjZCUsXDhI7r9/kxqu8AXAAVFMU6b0krp1L9cARv6iUJA1gjJtaBWahOYAq6+9dqJ06NC0aP3NGqEUjRzZUbMePv74HqVjr3OWsSOXkcEYMWTjjB7dpeheI0Z00qwzHLNEmJvnm3eGTh9++Fo/Oh0yxEengNg+Oj2sWWjLl4/wM4ihU3rIwL+U+EDh477shWPGdJa2bXFW11TgJBCdYjitWzdO94zgdFpN14vyTGbM8RwTBSxQcoR0YIxOs17mSAAEhipzHWi/jGf80V4LbeDUX7x4iOTnN9bxog8Q8cz+jLGK3McZju5EwAIBDMZ4QF7jaMIZS3QrSrHZu3g/ADeAcugLp+jkyb2KzUcwYAGDHGMSPvje927RaEEMeduRGimwAF+88cYtGk2I06Zq1YqqH5GJSfkBSjMS8QfAwnjJCGU/MPuRz+gvr9cBcNgf3n/16jFF780aBAIWMIhI76esFMYW88z9CSxBZrCfecvawENkl2LskOVg5jbadY71/LIALDCvODuRa02b1tW1IHiH8itGxsEjjz66TTN5bKefkXGUZoW+A2XOoLNSbgvbBJAYJyoZgYBL8BZyGfuFGvEXL26QWbP6+xnBNrAA+EGEG3zIh4hTgDFbfrL3Y0vceuvSovM4F92Fsqux0kI81+E8cBkLsYELqQIWCFJB35g6tYdGTQMkYzeS6ULpO3R8nN7PPbdHo0GxVcyeBh/gwGnVqqEcODA/oN7IXkB5NwKFsOnIuCECG1nLfQkcQvbSl4hMO0pg1K7tC27jOV5gAbv40qX9qmdB3/ArYAiR2WZcHHv3bqMlNSitZviGQDX2A+yxeOg60df+9rcX1C5ANzfvgJ5HqSj24EQ/L9b7lQVg4fPP75fTp1fKgAFtpGHD2rovjB/fVR2g+CvQdciyJ5MBfd9eM+RxnTrVNBIZ0DkQnSHzCUjA9kU3oDwmlRzQudBnP/zwtO4NP/7xcX3m+PHd/eS8F1hA5wQgQO+EzilJTLUMnLTQEsFilDAjeMLwAUdsk5IqkeelPwIX0cfICITue/RoqQGC2FiBwErv9SXxd6YDC2TDESQ1alSBtGzZQH0/3bs3V/2CYDpsQGyDZ57ZpX5EAGYju9gX0G8JJqYsETLeu0bo+Pgd+/Vrqz4g/CH4MPEHcm/0I/YF5B8BcsuXj5QKFS6DC15gAV8VQXLQEfRNQEfv3q3UTjHj4kjgNUFJNi/Aq+xz7IXecSbyb/Z0dD/AbfrtAdAQoASI6a064ICFEgIWWHAQNSIl6CPQpUuLIsI2hIRjAqMBYYvzPpSBBjHjJMEBBDhALclQREVUL1GTlGIxz+O4du1YVdQQPMaBQLQmhjLp/bazkPP79MnTCD3vszCKMSaItKNcCk2cmjXzfxbXN2/eQGursYEQecjGQ7op2Rww2R13FMqqVWMUaCAa2x4rjgE2LlJyACJILeVcrofxQBOpnUZ6fuPGdf0ABowlHBM4D7zCn3kmG4KILFC5KlXKKwL5wAMb/dJmuQ7nF2tDChPGl20s4XzAkYrCmai0X+88h/s7EcAChif1eXHi2PPPd4AbogfiEWrQGbyAsYwjL5oPYyPqFBq154I1RAjiECFiqWrV8loai9p6P/rRrboenMOzGTvO6JMnif5uXSxil1ITR44sUocRxib9GagpvWvXTC0L1rr1ZQe6mR8EL6lxGDpE/BHBSTkB0HMUM5w1pOXhoDXXcMT5Aw8SpYogt9/JfEeRJxKI9FIMF65jI6Q8BXSLo8mcyzuyab377t0qZ7p2ben3PK6NBFjgPtAxEemGJ4haJLIbWWLmH8OJdcTYQ255acYX2dJOHdI4hVG+AD1IU6Qx0dy5A9URZs8J33GMdOzYTMuPcc6CBYM1g4boY+NIQ0netGm8bujm/RNxTDWwQBMkZIoBvnDy+z4oQ7dotgz1HAEVaHqJsy9SYAF6R2aRUo+jkBJzlHTbtm2Slh6iBBFrzbwRncDaUi8Y+oWm7XVBmVq6dLhfVh3XkoVCyRTSpHFg2k5VnKOUzYi0vAX3Yx8BWED+kxGDsoeBE2htOZ9SNJTUMHRKBBVAAw4qm06JMqJEH71IAtEpZXVwTkCnAGHwLHS6ffs0mTNngDrc7Pnge5s2jZXf4Xv4G0CMTC8fnfrAewA+nPSJSpFOFLDAXkjGFM4W73shQ3EUBJrzVP+GgYxsgR7Lly/3LwW3szzxxDadU7tUE3oITlKi8HBoogeYd8OAILKMEnU46ZFd3ndhjagNbK4xx2DAgn0998PQAEgj4MFcGymwAM8zNt7TgFQ4eqlzD196ATX2zQce2KSGOQaueR5H6BH9aPFiSjMNkxUrRgmOKnu8gYAFwJi+ffM1G4KyR4CM9FSgnir7JY5gSuCwR9rPwzFASjfyKlElv+yxhvqe6cACMg56JrrUyDj2ZQxM7AnkL/MD/SHjcCRRB56SbPYaAaAimwjOQcbZc0pGJvu7cfBMmtTrX+XbHvPTSxgLdEcQDgAc9+QZNrDA+qOnwYd8br99mZYMsPcFnLvUpwcsN+dxpOSkeR97fKn47oCF2EAF1iYVwAK0x16wfv04LcGJjo9zjx6G0BGZkJzDOv75z4+ow4f+SmTgY/8ZXkDG4SClL4i3nCsOIkpNYodzPvIXBxBZy3ZABM9Br0LvpfEydi3ne4EFzkM/Rp+AvnE+kTFq7m/GNHv2AK3JDT8bfoDP4CWv3E8FL4R6BnsnvgQCLhg/eyOyn3kqKbs30HgzHViAzgGbKdVVvTrZbr+HxgAAIABJREFUX+WUtp56aruWAjZ0gw78H/9xUXVwSjrieDV0xxHwjIBPgGnv3o0NSDlsc/6iRUM1a57MZZ5v5h06h24px4h/xugjXmABux+bg1LFnA/I0KdPK7VneQZZmtARuqnhA47QVUlkQ5r3Y16wQQC+KYOMw5fSsexp2EX4nOhnhC0eSK809ympYyYDC9Ae+gvltdCP2BcICqNnDfKcXmXMO/IbOqLs6r59c9S/YOvpZJ9Rtg+dGtlurxUAHVnCpmQsQDD8wnnefQH/1Msv36iBeASBQtdeYIFrOA+wDPqmEgVBqQQlGV7jiN6Onm7zAv4g3sl+rj3WRH1HzmMfslfhE6UnBkF/+Am8vioHLJQgsGAW/J137lInZcuW2X6OaUNQRElS85cSJMGEVLTAAk4r6rB7oxPPnFlTjIkYJ2WBQIlHjOjsR+iUvcCZZ97FHGFuEG8UNRBdFCSMDa/TAkYmtb5nz9Zyww1zVDGDSbiee+EUhckWLRqkNePNnJgjhg+CfNKkHhrFCmrOxmk2OZA0GHHChB7qgDPXccSBx0ZpOyLYfNnkiLil5AoGPbX4ATm8m6z9rjyDGpgmKtI8B+cFNQ4RROb8VB4TASzgxECgkFZp3sscmXtqSbNOsb4Xcw49PvroVo2QJko60g/0iiMRB7X9fOiOKAhqP+KQJAoCkAFD9csvA6c8Q6P0AmjduqEfCMUaTpzYQ8vGoMxwDzYBjHYilYiG9YJeRHECEuC4Yv0x3jEmjJHsywLZL0OGdCjGgwAGoOpGEbTfC/7HKUvNSRR41gEepnkOkYqByspwPfwEOEhUoLfUSThgASWEjYxIbJxcvCvlNQAVQvEEDg0UV+bP0AtH/iYLBOCH+cRgYkPG+YATG0XX3uDNNfDjvHn9VWngXQEfyeiidw0OEhxcKBSJNmZSDSzgnKZ2P0AUYIv58DfOepyD1Dc3peWiARYA0TDGSVPnOsodTZrUTYgwQsm3ac18/+c/n9KINMpSeNcSXqFZOGtnzucI7aJckNGCgmbWH3lNDwd4NhB92/eAZqEPmmEBImPwzJnTT2WFV5HhOngDOgWYA4DgWdApWTah6BRaApTzvht/E40F6Mg44F9Dp9Rmpg5yIDpF8Zo/f4Dul9yb5l02nRK9QvMtrzPPfvdovicKWEAGb9kyqcgINGvGkYwvnDLRjCvR56I4EylEloGdDUOEGM1pketGb/A+2+gBlLMA3LLfDUcTTQxZW6M3mOvRJYjuQ57b9BEJsMA94DUimexU6EiABd6VzDVTQo/xolvQzwOwIxivYjhh8HjLxTVrVq+odCVjQqdC7pr35BgIWOC58BE6KMDMc8/tUh4zAB3zhWGGc4+gFttZTLYfGVDe59jPTMb3TAYWjIxD1zQyrmfPFhrsEErG0ViZwCObhllb/qZ8m53lh1xmb23atE6RPosDCZ0lkNxlDXG0AqIBMKEz28CCd41pnkimnE0rAOSAUPEEqHifE+/f0LbLWIgNXEgFsADNAWyiLyIb6bl1883z5M9/hk4vOzkNHbA3UB4RJxLR3PYeAB8QCMB+bc5HBiMrsSEMEIE+jz2EPmDOs484WejfA8iGM9ULLNjn8h1+xn72BvgBThAIEeg9vPcoyb95X4Iv0CexQ5hHgg+pVoAdXZJj8z47k4EF9AHocv78gQrwEGhGz4+XXrq+yJHqnQ/4AbsUW9K7L6Df3HLLYs0oN9exLxBgh8/H7B0EjKLHErBkzrOP6ONkxRH0ha7sBRbsc/mODkLmnbFRCcykZDX+J++5qf7bZwPcq/sUQDr9GsnaxgfinT9+mzOnvzpeAUWMvpTqMQd7XqYCC8hLfEEEgBFsTKAv/SVpAO6NqjdzAx/gPyUzxtCd2RtYVwL40E3M+ewL+CnopWD8PvgSyZQPZtPCI6+8cpMCUOjTXmDB3Nsc8V9hM3r1eHwBqZarzA++LgKJqEDDnGIPIB/Yg82Y7aMDFtIAWGBBSClGwffWaDQETtO03bunabRDIGUjWmABdI1eAXZ5Igjm4Ye3BhSCMAzI8qxZA/wUMmpfkxpjE1Ww7zRD9CpQpICCJmL4BEq94144/nHEgHyb+TBHBPiaNaOCRhyasdCtnewKcx1HoipIsbONGYQPJTBAIDmHCCwirECnYbBgHzYdUElKA3g3GRxpoKVmLKk8JgJYYGOk/r03Ypn5wSDE+RbPxg8oQcaHr05wOY1At41Oe83Md2ovEqmOM4N6wUQK2fNKlAOGgjkfpJco6mDrx+9sGH/5y2OqJHufT9McnG6BABTomkZA5lkciQSncQ9RtPCNPTbznedRA55MF/taSjJh2BsQwpzPEUDj8OFFQg8IQ2fUkCcziP+zzw30HYSZUhr288IBC/Al4wG84DrOp54tDq5Q8wlPUCqHMk1mrOa5/fu3UbDOO0buOXp0p2Kp4cgpjDV6ntjzglyinBLXJcpR6x1TqoEF5DD0B40X//j6xtjzGQ2wAPDKPkPKM2vhi8rfo0pXqLXEcAEMgu7MGnLkPpMn9whYhgnDGOeo3bCTcXMPUj2DKXpm/lF+ie7DaIWGOnbM1bIEOIDNOfaR33HiI9cZG9lAKEOUXAr1btApdfUD0Snl74hYsZ/Dd/YDItENuGPmBDoFaOT/ua+5Lpl0mihggXJmZPHZTnDzXtRVZy7N+5TEEdlL9N2QIQV+NEjTccqtRDImsi688pbSiwRZkLYcyGFPJDVl5uw9IVJgAb0MYNkG18IBC9Aq78qeZZcZYk8BWAv1nshAyhZShtGsHUdoGwMJmuT+ge4RCFjgnelDdOjQ/JAAAYYEwCMZJOa5lLcBBEJ/CPS8ZP2WycACxiu1f4nkZJ6ZYxpE4lQKJ+MAc+njZO8d3AMZh7PfrAfBCZSGMevIkcAcmmUG4g9zHbRHKUYilx2wENjRZuYqlcepU/tKkybZsmjROPnii9SU0UkFsAA9E4Rj6JQsNrK8QvEB+zABRGS/2vKcewBW0zfNrA1Oc5/+ejnbjKAPsoLD6dqAF9i6mQ4soOdQccGsAf23CPLDuWfrP2ZOS/KYycACzkb8FNAna0EWPYFfBPyE4gcc3mfPrvOzJ7kecJgmtwQSsGbcA/m+adOkorXmPDJyCUjBlg22tuxN+Hjw9ZRmYIGgFsoDUgrYV2Lb3xYyPGCOgJ3Z2dXlyJGFGowRbH5K4vdMBRaQOWRuEk3POrAG9APBPgjFB8wHpe3oLevdFwg8grfMOqGbk4lj1pkjgdE0Xw4X1EipPALPShOwwJwCpIwb5ytrhmw4eHBhSL3eAQtpAixArBA2hBeoFjqR/jgQKaVC5LEhcnOMFljAwUTtPdN4tnLl8pKf31BTuwIBFzAlihYbg81QGKyzZ/cvNh4zLvuIssU72NcPG1agEaU4kFD67PPNdzYtnLNsYva1fMfJwHzYWQ7mOvuIMojDx74e5ZIyLMbBxTuidOLIomQL5+I4Y4PGOEZZCvYhmpUo1pYts4S5tJ9DPdlwpanssSbyeyKABRwuGIzesj28I+n1ZALEAyywvigf1LzDwUepILJE7Iat9nzyfezYboqYfv3r+9QhdHkNSXF7WktlZGdfTiPbtm2qRsgHWz9+N+nJU6b0LFbbDqWIhjzmOfYa4ayiUac9Rhw71NbzZSlcdjDa12F8QVvUjLevJUqVjSxQlIOviVxnP+fAhAk91bke6Hz7eXwHwCNF0HYuhAIWkAXUzQTsMGg+zozHHtumzww3n6S2NmtWp6ikgnlPSqsEioCG/2bO7K0NWM25HInURanDsWHLJ59cekJ/DyY/vHMQ7d+pBhaIpqPRNQ57aNH+oOx36pQj9epVLYqWjxRYgN4ooUT9cxNpTwQ3EcfMe6i1xHCh/JcXQCMqjwaxgUobsVbsaTSMJXvHrCe0R6MqsktCrQUyH6d++/Y5Wq6Jch9ETgRaZ2gCgKlv3zZFmTzMI31I+D3Uu8GjnOej08uOUcYLnZLF5B0n8gp5YNL/zbvByyidvDu0aa5LJp0mClgAjKVMFYqjeR9zpH8B/GfeJ9VH5g/DjsxFIrUZFwAcznYiZ9CfIhkTEaiUAjLvZe5DnxIActJ9vfcBWKC0gG1wJBNYQJGnXN+0aX385DRjXLNmdLHx2eNlD4CXhw3z31PgOfQnaD2YEyAQsADIBBDJeEI5iojoWrdurB+Awr5C5ieZafYYk/09U4EFZBy9XmwZR2o9e2wkMo4oS2ScibIzPICMo7yWWRccSN7yX2RnFRYOU10rmK6HfQCwy/gcsOCABWQyMszQmTlSXoK+HOGcMIYevUf2AnQAMlSzsi73fsKWw64Nt9eTnUNfA0qXmDFxpFxcYeHwIj5g/PRiM7oS51DakZ5gOFpCjR+HLOUjMxlYwM66667lfll1lH8lg5W9wtZ/vGtYEn9nKrCAXk/pVDJFTEUIdGaCMQF+QvHDp5+e15LRTZrU9qNzHLL4MiiBzFqxlmTqb9w40Y9nCLgj4wZ9OBjojG+HEsTUrC/NwAK2PxlNu3ZNk7Fj6QvYWCpVKuenF9ryBJ2LoBV8JFxDRiFrVRK0731mJgIL0Ci6y7RpvYsCvqBjStwBLITiA/RiMs0IMPJmNJOhs23b5KJ1IxD53nvX+/EBduC0aT3VvxKsagRrQBntsWO7lhpggT0Q/Z3AEoJ4CS7Gf0TPUfQ9L12Zvx2wkCbAAgsCwWKgUSohUNkZnDggYzQoJOXdLCLHaIEFIi5A9oiKg2hI2zp6dJFuRPZ9+Q5xsXFQCglHlFd40gDae02gv+l3QINm+3qc/WyKpIQGuobfEBgoKqSHXnWVf1mV8eN7qLAOlopn7onRTN07+9lELhIxjjDiPBgFhqHfg3G8MuczZvSTNWvGavNYoiODfaiLiaJrK6I8jzRaGt9h9Icbpxlvoo6JBBa8TjTejXSz1atHRezYCfVeGM7QGtHnAGi9e19utGbWDacXwo3eG/CA14GH0wTa9jUTvEwrNGOl/0awtTO/r1s3Xst+mNRn81yMcWpUe2ur8j6kX3vrF9PsDSMnmLLFdbwvNRqnTvU3vuCRw4cXCHUrzXxhSOFUXbt2nF8aN8YR5YYiVeTZYAH4DH3zfqGABXgC/mTOzTWkPEPrkfAEvEN9eS9PABrt3DntX+O+bIR/8sk5LSND5ICZe448y26gbeYlFcdUAwvUNKevAMYpBqz9wQGOgxdQhhRmShFFCiwg5ygdYMtQrmcPgO4NDwQ7Dh7cXmrW9JXfMmuD4gYNYoCjrNrrgawDHLjuuqnFevMge6FDn0y87IA318Mb7GmAKmQ8ANSRJRMIVOAanF2U3srOrlVEpzh/58wZGDGdAh4GolMczl6nKs7buXP7+fEic0K5MJpZmfdIxTFRwAJAD+BNIGCBqOZz59ak9L3suUM3Qg7R3B5jjrkmO4QyFfQKiNSJQfYVewfRpNCuoWOMCRoevvLKvmLvCLBQo0YFv+yBZAIL7BmUwvNmaNILZcWKEcXGZ88Thiu8QO8pGwjhPdlnCBLw0rK5PhCwgP5z9uxaBSTMeYGO1DSHn41jg+cRlEGZRCIaA12TrN8yFVhgXckqsmUcYD89hyLZi9HTg8k4wCNDF9AfYJ2dzUywDDyzbNkIdUSxF+NosR0lyGbo67bblsmtty77195eXLa7UkiX9Z1k8YB930zLWMBW/PzzixqQY3RS5A1lemlIH0x/Mb9jR1I+yRsAxr5CyVNTLx5+QD+nnjQgNs8gSzorq5oGqR09ukSjVLE3vPYrNswDD1yrpSvRFYKBuaW1FBJ6GzIA2YNOSKYafSKPH79G7Teb/tLle6YCCzisn3pqp8prww8EAdL/DHvR0H2wI/4fMm9tfcgXtFFR+5mZfQFbkHKsdtYydhzVNFavHqslI99++3b1Y9n6GPsJpaDJqr/nnrVB9wXoBB0knUshkQHyve8dVjCfHp70XUPnHzmysxD4Yc8h8sInM67Skscvv7w3YGBiSfBHJgILyCSANPrlGD5AB4a+oc9g9G9+p9wjpYe8gRfsEwQjGVuV48MPb/HLcMdmIpCV3nv4Z6FjgGevvUoACHSze/fMf5VeDQw0pUMpJPYmbHCAQ4L0sMPpsUYQofGZBqNdByykEbBgFonIwaVLh+lCeo1DBBVpPjQnRqExCku0wALXsSFhrNPdHEOWiEA2EZiB//vVr+7VWrw4tigZtGzZMKEPhBGYHGHgadMiAxaog+wtwwKwgKD2KmZmLuwjtbPJkLCfD7DAu4Rz2GPcFhaO8LsWhJ9oexN5AjPDEHaDR4wrQJ62bZvE9aF/xF//+njEDhD7veP5nghggca/ODS8zl7WAafxjBl9lF7iGad9LUrJhx+eVCDJXmu+k0mC4vH660cCOisQ+iCspG3Z1xI5FO8aUooH1Nu7WdB/ghrk9vNwChH9Gg5YYAPC+WlfSybN/v1z/K5FqYOGUWDsc1u0yNJ6pvb8hfpOeRp42RhK3CsUsICMoXayna2C8xU5EO98HjiwQJ1gthJKTU5fVLJ/o+A9e2YpuBnq3ZL1f6kGFnAAAbDZThvvuzFnpF7SxBq+jKR580cfnVaFxqafGjWqxL2O0MGLL+4NmGFjHP40g7Od9shxjHgUQXjW+34oLkTY1q5dSbMdkN1EGgI4eM/lb/YuzoeWzfslik5J++Q97D0GZ8GCBQOLlYejkRsgfKAxJuu3RAELRPNTu50aoGYOzZEMsjvvLEzpe9nz9cknZ+X06VVimp8xLpR5sgvZs+1zw33/6lf3agNCG0DBIKxXr4pGFHn5Ll2ABbIzAH6C8YD93hgAdhkl5ss04A3Eb1wbDFigV1G4PglkjRIMYEd71a5dTevE/uAHR6NaH/s9YvmeqcACMo4+VESOGb7EodeqVfx78aFDi4pkHHsLEeVktnkdJegNlESk4T3OLBxG0IZPPvoCgNjDaUobjE5jARaQvehd6OoEd0TzYd4IyjAOskhpivG7HguxgSDIUHSYZGQsYJuiC1N/3fABR+y2eHXSxYuHqWPU2NU4zzt0aOIn13gWfEDDcex0evBgR6NbE63Ku+O4Q3emBxu6u63j2vQXK7DAM7AteEY0vMC5XEMza3sc0XxnzOg/gJGUwqXMHzKIkkh2r5Zo7pmKczMVWED+ohvZviICAiiLFC8/4GcyPSihYTLbcnJ8jcxt3oMfqL9OuVSCjKADgooM7aNzALahxwXbF6CBaIEFxgSvETASLR+wL4Sqix8JTfJ8+J4+btTEpweLqXZhzw89Jui1xd4YyX2TfU4mAgt/+tNDmjFAto6Ze/yTzH28fLBp00Qtk21oF8A5Ly+7mK0EH1DSm7KjjzyyVatwsObsWT5afUrLk1EBBX2E3wKtdazAAvsCPBctL5h9wZSFZ1z4C8jWb9CgutrgVJchI5U5sG3hQON3wEIaAgssHI7+mTP7Bqx3DPESgY0jxRBCtMCCIQYIyHzMbzh1uB9RscOGddAIDV+t7+L1WaMBFmiQaDcjhPmjARY2bhyv0SNGaHCMFFigWSGRufa1XmABh9CJEyu0bq05j00CxzHpnbF+KOeBgmqUVTPPqTgmAlggM4AeCPSzMPNijtTUHDSobcKReOh669apxZ6Hg5tUrGDlFRDgL7ywWwYP7uB3LY0nY10/rmMNaVKGkuXdDGhoVVBweTNjbiIBFrgPBpK3vBjAArVebVACnqTkAdHsZu45YuRH4/CLFlhgc6E0le3MqFOnukY0xjufvLuXJwAzly4dqnUI7fd0wEJxAx/6waCg1NDIkQVhMzreeOOIKjz2vEJP8awj11KeC+XJKF22XGOMNH8m6oHyTfazycxh/ChR9jV8Z/8hOor9hVJyGDReWrGvAaA4fnyZZm+YZwAy0MshnveD7xmL99lk1tCPoEkTfyOrNAMLZDPt3z/XL+rczCVKdEmV82Od2b+vvXaCnxyiTA/1nAnEsGkh3HdTtgfj27yfOWJI4yS175FqYAGDg6yXKVP8SzcyRjLhTEStPUbv90DAAoAlQQLBgjjiARYM/1Wterm8CP2p5s0boL2NvONL5t+ZCiyghyEHmVdDr+hD/BaPjMPRj4zDKDXrAo8AMtoZKOaZ2B84schcpCQEOjOyw9aLQhmesQALjI1SHETLkaEUzYf96emndyr4bN4vkiP7mQMWiusdkc1d8oAFSqvQa4fIVEOTHGkgHw8fsNeTtcdeb2iZfZ6oZEAE+1l8RzeBDwDf6KN3442z5N/+7ZYiRyzzFIoP+P9YgQVsA5z7lCSNhhc4l3Ic3p50kaypOQeHLKCir2ntlRp4t3HjOPnVr0I7jc31JXXMVGAB8OrGG2f7BYsR+EVfvHj4ATlNcJyt11O1YvHiocV4wccPvn2BrDgyjcmsZs8yvBSOF6CLaIEFwGbkATpgtHzw0EObtV9KuOjrSOiVOcKx/fTTO9Q355UVBKhScpAqBpHcL9nnZCKwAMB2//0b/GQ1snnXrulx8QH7AvLSty/49sP33rtbrrtuWsBgW3tfoOQePTYIwLADUsPxQqzAArYLQT6MOVp+oEoCfkpoD33r5MkVGgjOHte0aW0tZ2b8zeHo0wELaQgssGgIy5deukGI9MzKulwr3ggsjIuBA9sLDaw+++yiGgbLl49Qw7tTp2ZROwHoUQDKTLNNojBoXpyX10hrahOxQU1snDSUg7FLaUQDLFBnL52BBRpo40A3jU2Za5xTRDjiOCMNLpYPyD1p4+GESThmjeX/EwEsUH/uzJlVSg+G/swRoQNKTykEkNJYxhjoGhr0XnfdjGIKDClZGzaMD1gLm/sQuYBANM0NzTipGYxTPZb145rf/vaCRr3ZxrcZN5GaHTt6gYVu6sSxwQFzvjmicFG72luiKxCwQJQRZWz4P/NOHInYpSGzuWe4Y7TAAhsiTfHsKAzW4JVXboqbJ4ju8vKEAxaukEgyFsw6AzbNmtU3ImCBzX76dP+yWxMn9tToUpSyWHgDvkC+haNzQPAJE/yziEi/HjGiQHnZdtzDFxglPXu2VGMJBz71Yr20YuaAI44xmqtTosbwB07/b33rQALolGgTfwdLJgIL9NEgTdd2Dpu5BBSizqgxEu25T8V3MtQo12jLITIORo3qpA02oxkDexWGuB1db97z5psXyKef+keVpRpYgBdw3gCgezM0KYUJL5gsS+97+6K6H1JgG93MvBfNBgnMAHi3HQX29fEAC0Qj3nVXoR/toKPSm4mmv/Zzkv09U4EFgHh6VtgyrmnTeloeKV79FIPRlnHoUZRdmj+/eFaWoSlflk91jQYcPbqLNimnBjVRoKHWOBZggeh3epiRoUeftmg+3bu31Lr4zF+ocXn/zwEL/nued35C/Y2enKyMBewRIinz832Nag093nXXCnW2x6LH+HT8i1qewt7jCCT64INTsn37FG3ubJ7lPbIv4czt37+dln9DL/v1r+8NS2+xAgs4bCkNSWBINLzAuUSWU/M91PoF+78vvnhQA0koUwswT6aCzx4LXfY12P1S+XumAguUAF2xYqQfsNCpU3MtS4dOFw8/wMP2vkDmFwF2pkSplw/4m3Jh9evX0N5olKGhNxt93CJx4EcLLECPTzyxTTOjouUDfFGzZvXRyOxE0CG6F3Y6gX4DB7Yr0r2YE3QxSsngoA6WMZqIMUR6j0wEFpCJBGSiExm6REcBQMJei4cP0LftfQE9muDWtWvHaDli8zzvkTLFlBumFywVV+Ad7OVw6xQrsIBtQxlLfHLR8gN99ABBoE9sDMqJU2qTQJIaNSrKqFEdZevWSbJz55SwnzFjOknTpv5VJ6isQBN3AsTMPVgvymciZ8LNSbr8/x//+Li8+eYFOXPmpHz88ccS7N8Ve/bskZwcn2MwN7ex7N27Tj766ELcL4rjjPIC+fm+MilDh3ZUAo9EsCDMUdCJSEA4mybLNuHiACCq7YkndsjXvnaDxAIsYFDQYJNIPdJ3UDqoM8bGQNkValYSsUwGBRH91PW2U+yjAxaWaY8I+x3SKWPB199ihJ/zAmCBBsGRInXpQvxmHIkAFlAI2PCpoWmvnflOqShS51H4zXPjPeJcoQ6deYY5UgoDByKRl4GegeJD1C3paOYajjiM+L9A18T7G71Jkg0sMLfr14/VOsf2e7EZUKoi0neIFlggxZsSaLYzo2HDOup0YHON9LmRnueAheiABRQJopJo9k0EW6h5JoqB5no2/Uye3Fv5FkUz1LXx/h8RzaTKU68SMJIxEMVDYywaSgOO8wycOTh2KbVRt25VqV69opw5szqsbEE+keliO8WbNKkn3/nOIU1hjXf83uszEVhAzpPGbvO6oRUy08j6wnCyQSDvvCTrbyLlRo7spFHSZkyUuurVq5UaltE8Fz3m7rtX+N3L3JOME2jVvl+qgQUMGLIWyMAhSMSMjWPTpnVl1aqRQip1IJCbqLmXXtorPXvm+V1nmm/bxpH9jnyPB1jwzelyvzkFWAAMcsBCJW0MHizL0rsOwf7GKUG5BRsQy8nJku9+93DCZRx0Ai1RF3rr1ikyYEBbtUEw1G16NN/JbMDJOG/eIDl5cqW89dZxPx6y3ykWYIHAHPSc3r396do8P9SRPad16/rag8ceR7jvDlhIT2ABHXbnzqnF+hCePLlKvvjioaB0F269A/0/fMB+hx1/6NBCBWwbN64dsJIANIhTFQcKPW6wOQDaQjlNYgUWkCX0KLOzl0LxgP1/lK9dvHhQVPPEXgMPoqtNndpLqK2fm5uloAJZRIH2okDzWZK/ZSqwwH4/a1Y/P2Chc+cW8t57J/yyZxIx98hEgh7o/0ZvAeQxgZh2EINNa9WrVxL6qVGj/t571wUNCDRjixZYwG4goAEnqv3cSL5Xq1ZRunfPDTsmM7ZIj2TvEaBqB+AyHkpD4lj+z//09fSM9H7JOC8TgQVsYXwklL0264+NiQ81ElArmnmf4U3MAAAgAElEQVRmXyBzmOCLG26YLcOHdxR6kNrlfs0YONK3Ad0df+exY0tVJw5VmjFWYAFdG75kH7KfH8l3Sh5RWYD9imwngsjNdQQ4NWhQQ1q3zo7oU6dOlWJBUcwBPWhbtqxfdA/Ava985Tr5/PPiVQuiWY9UnluqgQUmCuJF8WCRMapR3kGPzGJz5G+UedI1iQ4DIYskYwFlCUWBiE4ikqkRj9HARkC3+zlz+mmpJRwodgoPta4zFVj4/vdvUSeqHRXJZkANTSJ6YyVe1tFG/WO9TyzXJQJYYP3JoKEMQ6DyEYBeixYN1uj7WMYY6BoU1d27Z/nROvQOsEDkLKloga7D8UU0KsqMzSebN08OCkYEuk+g31jHQL+nAljAcUNkOg2i7PeimSklxgKNK9Bv0QILKHpEjFP2wDyX8gtEARABEOgZkfwWjCccsBAdsABIjdKEIhJKUWFNSI0cMaJj0TqynjQ8RO55y79EsobmnGB8Yf6f4z//+Yymz7dv38ivORZ7Gs3HAbC4D7IGRWPs2G66F3Xv3lyVsHCG62uvHVQZZDvdUDCpcxlJhIg9Vvt7MDrNRGABXYPMADI9AinIY8Z004grU3PXnqdkf6dEBb117PVFX2nevJ6cPx95xhbjxDBGfhGNY2SaOZrMNvt9Ug0smGcT6LBly2R16BpDoUIFHFc1lZeJUjdBKhj8BD+88cZRWb58ZFHUFjX42TN5r3feuSukvHbAQuyOVNaMrC2cm4aWzJG9kwbw8QIL3/72QVm4cJAfD7C2jz66LSkyztAhDQexQeilhQOHyEtvg0PzrhwpcYcORrQsmafmPuYYK7BAZiaRoPSAieZTu3YVKShorMCZGUMkRwcsxM4P7Nc4KJLRYwFdGBugefP6fry2b99c+fBDf1A4knU252CjhdJlsAHRTQi06dWrtcpV7CGvTW54gdre2MuUlwgWhBMrsEB1gT17ZmjD0Gh4gXObNKkthYXDivGlmQfvEV8BkeGvvLJPJk3qrqWRKYNUWDhcAzeSHZTiHU+sf2cqsPDVr16vstmmQ3pfvPzyjWGzx0LNZShe4DpKMBGdT/YC/RwogWT3rTJ8YI6AEDQ8h49sn5I9huiBhfsUyO7WrUVUewJ8AMDWr1/roL4Ee1zRfEf2UX4P56oNxONLIusOwD6a+yXj3EwEFigztWbNaMnOvuwjYf7vuKMwbNBdqDn22YCBfT9cR0AfgCvZnZTn4/nQl6F775ES7Bs3TlC6C2Z3xwosoP+TEYDOGe2+0KyZz7f2l788pn04KbPtHXui/6bENoAjumKoNUin/yv1wIKZTDIfiAjv1CknoOAmIqdJk1rSqVNTjQiNBFjAGXXp0n4ZPLi9VKlSoUgA9umTp5uFz1H1ZLG0+UwGFjD8qOttl0IiepOGRPEYhV9++XSJRHlCP4kAFrgPyiU15fLzGxUTNjihsrOry/PP70pY5EqswAIp/NT89ZZCIq2LklaGp6I9Mp5gylAqgAU2L8A+yhDZwp26jbt3T4/4vaIFFnwlZvxLIQFeXn/9LC1/Fe08mvOD8YQDFqIDFpjPcIqPmXNKIXkN/e7dW+nGDt+Y86I58myM43BGCPckogQHG44pQ8MofvRQwHEFTeCcI72UaLjWrRtpyQMcqOHG9MMf3qZZDna0Pb1AiCYJ51ANde9gdJqJwALzgBNx4kScB5fXyKwVGWvUc4+VVkLNc7j/I2KUev21alUpoh2i5CpVKqeGQ7jr7f8nrfnZZ3f7ZSaad8QIoZa7fX5JAQs+oOewBozYPW7gGQBlemAhz+E9+IaIdprMYVSYrKAGDWqpEw79hT3cfi/vdwcsxO5IZS6TDSyQWcz62jKOoA4ywaiF7V3PSP8OJuPM9eg+AFgAcuwhgBvNml0uN2B4xxyhT5olkuYeyGCMBVjAMfv441tl+vRe0qpVVlQfQAXS+Jk/806RHB2wEDs/QDPJAhbI3qUsr7cU0rJlw+XSpQNRrbFNB8hHeMH+zf4OPSCTea9XXz0g27dPlrZtGwWNDkUG40ykVwkgsX0v8z1WYIHAKkqwdu3aLCpegHd69myhEdVmDOGOBCAyr1xXo0Yl1c0AFQBxwgWzhLt3Kv8/U4EFSiERTGADC7m59ZVHPv74noB0F8m8Y+/Cx8HOhV/YF5DxlCOaPr23kM1j9gHvkehxytLBuwBVge4bLbCAn4q6+mPHdo6aD/CXTZvWq1iGaqBxRfsbVS6or28HwqDDEbiTDjyTicACJevQhexSSPSGpVRbMPkbybr69oXgfMC+wJrip6Wyi688UoOgfMCYGjeuq5U3sIkDjSFWYIFMUXr95OdnR80Pffq01hL6DlgIrfdkDLCAcCdKg7rTgAu2sEJ4Y2ATycamj1IfDlgwRuigQe01w4HriYjLyqqmJTV4VjAjNJOBhY8+OqNOCiKyzabIvJDBce7cuqBRJ4EEA7/Rc4C0OIAJ0sN9dWyDI5/B7hPP74kCFnBekPI6c2a/orkxc4RCA/1df/3MuAxc+z2h+VgyFphjooroP2LGx5E0NFBiogWC0bb9fPs7zhuazG7aNEF+85sLalzY/58KYIHnbts2pVg9P1KS4Uk2tkicu4GBheqaSguIYL8X36lbSG8HnLRmPolKISOECPi//jW6ckgg9ES6AOCdObNGecoetwMWogcWvGsW7G+yAjBAzDpyBEQljZPmuCb6Odj13t/JDiINe/bs/mpos694z7H/xqFL7cb8/IZaBonnG+cwyt/3vndYS2gQlcpeRvkW5CeGvH2fQN9RKomGsksDQKdk4t1//6ao6ZRnovQRGXn27NpidJqpwAKgAfWhqeVv0wnfcWKOH99VPvzwpCQjStE4yJ9/frc8+eR2rX1rnkM0EqUfvIAHzhtAzt/97r6wNGLoBrolk6VGjcsgBfepXLmcBnB4o6yDAQuvvXZYM3HMfQMdkanI7UqVLjeKJqKJusPBsu7s+8AzGEW8e0GBrywSPOPLLG2iGUeTJ/fScpn9+7eV5s0bKKhAWZr58wdp+RjoOJJSjg5YCG1Q2OsS6HuygQWa8lE/15ZxZA5Q9pEIyUjkpD1un4y7QzOWKTOE895k1uJMpEY82UnGuYSjCd6BpmkAyx7eo0dLP7DPyAxsFLIbLl26uVjvrViABZ5NpOsPfnBUI6eJno70g94KMAkv2e8f7rsDFmLnB2gG+vIGMkAfvXrlqZyNdj3MelHSlEaT3tKsZDAgVwmaY+3M+eGOjJXyd4Dm2DBcb4KIKHdBUA/8YH7jftgRyO8XXtijzhh6/WRnX7YbDR/4mrZmyalTqwPK4FiBBXj1F784pQ7/SPnAnEd5pmClZL1zRab6I49s1trY9Omh5Cs6Eb3XkA1GXnivS8e/MxVY8GWvzPQDFpC/+IGef35P1NnIlOqhCfnq1aOVz+x9Bf2QTHVsBcNj2J6ffXafZuaga9PLqaAgR3UUwwfmiM41YEA7efvt27WUjJdOogUWeDbABiVgDH1HeiSwlmwi+/2844n17zffPKa9VgjC493JbCooaKrNm828xXrvRFyXicACgDM+UnrdGHrDN0WPA2Q7jv9o5g7aev/9E7J//zwFcdkDjC6EH+OTT85qCUrjT8J+ATCjZwC9b/ftm6M2LOV/zHjMEb2NEuKPPro1YBnLWIEF9i7GTIZ3pHxgzgOgxI7G/qECwF13LZedO6fH9KGXI5kZ5n05Aqz169dG/XDmvmRSw4OMO5q1KclzMwZYYBJRaqg9TXMN6gqTpWAvmv09HLCAwUBPBbvcAeV/Ro4s0HRh29HnXUAvsMBzp03rGxFRUDPY67BIpx4LRGQ9+eQOTXG155PST0TDEBHonY9gfzOHzPPhwwuEch403WMDCzW3we4Vz++JAhYYAwo99eGIFLKjI8xcUZPtxImVUSv2gd4PAR4LsIBxz6ZO2Q4zLo44jhjfM8/sjMrAZL0eeuhaTQHu37+N8qBtYDD2VAALzD11wWnKY78XTqYxY7rqO0dSoiQQsIDAZyMg6tu7FpSRIc3PBtt4PjxBwzCc1d5rgv3NXLIZ33zzPI202rFjSjGecMBC8oAFotF37JjmoZ8r1WGM4gWIFGztvL+zligiq1ePkvr1q6kz+h//CA0soIAhE4l4bdzYv7ETYAJ1k+Eloq1atKiv9R5tA8Y7Bvtv6JTyNtCyzR/QKaWWcCzZ54f6zrvBJwcOzJXOnXM0U8sruzMVWMDgYB8kypKSSPZc4iTJza2nIGu4fh6h5jfQ/2FsoZQ//fQOpY/Nmyeqgo5yz/k8D3Ce0i/2mPiOAz2aSFUyYGhSbUd+Y/jhJAUoY/3tMQK01K1bpQgM45nVqlXWMpLhwLhgwAJlLCJx7rCf4fSirxD7LgDv4MEdFEigXNjQoQUyYEC+DBvWUet6k5m3ZMlwrQdO3y3WMlJD1gELsTtSoZdkAws4dB544Fo/Gcf+j4yjP1o0vSygcQKI9u+fo8FKu3ZNl7/9zdeoE93r1VcPao14QK1ADmAMQcBoAi4WLx6qjTq9fEkqPqCst4xoLMCCzY+p+g7fXLy4yU/eVKhA+bU6cWUwp2r85jlTp/aVJk2yZdGicQnvQWCe4T1CQ+yZyQAWAEnZz2lcbNMcfEATcUrDRKILmzHDt75ywx1Vz8cBha7C+iN7cYKQ7Ryo9CfyHwc/zvcNGyZI795t/EBkM74tW6YIwKB5pjnGCiyY65N1ZFzoVJQfmzy5h/a76tChqSAn0PmNgy3c85kfQBhkgBewD3dtov8/U4EF9BmcgNi4ht7YF9DXAH8BgSKdS/YFAr+oTpCX10AzhgmQ5Hp44sUX92qgGbI/UHkvdDgaNVMiae7cgZKX5+9cZHyUKMXPgm7iHVe0wIL3+nT5mznfsGFcUfULepZOndpTCF5NhzFmIrAA7ZEpQhkwwwcc2RcIiCWoLVJdGD7gfvSXHTCgjfa2gt6Re9zjxz++Q3uA0vstUH8AdCkc/FSaQTejggZB3/a4+H7gwHwJlFUUK7CQCNriHQkgAWQAtIzlw7wNG1bg975ksQJK0xPM3JNMW+aZ/SYRY0/FPUocWADhYhO2mzdjIIczRoNNDoKdRdi7d6a0a9coIKFCrOGABaJ+MNxtQsfRQ0kVmgIGez6/X3ONf48Fnhc5sLBUaNZhM1dJAwvbt08pMpxQhElVI9oPYWSPk6gwMg9Ax31RXP7OB3vOEEoYXhj23bo11/quhw7NL+awsK9J1vdEAguMEYWe6GLqU9v0w1wBNhA9iXLgi2YJPkfh3hfhFguwgNMfJXb27AF+jiDGRxmhmTP7Kk+yPuGUYxylOMLpH9GhQ2OZObO3/PnPDxVbx1QAC8gSok/692/nR5e8Fxk1yATeO9zGGQhYIGod4wFAxrsubKY0KKJJpK248lyiUogWhicwzkI92/DEiy/uUUcG5QmOHVtUbC6DAQs08v7445JRyjZtmqKG+YgRveT992Ov4WvPLZE/GG1eoJV5RZ4aJca+Jt7vRJ8R1U92EYYHz+JTsWJ5jawgAwWFgn2G9Qr2PP7vs88uKsjdvn1j6dixsXzrWzeFvMbcCxlLtCvZcvYYaNTMvQYOzJeaNSvLxIk9NPPIXBfuyHyh5OEML06nzTSSkYgW6DTcu2EIEzVPhBF0Sg8T7zWZCiyYeSZKf9KkHsXmkp4YQ4Z00H4ZzLk5P54jUY84L1k/Ij8pLwGwgePTgLjoPTSSRTm1AyKg365dmysthqNbM0Z0nIMHF/g1+s7KqqnGdKDUZMq/UGrSfi7lhpDHoaKgoBn6l6xfP86v5irliQDRwpWvAVQB7MN5C2/AI4AKAN1EYaNfwEvnzq3RflhEKVHyiOy2WHTM5AAL/aIC9cwaxXO8dOmYTJs2VqpVqyrnz29ICI1GMh5ky4kTgXss4JCLp5wmz8ehyhqjq3tlXMeOzbTsWzQyjgacHTo0URl3/PjSIhkH3d1yyxJtQks5IwDpYO/Pno8jCcAaHjK9QOBLMsbQD4jgs68PBCy0bdtU9TL0HPvckvzOu3mBBZoY5uY6YCHcuqBbsz9MndqnSM8w+gYZC+g+7LPh7hPo/5Ft6JyjRnUppuPT12Dp0mHquIBfwun4RJ6SeYD+i46/YsXwomvYe155Zb/KfYJoiPQPNB5+g1aQ1QT/sEd5e9EtXDg4IPgdDFgoLByp+m4onTrYWOL9Hf7HWU1AERGm2HqA2rt2TVNe9upCwZ6H8xLn1Msv36CR7+iWwc5Nxe8lDSzQI8fOkjT8ADCL7hPrHGDLPv74dtUxvPuCKT0EKAathVo7/u+LLx6QBx7YpPoGuu/Fi+uLrvnHP56S7dun/SsCfInSSLAxw3cEHq1dO1YDlyj/Yt6XzFfKOAYC2rzAQr9+bVVPClaLPtjzS/J35pF3pycivIOdQ4Y/fVDj6feWyHcqOWDhadWZvRUloA2CY9BnY9FdmRtfhZC7hd4AXt8UWQvr149XJz42aDi5yt5FoAblrNgXduyYXHQNc0fGMzKegGEi7oOtDc+hFO/hwwu1RBO2tuEDjmvWjA0YEBIMWAAoxCcV7Hnp8js2E75d+10JBMDHEEn2dLq8R6BxlDiwgMBnM6GxDRM8ZEiBRkBggAQacCS/QagY3AcPzpfatSl95O8A5znhgAUMCuoo25sQdckwtonQCDYONgsi973PRHkMp8BxTxw0gYCF1/8/e/cBZVlR7Q0csxJFQPIwhAFB0sCQB4GBAYY0IAwMIJkhyZBBJYOSJChIkhwloyIgwQSCgIA5o5j1iYLpPX2f+qxv/aqt4fTte7tvjnXW6nXuvX1C1a5dtcN/711fObcqxEqK3dxzD5+Y2223zn8cYaNHm0HYDz54q2GMLlVHmYIUkaUPnJebbPKOWIqjOCkYTACHQw/dKkZqjTaG6nSKmhEFbv+KnXdeP9x334kV6VqJ3s34vdnAgn7L3Nhkk5WHpeQnWqmx+J73bBw43izA9fbBWNQDLBDqFCgb2Lz97aXRy6+Nip3Npj75yQ+M6hTyfooPp5CUNRtPXXzxASPS+vVPrVMpwokGzrIIOI5G4xNtff75i8I++2w27F7P+uAHZw67l7DlEBOlWnyPzxzFK664WDTMx1LAygELSitsvfWa0UFQOl7oAHnfcMMJYb753jTs3RxtIlJmz54Wy8aM1ldzgrOWsCFcATzSyEvfVwlYAOqJDCu9vh3fWwEscJReffVhseZo6XhaT6Ujc5Q2s38MZU6dceMWHOYAGipl9vowefI7YoSSGvPJoVv6fjz7z3/eG2SfbbDBSrHEmLmmZFHpteW+65OyNfvtN2WYU4AsssZKERVp9f73v7um8jb4lINg/fWXD/POO5JPrfVHHLHNmHMSn1KKdtppvegY2223jcKDD546om+VgAUA2GgytBxNGv3tj3+8I1x44bFh4sRVgoj1Rp/nfhlS557L+f6GYdlpeMX8pQd88Yv117MuthGviQi1LssiEOHDiVPkf+PLabr77pNHbGCPZ3bccd0I5o9WIzu9U8SMkmDF8kTjxy8a66MC/NJ16Wz8le8qGgUAFga4EgDputKzfg1tRD5xGCjBAWvOiNopvaf4nXPn4osPjJsiWmunTFk1ZlowoMgDfwB8a76z72RutQBL8V0+VwIWykWdl95LJ73ssoPi/g5pPbMfhn2BaskWKn1uPd87BSwwWC+99OBhMhItgFD0zFoiR8v12xwQTbreesuVXeM4/0RJWovHksX40pzBVzNnbhT11fROfPThD+8b273ppivHMnfpf+XO9C3ZjozsRRd9tRwMYOHYY6ePCFgoByywkaTkl+5vUu597frtn//8VLjhhqOGjSfZtPTSCzYMErWrD97TiYwFa5AgnJ12Gu5cMB84fmSMlVtrq6ELHUT0+/77bxbB1rTeOHMoya617gBeRyvVaT7JKLNfgKAjgLnMhdQGa6kIWHMEeE1fS/8rd7bec+CyB9ZYY/wwvhExW06PqAQscDab69pY7l2t/I0NLDuQT4BstRk734DAJe2t5t38FGhx6qkzwuqrLxUmT14x2s3V3NuqazoJLFiPBQOUAxb22mvTyGf19ttcU7rE/hmllSze8IbXR14ECtEnRssaoTspqSfrR6nF/fefMgxMUxbshBOG9qDccsuh8qmjtRlAxcEuY7iYHSqQTcmycoEVpcCCDCDAdS85I9HpttuODcsuu1BcO8iM7babFEE2snU0mrXrf9a2PffcKkyYsGyYOXPKMF27lW2wRpLxG288vFS1tdv6S6ceTXcZrW3WSs/eccdJQdm2olxgW1rP9t130zH9JJ7D/pAJrZTVNtusFcczvRtf33bbcdFeXX/9FSJomv5X7qzPbMIzzpg5opQ1ENy6UHpfJWDhqKN2GDXQo/Q5nfqegYUQ5jrllFPCuHFDjsHx40X/zg4/+ckNIwa71kH6wx9uDQ89dHrchBKTm0yilhggtT6reL3FiZGCUZdY4q0jHP1jAQsceoz4IrBg4RctSrkvXfws6tqtrI9SLMVIU/3afvt1Y/SJBUF0s0X1Bz+4bIQTVhknu6YXJ/z06etGw8VkLfax3GdO3je96XXD7t9mm0mxvWMhkBTI0vrigIKjj95umIILDLruusOjI7nYTp8hlDYVRTulQyw+nM8ib0RaKfMB5bzoon1jxK3IMkAIB027nU2Jfs0GFij1+JojiEG61FLDS1NQRJXLOOCAKbGsBAdqakstZ4t7PcCCd2ijkhZSMUvHEM8zfiHRokZF03DwiMCGUmsvXhepceCBm0dQgZAiZIAAhERpP0T1rbji4sPeJZrKczh8Sq9P37UT2i2aqdhO0Q1KZRQFLHrYVOfcc/cuWw6JIvie97wrfOYzJw/j5/QuZ89QV/LAA7cYNoeBX+985xJRwGlT8R6fkxOcQVhsp8/uVbbGJliAF0CqyC1gnTkhsoxjSVYH5WqJJRYMc8/9+hixUi4tlPIrQ6SUryD75TIqStvaiu+tABY4bq0hpQYomk6fvl5MEy7Ha430z9iKHrWBcnGD+jSmlCgGNL63hlPoOdA5Lq1x1jrgkBJW6603IagdaRNZc8iaUE3bRKczThmuwLr07nTmGABwKGtUrRGb3isj46qrDh2xcbtncwQDCPGpNE0GDz613g/x6bVR4Tz//L3DttuuPYdP7S9SLlNG1Mhee71rREmn2bO3jetEalM7zq0AFvCe8T/++Olx76XSYAKRoZwlIk9FYRVBgGr7TOb/9rc3hKuuOizKVGso2qtPWs7BSG9Sym7KlNWH8U2KCBO4oFxkuTUstYlT3vsmTJCVOBRFhy9kSFQCw5VZmjLlncOc5kAG95RzmuNb6dGcVO9+93rBngpFXQuQC7Aaq3TNXXedELbbbu05a7XowzPPnBkBZtGf6EFX4xAYrc+p72Od6TNbbLHqMCcA8EXZTOv4aPebI8ofzDPPm+eMjfKa+s9ZMNq9zf5fp4AFjlLrRVrL0lm9axv6NbKBYKIRuSGDpVSPTmvc8ssvGjfRrLzGnRuze9IaZ18RIHFxjcNTgAUOkYUWmjfqHNbK1IZyZ2uAesH2+Ej9NkdEaZaW/HKd8l3FKFb18c2XxGd0H3rZ5ZcfFMFwmUH0l3LvbtVv6GBvtdQf5yH9cf64F1Cr3tvs53YCWOC44ljeYYd1h9EPDdmQMmTI63r7ar0jC9iPxfHxmROJnin77fTTd4s2LSemNZMt68weJAfI8HHjFo6BZNbzb33r4jltKgIL1jJlgN03mqyjKwHct9xyzWHtAsSXWwe9gz610krD7QeZ3488csYce0PZGNlKHPVkTipPUy/9Kt1H5ssysn8FOlpP2AuASLQBWpb+oS29UvCeDD2ZfABxNhOwk1ynRxTXmErvb+XvnQQW2JZs5qKDPfHtjBkbRrut3r6bC+wmc6q0rrl3ALaNA7CNfqyKhrEwF+i/gs04N5XFs98afWXRRecP119/xJz1WNsSsACsUNrn8ssPjveO1m56snlWLFFqnyzyqZz9h3+23XatOUGLq68+Pkaxp2wXdARi0/WUzfS9GbpPaR/M41/+8vqoA5NfHL3VyB9tYQ8JFgTyCMSRZYoGnjmWn6q0Ha363ilggUzlJ5OJkvg/nZWqRqfRfCZj0cPzZfTKfkjPTWf6iIx2+8SpIILnBWuyXekXbBHVXC69dFYwJ+3LOe+8b4yZzILW0rsTsGBs2cyCJ+wBl/5f7swfgi9k66X2ONu3s5xfg2wUxMzfWLweCElPT+8A9gKsyRD+pqLPKF3TiXMGFloILFCSbYqmZjTmWGedCZEJ6o3UKDKIRYowx3yEf9HZPxawwPlPWUiGtbb5PP/8b4oRT5xHSgLYYZyjcGhDnh1iVHY5wcjIueaaw8IttxwVow3322/zsiizun2lgg86zhlqQSj2r/jZYm3CAAZKHRxbbjkxRleO5YTjSCp14HL8c2IWnWKeQxgec8z0qHAWJ7XP6AwskHkBbZQCLm2cQXnmmXtEdF75I9F6Fp0ddlg71nYzXsU+tetzs4EF7SYcKRkEOz4C0BR5iUG68MLzRke3GnMWbwrAaAp5ooexJvQoSocfvu2wRRX91dhWp6240Kd7i2eKOKNQWnIx0jSNJ4Bq+eXfHsGHo4/eIda6+8hHDowGtU2ehxSsBaJisOGGK0ZjngOyVInRJ2XFFlts/mFt5fzCc6OBiOio7h8hltrlTJhwRJQzHihenJeAhKKzCv0pg7vvvnFUCKXfEZQUR05hJdhEcB1//I4xo6n4PuO14IJviZFWjB8AynPPXTQHoOAoc79UQqh/8V6f05xYf/0JYf/9t4g1aZXcsR/HGWfsHvdi4IA2JyiY0s4Jx9L+oS1lUzZV6SataGRdKo5xuz63AlhgdItaLm40lejKKGWkldKnGf2lQInY3mKLNcqCC4kXRGkcdti0cNppM8PFF8+KJZSsdYIYAVYAACAASURBVMZhmWUWjmnX1nK8z6lUKwgAUFNSrSi39N9cBXxQkmrtL4UPn5oflMJEz3SmCIrA32CDFWPEvdrJiU9PP333KF/WXHN84ESQrr3TTuvEOVyq6OLTF174eFRQXZee7zyU4TAyE6fWvtRyfSuABe/HKxwNhxwyNTrilQEp9tUc3WKL1WKWy6OPnhGBmmrW+f/+77viOFHsAaU26QambrvtpJgqm5yLpTSw1lrX8eSECcNr9xoz42rzNtHzpeu07/jD+kZuJz3CfXha+ysp5ZxJhxyyZeSJ1H/rLV5R4oYDiC5GJlk377vv5HDOOXvHCKxx4xaKpb3wXrqXs14ZOdHt1nM0di/5os8JfBPVJwMw3SeqVt1SUYOe/9GPHhifccUVh4arrnpvuPrqw6PMA/aI/OLA5RDSN84fAHEpXRKNvVM/Jk4cN6yMhzr5dJuxAiO0/+yz3xMBvNReDnWZjRxi6T3tOHcKWEAjGUup/+mMhgAWQTuN9n9ojbs6lpgo3QPF+8qvcftHWTy0xk0Na665zH/WuPkjoGdOFNc4ujhgIbVfprUSL4zYSjocGXDnnSdE8NZ95Mgii8wbjfzSWtqMTvKlqDMCuq2d+JbjixEuy2ObbdaMzlTrSrudMpwBH/vYQXPoMETfuaLcVDK1VpnX6NjXe38ngAX2Dj2SnpH4KJ2BuscdN6Q31Nsn99FvL7rogJg1W+Sl9J43v/n1YZVVlgycMccdt2NcMz/ykQPimY5gXyfBERzoAo1Ea+Oz1KYisOCZq622TNRNBFhU0s38/thjgIWJsd9D8/GNMUKbAzc9O53Zm8C30gATG5/bV8ezAAmcvAccsHnMHDZ/Ksmq9NxazuYVnwR7Zcg+eDXbgi0iIOj443eq+Ie2spXsMSE6XcAB+3jIRhnKULH21Vv6qpa+jHZtJ4EF+v4NNxw5LDgh8SneI7NHa/tY/7N+/+QnH4+8Tk9Iz05ntiInKV1LmS1yytxho51yym5h3303i3PFmPGLANyGHJWv+mUSsJCeKStfuwXlVdIrBGvITkrAguwf858zlD5S2i+6looHSa9m7/PRKM1JLnz60ydFO3Tq1NXChRfuG+3rSu8ufXY13z0rBU6eccYe4dBDp0W+v/DC/cI997wv0oTT19pQfB65LHsVnyubxiciY888Jktl/Rev7/TnTgELdFwBNZMmjQxSpBOfccZuo/pMxqKbtQxwQdcRMJR4tXgWTEEH2mefKVGXPu+8feJcsEkzcJkfQ0AF/XXrrdeIGexFP46xlrGQningUkYXn1UlPyY/DD08AQtD8/FNMbhQe0v7ZT0eApyH2zmCiwSdsuHJhSuvPDT6NWWx8qlUen/p81v9PQMLTQIWGGaUbsomoW8CUdgPO2zrORufKhvywQ/uESN4RB9jAhO8XoUZg4se4Nw1ERKjjwUsQGCTEVh0Trqfg9EmzqeeumtE4ij76reK1iewGOIUsfQu53nmeWNM+1pxxbdHp6hSHiKcKJfoQVmDOO+557uiIle8V41xBrL/oxtFK9FDJB4aoeV3vnNJ2GWX4Q5Yz9lww5VjaR73u9b9SdD4TNEzqTm4t9pqeBSJ+nciEdHDO9yfDCeCDxChv+WU1mIfyn0WIaummMWknABt9cROz28FsJCeDcHH4xyEItXQijBN9MBbQCe8BswSJTGEDt8RecN4+8MnoifQSbmLb33rY/8ZryHlPD1vSClZPNYSVrsztaPSGYrM8UPAlAMX0nMrnb2P80z0TTHaBn/hLcJGPWvlR5QjKj6HAJD5QmgkvnYf3jbn/YbnIPTqzRfvXXDBucP2268dAS7vMIdStIR7lXGSgldunwsOM5uscUqJOpfKLWtKlOO0aROj0qhfxfelz+qp7rffZtHoM/+BE0XaAgDNYeNcjDZM9491JqjVVuRQTOBqWjcpxngDkDlx4jIxE6L4PBHylDtKnbVTSm+iSbGNrfjcKLBg3IuywXrEsQ68Kpc5YM4YLyCLeYFXGpETpTThMLniioOjYW1MinSu9rOo60MO2ToCIGnNLH3PaN/JBPUW8XpaX8kV0VI2iCsa+KM9p9z/lPqTrSTtvFS+VdO/IYfoqtGoT8ZwKZ9az1ZffekRfCoLQybKq3z66twt19Zm/NYqYEHbzDMGK6BzhRUWjRF3RZr6vPDC88T1St1c85eDlROSoSXC2h/5zLhW6oxTThS8tYSxa42lM4jQt94l+V2JNpRqjgy8Qt4kcAofbbrpO6MhS8k3BtbYP/3p9tgWwRJkFUDM+iWST3YM5dx6Xul9niWamv5WunaKjFUWABjGQaTc1qabrhJ1pIUXnj+uxWutNX4Ojxf5T1TVwQdPDUceuU2c7ykqXP/RQZZWUZ4W7y33+bWvnSsAf+ad9w1hkUXmiTqZtXTLLYcid+1vA3TB02RKWpfoSGjFSeA+TuH0fO9XgjKB5HRO850cc6Yzkd/AAxG9nOjFe5ddduHosDMO6d6xxrfSOFT7e7uABf3XJ7ILjzGmAPup/+lsXbOXAQcLHcf1iRbV9qn0uvSuRtY4gAFjlDwoPt+YFoEF84uOIhKQHkR+kUlDfR/KZmPkAgLsH8KZaj+QzTZbOXzzmx8dIac5SzlJi3aEd+BdTjblCpQPpd/Qc2QtFNvXqs/0CfNC/80/gVVqGqdxTGftAoBYF/C+64t2R6vaV+9z2wEsmNN0lEQ76wwdQxmdRLd0FnTEYcOJaF0Y0m9Gr/9eqe/PPHNBjPq0IaxI6vSOas/sAvuHlUZne5/+pFJI6XmCBEVb442huXxXnAdJnyf76Kn6jaeBG2uuOS7ceedxI+aBd7BxBR9y+KZ3OJOriy++QNhjj8lRJweas/EFqnGwVqJHrb9bx19++ROxxr8yg2RqsR2NfpbRrKwkPbYePbHW/ox2fTuBBX21lnDGC9AgPwXhFMsvJtoKcLO/JT3JupPWk9H6Uul/9sWQxSMANOlF6T3VnN03ffp60fmrLcX3lAILni/zjdOf3Z7mMrlgXZR1KnDOPgtD7VEtAJg9Kdq25fQAAQonnvjuOZnA3iEIcNq0NSP4IYNTVYR3vWvlGMhabF8zPpsPIsjf857hVQT4uMhwe3Kyg/mM6LgAdYEwfA301223nRiz7QWV2pdTYJ2gk3J9bUZ7632Gta0dpZCSvwNPs9uNL/towoThGVp4c7HFFoj7UrA3huzeIf9oPbSTZQzgYacW9Yxq5oBrzNNVV10m3Hvv+yNwVqQz/i4CC64HiljHBfDwbdDxzP8h3fC2yB8f+tAe0YbA08r1rrPOsjHYs5wfw1z62McOHFEqmX9HRZC9994klhMmZ1StmTFj/RgMXmxnJz9nYKFJwALFkoJuUojUoITb6LjomLYgLr20TZJnxHRBC44ISxOuHqFrwmFyiobFOwmSsYAFSpCJx+hkXBcnG4WGMsDhZVL6v6iODTZYITqCoMdLLjlc+WBIMLhF8qud7dlDQvXuaIiINObgtZgkJ1J6J8CC4U1Rt6BzxKqLSeES6cQZwMkPQRcpm+5LZ0rqVlutFtOllYcaiqoaAhcs+gQ6g5kggsan+5z1VVmc97536+iElepJWTQWJjalUn/KOf+Kzyn9jB6MNu/1nHrGtlmLQiuBBW3ES6ISCFvljzifivSguItWWGqphWN9fXuD3H33CZFHzBN/n//8mfG3iy7aLyoPFC0KLnAmPQtvK7ljPESzUcLGopFFHQAB4SXk07OqOXsfI4KziDAkiNP78DbeYiB7tmjbNPfSswkO0Z8iaPURX2rP//zPneEXv7gmlkUQTcqxRWlJ9znjS+nZ6szbsPSnPx0y5glpDk7vVi4EKMaAL97rM2cQnmXki/jwp643ei6++FujYCq9x3fC1L4UkyaNj4ou5Sn12ZnzBEiRALdyz6j0mzkheu3mm4+KynMSptZNc84adumlB8XyWgx31xefxWElMsB4WE+UWrMPQbF9rfrcKLBAqeK445QRncxJyYijfJauh/psziyzzNvj+FNWgRCyqCj6iW6N9NV69NJLygYdFqZOHZkyWqR7uc/4kxORM1Hf6mkLXuYUsK6n9ZWTlsL0/e9fPgdcrufZQ3x6Wthrr03K1rQt16f0G76TMUIeMY4SvROfcmpLlVUGjjwpx6fA8rPP3jM88EB7+LSVwAIdw3on2pJOs+uuG4yQo3gYGMORbt0ia21cB4ywqbwopBNOmB4dJFtttXpUrq1H+F9UMxDTvKAH4YuxxpzMwSMAgZVXXjw6JNP40SfsNyPbRGq/cRRUoB3qPDNeOKDoNjKjlNOQ5m5drfRe/edEVHO4NBOGE56+tOCC80Y5R99DC7rQKafsGufY7NnblAW2tVVGgj2dlBFKwIJ2oAOg5h3vGB6xlPpZ6UwOmZ8MEDoZndO6b46Rq4JG1Arn+NMvfedc5gxLUeRFWYa/ZePRkWQ0kKeACVkn1jQ6E+eBPr7tbfMMmw/u1Qb76dx001DmonvorJVo3YzfWw8sCBAYyp6xsTHZhcfsU2Tj+dKxQU8yeerUNWKUpetlcTJAq+H3cjTh3FdaQ/nDclnEpW0ofn91jTsmBt6kNS69x5peBBbci1eVK9pjj42jAa1kAF6gX3P8m+9Jnr35zfYDGQog0M703HSmL15++SH/KRUx1xx6oZP36A86LrTQ3HEvuXIlM9KzmnnWVuscO4LedeihMrWG67NogacBHmedtUfUAdXCF7VLv2tme5r1rFYDC2QEcNIaycGmDKnoT/p6EWhMPEhesAmUXJTlTj+2HqFfrU4k69DXv35xdNqWy/5M7yx3xm8iijm62OFkfJHm5YAFTipyTrkWpX0FVlm3v/rV86Nue/jhW8fgOjpc2ujb2lApC8/8l51qTwXrdrGd6ETHoA/L9uWIYvsUM+yL7a3nMwcenXzzzVctG6hUbE89n9dee/mYCV3vOldPnyrd0y5gwXpqbQcyAc/uvPP4GHUPGCrVF9HUeiKYiI7y6KOnR5+HoIzSdblSv4q/ey9H/847bxCfW8uYaZs98O655/3Rri8ds1JgwbPpOvbHkfFg7xxzmWxjGyvNNH26evdDAT5K4Cojbc7QrYvtTp/pB9aPok1tntJhzIMkF2TQkSPpvmad2Ub8TaUl3NCGDCfj2NMCB+nC9mcB9ikhC9zUTvrnoYcObfZuHFut79TT93YAC9ZyNqu1VVlDdruqJXxuaFnKm9Y7WZjsBnOGHCZT0K9WuWBdY6up6GK8St812ndjLZDxyisPiT7IUv+d9pQCC/rDZwVEBTwLtKC3PPXUeTHAlG8s9RtQZt8ZAaL4o9z40cHY/UrilcoFMoiOZD4IzLN2P/XU+dHXWO5ZnfgtAwtNAhYs6J/85IlxQZc6qF5YKoGUmNgCSYisssrS0fFs8ZoxY6PwxBPnVVxoq2EKhp7IeCn+b3vbfGNu3mySck5SKEQGlUupxsyiLTbeeOVY7kcUKKc/4UFYpFIC+gZ8eOc7lwpKyDz88BkRqSYUbfIr5Y6TXY0/QijRIp3RhPIkul8pBNczViwMSnCYWMrKqLleTklFTwIbvbfffp1w0kkz/gNIXBrTm9S6F0VKIHhXem86WxBEtKv5pvSHdDfRsoQq5zUhyMgS9VfMCkn3F88cDISKNNt77/1AFHylwrma8WzmNa0GFrSVQo5Wyjpcd93sGE1qDkhDplQkGllYIbtSkDnvXOOPwb3xxqvE2qscN3jPWEmHXGed5aPSzVBRd51RzoirxqGJzzmhAHjKIkmJ5rzEM6lN5c7AP+m8yksAFQjH4pgAztQhxVtKLZUz7PUBuGCDWxuM40tGF2Ehbc4mzGovVuJLBjaFTVSrUk0cYPqiHQQbgfTQQ6fGKEEO93IKa+ob5xIwENApY0pZjzQXnAmoVB7mvPP2jiAPBbE0khEvizw2P12nLMfYc+JNceNTadLAEIpCUUkAHqrVKcKcESINl4KR2l48c9rhH+vJBz6wc3RoFcelVZ8bBRY4n2Qg7L77u+IaR2kZrZ/6THmwZpoX1kURNM8+e1HFFPxa+05ZevHFq+OYSGWX5VK66XGR9j6bjyLrlGH58pfPrQrcG61dZJByLSll1fhbfxs1nPGpGvccpkrtVMOnZNPKKy8RbI4l3XqIT191NltzbE4rIrkWPrXp+Be/2NpSMK0EFtL4MUSAo7KNOKGlESt38La3vZpxgkesQ9YTACbHEgMRqKvOsrXdegd8lj2oNqkoH0YHeZ/eVc2ZEwpQx2kj84HT/PWvH5Ib1js1gDmN6BXWYO2gZyjt4N2CO6StG9dSw6Hc+//3f++O6w3gy7NL50b6Tr5w0KtbL6qVgS2SO0UqAiIEQ9iojr7hOkq4SCdBCMV3o4v1etllF4kAQXpHvWfvRn/AF7prG562waq654Docs92H6cdYJjDAiBOjil9496pU9eMQSOlBlB6Fv3SGOy55yZxvDgRi/1s9udWAwv4xVhZB/VfSQj9k3mT5Grqe/Hs/+jsevcpQ2GM6+n/0Bp3U8wEpU/Y2DsBtMV3Fj9b4+hk9AlrXCVnZwIW9IWeb14NnYdq10vnJ5NkGSllyskCIJO1SddWN1iZTDZRqbNWXzmhldmwNooCNV+L7TS/rNn2JjOH2uWw51AyV9kR9C7rV+lmqNppjePgoosoeYMO5lM1WbT1jHWj97QaWMAvxomOItoZ7ZQNwg+V5gP9xj491mc2wB57bBJlf7myEKP1ny7JXvN++zYpawc8rqRDGj//G4r63DTceONRERhIunXxXUVgQTaYeeDPM+hCyhdtvfVacfzp8xtuuFLUZfSbzBMEde21742gSSV7BaAN0KIbAwmVI7beFueDsiqCJNjr9BrtKrazkc9KtND/hkDhkfZxsR31fLbmy+5spI3NurddwAJ7Uflo6wLbb/LkVWLARaW5gK5sGzoKGSvjwNrIOVnJAV+JJuSCLHr+INHyeLJog5cbQ/qaUrVKgwock1la7vkJWHhVLrw2ygXrN91uaC6vE2Ub21g0NZufXcHmF+1vjcXvlUATtq33A/tS2ZjUZroVQI/OxC7XnnLtbOQ36wmg8PTTZ47YNzG1w5mvxzojkGbcuLeFFVZ4e5g0abnoY7AOCZShI1TqZyNtbMa91pBWZyxYU/kKVBrh62S385dYS4u0LH4GyCrtzu4lh/ksZNqWllMciwbmAf+FcVBxYvvtJ0W9fbQ5iI/ZEUqFAQ7YF+XWWjyagIWiXKAX4Hcg4bRpa4edd94w6nrsfUHRdCjlU/lfAOrsX88q1xd8w6/L58VHO998bxwGMNC1V155yRjgJ/gQr5XTtco9ux2/AQdV8iiOrTG9447jGqpG0I62j/WOV165Kzz3nL0BrwgvvvhiqHQ0ZfNmi6VNiyhXtf5Bm2oVIKWdF/XL6CfIAQwixEqvKX7HhBgXuq2uIoWQgUgppCxZDKQri25j/LieEgSFlzY6c+bkaKATnOqq29g5pbZ6j4kBMTz77L1qoscHP7hndB5TFtUO5gyuhZ7q4r300k3RiXvZZYfUdC/BysgXOZloxYhkgIl8BBhYLNBn8uSVYwQ1py4HMUPLhj028lVnuVZHSXpfs8/tABaKbbaYi2K8667j4wY5hx669Rzng3R6ygeaWWAZHzZnUm8PsDNlymqRtglws1m3dDAbDnNqVVLOi++v9BnwwZHEcDRHjJdx0xZ/xpMyRBmkAJnL5lTRCZ6eDVg466z31MRb9t/gPDJHlP6qhadPPHFGAOyVGj/mmOddcokI6ndFQUx4U8g4PylzBBzH2/vet2N44olzYjSMWrIcHJwAnBwHH7xVTFvniKXUjaUMWQs4Xq0xIlXNCbQrNydEYons087ivEq0BFSInJ89e7uaaKK8lvam57Ty3CiwwOEAcNtvvy1q6mORRw44wMaBzXeyWGdlhQGKKHHkAOMGb5gXHGZDxs56MSuOA2U0haiWcaBUcTJa460L9lRhFFVStmp5tmsTn3I+y+gbyacT5qzd+FSWgejBcnxKsQUOkQHFcRnrM6cf5brWttdyfTuAhdQe8pAznq4hyn727GnR2QwopjjiG4q18on+rEPG1rpkrbG+ilqS/cC5yMk41nqT3l16tjan7BSbdMqk8nxtEWhgA0pOdO2i2whSsP4LjhBlLCuy9JmVvnuXtgJ41WEFhpsbZJf11hzx7mOP3TFmP5IdjJKU+q0d1scdd1w3kGsy2Rg9MgYqvZPMUi6MoSWrjbOKvsUp7UwP8V60JVv1E62NgXZZ493jfgBwMUqMbnf99YfHtfegg7aqmqf32muz8MADp4Svfe2i6AwDMI01B9L/vYehJPuqUp+b8Xs7gAXlLQADqW/1nBm89ewlU6RRWuNkxw6tcRuUyOLha5yM0W984+Kya1x6rkyWO+98Xwx+UArVvLIRK/7mQKWn4X1zG18P6RlrxeAAWYeCEsiV9LxyZ/aOucFusP5vv/26kZ/NUXs56Y+I1EZ0vnLvHe03GTn2b6l1LM0BjkTZ6qM9v1P/awew8M1vXhLoKLXSLl3vXpHSlcCuamhHRouKBVjPnLlx5FXrYtLxrY/WTA4PGfRj1f03t2wUi+cBquaAuSAY0Ppr7bWmmwfewYYhZ0R9y6yVycUvUA1wTQ+2B5rMMEFN7JOh924Yy5rKVADUcZhVQ4tqr8GzV155WN3jlsav0vnmm4+p2SlYbdtrva6dwALHYyWaVPO7dUgQXb1+Iesm3VrU9ZANPqQXJfubs9M6znkr+9hmyAKgRnsfvfyaaw6PvMn/o3oF25JcYGcKllh//VflgrmHh+nWygAK8JOxP9a40Qc5dclX84xtSecxr5X3Nc+bZSOUawvasS3POGPmHN1WX8xvupU5b+6j3a67To6lyPkMRKp/7nMfjPpxOb9BuXd16rd2AQt8gNXwe6VrlAMFLLA56qEVnyWfhioZAp+t3XiVzpLkQuJTfiF2hIDo0iCf4rvJhS9+8awoSwDZQF86DJ8pkJwPlf2x1lpDcgG/4GEy5Pzz953z/Gp4RNsF8gAj2K/bbDMpzj98J9iWL4qMKbavGz7zKcgqKo7rhz70nmjztFOnawUt2gostKIDtT6TQSB9iAORE7Pa+yHsUoAJMlFsniEiupLhbWJRcp555vy4KU03Mna1fa/lOsKMAshwMtk5C9XRp/ShN2dCLc9rx7XtBhZK+8QZDhSQEvbZz54aAQc0u/jiA2KKrPJHnJVq2VHEOaClkOGvVigPQ86o26JRS5Hn4PF+EUNKcRFgrXhvKV2a+Z0iRiHkwGYsAcE4QRlZHBccVEmIEZhDYMQB4bbbjolzfTRlcqx2qsFO0QOmcbqZE2iKtvZ/MY5jPaPb/98osNDt/UvtG5ID10RHOMeveXr77cfG74wU/0/XNutsrpn3Ul/JnmY9t/Q5lJkhPr0wpqC+yqdnxHqpvcyn7QQWSunKaQJktCEb8PMTnzg6gpQXXLBvLOVjLwWR7dYlesUQKNWaSDN6CVlDL5H5QrEFKpHVdBuOylJwtrQ/Y323jpLzMhlF35Ad1ls6FyOgVGnGc4Clyy6bFddHzlTtHO093mFd9Q5AlgjWJZZYIJx55u7R+FfPWLkBeoj3KiVItuqn6CXAsXJrDF0OLnskqGkuU0QmnMgqmUeiaUdrR6/+r9XAQrfSBe/R2+kx0uyH1rgjYvSqsobVrnGclzbGpTsoTcGuEB3q2ZxD1mu8T8cAACj5Zm67dizeLkc79gPdBT8DncoBu+Xuy7+9mlE3Gi1aDSyM9u5O/I9MwuucG9bFpOMr14pPBZ5Vw6fWYfqy+USuyJxxn/VfpL+1V2aOwBi60r33vi/aOa5tRM6QkexJc4292Wv2SCfGvJp3tgtYqKYt7bxmyAa/IepFHKx4VcCCdRyYUK3/hlwA/JlXglLNBcEW9B6y4nOfOyM6/s2HG288Is69b3/74jkVLGrt89A8uyLaljKZGrFTa32368273/3uxljmTAQ2HwW7iJ5FpyOzui1SvNp+tgNYqLYt7boOv8qGF1jBN0I/or/LohEMS3+pJsjJPPAc+gp/Eb1rqKzoLdGv9PjjZ4V77jkhgnpkz6c//YHw7LPnR16i19fTX+2i95t7ZEO9ulY97873DNezBg5YoAhRfjiASg3c0ZjDRLGIWrjdmxSoSnWHvYfy5nrvqSYiY7T398r/9HtImA5tvEt59Sc6i+HVjXToNLCAZoQYXpHFQYlBM85uSrOzzcMIaAYl3sOLaOneVvCGZ+Nb45bG0PspSca3Ve9tRV/SM83h1CdKH6VMVCWlUp/SdfqOxgST7BKf3Zv+X+t5tDnRL2vDoAALSQ6QAXjD3HD23ZxshE8q8RX+Me+tC95T6bpGf3+VT++Ka02a99aAXufTTgILdARKtfXdGmrtoXSLxLe+W4eM7ZCMHFqLWrW+DrVlSNZ4p3YYZ+3SPu1sxrutoZ7nHfqnzyLxyLnS51t78bX1VjvwWuk1pbzN+ODMknmq5MY887w5RicxftzvPc7Wbu81f8hWz9cmc1a7vBOwwfAH1jOK7SuhDvDEicvEKMXSd/fD90EFFvDVkH7a+BrnOXSHpIelZ/strdd4zPxKeoZApLF4uxx/JX0MP5ujrZAz5d47KL8NGrBADuApvGpdTLLe+ojH8Ha1fOo57AJrLr5Mz7b+Wtc9M80Dn4fkTPXPL8eD2uf5SXevtq3lnpV/e9UpNKjAAv5JNjj9IM0H6zg+w+PV8on1uSgXzIkkK+h4SfcYkgv8IkMypNrnF697VS4M6W7tlgvopm/mf9Kv9M88N/cT7awJxXb3wmf80OpSSN1GB+P5qly4fc48MLZDfPqqn2Sstg/JhVdlSeKVJBeSbWAeDMmdxn1Lxkw7X+W7+v02Y/Uv/7/ynB44YCEzQ2VmGFTadBpYGFS65373z1wcFGAh82xv8mwngYXMM83lGUaDcpOHGQWZCQAAIABJREFUHbZ1rNetLv4aaywTS08x3OulN8NH6SUb46mpbINtWQ31Pq+b7xtUYKGbxyS3rbnrRC30HDRgoRba5Gs7x5ftpv2gAgvtpnN+X/fPqUEEFjJfdj9f9sIYZWAhZEbqBUZtZRszsJDnQCv5axCenYGFPIe6mc8zsNA//KmslDrGNmy22ZsNeadOXS2W6wIO1MuHImk/+9nTwq67bhCAFWqFK09V7/O6+b4MLPTPfOhmPuuVtmVgIc+HXuHVVrYzAwt5HrSSv3rp2RlYyHOhl/i1m9qagYUMLPSl4VzLJMvAQhYgtfBLvnYkv2RgYSRNMp90D00ysNA9Y9HovODs32STlaPzf6655gpvfevcYfLklcJTT304lqCppYxHSv2WBaEu68kn7xIWXPAtsRTSRRftX/eGeI32sdX3Z2Chf+ZDq3llEJ6fgYU8HwaBz8fqYwYW8jwYi0cG5f8ZWMhzYVB4vdn9zMBCBhYysPDU5WHWrJ3C+PGLhocfPi+88kr95RSaPUHz87Jw6wUeyMBC5tNu5tMMLPQPf9oMdKml3hre8IbXBcDC61732rDAAnOHbbddK1x44X7h6afPj/tVVFMXWW3gn/zk4+H2248LM2ZsGJZeeqGwyCLzh8MOmxafw7jsZr6ut20ZWOif+VAvD+T7XuWBDCy8SovMF4NLiwwsDO7Y53k/fOwzsDCcHpk/Mj2q5YEMLGRgoS8N52ongOtyxkJeMGvhl3ztSH7JwMJImmQ+6R6aZGChe8ai0Xnx2GNnh222mRjmm+8tEVgALrz2ta8JCy00b5g0afkwY8ZG4Ygjto8gw/XXzw533HF8uO++k8JDD50WPvvZU8OnPvWB8IlPHBuuuuqwcMYZu4d99908TJmyelhiiQXDhAmLh1mzpgbvsOFoo23t1vszsNA/86FbeayX2pWBhTwfeolfW9XWDCzkedAq3uq152ZgIc+FXuPZbmlvBhYysNC3xnO1kywDC1mAVMsr+bryvJKBhfJ0yfzSHXTJwEJ3jEMz5sPPfnZ1uPrqw8LGG68Sswte//rXzgEYgAxDQMNrwworLBrWX39C2HLLNcJOO60X9thj4zBz5kZh+vR1wpQpq4W11142LL74W8Mb3/j6MG7cwmGjjd4RjjtuetwE+u9/v7uv9aIMLPTPfGjGnBr0Z2RgIc+HQZ8D+p+BhTwP8jwY4oEMLOS5kOdCfTyQgYUMLPS1AV3NwpCBhfoWj2pom68ZDNpmYGEwxrlX53MGFvqHP+2L8Oc/3x5uueXosMMOa4dFFpk3lkVSEknmwmteMwQuJJChePa/17zmNfE61yuntNRSbwtHHrlNeOKJc2IJpV7l8VranYGF/pkPtYx7vrb8uGdgoTxdMr8MFl0ysDBY453nd+XxzsBCZdpkvsm0GY0HMrCQgYUMLOQ9FgaeB0ZbJPP/xhaiGVgYm0aZjzpHowwsdI72reB7+yf87nc3h29/+5Lwmc+cFM45Z6+w447rhFVWWTJuvlwOXAAo2Oh5pZUWC5tsskrYddcNYymkBx44NbzwwpURrKhmX4ZW9Kfdz8zAQn/Nh3bzT7+9LwMLeT70G0/X058MLOR5UA/f9OM9GVjIc6Ef+bodfWoQWFCD9pH8l2nQ0zzw1FNXhVmz3h3Gj18sPPzwBeGVV2zYmPk60yDzQLU8cPTRu4SlllosTJ26fvjhD6/P8yevH13FA3/846fChRceHyZOXCXsttsmXdW2audYvm7kevzvfz8U/vKXT4Uf/ODa8MADHwrXXntsuOCCQ8KZZ+4fzjhj/3D66fvN+fPd/66++phw552nhIcfPid85ztXx/v//e+HB4onvvSlS8LOO28T5p13nnD99ccNVN/zPBo5jwadJu9+9+Sov+yzz3bh5ZfvyfMh6y8DyQP/+tdD4bHHLgpvecsbw8Ybrx1uuumkgaTDoK+Huf+PhH/848Gw555bhwkTlg0zZ24RzI1Ml6w7ZB4YmwdeeeXT4bnnbglXXXVFePHFF0OlY65TTjkljBs3LtavHT9+yXDaabPDT35yewjh8/kv06CneeCpp64Js2bt/B9g4aLwyiuQ2szXmQaZB6rlgaOPnlEAFm7K8yevH13FA3/842f+Ayy8M+y226Zd1bZq51i+rrb1+N///nz4v//7XPi//3s0nn3PNByiwZe+dGkBWDgh0yWv1wPNA+9+98b/ARa2Dy+//OmBpkVeIwdXTvzrX4+Gxx77aHjLW970H2Dh5DwXsmwYSB74xz8eCXvuOe0/wMLUYG7ktXFw18Y89tWP/Suv3B+ee+4T9QILN+QSKrmUUs/zwFNPXRFmzdopjB+/aHj44fPCK6/c0fN9ake6U35HThVMPJBLIWVeSLzQjec//vHOcOGFx/4nY2HjvL5nvWWgeSCXQsrrdTeu051q0/BSSLcN9NrQqTHI7+38mpRLIXV+DPI86I4xyKWQumMc8nzovXFosBRSBhYy0/ce05eOWd68uffHsHRM8/f2jmkGFtpL78zftdE777FQG70yf/U3vTKw0N/jm+dvbeM7HFj4RAYWMvA8kDyQgYXa1o28zvYvvTKw0L9jm+dta8c2AwtZgRpIBaq4sGRgobWLTJHW+XN/0joDC/05rv0yXzOwkPmzX3i5Gf3IwEKeD83go355RgYW8nzoF15upB8ZWMjzoBH+6ad7M7CQ50I/8XM7+5KBhQwsZGDhqctzKaQ8DwZ+HjQieDKwkJWwRvin1fdmYCHzZ6t5rJeen4GFPB96iV9b3dYMLOT50Goe64XnZ2Ahz4Ne4NN2tDEDC3kutIPP+vEdGVjIDtWBd6jmjIUsQPpxcW9nnzKwkOdQO/mt1ndlYCHzZ60808/XZ2Ahz4d+5u9a+5aBhTwfauWZfrw+Awt5HvQjX9fTpwws5LlQD9/ke+4LGVjIwEIGFnLGwsDzQBYGjSkRGVhojH6Z/1pLvwwstJa+mX97i74ZWOit8crzq7XjlYGF1tI3829v0DcDC70xTnk+tX6cMrDQehpnPu5PGmdgIQMLA+9UzhkL/bm4ZaHVvnHNwEL7aJ35unZaZ2ChdpplPutfmmVgoX/HNs/b2sc2Awu10yzzWf/RLAML/TemeZ7WN6YZWKiPbpnfMt2qBhZOO+20sMwyy4Q3vOENYaWVlgunnz47fO9714a//e3e/Jdp0NM88Nhjl4YDD9wpjB+/WLj//rPDr399a0/3J8/JvCa1mweOPnrnMH780mHq1PXDt751eZ4/WSZ0FQ/89refCBdccGxYa613hl12mdxVbWv3XM3vy/Lh0UcvCLvuul2Yf/75wlVXzc7zIa/XA80Du+yycRg/fqmw997bhl//+uaBpkWWD4MrH/7613vCo4+eHeaff57wrndNCtdee3yeC1k2DCQP/PnPd4W99poW3vGOCWG33aaEv/717oGkQ5YHgysP6h373/zmtvD009eFq6++Mrz44ouh0jHXhz/84TBhwoSwxBJLhM033yScfvpR4eGHLw5f+9q1+S/ToKd54O67zw/77rtTWH75pcO1154cvvzly3u6P3lO5jWp3Txw9NHvCZMmrRk233yDcN995+X5k2VCV/HAk09eEc4557iw7rprhm233bCr2tbuuZrfl+XDbbedFfbee0ZYZJGFw4c+NCvPh7xeDzQP7LHHNmHNNVcNM2dOC4899rGBpkWWD4MrH55//ppwyy2nh+WXXy5svvlG4cMfnp3nQpYNA8kDzz57dZg1a0ZYZ52JYaedpoTnnrt6IOmQ5cHgyoN6x/7JJz8e7r//snDDDdeFn/3sZ5VwhTDXmWeeGZZddtkw99xzh6WWWiJstNG6YcqUdcLUqfkv06C3eWDzzdcPK6+8QphvvnnC+uuvFqZMmZT5Os/rzAM18MBKK40PCy30trDYYouEyZNXz7SrgXZZfrRefmy++Tpho43WCYsvvmhYfPGFM39m/hxoHnjXu9YOq666cnjLW94SVl11uYGmRV5/W7/+djuNl1lmifC2ty0Yxo9fMmy22Vp5PmT5MJA8sMUW64T11ntnmG++ecMSSywa1lxzpYGkQ7evV7l9rZdZW2wxKUyYMD4ssshCYamlFg2+Z7q3nu6Zxv1A43XDjjtuGU466aTwve99rzKwcMYZZ4QVV1wxzDPPPGHxxRcPm266aZg+fXqYMWNG2HXXXfNfpkHP8gA+Xm211cK8884bpkyZEnbaaaee7Uuei3kt6gQPrLrqqmHBBRcMiy22WJg2bVqeP1kedBUP7LzzznFtl3E5bty4rLdk/uwq/mz3mm2NXn311cOb3/zmsO666w40LdpN+/y+7tPRlltuubDAAgsEZ/ZAHqPuG6M8Jq0fE/6czTffPALO/Dzrr79+1pWyrjSQ66G58I53vCMstNBC0WbYZZddBpIOed1t/brbbzQ2V/bcc89wyimnhO9///uVgYWzzjorrLnmmtFxNGnSpHDyySeHxx9/PPz4xz8OP/nJT/JfpkHP8sBnPvOZsPfee0fhcdNNN4Wvfe1rPduXPBfzWtQJHjjyyCMj8LzhhhuGRx55JMuFLA+6ag391re+Fc4555yw1lprhe222y7zZ+bPruLPdq/Z9957b5g5c2Z0pipzmvX4rDe0mwe76X0MYaDCu9/97vDcc88N9NrQTeOS29LedYkcuPvuu8PCCy8cQYXzzz8/y4asKw3kevijH/0o+oVWWWWVaDP88Ic/HEg65DW4vWtwP9D7m9/8ZvQDXXPNNeGnP/1pZWDh1FNPDePHjw+ve93rogJmM2cT7R//+Ef+yzToaR544oknwoEHHhg3J7///vvD7373u57uT56TeU1qNw8cddRRYckllwybbLJJ+M53vpPnT5YJXcUDv//978MFF1wQJk6cGCPw2j0/8vvymtxNPPCFL3whcKbON998gfLfTW3Lbclzpd08IKNNNhuw7b/+67/yfMj6y0DywN///vdANih5vcEGG2TZkOfBQM4D8udvf/tbjLpefvnlA/lgbrRbLuX3ZV2oF3ngpZdeCl/96lfDVVddNfrmzVIalBCYa665IsAAWICs5CNToNcp8NRTT4VZs2ZFYOGhhx4KL7/8cq93Kbc/U6CtFDj66KMjsCCNGuCcj0yBbqLAH//4x3DhhRdGYGG33XbrpqbltmQKtJ0CX/rSl6KxrPzj9ddf3/b35xdmCnQTBWQqABb22muvrP9308DktrSVAv/617/CY489FkshTZ48Odx4441tfX9+WaZAt1CAQ1c5lxVWWCGwGcyNfGQKZAqMTYFXXnklZn5mYGFsWuUr+pQCCViQkfPwww8HkyIfmQKZAtVTALCw1FJLhalTp2ZgoXqy5SvbRIEMLLSJ0Pk1PUGBDCz0xDDlRraJAoAF+ss+++yTgYU20Ty/pvsoUAQWNt5446A0cD4yBQaRAglYmDBhQsxky8DCIHJB7nM9FMjAQj1Uy/f0FQUysNBXw5k70wEKZGChA0TPr6yaAhlYqJpU+cIBoEAGFgZgkHMXq6ZABhaqJlW+sI8pkIGFPh7c3LWaKJCBhZrIlS/OFJhDgQwszCFF/jCoFMjAwqCOfO53syiQgYVmUTI/pxUUyMBCK6ian9mrFMjAQq+OXG53KyiQgYVWUDU/s9cokIGFXhux3N5WUSADC62ibH5uv1MgAwv9PsK5f2NSIAMLY5IoX5ApMCoFMrAwKnnyPztMgQwsdHgA8uu7igIZWOiq4ciN6TAFMrDQ4QHIr+8KCmRgoSuGITeiCyiQgYUuGITchJ6kQAYWenLYcqObSYEMLDSTmvlZg0iBDCwM4qj3Tp8zsNA7Y5Vb2noKZGCh9TTOb+gdCmRgoXfGKre0dRTIwELraJuf3FsUyMBCb41Xbm33UCADC90zFrklHaJABhY6RPj82r6hQAYW+mYo+7IjGVjoy2HNnaqTAhlYqJNw+ba+pEAGFvpyWHOnaqRABhZqJFi+vG8pkIGFvh3a3LEWUyADCy0mcH5891MgAwvdP0a5hd1NgQwsdPf4DHrrMrAw6ByQ+1+kQAYWitTInwedAhlYGHQOyP1HgQwsZD7IFBiiQAYWMidkCtRHgQws1Ee3fFcfUSADC300mLkrHaFABhY6Qvb80iopkIGFKgmVLxsICmRgYSCGOXeySgpkYKFKQuXL+poCGVjo6+HNnauBAhlYqIFY+dJMgQIFMrBQIEa3fvy///u/8Pe//z385je/Cd/+9rfDk08+Gf9+97vfhf/3//5ftza7Z9qVgYWeGarc0C6lQAYWunRgcrMiBTKwkBkhU+BVCmRg4VVa5E+ZAhlYyDyQKZAzFjIPZAokCmRgIVEinzMFaqNAx4EFTnMTuJE/KPu///3v2nre5VfrD9r885//DH/961/Dj3/843DLLbeEAw44IKyzzjph3XXXDZ/5zGfCSy+91OU96f7mNQosGCs8WC0Pt5Nfa5lfeM31+cgUqJUCjQILaa2rdg6Vuw7/ViMH6n1XO+dtrfTP149OgUaABTyFt8rxXOlvrsMnjR718Giz3t1o2/P93U+BRoGFon5aOgeq/Y5f05854w/fV7OGdz+Fcwt7iQKNAAv4Fh9Xw/eua5S/65EN2qadjb67l8Y0t7V2CuCRxx57LLzlLW8JG2+8cbjppptqegj+qmUueF+jRy3zL81RbTSP8pEpUIkCeGXPPfcMEyZMCDNnzqxJrzcP8GXit7HOrm10ba5HLpgHzXh3JRrm3weTAh0HFn74wx+GCy64IJx99tnhrLPOqvnvIx/5SHjwwQfDf/3Xf/XNCFpg/vznP4fnnnsuXHnllWH//fePYMJKK60UFl100TDvvPOG5ZZbLtx999191e9ODWCjwMJPf/rT8OlPf7pq3v3kJz8Zfv/737dcsZHN8pWvfCWcc845VbXt+uuvD88++2ynhiG/t4cp0Ciw8K1vfStcfvnldcuB888/P1x33XVBFtdYx49+9KNw6623Vj0vyKUPf/jD4f777w+//OUvx3p8/n8XUqARYIFuceONN0Y9ZSwd5WMf+1h44IEHwn//9383RIWnn346XHvttVWt26lNdAVOgUbf3VDD8809QYFGgQXz6fHHHw+XXXZZTTyKV+n65557bvjoRz8a9Vtz68477wwPPfRQ+OY3vxmDZRo1sntiEHIju4YC9QILdOz77rsvXHzxxWPOgwsvvDDcfvvt4de//nVD/f7ud78b9Ze07ldz7kc7uSEi5pvLUoCTsRFg4cUXXwzXXHNNOO+888acD1dccUX4whe+0JAd/L//+7+BLKP7VDMP0jVsBTqW/uYjU6AcBRoBFvjv6DQXXXTRmHxJD7rnnnvCH/7wh3LNqPq3r3/96xEITDxezZm98sgjjwSO4HxkCjSLAh0HFihJp556ajjiiCMiKjhlypSwxhprjPq35pprhunTp4eDDjoonHzyyTGS/xe/+EWzaNLx53zta18LHGV77bVXmDx5clhyySXDa17zmjDXXHPN+VtqqaXCHXfcEX772992vL293oBGgQWOyk984hPhyCOPDHvvvXeYOnVqwKOV+HjfffeNQMTf/va3lpJO2awzzjgjTJw4sWxbtHGzzTYL2qPtV111VcB7+cgUqJUCjQILX/3qV6Mc2G233cJGG21Ull9L5xO+di2nwLHHHhsAY9VkcH3ve98LH//4x8OsWbPC5ptvHtZee+2K7/O/LbfcMhx66KHx+TLH8tF7FGgEWFCCEL8cf/zxc3SUSmvqBhtsEPAwcKEakKsSJRn3DA7rssCCTTfdtOw6LnNx1113jfzJkABw/+Uvf6n02Px7pkCkQKPAAsPh0UcfjeDs7NmzY2Qf3l9rrbUqrqVp/aZ3uA7v0m/pIFtttVXYcccdoy5iLQfkAhp+9rOf5XKfmWdbToFGgIW77rornHLKKVH3pyvIKE+8XjxPmjQp6hL0FA7Yeo9vfOMbUVc/5phjog4zbdq0srLBu3fYYYd4DTv55ptvDv1kJ9dLv3xfZQo0Ciy88MILgbPyqKOOCjNmzAibbLJJ2bmAN+nuBx54YASo6Wf1HEpEkxPkBTm0zz77xOeWs7833HDDKKfe+973Rv8Kh6qI7XxkCpSjQCPAwp/+9Ke43n7gAx8I73nPe8IWW2xR0c6kB2277bbRn9dI4NozzzwTAz3Y4uYVP1Q5O4XuRd4dfPDB4fTTT49gdyO2Sjna5d8GmwIdBxZ+9atfRbTu6quvjiDBLrvsEt7xjnfEVLyiIz19Fq1vYhAODO/bbrstfP7zn6/KodQrQy0ydvfddw8MNY4tIELqfzpnYKF5o9kosCCi9YknnpgTYSptbsUVVwyvfe1rR4yb8Rs/fnw45JBDYuRSKyImRPtRmERxSGdNPFN6Xn755cPOO+8cowdFcOhDBqqax1eD9KRGgQUGiVJvJ554Ythmm23CCiusEOaZZ54RgGri4Te84Q1h4YUXDltvvXUEFfDv888/X1W0Nkfx5z73uSCCkBNYqmt6bjq//vWvD4sttlh0fjFWyBoGTKPRhoPEE93U10aABUYCRz+HEAcS2cx5hD/e9KY3jeCd+eefPxoTn/3sZ0O9BvMPfvCD4H58LcjAOr3ssssOexf+55h9//vfHw0KGYwy1P7nf/6nm0if29KFFGgUWJAV853vfCdGa9PdTzvttLhuL7744uF1r3vdMD61plpP/Y/OsfLKK8c//Pz2t789rvNp3XW2ti+yyCJxbb700ktjZKlyoK3QlbpwaHKTOkCBeoEFerbMcnYoYHe//fYL73rXu8IyyyxT0Yal38jSqTdr+ec//3mM9Famhl7ine985zuHzTm6E+etgAjZCv1oJ3eATfr+lY0CCxyUdGsy4X3ve1/gz+HcpKtY14vrvM9kAgcn27OegAjOX9nOykJ7pzlofgnGLL7LezhaOVLZxaoGsBeyTOl7lq67g40AC4JG+ZXYtII7BQkDtvjt3vzmNw/jTXxKPyKDgNQvv/xyXW3+yU9+EoM9brjhhmjb7rHHHkGVk+I8WGCBBaLtAvi75JJLIphBF6zXTqmrofmmvqdAx4GFRGHOUH8QOwKCY6k4IdLn1VZbLRr5Gt6v6dIUTpkcykRJ1zv88MNH0CIDC4lzGj83CiykFiQeFmXHIFansjTTJPExZyZlSspcsw/KkudyRpUTYtqgXR/60IdiBFNqd7PbkZ83OBRoFFhIlMKLovk4/VdZZZWyxgj+fdvb3haj/2Qf4Pd6ZIF7gIKcYmlepjPnMGWQkcSJVs/zU5/yufMUaARYSK3HA/44OUUHyU5bYoklRvBO4iH7ISkX08iR3gnQOumkk4bJk+233z7qB6L2Mn82QuXBu7dRYKFIMbzHCGcQA2qtnWkOpPNb3/rWmI0gspThyynKySPbxjpfKQhjvvnmi9F8orTNu3xkCrSCAvUCC8W2mAfqXMsUFqkKRKuk/8tskF1m7W7k8E4lNAAVxXcBGh5++OH4vywbGqHwYN3bKLCQqIXn/JEJX/ziF2PmDLA4yYPiGd/KUgPQNXJ4n/YD3kRsF+cD8E2pmNSuRt6T7x0MCjQCLBQphOeU7MJ/fHlA5yL/Fz8D4qzbjR7eCeQDPBfngSwhNgn/kGvykSnQCgp0DbCQOkfRgryJ1ofiFScdZxJnqXIX/ZzCZkHjzBJ5aAGAsFNSi5FgGVhIHNP4uVnAQmoJHvbM7bbbLkZqFHk4fRbBofwXg7nZB2BKDXnZLuUMdlG2ADroeKOGTbPbnp/XmxRoFrCg96I9lBzifMKnc8899zA5YA6JvJCN8/3vf7+hGq3WWc6uovIlwspvIpoYRoyVfPQ2BZoBLCQK4AdyWdk44Oyqq65aFgADOihjZN+aRsveMUw4j7yLXrTQQgsFc0478iaEaWTyuVoKNBNY8E5GKr1Vdg29I+k56cyYloFjXZcx5o+eL9pUW2TmyAKSkZzucabzpsycT33qUzHKu9o+5usyBaqlQDOAhfQuOgW9RK15ZS7KAW3Wb+BCcv6ne+s5m3df/vKX4/zxLn9AZ9nH/pePTIFqKdAsYCG9D/9xMgnEUEpSJn9xfU+fyQelveyx04i+TQ6xaQUmeRe9XlacfQbryYhI/cjnwaMA3q138+ZSatHR8R/Q2X48SnWVs2vxKh+nzGOZ0o0c9v+RycOeFeS64IILxmAotlA/+08boVm+tzkU6DpgQbc41KWzSedMgseZ8FECyYQZpMPGLoCWYiphBhaaxwHNBha0TNT1cccdF8seFXk4fZZJoCSAvRkaFSBFShAYlDP1igmp9L7imfGuhIxIknxkCjSDAs0EFrQHH6sHbKNP4ELR8Y+XgWOy2myQJeug3kPGg7an+cFxqx6xbLFslNdL1e67r5nAQuod/rA3iHVeZHXioeJZuRflKIALjRq2SiRK58f7Ag3MjXxkCtRDgWYDC6kNAho4TItzwGdrtbW2nO5uHomuu/zyy2Mt4lJHrLUfmKYknQyyDKQlaudzsyjQTGBBmzhHAWcXXHBB2VKL5oQsHnXorev1lr9I/QfQiXal8wO0ZcsBo/ORKVALBZoNLKR3W+Nt1Gxfs1LZkL7LslE+ie7daDlHQUnKRJId7GwgXz4yBWqhAJ5tFrCQ3suuVUJSeaRK2c5KrMqW559p1DekKgaQWSDeuHHjoq2S2pLPmQKtokBXAgsQZynVojqS0HFWL0w9YRN+kA6oo81f3vjGN86hRwYWmscBrQAWlPQ677zzKkZoJL4WpSFFrlmHbB71VBnn5bIVvNf/zK8nn3yyWa/NzxlwCjQbWEBO6zxw4bDDDov17NOcSWcRH5xN9tgp57AabUg4pxjeNiy3Ma7IWIa++aj8XD76iwKtABZQiEPovvvuq5iZhlcp9cptyYBpxNnDqZrK26mfLfIpH5kC9VCgVcCCrILp06fP0VPTWj0asKD9Ik0Z0Tb+FOWd7iue1cmWIcRoyWnxmk84AAAgAElEQVT89Yx6vqcSBZoNLHgP5ygwTW3tIh8XP3N8KttCh5HVVi9fy5DgtOWsWm655WKwRK06USXa5N8HhwKtAhZQEHjMwV/k/9LPgkcvuuiimPHTCP/Kxhc8xwYmT9S6z0emQC0UaAWw4P2yjGUk2Eu2lP/Td3KBTQ0YaCTbWeATkEK1F+9TfjIfmQKtpkDXAgt2Ui+NuBZNamIMGrDwwAMPhK222ioDCy2aDa0AFtTEtjnOaMKDEFE2wH4MzTqkRDMwiiBUElbpzNGlPnh2oDaL6vk5rQAWUBUAYONcJWUS/6Yz5Uvmz6mnnhp+9atf1TQIHLyyipQrM1dEnANvOW9zmmhNpOyJi1sFLFCgRJwq15L4svSMT2WJ4VM8V+/BGSyCSlqzsjFXXHFFvY/K9w04BVoFLCh3JHK6dA6MBSwYDk5VUd7KVpTe77t5NHPmzFgjOGctDDgDN7n7rQIWOPxHAxbwtfWcvVspo6earoryVlpVwFkKwGvEMVvNO/M1/UeBVgILgt6uvfbasmt7Wu8F+NDF2c616vTF0bB/CYAbsGAz9TvuuKP47/w5U2BMCrQKWJC5zPcylm9I4Jw9GX70ox/VnaUpmIk/SJD26quvnrOcxxz1fEEzKNC1wALH56KLLjpMCCmJIYVo0ICFBx98MEybNi2WQEgCOGcsNIP9h57RKmBB9B3hIUNA6Qoggjp3aQyd/W/fffeNwqNRQ8DmhqJYRX1QqGyKKL3UO4vZC4AFkd4ZWGgeDw36k1oFLKArIXX77bfHPRVK61JyNolIEuUELKgm4o9TigPrqKOOCkrVKC0DtL777rtjXeJBH8t+7H8ngQXrfFqPTzzxxAB0rkeH4QzmgOKIwvMZWOhHTm1Pn1oFLDz00EOxvEtRx/G5GmBBz9WnF12q9JG1vfQ5SoHJyOQAy0emQLMo0ElgAZ8rU8HmVca0njIwgAX6zNJLLx1tDptHN2pPNIu2+Tm9Q4FOAwtJV1prrbXiPmfKnNaz1gMWlAOmd22yySaxZGrvjEJuaTdQoNPAArlAb1L+XUBSPfth2gfu4IMPjoFPgAVBG/nIFGg1BTKw0GoKN+H5osC23XbbDCw0gZblHtFqYEE0q6gJ5TA4+0uNZdGn6gtzfjVyAAqAFAlEUGeVsaKEQPrNuzOw0AiV873lKNBKYMH7bPopismGbICA4hwCztmTR7ZBNTUplSm74YYbYmQfJy3wT4k9G4rmbIVyo9v7v7ULWABUkdXWfM7RIp/aI8mmbTa4xc+1On5KgYUrr7yy9wcm96AjFOhWYAHoa0Nb5VxkoxXnj88AtY9+9KN1OZs6Quj80p6gQDuABeUoODvJiNKMYpHayhidcMIJcaPbWp1IolozsNATrNbVjWwnsMAW3nzzzWM2J/4vrvXmx8YbbxyDJ4ALtQZiZGChq9msJxrXLmCBf4b8WXLJJYfto2o+sCGACwKq7aNTaynVDCz0BKv1XSP7HlggKKUe/fa3vw0//elPY2S4lFO7s5uoNlIRvSqKUL1kEVP1IOQ4Q7SsxUgNNfUEObA4EL773e/G93nvCy+8EH7+858HaYEWiWpSumsFFrSBI+X3v/99VX+urSbSt++4/z8dagewsMMOO4TnnnsuOHNmFpUoaWoco/VuGJv47txzzw0iPQgjWQrXX399jPrIwEK/cm739KvVwII12bop00ZUXnH++EwpA6p94xvfGFX5YrCric/AZ7wA2ZRZEilo3cxHf1KgXcCCjdLsiaTElk3YioAuPgWKcSxZm/FzLbpGBhb6kzc70atuBRbQgj6m9Kc9b0rXeVF3H/zgBzMA3Amm6eN3tgNY4EgV/GBPBcBZqWzgXAVIcyKxFcmGau2yDCz0MXO2sWt4TulRNirHvk2Qm3WUlkKid8tO8x6gW2mGmuxkWf5AAv6banwlqa0ZWEiUyOd6KcAebPbmzdpSWgpJqTz62O677x5t21K5ICBJWfiPfOQj0X9Yi82QgYV6Rz/f1wgF+hpYIIg4+R955JFw5plnhj322CPW0abgKSXE4QoNVItPxKoo1meeeSZO/HqIKtqVAAQEXHjhhWH27NnRYbzyyivH9ylLs+WWW8aaZ5dddllcJKrZmKVWYAGgYfOiq6++OiL+SiaM9nfvvfdWXUakHrp0+z3tABZmzJgRwZ6zzz471rorGswECWcpJQvAVesBoFKPUpkAQghQseuuu4Znn3028kAGFmqlaL6+Vgq0GljQHqAARSmlOBfnEKMcmCaaFZhb6QAkq0UsGpYhwwF85513ZkdVJYL1ye/tAhasu4IHbJpmzS+NusZz1miltz7+8Y/XpGtkYKFPmLELutHNwILMS4EW5YCFVCIjZ5Z1ARP1URPaASysscYaMcCMDiMzYZ555hnhTGULKJuqlBGZVa0TKQMLfcSMHexKO4EFevgPfvCDWJJ3s802G5GJTFcyR6z599xzTwz6rJY0GViollL5ukoUaBewgPcFNws8Peigg0JpuV92Lrlg7xzBo7LyqwWcM7BQaXTz762kQN8CC7/4xS9iXW5RrGrsKXch1RTyZ68GSt748eNj1KrfAAzQcal5nP423ar2MMlFH9ogSA1kCDzHAQURqMCxS0ByMkDm1dP0fiUTRF9xbI9WFqFWYEHkOwf21ltvHSZNmhTLLyjBUPybOHFi3LcBfSCh6nrWEhFQLW164bp2AAscTvZA+MpXvlJ2I1qbe3KYfvGLX6xaaCTaAhXSfg6EEAGkXrwUUptlZWAhUSqfW0WBdgAL1ifRHqK9AbRFYMFn4II1HKBaWhKJweTek08+OZYjS5HjyskAYvPR3xRoF7Cw2267BbqH98mMEfFUWi8+Gcw2C8d/ALNqZG8GFvqbR9vZu24GFkR102FKMzut8TIZAMHVOlzbSdP8rt6lQLuABdnrf/jDH8ITTzwRjj322JgxSR4UdRl2Ij1G5gJZUg2IloGF3uW9bmp5O4GFI488MgbECf60h5psz9KSSByqbGPBn5/4xCeirlSNUzUDC93EVb3ZlnYBC1OmTIn+QxVT6D6HHHLICJuBfKAPbbTRRrGUqmur0YEysNCbvNfrre47YIESpgwR5xLHvfrbhNMiiywS1l9//YgI2sDEZp+nnHJK2HnnnYfVNqPkqYfPUat00mhCjDNAxgFnsbrJBKP3KcvhGWrcizwRnQKJ1J5iFJZ2ASD8/8tf/nJF50KtwIKodyCHqC+gSVJaCW1lGBhn2qP/6pY/8MADOWNh1qwINKnva1I0ehiD5OyX3pyABc8GXBmHYg1un5XOsPkyQKDaQ7bCk08+GaDeIrbxuUhZBgmwKgML1VIyX9cIBdoBLKT2yUiwfperVSwa3FyzZhadtcrCffKTnwzSThnuQGY1iZXDK16X3pHP/UWBdgILgF56CAcSgBfAP998882Rw0keCzLwPxmDdJax+DADC/3Fk53sTbcCC3QfYJv5UupkMm8EwihbN5pe3km65nf3JgXaCSywGTlT2Y2AZ/ZikgnpzJkq+EymuQy4sWRDBhZ6k++6rdXtBhZUeLCWpyC4TTfddESdeXOCXSto48EHH4xzZ6z1PwML3cZZvdeedgMLfDnsFBVWBJni+SQP0pl/kQ2rRBkfz1hyIQMLvcd3/dDivgMWRKUSPgRUMRJE1gKDpRiZbz8Fey3ssssuwxzwJrFoQqVpRpu4Ig2V1uCkV1oJUKBmN8cuBF6EuvsJQQuGKJX11ltvRHkE9Tah964vh0LWCixYoGRQACxkanBaM9S857DDDouoqPeMJZz7gcGr6UM7Mxa0Bx8wkGWxJIGRzjJeHn300arHBoChpAbe8wyItu8pAyYDC9VwQL6mUQq0E1jQ1qQwlatjDzQA6jJWzAPrtDk+bdq0WCbMWigzTfQgeZCP/qdAJ4AFVAVo0UdsOltuvQcGC0IAaGvjaEcGFkajTv5fLRToNmCBLkpvpevutddeI/Qiuo2gHCVN6cn5yBRoJgXaDSxoO91DuVL2YjHgLNkC9oCSWX7NNdfEPflG628GFkajTv5ftRToFLCgfWxZPhfVI0pLSJoTiy66aMxcUGZyLBmQgYVqRzxfV4kCnQAWtEW2PXtVAHC5gCR2BHtC8LDgpdGOZCcLbrU/laDqfGQKtJoCfQcsKGvBOVsaBXLiiSfG2ttFZ7rPlDsTVH36pNA5K5OkBmClNFT3ct5LW1LyiPMemmgfB4hjAhXSAAIYLBgMIxO8+C73QiEJTJEspUctwIJ2KePkPdolgpdA3mmnnWJpBihnNfs6lLahn7+3G1jgbBLJarEv8oHPyyyzTMxywXdFXq1Ef04rwBgQzR+Q68UXX5wDiGVgoRLl8u/NpEC7gQWg8Ne//vUIIJcqXyJd7aMji8x6JyvhtNNOiynV/if1lAFj7a9mjjWTTvlZnaFAp4AFhrp3K9+C70rXe4Cwmqrks02fRwtkyMBCZ3inH9/abcACfceGtbNmzYrBOeXmyX777Re+8IUvjDpH+nGscp9aT4FOAAt0D2CaQKJyYBp9XslGQXKChVKQWjlqZGChHFXyb7VSoJPAgncDF2688cYIqJXKALo7m1mWz2gVHvQ5Awu1jny+vpQCnQIWrPPkAntA5kLpPEhyQbbzrbfeOqo+lIGF0lHN39tBgb4DFpTJsK9A6QYoF1xwwYi62whMmDFo9t5772ETWASJkhqVgAVlkpRbsoeC2mcc+CuuuOKc2vblBs9CpYZ+ucXCvg+f+tSnykamVAMsFJVUTj4bRUP9pdMed9xx4bHHHovPrtSfcu0dlN/aDSzgA9HSAAER10XBYcyU1NKm0aKpjTe0+kMf+lDMlvEMKDaeFKGdjgwsJErkcysp0G5gIQG1N9xwQ4z4Ls4hn4EN9pS5/PLLI1Cn5ByFTAaXfW0A0KM5cVtJq/zs9lOgU8CCntIxfvOb38SMSZmQpbyKL8kBWWxkfSW+zMBC+/mmX9/YbmBBwATetu4Chc0J2WQvvfRSeP7554N1nMNIeTvzoThHFlpoobinjj1LXJ+PTIFmU6ATwELqg0Aj5fBkLiiBVOR9n/G/srZqzFeKUM3AQqJmPjdCAesyXwGfhr0ilVxp1mHtZo8m/lalIZVCSu8gE8gIQUEbbLDBnGvTPYIwVYcQ9KmdlQKDMrCQKJrP9VKgU8BCaq/yqALgyu09Yj4olcSHNNrG5hlYSNTM53ZSoO+ABburKy2gJJHJJyJQuQHppBaK0oNg4nSYPXv2MCEmUgQiWO4ezvn7778/ltZIKXs2yJ05c2bcl4FwLndwGBCup59+ejSggBGMKCCIUk1ABwNSeowFLGijRQjCqQSIVELt52i2AZhMiEoCuPRdg/i93cACGhtnSpsxSkpTOtu48KSTToobW1VyMvn985//fNwjJPH58ccfH4304hhmYKFIjfy5VRRoN7CgH9ZZEU7WU6Bumj/pbG1V8kiGmGgn66xScKKd8jFYFOgksJAoLejB/jrKW5QGPuBZTtUDDzwwPPfcc3Gj8XRfOmdgIVEinxulQLuBBfuJyO6Viq9u/HXXXRd1cgE/HEzW6WLmmbWbQ3WttdYKMhUY2LXsPdUoffL9g0WBTgILKM3BClyQOV8uk9leefboY+Ox9UqPDCyUUiR/r4cCnQYWUpsF3p199tlxD0p+kqTTp7MAIZufy0YuBtKl+zOwkCiRz/VSoNPAgnbLuL/55psjyJZ8mmkOOKvMYu8RmZw2dC49MrBQSpH8vR0U6DtggfGh7BGDBKCgDJASBJzzpQfnLISc0wECXpywAAkpqOWABeWKCL1iZJW9E4AX5UoZlb6XQ/jwww+P0bNLL710bKusAqWSymUUjAYsWHhsFimaa/LkybHPol5kUlx//fWxXFPp+/P34RToBLBgnBkIovREhxR5D1illIt2lStbhW9lM7zvfe8LQAiKF8OdMlWa5ZCBheFjnb+1hgKdABZST5555plwzDHHxHmU9hopzief1aUEMChTV84QSc/K5/6kQDcACygr0/GSSy6J67sa2qV8ylB473vfG/cQkQ5dPDKwUKRG/twIBdoNLAB2ZQH7UzKUjmpNBrD589nvdHaOVYE6AnsAcZym+cgUaCUFOg0s6BvbUVYCe7XUJiAn2AWC15Q/LbULMrDQSu4YnGd3C7CA4vavlF1MJyoHLggmev/73x9LXJf6aTKwMDg826qedgOwoG/8RAIx+BgFDJfaDHQq2c4yeEpt2wwstIo78nNHo0DfAQuAApGBUD77DIiQMuGkm5YeFDl1upWP2WyzzYZNWKCBzIdSgeUZ9jA46qijhl0v4orCJ817rMM1wACoPKeYDaRFrBDq5TILRgMWHn/88Zg2SMgy1hhlSi2p2wlkKdf+sdo3aP/vBLBgnIELaqdKOS0KixSth3fxWulh/45vfvObEUgiaChegCr8VJrhkIGFUurl762gQCeBBWCa9U6ZmXJRHeYWoPX222+PJWnKrbGtoEl+ZvdQoFuABfqJskhK2CnVVVz3fU4gMYNZ5kLxyMBCkRr5cyMUaDewIG3/Ax/4QDjllFNiEI990DhzlXgRib377rvH3+nsMhqUBaX7iMIzZ/KRKdBKCnQDsEB3F1zGHmVPlsoGdgH9hhNJgETxyMBCkRr5c70U6CZgQWDFD37wg3DCCSeECRMmjJgPbF8l9tjJylkXjwwsFKmRP9dDgW4BFviJOGo/+tGPxr1YS+VCCtoQkMQfWDwysFCkRv7cLgr0HbDAacQQUaePo5VxkjIBCCpGvZJDl156aTRkKJRq+clsKJ2wlYAFTiyGUPF6ddCeffbZuOlKNYOnnYQ4hHEs5385YEFk18EHHxw3i1ZaQe1BiidQwUaRHCmen4+xKdAJYCG1SiqnlE7CochPlCZ8edddd40wrAFnNqOlVLlvnXXWCRwFJnPpkYGFUork762gQCeBBf2xrov2s7eMtbA4l0S/2kMHmFsaBd4KWuRndh8FugVYQBlyWTDBqaeeGuytVOTV9FnG2sknnxxT/ZMcz8BC9/FVr7ao3cACXeWhhx6KgTz0ZOXopO9zkNKnBf/4nc7+s5/9LAYClcve7VV653Z3NwW6AVhIFFLO195Q66+/ftmSeePHj48lb59++uk5JfMysJCol8+NUICuYS3u1B4LpW2XmcM5qlxeuXKnAjEEaNiTAQiRjgwsJErkc70U6BZgIbX/hz/8YeTztddee4SNy24AvpknApJS5kIGFhL18rmdFOg7YKGUeASlDa8Y8upTXnTRRWH//fePGzwrQ6RWHwCBssYxnwx750rAghJDpRkOHPqcxK2IrioHLCijYCGRBlVsM8DD9dqRI3NLuaH8904CC6Ktb7311hhRXSyNgRelPivrxdBIh+sZ6ISLDJUlllgi1uWWxZAcUOla5wwsFKmRP7eKAp0GFjihZGhtueWWsaxGcU20cbO9ZsrNj1bRIz+3uyjQTcACypDNHEPK2dFDyqU4K+cos0H5JIZCBha6i6d6uTXtBhbs+yWqtBX6cS+PQ257d1Cgm4AFFAEUsFUFjdHzi/qMz4A65XtlvP/lL3+J18uiTzat7KA817qDt3qpFd0GLKAdXQkIbX809m5p4JD5IOv/4osvjgFGHMIZWOglruvOtnYbsIBKfIxsAiWwy+3Txp8p25m/U2WUDCx0J2/1e6v6FliQVio6VX2yhx9+ONbghmyL8DYhbYZlTwKp1zIYbHpcGjVeCViwv0JppKF0bg7qhBQ2k3HKAQscz5wRpW3WL32x90JWLKsbhU4CC1qorBEHk30SSg2IrbbaKgIPCSSSrXDuuefG6/CAUgJ33313RRApAwvV8UC+qjEKdBpY0HqKFGBV2Y3iPLLuW7MzsNDYGPfy3d0GLKAlHcXaT14vtdRSI2Q5Hl5++eVjaQxR3IxrJWREE6677rrhyiuv7OUhyW3vIAUysNBB4udXdx0Fug1YoO8LiJO1xtYstfPIBoFIMpe/8Y1vRNAuAwtdx1Y916BuBBYQka4kk4J+z04ut5fapEmTYrlTPp9PfvKTsXqD6zbZZJNYxaHnBiM3uKMU6EZggVxgC1jrBRaXkwsLLbRQuOCCC2K1FlmgKpsokW6PQWXD8pEp0GoK9BSwYGLYzMeEH+uwp4INjffZZ5+omCl1JLpfRIdJyRkL1VNCQ8TH8ccfP2KSVgIWIIZKbhSdVzIYoOTV7LEwVttL/18OWJhvvvnC9OnTw7LLLjusHdB80WGHHHJIeOGFF8puBl36/EH/3mlgwV4fwC3jVioolLxSUzWVtlInPtVfteEhdNr+HJWODCxUokz+vZkUyMBCM6mZn9VsCnQjsKCP9AXlGvfbb78wbty4YbKcfiF4QDaluvP2jcrAQrM5YzCfl4GFwRz33OvyFOg2YEErZWFyItmXRCRq0d70WWCRCG7ZCbLxM7BQfmzzr9VToFuBBT1Q0vorX/lK2GmnncqWrmYPy06+44474t6FqkhkYKH6sc9XDqdANwILWihgWhUL673Ao1K5wAfIzwlEUEo7AwvDxzV/az0FegpYUBrgvPPOGxVYEKVv0kkjnTZtWtzYNk00yiMD/atf/Wqs4VqMYKWclabYVQIWLrnkkrhDe3FCS1n1Tg6MWg9ovHYDOMrVlS0HLABK0MLiInqx2BYRjZzUQBgRkZ6fj8oU6DSwgA9lmBAAnEjFsaQYqbV6zz33RCDMRlayUvxus1qCoxzPpN5mYCFRIp9bSYEMLLSSuvnZjVKgW4EFEUgMmM997nMxc8F+IMX1P32W6r/zzjvH6DuRqjljoVGOGOz7M7Aw2OOfez+cAt0ILGgh20DU6UknnRSB52K51CQbBNzNmDEjbLfddjEyFQiRSyENH9/8rToKdDOwQFcShAdEw++lmcnmg/khy998Xm+99TKwUN2w56vKUKBbgQXzwDx94oknov+vUrazvTd32WWXWB5YIHLOWCgzyPmnllCgp4AFgoJTv5Ij1WSTgWD3dCAE52uqVb/rrruGe++9N5YqMjFLj1qABZuEEl5JsXM2uffaa69YD7lS+0rfmb6/9NJLUXm06bI64aVHOWDB+yDzNr5Tzknmgo2MUpuAJBaSCy+8MLz44oulj8zfCxToNLCgKSJX77///jB16tQRWQtLLrlkmDlzZgSKZMbga3VXlUQqblhV6NKcjxlYmEOK/KGFFMjAQguJmx/dMAW6FVhIHRNYIMNyt912C/PPP/+IIAeZbLLXkhGRgYVEuXyuhwIZWKiHavmefqVAtwIL6M3BJRju0EMPjYFHpeBCsgeWW265WCYvAwv9yqWt71c3Awt6z3cjYvuWW24J22+/fbSD8X/yezjTlZR+WWyxxTKw0HqW6ds3dCuwkAiufSpdqGiB14v+vzQP2BL24yEzMrCQKJfPraZATwELMgg4Sis57jln1eET9QdQMLk42E0sYMBokfvlgAVRgiZv6cGZr9ZfUZj5LP3o85//fEzZK72n0neC0j0HHXRQTGt9/PHHR1w6GrCgDI6sBKWcRLKnfqe2iXa3qZF+lANURrxsAH/oBmABb9qY+fDDDw8LLLDACN6iPCnlJRvFps4yUiDWleZCGsYMLCRK5HMrKZCBhVZSNz+7UQp0O7Cgf2mDZqABGVAqy5NMd87AQqMcMdj3Z2BhsMc/9344BboZWNBS9tvPf/7zCDxzIo0mGzKwMHxs87fqKdDtwELqCVtZOes11lgj2sRF3aj4md2c91hIVMvnWihgzd1zzz3jXgYCO82NZhwqkzz99NNzyttNmTIlru0As1oP99jQWaCzvRVGkwsZWKiVuvn6einQU8CCjWo/9alPVZzgP/3pT8Pll18+bBNcKUDqEn/5y18elUa1AAtf//rXw2GHHTbC+SuicPbs2eH5558f9V3pnxz99oI4/fTTgw1G7Qfx3e9+N/17znksYAGgkjaBLC2lo/8E64033hhkRuRjJAW6AVjQKuACZWmHHXYYwVsEBpCMopTKXKm/OhZYlIGFkeOdf2k+BTKw0Hya5ic2jwK9ACxY/23YaZPmLbfcMmYuFI3k4ucMLDSPNwbxSRlYGMRRz32uRIFuBxbo+YDnZ555JpbMs4FtUR4UP2dgodIo59/HokCvAAt0pV//+texCoWSL/ZXKM6B9DkDC2ONeP5/JQr0ArBgHgAqBJkqDyb4NPF+6TkDC5VGOv/ebAq0HVj429/+FtE5hg2Huc14lP8xidNBgdp7771HbNCj1BCnvslU7lCLUsQ3Z3qaVCaauvTf+MY3yt0Sf6O02QS3dONcGQtKFJQeyi0pPzT33HMPQwilG6288srB5s5QxNGcviLNEf/KK68MMjFsBi29r9xGvGMBC9qHruo0AydK6zRDMlM9fsI4H8Mp0Apg4Ve/+lUsyUXJZwQwXAiAsQ77g5x99tllUzzxtIwF6PTXvva18Ne//nWsx4Wrr7461qKkYKU5IRoW2Kbf+cgUaAYFugVYUPLOepd43ZlCZb+ZZkWcNINe+RntpUCrgIWXX345fPrTn46p93gN/4ksHSuTrFLv8ahAAYEAAims9+WikDKwUImC+fdqKNAqYOHBBx+Me4EU11+fBUPQieuJyqumP/maTIFGKNAKYME6/p3vfCdssMEGUR8RXf3tb387ZibX01b2JDvvgQceiHYe+7Oo16c5l4GFeqib70GBVgIL/Dzs0cSnRxxxRAQHRvOTjDYqdKzf/e534bLLLgt8NW9605vmPDu9IwMLo1Ew/280CrQKWLBPyJNPPjknY0F5a+XK+T3rOfhDZfDYbxO4UEkuZGChHurme+qhQFuBBYLge9/7XvjYxz4W9t9//2iEAwJuuummuDdCMsZNMClIxc151JTn/BfRV0kQqTeWJlYSLGqMeRdEr9Sx5H1/+tOforKnTlmpkrbRRhvN2VBZtP+PfvSjCAZQGG+//fYAKS+td+m99oIALjFNX0cAACAASURBVMg+cJ/+JDDEYqUPFEx7JEyePDmWMBKhaHGhOJYejDUbURcFp1rLyjsBOdKhfyLeKcnoVeyP+mvqN9tnwqDn41UKtAJY+OUvfxn3QFhxxRUj0MVJVA2wgCeNN8cRAZH4OJ0nTJgQ54HrKs2DV3sW4mbl5kDROeW7TX3GyuIpPid/zhQYjQLdAizI9iktJQbstflh6fo/Wn/y//qLAq0CFsh3Cn0Cs2yw/MILLwwLlKiHkgALRrhShnSM4vpNFmRgoR6q5nsSBVoFLMgonj59+gi9Zfnll4/7iDGA85Ep0G0UaAWwIPBHABB70Jq92mqrheeee64qO2A0+nBMCTYTLCZoqVQ2ZGBhNOrl/41GgVYCC4IaVZRItqyqD6pMVGPHVmozv4qqDx/+8Idj1QfBocX5kIGFSpTLv49FgVYBC2wRvkq+IXNBRZHvf//7ZX1/Y7Wx+H/PtU+rQGX+v+I88J4MLBSplT+3kgJtBRYwvs2Xiwxv4bc3AGcqhcnBuU7RK6b1iPa45pprRqUF8ECmQzEtjqDx/I9//OMjIryBCpBD9dOWWGKJOQIvCT4K4S9+8YvYrnvuuSfuwG5/BcAAEABSXmxjus/Zvg7ACoZWQiMJUA4DSuHBBx8c26l9orlkVVQSsDZ1VIetCGLY0FdUo8j44gHEcH2l2oMiKmU25ONVCrQCWFCm6OSTTw42VAPqAKkSf7/65vKfZC185CMfKcuTe+yxRxRK5e8c+auNzIvzDW+aHzaJtrdHPjIFmkGBbgAWGPKiP4oALH63sf2RRx5ZdxR5M+iTn9FZCrQKWGAsC4xIpSk4VWVHNiMyG2ghgMFGhKXZlBlY6Cw/9frbWwUs4FdBMEVdOK3BjGk6dz4yBbqNAq0AFvC64J1JkybF+bDKKqsE844savQQpASkADyXbtqZgYVGqTu497cSWAAiXHTRRXNkw4EHHhgDTSv5PWoZBQGWAlZLo7UzsFALFfO1RQq0ClgAhN1///3R70c34htSbaWaChTF9pX7zKHLv7fSSivF0tlFPSwDC+Uoln9rBQXaCixA5exlUGR2Tk+OTpsXc/KLxGZQS21LCpNrTj311BjlPxoRZAG4rhix6l4OedkFxx13XHT0i/TncIWYU/oWXXTREc4obZQxIcofWAFVhARqI4UR+KEs04477jiiZJN7bbCrJJHJvOGGG0aHF3DAM+ynABhQMx/owSlnj4RKx8033xzRzaJzQZvPP//8mEVRvA+Cz9kBuRQhU+pk8z7OD+CDBa4ZQr34/l783ApgQQr09ttvH51CeBDQI4OlXEZKKc1E9eEtAieBZBQk/GTMgVPVHPjgxBNPHDbf8KZ5ZaNxGTPmWz4yBRqlQKeBBfPK/FprrbWGZWrhd3Nou+22i8BezlpodKR78/5WAQvKu5xyyilz9kOgJwhCaIaRwLABUMtcoDOQAfjZXwYWepMPu6XVrQAW6JJnnXVW1HkTn6azwB1lP/FzPjIFuo0CrQAWUoQ2R795IMhIgJtgtUYPegw7VLacbOiibMjAQqPUHdz7WwkssLPtQZlkAt+JIMtUzaERqgvkUA0DcGGfSTa392RgoRGqDva9rQIWfvzjH8cMG1VH8CjfkDLo/J6NHvw5yoN5Hl9jUS5kYKFR6ub7q6VAW4EFE4rjPwmWdOZglxZ0xhlnhIceeigqX6L4/Z8jXHkjhtBYpWRMTBkC9itQmzg939l3z+TsVXaIYa6sDGctpZLz3+bLxXs4YJU4WGyxxWKdTKCI+skpGpGzggMf+MBRW7x3rM/67H1Qe1kQ6ZkGzr4OnMdKKug3YVxazkaqk8iwW2+9NWZEuF62AsUgbebMmZZKNBTbAzABLhDCnq9PaFduP4lqGamXr2sUWLCYo7lMFrSUOSM1k4IDYEJ7hrVyLMZaRgJQB4BQztHJQDeeMh5EObkfQGQePPLIIxXBoNQGhguHF/BMBHdx7H2mdGnXIYccEjOFtIcwYqgU+bCXxzS3vb0UaDewQOmz/uJbcoWBcvzxx5fN8qFcMbavuOKK8PTTT8c5aq5y/mZgrb180qm3NQNYsFZbs63d1lhRRhdeeGHUHVI2oUxF+xzRY374wx/G/aO8G7/WA+KTybISOWxT5Ks1PAMLneKk/nhvo8ACZxB9E29zoNI3lNncdttty+qc9j3jAL3uuutigJAI06SzNsOx1B+jknvRKQo0Ciyk+YCnzQeBYgLC7IeWbDD2HpvM7wKPGp0D5An959prr41lkZKen4GFTnFR77+3WcBC8kPwKwCT6d2nnXZaDPxJfCqq+r3vfW+0l+nweFlWP528Hl1JcBGfyfve9745dnMGFnqfJzvVg2YAC+QCvmRv0uOVxhNgsemmm87ZC1aQsBKqApKAY/ZZ5Zil+9czD8w9skV1GKXW03zLwEKnOGnw3ttWYIHj8vrrr48O12SIJ6Z3VnqIk97ZZBs3blysBf/YY49VlT5qEnPsElai9Tnfi89Pn0X+Ky8gulW5oi984QvhggsuiMZ6Qrpd6zoGUarRLePCpE2H93E0WBD222+/oI4sAKOIEqZ3prPnUzBXXXXVCGjoWylgImVQRgGnhfYBStL96ew5nM1KG1188cWxDfaA4Fy2MDHy1BsHiqR7Ss/AHO1W0glAYeGrZyFL9OjVc6PAAuXpq1/9aixbgZbKXIkwLfISfgc+HXDAAdHhf9ttt0VQx73lDg5+7Up7hpgPSoGNFu30zDPPxAgmgksUrTaUAmxFHlAixvOVXVLOQ2kkZbvykSlQKwXaDSxY44AJ1i3r5F577RXL0QBsizyePstaIBOOOuqoWOfVXjSMHQIwH/1PgWYAC2SrMkcyHq2xxx577JyNOROfkf0cScCF8847L9xwww1Rltu4kKFS70G224AcWE0vycBCvZTM96FAo8ACvZc+LKWfXiJgaPPNN5/jRE3zIZ3pQtZmjlYOJs5QGZOekYMZMk92mgKNAgtANgE6As1kmAkKAqQVbQCfBasJbjv99NMjyOZ6ztBG5gC7jZzhqFUKJgMLneam3n1/M4AFPgRBO+xRkdOXXnppDI7k2EzywJkewyZWOUKQIxtU4Bw/Ub0BP9ovc/mYY44JIsIzsNC7vNjpljcDWAAq0HGUiLzqqqvi/pgqlxTnAR7lp+GLsTcrH6lMNL7MRoJ9+RGBCwKq+QozsNBpjhqc97cVWCBwGMic+GnRL04wgobxQfnieGesQPgIi2od3hYDztezzz47rL322sMmsHdR7gAOJjHDBkLuHvUqId3enZRBWQIbbLBBVNqg7oCEcgchqF8iYil1KUq92Lf0Wf8onISo6BbvLu2bvRPSHgnaMxpQ4XkWDfSUZqudIua9A4CR+pLeXzx7rudb1AAoHHVF4KRcX/vxt0aBBUa6Ul7G3VhUGrNkWLjG3hwTJ06Mka3laIon8MaZZ54ZHaLS2pT6qsSDngG0kBmhHYCM0fgGH/h/4h/3bL311pEvy7Un/5YpMBoF2g0sMECs7+ZRmnOjrXX+h9/NC7xuvZQtxlGcj/6nQDOAhVRaDv+kNZbOUpSpPhfXedcxntWXb6Q8knWfgXLuuefG7MUMLPQ/z7ayh40CC4xewJmMyuJcGG0NNjfoG2kNdh9bgB6cj0yBTlKgUWBBFhuHEFsqzQe8XiobSueA69ltjQQ4sBVEqAK8BaFlYKGTnNTb724GsOAZ5AN71FxI+nk5e7RUV5KVKWqbQ7beg67Eb8Sf453KUwLw8pEpUAsF+F/23HPPWNnEPqz1+MYEFAHNzIMkF8rZDEkumCuuIxeAC9Xuy1muX+YBcIF8YYNkYKEclfJvraBAW4EFHRDpJLJDySJG8uGHHx6j+w499NBwxBFHxD0YRFArJcBZX6sxTskS/SG1ziYmIqMYQKL91KcX2fGZz3wmPP/88zGyPzlqTWBIt8ksAtZGQD7bU4FDQUTKaAdBCNDgQIBOQgrVt581a1ZE5H3WL8rfV77ylfhMC1UpqOAd6TmiwbS1mr+HH344ggroy1ATjQsoqOZe73nggQdiKmK59ozW7374X6PAgjQ3DspqaJ2usVk54176Z6XDWIhmktWCZ8aaC/ZlwAfpHbWe0WG0jIhK7cy/Zwq0G1iQ6WP+mEe18rnrzRPzpRHFLY9671CgGcACHYDRWyu/AcE4nuqNwktUljFBR2GoyIwTQJCPTIF6KNAosEDfpZvIcqx1PhSvp6c3EpVXT9/zPZkCpRRoFFjAw3TnIm9X+1kwGCdWI4f3y+IEbshg9+56HGGNtCHf2/sUwDPsTY5N+1wKgKz1YLeSD/TraudAui5VcGiUd1WBUKpSgKmAT23JR6ZALRRoBrCQfJGJv2s58zs2ajOwWYAL5gCfplLc+cgUaDUF2g4s6FASPIwKDlMAACNZ6pzalBS0RlJDE9EoW5zsyruod2yCSbOrJLSADCYiRc+k5qSv5+AAkJ6q7uzjjz8ewQmf9YtzuNL763lXvqdxCjQKLDTegvyETIHepkC7gYXeplZufbsp0Axgod1tLvc+Og19RtDFaKB0uXvzb5kCiQKNAgvpOfmcKdAPFGgUWOgWGrA7yQa25iAGiXXLOPRqO5oBLHRL3/lvgN/mQ86K65ZR6Z12NANY6Ibe/n/23gT6yzH//zczjMEwjLFvkRiUbMmWJHsjdagklSURSkfITmTLml3RjmzJmiiOlGPPLlKRGbtzwjDmOOb6n8f1/1797s/9ud/rvbzv5Xmf8zn3+/N+38t1Pa/tdb2er4UxjQcR4wC9pg4hEDcCDSEW4q6Uni8EakFAxEItaOlaIdAcARELzTHRN+lBIC/EQnoQVUmyjICIhSy3nsoeNQJ5IRaixkXPKxYCeSIWitVyqm3UCOSFWIgaFz1PCFRCQMRCJYT0e+4RELGQ+yZWBWNGQMRCzADr8aEQELEQCj7dnDMERCzkrEFVnVAIiFgIBZ9uzgkCIhZy0pCqRmgERCyEhlAPKCgCIhYK2vCq9v9DQMTC/8NCn4RAPQiIWKgHNd2TFAIiFpJCWu/JAgIiFrLQSipjUgiIWEgKab0nzQiIWEhz66hsSSIgYiFJtPWuPCEgYiFPram61IWAiIW6YNNNQmA5AiIWlkOhDylEQMRCChtFRWoYAiIWGga9XpxCBEQspLBRVKTEERCxkDjkemFKERCxkNKGUbFSj4CIhdQ3kQoYNwIiFuJGWM/POwIiFvLewtmun4iFbLefSh8tAiIWosVTT8s2AiIWst1+Kn00CIhYiAZHPSX7CIhYyH4bqgaNQUDEQmNw11tThICIhRQ1hoqSSQRELGSy2QpTaBELhWlqVbQKBEQsVAGSLikMAiIWCtPUqmgZBEQslAFHPxUKARELhWpuVTZCBEQsRAimHpVNBEQsZLPdVOr0ICBiIT1toZI0R0DEQnNM9E1xERCxUNy2V82bIyBioTkm+qZ4CIhYKF6bq8bBCIhYCMZF3wqBSghUTSxccsklZvPNNzerrrqqadu2rRk5cqRZvHhxpefrdyGQegReeuklc+KJJ5qWLVuap59+2jAodAgBIVA9Auecc47ZaqutzEEHHWQ++uij6m/UlUIgAQSWLVtmRo8ebdq1a2d69+6dwBv1CiGQXgReeOEFc9RRR5k111zTTJgwIb0FVcmEQAIIHH300aZVq1bmuOOOM999910Cb9QrhED6EIBYmDt3rll77bXNvvvuayZPnpy+QqpEQiABBCAWBgwYYFq3bm369OljGBs6hIAQqIwAOtQ33njD3HXXXWbJkiUlb1jhyiuvtILXBhtsYDp37myuvvpq88knn5S8QT8Igawg8Morr5hTTjnFbL311uaZZ54RsZCVhlM5U4MARPPOO+9sunTpYhYuXJiacqkgQgAEvv/+e3PbbbeZPfbYw24ShIoQKDICeGkef/zxZt111zWTJk0qMhSquxAwgwYNMjvuuKNVJMmwSB2iqAigPGVtwMgOI6EpU6YUFQrVu+AI/Prrr+a0004zu+66q+nXr5/57bffCo6Iqi8EqkOACAHz5883EydOLMsTrHDRRReZzTbbzKy44orWMnXEiBHyWKgOY12VcgQQpAYOHGhatGhhnnzySfPtt9+mvMQqnhBIFwLDhg0zG220kenQoYNZsGBBugqn0hQeATwWrrvuOkt+9erVq/B4CIBiI/D888+bnj17mjXWWMOMHz++2GCo9oVHgLGA/MLaIPm/8N2hsABALMyZM8esvvrqpn379ubOO+8sLBaqeLERwGOhb9++lmQ74ogj5LFQ7O6g2teAAMYZr7/+uhk7dmxZnmCFCy64wGy66aZmhRVWsApYiIZFixbV8CpdKgTSiYDLsQBxNmPGDLlCp7OZVKoUIzB06FCDN1unTp3Mhx9+mOKSqmhFREA5ForY6qpzKQSUY6EUMvq+iAiQYwH5hZAXCoVUxB6gOoMAxAKk8yqrrGJ23313kc7qFoVFAGKBcJF470A8KxRSYbuCKl4jAhALr732mhkzZoyIhRqx0+U5QcARC3gszJw5U6GQctKuqkZyCCh5c3JY6021IyBioXbMdEd+ERCxkN+2Vc1qR0DJm2vHTHfkDwEvsYD3scLk5a+NVaPqEFDy5upw0lVCwI+AiAU/Ivq/cAiIWChck6vCESMgYiFiQPW4SBEQsRApnHpYxhEQsZDxBlTxI0VAxEKkcOphGUVAxEJGG07FjhwBEQuRQ6oHFgQBEQsFaWhVszQCIhZKY6NfhEA1CIhYqAYlXdMoBEQsNAp5vTeNCIhYSGOrqEyNQkDEQqOQ13vThICIhTS1hsrSSARELDQSfb07ywiIWMhy66nskSAgYiESGPWQAiMgYqHAjZ+BqotYyEAjqYiJISBiITGo9aIMICBiIQONpCLGjoCIhdgh1gsygoCIhYw0lIqZOgRELKSuSVSgpBEQsZA04npf3hAQsZC3Fs1XfUQs5Ks9VZtwCIhYCIef7s4XAiIW8tWeqk19CIhYqA833ZU/BEQs5K9NVaNkEBCxkAzOekuKERCxkOLGUdEygYCIhUw0U2ELKWKhsE2vigcgIGIhABR9VVgERCwUtulVcQ8CIhY8YOhjoREQsVDo5lflQyAgYiEEeLo1HwiIWMhHO6oWjUNAxELjsNebKyMgYqEyRrqiOAiIWChOW6umlREQsVAZI12RfwRELOS/jVXD6hAQsVAdTrpKCPgRELHgR0T/Fw4BEQuFa3JVOGIERCxEDKgeFykCIhYihVMPyzgCIhYy3oAqfqQIiFiIFE49LKMIiFjIaMOp2JEjIGIhckj1wIIgIGKhIA2tapZGQMRCaWz0ixCoBgERC9WgpGsahYCIhUYhr/emEQERC2lsFZWpUQiIWGgU8npvmhAQsZCm1lBZGomAiIVGoq93ZxkBEQtZbj2VPRIERCxEAqMeUmAERCwUuPEzUHURCxloJBUxMQRELCQGtV6UAQRELGSgkVTE2BEQsRA7xHpBRhAQsZCRhlIxU4dAosTCRx99ZB5++GEzatSoqv6eeeYZQwHjPv773/+aZ5991lx99dVVlevee+817777btzF0vMTQiAssbBkyRLz2GOPVdV3qu37la675pprbB/86aefEkJJrxECpREISywwn44dO7bqOdg/Pm644QYzadIk8/XXX5cu5P/9snDhQnPfffcZxpD/OaX+v/76682MGTPMP//5z4rP1wXpQyAMsfDVV1+ZKVOmmNGjR1fsL7fffrt56qmnzL///e9QILzyyitm4sSJFd/n7a933nmnmTt3rtGaEAr6QtwcllhYtmyZ7Wt33HFHTX2U/oqcfe2115qbb77Z0Gfvvvtu89BDDxnk/Xfeecd888035n//+18h2kGVTAcC9RILKJ+eeOIJc8stt1QcB6wfDz74oPn8889DVfqDDz6w8ot37q/0+aabbjIzZ840rGU6hEApBKIgFhgT8+fPN5MnT644JoL6LXI5/XXMmDH2GQ888ICVqV5//XU7dni+1odSLajvo0IgDLHwww8/WJmGfhzUx73fIQdNnz7dfPfdd6GK/tZbb1lZyvvsSp/Zr8yePduwP9IhBKJCIFFiAeXRuHHjzKmnnmqOPvpos++++5qddtqp5N/gwYPNrFmzoqpr4HNYSFkEzzrrLLPzzjsHloXvDzzwQHPccceZoUOHmvHjx4tYCEQzm1+GJRY+/PBDO6GjXO3Xr5854IADTLt27QL7Urn+Xstv7du3N4888oj59ttvswm6Sp0rBMISCy+//LK58MILzZFHHmk6dOhQ1dhhXubaww8/3AwbNsyuLdVsnN9//32DQHXCCSeY/fffv+xY3XXXXe3cP2jQIDvvf/zxx7lqt6JUJgyxgCKI/nLGGWeY3r17m86dO5eUFfbaay/Tp08fuxGuhuQqhf/zzz9vILOGDBli5Q5kpSD5ZLfddjO9evUy9M+RI0faNYFNjQ4hUA6BsMQCm2CIgMsvv9wgp9Pn99xzT7PLLrtUnLvpx1y3++67m44dO9o5uEuXLuaII46wc/I555xjIIqR/T/99FOD4Y8OIRAnAvUSC/TN+++/31xwwQVW9mefiGweJMvz/SGHHGINID755JO6q/Pmm28aCD1kLmQYnhm0NlCGww47zF5z3nnnWSXt0qVL636vbsw/AlEQC4wJ9tQoVU877TRz/PHHW11PtXti+jJyzd57721lrYMPPtgwPo855hgrg1111VVWzmHf/csvv4hkyH+3bEgNwxALGF5g6IYsg66znE4IOYh5GtL5X//6V911ZQ8NwY2OcsCAAfadQesCshd75hNPPNFcdNFFZurUqSKc60ZdNwYhkCixgFADO3brrbdaQYzNxKabbmp+97vfmRVWWKHZ3zbbbGPOPfdc8/PPP5vffvstqPyhvoP1xroP6ykGW1AZ+K5ly5amR48edhN111132UUzjNIgVKF1c+QIhCUWUDy98MILVrHJRN2zZ0/TunVr86c//cn8/ve/b9av1l57bdOmTRuzww47BP61bdvWbL/99vYZW2+9tdlkk03MGmusYf7whz8sf9Yf//hHa9ERZiGKHEg9sLAIhCUW2CRMmDDBbhz2228/06JFC7PKKquUXBtWXHFF89e//tVuWFBsYd306quvmh9//LFiGzBmnn76acMGpXv37mbzzTdfPq7cGsBYW2eddez4hOzAyhbLRHksVIQ3lReEIRbYJODRiEfN8OHD7SaXOZr+wTzs+ow7M1ezCaaPff/993XhAfn1+OOP236N8vbQQw+164B7B+e11lrLQHydfvrp1puCDQLrkDwW6oK8UDeFJRbwyMG7AA/k2267zcrpEG7rrbdeEznF9Vfm63XXXddsttlmZsstt7R/yDXIQszz7jrOK620kh1bkBUoUN944w3rAYTSS4cQiAOBeomFX3/91eBdhkfbxRdfbAk2CISNNtrIyv/efu0+M5dzPZvveva1kBKQehjpIZcwTrbaaqsmY2jVVVc17J9RMHEN1uOsR9UYXsSBr56ZDQSiIBYYE0SnwMMXmemKK64w3bp1s3I264AbB94zsgzrAbqWVq1aWb0Q68Wf//znJnto9tN/+ctfLJlGv8ZDE+M6lMA6hECUCIQhFtBZzps3z+5pzz//fGv8g45x/fXXNyuvvHKzMcC4QG+EPFWv9wCe+HhL4wXK3hZDjS222KLJu1ZffXXD3uWUU06xes977rlHHgtRdho9yyKQKLGAIp+FiwELq40HA1aqDKogcoFFBAtAFqk4NsssgCiZ9tlnn5JCIOWCeUeYo9zcQx3kipefERSWWHD9mr5Bv4Z0mjZtmhWkIBe8AhSfYYsRiNgw4y3j/8PlkzI999xzlk3GGopxwKLgnsXm2/XL/LSEapJVBMISC2yw3fhZsGCBFYzYGNPPXZ/3niEVICCw3kOIY27mGdXMy268cg8WsVjzeZ/NZ5TDRx11lHnyySetAoBrNe9ntXcaK6xjQLDjjjtaIb+Wmnj7C/M71too8FHobLjhhs36DjIDMs3AgQPtPF/Lu9y19GUnK9H3CLcHqeGVkzDMmDNnjsFDgWucbOKeobMQKIVAWGKBMeHmbPoe8jkGFmxmvXKKm1fXXHNN07dvX2ucg7IJAx023MhCzPN+Aww3hiAeUErh5h82vFgpLPS9EKiXWAA5Nw5YG5BFkN/PPPNMK/9752s3FjBawMuA8Kn/+c9/agbfrUfM94w9xh3KJO+7tt12W/t8fvOuDdyrQwiUQgCZA29JyF68gbG6rufwyi9uT3z22WdbYyA3DrxnZBl0QRDJhIDE+5L1AotrFLHevs1nxhAyOsZ5GGAQPk+HEIgSAeZNZHyILozLGBu1HFzv9rTI6C+99JL1LMaY2tv33Wf2DHgfQxrXc7gx59aFzz77zJLK3rGDdwSeoI6Mc3sGrQv1IK57SiGQKLHgLwQbBaxAUewHbUYYcFiTolhdtGiR//bQ/zPwEMiYOPwbG94NWw67x0DE5U5HPhEISyz4UWGyxprv2GOPDVQ8EVILyyEWGyys/X98j6Urg/OLL76wxBrCHoIXijH6JgpXFGUKzeJHX/83AoGwxIK3zGzO8WDAIm+77bYzWN854cudsVpi40O8YQSqeg/WIOJQeoUvNitYiSMIIoDVKlDWWxbdFx8CYTwW/KWiP+DFgKUqVqoocYIIMCzwCFWBook+HeZA/sCjh3exAUHhissz9QrT/8OUSfdmF4GwxIK/5mxM2YhjKUcIFjdPuzOeCihSmdeRu/H8wmAI4wo20oQaQ4mEzO3u4Uxfx3K1U6dO9n4pkPzI6/8oEAhDLPjfj/yO/E+fxkoVBai3T/MZbzfIBfp+2HCmjDsIZsYP+2jeh6IWozl+0yEEqkUA2SYKYsH/PvbE5NIhpKN/LPA/oe8wNGVtoN+yr4VMpizktKQ/49XgvRedDesFXpuMNe7TIQSiQiAsseAtBGyxJgAAIABJREFUBzI6Oh2MSMkhgl7R76lJ38ajAc8F9p71eju790LoPfroo8vf5Yw7MIxiPOoQAnEh0FBigUphcXrSSSdZQcu7aLjPCEooU0k8FaXFkhPGDjroIMOAc+/zntm8E/uMyUBHfhGImlgAKcJ+YXWB27+3T/GZ2HZY+NXCEtNfEbSw+iA8EooslJ9Yd+sQAo1GIEpigbog+OBNcMkll1hywav4ZwxhxQQhTNLPMO79KLrIz+DGKNazjDEICwQzHflAIEpiwSHCnMwGAAV/KcMIXPuJM4wCtZowXe7ZQWcs88gJQt/nucz/OoRAPQhETSy4MqA8Ip6wm0/dGTmI8F5Bcyrj6Msvv7ThvCAQ/GOJuR+CAYMMvDhFpDm0dY4KgSiJBcqE/IJy9MorrwzcAzAuUJRiEUvIGDbiYY63337begtBwm2wwQZ2rMgYLgyixbw3LmIBNCHR8EJwa4L3THz5IOML5nqIOkK24A3HmPEbgfL/P/7xD5vQnPLXsq8uZiur1tUggFwSxmMh6B2sC5DOGEszT3vHgPvM9+QlgSwOSy4QGYPQexji4SnBXleHEIgbgYYTCyhwcIkuNcgYbGwsolaispEh1wMKWr/Syg1w4sUSK5mJQEd+EYiDWMB6YvTo0ebvf/97s8WjHmLBoc9iw/30W6xlsfLQIQQajUDUxAL1QbAjBB0hZbDwc/OyO+PJgLIJJRnX1nKw+UDJRUgOrKjYnKDQQgn84osv1vIoXZsBBOIgFqg21j9YBf3tb39r1j9dP0Wov/TSS60RRZBitVr42JijACO8Hjl4WF90CIF6EIiLWJg+fbo1xnF9353LEQuUHwUSXkBYrgZ5PPAcwo6xD2As6xACUSIQNbFA2TAegkzbY489Sq4N7D0xrMMym7BI9SpF2UeTT4ExQlxtyO4wa02U2OpZ2UEgTmKB8JH0dbcmeM+liAWHHEYZXNOxY8dAS2/kL/YCeP/IGtuhpnMYBOIgFigPZAF7zCDdkBsTrAuE08NwKQxBjFc1yaMJHcz7yAGqQwjEjUDDiQXcoS+77DKb7MoNqqAzYS9graM68ICAjQx6l/sOsoOFEOFQR34RiINYILYpSQ0JXeH6kzuHIRYYsMSghFggsTkePzqEQKMRiINYoE5sdGbPnm369+/fbBwhfK222mpmxIgRNbtBI6wRtx6PNBS1uFRDMLAuaEPe6N4U/fvjIhaYj/EkKEcsQFrhFUk/pc/Ve6AMJu8HLtTt2rWzhhH1Pkv3FRuBuIgFrK+xLHWyjjtXIhZoDZSq7Afw9HT3ec+MI/o/VnjyWih2/4269nERCyj8yxEL9G8MGpBvuLZWAwmHA56XQ4YMMRtvvLH1aMbrUnKMQ0fnahGIk1h4+eWXLeHlndPd50rEAmsDxnrogIKMUFkb9txzT5sTDYJahxAIi0BcxAIeOBAG5YgFxgUh7TB0IylzvfIOYVgJx0r0lTZt2sjLOWyn0P1VIZAqYoHNNxsQYlyjMHKLDmcYtzPOOMNuzOu16gAR7mVgY+2NaxBJgLD+22qrray7kPedLGCDBg0SsVBVV8ruRXERC8R9jJpYwBrjvffesyFi2GCHjc+a3VZTydOEQFzEAnWkjxNig42DPy4l5AIJqW688Ua7ka5mbUBIW7x4sbUIIaQMoWUYp8RyVZzWNPWq6MrSSGIBmYKNL3IGeXJcQs1aa4cyGOsjxgBxhSGudQiBehCIi1h46qmnTI8ePZrI7vT/aogF6oFl6uTJk23oI+Z2rzzOZ8IsTZ06VXlv6ml03VMSgUYSC/RzcgkS/gLveDwdaj0gFvBSIK8PCqtzzjlHxEKtIOp6O6/GkWMBaLGeZp/gn9P5vxKxwP149Lz22mvWIwd5yv8cFKc33XSTDaunphQCYRFoNLHAukDYa+Z1PPfp/7UehGDFkBXDJ/YfV1xxRa2P0PVCoGYEUkUskLiEGMLnnXeeFZD8C0fnzp2tgimMqxtWHChku3XrZjf7KJWw9OjevbtNEud9p4iFmvtTJm/IErEAwOQawbIPlzosTHQIgUYjECexQN2w2rjuuuusgoo52ztPE2qGGKsoy6qJSUni0ClTphjyKRBOCVKZ2JOQCmHWlka3gd5fGoGkiAWS1KL8xEKIuPDefoqXGQk2CWEEsVWrdaqfWIC41iEE6kEgrcQCpC9eYy1atLCEr3f88Ll9+/Z2/EjuqafVdU8pBJIgFogPTxJa1og//vGPTdYG1oqNNtrIhgVGeVqrEon9gIiFUq2r76tFIE6PhbDEAkZDKFj33nvvZnl4WBswEho+fLjNb1htfXWdECiFQFLEAiHX2b+ib2SP4JV5WBfYnxICEoPSWsMiiVgo1br6Pk4EUkcs9OvXz+C+g/uoX/iCeOB3Cl3PxoJNCzGRyemAhSqDmMFMjOSzzjorEmKBxQ+hkPegqCIB6aJFi6wimES7CIAsjlgtcg1K4lqVWdSDCQZlCUoykoTxh7UXuPA7iZDII0HoBZRyKDL4H+tf3guG1fzh3cG7giyBeQ91LfccFH1M0EH3x9mxa3l2mokFrJdoMxLU1qqIqgUDXSsEwiAQN7HAHMm8Sfg6NuBe4YvPhAAgxioWf+VCADCXEbrm8MMPt+uLC0NASDGNrzA9IN33JkUskCgNeeLAAw+08oTf6pqwW8TAxir7s88+q8nFWcRCuvtYlkqXVmIBDJHHGD94MPvneazuyFdSq8ycpbZRWZNHIAliAUMG8uQce+yxllzwW13jPU8uKUKBsU+sZY8rYiH5PpPHN6aZWABvdBjI+Xjm+NcGviPsC7oOHUIgLAJJEQt43D/33HPW05O9rX9dQE8J+YA3Dn0bvVu1h4iFapHSdVEigE4YA4kxY8aUnY9XIIs5oYOYzLEmIgkICvOwBwKRy7EAcUDoIRTkWJC2atWqyeKB4EWYJNyt6wkBg7IdxRNWg5AWDGKSM+NGShnWXXfdJu+r1WMB5TkbHgYz1oS4IOEJAUmCSxP4wT6yacK6hFAGxA+vNfwG+BCPc/z48VZIpT477rijtfSCNECZT6PiDouXBy6Ce+21l2Xzsfq95ZZbbIPT6JX+HnnkEQMhEqR0oxzz588v+4xp06ZZcqVWpjVsv6rl/jQTC3jX0GaE7oJE0iEE0ohA3MQCdWb+Jk5r165dmwlfWHbg7onwVW5dwuqDuZdQeyh9Dz74YBsCCTIizeRnGts8S2VKiljo2bOnlSfmzZu3PNGydwNMn0P2YL2+8847bVjGanEUsVAtUrquEgJpJhaIP3zIIYcEEgskdr7qqqtELFRqYP1eEwJJEAuQYm+//baVYU4//XTrLeknntnjsldkv82aVS25IGKhpubWxSUQyAKxQJJyp4vyylbopYg+gQGSDiEQFoGkiIVOnTpZ41/0UITDCwr3y7rQunVrc80111j9XrV7VRELYXuB7q8HgdQRC6eccooVprDsIFyRd+HgM8r/vn37WoV2tYPLAYPlPpuSDTfc0CqVcKvGehUBjthjYYgFgCTTO8p8yo2yH5dXmEYIkrZt21qBEQtZ8kXgtsc1KP4haZhUSh1McF9//bUN4XTHHXdYxRiWkcRZhqUnnAfvmT59uiUUSO6LwgwBFasvQofwXkgN7iFW+S677FLxD/cs8CJ5dRCxQJ1J1gc5s88++9hne58LoYJ1wdNPP229GkrVr9Hfp5lYuOuuu2wyRPp8OYVpozHU+4uNQBLEApYakKYoZEm07F8bIBeY08eNG9csJBIbJohQCDqIVuZE5mdIVm1E8t93kyIWevXqZV3xWRsh1fmfTYFXgcRnkoUfdNBBti/j9VeNFZKIhfz306RqmGZiAWMbrLv9G2zme8KM3XfffVUrXJPCU+/JNgJJEAvsATFs+Oabbwxx7FGCkqDTuzbQx10OHcJfYExUDbkgYiHb/S8tpU87sYCXJ2tAkDcbcv3NN9+sHAtp6UwZL0dSxAJ7WSKbYCyN0TTEGXtZ/7qAno8wYDfccIPVp1WzLohYyHgnzGjxU0ksQBggfI0YMaJZ2AsUQoS9IJlnLV4LbN6ffPJJ06FDB2utiiIetzneg5dBGGJh2bJlVnmOhwKKfiwSsYhFkY/ASpglFPR4RZB8cbvttjOERHCKMf7nGrwQghJ34WXBZDJw4EDr/UDZ3b3ujLUu3gejRo2yCgv/pOSuY0HmfZAGeIig9HC/uTNKj912282ceuqp5v7777dhm4ImMRR1r776qrnyyisNRIcLUYIrF94eCACXXHKJJU2qiX3eqDGURmIBvHH7JGE5AhP9iM2DDiGQRgSSIBZcvSGIr7766sBYxbiN9u7d24Yc8CprWSsee+wx67nF3Mv8xPxGCCTvde4dOucLgSSJBZRByBTIFqyf++23X2BMYAwMiLlNv8RwoJKhhIiFfPXJRtYmrcQC4wA5FkOYINm0f//+dRkVNRJrvTv9CCRJLOB5yX4Ib2SIZwzd3N7LndmD4dU2duxYa1BUSUYRsZD+PpaFEqaZWEDPQsgYkpP7Y9EzblC6MqYI36xDCIRFIGligageKGQhF9gXoNNz64E7k08QHea9995bVShVEQthe4HurweBVBILriJPPPGEjYXtBpX3PHjw4LJW/u4Z7rx06VKrAHcKd5JEE+fYHWGIBXJCoKRyz6acW265pcHdldwHztof4ZBykJwaa1lvffBgQFkWZD2LBwLeBxAqkAFsurz38hnLF8JI4QWBxQveFyguYDm9GzTcBSFU3nrrLRumiSST/mfhZnjjjTfa/AwOn3JnBGUUKLh08SyIlcMOO8wqTMrFOy/3zCR/S5pYwN0NpRP5NSCSvH98x6aDHBwPP/ywTWZOW4pYSLJH6F21IpAksUDZCPXGOGJs+GNSQnBCwkImMPcyB5E4zglrzIkdO3a0YfGCiNxa667r049AI4gFUEFRilckIVyCLLBJ6Im3H1balTbEIhbS38+yUsK0EQuQaszVeLfiAeuXSfkfuRfvXgxadAiBKBFImlig7MgehHbEwx0iwd/n2Uexn5swYYLNi1euviIWyqGj36pFIK3EggsxTUQI9Br+sYJMf+SRRxrIhyAjyGrrr+uEgEOgEcQC76YPQ5DhyYCBsr+v8x2Gvw899JCNtuLKG3QWsRCEir6LG4FUEwtY/t16661NFPZukKFov/7666teRB544AFrpc/9EABnn312EyV+GGIBQgA3V1c2zuRRwJofRbHXEpHJCtYdxZf3ehQMWDZCUvgP3KSeffZZqxxDSYGrlJfE4Dko13gGyb/wFIA0wUsCzwTn4cA9/P/ggw/apMs8E4sZbzn4DIGBdwWWwdUcbPTIA4AQ7MrBO1DseetezbMacU3SxAJhqsAHS1Xa0/3xP27+xIk/7bTTbIJxNhwiFhrRK/TOWhBImlhACQtZgJWSn2jFjRQvH9YHXKfx+MJzCmsPSFZIBTbrzM2VLAFrwUDXpheBRhELbHJZB++55x7b7/xrLf2ROb5Hjx7Wo7JcfxSxkN7+lbWSpY1YQHFELi+MY4IUR8iu/fr1M7NmzdKcnbXOloHyNoJYYK7HKAtP+qOOOqrZPow+j3cl+0LCP5ZbG0QsZKCTZaCIaSUWMLgkMgK6DK+hpJOnCCtJFAvGSBZ0DhnoCoUvYqOIBfowpDOhVIkE4vq4O6Njw0gJXd7UqVPLrgsiFgrfjRsCQKqJBVyDXnjhBWsJj9LcDSzOMNS4RTNw2JSUOlgosRokpAwup1iBkGMABS7hkdwRhljAW8G/GTr88MPte4PKhtcCSi9vfZgotthiC8tUujK5MzhgxU55Sc4M2YJVrn+BZcLhvdSNhNAkpWYjhmv5+eefbxdmlNgo2zh4Fr/BfnKvKw/hkrDuJWdEpUUafHkX74XUYOE/4ogjzLvvvls16ePq2ahz0sQCbYeVKvk1/H8oSslTgQcLYb9oExELjeoZem+1CCRNLCB8oSwmBwmJ6d3c5c54cDGOyElDIkSIXzbqhKcjxB5kbbmNerX11nXZQKBRxALosEZiJEE+D+fV5/opZ/olsgkGA1hsl+qXIhay0deyUMqkiQU8dHHxZxywaWZMsHHHc3P+/PlmypQp1lMBT1/Gg3d8IFsjJ+HB+dVXX2UBXpUxYwg0glhwELE/xfCNMgRZqBISAwUT+zr2bEGHiIUgVPRdrQgwL5P/A30EIVcmTZpU6yNKXo8hEPsE79zuPpMbYfHixdYbza0NyGzoMB555BGbV5LQYP61AX0OedXQiSDT6xACUSHQKGLBlf+LL74wRCs55JBDmun6GDfo2vDSYXyU8rwXseDQ1DlJBFJNLAAESnAWHTwU3CLkzljIkyUd69VSCnAGHBsaQh+xKGG1imIJxbf3CEMssFg6rwDKhnCIkgAiIKhcWMoSI83VgzNWtpQNb4ZKBxssQiuwqLpn8JncCVi2+IVPMIDx53tICu9BSCQUbwgSbtEmfiExyLHqxdqy3MHij+cD7QM5QbmYDNkwZuVImljAwpqQVJAHbKTdH/+To4PwVFgqufYQsZCVnlTcciZNLIC0U9gyfzF23FzozowfPMd22GEHK5gxx5EHh42TjmIh0EhiwSGN8mf06NHWmwbDCNdP3Zk+fNJJJ9m8H0HhXkQsOCR1DotA0sQCMg3hS/FsHTdunPXgwasW70yMfpinIYPdWGDuxpho++23t3nJkEXZaOsQAnEg0EhigfpgnAW5APHsN1JjTLC/7Nq1q5kxY0bg3krEQhy9onjPbBSxgIIUjwT0F3h3QjTffvvtNvQdRosuf6NbH9hDYySEAST5J99///3iNZZqHCsCjSYWqBx6u/Hjx5t27do1kY/cOCC6CN5uc+bMsfkZ/ICIWPAjov+TQCD1xAKKcIQu3EG9inQGlouVvWTJEhtH2w8YSn02I2zWUeSiMN98883NvHnzrAuq9/owxAKLIRZVhDTgD+tYFsmgg4UbRT9CpJscOLORglzAw6DSQe4JLNu9CaDZhF188cXNCJNKzwJfiAHyKjgLeVcucMNjJIgccc997733bM4IBF/wRfgFcyblrBxJEwuEacHL5cwzz7RJu0nczR//Q0gRKmmbbbaxG2swFbGQlZ5U3HI2glhwaL/00ks2dBjrgyPj3BzmzqwVJH2DZPZ6qrln6JxvBNJALIAwVnl4K7IpZr13/dOd2SgMGTLEvP32283WUBEL+e6jSdYuaWIBoxMMbpCPmYuRXflD5uSPz3zP7xAMEBHEGIaIw2pVhxCIE4FGEwvUjdjakG2EavTvdVkfGCN9+vSxXm3+3HUiFuLsHcV5dqOIBYx+mPtZI/hcam2AUCCiAl4K5KrE241wYjqEQNQIpIFYoE5ffvmljSyCITX6ILdXcGd0f+iN0Gv61wURC1H3Cj2vGgRSTyyg1GaAky8Aa3g3mDizWcHKD2Y7yA0OQQ0PACz5EdSwDEeBSygif7iBMMQCXhXExyex3LnnnmsTGQflJ2DRXrRokXXpxnLWWxdXn2qIBWJyEkqHxdc9A+UzTD9Jf2s5wBdlB2X3W/3yP7kWIB+CyAXqQ7233XZbWxYIFXCkvYKur6VcSV6bNLFw9NFHGzYC9BtCA3j/6Mck/CbXBljS50UsJNkb9K56EGgksYAHGIQB1n54fbk50XuGVGDTzljzz/311Ff3ZAuBtBALrKXM+xgBYI3t7aN8ZuNASEE2zf58SyIWstXn0lzapIkFwrlgOEHyzZNPPtn07t3bJq0lNjaGFD179rTfX3jhhdaLAcMbyDXCxDBmdAiBOBFIA7HAfgqvcvaz7O/8awP7XbwZjj/+eDN79uwmcIhYaAKH/qkTgUYRC+TPIVwzuQXZHzMeWRfIF8nnE044wa4d1157rfVmwJgIg1NIBcnzdTa2biuLQFqIBcpBBBD6PmHL/esCIdExxMAgiaTP3kPEghcNfU4KgdQTCw6Il19+2cZg9ecVwLoJbwGs7hmA3oONyfDhw60wxn2EQ8ICH0WU/whDLPBeYr+SJPTNN9+0yn02Qyx4KDRg1Ql9xKbp2GOPtYslFov+CQJr22qIBdxhqTPMvnsGHgOESKonBBFhF1577TWLj/eZEBcklSTXQtDmDk8RcMPSDKEX4YANa9aOpIkFSCW8VsqRL/Qp3DvxGoG4Qbhi86BDCKQRgUYSC+ABYUA8WMaK3xJ8/fXXt5Z+EMpB81ga8VSZokUgLcQCtWLzjpyAEQJGD24N957xanMeiFzPIWIh2j5R5KclTSyQYwGDGORM5C3k9ZkzZxq8b/keRSnfI7NjfAOh4Jfni9xeqnu8CKSBWHA1xCjtxhtvtOEvvPsxtz6Qi489xKuvvmpj0nOfiAWHns5hEGgUsUB/Z20gDwNrE7mmWBfICfnMM89Ya2xkJvo5ERHkpRCmlXVvNQggf+Ah1qpVK5vLwMnh1dxb7hpCt0OMYezGnI5nJgallfam6IPQt5FrxL/H5TmEIz/99NOtvtF55YtYKNcS+i0uBDJDLEAGEEuPUEbecBcotBG+CC+AcskdXE+yK+Jr42pN7Pphw4ZZhW4Qwx2GWHDvdGcU9SjdcU0i3wBeEjDvJGik/Fiht27dukk9mBiqJRZczgiv0BmGWEDBzSSKNZmf8EBRRwxzCAs/bo8++qhN2kwbYJFGvot6iA2HW6POaSQWHBbEIIYQE7HgENE5jQg0mlj49ddfrcsoY8WfAJG5lrw6UQmGacRfZSqPQJqIBUrKmgthj0yCXBAU+oLk44RUdJsOEQvl21i/Vo9A0sQC3sJsjP2u+tWXWFcKgfgQSBOxQC0XLFhgRo0aZb3a/PIMe0X2kawdKGPZb4pYiK9vFOnJjSIWHnzwQZEFRepoGahr2ogFIINcI7oI8pRX/8eawJ/T1yFrYbwqYiEDHS2HRcwMsQD2uPlgwR0UZwzLesLyOCtwBDMU5U5hz+9YR5U6whILvJdFGaaQwQzRgVcBMQFhF4kfSB4DLE0gPEhIzfdekqRRxILDhAQweB1AFLiJCk8PrCpJ8uy1EqCuuC6SVAnPBpLv4UmRxSPNxMJDDz1kBg4caBnzoPBaWcRbZc4fAo0mFkAUMpkQG4SScfMXZ8jlyy+/XMRC/rpd1TVKG7FAwSHq2Sj079/fbLDBBk3WXdd/2UCQuBZvG8I6EiaADcWuu+5qQ2ZUDYAuFAIeBEQseMDQx8IjkDZigf3kt99+a84++2yrLPLuydzaABl9ySWX2Lx67HeHDh1qDeiwhGXvKxKv8N26ZgBELNQMmW7IKQJpJBZYFzBaJkcnnmtB6wJGvhhhQzZDPKNz5DtCr6Ln1CEE4kYgU8QCgtbUqVNtHG1/SCQs9vEM+P777+2GfezYsaZDhw524GHxgfUHSVBKHWGJBaxGcOMmNjKEAhYlJFUhJmb37t0tkYAHA8phrPoJWwRBkiZiAeULExLeHW7ConyEEsHi94MPPrDw4bJFeKcjjjjCWloS1xwiJauK7zQTC8SRJNY21q30MR1CII0IiFhIY6uoTA6BNBILlM3JDRD6JG52SiN3hrTHFXvMmDE2trCIBdeiOodBQMRCGPR0b94QSBuxAL4otsi3Rsg8wly4NcGd2ZthrIZHOSFjRCzkrVcmXx8RC8ljrjemE4E0EgsghfEyRPLgwYMtueDWA3dGrwjpgM4Tw1QRC+nsX3kuVaaIBcJdYDl/+OGHG4gEN5A4owg/5JBDrFcCTB1W3liuEv+fJECED+L+UkcYYgHCYtq0aTYHBK5IeCdAKrRv395a9SP0wTLyfudRgXV/2ogFysaG85hjjrHhoxy+WEiSkZ5JCqtgp6TBEhjShjPeDllVfKeZWGBxw1MEbP2hqEr1ZX0vBJJGQMRC0ojrfbUg4NYs4pP26tWrllvLXosAxfqORRDrJc8mJGM5WcP7QNZc5njkE9Zdv1zj1mASk/NsknpiqSqPBS+K+lwrAiIWakVM1+cZgTQSC+CNopf9CbkCMfgKCpnHmnbUUUeZrl272nVIHgt57qnx1k3EQrz46unZQSCtxAJ7BsYpMhyeC4RS9Rtas2/YfffdbaSLgw46yJCLVh4L2el7WS9ppogFwMban1BCxB/2DybCBpAcmezpbLz5nVA9t912m1m8eHHZtqqHWGCA4246ffp0m+TYlQfCoF27dsvzPgQpGdJILAAQJAmJpv1CLNYxuNcSuuHDDz80Xbp0sZnoW7RoYQYNGmQ+++yzsvim+cc0Ewtpxk1lEwIOARELDgmd04hAWokFh5WTIzCaIHyikyUcscD/eD+yLvNZxIJDTud6EBCxUA9quievCKSVWABvFFwk+xwwYID1UGB/6dYFzhjVYczWsmVLGyZPxEJee2n89RKxED/GekM2EEgrseDQo3yzZ8+24VHXXXfdZgmd2ScQTQQdHYS0iAWHnM5xI5A5YoGFD+ttwvDgjeAVsPhM3oK1117bxv3ndwgI3IaClPtecOshFnjmV199ZRPrekMaYb142mmnlY3pnVZiAUzw+MD6xR+rfM8997Qx2kjaDGED3h07djQzZ840ZLrP6iFiIastp3KnBQERC2lpCZUjCIG0EwuUGc+0Z5991noAoijyyzbe/0UsBLWyvqsWAREL1SKl64qAQJqJBfCHeP7000/tXtN5x3nXA+9nEQtF6LHx1FHEQjy46qnZQyDtxAKIEpacKC777ruvjZLiXQf8n0UsZK8PZrXEmSMWnBvQnXfeacMC+AcPCn4sOrDiaNu2rbn66qutlwP3lTvqIRZQpj/99NNWue4tB+EKxo0btzzsUdB7g4gFnvHMM88EXd7kO8Im7L///k2ywhNCgbwNeHSEPegUhD1CeeGtF+wnQisEA+GRsKA84YQT7DsrETdhyxTn/SIW4kRXzy4CAiIWitDK2a1jFogFQt19/fXXlqjfb7/9rOeCd/31fhaxkN2+mIaSi1hIQyuoDGlBIO3EAvtXiOe5c+ea/v3uQKg9AAAgAElEQVT7l1UiiVhIS6/KXjlELGSvzVTieBDIArHAnmHZsmXmueees6QzOjrvPsH7WcRCPP1ET22OQMOJBcLqXHrppTZOGO48J510UvNSBnzz/vvvm9NPP916LXi9BdxAwluBmMSwebB6lY6RI0daTwd3P+cNNtjA5mp47733Am9HCUDYpTZt2jQZzHhTPPbYY4H38CVC4pNPPmm9K/xlh1ioRIKUIhYgAyhT2IMJ9fPPP7d1BwMvJniEQCpQ7r322svccccdFcsbtjxx3x8HsUDS5VtuucVss802TfADS5Lp4HVTqZ3jrreeLwSiQiAtxELPnj2bzeMIVKwxbJp0FBOBuIiF7777zjzyyCPLcyzQ/7AsrZdodx6Zd911lznwwAOt56V3/XWfRSwUsx9HVeu4iAXkWsJ5uX7qzoQpffvtt6uSxaOqo54jBKpFIA5igXx07B2Jdc04wNDtnXfeMT/99FO1xWpyHfsF7sVjvE+fPnbviwGdG2PuLGKhCWz6pwYE4iQWCOdFJAfXT71nwlszXnQIgbQgEBex8P3335t58+ZZI13GAPnTCNVOUuZ6DsgFxs7UqVMtueD0c97xxWcRC/Wgq3vqQaDhxMIHH3xgExyjwF5zzTVtAsNqKsLGfdKkSVapj7LbP4gQri6//HKrTKpGgXvxxRc3sxDEC6Bv375WGAwqE8pjyA1iW3rfT7KUu+++u0myZu6nHFidfPLJJ1bpTAw0P7HAxowJDQFy4cKFlijwTzgQC1g0MoG490LKTJkyxVCmqA7w5T3uHe5MmcEcIeGNN96I6nUNe04cxAIJPCGdtt5662b44eWBokvJmBvW5HpxxAikhVg47LDDbFxJN1dxhtw7//zzRSxE3OZZelxcxAJE/oMPPriczMKogHWbNTzM8e2339rcUDvvvLP1wPTLCSIWwqCre+MiFiDZunXr1kzmQUZ+9dVX61aqqsWEQJwIxEEsYDzE/qh9+/Z2PGCA9tprr1mjojB1QTH1+OOPm7333tvumf1rg4iFMOgW+944iQW8bcjH6JXN3efJkydby+tio6/apwmBuIgF9iJ4GDjdEOHECdeObjDMwXPJjwqRvdpqqzXTLYpYCIOu7q0FgYYTC1hwoJRCiU+CEaydqj2wgLrgggsCcy1gFQ4rWO0xfPjwZgORXA2HHnpoSeX5F198YRVWboJwiyQhgvC8YKB7rWT5zAQCieH3cnD33n///YZGwdKFOkBQLFq0qEk1IB9gOf/0pz8tX6Qp6zXXXGPzIzS5OMQ/JGQGX7/g6hJJYlVZjTdIiCIkcmscxALkEe3sJ51oZxKMkyTb2zcSqaheIgRiQiANxAIbeebFlVdeefm8yHjbfPPNzdChQ+u2Io8JMj02QQTiIhYg8tkUs+bT1yC23nzzzdDrIkYIyBc8m5jarLlORuAsYiHBzpPDV8VFLGA1d/DBBzfpq24O5p247esQAmlDIA5igb7+wgsv2Dx/jIHtttvOMAZYi8IcrA0848UXX7TrgD+Zs4iFMOgW+944iQXyR7H39cox7vOYMWNsvspio6/apwmBuIgFwpU/8cQTBi9O+j+hxTG6YP8a5mBd4NnoB7faaqtmyZxFLIRBV/fWgkDDiYU5c+bYfAFrrLGGzYtwwAEHGKy9SVZV6cBygxwHDCKnZEfIIrHw2LFjrYK+0jOwGl+6dKkN++MWOXfmmVtssYVNqBikBCYMAsp1rArdPZyx5m/VqpU57rjjLDFAiCJyQowYMcIccsghdkIplZyR3AncR0iFTTfd1IYaAg93UA42b5AZXoES/CAzXn75ZXdp6DOkAXkb/CTG6quvbj05sEDIg9V9HMQCxFD37t2bJcCmf6B8gvTKAykTupPpAblAoNHEAtYeeL8xF/vDAzDXQhCzXgTN47loAFWiLAJxEQsYRlx44YWG9Ze5HeujadOmhd4kUBlkIIwKbr31VuvG7O3XIhbKNrd+rIBAHMQCG1tylRHyxSsP83nDDTe0sixhwnQIgbQhEAexAOl8++23Lw+Hyl4SBSoGW2EPPPZZ07BQJWSed20QsRAW3eLeHxexwNpARAW8bPxrA/+fd955NlRecZFXzdOGQFzEAjI9RsAbb7yxHQvISxgQRxXGHIOk8ePH21Dl3nVBxELaelh+y5MoscBAJRYYbv5sMLDmwKqbAYa3AgsMYSsYdFhjcA3Ke0IBBSmwWayITXbyySebzTbbzN5POCXiT3I/v/sPvoMZpAwQCvPnz7fv22233ZoteAxKwg2x6LERozwwgiRtZtOPMgtX1x49eixXLLhFk/oQngihD6UWCZ3xUiDkEwwl4ZLWWWedJuQA95J8Zf3117fx1wirMGvWLIsB1i+EWJg9e7a1vqWe3kmD9+24447myiuvtOQCFvPcA+ZhDnJgjBo1anmyMLwX2CROnDjREkBhnp2We8MSCwj59Gv6KpsGyJ3rr7/eeit4w1W5voHgP2TIEJuom1wh5LNA6clzgvpsWnBSOYRAKQSSJhaY15jfmI9ZA8hNwzwNqezGmTszT7KuQAJjGcIYZawyZkU0lGrRfH0fBbFAX2HNp+9A9iM7jB492nTo0GG5lwzeMccff7xdt1mvv/rqq+XrcD1zO+QzcgpyEuu769MiFvLVP5OuTVhiAXkcuZw5mI0shhTkFevatevyfCOur3LGGIXfCK+JzMM9bD5KyfZJ46H3FRuBsMQC44G5mnUGef7dd9+1Sv8uXbosHw94tREmDDIAIwjGANdzX9D+tlKLsJ7wDPLcsb90403EQiXk9HspBKIgFuiX6EfQkyD/oEhFPh84cGCgfE6/xSCD0MHkxISQQz9DOOh6xkWpuul7IVALAlEQC05OQtahXxNlBSNjQow7YyT0fUceeaSZPn26Qd9GNAvWBcZQPXsG9Ei8i/Hk8vswxkQs1NL6ujYMAokSCwyYV155xcYkRhgaMGCAad269XKBiM6PIhYXIRRVXEPMVhS1KF6DDhYvXOz23Xdfey/eC8Q8RuAKOhisKJKxxMd6BGUU1v/O48EJZ94zv+PCh/XJAw88YK3NGbgMegYxSuQ99tjDThReZb97Bt8R8wzyA0IBbwq8GJhc1lprrWb1h2hBAMUjgAmGxfn555831113nTn66KOXW8C453vP7dq1M4MHD7ZlhVxB8RbmQJHCcyiTqwckDJvDsKRFmHJFeW9YYgGm+fXXX7eWqiwa4B9kOe1tJzYZtOVll11mSRo8bxCm6E86hEDWEEiaWGBOhHRlPr7pppvs/Ew4uKB8O4w75l8sQ8444wwr2JEAkXjHKMZ05B8B1lEEbZTzvXr1qqvCbHRRGLF2jxs3zhA+ESMB77zOGkk/hFxgvUaJRE4k1ogwczsbjosuusiuw4RFErFQVxPqpv9DICyxwFj46KOPrMcwZMGll15q8DYmbJd3PLjPGKQwN+OxO3LkSGu9ykaaZ8hzU92y0QiEJRbow0uWLLH7VcYD3ukYlHnDyPIZL3P2duT/w4KbMYBhBPvSeg+IZ4wm8Ihg/yxioV4kdV8UxALPwLARnQXyD8YXGEk640+3JnjPyDTkIiEXGtbWyFgYbaJ/qEe5qpYUAmERiIJYoP8i46BvnDBhgu3f/ryl7BmYt3v37m2NePFeYH+KAVwYHRvrCrpJxh2GxyIWwvYI3V8tAokSCzNmzDD9+vWzCngsmFDm+xVBCF8sMgw0rsE6fq+99rJKoKBKOUYQZS4kBWFmsCYsxXRjbeiESJ6/6qqr2vd5BUDvgsdnykNZCakBy0iYIggPd0BiICSyseJ5/vu5F4U/nhhYqmApi/cDxAlCIBOLu2fbbbc15557rl1UEVZZVGfOnGnD6qCM5lmUx13vP4Mn2OENUWueCVcf7xkhgXAPkCtMTmDMxjAsYeF9R6M/hyUWSMQD1vQN+hT4+/u1v53ob7QlCk/uIf7qSy+9ZPtGo/HQ+4VArQgkTSxAKkBw4hXGvMxY8s6jQeONMcn8zHjDspzQcVhI6cg/AlEQCxgTuLBHTnbwhiN0fY5+SH908gJ5dthkh4mhyjoMqQERzbtFLOS/z8ZZw7DEAvIr8ixkLf0ROQb5sNwczPjgGifzIC+x8UUm1yEEGomA2xP279+/rv6IURBe3Hice8eDWxO8Z3JAeccAhmasT/Ue7HVRQkFosH8UsVAvkrovCmIBZSpKVMI6M8cjB9Hny+ktGB/IUk4+5z4SPSsXofpkoxCIglig/0KsOd0Q/RsZyLse8Bl9kFsXuJZ1BHKtlEF1NZgwlj/++GNz8803W4MkEQvVoKZrokAgUWIBF1GUuFiZVvsH04cbXbnNB8p3EiZyHdb15SygsAwhBBOWItWWwX8dngTevAdMQPyP8gC2/aqrrrIKCJQQWNPCQBLCiEHuGHhcwGH1YSZvuOEGqzBAwCTxCt4AKCEcUw9xQZmZaPxlKfU/cZ7xDglLANBmkCa4a7FpxLWX51L+vBxhiQWsp8GkVFtU8z3JfOSxkJceVbx6JE0sILDh5cM8V8348l/DvMuYDbOhL14rZ7fGURALrN24Mvv7UqX/6WusEWE8FkAemYD3E+6QzQr5qXQIgXoQCEss4LGAkQzGQpX6f7nfFyxYEMpau5666x4h4EcgLLHgPBbK9fVSv7EvDOOxQF14P3tQvPAh/Njfhl1v/Bjp//wjEAWxwDOwliaSRKk+X833hC1Fz+D0IPlHXzVMEwJREAv0X7yNq+nv/mvwRAvjsQCW7FlYX9gv4EGNkbIOIRA3AokSC3FXptHPx3IEhhFrLjZM/BECoZwSHoES4oA4hC7OfqPr4d7Pgk6SYZJJY2FDOCTCPxB+qpRHiLs3S+ewxEKW6qqyCoE4EEiaWIijDnpmfhGIglhIAzookNgoIFtArukQAvUgEJZYqOedukcIpBWBsMRCWuqF5wJrA3tQKWTT0irZKUcUxEJ2aquSCoHSCERBLJR+enK/MKYxYmZd8BpEJ1cCvaloCIhYKFqL11BfrNLIGdCiRQsb2ofke3hN5O0QsZC3FlV9kkZAxELSiOt9tSCQF2KhljrrWiFQCgERC6WQ0fdFRCAvxEIR2051jg4BEQvRYaknZRuBvBAL2W4FlT6LCIhYyGKrJVRmkpuecsopy/MFkFsB5jNvh4iFvLWo6pM0AiIWkkZc76sFARELtaCla/OOgIiFvLew6lcLAiIWakFL1+YVARELeW1Z1atWBEQs1IqYrhcC/z8CIhYK3hMQJPxx3PgORcyIESNMmzZtbEKl9u3b24TVxGzL2yFiIW8tqvokjYCIhaQR1/tqQUDEQi1o6dq8IyBiIe8trPrVgoCIhVrQ0rV5RUDEQl5bVvWqFQERC7UipuuFwP+PgIiFAvYEyAGSK5HIZfLkyTbc0f33329mzZplk1+z6bz99tvNHnvsYUmFDTfc0OCtQIy2PB4iFvLYqqpTkgiIWEgSbb2rVgRELNSKmK7PMwIiFvLcuqpbrQiIWKgVMV2fRwRELOSxVVWnehAQsVAParpHCBgjYqGAvYAELrfddpvp2LGjWWuttczKK69sNtpoI7P//vubvn37mp49e5p11lnHrLTSSjZp85577mnee++9skmoswyjiIUst57KngYERCykoRVUhlIIiFgohYy+LyICIhaK2OqqcykERCyUQkbfFwkBEQtFam3VtRwCIhbKoaPfhEBpBEQslMYmt7/MmzfPtGzZ0qy++urmD3/4g/nd735n8yisttpq5i9/+YtZY401ln/foUMHM2nSJPP999+b//3vf7nERMRCLptVlUoQARELCYKtV9WMgIiFmiHTDTlGQMRCjhtXVasZARELNUOmG3KIgIiFHDaqqlQXAiIW6oJNNwkBeSwUsQ+gSN9uu+2sN8IKK6xggv4gGw488EBzxx13mKVLlxoEjrweIhby2rKqV1IIiFhICmm9px4ERCzUg5ruySsCIhby2rKqVz0IiFioBzXdkzcERCzkrUVVn3oRELFQL3K6r+gIyGOhgD3gww8/NEOHDrXkwqqrrmqJBYgE/vBY2GabbczBBx9sJk6caJYsWZJ7hEQs5L6JVcGYERCxEDPAenwoBEQshIJPN+cMARELOWtQVScUAiIWQsGnm3OCgIiFnDSkqhEaARELoSHUAwqKQNXEwoUXXmg222wzGyJnyy23NCNGjDCLFi0qKGzZrva///1v884775jBgwebHXbYwfztb38z6623nv3be++9baJmyIeffvop2xWtsvQQCwMHDjSbb765TWjNoNAhBIRA9QgMGzbMrg8HHHCA+eijj6q/UVcKgQQQWLZsmbnuuuvMTjvtZHr16pXAG/UKIZBeBJ5//nmbS4uwl+PHj09vQVUyIZAAAj169DCbbrqpOeaYY8x3332XwBv1CiGQPgQgFubMmWP+/Oc/2xyMhEHWIQSKiADEQr9+/czWW29tevfuneuoHUVsX9U5PgTQob7++utm7NixZvHixSVftMI111xjtt12Wxubv1u3bub66683n376ackb9EN6Efjtt99sIubPPvvMzJ8/37DJxILt1VdfNQsWLDBffPGF+eWXXwzXFeGg3qeddppp3bq1mTVrlo0PVoR6q45CICoERo0aZUjyfuihh5qFCxdG9Vg9RwhEggA5ghByOnbsaDcLkTxUDxECGUXg5ZdfNoMGDTIbbbSRmTJlSkZroWILgWgQQP7fbbfdzEknnST5PxpI9ZQMIgCx8Morr5g2bdqYrl27mnvuuSeDtVCRhUB4BH799VczfPhwQ57RY489tjD6sPDI6QlFR4AIAW+++aaZPHlyWZ5ghcsuu8zgqbD22mub3Xff3Vx55ZWFCJOT9w7C5Pnzzz9b7wQ+5zVBc7l2ZJN98sknm6222so89dRTslgqB5Z+EwIBCFxwwQU2hFrnzp0N3k46hECaEMBj4eabb7bKoz59+qSpaCqLEEgcgXnz5pn+/ftbb1VCXuoQAkVG4LjjjjN///vfLeksj4Ui94Ri1x1i4cUXXzQbb7yx6dSpk5kwYUKxAVHtC4sAHgsYX2y//fbyWChsL1DF60EAj4U33njDekOXC6e/AoojXEVJ9NuiRQtz0UUXKRRSPYjrntQh4HIsEOrrySefNN9++23qyqgCCYE0I0DOFsKpYd2B15MOIZAmBJRjIU2tobI0GgHlWGh0C+j9aUKAHAvrr7++OfLIIyX/p6lhVJZEEfDmWNh1113NnXfemej79TIhkBYEIBaOOuooq+88/PDDFQopLQ2jcqQegapzLIhYSH1bqoB1IuCIBQizmTNnyhW6Thx1W3ERUPLm4rZ9FmouYiELraQyJoWAiIWkkNZ7soCAkjdnoZVUxrgR8BILGAkpx0LciOv5aUVAyZvT2jIqV9oRELGQ9hZS+WJHQMRC7BDrBTlHQMRCzhs449UTsZDxBlTxI0VAxEKkcOphGUdAxELGG1DFjwQBEQuRwKiH5AABEQs5aERVoSEIiFhoCOx6aZoQELGQptZQWbKIgIiFLLZaccosYqE4ba2aVkZAxEJljHRFcRAQsVCctlZNSyMgYqE0NvqlWAiIWChWe6u20SEgYiE6LPWkjCIgYiGjDadipwYBEQupaQoVJAABEQsBoOirwiIgYqGwTa+KByAgYiEAFH1VOARELBSuyVXhEgiIWCgBjL4WAhUQELFQASD9nH8ERCzkv41Vw3gRELEQL756ejgERCyEw0935wsBEQv5ak/VJhwCIhbC4ae784GAiIV8tKNqER4BEQvhMdQTiomAiIVitrtq7UFAxIIHDH0UAnUgIGKhDtB0S2IIiFhIDGq9KAMIiFjIQCOpiIkhIGIhMaj1ohQjIGIhxY2joiWKgIiFROHWy3KEgIiFHDWmqlIfAiIW6sNNdwkBh4CIBYeEzmlEQMRCGltFZWoUAiIWGoW83ptGBEQspLFVVKakERCxkDTiel9aERCxkNaWUbnSjoCIhbS3kMoXOwIiFmKHWC/IOQIiFnLewBmvnoiFjDegih8pAiIWIoVTD8s4AiIWMt6AKn4kCIhYiARGPSQHCIhYyEEjqgoNQUDEQkNg10vThICIhTS1hsqSRQRELGSx1YpTZhELxWlr1bQyAiIWKmOkK4qDgIiF4rS1aloaARELpbHRL8VCQMRCsdpbtY0OgVwTC8uWLTOvv/66GT16tDn//PPNFVdcYaZPn26+++4789tvv0WHop6UaQRELGS6+VT4FCAgYiEFjaAilERAxEJJaPRDAREQsVDARleVSyIgYqEkNPqhQAiIWChQY6uqZREQsVAWHv0oBEoi0HBi4auvvjKzZs0yTz31lJkxY0bNf7Nnzzbvvvuu+eGHH5pUEuLg5ZdfNkOGDDG777672XrrrU3btm1Njx497PsgF3QIARAISyx8++235u23366677755pvmxx9/NP/73/9ibQCExEWLFpmZM2dWNb7A4ZNPPom1THp4PhEISyz861//MnPmzKmqnwatE88884x58cUXm60DQWiz5rz66qt2XAQ9K+g7nv/OO+8YFNQ6sodAFMQCfZR+E9Q/yn2HbMMcjJzz/PPP237Kc1gzFi9ebBDC2MToEAJJIRCGWFi6dKl54YUXqhoHzMlcH+ZAVmKsPPvss1W9041Fxtjnn38e5tW6tyAI1EssIGNX2zeZ/1977TWDwVuYgz5d6zpUap8cphy6N38IhCUW2AvPmzfPPP300xXnauT9Dz/8MNQ++NdffzUfffRR1euRWxtYl5YsWSID0/x14chqFIZY+M9//mONmpl3XZ8rdUaumT9/vvn3v/8dquyfffaZeemllyq+z1sO5MAPPvjA/PTTT6HerZuFgBeBhhMLKFlPP/10c+KJJ5p+/fpZxX/Xrl1Npb+jjjrKHH/88WbYsGFm0qRJzTYv//3vf82ECRPMWmutZf7whz+YFVZYwf6tscYa5tJLLzXvvfeeFwd9LjACYYkFJubx48ebgQMHmmOOOcb07NmzbP+95JJLzFtvvRW7MgkF6sSJE023bt1Klgei7dhjj7Vlv+aaa6xyt8BdQVWvE4GwxAJj8NxzzzX9+/c3hx9+eMn+6l0XDjvsMHttnz59zODBg821115blSIJRcANN9xgBgwYYMcqz/E+1/uZsdOrVy9z0kknmXHjxpmFCxfWiZBuayQCURALGCrceOONVlZB9qBflJtbg/oR/Zu+xHi58MIL7fMefvhhuyGABEYgY3MfN+ncyLbQuxuPQBhiAVLh4osvtvMncni5+Zq+fvfddxsUTvV6CaNIRY4566yzzAknnGD69u1rSs3ZyDPIYMhizPGMWR1CoBIC9RILv/zyi+2bZ555pu135dYE9gXsV1FqQpbVe0Aq4IXP2GIdOvLII0uOh0r75HrLoPvyiUBYYoG9MJEhTj75ZHP00UebI444oqRszb6TOZr5HX1NPcfPP/9sHnnkEbseuf03Y9kre7nPfI/8xRpy2WWXWWMPiAkdQiAIgTDEAvuN22+/3eo26XPM/aVklt69e5tzzjknNLkwd+5cgw4HXepxxx1X8p2Ugz0za8fZZ59t7r33XoOuSIcQiAqBhhMLsM3XXXed7eDdu3c3f//7380f//jHsn8rr7yy6dSpk128rrzySnPPPfcY2DrvAQN36623mt///vfLSQXIhdVWW81uOhDudAgBEAhLLGD5gHIIxSjCVJs2bQx9tFQ/3mmnnaxg8/3338faAI8//rhdXEqVgzLiycPCd95555mHHnrIejjEWig9PJcIhCUW3njjDTNy5Ei7Idh4441Ljh1vX/7Tn/5kuPaAAw6woe6wDK/GowAF7pQpU+w6sO2225o///nPJd8HEY2nGxsliOqPP/44l+2X90pFQSxgjDB16lS7iaU/0C/oH94+We4z8y1/9NtVVlnFrLrqqlYe4RmbbbaZNax48MEHbR/WhjfvPbKx9QtDLEDMsmmGzN1nn33sHFyq39PXO3fubMmFei3yvvnmG/PEE0/YfQJGSIceeqids4NkLPYPEA/IM2PGjDGvvPJKY4HW2zOBQL3EAsonvNHYhyL7syasueaagWsC/ZV5n7UDcq7e4/3337d73hEjRphBgwaZXXbZxT43aAx27NjRXoOyN2ifXG8ZdF8+EQhLLHz66adm8uTJZvjw4aZLly6mZcuWgWOBvsragPyNsQb31XNA7OEFynqEkpS5f6ONNrLP9o+HDTfc0O6HzzjjDHPTTTcZvJAlZ9WDejHuCUMsQBw/+uij1ogZsrl169Yl95msC+wBMJzAo63eAyNtjKwxWIJkQw/FeuMfB+w72DOfeuqpZtSoUeb+++83X3/9db2v1X1CoBkCDScWGIBYgRLOCGU/1k0IS+uvv34TQsB5HLABx+PgySeftAwfrnS4WsNcew8WSAS+/fff327euR/PhfXWW8/cddddzTwcvPfqc7EQCEssQGJhdUEfZiNLH8Yqggn9d7/7XbN+zCKy7777Whdqf7+NAnksAykTyl7Gixs73jPlwpoJBSsWUCjNCPUhl7goWqB4zwhLLKD4xdoJN2o8A7A63WSTTcyKK64Y2H9XX311s+OOO5o77rjDbizov1hdIAxWOlBwsWZAZtx3333W4s87NviM8MWmHO+ixx57zK41hAmrVzlWqUz6PV4EoiAWCLeIAQOKHVyX2ThgHcR87jdgoA8h2GNBjSJp6NChtk8j0KP8pH9514aVVlrJboj32GMPuzkmbAbCmQ4hEAcCYYgFDCII4cVGluewmT3ttNOsEomNrH8uXXvttc1+++1n85t9+eWXNVcHa9YvvvjC7hMgNZ577jlz2223WaWU911Y/kH+OnkGgw+NoZrhLuQN9RILyNrIHexDkf0JAYPSkuex1/T2T/e5RYsWlpTj+mrkFX+DuHUIeYl1iLyBhPz1rifIThdccIHBuAg5p9Q+2f9s/V9sBMISCyVZotAAACAASURBVOxnka0JG4oF9QMPPGBl6Hbt2pm//OUvzcYDhp7ISRiB1mO0w/iDeGY9Yv+NhxprAHofN944s99mXBIqhjWEdzFu5Rla7P5ervZhiAUIK2QW5mj6nDOMOPjgg80666zTpG/SP9k/bLnllss9F8qVq9RvhNiDoGN/wpzP2MNzwbsusPdw3jrIbxh2//Of/zQQdDqEQFQINJxY8FcEBQAM9A477NBss85mHOsnhKRqFLIoglCcsvnHXZuNB6w2Sqhq7veXTf/nE4GwxIIfFfJ3oHTCeglraK+A4z5jVYGgg0AU9cHGAwUtXj1Bilm+w3pj7Nix2nhHDX5BnxeWWPDCRtgMNugoq5z3ghs37oxVIP0bwa3eEBu8k/UGQcs9lzPvRCEMAb1gwYK63bS9ddLnxiIQBbHgrwHCOB4MbJohkb19iM+E2sKTDYMJlJ3EW8XtmJBdkA3c518fMH6AqMDybtq0aYa1RJtfP/L6PywCYYgF/7sZWyh0MPiBGGNu9o8F+jQyOOMBRVCYgw0/zyAEjAt1yjuRZ2R5FwbZ4t5bL7HgR4y5GiMj5m5CFWHYg2W2fzxss802BstplKFhjRW4H8WVexfv23vvva1yN+yz/fXT//lGICyx4EcHQzWUlzfffLP5xz/+YdZdd91mY4GxgV4HIyGM28LI84w/lFrnn3/+8ndhhIQHhT+qhb+s+l8IeBEIQyx4n8NnxhX9D/kfo7lS+1r0nngcoBciT0OYAz0Q+k/eheESRh+EQYJUC/vsMOXSvflHIHXEApCzGGHhhIuQVyBDGYsleC3x+GAOWayIaY8Sinu1Uc9/x66lhlETC7wbLxw8b7Ac8vZh9xmFElYUKFDrsVoqVT/6NosSbnVbbLFF4Lsh6AhhgCuoDiEQBQJREguUh3kaApgYrUHea1g6EVKMsRuGJEZxSwgmZ9WBVRXxMAlVEOa5UWCqZ0SHQBzEAqWDNEAmoT+6ud2dIY6DPMDc5pc42YSxQM7xezzwP30fBXCU60N0iOpJWUYgSmIBHFAGocTEtZ4+7caA/0zYRTyJmVvDyuFswFHQsmEmpAZePjqEQD0IREUsuHcjv+BNgBJpgw02CBwPGPdcddVVllyoZU/r3uE9Y32K4vZvf/ubVagSlklWqF6E9LkaBKImFngn8zzzPUpO9Dr+NcH9j5cBhhrIapQjzIHX86677mrlevbBeLjpEAK1IBAlseDeyzzP3pLwSH/9618Dx8JWW21lbrnlFksAhJX9SZCOlzTkGusQ4St1CIG4EUglscAihHWT3/IJVyGsPGoVwlikuIdBGnYzE3eD6PnJIxAHsYBLGhZ89FknOHnPKDKxLLr66qutK1pUtYaJJlQAhEaQFS1lYJFhfIWJ8xpVefWcfCAQNbHAPI2iCktY3Ef9ilfGD9aqhCrC6q/eg7wMCHlubDIusDZkU661ol5U03dfXMTC66+/bhNyMqe6PuTOpYgF0EERi6s08YjZSASFkMHSiARrhJ4JY8WXvtZQiRqNQNTEAvVhvsR4h82rGwP+MwYVzLeMm7BWcyQq3Hnnna0806FDB8kzje5UGX5/1MQCY4HQFOwtUHD6xwH/452GDAO5QN6nMAdGGJB2KI8ItUT8bBELYRAt5r1xEAsgyXggggTGFEFjge+Qgdq3b28JYgx+whwQFJAY7BswQCJcnw4hUAsCcRALjAM88jGuaNWqVeBYwLuA8JHkDSGsWJiDMEzOs5P34cmjQwjEjUAqiQU2HMR/98ciwyqJuJFhWby4QdXzs4VAHMQCcetISk5y5FKCFN937drVJk2OCjGUrCR1Q0hzVtj+92OV3adPH7vpieq9ek6xEYiaWABNlKkoVQlxgau0vx8jgBGfFRfqWjcirCHEWEUJ5kII8Kw777zTergVuzXzV/u4iAXi9SKTEOrF3z/LEQsgjDclYQIIjRTkXYYnAxttiGIENR1CICoE4iAWKBsbYbwl/WPB+z+EGfI9MeZx16/3ILzG7rvvbg2QDjroIOs9VO+zdF+xEYiaWABNvNUg2ggP5u3//s+EvyAcI6Ey6k0mS8hGwuvh1Y8C6cwzz6zZAK/YPUC1B4G4iAWejbxNeFF///f+z94UzwVC5tUq03tbEOMgPHggFhh/hKDRIQRqQSAOYoH3I/OgcyLfgbfv+z9DSJPYnNB6EBL1HCSDJs8CRMV2221njV3reY7uEQK1IJBaYoEYw/54fCh+UJqKWKiliXVtJQTiIBYIv4ViicUDzwQmdjbUfstUPAvYiBMzOKz7J145CFBY77lE5YSR8ZMMCG9YN8Fm6xACUSAQB7HgykVMSEJsoHyFTPAKYGwcyIdAkkI25dUIYFzDJmfixInWmolnbrrppja2JZZ/1TzDlU3nbCAQF7FAf0EmqYdYADmnfCLfQhARvPnmm9t1BGs/HUIgKgTiIhZQjlYiFujnyEOnn366zQUVFC6smnpi0bfXXntZq+9DDz1U8kw1oOmaQAQaSSwgw0Ags19g/NTqkU+FyDtITir2ExgznXPOOXU9JxAcfVkYBOIkFsh/U4lYYG1g70ooL/IU/vjjj3XJ44888ojp1q2bJRbIN3L//fcXpg1V0WgQiJNYQPdSiVhgHBAuG2M3vBzqIZ1J4jxw4EAbIm/77bc3V1xxRTTg6ClCoAwCqSUW+vXrZ9Zbb70mSiQRC2VaUj/VjUDcxAJxT1Ec4ZIWlHMBCw3iA9e7wXYVx0sCSyUWJJSvBx54oP3DPZrNi1PIilhwiOkcFQJxEguUkeS3JEPEi83bl+nTENDHHnusteyoZlPOOJs7d661ZGIsEOvykEMOsXlRqrk/Ksz0nOQQiJNYIBwX/cjNr+5cyWOB2kNi0R+Jg+rPKcVziMM9bNgw8/777ycHlt6UewSSIhYIZ8rY8M/Z/E9eEhSgkHMotGoldEUs5L6bJlbBJIgFDBiQVTD08Y8HfoMQePDBB60cU2voOzzfhg4davcXKKxELCTWdXL1oiSJBeZ/ZG/2q36jCsYIXm3I/fXk4/ESCx07dhSxkKtemkxlkiIWkPtZFzj7xwHhrNEdkQ8TYq7WdQFi4cQTTxSxkEyX0Vv+DwERC+oKhUcgCWKBOPGPPfaY2XPPPZspoLCWJgHol19+GaotSI4FSeEUW8RuJaaeiIVQsOrmKhCIm1jAcol8C3jj+K3D2Zjg5kkSZsi1SgchOCivU3ih1MXjgZwOtSq3Kr1Lv6cDgbQSC6DDBoaQXMTGdnO3O0NKs8Fmg6BDCESFQFLEAlbUgwYNsgokvzKV//HIwXMB2adWizwRC1H1Bj0nCWKhZcuW1mK7U6dOhlwjbo7njEIJZSphkZDjWa9qOUQs1IKWri2FQJLEAmOOPIR41fvzATIe+J6cZxDPkAu1HCIWakFL1wYhkBSxwJw/YcIESyCsuuqqzdYF9ru77LKL9eAhNHAth4iFWtDStVEhkGtigVwNKJqeffZZQzxWEj+z0UGxVGmAci9uqbNnz7Zxzrj3vPPOM/Pnz18eF5ZFmDiAbNJwV2KRJGkWSgKuxWKRBLmE3fArrGAeeQcx8WfMmGHvv+iii+y95557rk3c8uSTT9oYzCjVdMSHQBLEAkIU4SyGDBliw654NxVuQwErzYCs9WBDzn3E0kMYI5EosYdJTEsfFLFQK6K6vlYE4iYWmC/p4+PHj7eeBn7LDvo8iTwfeOCBsgQdczoJ07EOhJAgsRv/M0fXag1SK0a6vnEIpJlYYP4mfAxJnL3rAp/x0CEsJHKHDiEQFQJJEQvkmXriiSfM8OHDrVWe86Z0/RwrPVz0MYAg5B2b+WoPEQvVIqXrKiGQBLGAxz3GEYRg5H1+C1WINhRLXbp0sddg6FCtTCJioVIL6/dqEEiSWIBwnjNnjs0xxdjwhznlf8IH46k8b968mpKRi1ioprV1TTkEkiIWCNX15ptv2lyCRJnwk2ysC3j3QLLh0YaHs1+fWKoeIhZKIaPv40QgV8QCiyLC2JIlS2y8VZRMxOYmTAZKp7XWWsv+TZ061SqSvMByLwp87kXRzL1YfB9zzDFmxx13tPex8Z8+fbpVXKGIYrFjc3P88cfbWK9YXxFPH0UxCl7eSXwzLFAQ/NxkQBlJtkXcPwiI3r172/sJk4NgSQio3XbbzYbOIX7z008/bS1Y3P3ecutzeASSIBZ69uxp+xdtzsbBbazdGZdQlEssMLW2M+TWzJkzrZIUhSseEJdffrndqBPTUsRC+D6iJ5RHIG5igbejgCWRFUooEhS6sePOCGQoYRkLkLbegw36L7/8Yu6++24bHmzFFVe0czoKL9ytdeQbgTQTC2xg2GQHhckjGSfrAklAdQiBqBBIili49dZbbULn119/3RDeFNnETwojLyNbYwRBrHhk8WoOEQvVoKRrqkEgCWKhbdu21voa44bJkycbPBfYL/rHA+HDiA8PIce6VQ25IGKhmlbWNZUQSJJYwMjz008/tcafhO7C69jv1Yacji6F35HT2QNUsz8WsVCppfV7JQSSIhbIo4DRKesC8hJRLRgH/nWBvFTkHsEAtVpyQcRCpVbW73EgkCtiASGMDcwtt9xiUOSi6HdKJ3eGXCDBrT/sDECwcOHZQDLQoLAEKLOmTZtmNz8kFoIQgAjACosFkD//ZMB7ye6O5RbufCi83nrrLZtEBUUCVitMItwbNJnA2lMeSAzF/45jCBhLJBGKiDZHKUlfCHt4kzcTzsIRC3x/8cUXN7NWQilK/7rnnntqameELFxF8VYgHjf9BVIKRRT9TcRC2JbU/dUgkASx4MqBxxnxhP0Wf8y1fId32eLFi93l9sy8y3ck+cT6A/dSYq+iYKtWkdXkgfonUwiklVig7y1btswQKs/vBk1/Zk1ACcW6oUMIRIVAksQChg+QunjnIjP7Q9nRz5F/t9lmG7ux/uabb6pSHolYiKo36DlJEgvI5cTLZi/J/I7Mwhjw/mFotN9++1kDuWo81kUsqA9HgUDSxMIXX3xh53q81SAP0M8E6VDYm2MExPWQC5UOEQuVENLvlRBIkliAYENGwnAOr3xyLvg9F1gf+B7PBfQ7kAuVDhELlRDS73EgkCti4aGHHrKxyLCKwuojaGCWIhbYvCPI4XpX6t4tttjCDnosCFFK8SzIABh1NkUkzQoSElEY4OJEaCOsUFBiowSmfNyP4plnB00mLLKUCc8JhFEpwaIfBkl6LLBYIfTQ17BWcpsJ2tkpRSGeqj0I6fXwww/bkBmQCttuu6216P7hhx+spZOIhWqR1HVhEEiSWECgYi4lnwghkNwY4sw4wjKQsHRe66aFCxfaMGSQzSixGCfkPGFOrcYCKgw2urfxCKSVWMDA4b777gu01qM/4y1J4uZaYww3HnGVIM0IJE0sMMdC7hKWFCMIv/KI/5GHsNa74YYbrHFFpXlZxEKae1i2ypY0seC8L/GgxPDMK8PwGWM1LFSPOOIIa6FaSZkqYiFb/S2tpW0UsYBSFaPQCy+8MNDAAl1J69atzZlnnmmNLCrpQUQspLWHZadcjSAWeCdRU8aNG2d1iv51gb0rukM8F9BbVVoXRCxkp7/lqaS5IhZee+01c9lll9k/2G1vIls3QEsRCy+++KLd0FxyySU2PNFee+3VTNgj2ScKYUgElFcwh4QqGjNmjLU0nzRpkrVG32OPPZol5yK80UEHHWT/WCBx+xswYIDhfWyQuJc8DSjoSNTi3XixqBIL/Pnnn685qVeeOmtcdUmSWKAObAKuueYaS2C5funO5EbAHa6S4OSwwHqb5IfO24WNCP3E3S9iwSGlc5wIJEksUA9y5zBnMg97CTrGEWRD586dLXHw7bff2lAcCGqE24DkZe4ljw3WTwhyOvKPQBqJBYQvkoYjU2DM4NYAdyYPCEYMlL2acBj5b0XVMCoEkiYWXLnxXsDb98gjjwz0XEA+ZzyQzDAoN5l7DmcRC1409DkMAkkTC5QV2QNPtOuvv94Sam7ed2fIBcKYEmN+1qxZZdcAEQthWl/3OgQaRSzwfozhyEFyyimnmM0226yZPETCc/LxkBMNi+1yxLOIBdeiOteLQCOIBcoKybZ06VIzcuRIG07drQfujD6QEKnofebOnVt2HIhYqLf1dV8YBHJFLGDJigUgoQWIWUaOBBRJKF3doCxFLJD3ABdsAEFpRe4D/2YfQY/FDWUWSZrxPkBx5VhDZ4VyxRVXWCLAvdOdnXcDGyfC4bCIstFySmAakrA2kCKwkl5yAS8MQjzBZuqIFoGkiQX6KURWu3btmhFQkFfEIsY1rpLSEytWSC1yedBXWGyw1Kb/O6FLxEK0fUVPC0YgaWKBuRZiYNiwYYFJbyFye/XqZa398Ebr3r37cu8w8t64eK3BtdG3eUOgEcTClVdeafsoGwWIAZfnAxkDRRCJ2MjPhFzhXeuRF1Ao0U9feOGF5fJF3tpE9WkcAo0iFqgxXmJ4nB1wwAHWW9fJx+5MGBjiDuOJ6Q9Z6kVMxIIXDX0Og0AjiAVXXtYClKV4UaI0cuPAnVu2bGn3m3gyl/JcE7Hg0NQ5DAKNJBYoN3oYZHPyYhKpwY0Bd8aIiP1uJV2IiIUwvUD3gkCjiAWHPp7KF110kd3fenWYbixgeHT22WdbnWEpXZGIBYemzkkikCtiwQ8coZEQyggR4wZjKWLBf+/EiROXJ8N190JStGnTxsatJ9FKqQMBkDjf7j53JtQNFuUQEigbSh1PPfWU9YbwlhtFGUq0d955p9Rt+r5OBJImFigmSlEWDcJnuf7hzrhG0/8YnKUOiAPCu5x44onL7z/qqKNsjgjvPSIWvGjoc1wIJE0sUA/IBZJ99u/fP3BDjjBG2DmIXD6jvEWZRQJ1HcVCoBHEApZ3hH4hfjBGC/wtWrTIPPfcc3buxwvRzfmc6aOs+cgZWHSjfNUhBOJAoJHEAvVBgYTyh/nYK+e68cB35MPhmlK5xUQsxNEzivnMRhILIA4xQB4+DMogmt04cGdizGPMhszvNURzrSViwSGhcxgEGk0suLLjdQ+5ANHmN7pgTBBR4rbbbrN6FGdE5+7lLGLBi4Y+14NAo4kFyoy+j6goeOEHkQvoj8hNgj4paF0QsVBPy+uesAjkmlhAgQ+77Q2VUS2xgPKpU6dOTQYz7nk33nijWbBgQcnNDg2CEoPrnFDoziStY8ED9HKhDYg1SAgEr/UKeRhQIs+fPz9sm+t+HwKNIBawPHrzzTdtaCy/4ERsVXJy4O4ZtFhQfJSqJBonUTP3E3vvjjvusMl/vNUTseBFQ5/jQqARxAIbCsYRBDIeCW6e9Z7JW4MXEHMpn8eOHatEuHF1ghQ/txHEArmXsEIlTwLhDfnjM99hjUcScW9fRanUtWtX20fZEFBmHUIgDgQaTSwg/yIHY0BxyCGHNBkHjAlkGmR1kj0TOinoELEQhIq+qweBRhML5B/BSIIY86wP3nWBzxilsf+84IIL7L7BX0cRC35E9H89CKSFWCB34IwZM6z3vl9OYjy4cKckug0ywBOxUE/r6x4vAmkgFohugc4PQ2XyA/rXhVVWWcWGZsc7mvXDf4hY8COi/5NAINfEApb/MNsMPjcgqyUWcMMmJ4KXJSRGN98T+7XcgdKXGLHee3k/oZVw8wti2L3Pg7hgovAmgsY9vG/fvvZ+77X6HB6BRhALbKyx2mMjgUub65+cIQk22WQTG0OesFz+A28XQn316NHDhhKgT5NPhPBKfpc4EQt+9PR/HAg0glhw9cB7DMKADbl3rveOKRS5zuOL+VlHsRBoBLEAkQDhdfDBB5sOHTrYJJ077LCDTULIb/vss4+1ykZ5ShztUaNGWS8F5vxyHo3FajnVNg4EGk0suDoR2pO5GzmdMKPeOZvPhAAlNCQhwQjx6D1ELHjR0OcwCDSaWKDszPkYG5GgNohcYF9AjHnyCL777rtNqitioQkc+qdOBNJCLFB8wuCRg+qwww4zRGzwrw0YW+Lx9sADDzQzFhKxUGcH0G3LEUgDsUBhfvzxR0P+2JNPPtlsueWWzcYBe14MqG+44YZm5IKIheXNqQ8JIpBrYuHpp5+2m3dCC7hFqVpigYXpH//4RxNyAGJh+vTpFYkF2u+ee+6xxIDXGr1aYoFwCUwSfk8LYoaTl0FHtAg0glhwNXjmmWfM0Ucf3czdEyuNPn362LAZfq8F3N7uvfdeG0aJ/kUycRJ/kwjOf4hY8COi/+NAoJHEAvXBu4d4kyii/IQuCiuIN0LUIaTpKB4CjSAWTjvtNGttjfcj3mQk6cRg4JJLLjHXXnutDak4bdo0g5IXRRH5lnQIgSQQSAuxQF0XL15sY2ZDtmGJ6mR1d4YUxlt33rx5NsGnw0fEgkNC57AIpIFYcHWARBs6dKgNiwSZ4MaBO+OlTE4G5H0XJkzEgkNP5zAIpIlYoB7IbVOnTjVdunQxGFe6MeDO6HYwsMPg0ys/iVgI0wt0LwikhVhwrTFr1iwb2hdPaP8el/FAhJVbb73VEnLOeE7EgkNP5yQRyDWxwEAkvrbXla5aYuGxxx6zYQm8A7gWYuG+++4zhD7y3l8tsYA1OmFuRCwkMxQaSSzg8jl69OhmsSQhDFCIQjDhDuc9YK+doEWIF/o4QpVbTLzXiljwoqHPcSHQaGIBIRDPhb333ruJpxcC13bbbWc9g/wEXVxY6LnpQ6ARxMJNN93UbO5OHzIqURERSBOxAP4//PCDufzyyw0ePV5jHKdAQo4mPChhQp3Hr4iFIvbceOqcJmKB/o0BGTHm2a+6MeA947mAV7xLbi5iIZ5+UbSnpo1YAH/GA329c+fOgWsD44L8guh73NogYqFoPTf6+qaNWKBvz54924aHLOWZv+eee1oiznl3iliIvl/oiZURELFQAiOIBVzwvMSAiIUSYGX860YSC5ABJPPs2bNnM2s9krgR/ooEoO5gIzFu3DhDHgasmUj0TNI3FkEnVLlrOYtY8KKhz3Eh0Ghigb6PMIWCwL8ZZxM+cuTIkvlK4sJEz00PAiIW0tMWKknjEUgbsYBCi7BIzNNt27YNVKYSHpJYw3ieMd+LWGh8P8pLCdJELIApBkeQCyhM8djxkgp8xuiodevWVuG6dOlSm/wZLwfGiEvo6bwZ8tJGqkf8CKSRWKDWn3/+ud33ojgNUqqSP42QkoQDxitZxEL8fSXvb0gbsQDeGJBCoJGLjT7vXxfIJ7j77rvbvINEthCxkPdems76ZY5YIIwAA76agwFICIx6PRZELFSDcvavaSSxAHpYWmORwQbCS2SxaLBJIA8DXgvkZYBkwJKJ3/BWGDBggF08gkgFni1iIfv9Mws1aDSxAEbkLGFzsc466zQRuLCCxRpWHgtZ6EnxlFHEQjy46qnZRCBtxAIoIsPgkXDxxRebli1bNvHYdRtolKnnnHOO+fjjj21oMXIzQCQfeuih5qWXXspmY6jUDUcgbcQCYwGZ/4knnrAhUTfYYIMmMg3jAcMj9rcYGs2ZM8eGTxKx0PCulOkCpJVYYDww5992223WmI5oEG5NcGf2z+yN586dayZPnmy6detm99MdO3Y0hKPUIQRqQSCNxALjAKUtIVTp30HkAuHBCONO1JSZM2faMJLkI8HA7oorrqgFAl0rBOpCIFPEglMQiVioq611UwkEGk0s0J9J2I2rJ+GynKDk3Txgpff111/b2Kp4zhAugEQ+hMwql+hTxEKJRtfXkSIgYiFSOPWwiBEQsRAxoHpcphFII7EAoCi2SGA7ePBgSy5gPOGVh/iM3EO+EnKYkJdBxEKmu2IqCp82YgFQUCKxN0Ap2r17d+vRDJngHQ/sAyDVMJxAqQoBIY+FVHSpTBYircQCYGJYh8f+pZdeatq1axfouYA3AyHzyLcG6YahnoiFTHbFhhc6jcQCoLh1AUL5oIMOst5r/vCR/I+RHYbYnJGRRCw0vEsVpgCZIhZYTFzYl2paSB4L1aCkaxpNLNACKL6wxqCPezcOfN56662t18Ljjz9uXaNZNAiDNGTIkIpWeiIW1L+TQEDEQhIo6x31IiBioV7kdF8eEUgrsQDWbOhx4z/mmGPMRhtt1EweQlmEVR4GFvwuYiGPPTTZOqWRWHAI/Pzzz4bQvIQ99Xrfu33CSiutZL00d9xxR0s+iFhwyOlcKwJpJhaoC+QC+XjwamvVqlWztYG9MbkpW7RoYYlpEQu19gBd7xBIK7HgyodH25QpUwzzfpABBt+R6LlNmzaWhBOx4JDTOW4EMkUsEF+PuKpBSWqDgBKxEISKvvMjkAZigUVs4cKF1u3Zm7SbzQObCaz0SEyLwMRGYr311jMPPPCAjbnnr4/3fxELXjT0OS4ERCzEhayeGwUCIhaiQFHPyAsCaSYWsMgjPjwx5gcNGmRlHadEdWdHLqy88soiFvLSKRtYjzQTCyhTIdqIG9+hQwfjDwODMpU9weqrr27DI4lYaGBHyvir004sAC9lfO+992w+HkJ/0ffdusDZkQuQzyIWMt4hG1j8tBMLrAuffvrpcnKBvDv+cQC5wPeMAxELDexMBXt1pogFXNumTp0qYqFgnTTu6qaBWHCb6RtuuMHstNNOTRYIJyzh5okQBQtNUrd33nnHWnCUw0fEQjl09FtUCIhYiApJPScOBEQsxIGqnplVBNJMLDhMCfH41FNPmeOPP96QlBAvTe/G2X2Wx4JDTOd6EUgzsUCdUKayWcewbt999w30XHDjQcRCvb1A92WBWKCVIJ7JxzN8+HCzxRZbBFpsMx5ELKhP14tA2okF6oWR9T//+U8byYWkzUGJzd26IGKh3p6g+2pFIHFigYFAkk0sMEha+9VXXxlcPWHf3PGf//zH9OvXr5ml0hFHHGHYELH4VXPgsbDffvs1EcLYhNx77702Vl+5Z+B6quTN5RDKz29xEAtM9qNHj7bxTtdee23To0cP8+OPP1YE7ZVXXrGxgyEQNh8WSAAAF4JJREFUsLxwi4I7s7lu3769efTRR823335b8Xl33nmnHUcIWO4ZbNIZX0p2WBE+XVAlAmkhFnr16mVIVOX6Oue2bduayy67rOp1o8oq67IMIRAXsfDuu+9at3y/FSn97sYbb7SyToZgUlELgkBcxMLSpUttjGs3/956661VySmlYMfd/7nnnjMHHHCADffilWPcO0QslEJP31eLQFzEwvvvv2/22GMPK48gh7Be0KfrOTA+Yh3D+GjnnXe2RFvQHkHEQj3o6h4QiJNYQNfDftTN2+TI+fzzz23M+HrQh3gmofNxxx1nPfn9+Ud4j4iFepDVPSAQF7Hw/fffG3ROzNP00U6dOplPPvmkbK7Mci3iSGdyjxD2CB1R0LogYqEcivotSgQSJxZ4IS7O11xzjTn//PNtXHnc2iAT3FGKWDj55JMtGYGAVc0RB7Hw8MMPWzKk0vvJyI6ywbsRIjHvq6++WnEhZZIhKa83JA6bJ5TTUgZXQr723+MgFiDNrr32WpsfgXaHpCI2ZKWDvk/cvHXXXTfQQo9+cPTRR9vNiZeMK/XcO+64w/z1r39t0g8hFkjo8+KLL5a6Td8LgZoQSAuxcPjhh9v+7jYvnFu3bm2Vv9US0jVVXBdnAoG4iIW3337byjFBxAL5oJYtW5YJfFTIYiEQF7GwZMkSM2zYsOXKo5tuusl8/fXXdYOLrI/c9NZbb5nOnTvb3AreuZ3PIhbqhlc3/h8CcRALGNCxPuy22252PKDYITE539d7MB5Qxo4ZM8ZgsBTkxSNioV50dV+cxALGpOxH3fx96qmn1qTP8bcOYwHl70cffWQGDBhgQ4G5Z7uziAU/avq/WgTiIhbYE7zwwgtWN0Q/3WeffSxB5tWBVltGdx1jAaOOUaNGWXkoiGQTseDQ0jluBBIlFhCoUMwzkLbbbjubfGeHHXYwCHUo3J0lBwOsZ8+eTRRExJaHjKhl8OFGTUxKr3sQm5BJkyZZ4awcuJTz4IMPbqKQJc49hAELZKUDrwje6yUWUOiixK6UI4LNGdaOXmLBKaelDK6EfO2/x0EsQA6NGDHC5kagHWGlYaorHZAFr732mo0tzMbBCUjuzOZ6woQJTTx8yj2TjT1x9rwMNjH3unTpYr1/yt2r34RAtQikgVjAI+jAAw9spnxi3j7jjDMqzrvV1lXXZQ+BuIgF3PFRpBLf2s3R7nzFFVdU9IzMHpIqcR4QiItY+OCDD8zgwYOXj4Wrr77aKo/CYIayi7n9oYcesgYa/kSFIhbCoKt7QSAOYsFZppJ0mTUBA4d58+aFJpsJA7NgwQLrEb311ls3IxdELKhP14tAnMQC8eDx4nfy0cCBAy0pgFK03oN7iXjx7LPPmpNOOsmQc8e71xWxUC+yui8uYuG7774zM2fOXJ58fK+99gpNONNaePBggIF3/sYbb2zz7bixxlnEgvp0UggkSiywsIwcObLJxM8igNL8qquussISilWUALg+ewkBrLSfeeaZqnFhwYEcQMjybkRQ7qNsXbRoUdlnYTVOyBnvIrX55pvbGJcwg+UOBvi4ceOauSTxbrwoHIFS6hlszpgcWCTdxIAymOTVuIXriBaBOIgFBP9jjz3WbLjhhnaC32WXXWyiHRarSsc333xjHn/8cevW5vou/RCr2LPOOst8+OGHlR5hf4cZZ7y5PuTOEB0sMoRTqsbroaqX6aJCI9BoYoFxxbxMnEm/Fd8666xjk6Iz76q/F7ObxkUssB4TfotEgW5+dWfILEJf6BACaUMgLmJhzpw5pm/fvsvHAjGwsdqO4iD048SJE+3ewDvHi1iIAt1iPyMOYgFPHQzRCE/BmrDVVltVbZhWqTUwsGM/fe6551rCwrtPFbFQCT39XgqBOIkFlJ7nnXfe8rXhyCOPNHPnzo1EJmevi7IWg1QM8tx4ELFQqqX1fSUE4iIWiGZBSDCMpVkX0A098cQTNodOpTJV+p09LhFghgwZYokLNw54j4iFSujp96gQSJRYINnsmWeeuXxhcRtwlKd77723DQFDbHostvFk4HeUoJtssonNi1DJpRqlEd4ACF1ci9U/loRer4HVVlvN4ILHBggrKKw/uA8iwuV/IBbg5Zdfbt/rHZgkzR06dKghDj7eF9zLQsy9nCEUGNi45mGt7urnzpADJN9auHChvc69m8akDDDvKEDwtCBuIHH23b1gtOmmm5rJkycbFM+8h4mPd+sIh0BYYsH1HdqTdqF9ZsyYYZMwO0vWVq1amenTp9tYevQd+orrO/7S87wvv/zShiuiz9EH2EgTV/Wee+4pKYjRf10fRNCij9OPXB9yZ8YD5SJUB4sc44AxQ3+iTDqEQK0IJE0sMF/SX+nv9N/FixebadOmLXcvdX2dM26hhCMgDAHrAmOU+xgvmj9rbelsXh8FseDkC/oOcziei4SkQGD3rtWu73Xr1s1MnTrVYKHk5nz1uWz2n7yVOgpigbmTORjZgTmYuRWjHbyE3RggNN39999vx0AU8y5yEd7AKGkdmSdiIW+9M/n6hCUWGAvIzuwB3D6OfSxyEfs2xgNGRux/2T8in3Oddw9Za61Zj9hLYmy0wQYbLB9zIhZqRVLXOwTow88//7w16mQeJ7pDPQfjwe1HkX0ghSHZunfvvryf8nxy8KBv8e5B65XJGVPs5ffff39rrMqYE7FQT+vpHhBAtunTp49V0EOC1aMb8a8LKFzRy5x44ok2ZxR9FI/6iy66yKAfxcsNecrpBusZC5Qb42Q8eAip7WQxEQvq1/9fe2cTOlUVxuGgFi6iD4JC0wwNU/swLa0kVMRKRW1RWAgJkSTlIigXWmZmpuQmF2K4kGitO6VFUJtcCGFRQYIQ4kKKsoV9GYideC5c+asz48zcO2fOnPtc+DM6cz/Oed7z8Z73d865sQhEFRboQFgaXRb08pPgPbPzce7eeeedQnXmBZx8P3PmzGL2P7NRcaQ6HThq7D/JLEFEBTqYsaICz+P/KNoIBAyuWLlQDnhIHwo6+5QhdFy5TxnBXQYxpJFrCWYRsKARoFNjljpbFeHoUYnL/JWfXD979uxiFjkdIM+m0yVf7CPLtgp0vjRmrOIYK2rwb65fuXJlkTeuJ680Qh7VCFQVFrABg2qcfOzPcs8VK1YUolhZ/hC05s6dW5Qtyg6rDgg40Qm0OiiThw4dCosXLy7KEYPo7du3d5wBSxoQtXiHCYP5VatWXeq8yjJYflKeWKLNDBJm3aJyIzJ0s11Tq/T6XbMJxBYWqB/0Cbwc8Ysvvija1BkzZly2yq0s63zS5rP9F4Fg6jt1lSAVQWKP/AnUISyUYgJljsE3kwdYxoyoMLavLssd4i1b1x04cKDYAgP/gDJHm9/PgCF/K5nDWASqCgv4rLSdZ86cKXySzz//vHin1Jw5cy5bacsqy+XLl4dPPvmkaHfxe/Cz+60DDO7xew8ePHhp8pHCQqxSk+9zqgoLBFHxnRkTluM4JrBR/stxJOM3xrW8tJZJEEx04Hyu6ydohTV4LvdhTFr2QQoL+ZbTQeesDmEB34aYCO08Pg/bfzGhcunSpZf554xpmSyHGI0PzxiU/oR+5VqxnlYcuIZxASsXGPtSHxQWWpHyu24I4KNUFRa4B2MPXjLOdu/shMJOFkwyLmNDTBpGGN68eXOxiwQre9gOHbGtn36B+sdziQPR15T9gsJCN1b3nDoIRBUW6DAYkK9du/ay5WrlQJzKhVPEzI6pU6eG5557rggEEfDsJgCEoIBwgSrOige2wCjvPfaTCo1KSNCWFyLjCPKHGEEggKWrrfa35x5cSwCLa8kHDiIBrs8++6wI+i9ZsqRQOGk4xj6Tf1PBCTbwfglED5xZhAyCwQSC2R+crTzYH61sdK68xx133FHkjdmQvOCZAJlHNQJVhQWW+iMmIPpg/1mzZhVKcdmgY0MGF9ieskXZoYyyXO2bb75pmXg6FFbv0DEw44nr2Aqs0wugP/roo4CyTtmiHLV7AXRZptiaiz1aSQ+Df5ZVs1WXhwR6JRBbWKC93rBhQ6Ad5P0ltKmsbmvXbhL8pT9gIEMdXbNmTaC+XGtLvF45eH6aBOoQFphptG3btkKgos3EDyCoWbanV37S/uNHsNSZMoewxfWsaCMg5CGBYRGoKizgj+OfsN0XvgPvTWPgio8zth7QHuOHMKmirANse8qkin4GzfAiaMVqIXwuhD2FhWGVonyeW1VYYGIZ4hoBzXIcN2XKlEtBHeoE/QH1gbEt29oSaOV8tsEgiNTvwZjg2LFjxWQ5VvcrLPRL0uvqEBYI8DOBAv8an4d2H8H5ynhMGQ8hVoMPTz/C+3nY4qubeE8raxFUZXUEK/sZG1DfFi5cWMRXWp3vdxJoR6AOYYEAK++GIjbE9u5sr16uYCv9JOoBojOxGPwZ3u1Kv8B4g8lM/R70Sbx7hNURCNoKC/2S9LpeCUQVFkgcs6oJkBJUZVY3DhYD7/nz5xdLqBmw0yEQ5Dx8+HChYHebKWZDMSP11VdfDS+//HJXf6+99lqxBAmVkJfidnsd573xxhvFljeo7Mz6XrduXU/XU+FRMVEzyWsvz6YDZlskXhLsUY1AVWGBZWe8U6MX+2H7LVu2dNx/GAeNdy2wTI5VNMzU63Swbx/1qpd0jD0XUQ6hy0MCvRKILSywbHTr1q3Fcs+xZbjbfyPYMZOcQYxH/gTqEBaYAcRgudsy1uo8rsfpUljIv8ylnMOqwgLBfYJHvAusVTnv9N3HH39czOLrV1gouTKpZs+ePcUEpE2bNhUzXsvf/JRALwSqCgsE9wkEdSr37X4j+FMlgEQ+yxXvTLZgRuz+/fvbrobuhYvnNotAXcICwX3Go+3KfLvv8emJp9C/VDkQvdkyD2EDX5865iGBXgjUISwQ3Gdb7HblvdP3jDfYhaXKwViDfok+gZels2LCQwKDJhBdWCBDBEypcMyyQFlmnz328mMbIGb+E+Sv6mgNGpz3z4dAVWEhHxLmRAL9EYgtLPSXSq9qKoE6hIWmsjPf+RGoKiykQoQgFNtPMiGCYJaHBPohUFVY6OeZg7iG7WTYeoZV1IyzPSTQC4E6hIVenjfIc/H56BuoD+wq4SGBXgjUISz08rxBnUs+2C6PesA2rh4SGDSBoQgLZAqnh73p2V+SDoBPZl0gKLAMTqdo0Kb3/iUBhYWShJ8S6I+AwkJ/3LwqDgGFhTicfcpoEMhFWGDlD7P6+Ku6AmI0LGcqB0EgF2GBmd7UhX63khkEW+85OgRyEhaIIZV9gytER6cMppLSXIQFtgejP6AuVF0JlIptTEfaBIYmLKSNxdQ1iYDCQpOsbV4HQUBhYRBUvWddBBQW6iLpfXIgkIuwkIMtzMPwCeQiLAyfpCkYZQI5CQujbAfTPnwCuQgLwydpCppGQGGhaRY3v1cRUFi4ColfSKAnAgoLPeHy5MgEFBYiA/dxSRNQWEjaPCYuMgGFhcjAfVySBBQWkjSLiRoCAYWFIUD3kVkQUFjIwoxmogoBhYUq9LxWAiEoLFgKUiagsJCydUxbbAIKC7GJ+7yUCSgspGwd0xaLgMJCLNI+J3UCCgupW8j0pUpAYSFVy5iuaAQUFqKh9kGZElBYyNSwmWRLYSETQ5qNWggoLNSC0ZtkQkBhIRNDmo1KBBQWKuHz4owIKCxkZEyzEpWAwkJU3D4sRQIKCylaxTSNEgGFhVGyVvPSqrDQPJub4/YEFBbas/GX5hFQWGiezc3x1QQUFq5m4jfNJKCw0Ey7m+vqBBQWqjP0DiNOQGFhxA1o8odOQGFh6CYwAR0IKCx0gONPjSOgsNA4k5vhDgQUFjrA8afGEFBYaIypzeg1CCgsXAOQP0ugDQGFhTZg/Lo5BBQWmmNrczoYAgoLg+HqXeshoLBQD0fvkgcBhYU87Ggu6iGgsFAPR+8y2gQUFkbbfqa+PgIKC/Wx9E7NIqCw0Cx7m9sWBBQWWkDxKwn0QEBhoQdYnhqdgMJCdOQ+MGECCgsJG8ekRSegsBAduQ9MkIDCQoJGMUlDIaCwMBTsPjQDAgoLGRjRLFQjoLBQjZ9XS0BhwTKQMgGFhZStY9piE1BYiE3c56VMQGEhZeuYtlgEFBZikfY5qRNQWEjdQqYvVQIKC6laxnRFI6CwEA21D8qUgMJCpobNJFsKC5kY0mzUQkBhoRaM3iQTAgoLmRjSbFQioLBQCZ8XZ0RAYSEjY5qVqAQUFqLi9mEpElBYSNEqpmmUCCgsjJK1mpdWhYXm2dwctyegsNCejb80j4DCQvNsbo6vJqCwcDUTv2kmAYWFZtrdXFcnoLBQnaF3GHECCgsjbkCTP3QCCgtDN4EJ6EBAYaEDHH9qHAGFhcaZ3Ax3IKCw0AGOPzWGgMJCY0xtRq9BQGHhGoD8WQJtCCgstAHj180hoLDQHFub08EQUFgYDFfvWg8BhYV6OHqXPAgoLORhR3NRDwGFhXo4epfRJqCwMNr2M/X1EVBYqI+ld2oWAYWFZtnb3LYgoLDQAopfSaAHAgoLPcDy1OgEFBaiI/eBCRNQWEjYOCYtOgGFhejIfWCCBBQWEjSKSRoKAYWFoWD3oRkQUFjIwIhmoRoBhYVq/LxaAgoLloGUCSgspGwd0xabgMJCbOI+L2UCCgspW8e0xSKgsBCLtM9JnYDCQuoWMn2pEuhaWHjvvffC5MmTw/XXXx9uuummMGPGjLBkyZKwatUq/2Qw0mXg2WefDXPmzAk33nhjePLJJ8OKFSvCypUrRzpP1kvbpZhl4N577w233HJLmDhxYli8eLH1xz4hqfaT9nz58uVh0qRJYcKECUUbbztvGxmzjUzpWUuXLg2PPvpoGDduXJg1a5Y+j+11Uu117LqC33LzzTeHadOmhaefflr/xfrQyPrwzDPPhIULF4Ybbrih8OUfe+yxom+IXR99nr7ZsMsAY4bp06eH22+/Pdx1113F+MG4kOVy2OVyFJ7PRI2XXnop7Nq1K5w8ebKt/nHdp59+GpYtWxYeeuihIgj78MMPh0ceecQ/GYx8GXjqqaeKMn3rrbcWeUFkoJxbvq3floHuysD9998fpk6dWgxGEBmsP91xs3zF4UQQFSHhnnvuCbfddlt44IEHLvky2iCODeScDucFCxYUE4MIpjJofvDBBwsfSBulYyNtEc8WCAp33313mDJlSpg5c2aYPXu2/r9j28aVgXnz5hX9wJ133ln48wRW8ZWM98Rri2z302LNmGH8+PHhvvvus1+wT2hcn9BPe/TEE0+E1atXh3379oVTp061Fxa+++67sHfv3vD++++HHTt2+CeDbMrAhx9+GNavXx8WLVoU3nzzzfD222+Hd999N5v8WV9trwZdBjZu3BjWrl1bzPR7/fXXrT/2D0m1nx988EHYvXt3YHUas7XLNl5/xrZx0G1jivdnJtHWrVvD448/Hl588cWwZcuWsH379qTqbIrcTFOe7cWGDRvCmjVrwvPPPx/wZbZt22Zd0IdpXBnAT8I3oi688MIL4ZVXXglvvfWWcR/rQuPqAn39pk2birrALHH+zc4t+gB5+gDatT677ty5s9AL2HL17Nmz7YUF9t77999/wz///BPOnz/vnwyyKgMnTpwIR44cCT///HP4888/LeeW76zK96Db7F9++SX88MMPgY7kt99+s/5Yf5KsP0ePHg1ffvllUT7xZfRn9OUG3Tamen/a6YMHD4Yff/zxUn1INa2my3o6yDJw+vTp8O2334avv/46nDt3zn5B/yVJ/2WQdaC8N/tjf//990Vd+Omnn6wL1oVG1gXGBvhIx48fD1999VX4+++/rQvWhUbWhbJv6OUTveDChQvhv//+ay8stP3FHySQAQE6jV9//TXwwp5OFSGDrJoFCdROgA7kr7/+CgxK+LeHBFIkwEucf//99xSTZpokEJUA7TQTKfB9PCTQZAIMgv/4449CVLh48WKTUZj3hhNgEimT6xDYCCR5SKCpBPCR6BcYN3hIQAL1Eriu3tt5NwlIQAISkIAEJCABCUhAAhKQgAQkIAEJSEACEpCABHIm8D9kabCc6MkeGgAAAABJRU5ErkJggg==)"
      ]
    },
    {
      "cell_type": "code",
      "metadata": {
        "id": "xScNYpUMthzL"
      },
      "source": [
        "import pandas as pd"
      ],
      "execution_count": 74,
      "outputs": []
    },
    {
      "cell_type": "code",
      "metadata": {
        "id": "djO-i6rpnnG5",
        "outputId": "a3dd2471-41e2-4682-de10-f4b0844c63ed",
        "colab": {
          "base_uri": "https://localhost:8080/",
          "height": 143
        }
      },
      "source": [
        "records = [['Jack',1,1,0,1,0,0,0],\n",
        "           ['Mary',0,1,0,1,0,1,0],\n",
        "           ['Jim',1,1,1,0,0,0,0]]\n",
        "labels = ['Name','Gender','Fever','Cough','Test-1','Test-2','Test-3','Test-4']\n",
        "\n",
        "binary_table = pd.DataFrame.from_records(records,columns=labels)\n",
        "binary_table"
      ],
      "execution_count": 76,
      "outputs": [
        {
          "output_type": "execute_result",
          "data": {
            "text/html": [
              "<div>\n",
              "<style scoped>\n",
              "    .dataframe tbody tr th:only-of-type {\n",
              "        vertical-align: middle;\n",
              "    }\n",
              "\n",
              "    .dataframe tbody tr th {\n",
              "        vertical-align: top;\n",
              "    }\n",
              "\n",
              "    .dataframe thead th {\n",
              "        text-align: right;\n",
              "    }\n",
              "</style>\n",
              "<table border=\"1\" class=\"dataframe\">\n",
              "  <thead>\n",
              "    <tr style=\"text-align: right;\">\n",
              "      <th></th>\n",
              "      <th>Name</th>\n",
              "      <th>Gender</th>\n",
              "      <th>Fever</th>\n",
              "      <th>Cough</th>\n",
              "      <th>Test-1</th>\n",
              "      <th>Test-2</th>\n",
              "      <th>Test-3</th>\n",
              "      <th>Test-4</th>\n",
              "    </tr>\n",
              "  </thead>\n",
              "  <tbody>\n",
              "    <tr>\n",
              "      <th>0</th>\n",
              "      <td>Jack</td>\n",
              "      <td>1</td>\n",
              "      <td>1</td>\n",
              "      <td>0</td>\n",
              "      <td>1</td>\n",
              "      <td>0</td>\n",
              "      <td>0</td>\n",
              "      <td>0</td>\n",
              "    </tr>\n",
              "    <tr>\n",
              "      <th>1</th>\n",
              "      <td>Mary</td>\n",
              "      <td>0</td>\n",
              "      <td>1</td>\n",
              "      <td>0</td>\n",
              "      <td>1</td>\n",
              "      <td>0</td>\n",
              "      <td>1</td>\n",
              "      <td>0</td>\n",
              "    </tr>\n",
              "    <tr>\n",
              "      <th>2</th>\n",
              "      <td>Jim</td>\n",
              "      <td>1</td>\n",
              "      <td>1</td>\n",
              "      <td>1</td>\n",
              "      <td>0</td>\n",
              "      <td>0</td>\n",
              "      <td>0</td>\n",
              "      <td>0</td>\n",
              "    </tr>\n",
              "  </tbody>\n",
              "</table>\n",
              "</div>"
            ],
            "text/plain": [
              "   Name  Gender  Fever  Cough  Test-1  Test-2  Test-3  Test-4\n",
              "0  Jack       1      1      0       1       0       0       0\n",
              "1  Mary       0      1      0       1       0       1       0\n",
              "2   Jim       1      1      1       0       0       0       0"
            ]
          },
          "metadata": {},
          "execution_count": 76
        }
      ]
    },
    {
      "cell_type": "code",
      "metadata": {
        "id": "XMYg0QHWqwhi"
      },
      "source": [
        "def dist_binary_symmetric(p1,p2):\n",
        "    q = 0.\n",
        "    r = 0.\n",
        "    s = 0.\n",
        "    t = 0.\n",
        "    for i in range(len(p1)):\n",
        "        \n",
        "        if (p1[i] == 1) and (p2[i] == 1):\n",
        "            q = q + 1\n",
        "        \n",
        "        if (p1[i] == 0) and (p2[i] == 1):\n",
        "            r = r + 1\n",
        "        \n",
        "        if (p1[i] == 1) and (p2[i] == 0):\n",
        "            s = s + 1\n",
        "\n",
        "        if (p1[i] == 0) and (p2[i] == 0):\n",
        "            t = t + 1\n",
        "    return (r+s)/(q+r+s+t)"
      ],
      "execution_count": 77,
      "outputs": []
    },
    {
      "cell_type": "code",
      "metadata": {
        "id": "fCxPJ0j_tzZU",
        "outputId": "ae975308-d20e-40ee-da0d-6040d99db304",
        "colab": {
          "base_uri": "https://localhost:8080/"
        }
      },
      "source": [
        "dist_binary_symmetric(binary_table.iloc[0,1:],binary_table.iloc[1,1:])"
      ],
      "execution_count": 78,
      "outputs": [
        {
          "output_type": "execute_result",
          "data": {
            "text/plain": [
              "0.2857142857142857"
            ]
          },
          "metadata": {},
          "execution_count": 78
        }
      ]
    }
  ]
}