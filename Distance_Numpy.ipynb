{
  "nbformat": 4,
  "nbformat_minor": 0,
  "metadata": {
    "colab": {
      "name": "Distance Numpy.ipynb",
      "provenance": [],
      "authorship_tag": "ABX9TyNiTTAvvLEN1idRStJXN7Q/",
      "include_colab_link": true
    },
    "kernelspec": {
      "name": "python3",
      "display_name": "Python 3"
    },
    "language_info": {
      "name": "python"
    }
  },
  "cells": [
    {
      "cell_type": "markdown",
      "metadata": {
        "id": "view-in-github",
        "colab_type": "text"
      },
      "source": [
        "<a href=\"https://colab.research.google.com/github/pondbaahh/DWDM21/blob/main/Distance_Numpy.ipynb\" target=\"_parent\"><img src=\"https://colab.research.google.com/assets/colab-badge.svg\" alt=\"Open In Colab\"/></a>"
      ]
    },
    {
      "cell_type": "code",
      "metadata": {
        "id": "opPx8qYjcwCQ"
      },
      "source": [
        "import numpy as np # package สำหรับทำงานกับ ข้อมูลที่เป็นตัวเลข (อยู่ในรูปแบบ Matrix)"
      ],
      "execution_count": 94,
      "outputs": []
    },
    {
      "cell_type": "markdown",
      "metadata": {
        "id": "Zq1j7XcLdmTu"
      },
      "source": [
        "### Numpy Array"
      ]
    },
    {
      "cell_type": "markdown",
      "metadata": {
        "id": "p_uoARJ9fMDT"
      },
      "source": [
        "### สร้าง numpy array (matrix) จาก list"
      ]
    },
    {
      "cell_type": "code",
      "metadata": {
        "id": "XJf6PNtqdlta"
      },
      "source": [
        "np_a = np.array([[1,2,3],[4,5,6]]) #สร้าง numpy array ที่มี2 แถว 3 หลัก"
      ],
      "execution_count": 95,
      "outputs": []
    },
    {
      "cell_type": "code",
      "metadata": {
        "colab": {
          "base_uri": "https://localhost:8080/"
        },
        "id": "PjcLJyIyd8AE",
        "outputId": "f95ce480-6d62-4097-9f55-e46a4cd7f4fb"
      },
      "source": [
        "np_a"
      ],
      "execution_count": 96,
      "outputs": [
        {
          "output_type": "execute_result",
          "data": {
            "text/plain": [
              "array([[1, 2, 3],\n",
              "       [4, 5, 6]])"
            ]
          },
          "metadata": {},
          "execution_count": 96
        }
      ]
    },
    {
      "cell_type": "code",
      "metadata": {
        "colab": {
          "base_uri": "https://localhost:8080/"
        },
        "id": "6rr2RSxueSE1",
        "outputId": "6918c591-2191-4295-dd80-d3132f700084"
      },
      "source": [
        "np_a.shape"
      ],
      "execution_count": 97,
      "outputs": [
        {
          "output_type": "execute_result",
          "data": {
            "text/plain": [
              "(2, 3)"
            ]
          },
          "metadata": {},
          "execution_count": 97
        }
      ]
    },
    {
      "cell_type": "code",
      "metadata": {
        "colab": {
          "base_uri": "https://localhost:8080/"
        },
        "id": "q6IUNlrXeViV",
        "outputId": "eba3c0b1-5eb5-430c-d335-709cc57b43d2"
      },
      "source": [
        "np_b = np.array([[1,4],[2,5],[3,6]])\n",
        "np_b"
      ],
      "execution_count": 98,
      "outputs": [
        {
          "output_type": "execute_result",
          "data": {
            "text/plain": [
              "array([[1, 4],\n",
              "       [2, 5],\n",
              "       [3, 6]])"
            ]
          },
          "metadata": {},
          "execution_count": 98
        }
      ]
    },
    {
      "cell_type": "markdown",
      "metadata": {
        "id": "j0W8_jBOfDZx"
      },
      "source": [
        "##matrix transpose"
      ]
    },
    {
      "cell_type": "code",
      "metadata": {
        "colab": {
          "base_uri": "https://localhost:8080/"
        },
        "id": "uuX9pf0ifHAY",
        "outputId": "910871c5-b77a-458b-d173-5484737c6427"
      },
      "source": [
        "np_a.T"
      ],
      "execution_count": 99,
      "outputs": [
        {
          "output_type": "execute_result",
          "data": {
            "text/plain": [
              "array([[1, 4],\n",
              "       [2, 5],\n",
              "       [3, 6]])"
            ]
          },
          "metadata": {},
          "execution_count": 99
        }
      ]
    },
    {
      "cell_type": "markdown",
      "metadata": {
        "id": "DFr0Pp-bfWgK"
      },
      "source": [
        "##สร้าง matrix เริ่มต้น (zeros,ones)"
      ]
    },
    {
      "cell_type": "code",
      "metadata": {
        "colab": {
          "base_uri": "https://localhost:8080/"
        },
        "id": "VoUJdi2zffKC",
        "outputId": "0f45f68e-818e-4e68-ec1c-f13454d602b0"
      },
      "source": [
        "np_z = np.zeros((4,5))\n",
        "np_z"
      ],
      "execution_count": 100,
      "outputs": [
        {
          "output_type": "execute_result",
          "data": {
            "text/plain": [
              "array([[0., 0., 0., 0., 0.],\n",
              "       [0., 0., 0., 0., 0.],\n",
              "       [0., 0., 0., 0., 0.],\n",
              "       [0., 0., 0., 0., 0.]])"
            ]
          },
          "metadata": {},
          "execution_count": 100
        }
      ]
    },
    {
      "cell_type": "code",
      "metadata": {
        "colab": {
          "base_uri": "https://localhost:8080/"
        },
        "id": "5Sqtxynsfl9v",
        "outputId": "49ddc7fe-2f89-4a3e-d643-888a82a2dda4"
      },
      "source": [
        "np_o = np.ones((5,6))\n",
        "np_o"
      ],
      "execution_count": 101,
      "outputs": [
        {
          "output_type": "execute_result",
          "data": {
            "text/plain": [
              "array([[1., 1., 1., 1., 1., 1.],\n",
              "       [1., 1., 1., 1., 1., 1.],\n",
              "       [1., 1., 1., 1., 1., 1.],\n",
              "       [1., 1., 1., 1., 1., 1.],\n",
              "       [1., 1., 1., 1., 1., 1.]])"
            ]
          },
          "metadata": {},
          "execution_count": 101
        }
      ]
    },
    {
      "cell_type": "code",
      "metadata": {
        "colab": {
          "base_uri": "https://localhost:8080/"
        },
        "id": "mM50TLBTgE8_",
        "outputId": "c4beebbe-81b1-4bfd-e867-a9cece90c73a"
      },
      "source": [
        "np_200 = 200*np.ones((4,7))\n",
        "np_200  # เอา 200 มาคูณ"
      ],
      "execution_count": 102,
      "outputs": [
        {
          "output_type": "execute_result",
          "data": {
            "text/plain": [
              "array([[200., 200., 200., 200., 200., 200., 200.],\n",
              "       [200., 200., 200., 200., 200., 200., 200.],\n",
              "       [200., 200., 200., 200., 200., 200., 200.],\n",
              "       [200., 200., 200., 200., 200., 200., 200.]])"
            ]
          },
          "metadata": {},
          "execution_count": 102
        }
      ]
    },
    {
      "cell_type": "markdown",
      "metadata": {
        "id": "UmFacYCrgZXL"
      },
      "source": [
        "## สร้าง Matrix random "
      ]
    },
    {
      "cell_type": "code",
      "metadata": {
        "colab": {
          "base_uri": "https://localhost:8080/"
        },
        "id": "F4bNa-wggOOK",
        "outputId": "51202a5e-2cc4-465d-c506-0e46e2ada0ad"
      },
      "source": [
        "np.random.randn(5,5)  #random เลขมาจาก normal distribution ที่มี mu=0 std=1"
      ],
      "execution_count": 103,
      "outputs": [
        {
          "output_type": "execute_result",
          "data": {
            "text/plain": [
              "array([[ 1.55954166,  0.26283535,  0.11484307, -1.04368841,  2.2170031 ],\n",
              "       [ 0.43592111,  1.03799316, -1.2090635 ,  0.55387869, -0.1170864 ],\n",
              "       [ 0.19144968,  0.27824753, -1.43030948,  0.69474304,  0.62790642],\n",
              "       [ 0.58075835, -1.34814027, -1.65207855, -0.80991264,  0.3066941 ],\n",
              "       [-0.15319928,  0.30203184, -1.02275279,  0.87403195, -0.69986651]])"
            ]
          },
          "metadata": {},
          "execution_count": 103
        }
      ]
    },
    {
      "cell_type": "code",
      "metadata": {
        "colab": {
          "base_uri": "https://localhost:8080/"
        },
        "id": "hhCTvLgTgy9a",
        "outputId": "8ab47939-2376-4233-eb2b-e529bea92d3d"
      },
      "source": [
        "2+(5*np.random.randn(3,3)) #random เลขมาจาก normal distribution ที่มี mu=2 std=5"
      ],
      "execution_count": 104,
      "outputs": [
        {
          "output_type": "execute_result",
          "data": {
            "text/plain": [
              "array([[ 8.74934881, -0.44978979,  1.73128773],\n",
              "       [-0.67144543,  5.61887354,  6.58158966],\n",
              "       [ 6.30892717, -3.68757852, -3.93020519]])"
            ]
          },
          "metadata": {},
          "execution_count": 104
        }
      ]
    },
    {
      "cell_type": "code",
      "metadata": {
        "colab": {
          "base_uri": "https://localhost:8080/"
        },
        "id": "3Mkxd6VvhVbw",
        "outputId": "5bc9699c-6d29-4fc6-a0e5-c0fd63be548e"
      },
      "source": [
        "np.random.randint(5,11,(4,5)) #random เลขจำนวนเต็ม ระหว่าง[5,11] ขนาด (4x5)"
      ],
      "execution_count": 105,
      "outputs": [
        {
          "output_type": "execute_result",
          "data": {
            "text/plain": [
              "array([[ 7,  5,  5, 10,  6],\n",
              "       [ 5,  5,  6,  7,  6],\n",
              "       [ 5,  7,  8,  8, 10],\n",
              "       [ 8,  6,  9,  6,  7]])"
            ]
          },
          "metadata": {},
          "execution_count": 105
        }
      ]
    },
    {
      "cell_type": "markdown",
      "metadata": {
        "id": "UtCgA9jVOn2p"
      },
      "source": [
        "## matrix poroperties"
      ]
    },
    {
      "cell_type": "code",
      "metadata": {
        "id": "mWQdWIXkh8zI",
        "colab": {
          "base_uri": "https://localhost:8080/"
        },
        "outputId": "5e3a3a3e-b8ec-4cd5-ccbe-5315238c7352"
      },
      "source": [
        "np_a"
      ],
      "execution_count": 106,
      "outputs": [
        {
          "output_type": "execute_result",
          "data": {
            "text/plain": [
              "array([[1, 2, 3],\n",
              "       [4, 5, 6]])"
            ]
          },
          "metadata": {},
          "execution_count": 106
        }
      ]
    },
    {
      "cell_type": "code",
      "metadata": {
        "id": "yixBmgxeOxt-",
        "colab": {
          "base_uri": "https://localhost:8080/"
        },
        "outputId": "f419e86f-1159-4bfc-a240-e698836ce41f"
      },
      "source": [
        "np_a.T #ทำการ transpose"
      ],
      "execution_count": 107,
      "outputs": [
        {
          "output_type": "execute_result",
          "data": {
            "text/plain": [
              "array([[1, 4],\n",
              "       [2, 5],\n",
              "       [3, 6]])"
            ]
          },
          "metadata": {},
          "execution_count": 107
        }
      ]
    },
    {
      "cell_type": "code",
      "metadata": {
        "id": "7qERTz_tO4oh",
        "colab": {
          "base_uri": "https://localhost:8080/"
        },
        "outputId": "66fc6672-d7ad-4af2-ca02-c5a86e48bd69"
      },
      "source": [
        "1 + np_a #เอาตัวเลขมาบวกกับ matrix"
      ],
      "execution_count": 108,
      "outputs": [
        {
          "output_type": "execute_result",
          "data": {
            "text/plain": [
              "array([[2, 3, 4],\n",
              "       [5, 6, 7]])"
            ]
          },
          "metadata": {},
          "execution_count": 108
        }
      ]
    },
    {
      "cell_type": "code",
      "metadata": {
        "id": "VWH9b4X_PEiN",
        "colab": {
          "base_uri": "https://localhost:8080/"
        },
        "outputId": "9ff5884f-44de-4375-e52f-fab68acb8f1f"
      },
      "source": [
        "2 * np_a #เอาตัวเลขมาคูณกับ matrix"
      ],
      "execution_count": 109,
      "outputs": [
        {
          "output_type": "execute_result",
          "data": {
            "text/plain": [
              "array([[ 2,  4,  6],\n",
              "       [ 8, 10, 12]])"
            ]
          },
          "metadata": {},
          "execution_count": 109
        }
      ]
    },
    {
      "cell_type": "code",
      "metadata": {
        "id": "h-1u8cgFPLpQ",
        "colab": {
          "base_uri": "https://localhost:8080/"
        },
        "outputId": "267706e4-d67d-4aee-b584-11762fa3015c"
      },
      "source": [
        "np_c = np.array([[6,5,4],[3,2,1]])\n",
        "np_c"
      ],
      "execution_count": 110,
      "outputs": [
        {
          "output_type": "execute_result",
          "data": {
            "text/plain": [
              "array([[6, 5, 4],\n",
              "       [3, 2, 1]])"
            ]
          },
          "metadata": {},
          "execution_count": 110
        }
      ]
    },
    {
      "cell_type": "code",
      "metadata": {
        "id": "QIN609hmPbFR",
        "colab": {
          "base_uri": "https://localhost:8080/"
        },
        "outputId": "25d661f6-9338-4526-9421-da05ba18e54a"
      },
      "source": [
        "np_a + np_c #เอา matrix มาบวกกับ matrix"
      ],
      "execution_count": 111,
      "outputs": [
        {
          "output_type": "execute_result",
          "data": {
            "text/plain": [
              "array([[7, 7, 7],\n",
              "       [7, 7, 7]])"
            ]
          },
          "metadata": {},
          "execution_count": 111
        }
      ]
    },
    {
      "cell_type": "code",
      "metadata": {
        "id": "Z91rSmMhPmtx",
        "colab": {
          "base_uri": "https://localhost:8080/"
        },
        "outputId": "fa91289e-be3e-411b-c927-f7bbd1da5cf3"
      },
      "source": [
        "np_a.shape #ดูขนาดได้ 2*3"
      ],
      "execution_count": 112,
      "outputs": [
        {
          "output_type": "execute_result",
          "data": {
            "text/plain": [
              "(2, 3)"
            ]
          },
          "metadata": {},
          "execution_count": 112
        }
      ]
    },
    {
      "cell_type": "code",
      "metadata": {
        "id": "PQ_9KREiQPPt",
        "colab": {
          "base_uri": "https://localhost:8080/"
        },
        "outputId": "80a51f48-cca0-4d44-9089-200663ee178f"
      },
      "source": [
        "np_c.shape #ดูขนาดได้ 2*3"
      ],
      "execution_count": 113,
      "outputs": [
        {
          "output_type": "execute_result",
          "data": {
            "text/plain": [
              "(2, 3)"
            ]
          },
          "metadata": {},
          "execution_count": 113
        }
      ]
    },
    {
      "cell_type": "code",
      "metadata": {
        "id": "GEGzyfubQWQF"
      },
      "source": [
        "#np.dot(np_a,np_c) #การคูณ matrix (a,b) x (b,c) = (a,c)\n",
        "#หลักของตัวหน้า เท่า แถวของตัวหลัง ถึงคูณกันได้"
      ],
      "execution_count": 114,
      "outputs": []
    },
    {
      "cell_type": "code",
      "metadata": {
        "id": "n0c81dLUQxh7",
        "colab": {
          "base_uri": "https://localhost:8080/"
        },
        "outputId": "66573134-3757-4cd4-e22c-579698164c09"
      },
      "source": [
        "np_c.T"
      ],
      "execution_count": 115,
      "outputs": [
        {
          "output_type": "execute_result",
          "data": {
            "text/plain": [
              "array([[6, 3],\n",
              "       [5, 2],\n",
              "       [4, 1]])"
            ]
          },
          "metadata": {},
          "execution_count": 115
        }
      ]
    },
    {
      "cell_type": "code",
      "metadata": {
        "id": "JR94mzUjRNVp",
        "colab": {
          "base_uri": "https://localhost:8080/"
        },
        "outputId": "a7908e7a-8bbd-44f2-efd7-ef9c69040fbe"
      },
      "source": [
        "np.dot(np_a,np_c.T)  #การคูณ matrix (a,b) x (b,c) = (a,c)"
      ],
      "execution_count": 116,
      "outputs": [
        {
          "output_type": "execute_result",
          "data": {
            "text/plain": [
              "array([[28, 10],\n",
              "       [73, 28]])"
            ]
          },
          "metadata": {},
          "execution_count": 116
        }
      ]
    },
    {
      "cell_type": "markdown",
      "metadata": {
        "id": "nUzXrH88RXLJ"
      },
      "source": [
        "## Indexing & Slicing"
      ]
    },
    {
      "cell_type": "code",
      "metadata": {
        "id": "iXlwTaKnRdcp",
        "colab": {
          "base_uri": "https://localhost:8080/"
        },
        "outputId": "602607e2-5d04-411b-dce5-0ec462d94d7b"
      },
      "source": [
        "np_a # เริ่มจากแถว 0 ,1 หลัก 0,1,2"
      ],
      "execution_count": 117,
      "outputs": [
        {
          "output_type": "execute_result",
          "data": {
            "text/plain": [
              "array([[1, 2, 3],\n",
              "       [4, 5, 6]])"
            ]
          },
          "metadata": {},
          "execution_count": 117
        }
      ]
    },
    {
      "cell_type": "code",
      "metadata": {
        "id": "v-JA4m4lRiOG",
        "colab": {
          "base_uri": "https://localhost:8080/"
        },
        "outputId": "b79cae57-b680-4b7a-a596-e66f499417e6"
      },
      "source": [
        "np_a[1,1]"
      ],
      "execution_count": 118,
      "outputs": [
        {
          "output_type": "execute_result",
          "data": {
            "text/plain": [
              "5"
            ]
          },
          "metadata": {},
          "execution_count": 118
        }
      ]
    },
    {
      "cell_type": "code",
      "metadata": {
        "id": "fF-fOJbNSFxs",
        "colab": {
          "base_uri": "https://localhost:8080/"
        },
        "outputId": "ee2492e7-7b65-4a0c-a233-41ecfa3cc83a"
      },
      "source": [
        "np_a[:2,:2]"
      ],
      "execution_count": 119,
      "outputs": [
        {
          "output_type": "execute_result",
          "data": {
            "text/plain": [
              "array([[1, 2],\n",
              "       [4, 5]])"
            ]
          },
          "metadata": {},
          "execution_count": 119
        }
      ]
    },
    {
      "cell_type": "code",
      "metadata": {
        "id": "kHLvhU3JSV69",
        "colab": {
          "base_uri": "https://localhost:8080/"
        },
        "outputId": "5eb46af7-565e-4cff-efaf-f0efc2fc0d02"
      },
      "source": [
        "np_a[0,:]"
      ],
      "execution_count": 120,
      "outputs": [
        {
          "output_type": "execute_result",
          "data": {
            "text/plain": [
              "array([1, 2, 3])"
            ]
          },
          "metadata": {},
          "execution_count": 120
        }
      ]
    },
    {
      "cell_type": "markdown",
      "metadata": {
        "id": "GkPvv96iSoPq"
      },
      "source": [
        "## Useful Functions"
      ]
    },
    {
      "cell_type": "code",
      "metadata": {
        "id": "Fh38GM4PS7xK",
        "colab": {
          "base_uri": "https://localhost:8080/"
        },
        "outputId": "3ceb21a3-3732-486b-870d-4ccbc8c14cc9"
      },
      "source": [
        "np_a"
      ],
      "execution_count": 121,
      "outputs": [
        {
          "output_type": "execute_result",
          "data": {
            "text/plain": [
              "array([[1, 2, 3],\n",
              "       [4, 5, 6]])"
            ]
          },
          "metadata": {},
          "execution_count": 121
        }
      ]
    },
    {
      "cell_type": "code",
      "metadata": {
        "id": "YeWJlRdgSa-W",
        "colab": {
          "base_uri": "https://localhost:8080/"
        },
        "outputId": "069825df-5985-4c2f-f91b-ca999cf5b243"
      },
      "source": [
        "np.sum(np_a) #การวมเลขของ np_a"
      ],
      "execution_count": 122,
      "outputs": [
        {
          "output_type": "execute_result",
          "data": {
            "text/plain": [
              "21"
            ]
          },
          "metadata": {},
          "execution_count": 122
        }
      ]
    },
    {
      "cell_type": "code",
      "metadata": {
        "id": "UhQkrO9AS9td",
        "colab": {
          "base_uri": "https://localhost:8080/"
        },
        "outputId": "3f17dcfb-f275-4cf6-f501-4986b4d34adc"
      },
      "source": [
        "np.sum(np_a,axis=0) #axis คือการเอาค่าในแกนตั้งมารวมกัน"
      ],
      "execution_count": 123,
      "outputs": [
        {
          "output_type": "execute_result",
          "data": {
            "text/plain": [
              "array([5, 7, 9])"
            ]
          },
          "metadata": {},
          "execution_count": 123
        }
      ]
    },
    {
      "cell_type": "code",
      "metadata": {
        "id": "f37Q0xgaTWYU",
        "colab": {
          "base_uri": "https://localhost:8080/"
        },
        "outputId": "762b6f75-3c6d-40ba-997b-984e75d81ddc"
      },
      "source": [
        "np.sum(np_a,axis=1)#axis คือการเอาค่าในแกนนอนมารวมกัน"
      ],
      "execution_count": 124,
      "outputs": [
        {
          "output_type": "execute_result",
          "data": {
            "text/plain": [
              "array([ 6, 15])"
            ]
          },
          "metadata": {},
          "execution_count": 124
        }
      ]
    },
    {
      "cell_type": "code",
      "metadata": {
        "id": "FGgyJKcqTdRN",
        "colab": {
          "base_uri": "https://localhost:8080/"
        },
        "outputId": "13297557-a6f6-43c5-9118-f16708c08fa7"
      },
      "source": [
        "np.mean(np_a) #หาค่าmean"
      ],
      "execution_count": 125,
      "outputs": [
        {
          "output_type": "execute_result",
          "data": {
            "text/plain": [
              "3.5"
            ]
          },
          "metadata": {},
          "execution_count": 125
        }
      ]
    },
    {
      "cell_type": "code",
      "metadata": {
        "id": "4zXMcr2CTqEF",
        "colab": {
          "base_uri": "https://localhost:8080/"
        },
        "outputId": "bc55b52f-925e-4fc5-d4fc-cde8fb5aee37"
      },
      "source": [
        "np.mean(np_a,axis=0) #หา mean ของ column"
      ],
      "execution_count": 126,
      "outputs": [
        {
          "output_type": "execute_result",
          "data": {
            "text/plain": [
              "array([2.5, 3.5, 4.5])"
            ]
          },
          "metadata": {},
          "execution_count": 126
        }
      ]
    },
    {
      "cell_type": "markdown",
      "metadata": {
        "id": "TiK7hY-dVCx2"
      },
      "source": [
        "### วนลูปเอง"
      ]
    },
    {
      "cell_type": "markdown",
      "metadata": {
        "id": "w9ABiYdFVM79"
      },
      "source": [
        "summation"
      ]
    },
    {
      "cell_type": "code",
      "metadata": {
        "id": "fH9v7UvrWz8r",
        "colab": {
          "base_uri": "https://localhost:8080/"
        },
        "outputId": "8a0ee2c1-9174-4ed9-b868-55ccbd68d4cf"
      },
      "source": [
        "np_a.shape"
      ],
      "execution_count": 127,
      "outputs": [
        {
          "output_type": "execute_result",
          "data": {
            "text/plain": [
              "(2, 3)"
            ]
          },
          "metadata": {},
          "execution_count": 127
        }
      ]
    },
    {
      "cell_type": "code",
      "metadata": {
        "id": "DNzQyLyfUNqy",
        "colab": {
          "base_uri": "https://localhost:8080/"
        },
        "outputId": "504d22e9-0053-4029-95ea-7439d1d9a551"
      },
      "source": [
        "sum_all = 0\n",
        "\n",
        "for row in range(np_a.shape[0]):\n",
        "    for col in range(np_a.shape[1]):\n",
        "        sum_all = sum_all + np_a[row,col]\n",
        "        print(f'we are at row={row},col={col} np_a[{row},{col}]={np_a[row,col]} sum_all={sum_all}')\n",
        "print(sum_all)        "
      ],
      "execution_count": 128,
      "outputs": [
        {
          "output_type": "stream",
          "name": "stdout",
          "text": [
            "we are at row=0,col=0 np_a[0,0]=1 sum_all=1\n",
            "we are at row=0,col=1 np_a[0,1]=2 sum_all=3\n",
            "we are at row=0,col=2 np_a[0,2]=3 sum_all=6\n",
            "we are at row=1,col=0 np_a[1,0]=4 sum_all=10\n",
            "we are at row=1,col=1 np_a[1,1]=5 sum_all=15\n",
            "we are at row=1,col=2 np_a[1,2]=6 sum_all=21\n",
            "21\n"
          ]
        }
      ]
    },
    {
      "cell_type": "markdown",
      "metadata": {
        "id": "EFuPTm8JW-bC"
      },
      "source": [
        "np.sum(np_a,axis=0)"
      ]
    },
    {
      "cell_type": "code",
      "metadata": {
        "id": "I3jvfH6RW9Gl",
        "colab": {
          "base_uri": "https://localhost:8080/"
        },
        "outputId": "da30733b-d1a0-40ae-a815-b29fedc7613c"
      },
      "source": [
        "sum_all = np.zeros(np_a.shape[1])\n",
        "\n",
        "for row in range(np_a.shape[0]):\n",
        "    for col in range(np_a.shape[1]):\n",
        "        sum_all[col] = sum_all[col] + np_a[row,col]     \n",
        "print(sum_all) "
      ],
      "execution_count": 129,
      "outputs": [
        {
          "output_type": "stream",
          "name": "stdout",
          "text": [
            "[5. 7. 9.]\n"
          ]
        }
      ]
    },
    {
      "cell_type": "markdown",
      "metadata": {
        "id": "qspZHG2WYkdp"
      },
      "source": [
        "Quiz กลุ่ม\n",
        "\n",
        "วนลูปหาค่า\n",
        "\n",
        "\n",
        "* np.sum(np_a,axis=1) sukuna \n",
        "* np.mean(np_a) i love อ.ต้น \n",
        "* np.mean(np_a,axis=0) natashar \n",
        "* np.mean(np_a,axis=1) teletubby\n",
        "* np.max(np_a) numba one \n",
        "* np.max(np_a,axis=0) เอกาไร้สติ \n",
        "* np.max(np_a,axis=1) sandbox \n",
        "* np.min(np_a) ลูกหมี \n",
        "* np.min(np_a,axis=0) wakame \n",
        "* np.min(np_a,axis=1) แมวส้ม \n",
        "\n"
      ]
    },
    {
      "cell_type": "code",
      "metadata": {
        "id": "g4WywoBsX5-x",
        "colab": {
          "base_uri": "https://localhost:8080/"
        },
        "outputId": "822a0293-6635-4216-e179-a2c9f0c33e8c"
      },
      "source": [
        "sum_all = np.zeros(np_a.shape[0])\n",
        "\n",
        "for row in range(np_a.shape[0]):\n",
        "    for col in range(np_a.shape[1]):\n",
        "        sum_all[row] = sum_all[row] + np_a[row,col]     \n",
        "print(sum_all) "
      ],
      "execution_count": 130,
      "outputs": [
        {
          "output_type": "stream",
          "name": "stdout",
          "text": [
            "[ 6. 15.]\n"
          ]
        }
      ]
    },
    {
      "cell_type": "code",
      "metadata": {
        "id": "C0gUiExgnMAT",
        "colab": {
          "base_uri": "https://localhost:8080/"
        },
        "outputId": "21d9ea20-ca17-47e4-8a14-122347e1bcc0"
      },
      "source": [
        "#np.mean(np_a,axis=0)\n",
        "mean_all = np.zeros(np_a.shape[1])\n",
        "for row in range(np_a.shape[0]):\n",
        "     for col in range(np_a.shape[1]):\n",
        "          mean_all[col] = mean_all[col] + np_a[row,col]/np_a.shape[0]\n",
        "print(mean_all)"
      ],
      "execution_count": 131,
      "outputs": [
        {
          "output_type": "stream",
          "name": "stdout",
          "text": [
            "[2.5 3.5 4.5]\n"
          ]
        }
      ]
    },
    {
      "cell_type": "code",
      "metadata": {
        "id": "AHG8ouDunRw-",
        "colab": {
          "base_uri": "https://localhost:8080/"
        },
        "outputId": "ee3a2d4e-31ae-426a-c4fc-7b3ec44ebe74"
      },
      "source": [
        "#np.mean(np_a,axis=1)\n",
        "sum_all = np.zeros(np_a.shape[0])\n",
        "for row in range(np_a.shape[0]):\n",
        "    for col in range(np_a.shape[1]): \n",
        "        sum_all[row] = sum_all[row] + np_a[row,col]\n",
        "sum_all = sum_all/np_a.shape[1]\n",
        "print(sum_all)"
      ],
      "execution_count": 132,
      "outputs": [
        {
          "output_type": "stream",
          "name": "stdout",
          "text": [
            "[2. 5.]\n"
          ]
        }
      ]
    },
    {
      "cell_type": "code",
      "metadata": {
        "id": "IoWMA3WLnV0M",
        "colab": {
          "base_uri": "https://localhost:8080/"
        },
        "outputId": "372a0ce3-7414-441f-e3ab-9b51ea76b45b"
      },
      "source": [
        "#np.max(np_a)\n",
        "max_a = -100000000\n",
        "for row in range(np_a.shape[0]):\n",
        "    for col in range(np_a.shape[1]):\n",
        "        if np_a[row,col] > max_a :\n",
        "            max_a = np_a[row,col]\n",
        "print(max_a)\n"
      ],
      "execution_count": 133,
      "outputs": [
        {
          "output_type": "stream",
          "name": "stdout",
          "text": [
            "6\n"
          ]
        }
      ]
    },
    {
      "cell_type": "code",
      "metadata": {
        "id": "nUEOughZnYZV",
        "colab": {
          "base_uri": "https://localhost:8080/"
        },
        "outputId": "886238db-67bf-4c70-8041-f3facfc7dee0"
      },
      "source": [
        "### 10. np.min(np_a,axis=1)\n",
        "min_row = np.zeros(np_a.shape[0])\n",
        "for row in range(np_a.shape[0]):\n",
        "   min_row[row] = min(np_a[row,:])\n",
        "print(min_row)"
      ],
      "execution_count": 134,
      "outputs": [
        {
          "output_type": "stream",
          "name": "stdout",
          "text": [
            "[1. 4.]\n"
          ]
        }
      ]
    },
    {
      "cell_type": "code",
      "metadata": {
        "id": "ouFCnqxNncEg",
        "colab": {
          "base_uri": "https://localhost:8080/"
        },
        "outputId": "740d91ce-9b7a-484c-e92a-6a022614def5"
      },
      "source": [
        "# np.min(np_a,axis=0)\n",
        "min_all = np.zeros(np_a.shape[1])\n",
        "\n",
        "for col in range(np_a.shape[1]):\n",
        "    min_all[col] = min(np_a[:,col])\n",
        "print(min_all)"
      ],
      "execution_count": 135,
      "outputs": [
        {
          "output_type": "stream",
          "name": "stdout",
          "text": [
            "[1. 2. 3.]\n"
          ]
        }
      ]
    },
    {
      "cell_type": "code",
      "metadata": {
        "id": "64ZzlLxGnet9",
        "colab": {
          "base_uri": "https://localhost:8080/"
        },
        "outputId": "c31401a4-509c-4fa9-86bc-4840adf7b722"
      },
      "source": [
        "# np.min(np_a) \n",
        "minV = 100000\n",
        "for row in range(np_a.shape[0]):\n",
        "    for col in range(np_a.shape[1]):\n",
        "        if np_a[row,col] < minV:\n",
        "            minV = np_a[row,col]\n",
        "print(minV)"
      ],
      "execution_count": 136,
      "outputs": [
        {
          "output_type": "stream",
          "name": "stdout",
          "text": [
            "1\n"
          ]
        }
      ]
    },
    {
      "cell_type": "code",
      "metadata": {
        "id": "1ZC5QwLong6b",
        "colab": {
          "base_uri": "https://localhost:8080/"
        },
        "outputId": "e931ecc2-1db5-413f-bbb9-9825b11cd6f4"
      },
      "source": [
        "# np.max(np_a,axis=0)\n",
        "max_all = -100000 * np.ones(np_a.shape[1])\n",
        "for col in range(np_a.shape[1]):\n",
        "    for row in range(np_a.shape[0]):\n",
        "        if np_a[row,col] > max_all[col]: \n",
        "            max_all[col] = np_a[row,col]\n",
        "print(max_all)"
      ],
      "execution_count": 137,
      "outputs": [
        {
          "output_type": "stream",
          "name": "stdout",
          "text": [
            "[4. 5. 6.]\n"
          ]
        }
      ]
    },
    {
      "cell_type": "code",
      "metadata": {
        "id": "IJ-5O1yKnlR8",
        "colab": {
          "base_uri": "https://localhost:8080/"
        },
        "outputId": "5791748b-a627-4ba4-aa78-7556f064d25e"
      },
      "source": [
        "#np.mean(np_a)\n",
        "mean_all = 0\n",
        "for row in range(np_a.shape[0]):\n",
        "    for col in range(np_a.shape[1]):\n",
        "        mean_all = mean_all + np_a[row,col]\n",
        "mean_all = mean_all/(np_a.shape[0]*np_a.shape[1])\n",
        "print(mean_all)"
      ],
      "execution_count": 138,
      "outputs": [
        {
          "output_type": "stream",
          "name": "stdout",
          "text": [
            "3.5\n"
          ]
        }
      ]
    },
    {
      "cell_type": "code",
      "metadata": {
        "id": "Y0wHERUTnqEt",
        "colab": {
          "base_uri": "https://localhost:8080/"
        },
        "outputId": "aed6f683-7d96-4089-aa48-ec73da73c7e6"
      },
      "source": [
        "# np.max(np_a,axis=1)\n",
        "max_all = np.zeros(np_a.shape[0])\n",
        "for row in range(np_a.shape[0]):\n",
        "    max_all[row] = max(np_a[row,:])\n",
        "print(max_all)"
      ],
      "execution_count": 139,
      "outputs": [
        {
          "output_type": "stream",
          "name": "stdout",
          "text": [
            "[3. 6.]\n"
          ]
        }
      ]
    },
    {
      "cell_type": "markdown",
      "metadata": {
        "id": "AGaLQLbcYmb7"
      },
      "source": [
        "### Distance Matrix"
      ]
    },
    {
      "cell_type": "code",
      "metadata": {
        "id": "pUfEcoG9oPPg",
        "colab": {
          "base_uri": "https://localhost:8080/"
        },
        "outputId": "0008dc6e-824c-40e4-8cfa-107609a4a9ea"
      },
      "source": [
        "data1 = np.array([[1,2],[3,5],[2,0],[4,5]]) #สร้างจาก matrix จาก list\n",
        "data1  #4 แถว 2 column"
      ],
      "execution_count": 140,
      "outputs": [
        {
          "output_type": "execute_result",
          "data": {
            "text/plain": [
              "array([[1, 2],\n",
              "       [3, 5],\n",
              "       [2, 0],\n",
              "       [4, 5]])"
            ]
          },
          "metadata": {},
          "execution_count": 140
        }
      ]
    },
    {
      "cell_type": "code",
      "metadata": {
        "colab": {
          "base_uri": "https://localhost:8080/",
          "height": 72
        },
        "id": "v7y8l6wwZLnG",
        "outputId": "c9142193-4d0f-420d-b19a-80d11ad80531"
      },
      "source": [
        "from matplotlib import pyplot as plt \n",
        "plt.scatter(data1[:,0],data1[:,1])  "
      ],
      "execution_count": 141,
      "outputs": [
        {
          "output_type": "execute_result",
          "data": {
            "text/plain": [
              "<matplotlib.collections.PathCollection at 0x7fd9d031f650>"
            ]
          },
          "metadata": {},
          "execution_count": 141
        },
        {
          "output_type": "display_data",
          "data": {
            "image/png": "[encoded data removed]",
            "text/plain": [
              "<Figure size 432x288 with 1 Axes>"
            ]
          },
          "metadata": {
            "needs_background": "light"
          }
        }
      ]
    },
    {
      "cell_type": "markdown",
      "metadata": {
        "id": "-qzNvCTGaf7Y"
      },
      "source": [
        "## Euclidean Distance (L2-norm)\n",
        "$\\sqrt{(x_1-x_2)^2+(y_1-y_2)^2}$"
      ]
    },
    {
      "cell_type": "markdown",
      "metadata": {
        "id": "qFhfoBmteDVW"
      },
      "source": [
        "dist(P1,P2) หาระยะห่าง P1 กับ P1"
      ]
    },
    {
      "cell_type": "code",
      "metadata": {
        "colab": {
          "base_uri": "https://localhost:8080/"
        },
        "id": "UJNWCZuGZ_jF",
        "outputId": "e09532b9-168e-41f5-c160-121a33944183"
      },
      "source": [
        "dist_p1_p2 = np.sqrt(np.power(data1[0,0]-data1[1,0],2)+np.power(data1[0,1]-data1[1,1],2)) #np.power คือ ยกกำลัง\n",
        "dist_p1_p2"
      ],
      "execution_count": 142,
      "outputs": [
        {
          "output_type": "execute_result",
          "data": {
            "text/plain": [
              "3.605551275463989"
            ]
          },
          "metadata": {},
          "execution_count": 142
        }
      ]
    },
    {
      "cell_type": "code",
      "metadata": {
        "colab": {
          "base_uri": "https://localhost:8080/"
        },
        "id": "_Ujj4s9OdU_m",
        "outputId": "6a721133-d26e-4832-f33a-55b7f9722fa4"
      },
      "source": [
        "dist_p1_p2 = np.power(np.power(data1[0,0]-data1[1,0],2)+np.power(data1[0,1]-data1[1,1],2),0.5) #np.power คือ ยกกำลัง\n",
        "dist_p1_p2"
      ],
      "execution_count": 143,
      "outputs": [
        {
          "output_type": "execute_result",
          "data": {
            "text/plain": [
              "3.605551275463989"
            ]
          },
          "metadata": {},
          "execution_count": 143
        }
      ]
    },
    {
      "cell_type": "markdown",
      "metadata": {
        "id": "CQonyhKKewRz"
      },
      "source": [
        "dist(P2,P4)"
      ]
    },
    {
      "cell_type": "code",
      "metadata": {
        "colab": {
          "base_uri": "https://localhost:8080/"
        },
        "id": "uOiJxXIMeAhv",
        "outputId": "93ead289-180a-485e-a8d1-cb09e538fc77"
      },
      "source": [
        "dist_p1_p2 = np.sqrt(np.power(data1[1,0]-data1[3,0],2)+np.power(data1[1,1]-data1[3,1],2)) #np.power คือ ยกกำลัง\n",
        "dist_p1_p2"
      ],
      "execution_count": 144,
      "outputs": [
        {
          "output_type": "execute_result",
          "data": {
            "text/plain": [
              "1.0"
            ]
          },
          "metadata": {},
          "execution_count": 144
        }
      ]
    },
    {
      "cell_type": "markdown",
      "metadata": {
        "id": "XSMKiP7vf-yq"
      },
      "source": [
        "Distance Function"
      ]
    },
    {
      "cell_type": "markdown",
      "metadata": {
        "id": "hcmBl85WgxU9"
      },
      "source": [
        "p1 = [x,y]\n"
      ]
    },
    {
      "cell_type": "code",
      "metadata": {
        "id": "1GbDxf7VezL6"
      },
      "source": [
        "def dist_l2_2(p1,p2):\n",
        "    return np.sqrt(np.power(p1[0]-p2[0],2)+np.power(p1[1]-p2[1],2)) "
      ],
      "execution_count": 145,
      "outputs": []
    },
    {
      "cell_type": "code",
      "metadata": {
        "colab": {
          "base_uri": "https://localhost:8080/"
        },
        "id": "V-2xEdaNg1UX",
        "outputId": "b51b5957-21dd-4a7c-94ed-3dba651ff254"
      },
      "source": [
        "#P1 กับ P2\n",
        "dist_l2_2(data1[0,:],data1[1,:]) # data1[แถว1,ทุกๆหลัก],data1[แถว2,ทุกๆหลัก]"
      ],
      "execution_count": 146,
      "outputs": [
        {
          "output_type": "execute_result",
          "data": {
            "text/plain": [
              "3.605551275463989"
            ]
          },
          "metadata": {},
          "execution_count": 146
        }
      ]
    },
    {
      "cell_type": "code",
      "metadata": {
        "colab": {
          "base_uri": "https://localhost:8080/"
        },
        "id": "V9CNpBgMhEIZ",
        "outputId": "aa4aac23-f484-42ce-c466-4f1d84064f2a"
      },
      "source": [
        "dist_l2_2(data1[1,:],data1[3,:])  #จุดที่ 2 คือ 1 , จุดที่ 2 คือ 3"
      ],
      "execution_count": 147,
      "outputs": [
        {
          "output_type": "execute_result",
          "data": {
            "text/plain": [
              "1.0"
            ]
          },
          "metadata": {},
          "execution_count": 147
        }
      ]
    },
    {
      "cell_type": "markdown",
      "metadata": {
        "id": "P3O5LQrfh75_"
      },
      "source": [
        "dim = n "
      ]
    },
    {
      "cell_type": "code",
      "metadata": {
        "id": "yJvYMHSWhW0v"
      },
      "source": [
        "def dist_l2_n(p1,p2):\n",
        "    sum = 0\n",
        "    for i in range(len(p1)):\n",
        "        sum = sum + np.power(p1[i]-p2[i],2)\n",
        "    return np.sqrt(sum)"
      ],
      "execution_count": 148,
      "outputs": []
    },
    {
      "cell_type": "code",
      "metadata": {
        "colab": {
          "base_uri": "https://localhost:8080/"
        },
        "id": "2lYerfnvj0tP",
        "outputId": "e75a76e8-d24d-4cc1-9f24-18be900b8b19"
      },
      "source": [
        "dist_l2_n(data1[0,:],data1[1,:])"
      ],
      "execution_count": 149,
      "outputs": [
        {
          "output_type": "execute_result",
          "data": {
            "text/plain": [
              "3.605551275463989"
            ]
          },
          "metadata": {},
          "execution_count": 149
        }
      ]
    },
    {
      "cell_type": "markdown",
      "metadata": {
        "id": "18DSbPJikKZq"
      },
      "source": [
        "## Manhattan Distance (L1-norm)\n",
        "$|x_1-x_2|+|y_1-y_2|$"
      ]
    },
    {
      "cell_type": "markdown",
      "metadata": {
        "id": "9Fzs1DXFkg_N"
      },
      "source": [
        "Quiz6 เขียน function คำนวณ manhattan distance ของ ข้อมูล 2 dimensions"
      ]
    },
    {
      "cell_type": "code",
      "metadata": {
        "id": "RL4SE5tKlB-u"
      },
      "source": [
        "def dist_l1(p1,p2):\n",
        "   return (np.abs(p1[0] - p2[0]) + np.abs(p1[1] - p2[1]))"
      ],
      "execution_count": 150,
      "outputs": []
    },
    {
      "cell_type": "code",
      "metadata": {
        "colab": {
          "base_uri": "https://localhost:8080/"
        },
        "id": "98Lz_M8Zl5l-",
        "outputId": "4330a243-6b9b-4c4a-942b-ef40125879af"
      },
      "source": [
        "dist_l1(data1[0,:],data1[1,:])"
      ],
      "execution_count": 151,
      "outputs": [
        {
          "output_type": "execute_result",
          "data": {
            "text/plain": [
              "5"
            ]
          },
          "metadata": {},
          "execution_count": 151
        }
      ]
    },
    {
      "cell_type": "markdown",
      "metadata": {
        "id": "J-BiXfwjoybP"
      },
      "source": [
        "## HW11\n",
        "* Function คำนวณ manhattan distance ของ ข้อมูล N dimensions\n",
        "* Function คำนวณ L-$\\infty$ ของ ข้อมูล N dimensions\n",
        "* Function คำนวณ Distance Matrix ด้วย Euclidean Distance (bonus)"
      ]
    },
    {
      "cell_type": "markdown",
      "metadata": {
        "id": "A3DHHTNUZ7QA"
      },
      "source": [
        "\n",
        "**1. Function คำนวณ manhattan distance ของ ข้อมูล N**"
      ]
    },
    {
      "cell_type": "code",
      "metadata": {
        "id": "oSUMmuYWoW1d"
      },
      "source": [
        "def dist_l1_n(p1,p2):\n",
        "    sum = 0\n",
        "    for i in range(len(p1)):\n",
        "        sum = sum + np.abs(p1[i]-p2[i])\n",
        "    return sum"
      ],
      "execution_count": 152,
      "outputs": []
    },
    {
      "cell_type": "code",
      "metadata": {
        "id": "SVbFsSIRanK9",
        "colab": {
          "base_uri": "https://localhost:8080/"
        },
        "outputId": "f8579540-5787-4394-f7bd-c826938c49c0"
      },
      "source": [
        "dist_l1_n(data1[0,:],data1[1,:])"
      ],
      "execution_count": 153,
      "outputs": [
        {
          "output_type": "execute_result",
          "data": {
            "text/plain": [
              "5"
            ]
          },
          "metadata": {},
          "execution_count": 153
        }
      ]
    },
    {
      "cell_type": "code",
      "metadata": {
        "id": "6IPpTCvEayzO",
        "colab": {
          "base_uri": "https://localhost:8080/"
        },
        "outputId": "f1fc7454-444e-40af-bac5-04e843f16de6"
      },
      "source": [
        "dist_l1_n(data1[0,:],data1[3,:])"
      ],
      "execution_count": 154,
      "outputs": [
        {
          "output_type": "execute_result",
          "data": {
            "text/plain": [
              "6"
            ]
          },
          "metadata": {},
          "execution_count": 154
        }
      ]
    },
    {
      "cell_type": "markdown",
      "metadata": {
        "id": "uiWkY2STcMwT"
      },
      "source": [
        "**2. Function คำนวณ L- ∞ ของ ข้อมูล N dimensions**\n",
        "\n",
        "หาแกนที่มีค่ามากสุด\n",
        "\n"
      ]
    },
    {
      "cell_type": "markdown",
      "metadata": {
        "id": "gOrjC2OhkQ4F"
      },
      "source": [
        "$d = max|x_1-x_2|$"
      ]
    },
    {
      "cell_type": "code",
      "metadata": {
        "id": "mb1dZipscMW3"
      },
      "source": [
        "def dist_linfinity_n(p1,p2):\n",
        "    for i in range(len(p1)):\n",
        "        max = np.abs(p1[i] - p2[i])\n",
        "    return max"
      ],
      "execution_count": 155,
      "outputs": []
    },
    {
      "cell_type": "markdown",
      "metadata": {
        "id": "hTEQnS55ckYW"
      },
      "source": [
        "X1 กับ X2"
      ]
    },
    {
      "cell_type": "code",
      "metadata": {
        "id": "xwdwQJ4ScZSP",
        "colab": {
          "base_uri": "https://localhost:8080/"
        },
        "outputId": "e2a156e3-83b4-454d-8370-48a91cbb09af"
      },
      "source": [
        "dist_linfinity_n(data1[0,:],data1[1,:])"
      ],
      "execution_count": 156,
      "outputs": [
        {
          "output_type": "execute_result",
          "data": {
            "text/plain": [
              "3"
            ]
          },
          "metadata": {},
          "execution_count": 156
        }
      ]
    },
    {
      "cell_type": "markdown",
      "metadata": {
        "id": "MHqKonqBcvaV"
      },
      "source": [
        "X4 กับ X3"
      ]
    },
    {
      "cell_type": "code",
      "metadata": {
        "id": "uCts6aMzco3b",
        "colab": {
          "base_uri": "https://localhost:8080/"
        },
        "outputId": "cb5875d6-0396-45cd-e401-cdaf017c4bf2"
      },
      "source": [
        "dist_linfinity_n(data1[3,:],data1[2,:])"
      ],
      "execution_count": 157,
      "outputs": [
        {
          "output_type": "execute_result",
          "data": {
            "text/plain": [
              "5"
            ]
          },
          "metadata": {},
          "execution_count": 157
        }
      ]
    },
    {
      "cell_type": "markdown",
      "metadata": {
        "id": "GEdEG0NJdKUG"
      },
      "source": [
        "**3. Function คำนวณ Distance Matrix ด้วย Euclidean Distance (bonus)**"
      ]
    },
    {
      "cell_type": "code",
      "metadata": {
        "id": "hey7NnHgpZGf",
        "colab": {
          "base_uri": "https://localhost:8080/"
        },
        "outputId": "d948f41c-fe92-4b95-aa90-5920a0f83c90"
      },
      "source": [
        "from scipy.spatial import distance\n",
        "data1 = np.array([[1,2],[3,5],[2,0],[4,5]])\n",
        "d = distance.euclidean([1,3,2,4], [2,5,0,5])\n",
        "print(d)"
      ],
      "execution_count": 161,
      "outputs": [
        {
          "output_type": "stream",
          "name": "stdout",
          "text": [
            "3.1622776601683795\n"
          ]
        }
      ]
    },
    {
      "cell_type": "code",
      "metadata": {
        "id": "W2oJRugrq58I"
      },
      "source": [
        ""
      ],
      "execution_count": 158,
      "outputs": []
    }
  ]
}