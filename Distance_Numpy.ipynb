{
  "nbformat": 4,
  "nbformat_minor": 0,
  "metadata": {
    "colab": {
      "name": "Distance Numpy.ipynb",
      "provenance": [],
      "authorship_tag": "ABX9TyOK3HkOMewZFZzZBgcCv60m",
      "include_colab_link": true
    },
    "kernelspec": {
      "name": "python3",
      "display_name": "Python 3"
    },
    "language_info": {
      "name": "python"
    }
  },
  "cells": [
    {
      "cell_type": "markdown",
      "metadata": {
        "id": "view-in-github",
        "colab_type": "text"
      },
      "source": [
        "<a href=\"https://colab.research.google.com/github/pondbaahh/DWDM21/blob/main/Distance_Numpy.ipynb\" target=\"_parent\"><img src=\"https://colab.research.google.com/assets/colab-badge.svg\" alt=\"Open In Colab\"/></a>"
      ]
    },
    {
      "cell_type": "code",
      "metadata": {
        "id": "opPx8qYjcwCQ"
      },
      "source": [
        "import numpy as np # package สำหรับทำงานกับ ข้อมูลที่เป็นตัวเลข (อยู่ในรูปแบบ Matrix)"
      ],
      "execution_count": 1,
      "outputs": []
    },
    {
      "cell_type": "markdown",
      "metadata": {
        "id": "Zq1j7XcLdmTu"
      },
      "source": [
        "### Numpy Array"
      ]
    },
    {
      "cell_type": "markdown",
      "metadata": {
        "id": "p_uoARJ9fMDT"
      },
      "source": [
        "### สร้าง numpy array (matrix) จาก list"
      ]
    },
    {
      "cell_type": "code",
      "metadata": {
        "id": "XJf6PNtqdlta"
      },
      "source": [
        "np_a = np.array([[1,2,3],[4,5,6]]) #สร้าง numpy array ที่มี2 แถว 3 หลัก"
      ],
      "execution_count": 2,
      "outputs": []
    },
    {
      "cell_type": "code",
      "metadata": {
        "colab": {
          "base_uri": "https://localhost:8080/"
        },
        "id": "PjcLJyIyd8AE",
        "outputId": "6cd9cc1e-5c9e-4cc0-ac2b-a9ea0e0b4fd1"
      },
      "source": [
        "np_a"
      ],
      "execution_count": 3,
      "outputs": [
        {
          "output_type": "execute_result",
          "data": {
            "text/plain": [
              "array([[1, 2, 3],\n",
              "       [4, 5, 6]])"
            ]
          },
          "metadata": {},
          "execution_count": 3
        }
      ]
    },
    {
      "cell_type": "code",
      "metadata": {
        "colab": {
          "base_uri": "https://localhost:8080/"
        },
        "id": "6rr2RSxueSE1",
        "outputId": "790202ac-d9fc-4f09-e930-ab37409b14de"
      },
      "source": [
        "np_a.shape"
      ],
      "execution_count": 4,
      "outputs": [
        {
          "output_type": "execute_result",
          "data": {
            "text/plain": [
              "(2, 3)"
            ]
          },
          "metadata": {},
          "execution_count": 4
        }
      ]
    },
    {
      "cell_type": "code",
      "metadata": {
        "colab": {
          "base_uri": "https://localhost:8080/"
        },
        "id": "q6IUNlrXeViV",
        "outputId": "9cf5bb05-59d7-4747-fec5-84c2ac16b536"
      },
      "source": [
        "np_b = np.array([[1,4],[2,5],[3,6]])\n",
        "np_b"
      ],
      "execution_count": 5,
      "outputs": [
        {
          "output_type": "execute_result",
          "data": {
            "text/plain": [
              "array([[1, 4],\n",
              "       [2, 5],\n",
              "       [3, 6]])"
            ]
          },
          "metadata": {},
          "execution_count": 5
        }
      ]
    },
    {
      "cell_type": "markdown",
      "metadata": {
        "id": "j0W8_jBOfDZx"
      },
      "source": [
        "##matrix transpose"
      ]
    },
    {
      "cell_type": "code",
      "metadata": {
        "colab": {
          "base_uri": "https://localhost:8080/"
        },
        "id": "uuX9pf0ifHAY",
        "outputId": "51f7c950-9632-4e16-d8fd-01dcdf2aa464"
      },
      "source": [
        "np_a.T"
      ],
      "execution_count": 6,
      "outputs": [
        {
          "output_type": "execute_result",
          "data": {
            "text/plain": [
              "array([[1, 4],\n",
              "       [2, 5],\n",
              "       [3, 6]])"
            ]
          },
          "metadata": {},
          "execution_count": 6
        }
      ]
    },
    {
      "cell_type": "markdown",
      "metadata": {
        "id": "DFr0Pp-bfWgK"
      },
      "source": [
        "##สร้าง matrix เริ่มต้น (zeros,ones)"
      ]
    },
    {
      "cell_type": "code",
      "metadata": {
        "colab": {
          "base_uri": "https://localhost:8080/"
        },
        "id": "VoUJdi2zffKC",
        "outputId": "b3d2107f-e3e1-4b68-808d-a09f1485235e"
      },
      "source": [
        "np_z = np.zeros((4,5))\n",
        "np_z"
      ],
      "execution_count": 7,
      "outputs": [
        {
          "output_type": "execute_result",
          "data": {
            "text/plain": [
              "array([[0., 0., 0., 0., 0.],\n",
              "       [0., 0., 0., 0., 0.],\n",
              "       [0., 0., 0., 0., 0.],\n",
              "       [0., 0., 0., 0., 0.]])"
            ]
          },
          "metadata": {},
          "execution_count": 7
        }
      ]
    },
    {
      "cell_type": "code",
      "metadata": {
        "colab": {
          "base_uri": "https://localhost:8080/"
        },
        "id": "5Sqtxynsfl9v",
        "outputId": "bb772783-6b40-4a01-c5de-91a3233b64b2"
      },
      "source": [
        "np_o = np.ones((5,6))\n",
        "np_o"
      ],
      "execution_count": 8,
      "outputs": [
        {
          "output_type": "execute_result",
          "data": {
            "text/plain": [
              "array([[1., 1., 1., 1., 1., 1.],\n",
              "       [1., 1., 1., 1., 1., 1.],\n",
              "       [1., 1., 1., 1., 1., 1.],\n",
              "       [1., 1., 1., 1., 1., 1.],\n",
              "       [1., 1., 1., 1., 1., 1.]])"
            ]
          },
          "metadata": {},
          "execution_count": 8
        }
      ]
    },
    {
      "cell_type": "code",
      "metadata": {
        "colab": {
          "base_uri": "https://localhost:8080/"
        },
        "id": "mM50TLBTgE8_",
        "outputId": "85e3da43-b545-4d3a-aac5-45900cb4bb49"
      },
      "source": [
        "np_200 = 200*np.ones((4,7))\n",
        "np_200  # เอา 200 มาคูณ"
      ],
      "execution_count": 9,
      "outputs": [
        {
          "output_type": "execute_result",
          "data": {
            "text/plain": [
              "array([[200., 200., 200., 200., 200., 200., 200.],\n",
              "       [200., 200., 200., 200., 200., 200., 200.],\n",
              "       [200., 200., 200., 200., 200., 200., 200.],\n",
              "       [200., 200., 200., 200., 200., 200., 200.]])"
            ]
          },
          "metadata": {},
          "execution_count": 9
        }
      ]
    },
    {
      "cell_type": "markdown",
      "metadata": {
        "id": "UmFacYCrgZXL"
      },
      "source": [
        "## สร้าง Matrix random "
      ]
    },
    {
      "cell_type": "code",
      "metadata": {
        "colab": {
          "base_uri": "https://localhost:8080/"
        },
        "id": "F4bNa-wggOOK",
        "outputId": "e4a09897-9b69-4597-83fe-ab0d82046a98"
      },
      "source": [
        "np.random.randn(5,5)  #random เลขมาจาก normal distribution ที่มี mu=0 std=1"
      ],
      "execution_count": 10,
      "outputs": [
        {
          "output_type": "execute_result",
          "data": {
            "text/plain": [
              "array([[-1.73635469, -0.15628931, -2.0087119 , -0.71774411,  0.6564723 ],\n",
              "       [-0.4631657 , -0.48356118, -1.24445067, -0.38207644, -1.84491286],\n",
              "       [-0.20750712, -0.26252929, -0.51803288, -2.3425823 ,  0.27783607],\n",
              "       [ 1.39263749, -0.44225782,  0.87371615, -0.90425957,  1.08431454],\n",
              "       [-0.21245091, -0.77905572, -2.043865  ,  1.49167183, -0.14941097]])"
            ]
          },
          "metadata": {},
          "execution_count": 10
        }
      ]
    },
    {
      "cell_type": "code",
      "metadata": {
        "colab": {
          "base_uri": "https://localhost:8080/"
        },
        "id": "hhCTvLgTgy9a",
        "outputId": "45234674-7861-4f6c-8e42-cbb75cfc2f42"
      },
      "source": [
        "2+(5*np.random.randn(3,3)) #random เลขมาจาก normal distribution ที่มี mu=2 std=5"
      ],
      "execution_count": 11,
      "outputs": [
        {
          "output_type": "execute_result",
          "data": {
            "text/plain": [
              "array([[ 9.16091041,  0.97721909,  7.04223869],\n",
              "       [-6.81666328,  7.27505525,  4.24344548],\n",
              "       [ 4.52035883, -3.1634269 ,  2.24596721]])"
            ]
          },
          "metadata": {},
          "execution_count": 11
        }
      ]
    },
    {
      "cell_type": "code",
      "metadata": {
        "colab": {
          "base_uri": "https://localhost:8080/"
        },
        "id": "3Mkxd6VvhVbw",
        "outputId": "4ae32210-1501-488d-f7c0-c5d750844a5b"
      },
      "source": [
        "np.random.randint(5,11,(4,5)) #random เลขจำนวนเต็ม ระหว่าง[5,11] ขนาด (4x5)"
      ],
      "execution_count": 12,
      "outputs": [
        {
          "output_type": "execute_result",
          "data": {
            "text/plain": [
              "array([[ 5,  9,  8,  5,  5],\n",
              "       [ 6,  7,  5,  7, 10],\n",
              "       [ 9,  8,  7, 10,  5],\n",
              "       [ 9,  8,  6, 10, 10]])"
            ]
          },
          "metadata": {},
          "execution_count": 12
        }
      ]
    },
    {
      "cell_type": "markdown",
      "metadata": {
        "id": "UtCgA9jVOn2p"
      },
      "source": [
        "## matrix poroperties"
      ]
    },
    {
      "cell_type": "code",
      "metadata": {
        "id": "mWQdWIXkh8zI",
        "colab": {
          "base_uri": "https://localhost:8080/"
        },
        "outputId": "6f868479-22ec-4251-ffa8-0bd7b91cca0e"
      },
      "source": [
        "np_a"
      ],
      "execution_count": 13,
      "outputs": [
        {
          "output_type": "execute_result",
          "data": {
            "text/plain": [
              "array([[1, 2, 3],\n",
              "       [4, 5, 6]])"
            ]
          },
          "metadata": {},
          "execution_count": 13
        }
      ]
    },
    {
      "cell_type": "code",
      "metadata": {
        "id": "yixBmgxeOxt-",
        "colab": {
          "base_uri": "https://localhost:8080/"
        },
        "outputId": "0e848635-a9a9-4362-8ca9-96bcf2ed671d"
      },
      "source": [
        "np_a.T #ทำการ transpose"
      ],
      "execution_count": 14,
      "outputs": [
        {
          "output_type": "execute_result",
          "data": {
            "text/plain": [
              "array([[1, 4],\n",
              "       [2, 5],\n",
              "       [3, 6]])"
            ]
          },
          "metadata": {},
          "execution_count": 14
        }
      ]
    },
    {
      "cell_type": "code",
      "metadata": {
        "id": "7qERTz_tO4oh",
        "colab": {
          "base_uri": "https://localhost:8080/"
        },
        "outputId": "baff02cd-6207-431f-bd39-713c3cd93017"
      },
      "source": [
        "1 + np_a #เอาตัวเลขมาบวกกับ matrix"
      ],
      "execution_count": 15,
      "outputs": [
        {
          "output_type": "execute_result",
          "data": {
            "text/plain": [
              "array([[2, 3, 4],\n",
              "       [5, 6, 7]])"
            ]
          },
          "metadata": {},
          "execution_count": 15
        }
      ]
    },
    {
      "cell_type": "code",
      "metadata": {
        "id": "VWH9b4X_PEiN",
        "colab": {
          "base_uri": "https://localhost:8080/"
        },
        "outputId": "c3fe786b-869f-4fc8-9135-1e15d31e470b"
      },
      "source": [
        "2 * np_a #เอาตัวเลขมาคูณกับ matrix"
      ],
      "execution_count": 16,
      "outputs": [
        {
          "output_type": "execute_result",
          "data": {
            "text/plain": [
              "array([[ 2,  4,  6],\n",
              "       [ 8, 10, 12]])"
            ]
          },
          "metadata": {},
          "execution_count": 16
        }
      ]
    },
    {
      "cell_type": "code",
      "metadata": {
        "id": "h-1u8cgFPLpQ",
        "colab": {
          "base_uri": "https://localhost:8080/"
        },
        "outputId": "d0e1f005-eae1-4cb7-fb4d-a6876307aad3"
      },
      "source": [
        "np_c = np.array([[6,5,4],[3,2,1]])\n",
        "np_c"
      ],
      "execution_count": 17,
      "outputs": [
        {
          "output_type": "execute_result",
          "data": {
            "text/plain": [
              "array([[6, 5, 4],\n",
              "       [3, 2, 1]])"
            ]
          },
          "metadata": {},
          "execution_count": 17
        }
      ]
    },
    {
      "cell_type": "code",
      "metadata": {
        "id": "QIN609hmPbFR",
        "colab": {
          "base_uri": "https://localhost:8080/"
        },
        "outputId": "dd80aa32-3cbb-4fa7-cee8-cbb8625f001c"
      },
      "source": [
        "np_a + np_c #เอา matrix มาบวกกับ matrix"
      ],
      "execution_count": 18,
      "outputs": [
        {
          "output_type": "execute_result",
          "data": {
            "text/plain": [
              "array([[7, 7, 7],\n",
              "       [7, 7, 7]])"
            ]
          },
          "metadata": {},
          "execution_count": 18
        }
      ]
    },
    {
      "cell_type": "code",
      "metadata": {
        "id": "Z91rSmMhPmtx",
        "colab": {
          "base_uri": "https://localhost:8080/"
        },
        "outputId": "5f4c1806-4201-444f-f056-30f76ad1ad1a"
      },
      "source": [
        "np_a.shape #ดูขนาดได้ 2*3"
      ],
      "execution_count": 19,
      "outputs": [
        {
          "output_type": "execute_result",
          "data": {
            "text/plain": [
              "(2, 3)"
            ]
          },
          "metadata": {},
          "execution_count": 19
        }
      ]
    },
    {
      "cell_type": "code",
      "metadata": {
        "id": "PQ_9KREiQPPt",
        "colab": {
          "base_uri": "https://localhost:8080/"
        },
        "outputId": "0b27fe04-934c-4732-9bf4-7e81d9632d26"
      },
      "source": [
        "np_c.shape #ดูขนาดได้ 2*3"
      ],
      "execution_count": 20,
      "outputs": [
        {
          "output_type": "execute_result",
          "data": {
            "text/plain": [
              "(2, 3)"
            ]
          },
          "metadata": {},
          "execution_count": 20
        }
      ]
    },
    {
      "cell_type": "code",
      "metadata": {
        "id": "GEGzyfubQWQF",
        "colab": {
          "base_uri": "https://localhost:8080/",
          "height": 218
        },
        "outputId": "3d58f83c-385f-4cd3-d385-e7495c2ca2ae"
      },
      "source": [
        "np.dot(np_a,np_c) #การคูณ matrix (a,b) x (b,c) = (a,c)\n",
        "#หลักของตัวหน้า เท่า แถวของตัวหลัง ถึงคูณกันได้"
      ],
      "execution_count": 21,
      "outputs": [
        {
          "output_type": "error",
          "ename": "ValueError",
          "evalue": "ignored",
          "traceback": [
            "\u001b[0;31m---------------------------------------------------------------------------\u001b[0m",
            "\u001b[0;31mValueError\u001b[0m                                Traceback (most recent call last)",
            "\u001b[0;32m<ipython-input-21-318b3babc36c>\u001b[0m in \u001b[0;36m<module>\u001b[0;34m()\u001b[0m\n\u001b[0;32m----> 1\u001b[0;31m \u001b[0mnp\u001b[0m\u001b[0;34m.\u001b[0m\u001b[0mdot\u001b[0m\u001b[0;34m(\u001b[0m\u001b[0mnp_a\u001b[0m\u001b[0;34m,\u001b[0m\u001b[0mnp_c\u001b[0m\u001b[0;34m)\u001b[0m \u001b[0;31m#การคูณ matrix (a,b) x (b,c) = (a,c)\u001b[0m\u001b[0;34m\u001b[0m\u001b[0;34m\u001b[0m\u001b[0m\n\u001b[0m\u001b[1;32m      2\u001b[0m \u001b[0;31m#หลักของตัวหน้า เท่า แถวของตัวหลัง ถึงคูณกันได้\u001b[0m\u001b[0;34m\u001b[0m\u001b[0;34m\u001b[0m\u001b[0;34m\u001b[0m\u001b[0m\n",
            "\u001b[0;32m<__array_function__ internals>\u001b[0m in \u001b[0;36mdot\u001b[0;34m(*args, **kwargs)\u001b[0m\n",
            "\u001b[0;31mValueError\u001b[0m: shapes (2,3) and (2,3) not aligned: 3 (dim 1) != 2 (dim 0)"
          ]
        }
      ]
    },
    {
      "cell_type": "code",
      "metadata": {
        "id": "n0c81dLUQxh7",
        "colab": {
          "base_uri": "https://localhost:8080/"
        },
        "outputId": "a325e947-07fd-4323-e003-ed7d0926c759"
      },
      "source": [
        "np_c.T"
      ],
      "execution_count": 36,
      "outputs": [
        {
          "output_type": "execute_result",
          "data": {
            "text/plain": [
              "array([[6, 3],\n",
              "       [5, 2],\n",
              "       [4, 1]])"
            ]
          },
          "metadata": {},
          "execution_count": 36
        }
      ]
    },
    {
      "cell_type": "code",
      "metadata": {
        "id": "JR94mzUjRNVp",
        "colab": {
          "base_uri": "https://localhost:8080/"
        },
        "outputId": "46e32312-95ac-4799-c2ee-836a28fdbdb5"
      },
      "source": [
        "np.dot(np_a,np_c.T)  #การคูณ matrix (a,b) x (b,c) = (a,c)"
      ],
      "execution_count": 37,
      "outputs": [
        {
          "output_type": "execute_result",
          "data": {
            "text/plain": [
              "array([[28, 10],\n",
              "       [73, 28]])"
            ]
          },
          "metadata": {},
          "execution_count": 37
        }
      ]
    },
    {
      "cell_type": "markdown",
      "metadata": {
        "id": "nUzXrH88RXLJ"
      },
      "source": [
        "## Indexing & Slicing"
      ]
    },
    {
      "cell_type": "code",
      "metadata": {
        "id": "iXlwTaKnRdcp",
        "colab": {
          "base_uri": "https://localhost:8080/"
        },
        "outputId": "edc0ac13-9683-4d93-d993-eb02bc914e18"
      },
      "source": [
        "np_a # เริ่มจากแถว 0 ,1 หลัก 0,1,2"
      ],
      "execution_count": 38,
      "outputs": [
        {
          "output_type": "execute_result",
          "data": {
            "text/plain": [
              "array([[1, 2, 3],\n",
              "       [4, 5, 6]])"
            ]
          },
          "metadata": {},
          "execution_count": 38
        }
      ]
    },
    {
      "cell_type": "code",
      "metadata": {
        "id": "v-JA4m4lRiOG",
        "colab": {
          "base_uri": "https://localhost:8080/"
        },
        "outputId": "5b52c7ef-d006-47d6-80cc-a2c8a882fff1"
      },
      "source": [
        "np_a[1,1]"
      ],
      "execution_count": 39,
      "outputs": [
        {
          "output_type": "execute_result",
          "data": {
            "text/plain": [
              "5"
            ]
          },
          "metadata": {},
          "execution_count": 39
        }
      ]
    },
    {
      "cell_type": "code",
      "metadata": {
        "id": "fF-fOJbNSFxs",
        "colab": {
          "base_uri": "https://localhost:8080/"
        },
        "outputId": "6968d7e5-32d0-4468-8f05-5f5fbb09126e"
      },
      "source": [
        "np_a[:2,:2]"
      ],
      "execution_count": 40,
      "outputs": [
        {
          "output_type": "execute_result",
          "data": {
            "text/plain": [
              "array([[1, 2],\n",
              "       [4, 5]])"
            ]
          },
          "metadata": {},
          "execution_count": 40
        }
      ]
    },
    {
      "cell_type": "code",
      "metadata": {
        "id": "kHLvhU3JSV69",
        "colab": {
          "base_uri": "https://localhost:8080/"
        },
        "outputId": "c9bcd420-60ca-415c-a4b7-a1d70593cec4"
      },
      "source": [
        "np_a[0,:]"
      ],
      "execution_count": 41,
      "outputs": [
        {
          "output_type": "execute_result",
          "data": {
            "text/plain": [
              "array([1, 2, 3])"
            ]
          },
          "metadata": {},
          "execution_count": 41
        }
      ]
    },
    {
      "cell_type": "markdown",
      "metadata": {
        "id": "GkPvv96iSoPq"
      },
      "source": [
        "## Useful Functions"
      ]
    },
    {
      "cell_type": "code",
      "metadata": {
        "id": "Fh38GM4PS7xK",
        "colab": {
          "base_uri": "https://localhost:8080/"
        },
        "outputId": "c133cb7b-42d2-419f-e1b1-1e1d0977cb7f"
      },
      "source": [
        "np_a"
      ],
      "execution_count": 42,
      "outputs": [
        {
          "output_type": "execute_result",
          "data": {
            "text/plain": [
              "array([[1, 2, 3],\n",
              "       [4, 5, 6]])"
            ]
          },
          "metadata": {},
          "execution_count": 42
        }
      ]
    },
    {
      "cell_type": "code",
      "metadata": {
        "id": "YeWJlRdgSa-W",
        "colab": {
          "base_uri": "https://localhost:8080/"
        },
        "outputId": "9153e349-f8f0-474b-9f98-0b851f6c6040"
      },
      "source": [
        "np.sum(np_a) #การวมเลขของ np_a"
      ],
      "execution_count": 43,
      "outputs": [
        {
          "output_type": "execute_result",
          "data": {
            "text/plain": [
              "21"
            ]
          },
          "metadata": {},
          "execution_count": 43
        }
      ]
    },
    {
      "cell_type": "code",
      "metadata": {
        "id": "UhQkrO9AS9td",
        "colab": {
          "base_uri": "https://localhost:8080/"
        },
        "outputId": "aae0c0d2-4e87-4695-b59c-3171c4d04c9a"
      },
      "source": [
        "np.sum(np_a,axis=0) #axis คือการเอาค่าในแกนตั้งมารวมกัน"
      ],
      "execution_count": 44,
      "outputs": [
        {
          "output_type": "execute_result",
          "data": {
            "text/plain": [
              "array([5, 7, 9])"
            ]
          },
          "metadata": {},
          "execution_count": 44
        }
      ]
    },
    {
      "cell_type": "code",
      "metadata": {
        "id": "f37Q0xgaTWYU",
        "colab": {
          "base_uri": "https://localhost:8080/"
        },
        "outputId": "bbbbe611-e8c1-4769-f3cd-120d482700a8"
      },
      "source": [
        "np.sum(np_a,axis=1)#axis คือการเอาค่าในแกนนอนมารวมกัน"
      ],
      "execution_count": 45,
      "outputs": [
        {
          "output_type": "execute_result",
          "data": {
            "text/plain": [
              "array([ 6, 15])"
            ]
          },
          "metadata": {},
          "execution_count": 45
        }
      ]
    },
    {
      "cell_type": "code",
      "metadata": {
        "id": "FGgyJKcqTdRN",
        "colab": {
          "base_uri": "https://localhost:8080/"
        },
        "outputId": "e2e6d3dc-8195-4a7a-9b37-806d5bc42965"
      },
      "source": [
        "np.mean(np_a) #หาค่าmean"
      ],
      "execution_count": 46,
      "outputs": [
        {
          "output_type": "execute_result",
          "data": {
            "text/plain": [
              "3.5"
            ]
          },
          "metadata": {},
          "execution_count": 46
        }
      ]
    },
    {
      "cell_type": "code",
      "metadata": {
        "id": "4zXMcr2CTqEF",
        "colab": {
          "base_uri": "https://localhost:8080/"
        },
        "outputId": "488cfa05-f881-4ff5-d293-5fc8105a5011"
      },
      "source": [
        "np.mean(np_a,axis=0) #หา mean ของ column"
      ],
      "execution_count": 47,
      "outputs": [
        {
          "output_type": "execute_result",
          "data": {
            "text/plain": [
              "array([2.5, 3.5, 4.5])"
            ]
          },
          "metadata": {},
          "execution_count": 47
        }
      ]
    },
    {
      "cell_type": "markdown",
      "metadata": {
        "id": "TiK7hY-dVCx2"
      },
      "source": [
        "### วนลูปเอง"
      ]
    },
    {
      "cell_type": "markdown",
      "metadata": {
        "id": "w9ABiYdFVM79"
      },
      "source": [
        "summation"
      ]
    },
    {
      "cell_type": "code",
      "metadata": {
        "id": "fH9v7UvrWz8r",
        "colab": {
          "base_uri": "https://localhost:8080/"
        },
        "outputId": "75516b23-4823-4734-b427-e57300d76fff"
      },
      "source": [
        "np_a.shape"
      ],
      "execution_count": 48,
      "outputs": [
        {
          "output_type": "execute_result",
          "data": {
            "text/plain": [
              "(2, 3)"
            ]
          },
          "metadata": {},
          "execution_count": 48
        }
      ]
    },
    {
      "cell_type": "code",
      "metadata": {
        "id": "DNzQyLyfUNqy",
        "colab": {
          "base_uri": "https://localhost:8080/"
        },
        "outputId": "0870e506-0435-4d67-b1dc-e5f93b5fd09f"
      },
      "source": [
        "sum_all = 0\n",
        "\n",
        "for row in range(np_a.shape[0]):\n",
        "    for col in range(np_a.shape[1]):\n",
        "        sum_all = sum_all + np_a[row,col]\n",
        "        print(f'we are at row={row},col={col} np_a[{row},{col}]={np_a[row,col]} sum_all={sum_all}')\n",
        "print(sum_all)        "
      ],
      "execution_count": 49,
      "outputs": [
        {
          "output_type": "stream",
          "name": "stdout",
          "text": [
            "we are at row=0,col=0 np_a[0,0]=1 sum_all=1\n",
            "we are at row=0,col=1 np_a[0,1]=2 sum_all=3\n",
            "we are at row=0,col=2 np_a[0,2]=3 sum_all=6\n",
            "we are at row=1,col=0 np_a[1,0]=4 sum_all=10\n",
            "we are at row=1,col=1 np_a[1,1]=5 sum_all=15\n",
            "we are at row=1,col=2 np_a[1,2]=6 sum_all=21\n",
            "21\n"
          ]
        }
      ]
    },
    {
      "cell_type": "markdown",
      "metadata": {
        "id": "EFuPTm8JW-bC"
      },
      "source": [
        "np.sum(np_a,axis=0)"
      ]
    },
    {
      "cell_type": "code",
      "metadata": {
        "id": "I3jvfH6RW9Gl",
        "colab": {
          "base_uri": "https://localhost:8080/"
        },
        "outputId": "ccbfd640-0ed0-40a9-9806-0d9425c5313a"
      },
      "source": [
        "sum_all = np.zeros(np_a.shape[1])\n",
        "\n",
        "for row in range(np_a.shape[0]):\n",
        "    for col in range(np_a.shape[1]):\n",
        "        sum_all[col] = sum_all[col] + np_a[row,col]     \n",
        "print(sum_all) "
      ],
      "execution_count": 50,
      "outputs": [
        {
          "output_type": "stream",
          "name": "stdout",
          "text": [
            "[5. 7. 9.]\n"
          ]
        }
      ]
    },
    {
      "cell_type": "markdown",
      "metadata": {
        "id": "qspZHG2WYkdp"
      },
      "source": [
        "Quiz กลุ่ม\n",
        "\n",
        "วนลูปหาค่า\n",
        "\n",
        "\n",
        "* np.sum(np_a,axis=1) sukuna \n",
        "* np.mean(np_a) i love อ.ต้น \n",
        "* np.mean(np_a,axis=0) natashar \n",
        "* np.mean(np_a,axis=1) teletubby\n",
        "* np.max(np_a) numba one \n",
        "* np.max(np_a,axis=0) เอกาไร้สติ \n",
        "* np.max(np_a,axis=1) sandbox \n",
        "* np.min(np_a) ลูกหมี \n",
        "* np.min(np_a,axis=0) wakame \n",
        "* np.min(np_a,axis=1) แมวส้ม \n",
        "\n"
      ]
    },
    {
      "cell_type": "code",
      "metadata": {
        "id": "g4WywoBsX5-x",
        "colab": {
          "base_uri": "https://localhost:8080/"
        },
        "outputId": "caf39e5c-8602-4be1-e6ce-8c7778b063b3"
      },
      "source": [
        "sum_all = np.zeros(np_a.shape[0])\n",
        "\n",
        "for row in range(np_a.shape[0]):\n",
        "    for col in range(np_a.shape[1]):\n",
        "        sum_all[row] = sum_all[row] + np_a[row,col]     \n",
        "print(sum_all) "
      ],
      "execution_count": 51,
      "outputs": [
        {
          "output_type": "stream",
          "name": "stdout",
          "text": [
            "[ 6. 15.]\n"
          ]
        }
      ]
    },
    {
      "cell_type": "code",
      "metadata": {
        "id": "C0gUiExgnMAT",
        "colab": {
          "base_uri": "https://localhost:8080/"
        },
        "outputId": "ea690a02-265c-4180-b143-f93f007c46f0"
      },
      "source": [
        "#np.mean(np_a,axis=0)\n",
        "mean_all = np.zeros(np_a.shape[1])\n",
        "for row in range(np_a.shape[0]):\n",
        "     for col in range(np_a.shape[1]):\n",
        "          mean_all[col] = mean_all[col] + np_a[row,col]/np_a.shape[0]\n",
        "print(mean_all)"
      ],
      "execution_count": 52,
      "outputs": [
        {
          "output_type": "stream",
          "name": "stdout",
          "text": [
            "[2.5 3.5 4.5]\n"
          ]
        }
      ]
    },
    {
      "cell_type": "code",
      "metadata": {
        "id": "AHG8ouDunRw-",
        "colab": {
          "base_uri": "https://localhost:8080/"
        },
        "outputId": "c6120a91-230e-4b76-d452-14a141a9d760"
      },
      "source": [
        "#np.mean(np_a,axis=1)\n",
        "sum_all = np.zeros(np_a.shape[0])\n",
        "for row in range(np_a.shape[0]):\n",
        "    for col in range(np_a.shape[1]): \n",
        "        sum_all[row] = sum_all[row] + np_a[row,col]\n",
        "sum_all = sum_all/np_a.shape[1]\n",
        "print(sum_all)"
      ],
      "execution_count": 53,
      "outputs": [
        {
          "output_type": "stream",
          "name": "stdout",
          "text": [
            "[2. 5.]\n"
          ]
        }
      ]
    },
    {
      "cell_type": "code",
      "metadata": {
        "id": "IoWMA3WLnV0M",
        "colab": {
          "base_uri": "https://localhost:8080/"
        },
        "outputId": "14944e7b-a60f-4833-a77b-67842625d744"
      },
      "source": [
        "#np.max(np_a)\n",
        "max_a = -100000000\n",
        "for row in range(np_a.shape[0]):\n",
        "    for col in range(np_a.shape[1]):\n",
        "        if np_a[row,col] > max_a :\n",
        "            max_a = np_a[row,col]\n",
        "print(max_a)\n"
      ],
      "execution_count": 54,
      "outputs": [
        {
          "output_type": "stream",
          "name": "stdout",
          "text": [
            "6\n"
          ]
        }
      ]
    },
    {
      "cell_type": "code",
      "metadata": {
        "id": "nUEOughZnYZV",
        "colab": {
          "base_uri": "https://localhost:8080/"
        },
        "outputId": "211998a5-da49-4813-f4cb-54e30e84e689"
      },
      "source": [
        "### 10. np.min(np_a,axis=1)\n",
        "min_row = np.zeros(np_a.shape[0])\n",
        "for row in range(np_a.shape[0]):\n",
        "   min_row[row] = min(np_a[row,:])\n",
        "print(min_row)"
      ],
      "execution_count": 55,
      "outputs": [
        {
          "output_type": "stream",
          "name": "stdout",
          "text": [
            "[1. 4.]\n"
          ]
        }
      ]
    },
    {
      "cell_type": "code",
      "metadata": {
        "id": "ouFCnqxNncEg",
        "colab": {
          "base_uri": "https://localhost:8080/"
        },
        "outputId": "177f2011-803a-484b-e4ab-df606a69e6a0"
      },
      "source": [
        "# np.min(np_a,axis=0)\n",
        "min_all = np.zeros(np_a.shape[1])\n",
        "\n",
        "for col in range(np_a.shape[1]):\n",
        "    min_all[col] = min(np_a[:,col])\n",
        "print(min_all)"
      ],
      "execution_count": 56,
      "outputs": [
        {
          "output_type": "stream",
          "name": "stdout",
          "text": [
            "[1. 2. 3.]\n"
          ]
        }
      ]
    },
    {
      "cell_type": "code",
      "metadata": {
        "id": "64ZzlLxGnet9",
        "colab": {
          "base_uri": "https://localhost:8080/"
        },
        "outputId": "3ce24bc8-90bf-4294-9e75-4a51457e15b5"
      },
      "source": [
        "# np.min(np_a) \n",
        "minV = 100000\n",
        "for row in range(np_a.shape[0]):\n",
        "    for col in range(np_a.shape[1]):\n",
        "        if np_a[row,col] < minV:\n",
        "            minV = np_a[row,col]\n",
        "print(minV)"
      ],
      "execution_count": 57,
      "outputs": [
        {
          "output_type": "stream",
          "name": "stdout",
          "text": [
            "1\n"
          ]
        }
      ]
    },
    {
      "cell_type": "code",
      "metadata": {
        "id": "1ZC5QwLong6b",
        "colab": {
          "base_uri": "https://localhost:8080/"
        },
        "outputId": "b00e6259-6a3b-487f-c9e3-15fefcc41295"
      },
      "source": [
        "# np.max(np_a,axis=0)\n",
        "max_all = -100000 * np.ones(np_a.shape[1])\n",
        "for col in range(np_a.shape[1]):\n",
        "    for row in range(np_a.shape[0]):\n",
        "        if np_a[row,col] > max_all[col]: \n",
        "            max_all[col] = np_a[row,col]\n",
        "print(max_all)"
      ],
      "execution_count": 58,
      "outputs": [
        {
          "output_type": "stream",
          "name": "stdout",
          "text": [
            "[4. 5. 6.]\n"
          ]
        }
      ]
    },
    {
      "cell_type": "code",
      "metadata": {
        "id": "IJ-5O1yKnlR8",
        "colab": {
          "base_uri": "https://localhost:8080/"
        },
        "outputId": "9ebb40d7-c60a-410a-8724-94b57c9648f5"
      },
      "source": [
        "#np.mean(np_a)\n",
        "mean_all = 0\n",
        "for row in range(np_a.shape[0]):\n",
        "    for col in range(np_a.shape[1]):\n",
        "        mean_all = mean_all + np_a[row,col]\n",
        "mean_all = mean_all/(np_a.shape[0]*np_a.shape[1])\n",
        "print(mean_all)"
      ],
      "execution_count": 59,
      "outputs": [
        {
          "output_type": "stream",
          "name": "stdout",
          "text": [
            "3.5\n"
          ]
        }
      ]
    },
    {
      "cell_type": "code",
      "metadata": {
        "id": "Y0wHERUTnqEt",
        "colab": {
          "base_uri": "https://localhost:8080/"
        },
        "outputId": "b63ed9cc-dbbf-4358-d3c0-ad7fa31f68d5"
      },
      "source": [
        "# np.max(np_a,axis=1)\n",
        "max_all = np.zeros(np_a.shape[0])\n",
        "for row in range(np_a.shape[0]):\n",
        "    max_all[row] = max(np_a[row,:])\n",
        "print(max_all)"
      ],
      "execution_count": 60,
      "outputs": [
        {
          "output_type": "stream",
          "name": "stdout",
          "text": [
            "[3. 6.]\n"
          ]
        }
      ]
    },
    {
      "cell_type": "markdown",
      "metadata": {
        "id": "AGaLQLbcYmb7"
      },
      "source": [
        "### Distance Matrix"
      ]
    },
    {
      "cell_type": "code",
      "metadata": {
        "id": "pUfEcoG9oPPg",
        "colab": {
          "base_uri": "https://localhost:8080/"
        },
        "outputId": "5d89897e-cbde-4487-8715-417c634b155c"
      },
      "source": [
        "data1 = np.array([[1,2],[3,5],[2,0],[4,5]]) #สร้างจาก matrix จาก list\n",
        "data1  #4 แถว 2 column"
      ],
      "execution_count": 63,
      "outputs": [
        {
          "output_type": "execute_result",
          "data": {
            "text/plain": [
              "array([[1, 2],\n",
              "       [3, 5],\n",
              "       [2, 0],\n",
              "       [4, 5]])"
            ]
          },
          "metadata": {},
          "execution_count": 63
        }
      ]
    },
    {
      "cell_type": "code",
      "metadata": {
        "colab": {
          "base_uri": "https://localhost:8080/",
          "height": 283
        },
        "id": "v7y8l6wwZLnG",
        "outputId": "a93f44cb-4cbe-42d0-8ce3-d0484ceddb01"
      },
      "source": [
        "from matplotlib import pyplot as plt \n",
        "plt.scatter(data1[:,0],data1[:,1])  "
      ],
      "execution_count": 64,
      "outputs": [
        {
          "output_type": "execute_result",
          "data": {
            "text/plain": [
              "<matplotlib.collections.PathCollection at 0x7fa64fd2b5d0>"
            ]
          },
          "metadata": {},
          "execution_count": 64
        },
        {
          "output_type": "display_data",
          "data": {
            "image/png": "[encoded data removed]",
            "text/plain": [
              "<Figure size 432x288 with 1 Axes>"
            ]
          },
          "metadata": {
            "needs_background": "light"
          }
        }
      ]
    },
    {
      "cell_type": "markdown",
      "metadata": {
        "id": "-qzNvCTGaf7Y"
      },
      "source": [
        "## Euclidean Distance (L2-norm)\n",
        "$\\sqrt{(x_1-x_2)^2+(y_1-y_2)^2}$"
      ]
    },
    {
      "cell_type": "markdown",
      "metadata": {
        "id": "qFhfoBmteDVW"
      },
      "source": [
        "dist(P1,P2) หาระยะห่าง P1 กับ P1"
      ]
    },
    {
      "cell_type": "code",
      "metadata": {
        "colab": {
          "base_uri": "https://localhost:8080/"
        },
        "id": "UJNWCZuGZ_jF",
        "outputId": "0f45ca9e-5d3f-4799-b969-ed673509e598"
      },
      "source": [
        "dist_p1_p2 = np.sqrt(np.power(data1[0,0]-data1[1,0],2)+np.power(data1[0,1]-data1[1,1],2)) #np.power คือ ยกกำลัง\n",
        "dist_p1_p2"
      ],
      "execution_count": 66,
      "outputs": [
        {
          "output_type": "execute_result",
          "data": {
            "text/plain": [
              "3.605551275463989"
            ]
          },
          "metadata": {},
          "execution_count": 66
        }
      ]
    },
    {
      "cell_type": "code",
      "metadata": {
        "colab": {
          "base_uri": "https://localhost:8080/"
        },
        "id": "_Ujj4s9OdU_m",
        "outputId": "11e78a1f-b752-4d1c-e7e0-3c09de18629d"
      },
      "source": [
        "dist_p1_p2 = np.power(np.power(data1[0,0]-data1[1,0],2)+np.power(data1[0,1]-data1[1,1],2),0.5) #np.power คือ ยกกำลัง\n",
        "dist_p1_p2"
      ],
      "execution_count": 68,
      "outputs": [
        {
          "output_type": "execute_result",
          "data": {
            "text/plain": [
              "3.605551275463989"
            ]
          },
          "metadata": {},
          "execution_count": 68
        }
      ]
    },
    {
      "cell_type": "markdown",
      "metadata": {
        "id": "CQonyhKKewRz"
      },
      "source": [
        "dist(P2,P4)"
      ]
    },
    {
      "cell_type": "code",
      "metadata": {
        "colab": {
          "base_uri": "https://localhost:8080/"
        },
        "id": "uOiJxXIMeAhv",
        "outputId": "e13ebcaa-d188-4eb9-cfcc-cb338c0aef5d"
      },
      "source": [
        "dist_p1_p2 = np.sqrt(np.power(data1[1,0]-data1[3,0],2)+np.power(data1[1,1]-data1[3,1],2)) #np.power คือ ยกกำลัง\n",
        "dist_p1_p2"
      ],
      "execution_count": 69,
      "outputs": [
        {
          "output_type": "execute_result",
          "data": {
            "text/plain": [
              "1.0"
            ]
          },
          "metadata": {},
          "execution_count": 69
        }
      ]
    },
    {
      "cell_type": "markdown",
      "metadata": {
        "id": "XSMKiP7vf-yq"
      },
      "source": [
        "Distance Function"
      ]
    },
    {
      "cell_type": "markdown",
      "metadata": {
        "id": "hcmBl85WgxU9"
      },
      "source": [
        "p1 = [x,y]\n"
      ]
    },
    {
      "cell_type": "code",
      "metadata": {
        "id": "1GbDxf7VezL6"
      },
      "source": [
        "def dist_l2_2(p1,p2):\n",
        "    return np.sqrt(np.power(p1[0]-p2[0],2)+np.power(p1[1]-p2[1],2)) "
      ],
      "execution_count": 84,
      "outputs": []
    },
    {
      "cell_type": "code",
      "metadata": {
        "colab": {
          "base_uri": "https://localhost:8080/"
        },
        "id": "V-2xEdaNg1UX",
        "outputId": "a3a5be6e-f469-4046-c013-eefb4d524abf"
      },
      "source": [
        "#P1 กับ P2\n",
        "dist_l2_2(data1[0,:],data1[1,:]) # data1[แถว1,ทุกๆหลัก],data1[แถว2,ทุกๆหลัก]"
      ],
      "execution_count": 85,
      "outputs": [
        {
          "output_type": "execute_result",
          "data": {
            "text/plain": [
              "3.605551275463989"
            ]
          },
          "metadata": {},
          "execution_count": 85
        }
      ]
    },
    {
      "cell_type": "code",
      "metadata": {
        "colab": {
          "base_uri": "https://localhost:8080/"
        },
        "id": "V9CNpBgMhEIZ",
        "outputId": "073d693f-c485-44ef-cb9c-9fb86db68297"
      },
      "source": [
        "dist_l2_2(data1[1,:],data1[3,:])  #จุดที่ 2 คือ 1 , จุดที่ 2 คือ 3"
      ],
      "execution_count": 86,
      "outputs": [
        {
          "output_type": "execute_result",
          "data": {
            "text/plain": [
              "1.0"
            ]
          },
          "metadata": {},
          "execution_count": 86
        }
      ]
    },
    {
      "cell_type": "markdown",
      "metadata": {
        "id": "P3O5LQrfh75_"
      },
      "source": [
        "dim = n "
      ]
    },
    {
      "cell_type": "code",
      "metadata": {
        "id": "yJvYMHSWhW0v"
      },
      "source": [
        "def dist_l2_n(p1,p2):\n",
        "    sum = 0\n",
        "    for i in range(len(p1)):\n",
        "        sum = sum + np.power(p1[i]-p2[i],2)\n",
        "    return np.sqrt(sum)"
      ],
      "execution_count": 79,
      "outputs": []
    },
    {
      "cell_type": "code",
      "metadata": {
        "colab": {
          "base_uri": "https://localhost:8080/"
        },
        "id": "2lYerfnvj0tP",
        "outputId": "46037e8c-1261-41cd-e23b-de8d96bf1870"
      },
      "source": [
        "dist_l2_n(data1[0,:],data1[1,:])"
      ],
      "execution_count": 80,
      "outputs": [
        {
          "output_type": "execute_result",
          "data": {
            "text/plain": [
              "3.605551275463989"
            ]
          },
          "metadata": {},
          "execution_count": 80
        }
      ]
    },
    {
      "cell_type": "markdown",
      "metadata": {
        "id": "18DSbPJikKZq"
      },
      "source": [
        "## Manhattan Distance (L1-norm)\n",
        "$|x_1-x_2|+|y_1-y_2|$"
      ]
    },
    {
      "cell_type": "markdown",
      "metadata": {
        "id": "9Fzs1DXFkg_N"
      },
      "source": [
        "Quiz6 เขียน function คำนวณ manhattan distance ของ ข้อมูล 2 dimensions"
      ]
    },
    {
      "cell_type": "code",
      "metadata": {
        "id": "RL4SE5tKlB-u"
      },
      "source": [
        "def dist_l1(p1,p2):\n",
        "   return (np.abs(p1[0] - p2[0]) + np.abs(p1[1] - p2[1]))"
      ],
      "execution_count": 96,
      "outputs": []
    },
    {
      "cell_type": "code",
      "metadata": {
        "colab": {
          "base_uri": "https://localhost:8080/"
        },
        "id": "98Lz_M8Zl5l-",
        "outputId": "1bbda8a4-bc7a-425e-8dec-e0e5bcc74b8b"
      },
      "source": [
        "dist_l1(data1[0,:],data1[1,:])"
      ],
      "execution_count": 97,
      "outputs": [
        {
          "output_type": "execute_result",
          "data": {
            "text/plain": [
              "5"
            ]
          },
          "metadata": {},
          "execution_count": 97
        }
      ]
    },
    {
      "cell_type": "markdown",
      "metadata": {
        "id": "J-BiXfwjoybP"
      },
      "source": [
        "## HW11\n",
        "* Function คำนวณ manhattan distance ของ ข้อมูล N dimensions\n",
        "* Function คำนวณ L-$\\infty$ ของ ข้อมูล N dimensions\n",
        "* Function คำนวณ Distance Matrix ด้วย Euclidean Distance (bonus)"
      ]
    },
    {
      "cell_type": "code",
      "metadata": {
        "id": "oSUMmuYWoW1d"
      },
      "source": [
        ""
      ],
      "execution_count": null,
      "outputs": []
    }
  ]
}